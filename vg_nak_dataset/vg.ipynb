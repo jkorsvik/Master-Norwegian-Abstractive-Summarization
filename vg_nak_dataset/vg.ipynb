{
 "cells": [
  {
   "attachments": {},
   "cell_type": "markdown",
   "metadata": {},
   "source": [
    "Henter ut artikler og ingressen fra VG-artikler i Norsk Aviskorpus\n",
    "\n",
    "Artikler uten Ingress eller innhold (ofte bak betalingsmur) beholdes ikke\n",
    "\n",
    "URL, dato og kategorier beholdes og"
   ]
  },
  {
   "cell_type": "code",
   "execution_count": 215,
   "metadata": {},
   "outputs": [],
   "source": [
    "import tarfile\n",
    "import glob\n",
    "import os\n",
    "\n",
    "import xml.etree.ElementTree as ET\n",
    "\n",
    "import tqdm\n",
    "import pandas as pd\n"
   ]
  },
  {
   "cell_type": "code",
   "execution_count": 244,
   "metadata": {},
   "outputs": [
    {
     "name": "stdout",
     "output_type": "stream",
     "text": [
      "data\\nak_2018.tar\n",
      "data\\nak_2019.tar\n"
     ]
    }
   ],
   "source": [
    "for nak_file in glob.glob(\"data/*.tar\"):\n",
    "    print(nak_file)\n",
    "    with tarfile.open(nak_file, \"r\") as f:\n",
    "        f.extractall(\"data/extracted/\")"
   ]
  },
  {
   "cell_type": "code",
   "execution_count": 245,
   "metadata": {},
   "outputs": [],
   "source": [
    "for vg_nak in glob.glob(\"data/extracted/*/vg-*-nob.tar.gz\"):\n",
    "    with tarfile.open(vg_nak, \"r\") as f:\n",
    "        f.extractall(\"vg_nob_nak\")"
   ]
  },
  {
   "cell_type": "code",
   "execution_count": 247,
   "metadata": {},
   "outputs": [
    {
     "name": "stdout",
     "output_type": "stream",
     "text": [
      "46490 VG-artikler funnet\n"
     ]
    }
   ],
   "source": [
    "vg_articles = glob.glob(\"vg_nob_nak/*/VG*.xml\")\n",
    "print(f\"{len(vg_articles)} VG-artikler funnet\")"
   ]
  },
  {
   "cell_type": "code",
   "execution_count": 248,
   "metadata": {},
   "outputs": [],
   "source": [
    "def extract_from_xml(xml_tree):\n",
    "    article = \"\"\n",
    "    title = \"\"\n",
    "    url = \"\"\n",
    "    date = \"\"\n",
    "    classes = \"\"\n",
    "\n",
    "    div_elms = xml_tree.findall(\"*//div\")\n",
    "    for elm in div_elms:\n",
    "        div_type = elm.attrib.get(\"type\")\n",
    "        if div_type == \"ingress\":\n",
    "            ingress = elm.text.strip() if elm.text else None\n",
    "        elif div_type == \"text\":\n",
    "            sentences = elm.findall(\"p\")\n",
    "            article += \" \".join(sentence.text.strip() for sentence in sentences)\n",
    "        elif div_type == \"title\" and elm.attrib.get(\"level\") == \"1\":\n",
    "            title = elm.text.strip()\n",
    "\n",
    "    if not article or not ingress:\n",
    "        return None\n",
    "\n",
    "    attr_elms = xml_tree.findall(\"*//attribute\")\n",
    "    for elm in attr_elms:\n",
    "        attr_name = elm.attrib.get(\"name\")\n",
    "        if attr_name == \"url\":\n",
    "            url = elm.attrib.get(\"value\")\n",
    "        elif attr_name == \"date\":\n",
    "            date = elm.attrib.get(\"value\")\n",
    "        elif attr_name == \"class1\":\n",
    "            classes = elm.attrib.get(\"value\")\n",
    "\n",
    "\n",
    "    return {\"title\": title, \"url\": url, \"published\": date, \"classes\": classes, \"article\": article, \"ingress\": ingress}\n"
   ]
  },
  {
   "cell_type": "code",
   "execution_count": 251,
   "metadata": {},
   "outputs": [
    {
     "name": "stderr",
     "output_type": "stream",
     "text": [
      "100%|██████████| 90/90 [00:00<00:00, 114.70it/s]\n"
     ]
    }
   ],
   "source": [
    "vg_summarization_dataset = pd.DataFrame(columns=[\"title\", \"url\", \"published\", \"classes\", \"article\", \"ingress\"])\n",
    "\n",
    "for vg_article in tqdm.tqdm(vg_articles[]):\n",
    "    with open(vg_article, \"r\", encoding=\"utf-8\") as xml_file:\n",
    "        xml_tree = ET.fromstring(xml_file.read())\n",
    "        extracted = extract_from_xml(xml_tree)\n",
    "        if extracted:\n",
    "            vg_summarization_dataset.loc[len(vg_summarization_dataset)] = extracted\n"
   ]
  },
  {
   "cell_type": "code",
   "execution_count": 252,
   "metadata": {},
   "outputs": [
    {
     "data": {
      "text/html": [
       "<div>\n",
       "<style scoped>\n",
       "    .dataframe tbody tr th:only-of-type {\n",
       "        vertical-align: middle;\n",
       "    }\n",
       "\n",
       "    .dataframe tbody tr th {\n",
       "        vertical-align: top;\n",
       "    }\n",
       "\n",
       "    .dataframe thead th {\n",
       "        text-align: right;\n",
       "    }\n",
       "</style>\n",
       "<table border=\"1\" class=\"dataframe\">\n",
       "  <thead>\n",
       "    <tr style=\"text-align: right;\">\n",
       "      <th></th>\n",
       "      <th>title</th>\n",
       "      <th>url</th>\n",
       "      <th>published</th>\n",
       "      <th>classes</th>\n",
       "      <th>article</th>\n",
       "      <th>ingress</th>\n",
       "    </tr>\n",
       "  </thead>\n",
       "  <tbody>\n",
       "    <tr>\n",
       "      <th>0</th>\n",
       "      <td>Illsint elgokse jaget mann opp i tre: - Truende</td>\n",
       "      <td>http://www.vg.no/nyheter/innenriks/i/4qKvj6/il...</td>\n",
       "      <td>2019-12-29 17:58</td>\n",
       "      <td>nyheter,innenriks</td>\n",
       "      <td>Klokken 9.30 ringte det i nødtelefonen hos pol...</td>\n",
       "      <td>En mann i 60-åra så seg nødt til å klatre opp ...</td>\n",
       "    </tr>\n",
       "    <tr>\n",
       "      <th>1</th>\n",
       "      <td>Islandsk målmaskin skjøt gullet hjem: Vil vinn...</td>\n",
       "      <td>http://www.vg.no/sport/haandball/i/mRna64/isla...</td>\n",
       "      <td>2019-12-29 20:23</td>\n",
       "      <td>sport,haandball</td>\n",
       "      <td>– Jeg vil veldig gjerne vinne trippelt før jeg...</td>\n",
       "      <td>OSLO SPEKTRUM (VG) (Haslum-Elverum 33 – 35) Ch...</td>\n",
       "    </tr>\n",
       "    <tr>\n",
       "      <th>2</th>\n",
       "      <td>Iversen reiser hjem fra Tour de Ski: - Tungt å...</td>\n",
       "      <td>http://www.vg.no/sport/langrenn/i/lAWbBA/ivers...</td>\n",
       "      <td>2019-12-29 16:25</td>\n",
       "      <td>sport,langrenn</td>\n",
       "      <td>Skiforbundet skriver i en melding at han reise...</td>\n",
       "      <td>LENZERHEIDE (VG) Emil Iversen (28) må reise hj...</td>\n",
       "    </tr>\n",
       "    <tr>\n",
       "      <th>3</th>\n",
       "      <td>Joe Biden om riksrettssaken: – Ikke rettslig g...</td>\n",
       "      <td>http://www.vg.no/nyheter/utenriks/i/kJLb1L/joe...</td>\n",
       "      <td>2019-12-29 07:23</td>\n",
       "      <td>nyheter,utenriks</td>\n",
       "      <td>– Jeg vil hedre det Kongressen rettmessig ber ...</td>\n",
       "      <td>Tidligere visepresident Joe Biden fastholder a...</td>\n",
       "    </tr>\n",
       "    <tr>\n",
       "      <th>4</th>\n",
       "      <td>Kjempebrøler av keeper da Arsenal raknet i Art...</td>\n",
       "      <td>http://www.vg.no/sport/fotball/i/2G0Kna/kjempe...</td>\n",
       "      <td>2019-12-29 18:58</td>\n",
       "      <td>sport,fotball</td>\n",
       "      <td>Tyske Bernd Leno feilberegnet innsvingeren fra...</td>\n",
       "      <td>(Arsenal - Chelsea 1 – 2) Arsenal så ut til å ...</td>\n",
       "    </tr>\n",
       "    <tr>\n",
       "      <th>...</th>\n",
       "      <td>...</td>\n",
       "      <td>...</td>\n",
       "      <td>...</td>\n",
       "      <td>...</td>\n",
       "      <td>...</td>\n",
       "      <td>...</td>\n",
       "    </tr>\n",
       "    <tr>\n",
       "      <th>78</th>\n",
       "      <td>Michelle Williams (39) er gravid – og forlovet...</td>\n",
       "      <td>http://www.vg.no/rampelys/i/Jo2Gm4/michelle-wi...</td>\n",
       "      <td>2019-12-31 08:11</td>\n",
       "      <td>rampelys</td>\n",
       "      <td>Nyheten om at Michelle Williams er gravid, bek...</td>\n",
       "      <td>«Dawson’s Creek»-skuespilleren har forlovet se...</td>\n",
       "    </tr>\n",
       "    <tr>\n",
       "      <th>79</th>\n",
       "      <td>Nyttårstrafikken: Sterk vind og glatte veier f...</td>\n",
       "      <td>http://www.vg.no/nyheter/innenriks/i/6jvdE3/ny...</td>\n",
       "      <td>2019-12-31 08:20</td>\n",
       "      <td>nyheter,innenriks</td>\n",
       "      <td>Tirsdag morgen melder flere politidistrikt om ...</td>\n",
       "      <td>2019 ser ut til å bli avsluttet med mye vind o...</td>\n",
       "    </tr>\n",
       "    <tr>\n",
       "      <th>80</th>\n",
       "      <td>Raus med skrytet</td>\n",
       "      <td>http://www.vg.no/nyheter/meninger/i/pLEb7W/rau...</td>\n",
       "      <td>2019-12-31 06:31</td>\n",
       "      <td>nyheter,meninger</td>\n",
       "      <td>På årets siste dag er det mange å ta farvel me...</td>\n",
       "      <td>Monica Mæland mener kommunereformen står til t...</td>\n",
       "    </tr>\n",
       "    <tr>\n",
       "      <th>81</th>\n",
       "      <td>Skogbrannene i Australia: Setter inn militærhe...</td>\n",
       "      <td>http://www.vg.no/nyheter/utenriks/i/pLEmvW/sko...</td>\n",
       "      <td>2019-12-31 07:49</td>\n",
       "      <td>nyheter,utenriks</td>\n",
       "      <td>I Mallacoota, sør i delstaten Victoria, har fo...</td>\n",
       "      <td>SYDNEY/OSLO (VG) Skogbrannene i Australia fort...</td>\n",
       "    </tr>\n",
       "    <tr>\n",
       "      <th>82</th>\n",
       "      <td>Tour-pengesekken nesten halvert: Norsk trener ...</td>\n",
       "      <td>http://www.vg.no/sport/langrenn/i/BR2nGw/tour-...</td>\n",
       "      <td>2019-12-31 09:05</td>\n",
       "      <td>sport,langrenn</td>\n",
       "      <td>For det er ikke bare sammenlagtvinnerne som De...</td>\n",
       "      <td>TOBLACH (VG) Tour de Ski ble kjent som en gull...</td>\n",
       "    </tr>\n",
       "  </tbody>\n",
       "</table>\n",
       "<p>83 rows × 6 columns</p>\n",
       "</div>"
      ],
      "text/plain": [
       "                                                title  \\\n",
       "0     Illsint elgokse jaget mann opp i tre: - Truende   \n",
       "1   Islandsk målmaskin skjøt gullet hjem: Vil vinn...   \n",
       "2   Iversen reiser hjem fra Tour de Ski: - Tungt å...   \n",
       "3   Joe Biden om riksrettssaken: – Ikke rettslig g...   \n",
       "4   Kjempebrøler av keeper da Arsenal raknet i Art...   \n",
       "..                                                ...   \n",
       "78  Michelle Williams (39) er gravid – og forlovet...   \n",
       "79  Nyttårstrafikken: Sterk vind og glatte veier f...   \n",
       "80                                   Raus med skrytet   \n",
       "81  Skogbrannene i Australia: Setter inn militærhe...   \n",
       "82  Tour-pengesekken nesten halvert: Norsk trener ...   \n",
       "\n",
       "                                                  url         published  \\\n",
       "0   http://www.vg.no/nyheter/innenriks/i/4qKvj6/il...  2019-12-29 17:58   \n",
       "1   http://www.vg.no/sport/haandball/i/mRna64/isla...  2019-12-29 20:23   \n",
       "2   http://www.vg.no/sport/langrenn/i/lAWbBA/ivers...  2019-12-29 16:25   \n",
       "3   http://www.vg.no/nyheter/utenriks/i/kJLb1L/joe...  2019-12-29 07:23   \n",
       "4   http://www.vg.no/sport/fotball/i/2G0Kna/kjempe...  2019-12-29 18:58   \n",
       "..                                                ...               ...   \n",
       "78  http://www.vg.no/rampelys/i/Jo2Gm4/michelle-wi...  2019-12-31 08:11   \n",
       "79  http://www.vg.no/nyheter/innenriks/i/6jvdE3/ny...  2019-12-31 08:20   \n",
       "80  http://www.vg.no/nyheter/meninger/i/pLEb7W/rau...  2019-12-31 06:31   \n",
       "81  http://www.vg.no/nyheter/utenriks/i/pLEmvW/sko...  2019-12-31 07:49   \n",
       "82  http://www.vg.no/sport/langrenn/i/BR2nGw/tour-...  2019-12-31 09:05   \n",
       "\n",
       "              classes                                            article  \\\n",
       "0   nyheter,innenriks  Klokken 9.30 ringte det i nødtelefonen hos pol...   \n",
       "1     sport,haandball  – Jeg vil veldig gjerne vinne trippelt før jeg...   \n",
       "2      sport,langrenn  Skiforbundet skriver i en melding at han reise...   \n",
       "3    nyheter,utenriks  – Jeg vil hedre det Kongressen rettmessig ber ...   \n",
       "4       sport,fotball  Tyske Bernd Leno feilberegnet innsvingeren fra...   \n",
       "..                ...                                                ...   \n",
       "78           rampelys  Nyheten om at Michelle Williams er gravid, bek...   \n",
       "79  nyheter,innenriks  Tirsdag morgen melder flere politidistrikt om ...   \n",
       "80   nyheter,meninger  På årets siste dag er det mange å ta farvel me...   \n",
       "81   nyheter,utenriks  I Mallacoota, sør i delstaten Victoria, har fo...   \n",
       "82     sport,langrenn  For det er ikke bare sammenlagtvinnerne som De...   \n",
       "\n",
       "                                              ingress  \n",
       "0   En mann i 60-åra så seg nødt til å klatre opp ...  \n",
       "1   OSLO SPEKTRUM (VG) (Haslum-Elverum 33 – 35) Ch...  \n",
       "2   LENZERHEIDE (VG) Emil Iversen (28) må reise hj...  \n",
       "3   Tidligere visepresident Joe Biden fastholder a...  \n",
       "4   (Arsenal - Chelsea 1 – 2) Arsenal så ut til å ...  \n",
       "..                                                ...  \n",
       "78  «Dawson’s Creek»-skuespilleren har forlovet se...  \n",
       "79  2019 ser ut til å bli avsluttet med mye vind o...  \n",
       "80  Monica Mæland mener kommunereformen står til t...  \n",
       "81  SYDNEY/OSLO (VG) Skogbrannene i Australia fort...  \n",
       "82  TOBLACH (VG) Tour de Ski ble kjent som en gull...  \n",
       "\n",
       "[83 rows x 6 columns]"
      ]
     },
     "execution_count": 252,
     "metadata": {},
     "output_type": "execute_result"
    }
   ],
   "source": [
    "vg_summarization_dataset"
   ]
  },
  {
   "cell_type": "code",
   "execution_count": 238,
   "metadata": {},
   "outputs": [],
   "source": [
    "vg_summarization_dataset.to_csv(\"test.csv\")"
   ]
  },
  {
   "cell_type": "code",
   "execution_count": null,
   "metadata": {},
   "outputs": [],
   "source": []
  }
 ],
 "metadata": {
  "kernelspec": {
   "display_name": "base",
   "language": "python",
   "name": "python3"
  },
  "language_info": {
   "codemirror_mode": {
    "name": "ipython",
    "version": 3
   },
   "file_extension": ".py",
   "mimetype": "text/x-python",
   "name": "python",
   "nbconvert_exporter": "python",
   "pygments_lexer": "ipython3",
   "version": "3.8.13"
  },
  "orig_nbformat": 4,
  "vscode": {
   "interpreter": {
    "hash": "64c454191da68aae78a1958feb08cae1f714f347888099e6a2df204eeb298eaa"
   }
  }
 },
 "nbformat": 4,
 "nbformat_minor": 2
}
