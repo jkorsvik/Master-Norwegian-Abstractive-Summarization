{
 "cells": [
  {
   "attachments": {},
   "cell_type": "markdown",
   "metadata": {},
   "source": [
    "Henter ut artikler og ingressen fra VG-artikler i Norsk Aviskorpus\n",
    "\n",
    "Artikler uten Ingress eller innhold (ofte bak betalingsmur) beholdes ikke\n",
    "\n",
    "URL, dato og kategorier beholdes og"
   ]
  },
  {
   "cell_type": "code",
   "execution_count": 2,
   "metadata": {},
   "outputs": [],
   "source": [
    "import tarfile\n",
    "import glob\n",
    "import os\n",
    "\n",
    "import xml.etree.ElementTree as ET\n",
    "\n",
    "import tqdm\n",
    "import pandas as pd\n"
   ]
  },
  {
   "cell_type": "code",
   "execution_count": 3,
   "metadata": {},
   "outputs": [
    {
     "name": "stdout",
     "output_type": "stream",
     "text": [
      "data\\nak_2012.tar\n",
      "data\\nak_2013.tar\n",
      "data\\nak_2014.tar\n",
      "data\\nak_2015.tar\n",
      "data\\nak_2016.tar\n",
      "data\\nak_2017.tar\n",
      "data\\nak_2018.tar\n",
      "data\\nak_2019.tar\n"
     ]
    }
   ],
   "source": [
    "for nak_file in glob.glob(\"data/*.tar\"):\n",
    "    print(nak_file)\n",
    "    with tarfile.open(nak_file, \"r\") as f:\n",
    "        f.extractall(\"data/extracted/\")"
   ]
  },
  {
   "cell_type": "code",
   "execution_count": 5,
   "metadata": {},
   "outputs": [
    {
     "name": "stderr",
     "output_type": "stream",
     "text": [
      "100%|██████████| 8/8 [04:00<00:00, 30.04s/it]\n"
     ]
    }
   ],
   "source": [
    "for vg_nak in tqdm.tqdm(glob.glob(\"data/extracted/*/vg-*-nob.tar.gz\")):\n",
    "    with tarfile.open(vg_nak, \"r\") as f:\n",
    "        f.extractall(\"vg_nob_nak\")"
   ]
  },
  {
   "cell_type": "code",
   "execution_count": 6,
   "metadata": {},
   "outputs": [
    {
     "name": "stdout",
     "output_type": "stream",
     "text": [
      "195777 VG-artikler funnet\n"
     ]
    }
   ],
   "source": [
    "vg_articles = glob.glob(\"vg_nob_nak/*/VG*.xml\")\n",
    "print(f\"{len(vg_articles)} VG-artikler funnet\")"
   ]
  },
  {
   "cell_type": "code",
   "execution_count": 7,
   "metadata": {},
   "outputs": [],
   "source": [
    "def extract_from_xml(xml_tree):\n",
    "    article = \"\"\n",
    "    title = \"\"\n",
    "    url = \"\"\n",
    "    date = \"\"\n",
    "    classes = \"\"\n",
    "\n",
    "    div_elms = xml_tree.findall(\"*//div\")\n",
    "    for elm in div_elms:\n",
    "        div_type = elm.attrib.get(\"type\")\n",
    "        if div_type == \"ingress\":\n",
    "            ingress = elm.text.strip() if elm.text else None\n",
    "        elif div_type == \"text\":\n",
    "            sentences = elm.findall(\"p\")\n",
    "            article += \" \".join(sentence.text.strip() for sentence in sentences)\n",
    "        elif div_type == \"title\" and elm.attrib.get(\"level\") == \"1\":\n",
    "            title = elm.text.strip()\n",
    "\n",
    "    if not article or not ingress:\n",
    "        return None\n",
    "\n",
    "    attr_elms = xml_tree.findall(\"*//attribute\")\n",
    "    for elm in attr_elms:\n",
    "        attr_name = elm.attrib.get(\"name\")\n",
    "        if attr_name == \"url\":\n",
    "            url = elm.attrib.get(\"value\")\n",
    "        elif attr_name == \"date\":\n",
    "            date = elm.attrib.get(\"value\")\n",
    "        elif attr_name == \"class1\":\n",
    "            classes = elm.attrib.get(\"value\")\n",
    "\n",
    "\n",
    "    return {\"title\": title, \"url\": url, \"published\": date, \"classes\": classes, \"article\": article, \"ingress\": ingress}\n"
   ]
  },
  {
   "cell_type": "code",
   "execution_count": 14,
   "metadata": {},
   "outputs": [
    {
     "name": "stderr",
     "output_type": "stream",
     "text": [
      " 12%|█▏        | 23012/195777 [01:56<24:15, 118.72it/s]"
     ]
    },
    {
     "name": "stdout",
     "output_type": "stream",
     "text": [
      "vg_nob_nak\\vg-2012-nob\\VG-20120926-10046247.xml\n",
      "undefined entity &euro;: line 43, column 33\n"
     ]
    },
    {
     "name": "stderr",
     "output_type": "stream",
     "text": [
      " 18%|█▊        | 35350/195777 [05:20<49:25, 54.09it/s]  "
     ]
    },
    {
     "name": "stdout",
     "output_type": "stream",
     "text": [
      "vg_nob_nak\\vg-2013-nob\\VG-20130220-10100892.xml\n",
      "undefined entity &euro;: line 44, column 44\n"
     ]
    },
    {
     "name": "stderr",
     "output_type": "stream",
     "text": [
      " 20%|██        | 40043/195777 [07:00<48:31, 53.50it/s]  "
     ]
    },
    {
     "name": "stdout",
     "output_type": "stream",
     "text": [
      "vg_nob_nak\\vg-2013-nob\\VG-20130416-10109427.xml\n",
      "undefined entity &euro;: line 25, column 6\n"
     ]
    },
    {
     "name": "stderr",
     "output_type": "stream",
     "text": [
      " 35%|███▍      | 67845/195777 [19:16<1:08:40, 31.05it/s]"
     ]
    },
    {
     "name": "stdout",
     "output_type": "stream",
     "text": [
      "vg_nob_nak\\vg-2014-nob\\VG-20140819-23277706.xml\n",
      "undefined entity &euro;: line 25, column 45\n"
     ]
    },
    {
     "name": "stderr",
     "output_type": "stream",
     "text": [
      "100%|██████████| 195777/195777 [1:48:13<00:00, 30.15it/s]  \n"
     ]
    }
   ],
   "source": [
    "vg_summarization_dataset = pd.DataFrame(columns=[\"title\", \"url\", \"published\", \"classes\", \"article\", \"ingress\"])\n",
    "\n",
    "for vg_article in tqdm.tqdm(vg_articles):\n",
    "    with open(vg_article, \"r\", encoding=\"utf-8\") as xml_file:\n",
    "        try:\n",
    "            xml_tree = ET.fromstring(xml_file.read())\n",
    "        except Exception as e:\n",
    "            print(vg_article)\n",
    "            print(e)\n",
    "        extracted = extract_from_xml(xml_tree)\n",
    "        if extracted:\n",
    "            vg_summarization_dataset.loc[len(vg_summarization_dataset)] = extracted\n"
   ]
  },
  {
   "cell_type": "code",
   "execution_count": 16,
   "metadata": {},
   "outputs": [],
   "source": [
    "vg_summarization_dataset.to_csv(\"vg_summarization.csv\")"
   ]
  },
  {
   "cell_type": "markdown",
   "metadata": {},
   "source": []
  },
  {
   "cell_type": "code",
   "execution_count": null,
   "metadata": {},
   "outputs": [],
   "source": []
  }
 ],
 "metadata": {
  "kernelspec": {
   "display_name": "base",
   "language": "python",
   "name": "python3"
  },
  "language_info": {
   "codemirror_mode": {
    "name": "ipython",
    "version": 3
   },
   "file_extension": ".py",
   "mimetype": "text/x-python",
   "name": "python",
   "nbconvert_exporter": "python",
   "pygments_lexer": "ipython3",
   "version": "3.8.13"
  },
  "orig_nbformat": 4,
  "vscode": {
   "interpreter": {
    "hash": "64c454191da68aae78a1958feb08cae1f714f347888099e6a2df204eeb298eaa"
   }
  }
 },
 "nbformat": 4,
 "nbformat_minor": 2
}
