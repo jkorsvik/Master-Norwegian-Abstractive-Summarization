{
 "cells": [
  {
   "attachments": {},
   "cell_type": "markdown",
   "metadata": {},
   "source": [
    "Henter ut artikler og ingressen fra VG-artikler i Norsk Aviskorpus\n",
    "\n",
    "Artikler uten Ingress eller innhold (ofte bak betalingsmur) beholdes ikke\n",
    "\n",
    "URL, dato og kategorier beholdes og"
   ]
  },
  {
   "cell_type": "code",
   "execution_count": 2,
   "metadata": {},
   "outputs": [],
   "source": [
    "import tarfile\n",
    "import glob\n",
    "import os\n",
    "\n",
    "import xml.etree.ElementTree as ET\n",
    "\n",
    "import tqdm\n",
    "import pandas as pd\n"
   ]
  },
  {
   "cell_type": "code",
   "execution_count": 3,
   "metadata": {},
   "outputs": [
    {
     "name": "stdout",
     "output_type": "stream",
     "text": [
      "data\\nak_2012.tar\n",
      "data\\nak_2013.tar\n",
      "data\\nak_2014.tar\n",
      "data\\nak_2015.tar\n",
      "data\\nak_2016.tar\n",
      "data\\nak_2017.tar\n",
      "data\\nak_2018.tar\n",
      "data\\nak_2019.tar\n"
     ]
    }
   ],
   "source": [
    "for nak_file in glob.glob(\"data/*.tar\"):\n",
    "    print(nak_file)\n",
    "    with tarfile.open(nak_file, \"r\") as f:\n",
    "        f.extractall(\"data/extracted/\")"
   ]
  },
  {
   "cell_type": "code",
   "execution_count": 5,
   "metadata": {},
   "outputs": [
    {
     "name": "stderr",
     "output_type": "stream",
     "text": [
      "100%|██████████| 8/8 [04:00<00:00, 30.04s/it]\n"
     ]
    }
   ],
   "source": [
    "for vg_nak in tqdm.tqdm(glob.glob(\"data/extracted/*/vg-*-nob.tar.gz\")):\n",
    "    with tarfile.open(vg_nak, \"r\") as f:\n",
    "        f.extractall(\"vg_nob_nak\")"
   ]
  },
  {
   "cell_type": "code",
   "execution_count": 6,
   "metadata": {},
   "outputs": [
    {
     "name": "stdout",
     "output_type": "stream",
     "text": [
      "195777 VG-artikler funnet\n"
     ]
    }
   ],
   "source": [
    "vg_articles = glob.glob(\"vg_nob_nak/*/VG*.xml\")\n",
    "print(f\"{len(vg_articles)} VG-artikler funnet\")"
   ]
  },
  {
   "cell_type": "code",
   "execution_count": 7,
   "metadata": {},
   "outputs": [],
   "source": [
    "def extract_from_xml(xml_tree):\n",
    "    article = \"\"\n",
    "    title = \"\"\n",
    "    url = \"\"\n",
    "    date = \"\"\n",
    "    classes = \"\"\n",
    "\n",
    "    div_elms = xml_tree.findall(\"*//div\")\n",
    "    for elm in div_elms:\n",
    "        div_type = elm.attrib.get(\"type\")\n",
    "        if div_type == \"ingress\":\n",
    "            ingress = elm.text.strip() if elm.text else None\n",
    "        elif div_type == \"text\":\n",
    "            sentences = elm.findall(\"p\")\n",
    "            article += \" \".join(sentence.text.strip() for sentence in sentences)\n",
    "        elif div_type == \"title\" and elm.attrib.get(\"level\") == \"1\":\n",
    "            title = elm.text.strip()\n",
    "\n",
    "    if not article or not ingress:\n",
    "        return None\n",
    "\n",
    "    attr_elms = xml_tree.findall(\"*//attribute\")\n",
    "    for elm in attr_elms:\n",
    "        attr_name = elm.attrib.get(\"name\")\n",
    "        if attr_name == \"url\":\n",
    "            url = elm.attrib.get(\"value\")\n",
    "        elif attr_name == \"date\":\n",
    "            date = elm.attrib.get(\"value\")\n",
    "        elif attr_name == \"class1\":\n",
    "            classes = elm.attrib.get(\"value\")\n",
    "\n",
    "\n",
    "    return {\"title\": title, \"url\": url, \"published\": date, \"classes\": classes, \"article\": article, \"ingress\": ingress}\n"
   ]
  },
  {
   "cell_type": "code",
   "execution_count": 14,
   "metadata": {},
   "outputs": [
    {
     "name": "stderr",
     "output_type": "stream",
     "text": [
      " 12%|█▏        | 23012/195777 [01:56<24:15, 118.72it/s]"
     ]
    },
    {
     "name": "stdout",
     "output_type": "stream",
     "text": [
      "vg_nob_nak\\vg-2012-nob\\VG-20120926-10046247.xml\n",
      "undefined entity &euro;: line 43, column 33\n"
     ]
    },
    {
     "name": "stderr",
     "output_type": "stream",
     "text": [
      " 18%|█▊        | 35350/195777 [05:20<49:25, 54.09it/s]  "
     ]
    },
    {
     "name": "stdout",
     "output_type": "stream",
     "text": [
      "vg_nob_nak\\vg-2013-nob\\VG-20130220-10100892.xml\n",
      "undefined entity &euro;: line 44, column 44\n"
     ]
    },
    {
     "name": "stderr",
     "output_type": "stream",
     "text": [
      " 20%|██        | 40043/195777 [07:00<48:31, 53.50it/s]  "
     ]
    },
    {
     "name": "stdout",
     "output_type": "stream",
     "text": [
      "vg_nob_nak\\vg-2013-nob\\VG-20130416-10109427.xml\n",
      "undefined entity &euro;: line 25, column 6\n"
     ]
    },
    {
     "name": "stderr",
     "output_type": "stream",
     "text": [
      " 35%|███▍      | 67845/195777 [19:16<1:08:40, 31.05it/s]"
     ]
    },
    {
     "name": "stdout",
     "output_type": "stream",
     "text": [
      "vg_nob_nak\\vg-2014-nob\\VG-20140819-23277706.xml\n",
      "undefined entity &euro;: line 25, column 45\n"
     ]
    },
    {
     "name": "stderr",
     "output_type": "stream",
     "text": [
      "100%|██████████| 195777/195777 [1:48:13<00:00, 30.15it/s]  \n"
     ]
    }
   ],
   "source": [
    "vg_summarization_dataset = pd.DataFrame(columns=[\"title\", \"url\", \"published\", \"classes\", \"article\", \"ingress\"])\n",
    "\n",
    "for vg_article in tqdm.tqdm(vg_articles):\n",
    "    with open(vg_article, \"r\", encoding=\"utf-8\") as xml_file:\n",
    "        try:\n",
    "            xml_tree = ET.fromstring(xml_file.read())\n",
    "        except Exception as e:\n",
    "            print(vg_article)\n",
    "            print(e)\n",
    "        extracted = extract_from_xml(xml_tree)\n",
    "        if extracted:\n",
    "            vg_summarization_dataset.loc[len(vg_summarization_dataset)] = extracted\n"
   ]
  },
  {
   "cell_type": "code",
   "execution_count": 16,
   "metadata": {},
   "outputs": [],
   "source": [
    "vg_summarization_dataset.to_csv(\"vg_summarization.csv\")"
   ]
  },
  {
   "cell_type": "markdown",
   "metadata": {},
   "source": []
  },
  {
   "cell_type": "code",
   "execution_count": 19,
   "metadata": {},
   "outputs": [
    {
     "data": {
      "text/html": [
       "<div>\n",
       "<style scoped>\n",
       "    .dataframe tbody tr th:only-of-type {\n",
       "        vertical-align: middle;\n",
       "    }\n",
       "\n",
       "    .dataframe tbody tr th {\n",
       "        vertical-align: top;\n",
       "    }\n",
       "\n",
       "    .dataframe thead th {\n",
       "        text-align: right;\n",
       "    }\n",
       "</style>\n",
       "<table border=\"1\" class=\"dataframe\">\n",
       "  <thead>\n",
       "    <tr style=\"text-align: right;\">\n",
       "      <th></th>\n",
       "      <th>title</th>\n",
       "      <th>url</th>\n",
       "      <th>published</th>\n",
       "      <th>classes</th>\n",
       "      <th>article</th>\n",
       "      <th>ingress</th>\n",
       "    </tr>\n",
       "  </thead>\n",
       "  <tbody>\n",
       "    <tr>\n",
       "      <th>0</th>\n",
       "      <td>Hit bør du reise i 2012</td>\n",
       "      <td>http://www.vg.no/reise/artikkel.php?artid=1002...</td>\n",
       "      <td>2012-01-01 15:01</td>\n",
       "      <td>reise</td>\n",
       "      <td>De aller fleste av oss vil i hvert fall bruke ...</td>\n",
       "      <td>366 flunkende nye dager fulle av muligheter. M...</td>\n",
       "    </tr>\n",
       "    <tr>\n",
       "      <th>1</th>\n",
       "      <td>Reddet livet til mirakeljenta</td>\n",
       "      <td>http://www.vg.no/nyheter/innenriks/22-juli/art...</td>\n",
       "      <td>2012-01-01 10:38</td>\n",
       "      <td>nyheter,innenriks,22-juli</td>\n",
       "      <td>Sikkerhetsvaktens dramatiske og høyst unike bi...</td>\n",
       "      <td>(VG Nett) I minuttene etter at bomben gikk av ...</td>\n",
       "    </tr>\n",
       "    <tr>\n",
       "      <th>2</th>\n",
       "      <td>- Tomrommet etter Ege blir vanskelig å fylle</td>\n",
       "      <td>http://www.vg.no/sport/haandball/artikkel.php?...</td>\n",
       "      <td>2012-01-01 09:45</td>\n",
       "      <td>sport,haandball</td>\n",
       "      <td>- EM blir det store høydepunktet denne sesonge...</td>\n",
       "      <td>(VG Nett) Drammen-spiller Lars Erik Bjørnsen s...</td>\n",
       "    </tr>\n",
       "    <tr>\n",
       "      <th>3</th>\n",
       "      <td>Slik takler kjendisene julefråtsingen</td>\n",
       "      <td>http://www.vg.no/rampelys/artikkel.php?artid=1...</td>\n",
       "      <td>2012-01-01 12:08</td>\n",
       "      <td>rampelys</td>\n",
       "      <td>Artist AYLAR LIE (27) har lagt seg i hardtreni...</td>\n",
       "      <td>Mens Kathrine Sørland gjerne kutter mat en dag...</td>\n",
       "    </tr>\n",
       "    <tr>\n",
       "      <th>4</th>\n",
       "      <td>Northug sov seg gjennom rakettsmellene</td>\n",
       "      <td>http://www.vg.no/sport/ski/langrenn/northug/ar...</td>\n",
       "      <td>2012-01-01 10:50</td>\n",
       "      <td>sport,ski,langrenn,northug</td>\n",
       "      <td>På årets første dag står en av Northugs favori...</td>\n",
       "      <td>OBERSTDORF (VG NETT) Petter Northug (25) er kl...</td>\n",
       "    </tr>\n",
       "    <tr>\n",
       "      <th>...</th>\n",
       "      <td>...</td>\n",
       "      <td>...</td>\n",
       "      <td>...</td>\n",
       "      <td>...</td>\n",
       "      <td>...</td>\n",
       "      <td>...</td>\n",
       "    </tr>\n",
       "    <tr>\n",
       "      <th>187617</th>\n",
       "      <td>Michelle Williams (39) er gravid – og forlovet...</td>\n",
       "      <td>http://www.vg.no/rampelys/i/Jo2Gm4/michelle-wi...</td>\n",
       "      <td>2019-12-31 08:11</td>\n",
       "      <td>rampelys</td>\n",
       "      <td>Nyheten om at Michelle Williams er gravid, bek...</td>\n",
       "      <td>«Dawson’s Creek»-skuespilleren har forlovet se...</td>\n",
       "    </tr>\n",
       "    <tr>\n",
       "      <th>187618</th>\n",
       "      <td>Nyttårstrafikken: Sterk vind og glatte veier f...</td>\n",
       "      <td>http://www.vg.no/nyheter/innenriks/i/6jvdE3/ny...</td>\n",
       "      <td>2019-12-31 08:20</td>\n",
       "      <td>nyheter,innenriks</td>\n",
       "      <td>Tirsdag morgen melder flere politidistrikt om ...</td>\n",
       "      <td>2019 ser ut til å bli avsluttet med mye vind o...</td>\n",
       "    </tr>\n",
       "    <tr>\n",
       "      <th>187619</th>\n",
       "      <td>Raus med skrytet</td>\n",
       "      <td>http://www.vg.no/nyheter/meninger/i/pLEb7W/rau...</td>\n",
       "      <td>2019-12-31 06:31</td>\n",
       "      <td>nyheter,meninger</td>\n",
       "      <td>På årets siste dag er det mange å ta farvel me...</td>\n",
       "      <td>Monica Mæland mener kommunereformen står til t...</td>\n",
       "    </tr>\n",
       "    <tr>\n",
       "      <th>187620</th>\n",
       "      <td>Skogbrannene i Australia: Setter inn militærhe...</td>\n",
       "      <td>http://www.vg.no/nyheter/utenriks/i/pLEmvW/sko...</td>\n",
       "      <td>2019-12-31 07:49</td>\n",
       "      <td>nyheter,utenriks</td>\n",
       "      <td>I Mallacoota, sør i delstaten Victoria, har fo...</td>\n",
       "      <td>SYDNEY/OSLO (VG) Skogbrannene i Australia fort...</td>\n",
       "    </tr>\n",
       "    <tr>\n",
       "      <th>187621</th>\n",
       "      <td>Tour-pengesekken nesten halvert: Norsk trener ...</td>\n",
       "      <td>http://www.vg.no/sport/langrenn/i/BR2nGw/tour-...</td>\n",
       "      <td>2019-12-31 09:05</td>\n",
       "      <td>sport,langrenn</td>\n",
       "      <td>For det er ikke bare sammenlagtvinnerne som De...</td>\n",
       "      <td>TOBLACH (VG) Tour de Ski ble kjent som en gull...</td>\n",
       "    </tr>\n",
       "  </tbody>\n",
       "</table>\n",
       "<p>187622 rows × 6 columns</p>\n",
       "</div>"
      ],
      "text/plain": [
       "                                                    title  \\\n",
       "0                                 Hit bør du reise i 2012   \n",
       "1                           Reddet livet til mirakeljenta   \n",
       "2            - Tomrommet etter Ege blir vanskelig å fylle   \n",
       "3                   Slik takler kjendisene julefråtsingen   \n",
       "4                  Northug sov seg gjennom rakettsmellene   \n",
       "...                                                   ...   \n",
       "187617  Michelle Williams (39) er gravid – og forlovet...   \n",
       "187618  Nyttårstrafikken: Sterk vind og glatte veier f...   \n",
       "187619                                   Raus med skrytet   \n",
       "187620  Skogbrannene i Australia: Setter inn militærhe...   \n",
       "187621  Tour-pengesekken nesten halvert: Norsk trener ...   \n",
       "\n",
       "                                                      url         published  \\\n",
       "0       http://www.vg.no/reise/artikkel.php?artid=1002...  2012-01-01 15:01   \n",
       "1       http://www.vg.no/nyheter/innenriks/22-juli/art...  2012-01-01 10:38   \n",
       "2       http://www.vg.no/sport/haandball/artikkel.php?...  2012-01-01 09:45   \n",
       "3       http://www.vg.no/rampelys/artikkel.php?artid=1...  2012-01-01 12:08   \n",
       "4       http://www.vg.no/sport/ski/langrenn/northug/ar...  2012-01-01 10:50   \n",
       "...                                                   ...               ...   \n",
       "187617  http://www.vg.no/rampelys/i/Jo2Gm4/michelle-wi...  2019-12-31 08:11   \n",
       "187618  http://www.vg.no/nyheter/innenriks/i/6jvdE3/ny...  2019-12-31 08:20   \n",
       "187619  http://www.vg.no/nyheter/meninger/i/pLEb7W/rau...  2019-12-31 06:31   \n",
       "187620  http://www.vg.no/nyheter/utenriks/i/pLEmvW/sko...  2019-12-31 07:49   \n",
       "187621  http://www.vg.no/sport/langrenn/i/BR2nGw/tour-...  2019-12-31 09:05   \n",
       "\n",
       "                           classes  \\\n",
       "0                            reise   \n",
       "1        nyheter,innenriks,22-juli   \n",
       "2                  sport,haandball   \n",
       "3                         rampelys   \n",
       "4       sport,ski,langrenn,northug   \n",
       "...                            ...   \n",
       "187617                    rampelys   \n",
       "187618           nyheter,innenriks   \n",
       "187619            nyheter,meninger   \n",
       "187620            nyheter,utenriks   \n",
       "187621              sport,langrenn   \n",
       "\n",
       "                                                  article  \\\n",
       "0       De aller fleste av oss vil i hvert fall bruke ...   \n",
       "1       Sikkerhetsvaktens dramatiske og høyst unike bi...   \n",
       "2       - EM blir det store høydepunktet denne sesonge...   \n",
       "3       Artist AYLAR LIE (27) har lagt seg i hardtreni...   \n",
       "4       På årets første dag står en av Northugs favori...   \n",
       "...                                                   ...   \n",
       "187617  Nyheten om at Michelle Williams er gravid, bek...   \n",
       "187618  Tirsdag morgen melder flere politidistrikt om ...   \n",
       "187619  På årets siste dag er det mange å ta farvel me...   \n",
       "187620  I Mallacoota, sør i delstaten Victoria, har fo...   \n",
       "187621  For det er ikke bare sammenlagtvinnerne som De...   \n",
       "\n",
       "                                                  ingress  \n",
       "0       366 flunkende nye dager fulle av muligheter. M...  \n",
       "1       (VG Nett) I minuttene etter at bomben gikk av ...  \n",
       "2       (VG Nett) Drammen-spiller Lars Erik Bjørnsen s...  \n",
       "3       Mens Kathrine Sørland gjerne kutter mat en dag...  \n",
       "4       OBERSTDORF (VG NETT) Petter Northug (25) er kl...  \n",
       "...                                                   ...  \n",
       "187617  «Dawson’s Creek»-skuespilleren har forlovet se...  \n",
       "187618  2019 ser ut til å bli avsluttet med mye vind o...  \n",
       "187619  Monica Mæland mener kommunereformen står til t...  \n",
       "187620  SYDNEY/OSLO (VG) Skogbrannene i Australia fort...  \n",
       "187621  TOBLACH (VG) Tour de Ski ble kjent som en gull...  \n",
       "\n",
       "[187622 rows x 6 columns]"
      ]
     },
     "execution_count": 19,
     "metadata": {},
     "output_type": "execute_result"
    }
   ],
   "source": [
    "vg_summarization_dataset"
   ]
  },
  {
   "cell_type": "code",
   "execution_count": 18,
   "metadata": {},
   "outputs": [
    {
     "data": {
      "text/plain": [
       "Index        1500976\n",
       "title        1500976\n",
       "url          1500976\n",
       "published    1500976\n",
       "classes      1500976\n",
       "article      1500976\n",
       "ingress      1500976\n",
       "dtype: int64"
      ]
     },
     "execution_count": 18,
     "metadata": {},
     "output_type": "execute_result"
    }
   ],
   "source": [
    "vg_summarization_dataset.memory_usage()"
   ]
  },
  {
   "cell_type": "code",
   "execution_count": null,
   "metadata": {},
   "outputs": [],
   "source": []
  }
 ],
 "metadata": {
  "kernelspec": {
   "display_name": "base",
   "language": "python",
   "name": "python3"
  },
  "language_info": {
   "codemirror_mode": {
    "name": "ipython",
    "version": 3
   },
   "file_extension": ".py",
   "mimetype": "text/x-python",
   "name": "python",
   "nbconvert_exporter": "python",
   "pygments_lexer": "ipython3",
   "version": "3.8.13"
  },
  "orig_nbformat": 4,
  "vscode": {
   "interpreter": {
    "hash": "64c454191da68aae78a1958feb08cae1f714f347888099e6a2df204eeb298eaa"
   }
  }
 },
 "nbformat": 4,
 "nbformat_minor": 2
}
