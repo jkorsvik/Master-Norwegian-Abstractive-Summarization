{
 "cells": [
  {
   "cell_type": "code",
   "execution_count": 1,
   "metadata": {},
   "outputs": [],
   "source": [
    "from transformers import pipeline\n"
   ]
  },
  {
   "cell_type": "code",
   "execution_count": 6,
   "metadata": {},
   "outputs": [
    {
     "name": "stderr",
     "output_type": "stream",
     "text": [
      "Downloading: 100%|██████████| 808/808 [00:00<00:00, 807kB/s]\n",
      "Downloading: 100%|██████████| 4.58G/4.58G [04:23<00:00, 18.7MB/s] \n",
      "Downloading: 100%|██████████| 490/490 [00:00<00:00, 245kB/s]\n",
      "Downloading: 100%|██████████| 4.11M/4.11M [00:00<00:00, 6.26MB/s]\n",
      "Downloading: 100%|██████████| 15.6M/15.6M [00:04<00:00, 3.89MB/s]\n",
      "Downloading: 100%|██████████| 74.0/74.0 [00:00<00:00, 37.0kB/s]\n"
     ]
    }
   ],
   "source": [
    "pipe = pipeline(\"text2text-generation\", \"navjordj/snl-large-summarization\")"
   ]
  },
  {
   "cell_type": "code",
   "execution_count": 29,
   "metadata": {},
   "outputs": [
    {
     "data": {
      "text/plain": [
       "1229581312"
      ]
     },
     "execution_count": 29,
     "metadata": {},
     "output_type": "execute_result"
    }
   ],
   "source": [
    "pipe.model.num_parameters()"
   ]
  },
  {
   "cell_type": "code",
   "execution_count": 36,
   "metadata": {},
   "outputs": [],
   "source": [
    "raw_text = \"Balsamico kommer opprinnelig fra Modena og Reggio Emilia i den nord-italienske regionen Emilia-Romagna. Den har blitt populær også utenfor Italias grenser.Det skilles mellom tradisjonell og industriell balsamico. Den industrielle varianten brukes mest i dressinger og marinader, mens den tradisjonelle også ofte brukes i ren form, for eksempel på ost eller spekemat. Tradisjonell balsamico Tradisjonell balsamico lages i provinsene Modena og Reggio Emilia i regionen Emilia-Romagna. Utgangspunktet er ugjæret druesaft, som oftest av de lokale vindruene Lambrusco og Trebbiano. Druene presses og kokes umiddelbart etter innhøstingen, for at druemosten ikke skal begynne å gjære. Etter at druemosten har kokt ned til halvparten av den opprinnelige mengden, gjæres den i cirka tre uker, før den modnes på fat i minst tolv år, noen ganger lenger. I løpet av modningstiden fordamper store deler av balsamicoen gjennom porene i treverket, som følge av høy temperatur. 100 liter druemost ender slik opp som 1,5 liter ferdig balsamico. Etter hvert som balsamicoen blir eldre, helles den over på stadig mindre fat, men produsenten lar det alltid være litt igjen på fatet, som deretter får påfyll av yngre balsamico. Slik blander nytt og gammelt seg, ikke ulikt solerasystemet spanjolene bruker når de lager sherry. Fatene er laget av ulike tresorter, som eik, kastanje, ask og kirsebær. Balsamicoen trekker til seg smaker fra hvert enkelt fat og får dermed en kompleks og intens smak, og til slutt en litt sirupsaktig konsistens. Tradisjonell balsamico lages på druemost alene, og den tidkrevende prosessen er grunnen til at dette er svært dyrt, flere hundre kroner for en liten flaske på én desiliter. Etiketten merkes alltid med Tradizionale. En spesiell type balsamico går under betegnelsen Condimento. Dette er balsamico som er laget på tradisjonelt vis, og som holder svært høy kvalitet, men som av ulike grunner ikke kan kalles Tradizionale. Det dreier seg ofte om formaliteter, som at den ikke er modnet så lenge som tolv år, eller at den blir produsert utenfor Modenas eller Reggio Emilias grenser. Balsamico i seg selv er ikke en beskyttet betegnelse, men balsamico fra Modena og Reggio Emilia har geografisk beskyttelse gjennom EU-lovverket. Industriell balsamico Det italienske lovverket tillater at også industriell balsamico kan hete Aceto Balsamico di Modena. I sin enkleste form er industriell balsamico vanlig vineddik tilsatt fargestoffer og sukker, og bare unntaksvis er den fatlagret. Den er derfor langt billigere enn tradisjonell balsamico. Det er den industrielle varianten man finner i vanlige matbutikker og salatbarer. Aceto Balsamico di Modena med geografisk beskyttelsesmerke (IGP) er en litt mer forseggjort variant. Den er en blanding av vineddik og druemost, ofte tilsatt fargestoffer og tykningsmiddel for å gjøre den mest mulig lik originalen. En Balsamico IGP skal modnes på fat i minst seks måneder, og hvis det står «Aged» på etiketten, har den blitt modnet i minst tre år. Druene må ikke nødvendigvis være lokale, men for å oppnå IGP-betegnelse er det et krav at balsamicoen er produsert i Modena eller Reggio Emilia. Historie Balsamico har en lang historie, men opprinnelsen er uklar. I boka Georgica fra år 29 beskriver den romerske dikteren Vergil hvordan druemost kokes til eddik. I 1047 fortelles det hvordan den tysk-romerske keiseren Henrik 3. fikk servert «den mest perfekte eddik» på en reise i nord-Italia. Hertug Alfonso av Modena produserte en balsamico-lignende eddik i 1508, men det var først i 1747 selve ordet balsamico dukker opp på trykk, hentet fra ordet balsam, ettersom man var overbevist om at eddiken hadde helsebringende egenskaper. Balsamico var lenge en lokal spesialitet, men dette endret seg på 1980- og 1990-tallet. Parallelt med at det italienske kjøkkenet ble stadig mer populært, fikk verden også øynene opp for balsamico, i hovedsak den industrielle utgaven. I Norge var kombinasjonen balsamico og rucolasalat mektig populær i en årrekke. Les mer i Store norske leksikon italiensk mat eddik Geografiske opprinnelsesbetegnelser i EU\"\n",
    "inp = \"oppsummer: \" + raw_text\n",
    "pipe(inp, max_length=160)"
   ]
  },
  {
   "cell_type": "code",
   "execution_count": null,
   "metadata": {},
   "outputs": [],
   "source": []
  }
 ],
 "metadata": {
  "kernelspec": {
   "display_name": "Python 3",
   "language": "python",
   "name": "python3"
  },
  "language_info": {
   "codemirror_mode": {
    "name": "ipython",
    "version": 3
   },
   "file_extension": ".py",
   "mimetype": "text/x-python",
   "name": "python",
   "nbconvert_exporter": "python",
   "pygments_lexer": "ipython3",
   "version": "3.7.10"
  },
  "orig_nbformat": 4,
  "vscode": {
   "interpreter": {
    "hash": "22bf1428986f595eef7f52eed599da6241d07adf430d9525511dcaecd4d9506c"
   }
  }
 },
 "nbformat": 4,
 "nbformat_minor": 2
}
