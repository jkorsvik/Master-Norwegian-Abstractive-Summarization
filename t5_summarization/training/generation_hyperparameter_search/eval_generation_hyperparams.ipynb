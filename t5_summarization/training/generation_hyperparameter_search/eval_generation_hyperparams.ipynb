{
 "cells": [
  {
   "cell_type": "code",
   "execution_count": 1,
   "metadata": {},
   "outputs": [
    {
     "name": "stderr",
     "output_type": "stream",
     "text": [
      "c:\\Users\\jorgen\\miniconda3\\lib\\site-packages\\tqdm\\auto.py:22: TqdmWarning: IProgress not found. Please update jupyter and ipywidgets. See https://ipywidgets.readthedocs.io/en/stable/user_install.html\n",
      "  from .autonotebook import tqdm as notebook_tqdm\n"
     ]
    }
   ],
   "source": [
    "from transformers import pipeline\n",
    "from datasets import load_dataset\n",
    "from evaluate import evaluator\n",
    "import evaluate\n",
    "from transformers import AutoTokenizer, T5ForConditionalGeneration\n",
    "import torch\n",
    "import pandas as pd\n"
   ]
  },
  {
   "cell_type": "code",
   "execution_count": 2,
   "metadata": {},
   "outputs": [
    {
     "data": {
      "text/plain": [
       "device(type='cuda', index=0)"
      ]
     },
     "execution_count": 2,
     "metadata": {},
     "output_type": "execute_result"
    }
   ],
   "source": [
    "import torch\n",
    "device = torch.device('cuda:0' if torch.cuda.is_available() else 'cpu')\n",
    "device\n"
   ]
  },
  {
   "cell_type": "code",
   "execution_count": 4,
   "metadata": {},
   "outputs": [
    {
     "name": "stderr",
     "output_type": "stream",
     "text": [
      "Using custom data configuration navjordj--SNL_summarization-d89e75929608302f\n",
      "Found cached dataset parquet (C:/Users/jorgen/.cache/huggingface/datasets/navjordj___parquet/navjordj--SNL_summarization-d89e75929608302f/0.0.0/2a3b91fbd88a2c90d1dbbb32b460cf621d31bd5b05b934492fdef7d8d6f236ec)\n"
     ]
    }
   ],
   "source": [
    "\n",
    "data = load_dataset(\"navjordj/SNL_summarization\", split=\"validation\").shuffle().select(range(10))\n",
    "metric = evaluate.load(\"rouge\", use_stemming=True)\n",
    "\n"
   ]
  },
  {
   "cell_type": "code",
   "execution_count": 4,
   "metadata": {},
   "outputs": [],
   "source": [
    "model = T5ForConditionalGeneration.from_pretrained(\"navjordj/t5-base-snl\")\n",
    "tokenizer = AutoTokenizer.from_pretrained(\"navjordj/t5-base-snl\")\n"
   ]
  },
  {
   "cell_type": "code",
   "execution_count": 5,
   "metadata": {},
   "outputs": [],
   "source": [
    "greedy_config = {\n",
    "}\n",
    "\n",
    "beam_config = {\n",
    "    \"num_beams\": 6,\n",
    "    \"early_stopping\": True\n",
    "}\n",
    "\n",
    "beam_no_stopping_config = {\n",
    "    \"num_beams\": 6,\n",
    "    \"early_stopping\": False\n",
    "}\n",
    "\n",
    "beam_rep_penalty_1_2_config = {\n",
    "    \"num_beams\": 6,\n",
    "    \"repetition_penalty\": 1.2\n",
    "}\n",
    "\n",
    "beam_rep_penalty_2_config = {\n",
    "    \"num_beams\": 6,\n",
    "    \"repetition_penalty\": 2.0\n",
    "}\n",
    "\n",
    "beam_no_ngram_2 = {\n",
    "    \"num_beams\": 6,\n",
    "    \"no_repeat_ngram_size\": 2, \n",
    "    \"early_stopping\": True\n",
    "}\n",
    "\n",
    "beam_no_ngram_4 = {\n",
    "    \"num_beams\": 6,\n",
    "    \"no_repeat_ngram_size\": 4, \n",
    "    \"early_stopping\": True\n",
    "}\n",
    "\n",
    "beam_no_ngram_12 = {\n",
    "    \"num_beams\": 6,\n",
    "    \"no_repeat_ngram_size\": 12, \n",
    "    \"early_stopping\": True\n",
    "}\n",
    "\n",
    "sample_config = {\n",
    "    \"do_sample\": True,\n",
    "    \"top_k\": 0\n",
    "}\n",
    "\n",
    "sample_temperature_config = {\n",
    "    \"do_sample\": True,\n",
    "    \"top_k\": 0,\n",
    "    \"temperature\": 0.7\n",
    "}\n",
    "\n",
    "top_k_config = {\n",
    "    \"do_sample\": True,\n",
    "    \"top_k\": 50,\n",
    "}\n",
    "\n",
    "top_p_config = {\n",
    "    \"do_sample\": True,\n",
    "    \"top_p\": 0.92, \n",
    "    \"top_k\": 0\n",
    "}\n",
    "\n",
    "configs = [greedy_config, beam_config, beam_no_stopping_config, beam_rep_penalty_1_2_config, beam_rep_penalty_2_config, beam_no_ngram_2, beam_no_ngram_4, sample_config, sample_temperature_config, top_k_config, top_p_config]\n"
   ]
  },
  {
   "cell_type": "code",
   "execution_count": 6,
   "metadata": {},
   "outputs": [
    {
     "name": "stdout",
     "output_type": "stream",
     "text": [
      "{}\n"
     ]
    },
    {
     "name": "stderr",
     "output_type": "stream",
     "text": [
      "Asking to truncate to max_length but no maximum length is provided and the model has no predefined maximum length. Default to no truncation.\n"
     ]
    },
    {
     "name": "stdout",
     "output_type": "stream",
     "text": [
      "{'rouge1': 0.3353283203455176, 'rouge2': 0.17750911367429723, 'rougeL': 0.2964294395377383, 'rougeLsum': 0.29735717702646003, 'total_time_in_seconds': 9.976816200000002, 'samples_per_second': 1.0023237673758085, 'latency_in_seconds': 0.9976816200000002}\n"
     ]
    },
    {
     "name": "stderr",
     "output_type": "stream",
     "text": [
      "C:\\Users\\jorgen\\AppData\\Local\\Temp\\ipykernel_12720\\3407022739.py:18: FutureWarning: The frame.append method is deprecated and will be removed from pandas in a future version. Use pandas.concat instead.\n",
      "  results_df = results_df.append({\"config\": config, **results}, ignore_index=True)\n"
     ]
    }
   ],
   "source": [
    "task_evaluator = evaluator(\"summarization\")\n",
    "\n",
    "results_df = pd.DataFrame(columns=[\"config\", 'rouge1','rouge2', 'rougeL', 'rougeLsum', 'total_time_in_seconds', 'samples_per_second'])\n",
    "\n",
    "for config in configs[:1]:\n",
    "    print(config)\n",
    "    pipe = pipeline(\"summarization\", model=model, tokenizer=tokenizer, batch_size=1, device=device, **config)\n",
    "\n",
    "    results = task_evaluator.compute(\n",
    "        model_or_pipeline=pipe,\n",
    "        data=data,\n",
    "        input_column=\"article\",\n",
    "        label_column=\"ingress\",\n",
    "        metric=metric\n",
    "    )\n",
    "    print(results)\n",
    "\n",
    "    results_df = results_df.append({\"config\": config, **results}, ignore_index=True)\n",
    "\n",
    "results_df.to_csv(\"hyperparam_search_results.csv\")\n"
   ]
  },
  {
   "cell_type": "code",
   "execution_count": 15,
   "metadata": {},
   "outputs": [
    {
     "data": {
      "text/plain": [
       "[{'summary_text': 'Broderi er en teknikk som i særlig grad omfatter brodering av ullgarn, ullgarn og ullgarn.'}]"
      ]
     },
     "execution_count": 15,
     "metadata": {},
     "output_type": "execute_result"
    }
   ],
   "source": [
    "pipe = pipeline(\"summarization\", model=model, tokenizer=tokenizer, batch_size=1, device=device, **config, max_length=120)\n",
    "\n",
    "pipe(data[0][\"article\"])\n",
    "\n",
    "\n"
   ]
  },
  {
   "cell_type": "code",
   "execution_count": null,
   "metadata": {},
   "outputs": [],
   "source": []
  }
 ],
 "metadata": {
  "kernelspec": {
   "display_name": "base",
   "language": "python",
   "name": "python3"
  },
  "language_info": {
   "codemirror_mode": {
    "name": "ipython",
    "version": 3
   },
   "file_extension": ".py",
   "mimetype": "text/x-python",
   "name": "python",
   "nbconvert_exporter": "python",
   "pygments_lexer": "ipython3",
   "version": "3.8.13"
  },
  "orig_nbformat": 4
 },
 "nbformat": 4,
 "nbformat_minor": 2
}
