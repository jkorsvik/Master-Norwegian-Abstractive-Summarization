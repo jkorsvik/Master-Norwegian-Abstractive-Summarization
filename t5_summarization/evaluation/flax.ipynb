{
 "cells": [
  {
   "cell_type": "code",
   "execution_count": 1,
   "metadata": {},
   "outputs": [
    {
     "name": "stderr",
     "output_type": "stream",
     "text": [
      "/home/navjordj/miniconda3/envs/t5_master/lib/python3.7/site-packages/tqdm/auto.py:22: TqdmWarning: IProgress not found. Please update jupyter and ipywidgets. See https://ipywidgets.readthedocs.io/en/stable/user_install.html\n",
      "  from .autonotebook import tqdm as notebook_tqdm\n"
     ]
    }
   ],
   "source": [
    "from transformers import pipeline\n",
    "from datasets import load_dataset\n",
    "from evaluate import evaluator\n",
    "import evaluate\n",
    "from transformers import AutoTokenizer, T5ForConditionalGeneration\n"
   ]
  },
  {
   "cell_type": "code",
   "execution_count": 24,
   "metadata": {},
   "outputs": [
    {
     "name": "stderr",
     "output_type": "stream",
     "text": [
      "WARNING:datasets.builder:Using custom data configuration navjordj--VG_summarization-91cd0a56f2dc78e8\n",
      "WARNING:datasets.builder:Found cached dataset parquet (/home/navjordj/.cache/huggingface/datasets/navjordj___parquet/navjordj--VG_summarization-91cd0a56f2dc78e8/0.0.0/2a3b91fbd88a2c90d1dbbb32b460cf621d31bd5b05b934492fdef7d8d6f236ec)\n"
     ]
    }
   ],
   "source": [
    "\n",
    "data = load_dataset(\"navjordj/VG_summarization\", split=\"test\").shuffle().select(range(10))\n",
    "metric = evaluate.load(\"rouge\")\n"
   ]
  },
  {
   "cell_type": "code",
   "execution_count": 6,
   "metadata": {},
   "outputs": [
    {
     "name": "stderr",
     "output_type": "stream",
     "text": [
      "/home/navjordj/miniconda3/envs/t5_master/lib/python3.7/site-packages/transformers/modeling_flax_pytorch_utils.py:315: UserWarning: The given NumPy array is not writable, and PyTorch does not support non-writable tensors. This means writing to this tensor will result in undefined behavior. You may want to copy the array to protect its data or make it writable before converting it to a tensor. This type of warning will be suppressed for the rest of this program. (Triggered internally at ../torch/csrc/utils/tensor_numpy.cpp:199.)\n",
      "  pt_model_dict[flax_key] = torch.from_numpy(flax_tensor)\n",
      "All Flax model weights were used when initializing T5ForConditionalGeneration.\n",
      "\n",
      "Some weights of T5ForConditionalGeneration were not initialized from the Flax model and are newly initialized: ['encoder.embed_tokens.weight', 'decoder.embed_tokens.weight']\n",
      "You should probably TRAIN this model on a down-stream task to be able to use it for predictions and inference.\n",
      "Downloading (…)neration_config.json: 100%|██████████| 147/147 [00:00<00:00, 29.5kB/s]\n"
     ]
    }
   ],
   "source": [
    "model = T5ForConditionalGeneration.from_pretrained(\"navjordj/t5_base_VG\", from_flax=True)"
   ]
  },
  {
   "cell_type": "code",
   "execution_count": 8,
   "metadata": {},
   "outputs": [
    {
     "name": "stderr",
     "output_type": "stream",
     "text": [
      "Downloading (…)okenizer_config.json: 100%|██████████| 447/447 [00:00<00:00, 198kB/s]\n",
      "Downloading (…)\"tokenizer.json\";: 100%|██████████| 16.3M/16.3M [00:00<00:00, 16.8MB/s]\n",
      "Downloading (…)cial_tokens_map.json: 100%|██████████| 74.0/74.0 [00:00<00:00, 24.2kB/s]\n"
     ]
    }
   ],
   "source": [
    "tokenizer = AutoTokenizer.from_pretrained(\"navjordj/t5_base_VG\")"
   ]
  },
  {
   "cell_type": "code",
   "execution_count": 11,
   "metadata": {},
   "outputs": [],
   "source": [
    "pipe = pipeline(\"summarization\", model=model, tokenizer=tokenizer, max_length=128)\n"
   ]
  },
  {
   "cell_type": "code",
   "execution_count": 15,
   "metadata": {},
   "outputs": [],
   "source": [
    "task_evaluator = evaluator(\"summarization\")"
   ]
  },
  {
   "cell_type": "code",
   "execution_count": 27,
   "metadata": {},
   "outputs": [],
   "source": [
    "txt = \"oppsummer: \" + \"ANNA BLIX, biolog og fødende på ABC Nok en gang angripes våre fødetilbud. Denne gangen er det ABC-avdelinga ved Ullevål sykehus som mister ressurser. Mandag bestemte klinikkledelsen på OUS Ullevål at ABC-avdelinga ikke lenger skal få drive med svangerskapsomsorg, kun ha et føde- og barseltilbud. Det betyr at de fødende ikke lenger skal gå til kontroll på ABC før fødselen, bare komme dit for å føde. Da mister ABC det som gjør hele avdelinga spesiell, og som gjør den til en viktig del av hovedstadens fødetilbud, et tilbud som er populært blant de fødende. En kveld for ni uker siden fikk jeg rier. Da ringte jeg ABC, og det var en kjent stemme i den andre enden. Jordmor Torild tok den natta imot min sønn, og jeg følte meg trygg og sterk gjennom hele fødselen. Det gir samfunnsøkonomiske effekter som er vanskelige å måle. ABC er landets mest kjente avdeling for såkalte naturlige fødsler. Det er fødsler uten store inngrep, men med trygghet og tilstedeværelse som den viktigste smertelindringa. Og den tryggheten kommer av at vi fødende kjenner stedet og jordmødrene der vi skal gjøre noe av det mest dramatiske og fantastiske i livene våre, sette et barn til verden. Forskning viser at fødende som føler seg trygge, ikke redde, har mindre smerter under fødselen. Å være stresset, ikke ha kontroll over situasjonen og dermed bli redd, kan føre til at fødselen stopper opp og i verste fall til at det må gjøres inngrep for at barnet skal komme ut. Alle inngrep medfører en risiko, både fysisk og psykisk, for mor og barn. Vi er heldige i Norge som har et av verdens beste medisinske tilbud når vi føder. Det aller beste for mor og barns helse er når tilbudet er tilgjengelig, men ikke trengs å tas i bruk fordi fødselen går normalt. Vi trenger å få føde i fred, i et rom der vi føler oss trygge og med en kompetent jordmor. I England ser de på forskningen og innfører nå ABC-lignende modeller ved flere avdelinger. I Norge fjerner OUS Ullevål dette tilbudet. Å føle seg trygg gjennom en fødsel er kanskje noe som er vanskelig å måle i sykehusregnskapene. Men i en by der inngrep som keisersnitt, epidural og klipping (episiotomi) øker, trenger vi de tilbudene som ivaretar det normale ved en fødsel. I en stor by er det ikke like lett å bli kjent med jordmødre og fødeavdelinger som det kanskje er på mindre steder. For oss som syns det er viktig, er ABC det beste stedet å føde. Å ta ressurser fra ABC er nok en nedbygging av fødetilbudet i Norge. Når vi ikke kan føde et sted som føles trygt for oss, enten det er i Finnmark, i Kristiansund eller midt i Oslo, kan Erna Solberg se langt etter de økte fødselstallene hun så gjerne vil ha. La oss føde i fred, i nærheten av der vi bor, med et bredest mulig fødetilbud i hele landet.\""
   ]
  },
  {
   "cell_type": "code",
   "execution_count": 28,
   "metadata": {},
   "outputs": [],
   "source": [
    "pipe(txt)"
   ]
  },
  {
   "cell_type": "code",
   "execution_count": 25,
   "metadata": {},
   "outputs": [
    {
     "data": {
      "text/plain": [
       "{'rouge1': 0.0,\n",
       " 'rouge2': 0.0,\n",
       " 'rougeL': 0.0,\n",
       " 'rougeLsum': 0.0,\n",
       " 'total_time_in_seconds': 219.46977828000036,\n",
       " 'samples_per_second': 0.04556436006073676,\n",
       " 'latency_in_seconds': 21.946977828000033}"
      ]
     },
     "execution_count": 25,
     "metadata": {},
     "output_type": "execute_result"
    }
   ],
   "source": [
    "task_evaluator.compute(\n",
    "    model_or_pipeline=pipe,\n",
    "    data=data,\n",
    "    input_column=\"article\",\n",
    "    label_column=\"ingress\",\n",
    "    metric=metric\n",
    ")"
   ]
  },
  {
   "cell_type": "code",
   "execution_count": null,
   "metadata": {},
   "outputs": [],
   "source": []
  }
 ],
 "metadata": {
  "kernelspec": {
   "display_name": "t5_master",
   "language": "python",
   "name": "python3"
  },
  "language_info": {
   "codemirror_mode": {
    "name": "ipython",
    "version": 3
   },
   "file_extension": ".py",
   "mimetype": "text/x-python",
   "name": "python",
   "nbconvert_exporter": "python",
   "pygments_lexer": "ipython3",
   "version": "3.7.16"
  },
  "orig_nbformat": 4,
  "vscode": {
   "interpreter": {
    "hash": "950619a73c379f6450bf3d57ade65f22c7d01e78106290d8e075779adb3f5a75"
   }
  }
 },
 "nbformat": 4,
 "nbformat_minor": 2
}
