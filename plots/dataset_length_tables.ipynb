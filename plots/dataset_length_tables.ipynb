{
 "cells": [
  {
   "cell_type": "code",
   "execution_count": 29,
   "metadata": {},
   "outputs": [],
   "source": [
    "from datasets import load_dataset\n",
    "from transformers import AutoTokenizer\n",
    "import numpy as np"
   ]
  },
  {
   "cell_type": "code",
   "execution_count": 3,
   "metadata": {},
   "outputs": [],
   "source": [
    "tokenizer = AutoTokenizer.from_pretrained(\"navjordj/t5-base-snl\")\n"
   ]
  },
  {
   "cell_type": "code",
   "execution_count": 22,
   "metadata": {},
   "outputs": [
    {
     "name": "stderr",
     "output_type": "stream",
     "text": [
      "Using custom data configuration navjordj--SNL_summarization-d89e75929608302f\n",
      "Found cached dataset parquet (C:/Users/jorgen/.cache/huggingface/datasets/navjordj___parquet/navjordj--SNL_summarization-d89e75929608302f/0.0.0/2a3b91fbd88a2c90d1dbbb32b460cf621d31bd5b05b934492fdef7d8d6f236ec)\n",
      "100%|██████████| 3/3 [00:00<00:00, 374.83it/s]\n"
     ]
    }
   ],
   "source": [
    "dataset = load_dataset(\"navjordj/SNL_summarization\")"
   ]
  },
  {
   "cell_type": "code",
   "execution_count": 24,
   "metadata": {},
   "outputs": [
    {
     "name": "stderr",
     "output_type": "stream",
     "text": [
      "100%|██████████| 10874/10874 [00:01<00:00, 6540.00ex/s]\n"
     ]
    }
   ],
   "source": [
    "dataset[\"train\"] = dataset[\"train\"].map(lambda x: {\n",
    "    \"article_length\": len(x[\"article\"]),\n",
    "    \"ingress_length\": len(x[\"ingress\"]),\n",
    "    })\n"
   ]
  },
  {
   "cell_type": "code",
   "execution_count": 31,
   "metadata": {},
   "outputs": [
    {
     "data": {
      "text/plain": [
       "(1967.8777818649992, 238.59306602906014)"
      ]
     },
     "execution_count": 31,
     "metadata": {},
     "output_type": "execute_result"
    }
   ],
   "source": [
    "np.array(dataset[\"train\"][\"article_length\"]).mean(), np.array(dataset[\"train\"][\"ingress_length\"]).mean()"
   ]
  },
  {
   "cell_type": "code",
   "execution_count": 36,
   "metadata": {},
   "outputs": [
    {
     "name": "stderr",
     "output_type": "stream",
     "text": [
      "Found cached dataset cnn_dailymail (C:/Users/jorgen/.cache/huggingface/datasets/cnn_dailymail/3.0.0/3.0.0/1b3c71476f6d152c31c1730e83ccb08bcf23e348233f4fcc11e182248e6bf7de)\n",
      "100%|██████████| 3/3 [00:00<00:00, 15.54it/s]\n",
      " 47%|████▋     | 136000/287113 [00:24<00:32, 4585.88ex/s]"
     ]
    }
   ],
   "source": [
    "dataset = load_dataset(\"cnn_dailymail\", \"3.0.0\")\n",
    "dataset[\"train\"] = dataset[\"train\"].map(lambda x: {\n",
    "    \"article_length\": len(x[\"article\"]),\n",
    "    \"ingress_length\": len(x[\"highlights\"]),\n",
    "    })\n"
   ]
  },
  {
   "cell_type": "code",
   "execution_count": null,
   "metadata": {},
   "outputs": [],
   "source": [
    "print(np.array(dataset[\"train\"][\"article_length\"]).mean(), np.array(dataset[\"train\"][\"ingress_length\"]).mean())"
   ]
  },
  {
   "cell_type": "code",
   "execution_count": null,
   "metadata": {},
   "outputs": [],
   "source": [
    "dataset = load_dataset(\"jkorsvik/cnn_daily_mail_nor_final\")\n",
    "dataset[\"train\"] = dataset[\"train\"].map(lambda x: {\n",
    "    \"article_length\": len(x[\"article\"]),\n",
    "    \"ingress_length\": len(x[\"highlights\"]),\n",
    "    })\n"
   ]
  },
  {
   "cell_type": "code",
   "execution_count": null,
   "metadata": {},
   "outputs": [],
   "source": [
    "print(np.array(dataset[\"train\"][\"article_length\"]).mean(), np.array(dataset[\"train\"][\"ingress_length\"]).mean())"
   ]
  }
 ],
 "metadata": {
  "kernelspec": {
   "display_name": "base",
   "language": "python",
   "name": "python3"
  },
  "language_info": {
   "codemirror_mode": {
    "name": "ipython",
    "version": 3
   },
   "file_extension": ".py",
   "mimetype": "text/x-python",
   "name": "python",
   "nbconvert_exporter": "python",
   "pygments_lexer": "ipython3",
   "version": "3.8.13"
  },
  "orig_nbformat": 4
 },
 "nbformat": 4,
 "nbformat_minor": 2
}
