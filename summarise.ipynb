{
 "cells": [
  {
   "cell_type": "code",
   "execution_count": 4,
   "metadata": {},
   "outputs": [
    {
     "name": "stdout",
     "output_type": "stream",
     "text": [
      "Thu Apr 13 19:46:58 2023       \n",
      "+-----------------------------------------------------------------------------+\n",
      "| NVIDIA-SMI 516.94       Driver Version: 516.94       CUDA Version: 11.7     |\n",
      "|-------------------------------+----------------------+----------------------+\n",
      "| GPU  Name            TCC/WDDM | Bus-Id        Disp.A | Volatile Uncorr. ECC |\n",
      "| Fan  Temp  Perf  Pwr:Usage/Cap|         Memory-Usage | GPU-Util  Compute M. |\n",
      "|                               |                      |               MIG M. |\n",
      "|===============================+======================+======================|\n",
      "|   0  NVIDIA GeForce ... WDDM  | 00000000:0B:00.0  On |                  N/A |\n",
      "|  0%   55C    P8    19W / 180W |   1339MiB /  8192MiB |      3%      Default |\n",
      "|                               |                      |                  N/A |\n",
      "+-------------------------------+----------------------+----------------------+\n",
      "                                                                               \n",
      "+-----------------------------------------------------------------------------+\n",
      "| Processes:                                                                  |\n",
      "|  GPU   GI   CI        PID   Type   Process name                  GPU Memory |\n",
      "|        ID   ID                                                   Usage      |\n",
      "|=============================================================================|\n",
      "|    0   N/A  N/A      3828    C+G   ...oft OneDrive\\OneDrive.exe    N/A      |\n",
      "|    0   N/A  N/A      5524    C+G   ...bbwe\\Microsoft.Photos.exe    N/A      |\n",
      "|    0   N/A  N/A      6180    C+G   ...ekyb3d8bbwe\\onenoteim.exe    N/A      |\n",
      "|    0   N/A  N/A      6656    C+G   ...y\\ShellExperienceHost.exe    N/A      |\n",
      "|    0   N/A  N/A      9452    C+G   ...8bbwe\\WindowsTerminal.exe    N/A      |\n",
      "|    0   N/A  N/A     10128    C+G   ...aming\\Spotify\\Spotify.exe    N/A      |\n",
      "|    0   N/A  N/A     10688    C+G   ...5n1h2txyewy\\SearchApp.exe    N/A      |\n",
      "|    0   N/A  N/A     11392    C+G   ...werToys.PowerLauncher.exe    N/A      |\n",
      "|    0   N/A  N/A     12332    C+G   ...icrosoft VS Code\\Code.exe    N/A      |\n",
      "|    0   N/A  N/A     13012    C+G   ...me\\Application\\chrome.exe    N/A      |\n",
      "|    0   N/A  N/A     13164    C+G   ...\\PowerToys.FancyZones.exe    N/A      |\n",
      "|    0   N/A  N/A     13416    C+G   ...s\\Win64\\EpicWebHelper.exe    N/A      |\n",
      "|    0   N/A  N/A     14416    C+G   ...t\\Teams\\current\\Teams.exe    N/A      |\n",
      "|    0   N/A  N/A     14968    C+G   ...lPanel\\SystemSettings.exe    N/A      |\n",
      "|    0   N/A  N/A     15636    C+G   ...8wekyb3d8bbwe\\Cortana.exe    N/A      |\n",
      "|    0   N/A  N/A     16260    C+G   ...in7x64\\steamwebhelper.exe    N/A      |\n",
      "|    0   N/A  N/A     16340    C+G   ...n64\\EpicGamesLauncher.exe    N/A      |\n",
      "|    0   N/A  N/A     16580    C+G   ...werToys.ColorPickerUI.exe    N/A      |\n",
      "|    0   N/A  N/A     17152    C+G   ...2txyewy\\TextInputHost.exe    N/A      |\n",
      "|    0   N/A  N/A     17988    C+G   ...t\\Teams\\current\\Teams.exe    N/A      |\n",
      "|    0   N/A  N/A     18192    C+G   ...cw5n1h2txyewy\\LockApp.exe    N/A      |\n",
      "|    0   N/A  N/A     21968    C+G   C:\\Windows\\explorer.exe         N/A      |\n",
      "+-----------------------------------------------------------------------------+\n"
     ]
    }
   ],
   "source": [
    "!nvidia-smi"
   ]
  },
  {
   "cell_type": "code",
   "execution_count": 5,
   "metadata": {},
   "outputs": [],
   "source": [
    "from transformers import AutoModelForSeq2SeqLM, AutoTokenizer, SummarizationPipeline\n"
   ]
  },
  {
   "cell_type": "code",
   "execution_count": 6,
   "metadata": {},
   "outputs": [],
   "source": [
    "configs = {\n",
    "    \"t5-base-snl\": {\n",
    "        \"model_name\": \"navjordj/t5-base-snl\",\n",
    "        \"config\": {\n",
    "            \"eta_cutoff\": 0.0,\n",
    "            \"repetition_penalty\": 1.0,\n",
    "            \"top_p\": 1.0,\n",
    "            \"top_k\": 50,\n",
    "            \"temperature\": 1,\n",
    "            \"encoder_no_repeat_ngram_size\": 0,\n",
    "            \"no_repeat_ngram_size\": 3,\n",
    "            \"do_sample\": False,\n",
    "            \"num_beam_groups\": 1,\n",
    "            \"num_beams\": 5,\n",
    "            \"max_length\": 150,\n",
    "        },\n",
    "    },\n",
    "    \"t5-large-snl\": {\n",
    "        \"model_name\": \"navjordj/t5-large-snl-2\",\n",
    "        \"config\": {\n",
    "            \"eta_cutoff\": 0.0,\n",
    "            \"repetition_penalty\": 1.0,\n",
    "            \"top_p\": 1.0,\n",
    "            \"top_k\": 50,\n",
    "            \"temperature\": 1,\n",
    "            \"encoder_no_repeat_ngram_size\": 0,\n",
    "            \"no_repeat_ngram_size\": 3,\n",
    "            \"do_sample\": False,\n",
    "            \"num_beam_groups\": 1,\n",
    "            \"num_beams\": 5,\n",
    "            \"max_length\": 150,\n",
    "        },\n",
    "    },\n",
    "    \"t5-base-cnndaily\": {\n",
    "        \"model_name\": \"navjordj/t5-base-cnndaily-2\",\n",
    "        \"config\": {\n",
    "            \"eta_cutoff\": 0.0,\n",
    "            \"repetition_penalty\": 1.0,\n",
    "            \"top_p\": 1.0,\n",
    "            \"top_k\": 50,\n",
    "            \"temperature\": 1,\n",
    "            \"encoder_no_repeat_ngram_size\": 0,\n",
    "            \"no_repeat_ngram_size\": 3,\n",
    "            \"do_sample\": False,\n",
    "            \"num_beam_groups\": 1,\n",
    "            \"num_beams\": 5,\n",
    "            \"max_length\": 150,\n",
    "        },\n",
    "    },\n",
    "    \"t5-large-cnndaily\": {\n",
    "        \"model_name\": \"navjordj/t5-large-cnndaily\",\n",
    "        \"config\": {\n",
    "            \"eta_cutoff\": 0.0,\n",
    "            \"repetition_penalty\": 1.0,\n",
    "            \"top_p\": 1.0,\n",
    "            \"top_k\": 50,\n",
    "            \"temperature\": 1,\n",
    "            \"encoder_no_repeat_ngram_size\": 0,\n",
    "            \"no_repeat_ngram_size\": 5,\n",
    "            \"do_sample\": False,\n",
    "            \"num_beam_groups\": 1,\n",
    "            \"num_beams\": 5,\n",
    "            \"max_length\": 150,\n",
    "        },\n",
    "    },\n",
    "}\n",
    "\n"
   ]
  },
  {
   "cell_type": "code",
   "execution_count": 7,
   "metadata": {},
   "outputs": [],
   "source": [
    "MODEL_NAME = \"t5-base-snl\"\n",
    "assert MODEL_NAME in configs.keys()"
   ]
  },
  {
   "cell_type": "code",
   "execution_count": 10,
   "metadata": {},
   "outputs": [
    {
     "name": "stdout",
     "output_type": "stream",
     "text": [
      "Creating config\n",
      "Creating config\n"
     ]
    }
   ],
   "source": [
    "# Load the model and tokenizer\n",
    "model = AutoModelForSeq2SeqLM.from_pretrained(configs[MODEL_NAME][\"model_name\"])\n",
    "tokenizer = AutoTokenizer.from_pretrained(configs[MODEL_NAME][\"model_name\"])\n",
    "\n",
    "# Create the summarization pipeline\n",
    "summarizer = SummarizationPipeline(model=model, tokenizer=tokenizer)\n",
    "\n",
    "# Set the generation config\n",
    "generation_config = configs[MODEL_NAME][\"config\"]\n",
    "\n"
   ]
  },
  {
   "cell_type": "code",
   "execution_count": 16,
   "metadata": {},
   "outputs": [],
   "source": [
    "TEXT_TO_SUMMARISE = \"\"\"Skjermkort og grafikkort - GPU - Sørg for god grafikk\n",
    "Et godt grafikkort er viktig for å få det beste ut av spillopplevelsene! Hos Komplett finner du skjermkort for deg som skal game, jobbe med avansert design eller utføre enklere oppgaver. \n",
    "\n",
    "En datamaskin er som mennesker flest – helt og holdent avhengig av flere deler i kroppen som spiller på lag. Prosessoren er datamaskinens hjerne og har ansvar for de fleste arbeidsoppgavene. Grafikkjobben derimot, det å vise levende bilder og filmer, er skjerm- og grafikkortets domene.\n",
    "\n",
    "Enkelt fortalt avgjør grafikkort (også kalt skjermkort, GPU eller graphic card) hvor fort maskinen klarer å oppdatere skjermen når det gjelder oppløsning og bildehastighet.\n",
    "\n",
    "Skjermkortet tegner så mange bilder som det har muskler til. Jo flere bilder som tegnes i sekundet, dess jevnere vil bildene på skjermen flyte. Nye spill med avansert grafikk vil dermed kreve kraftigere grafikkort enn datamaskinen til å surfe på nett eller strømme serier. Godt utvalg av skjerm- og grafikkort\n",
    "Det er fullt mulig å investere i et bra grafikkort til gaming uten å måtte svi av en formue. Produsentkongene Nvidia og AMD har sluppet noen av sine beste produkter på mange år.\n",
    "\n",
    "Det er en god idé å vurdere hvilket grafikkort du har behov for, for dette er den delen av maskinen som gjør de tyngste løftene. Slike krefter koster også gjerne noen kroner, og toppidrettsutøvere har sin pris.\n",
    "\n",
    "Gamere bør prioritere en god porsjon av sitt budsjett til denne komponenten. For å få en jevn og god spillopplevelse i nyere spill er det nærmest et krav å ha et topp moderne grafikkort. Dette er også en viktig komponent for deg som jobber med avansert design, video eller bilder på et profesjonelt nivå.\n",
    "\n",
    "For å finne grafikkortet som passer deg best og i riktig prisklasse er det en god idé å se på grafikkort-tester til for eksempel for gaming. Se også etter Komplett Certified – vårt kvalitetsstempel for å gjøre det enklere å velge gode produkter.\"\"\"\n",
    "prompt = \"oppsummer: \" + TEXT_TO_SUMMARISE"
   ]
  },
  {
   "cell_type": "code",
   "execution_count": 17,
   "metadata": {},
   "outputs": [
    {
     "name": "stdout",
     "output_type": "stream",
     "text": [
      "Summarized text: \n",
      " En datamaskin har et skjermkort som gjør det mulig å vise levende bilder og filmer på skjermen. Skjermkortet er en viktig komponent for å få det beste ut av spillopplevelsene på en datamaskin.\n"
     ]
    }
   ],
   "source": [
    "\n",
    "# Summarize the input text\n",
    "summary = summarizer(prompt, **generation_config)\n",
    "\n",
    "# Print the summarized text\n",
    "summarized_text = summary[0][\"summary_text\"]\n",
    "print(\"Summarized text:\", \"\\n\", summarized_text)\n",
    "\n"
   ]
  },
  {
   "cell_type": "code",
   "execution_count": null,
   "metadata": {},
   "outputs": [],
   "source": []
  }
 ],
 "metadata": {
  "kernelspec": {
   "display_name": "Python 3 (ipykernel)",
   "language": "python",
   "name": "python3"
  },
  "language_info": {
   "codemirror_mode": {
    "name": "ipython",
    "version": 3
   },
   "file_extension": ".py",
   "mimetype": "text/x-python",
   "name": "python",
   "nbconvert_exporter": "python",
   "pygments_lexer": "ipython3",
   "version": "3.8.13"
  },
  "vscode": {
   "interpreter": {
    "hash": "2aa390911a3a7e29e9f30c0fced11acb70779e61c63355ce676d4870feb96f2b"
   }
  }
 },
 "nbformat": 4,
 "nbformat_minor": 2
}
