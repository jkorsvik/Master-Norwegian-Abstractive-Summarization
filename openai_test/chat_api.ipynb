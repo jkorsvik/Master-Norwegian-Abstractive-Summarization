{
 "cells": [
  {
   "cell_type": "code",
   "execution_count": 49,
   "metadata": {},
   "outputs": [],
   "source": [
    "import openai\n",
    "import yaml"
   ]
  },
  {
   "cell_type": "code",
   "execution_count": 52,
   "metadata": {},
   "outputs": [],
   "source": [
    "with open(\"keys.yaml\", \"r\") as f:\n",
    "    openai.api_key = yaml.load(f, Loader = yaml.loader.SafeLoader)[\"openai_key\"]"
   ]
  },
  {
   "cell_type": "code",
   "execution_count": 54,
   "metadata": {},
   "outputs": [],
   "source": [
    "article = \"Torsdag holdes et krisemøte i Sverige der lederne av alle riksdagspartiene, utenom av Sverigedemokraterna, jobber for å nå en enighet om hvordan de skal håndtere flyktningkatastrofen. Sverigedemokraternas partileder Jimmie Åkesson var ikke invitert til møtet, ifølge svenske Expressen. Statsminister Stefan Löfven mener partiet aldri har vist noen interesse for spørsmål knyttet til flyktningkatastrofen, og at de selv har meldt seg ut av diskusjonen. Jonas Sjöstedt (V) rettet ifølge avisen sterk kritikk mot Danmarks utenrikspolitikk, og sammenlignet den siste ukens hendelser der med behandlingene flyktningene og migrantene fikk i Ungarn. – Det Danmark gjør er at de prøver å være et «Ungarn light». De forsøker å skremme bort flyktninger, mener han. Les også: Flyktninger nektet å forlate tog i RødbyhavnDansk politi tok torsdag avgjørelsen om å slutte å registrere flyktningene som kommer til landet. Det danske togselskapet DSB fulgte opp ved å tilby gratis togreiser. Hundrevis av flyktninger og migranter er dermed i ferd med å dra videre til Sverige, skriver NTB. Sveriges statsminister, Stefan Löfven, er misfornøyd med Danmarks håndtering av situasjonen, og sier han forventer at de følger reglene. – Alle land skal følge Dublin-avtalen, og det betyr at alle land skal registrere flyktningene, sier han til det svenske nyhetsbyrået TT. Danmarks statsminister Lars Løkke Rasmussen sier på sin side til nyhetsbyrået Ritzau at han støtter beslutningen om å la flyktningene og migrantene dra videre uten å følge Dublin-avtalens krav om registrering av dem. Les også: Privatpersoner strømmer til for å kjøre flyktninger til SverigeMens Sverige kritiserer den danske håndteringen, retter Finlands innenriksminister Petteri Orpo kritikken mot svenskene og det statlige jernbaneselskapet SJ, melder NTB. Ifølge Orpo lar SJ flyktninger og migranter reise videre til Finland og Norge uten å kreve ID-sjekk først. – Det kan ikke være slik at Sverige som er EU-medlem, Dublin-land og Schengen-land, ikke sørger for at overvåkningen fungerer som avtalt, sier han til nyhetsbyrået FNB. Les også: Dobbelt så mange nordmenn vil ta imot flere flyktninger nå som i juni Norsk politi advarer om at de som hjelper flyktninger og asylsøkere over grensen til Norge, vil bli straffeforfulgt. – Å frakte mennesker over grensen uten gyldige reisedokumenter, regnes som menneskesmugling. Dermed blir saken anmeldt og må etterforskes som en straffbar handling, sier politiadvokat John Ø. Skarpeid, ifølge NTB. Advarselen kommer etter at fire norske statsborgere ble anmeldt for menneskesmugling natt til torsdag. Har du lest? Slik kan du hjelpe flyktningene (VG/NTB)\""
   ]
  },
  {
   "cell_type": "code",
   "execution_count": 87,
   "metadata": {},
   "outputs": [],
   "source": [
    "system_msg = \"\"\"Du er en maskin som genererer oppsummeringer av artikler fra VG. \n",
    "Oppsummeringene du produserer er på 2-5 setninger\"\"\""
   ]
  },
  {
   "cell_type": "code",
   "execution_count": 88,
   "metadata": {},
   "outputs": [],
   "source": [
    "res = openai.ChatCompletion.create(\n",
    "  model=\"gpt-3.5-turbo\",\n",
    "  messages=[\n",
    "            {\"role\": \"system\", \"content\": system_msg},\n",
    "        {\"role\": \"user\", \"content\": \"oppsummer: \" + article},\n",
    "    ],\n",
    "    n=1)"
   ]
  },
  {
   "cell_type": "code",
   "execution_count": null,
   "metadata": {},
   "outputs": [
    {
     "data": {
      "text/plain": [
       "'Sveriges ledere møtes uten Sverigedemokraternas partileder for å diskutere flyktningkatastrofen. Danmark slutter å registrere flyktninger og tilbyr gratis togreiser til dem som ønsker å dra videre til Sverige, noe som fører til misnøye hos svenske myndigheter. Norsk politi advarer om at hjelpere vil bli straffeforfulgt for å frakte flyktninger over grensen uten gyldige reisedokumenter.'"
      ]
     },
     "execution_count": 85,
     "metadata": {},
     "output_type": "execute_result"
    }
   ],
   "source": [
    "res[\"choices\"][0][\"message\"][\"content\"]"
   ]
  },
  {
   "cell_type": "code",
   "execution_count": null,
   "metadata": {},
   "outputs": [],
   "source": []
  }
 ],
 "metadata": {
  "kernelspec": {
   "display_name": "base",
   "language": "python",
   "name": "python3"
  },
  "language_info": {
   "codemirror_mode": {
    "name": "ipython",
    "version": 3
   },
   "file_extension": ".py",
   "mimetype": "text/x-python",
   "name": "python",
   "nbconvert_exporter": "python",
   "pygments_lexer": "ipython3",
   "version": "3.8.13"
  },
  "orig_nbformat": 4,
  "vscode": {
   "interpreter": {
    "hash": "64c454191da68aae78a1958feb08cae1f714f347888099e6a2df204eeb298eaa"
   }
  }
 },
 "nbformat": 4,
 "nbformat_minor": 2
}
