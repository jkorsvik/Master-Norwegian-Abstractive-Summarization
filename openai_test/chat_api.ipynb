{
 "cells": [
  {
   "cell_type": "code",
   "execution_count": 49,
   "metadata": {},
   "outputs": [],
   "source": [
    "import openai\n",
    "import yaml"
   ]
  },
  {
   "cell_type": "code",
   "execution_count": 52,
   "metadata": {},
   "outputs": [],
   "source": [
    "with open(\"keys.yaml\", \"r\") as f:\n",
    "    openai.api_key = yaml.load(f, Loader = yaml.loader.SafeLoader)[\"openai_key\"]"
   ]
  },
  {
   "cell_type": "code",
   "execution_count": 54,
   "metadata": {},
   "outputs": [],
   "source": [
    "article = \"Torsdag holdes et krisemøte i Sverige der lederne av alle riksdagspartiene, utenom av Sverigedemokraterna, jobber for å nå en enighet om hvordan de skal håndtere flyktningkatastrofen. Sverigedemokraternas partileder Jimmie Åkesson var ikke invitert til møtet, ifølge svenske Expressen. Statsminister Stefan Löfven mener partiet aldri har vist noen interesse for spørsmål knyttet til flyktningkatastrofen, og at de selv har meldt seg ut av diskusjonen. Jonas Sjöstedt (V) rettet ifølge avisen sterk kritikk mot Danmarks utenrikspolitikk, og sammenlignet den siste ukens hendelser der med behandlingene flyktningene og migrantene fikk i Ungarn. – Det Danmark gjør er at de prøver å være et «Ungarn light». De forsøker å skremme bort flyktninger, mener han. Les også: Flyktninger nektet å forlate tog i RødbyhavnDansk politi tok torsdag avgjørelsen om å slutte å registrere flyktningene som kommer til landet. Det danske togselskapet DSB fulgte opp ved å tilby gratis togreiser. Hundrevis av flyktninger og migranter er dermed i ferd med å dra videre til Sverige, skriver NTB. Sveriges statsminister, Stefan Löfven, er misfornøyd med Danmarks håndtering av situasjonen, og sier han forventer at de følger reglene. – Alle land skal følge Dublin-avtalen, og det betyr at alle land skal registrere flyktningene, sier han til det svenske nyhetsbyrået TT. Danmarks statsminister Lars Løkke Rasmussen sier på sin side til nyhetsbyrået Ritzau at han støtter beslutningen om å la flyktningene og migrantene dra videre uten å følge Dublin-avtalens krav om registrering av dem. Les også: Privatpersoner strømmer til for å kjøre flyktninger til SverigeMens Sverige kritiserer den danske håndteringen, retter Finlands innenriksminister Petteri Orpo kritikken mot svenskene og det statlige jernbaneselskapet SJ, melder NTB. Ifølge Orpo lar SJ flyktninger og migranter reise videre til Finland og Norge uten å kreve ID-sjekk først. – Det kan ikke være slik at Sverige som er EU-medlem, Dublin-land og Schengen-land, ikke sørger for at overvåkningen fungerer som avtalt, sier han til nyhetsbyrået FNB. Les også: Dobbelt så mange nordmenn vil ta imot flere flyktninger nå som i juni Norsk politi advarer om at de som hjelper flyktninger og asylsøkere over grensen til Norge, vil bli straffeforfulgt. – Å frakte mennesker over grensen uten gyldige reisedokumenter, regnes som menneskesmugling. Dermed blir saken anmeldt og må etterforskes som en straffbar handling, sier politiadvokat John Ø. Skarpeid, ifølge NTB. Advarselen kommer etter at fire norske statsborgere ble anmeldt for menneskesmugling natt til torsdag. Har du lest? Slik kan du hjelpe flyktningene (VG/NTB)\""
   ]
  },
  {
   "cell_type": "code",
   "execution_count": 65,
   "metadata": {},
   "outputs": [],
   "source": [
    "system_msg = \"Du er en maskin som genererer oppsummeringer av artikler fra VG. Oppsummeringene du produserer er på 2-5 setninger\""
   ]
  },
  {
   "cell_type": "code",
   "execution_count": 84,
   "metadata": {},
   "outputs": [],
   "source": [
    "res = openai.ChatCompletion.create(\n",
    "  model=\"gpt-3.5-turbo\",\n",
    "  messages=[\n",
    "            {\"role\": \"system\", \"content\": system_msg},\n",
    "        {\"role\": \"user\", \"content\": \"oppsummer: \" + article},\n",
    "    ],\n",
    "    n=1)"
   ]
  },
  {
   "cell_type": "code",
   "execution_count": null,
   "metadata": {},
   "outputs": [
    {
     "data": {
      "text/plain": [
       "'Ledere av alle riksdagspartiene i Sverige, utenom Sverigedemokraterna, skal samles for å håndtere flyktningkrisen. Sverigedemokraternas partileder Jimmie Åkesson var ikke invitert. I tillegg er det uenighet mellom landene om håndtering av situasjonen, der Danmark og Sverige kritiserer hverandres håndtering og Finland kritiserer Sverige for at overvåkningen ikke fungerer som avtalt. Norsk politi advarer om at de som hjelper flyktninger og asylsøkere over grensen, vil bli straffeforfulgt.'"
      ]
     },
     "execution_count": 82,
     "metadata": {},
     "output_type": "execute_result"
    }
   ],
   "source": [
    "res[\"choices\"][0][\"message\"][\"content\"]"
   ]
  },
  {
   "cell_type": "code",
   "execution_count": null,
   "metadata": {},
   "outputs": [
    {
     "data": {
      "text/plain": [
       "<OpenAIObject chat.completion id=chatcmpl-6pggwsT8kfDnRI7qDJ5Fij534AwQ2 at 0x2b59eeffa90> JSON: {\n",
       "  \"choices\": [\n",
       "    {\n",
       "      \"finish_reason\": \"stop\",\n",
       "      \"index\": 0,\n",
       "      \"message\": {\n",
       "        \"content\": \"Ledere av alle riksdagspartiene i Sverige, utenom Sverigedemokraterna, skal samles for \\u00e5 h\\u00e5ndtere flyktningkrisen. Sverigedemokraternas partileder Jimmie \\u00c5kesson var ikke invitert. I tillegg er det uenighet mellom landene om h\\u00e5ndtering av situasjonen, der Danmark og Sverige kritiserer hverandres h\\u00e5ndtering og Finland kritiserer Sverige for at overv\\u00e5kningen ikke fungerer som avtalt. Norsk politi advarer om at de som hjelper flyktninger og asyls\\u00f8kere over grensen, vil bli straffeforfulgt.\",\n",
       "        \"role\": \"assistant\"\n",
       "      }\n",
       "    },\n",
       "    {\n",
       "      \"finish_reason\": null,\n",
       "      \"index\": 1,\n",
       "      \"message\": {\n",
       "        \"content\": \"Sveriges riksdagspartier, unntatt Sverigedemokraterna, samles i krisem\\u00f8te for \\u00e5 diskutere h\\u00e5ndteringen av flyktningkatastrofen. Statsminister L\\u00f6fven kritiserer Danmark for \\u00e5 ikke f\\u00f8lge Dublin-avtalen, mens Danmarks statsminister st\\u00f8tter beslutningen om \\u00e5 la flyktningene dra videre uten registrering. Norsk politi advarer mot \\u00e5 hjelpe flyktninger og asyls\\u00f8kere over grensen til Norge, da det kan regnes som menneskesmugling.\",\n",
       "        \"role\": \"assistant\"\n",
       "      }\n",
       "    },\n",
       "    {\n",
       "      \"finish_reason\": \"stop\",\n",
       "      \"index\": 2,\n",
       "      \"message\": {\n",
       "        \"content\": \"Lederne av alle svenske riksdagspartier, bortsett fra Sverigedemokraterna, har m\\u00f8ttes for \\u00e5 diskutere hvordan de skal h\\u00e5ndtere flyktningkatastrofen. Sveriges statsminister kritiserer Danmark for ikke \\u00e5 f\\u00f8lge Dublin-avtalen, mens Finlands innenriksminister kritiserer Sverige for \\u00e5 la flyktninger og migranter reise videre uten ID-sjekk f\\u00f8rst. Norsk politi advarer om at \\u00e5 hjelpe flyktninger over grensen vil bli straffeforfulgt.\",\n",
       "        \"role\": \"assistant\"\n",
       "      }\n",
       "    }\n",
       "  ],\n",
       "  \"created\": 1677776854,\n",
       "  \"id\": \"chatcmpl-6pggwsT8kfDnRI7qDJ5Fij534AwQ2\",\n",
       "  \"model\": \"gpt-3.5-turbo-0301\",\n",
       "  \"object\": \"chat.completion\",\n",
       "  \"usage\": {\n",
       "    \"completion_tokens\": 448,\n",
       "    \"prompt_tokens\": 900,\n",
       "    \"total_tokens\": 1348\n",
       "  }\n",
       "}"
      ]
     },
     "execution_count": 83,
     "metadata": {},
     "output_type": "execute_result"
    }
   ],
   "source": [
    "res"
   ]
  },
  {
   "cell_type": "code",
   "execution_count": 43,
   "metadata": {},
   "outputs": [
    {
     "data": {
      "text/plain": [
       "2651"
      ]
     },
     "execution_count": 43,
     "metadata": {},
     "output_type": "execute_result"
    }
   ],
   "source": [
    "len(article)"
   ]
  },
  {
   "cell_type": "code",
   "execution_count": null,
   "metadata": {},
   "outputs": [],
   "source": []
  }
 ],
 "metadata": {
  "kernelspec": {
   "display_name": "base",
   "language": "python",
   "name": "python3"
  },
  "language_info": {
   "codemirror_mode": {
    "name": "ipython",
    "version": 3
   },
   "file_extension": ".py",
   "mimetype": "text/x-python",
   "name": "python",
   "nbconvert_exporter": "python",
   "pygments_lexer": "ipython3",
   "version": "3.8.13"
  },
  "orig_nbformat": 4,
  "vscode": {
   "interpreter": {
    "hash": "64c454191da68aae78a1958feb08cae1f714f347888099e6a2df204eeb298eaa"
   }
  }
 },
 "nbformat": 4,
 "nbformat_minor": 2
}
