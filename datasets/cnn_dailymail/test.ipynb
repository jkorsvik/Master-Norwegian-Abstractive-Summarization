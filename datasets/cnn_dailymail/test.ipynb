{
 "cells": [
  {
   "cell_type": "code",
   "execution_count": 1,
   "metadata": {},
   "outputs": [],
   "source": [
    "from datasets import load_dataset"
   ]
  },
  {
   "cell_type": "code",
   "execution_count": 2,
   "metadata": {},
   "outputs": [
    {
     "name": "stderr",
     "output_type": "stream",
     "text": [
      "Downloading readme: 100%|██████████| 607/607 [00:00<00:00, 331kB/s]\n",
      "Using custom data configuration jkorsvik--cnn_daily_mail_nor_final-25022f68d9e59242\n"
     ]
    },
    {
     "name": "stdout",
     "output_type": "stream",
     "text": [
      "Downloading and preparing dataset None/None to C:/Users/jorgen/.cache/huggingface/datasets/jkorsvik___parquet/jkorsvik--cnn_daily_mail_nor_final-25022f68d9e59242/0.0.0/2a3b91fbd88a2c90d1dbbb32b460cf621d31bd5b05b934492fdef7d8d6f236ec...\n"
     ]
    },
    {
     "name": "stderr",
     "output_type": "stream",
     "text": [
      "Downloading data: 100%|██████████| 122M/122M [00:04<00:00, 24.9MB/s]\n",
      "Downloading data: 100%|██████████| 9.38M/9.38M [00:00<00:00, 11.4MB/s]\n",
      "Downloading data: 100%|██████████| 14.7M/14.7M [00:00<00:00, 15.3MB/s]\n",
      "Downloading data files: 100%|██████████| 3/3 [00:11<00:00,  3.95s/it]\n",
      "Extracting data files: 100%|██████████| 3/3 [00:00<00:00, 748.76it/s]\n",
      "                                                                                       \r"
     ]
    },
    {
     "name": "stdout",
     "output_type": "stream",
     "text": [
      "Dataset parquet downloaded and prepared to C:/Users/jorgen/.cache/huggingface/datasets/jkorsvik___parquet/jkorsvik--cnn_daily_mail_nor_final-25022f68d9e59242/0.0.0/2a3b91fbd88a2c90d1dbbb32b460cf621d31bd5b05b934492fdef7d8d6f236ec. Subsequent calls will reuse this data.\n"
     ]
    },
    {
     "name": "stderr",
     "output_type": "stream",
     "text": [
      "100%|██████████| 3/3 [00:00<00:00, 35.02it/s]\n"
     ]
    }
   ],
   "source": [
    "ds = load_dataset(\"jkorsvik/cnn_daily_mail_nor_final\")"
   ]
  },
  {
   "cell_type": "code",
   "execution_count": 7,
   "metadata": {},
   "outputs": [
    {
     "name": "stderr",
     "output_type": "stream",
     "text": [
      "Using custom data configuration navjordj--SNL_summarization-fbb45ae9a461b172\n",
      "Found cached dataset parquet (C:/Users/jorgen/.cache/huggingface/datasets/navjordj___parquet/navjordj--SNL_summarization-fbb45ae9a461b172/0.0.0/2a3b91fbd88a2c90d1dbbb32b460cf621d31bd5b05b934492fdef7d8d6f236ec)\n",
      "100%|██████████| 3/3 [00:00<00:00, 13.89it/s]\n"
     ]
    },
    {
     "data": {
      "text/plain": [
       "DatasetDict({\n",
       "    validation: Dataset({\n",
       "        features: ['id', 'url', 'date_scraped', 'headline', 'category', 'ingress', 'article'],\n",
       "        num_rows: 819\n",
       "    })\n",
       "    test: Dataset({\n",
       "        features: ['id', 'url', 'date_scraped', 'headline', 'category', 'ingress', 'article'],\n",
       "        num_rows: 1300\n",
       "    })\n",
       "    train: Dataset({\n",
       "        features: ['id', 'url', 'date_scraped', 'headline', 'category', 'ingress', 'article'],\n",
       "        num_rows: 10874\n",
       "    })\n",
       "})"
      ]
     },
     "execution_count": 7,
     "metadata": {},
     "output_type": "execute_result"
    }
   ],
   "source": [
    "load_dataset(\"navjordj/SNL_summarization\")"
   ]
  },
  {
   "cell_type": "code",
   "execution_count": null,
   "metadata": {},
   "outputs": [],
   "source": []
  }
 ],
 "metadata": {
  "kernelspec": {
   "display_name": "Python 3",
   "language": "python",
   "name": "python3"
  },
  "language_info": {
   "codemirror_mode": {
    "name": "ipython",
    "version": 3
   },
   "file_extension": ".py",
   "mimetype": "text/x-python",
   "name": "python",
   "nbconvert_exporter": "python",
   "pygments_lexer": "ipython3",
   "version": "3.7.10"
  },
  "orig_nbformat": 4
 },
 "nbformat": 4,
 "nbformat_minor": 2
}
