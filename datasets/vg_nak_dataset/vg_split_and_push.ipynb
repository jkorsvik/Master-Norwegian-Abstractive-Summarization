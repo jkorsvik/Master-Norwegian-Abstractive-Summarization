{
 "cells": [
  {
   "cell_type": "code",
   "execution_count": 119,
   "metadata": {},
   "outputs": [],
   "source": [
    "from datasets import Dataset\n",
    "import pandas as pd\n",
    "import numpy as np\n",
    "import re"
   ]
  },
  {
   "cell_type": "code",
   "execution_count": 120,
   "metadata": {},
   "outputs": [],
   "source": [
    "def process_sample(sample):\n",
    "    match = re.search(r\"\\(vg(?: nett)?\\)\\s*(.*)\", sample[\"ingress\"], re.IGNORECASE)\n",
    "    if match:\n",
    "        sample[\"ingress\"] = match.group(1).strip()\n",
    "    return sample\n",
    "\n"
   ]
  },
  {
   "cell_type": "code",
   "execution_count": 121,
   "metadata": {},
   "outputs": [
    {
     "name": "stderr",
     "output_type": "stream",
     "text": [
      "100%|██████████| 187622/187622 [00:51<00:00, 3613.06ex/s]\n"
     ]
    }
   ],
   "source": [
    "ds = Dataset.from_pandas(pd.read_csv(\"vg_summarization.csv\", index_col=0)).map(process_sample)"
   ]
  },
  {
   "cell_type": "code",
   "execution_count": 130,
   "metadata": {},
   "outputs": [],
   "source": [
    "ds_split = ds.train_test_split(test_size=0.15, shuffle=True, seed=42)"
   ]
  },
  {
   "cell_type": "code",
   "execution_count": 131,
   "metadata": {},
   "outputs": [
    {
     "name": "stderr",
     "output_type": "stream",
     "text": [
      "Pushing split train to the Hub.\n",
      "Pushing dataset shards to the dataset hub: 100%|██████████| 1/1 [00:58<00:00, 58.20s/it]\n",
      "Pushing split test to the Hub.\n",
      "Pushing dataset shards to the dataset hub: 100%|██████████| 1/1 [00:12<00:00, 12.57s/it]\n",
      "Downloading metadata: 100%|██████████| 207/207 [00:00<00:00, 68.0kB/s]\n"
     ]
    }
   ],
   "source": [
    "ds_split.push_to_hub(\"navjordj/VG_summarization\")"
   ]
  }
 ],
 "metadata": {
  "kernelspec": {
   "display_name": "master",
   "language": "python",
   "name": "python3"
  },
  "language_info": {
   "codemirror_mode": {
    "name": "ipython",
    "version": 3
   },
   "file_extension": ".py",
   "mimetype": "text/x-python",
   "name": "python",
   "nbconvert_exporter": "python",
   "pygments_lexer": "ipython3",
   "version": "3.7.15"
  },
  "orig_nbformat": 4,
  "vscode": {
   "interpreter": {
    "hash": "3b985b9d2dd14f9c335f7388b3d5393a15b2d7cd2ca2bed1fb46a78eef239c32"
   }
  }
 },
 "nbformat": 4,
 "nbformat_minor": 2
}
