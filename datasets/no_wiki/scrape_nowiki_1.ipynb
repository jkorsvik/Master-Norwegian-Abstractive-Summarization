{
  "nbformat": 4,
  "nbformat_minor": 0,
  "metadata": {
    "colab": {
      "provenance": []
    },
    "kernelspec": {
      "name": "python3",
      "display_name": "Python 3"
    },
    "language_info": {
      "name": "python"
    },
    "widgets": {
      "application/vnd.jupyter.widget-state+json": {
        "a8d1de10004146d18fa55565c971f961": {
          "model_module": "@jupyter-widgets/controls",
          "model_name": "HBoxModel",
          "model_module_version": "1.5.0",
          "state": {
            "_dom_classes": [],
            "_model_module": "@jupyter-widgets/controls",
            "_model_module_version": "1.5.0",
            "_model_name": "HBoxModel",
            "_view_count": null,
            "_view_module": "@jupyter-widgets/controls",
            "_view_module_version": "1.5.0",
            "_view_name": "HBoxView",
            "box_style": "",
            "children": [
              "IPY_MODEL_1c67229ddb934b4ca912a341e95a5b89",
              "IPY_MODEL_65a521589c314d9180a632c898e3716d",
              "IPY_MODEL_531fca1350644cb8b70b0ba076525955"
            ],
            "layout": "IPY_MODEL_a2ba463e027142f5825af5db79d7b284"
          }
        },
        "1c67229ddb934b4ca912a341e95a5b89": {
          "model_module": "@jupyter-widgets/controls",
          "model_name": "HTMLModel",
          "model_module_version": "1.5.0",
          "state": {
            "_dom_classes": [],
            "_model_module": "@jupyter-widgets/controls",
            "_model_module_version": "1.5.0",
            "_model_name": "HTMLModel",
            "_view_count": null,
            "_view_module": "@jupyter-widgets/controls",
            "_view_module_version": "1.5.0",
            "_view_name": "HTMLView",
            "description": "",
            "description_tooltip": null,
            "layout": "IPY_MODEL_8c1422f9390f4cfbbfde1b635b9d7dc0",
            "placeholder": "​",
            "style": "IPY_MODEL_d23dfc29a3e54ccb810a543fb4809950",
            "value": "Downloading readme: 100%"
          }
        },
        "65a521589c314d9180a632c898e3716d": {
          "model_module": "@jupyter-widgets/controls",
          "model_name": "FloatProgressModel",
          "model_module_version": "1.5.0",
          "state": {
            "_dom_classes": [],
            "_model_module": "@jupyter-widgets/controls",
            "_model_module_version": "1.5.0",
            "_model_name": "FloatProgressModel",
            "_view_count": null,
            "_view_module": "@jupyter-widgets/controls",
            "_view_module_version": "1.5.0",
            "_view_name": "ProgressView",
            "bar_style": "success",
            "description": "",
            "description_tooltip": null,
            "layout": "IPY_MODEL_65f5b383c7a4475aaf3e58f989a4b9a2",
            "max": 478,
            "min": 0,
            "orientation": "horizontal",
            "style": "IPY_MODEL_a8de7c726f624b069c755488a4e66d21",
            "value": 478
          }
        },
        "531fca1350644cb8b70b0ba076525955": {
          "model_module": "@jupyter-widgets/controls",
          "model_name": "HTMLModel",
          "model_module_version": "1.5.0",
          "state": {
            "_dom_classes": [],
            "_model_module": "@jupyter-widgets/controls",
            "_model_module_version": "1.5.0",
            "_model_name": "HTMLModel",
            "_view_count": null,
            "_view_module": "@jupyter-widgets/controls",
            "_view_module_version": "1.5.0",
            "_view_name": "HTMLView",
            "description": "",
            "description_tooltip": null,
            "layout": "IPY_MODEL_8862fda5d6ba4682bec104024dae4e06",
            "placeholder": "​",
            "style": "IPY_MODEL_d141dccd470b4a5ca62ac3c2be971316",
            "value": " 478/478 [00:00&lt;00:00, 12.0kB/s]"
          }
        },
        "a2ba463e027142f5825af5db79d7b284": {
          "model_module": "@jupyter-widgets/base",
          "model_name": "LayoutModel",
          "model_module_version": "1.2.0",
          "state": {
            "_model_module": "@jupyter-widgets/base",
            "_model_module_version": "1.2.0",
            "_model_name": "LayoutModel",
            "_view_count": null,
            "_view_module": "@jupyter-widgets/base",
            "_view_module_version": "1.2.0",
            "_view_name": "LayoutView",
            "align_content": null,
            "align_items": null,
            "align_self": null,
            "border": null,
            "bottom": null,
            "display": null,
            "flex": null,
            "flex_flow": null,
            "grid_area": null,
            "grid_auto_columns": null,
            "grid_auto_flow": null,
            "grid_auto_rows": null,
            "grid_column": null,
            "grid_gap": null,
            "grid_row": null,
            "grid_template_areas": null,
            "grid_template_columns": null,
            "grid_template_rows": null,
            "height": null,
            "justify_content": null,
            "justify_items": null,
            "left": null,
            "margin": null,
            "max_height": null,
            "max_width": null,
            "min_height": null,
            "min_width": null,
            "object_fit": null,
            "object_position": null,
            "order": null,
            "overflow": null,
            "overflow_x": null,
            "overflow_y": null,
            "padding": null,
            "right": null,
            "top": null,
            "visibility": null,
            "width": null
          }
        },
        "8c1422f9390f4cfbbfde1b635b9d7dc0": {
          "model_module": "@jupyter-widgets/base",
          "model_name": "LayoutModel",
          "model_module_version": "1.2.0",
          "state": {
            "_model_module": "@jupyter-widgets/base",
            "_model_module_version": "1.2.0",
            "_model_name": "LayoutModel",
            "_view_count": null,
            "_view_module": "@jupyter-widgets/base",
            "_view_module_version": "1.2.0",
            "_view_name": "LayoutView",
            "align_content": null,
            "align_items": null,
            "align_self": null,
            "border": null,
            "bottom": null,
            "display": null,
            "flex": null,
            "flex_flow": null,
            "grid_area": null,
            "grid_auto_columns": null,
            "grid_auto_flow": null,
            "grid_auto_rows": null,
            "grid_column": null,
            "grid_gap": null,
            "grid_row": null,
            "grid_template_areas": null,
            "grid_template_columns": null,
            "grid_template_rows": null,
            "height": null,
            "justify_content": null,
            "justify_items": null,
            "left": null,
            "margin": null,
            "max_height": null,
            "max_width": null,
            "min_height": null,
            "min_width": null,
            "object_fit": null,
            "object_position": null,
            "order": null,
            "overflow": null,
            "overflow_x": null,
            "overflow_y": null,
            "padding": null,
            "right": null,
            "top": null,
            "visibility": null,
            "width": null
          }
        },
        "d23dfc29a3e54ccb810a543fb4809950": {
          "model_module": "@jupyter-widgets/controls",
          "model_name": "DescriptionStyleModel",
          "model_module_version": "1.5.0",
          "state": {
            "_model_module": "@jupyter-widgets/controls",
            "_model_module_version": "1.5.0",
            "_model_name": "DescriptionStyleModel",
            "_view_count": null,
            "_view_module": "@jupyter-widgets/base",
            "_view_module_version": "1.2.0",
            "_view_name": "StyleView",
            "description_width": ""
          }
        },
        "65f5b383c7a4475aaf3e58f989a4b9a2": {
          "model_module": "@jupyter-widgets/base",
          "model_name": "LayoutModel",
          "model_module_version": "1.2.0",
          "state": {
            "_model_module": "@jupyter-widgets/base",
            "_model_module_version": "1.2.0",
            "_model_name": "LayoutModel",
            "_view_count": null,
            "_view_module": "@jupyter-widgets/base",
            "_view_module_version": "1.2.0",
            "_view_name": "LayoutView",
            "align_content": null,
            "align_items": null,
            "align_self": null,
            "border": null,
            "bottom": null,
            "display": null,
            "flex": null,
            "flex_flow": null,
            "grid_area": null,
            "grid_auto_columns": null,
            "grid_auto_flow": null,
            "grid_auto_rows": null,
            "grid_column": null,
            "grid_gap": null,
            "grid_row": null,
            "grid_template_areas": null,
            "grid_template_columns": null,
            "grid_template_rows": null,
            "height": null,
            "justify_content": null,
            "justify_items": null,
            "left": null,
            "margin": null,
            "max_height": null,
            "max_width": null,
            "min_height": null,
            "min_width": null,
            "object_fit": null,
            "object_position": null,
            "order": null,
            "overflow": null,
            "overflow_x": null,
            "overflow_y": null,
            "padding": null,
            "right": null,
            "top": null,
            "visibility": null,
            "width": null
          }
        },
        "a8de7c726f624b069c755488a4e66d21": {
          "model_module": "@jupyter-widgets/controls",
          "model_name": "ProgressStyleModel",
          "model_module_version": "1.5.0",
          "state": {
            "_model_module": "@jupyter-widgets/controls",
            "_model_module_version": "1.5.0",
            "_model_name": "ProgressStyleModel",
            "_view_count": null,
            "_view_module": "@jupyter-widgets/base",
            "_view_module_version": "1.2.0",
            "_view_name": "StyleView",
            "bar_color": null,
            "description_width": ""
          }
        },
        "8862fda5d6ba4682bec104024dae4e06": {
          "model_module": "@jupyter-widgets/base",
          "model_name": "LayoutModel",
          "model_module_version": "1.2.0",
          "state": {
            "_model_module": "@jupyter-widgets/base",
            "_model_module_version": "1.2.0",
            "_model_name": "LayoutModel",
            "_view_count": null,
            "_view_module": "@jupyter-widgets/base",
            "_view_module_version": "1.2.0",
            "_view_name": "LayoutView",
            "align_content": null,
            "align_items": null,
            "align_self": null,
            "border": null,
            "bottom": null,
            "display": null,
            "flex": null,
            "flex_flow": null,
            "grid_area": null,
            "grid_auto_columns": null,
            "grid_auto_flow": null,
            "grid_auto_rows": null,
            "grid_column": null,
            "grid_gap": null,
            "grid_row": null,
            "grid_template_areas": null,
            "grid_template_columns": null,
            "grid_template_rows": null,
            "height": null,
            "justify_content": null,
            "justify_items": null,
            "left": null,
            "margin": null,
            "max_height": null,
            "max_width": null,
            "min_height": null,
            "min_width": null,
            "object_fit": null,
            "object_position": null,
            "order": null,
            "overflow": null,
            "overflow_x": null,
            "overflow_y": null,
            "padding": null,
            "right": null,
            "top": null,
            "visibility": null,
            "width": null
          }
        },
        "d141dccd470b4a5ca62ac3c2be971316": {
          "model_module": "@jupyter-widgets/controls",
          "model_name": "DescriptionStyleModel",
          "model_module_version": "1.5.0",
          "state": {
            "_model_module": "@jupyter-widgets/controls",
            "_model_module_version": "1.5.0",
            "_model_name": "DescriptionStyleModel",
            "_view_count": null,
            "_view_module": "@jupyter-widgets/base",
            "_view_module_version": "1.2.0",
            "_view_name": "StyleView",
            "description_width": ""
          }
        },
        "46234f330d4d4b3884c92a524a0e3167": {
          "model_module": "@jupyter-widgets/controls",
          "model_name": "HBoxModel",
          "model_module_version": "1.5.0",
          "state": {
            "_dom_classes": [],
            "_model_module": "@jupyter-widgets/controls",
            "_model_module_version": "1.5.0",
            "_model_name": "HBoxModel",
            "_view_count": null,
            "_view_module": "@jupyter-widgets/controls",
            "_view_module_version": "1.5.0",
            "_view_name": "HBoxView",
            "box_style": "",
            "children": [
              "IPY_MODEL_d00d04938dd44f6c9d4e43fa69cce2d6",
              "IPY_MODEL_cd8aa5a20a7d4a8197bfdd53019bc35b",
              "IPY_MODEL_aec8c96b31c5431f8b59fd972c5a8feb"
            ],
            "layout": "IPY_MODEL_6439e58aba9a48d391123b435ca2fef2"
          }
        },
        "d00d04938dd44f6c9d4e43fa69cce2d6": {
          "model_module": "@jupyter-widgets/controls",
          "model_name": "HTMLModel",
          "model_module_version": "1.5.0",
          "state": {
            "_dom_classes": [],
            "_model_module": "@jupyter-widgets/controls",
            "_model_module_version": "1.5.0",
            "_model_name": "HTMLModel",
            "_view_count": null,
            "_view_module": "@jupyter-widgets/controls",
            "_view_module_version": "1.5.0",
            "_view_name": "HTMLView",
            "description": "",
            "description_tooltip": null,
            "layout": "IPY_MODEL_9d9c1134bfd54b549f457e94b105239a",
            "placeholder": "​",
            "style": "IPY_MODEL_09ce4c8c8f3245d989fb48927b2f55c3",
            "value": "Downloading data files: 100%"
          }
        },
        "cd8aa5a20a7d4a8197bfdd53019bc35b": {
          "model_module": "@jupyter-widgets/controls",
          "model_name": "FloatProgressModel",
          "model_module_version": "1.5.0",
          "state": {
            "_dom_classes": [],
            "_model_module": "@jupyter-widgets/controls",
            "_model_module_version": "1.5.0",
            "_model_name": "FloatProgressModel",
            "_view_count": null,
            "_view_module": "@jupyter-widgets/controls",
            "_view_module_version": "1.5.0",
            "_view_name": "ProgressView",
            "bar_style": "success",
            "description": "",
            "description_tooltip": null,
            "layout": "IPY_MODEL_d4618a1896e049eeb8d8aa27712819a5",
            "max": 1,
            "min": 0,
            "orientation": "horizontal",
            "style": "IPY_MODEL_fca95a4e7da44da48004276b1480b259",
            "value": 1
          }
        },
        "aec8c96b31c5431f8b59fd972c5a8feb": {
          "model_module": "@jupyter-widgets/controls",
          "model_name": "HTMLModel",
          "model_module_version": "1.5.0",
          "state": {
            "_dom_classes": [],
            "_model_module": "@jupyter-widgets/controls",
            "_model_module_version": "1.5.0",
            "_model_name": "HTMLModel",
            "_view_count": null,
            "_view_module": "@jupyter-widgets/controls",
            "_view_module_version": "1.5.0",
            "_view_name": "HTMLView",
            "description": "",
            "description_tooltip": null,
            "layout": "IPY_MODEL_1a35aa9ee6ea45d9be45ba4a76659353",
            "placeholder": "​",
            "style": "IPY_MODEL_aae90e340a424e96b17e5bb84d677893",
            "value": " 1/1 [00:06&lt;00:00,  6.11s/it]"
          }
        },
        "6439e58aba9a48d391123b435ca2fef2": {
          "model_module": "@jupyter-widgets/base",
          "model_name": "LayoutModel",
          "model_module_version": "1.2.0",
          "state": {
            "_model_module": "@jupyter-widgets/base",
            "_model_module_version": "1.2.0",
            "_model_name": "LayoutModel",
            "_view_count": null,
            "_view_module": "@jupyter-widgets/base",
            "_view_module_version": "1.2.0",
            "_view_name": "LayoutView",
            "align_content": null,
            "align_items": null,
            "align_self": null,
            "border": null,
            "bottom": null,
            "display": null,
            "flex": null,
            "flex_flow": null,
            "grid_area": null,
            "grid_auto_columns": null,
            "grid_auto_flow": null,
            "grid_auto_rows": null,
            "grid_column": null,
            "grid_gap": null,
            "grid_row": null,
            "grid_template_areas": null,
            "grid_template_columns": null,
            "grid_template_rows": null,
            "height": null,
            "justify_content": null,
            "justify_items": null,
            "left": null,
            "margin": null,
            "max_height": null,
            "max_width": null,
            "min_height": null,
            "min_width": null,
            "object_fit": null,
            "object_position": null,
            "order": null,
            "overflow": null,
            "overflow_x": null,
            "overflow_y": null,
            "padding": null,
            "right": null,
            "top": null,
            "visibility": null,
            "width": null
          }
        },
        "9d9c1134bfd54b549f457e94b105239a": {
          "model_module": "@jupyter-widgets/base",
          "model_name": "LayoutModel",
          "model_module_version": "1.2.0",
          "state": {
            "_model_module": "@jupyter-widgets/base",
            "_model_module_version": "1.2.0",
            "_model_name": "LayoutModel",
            "_view_count": null,
            "_view_module": "@jupyter-widgets/base",
            "_view_module_version": "1.2.0",
            "_view_name": "LayoutView",
            "align_content": null,
            "align_items": null,
            "align_self": null,
            "border": null,
            "bottom": null,
            "display": null,
            "flex": null,
            "flex_flow": null,
            "grid_area": null,
            "grid_auto_columns": null,
            "grid_auto_flow": null,
            "grid_auto_rows": null,
            "grid_column": null,
            "grid_gap": null,
            "grid_row": null,
            "grid_template_areas": null,
            "grid_template_columns": null,
            "grid_template_rows": null,
            "height": null,
            "justify_content": null,
            "justify_items": null,
            "left": null,
            "margin": null,
            "max_height": null,
            "max_width": null,
            "min_height": null,
            "min_width": null,
            "object_fit": null,
            "object_position": null,
            "order": null,
            "overflow": null,
            "overflow_x": null,
            "overflow_y": null,
            "padding": null,
            "right": null,
            "top": null,
            "visibility": null,
            "width": null
          }
        },
        "09ce4c8c8f3245d989fb48927b2f55c3": {
          "model_module": "@jupyter-widgets/controls",
          "model_name": "DescriptionStyleModel",
          "model_module_version": "1.5.0",
          "state": {
            "_model_module": "@jupyter-widgets/controls",
            "_model_module_version": "1.5.0",
            "_model_name": "DescriptionStyleModel",
            "_view_count": null,
            "_view_module": "@jupyter-widgets/base",
            "_view_module_version": "1.2.0",
            "_view_name": "StyleView",
            "description_width": ""
          }
        },
        "d4618a1896e049eeb8d8aa27712819a5": {
          "model_module": "@jupyter-widgets/base",
          "model_name": "LayoutModel",
          "model_module_version": "1.2.0",
          "state": {
            "_model_module": "@jupyter-widgets/base",
            "_model_module_version": "1.2.0",
            "_model_name": "LayoutModel",
            "_view_count": null,
            "_view_module": "@jupyter-widgets/base",
            "_view_module_version": "1.2.0",
            "_view_name": "LayoutView",
            "align_content": null,
            "align_items": null,
            "align_self": null,
            "border": null,
            "bottom": null,
            "display": null,
            "flex": null,
            "flex_flow": null,
            "grid_area": null,
            "grid_auto_columns": null,
            "grid_auto_flow": null,
            "grid_auto_rows": null,
            "grid_column": null,
            "grid_gap": null,
            "grid_row": null,
            "grid_template_areas": null,
            "grid_template_columns": null,
            "grid_template_rows": null,
            "height": null,
            "justify_content": null,
            "justify_items": null,
            "left": null,
            "margin": null,
            "max_height": null,
            "max_width": null,
            "min_height": null,
            "min_width": null,
            "object_fit": null,
            "object_position": null,
            "order": null,
            "overflow": null,
            "overflow_x": null,
            "overflow_y": null,
            "padding": null,
            "right": null,
            "top": null,
            "visibility": null,
            "width": null
          }
        },
        "fca95a4e7da44da48004276b1480b259": {
          "model_module": "@jupyter-widgets/controls",
          "model_name": "ProgressStyleModel",
          "model_module_version": "1.5.0",
          "state": {
            "_model_module": "@jupyter-widgets/controls",
            "_model_module_version": "1.5.0",
            "_model_name": "ProgressStyleModel",
            "_view_count": null,
            "_view_module": "@jupyter-widgets/base",
            "_view_module_version": "1.2.0",
            "_view_name": "StyleView",
            "bar_color": null,
            "description_width": ""
          }
        },
        "1a35aa9ee6ea45d9be45ba4a76659353": {
          "model_module": "@jupyter-widgets/base",
          "model_name": "LayoutModel",
          "model_module_version": "1.2.0",
          "state": {
            "_model_module": "@jupyter-widgets/base",
            "_model_module_version": "1.2.0",
            "_model_name": "LayoutModel",
            "_view_count": null,
            "_view_module": "@jupyter-widgets/base",
            "_view_module_version": "1.2.0",
            "_view_name": "LayoutView",
            "align_content": null,
            "align_items": null,
            "align_self": null,
            "border": null,
            "bottom": null,
            "display": null,
            "flex": null,
            "flex_flow": null,
            "grid_area": null,
            "grid_auto_columns": null,
            "grid_auto_flow": null,
            "grid_auto_rows": null,
            "grid_column": null,
            "grid_gap": null,
            "grid_row": null,
            "grid_template_areas": null,
            "grid_template_columns": null,
            "grid_template_rows": null,
            "height": null,
            "justify_content": null,
            "justify_items": null,
            "left": null,
            "margin": null,
            "max_height": null,
            "max_width": null,
            "min_height": null,
            "min_width": null,
            "object_fit": null,
            "object_position": null,
            "order": null,
            "overflow": null,
            "overflow_x": null,
            "overflow_y": null,
            "padding": null,
            "right": null,
            "top": null,
            "visibility": null,
            "width": null
          }
        },
        "aae90e340a424e96b17e5bb84d677893": {
          "model_module": "@jupyter-widgets/controls",
          "model_name": "DescriptionStyleModel",
          "model_module_version": "1.5.0",
          "state": {
            "_model_module": "@jupyter-widgets/controls",
            "_model_module_version": "1.5.0",
            "_model_name": "DescriptionStyleModel",
            "_view_count": null,
            "_view_module": "@jupyter-widgets/base",
            "_view_module_version": "1.2.0",
            "_view_name": "StyleView",
            "description_width": ""
          }
        },
        "0d6b17d73d80406e9792a16c23e468db": {
          "model_module": "@jupyter-widgets/controls",
          "model_name": "HBoxModel",
          "model_module_version": "1.5.0",
          "state": {
            "_dom_classes": [],
            "_model_module": "@jupyter-widgets/controls",
            "_model_module_version": "1.5.0",
            "_model_name": "HBoxModel",
            "_view_count": null,
            "_view_module": "@jupyter-widgets/controls",
            "_view_module_version": "1.5.0",
            "_view_name": "HBoxView",
            "box_style": "",
            "children": [
              "IPY_MODEL_f90ad85151464703bebdb2041cbc7319",
              "IPY_MODEL_c9c1b93b276d40f7811d171d9af59217",
              "IPY_MODEL_91f7b2167d88452c929444f6f0fc9333"
            ],
            "layout": "IPY_MODEL_fd8aeefa28f849c3a1ef9a15a280ac98"
          }
        },
        "f90ad85151464703bebdb2041cbc7319": {
          "model_module": "@jupyter-widgets/controls",
          "model_name": "HTMLModel",
          "model_module_version": "1.5.0",
          "state": {
            "_dom_classes": [],
            "_model_module": "@jupyter-widgets/controls",
            "_model_module_version": "1.5.0",
            "_model_name": "HTMLModel",
            "_view_count": null,
            "_view_module": "@jupyter-widgets/controls",
            "_view_module_version": "1.5.0",
            "_view_name": "HTMLView",
            "description": "",
            "description_tooltip": null,
            "layout": "IPY_MODEL_a2f4dc00ec6b4d2b80aadd3228b65179",
            "placeholder": "​",
            "style": "IPY_MODEL_1671dc8eaadd42a8a724d460b069a85c",
            "value": "Downloading data: 100%"
          }
        },
        "c9c1b93b276d40f7811d171d9af59217": {
          "model_module": "@jupyter-widgets/controls",
          "model_name": "FloatProgressModel",
          "model_module_version": "1.5.0",
          "state": {
            "_dom_classes": [],
            "_model_module": "@jupyter-widgets/controls",
            "_model_module_version": "1.5.0",
            "_model_name": "FloatProgressModel",
            "_view_count": null,
            "_view_module": "@jupyter-widgets/controls",
            "_view_module_version": "1.5.0",
            "_view_name": "ProgressView",
            "bar_style": "success",
            "description": "",
            "description_tooltip": null,
            "layout": "IPY_MODEL_5c602830a87740178052075a1469107c",
            "max": 66525868,
            "min": 0,
            "orientation": "horizontal",
            "style": "IPY_MODEL_46047bd4ca1940cabcb3aebdea7d0695",
            "value": 66525868
          }
        },
        "91f7b2167d88452c929444f6f0fc9333": {
          "model_module": "@jupyter-widgets/controls",
          "model_name": "HTMLModel",
          "model_module_version": "1.5.0",
          "state": {
            "_dom_classes": [],
            "_model_module": "@jupyter-widgets/controls",
            "_model_module_version": "1.5.0",
            "_model_name": "HTMLModel",
            "_view_count": null,
            "_view_module": "@jupyter-widgets/controls",
            "_view_module_version": "1.5.0",
            "_view_name": "HTMLView",
            "description": "",
            "description_tooltip": null,
            "layout": "IPY_MODEL_038831bd31fc41bcb1b5a2383cc0f957",
            "placeholder": "​",
            "style": "IPY_MODEL_31da61d235cb446ba43e8b742b538a12",
            "value": " 66.5M/66.5M [00:04&lt;00:00, 28.5MB/s]"
          }
        },
        "fd8aeefa28f849c3a1ef9a15a280ac98": {
          "model_module": "@jupyter-widgets/base",
          "model_name": "LayoutModel",
          "model_module_version": "1.2.0",
          "state": {
            "_model_module": "@jupyter-widgets/base",
            "_model_module_version": "1.2.0",
            "_model_name": "LayoutModel",
            "_view_count": null,
            "_view_module": "@jupyter-widgets/base",
            "_view_module_version": "1.2.0",
            "_view_name": "LayoutView",
            "align_content": null,
            "align_items": null,
            "align_self": null,
            "border": null,
            "bottom": null,
            "display": null,
            "flex": null,
            "flex_flow": null,
            "grid_area": null,
            "grid_auto_columns": null,
            "grid_auto_flow": null,
            "grid_auto_rows": null,
            "grid_column": null,
            "grid_gap": null,
            "grid_row": null,
            "grid_template_areas": null,
            "grid_template_columns": null,
            "grid_template_rows": null,
            "height": null,
            "justify_content": null,
            "justify_items": null,
            "left": null,
            "margin": null,
            "max_height": null,
            "max_width": null,
            "min_height": null,
            "min_width": null,
            "object_fit": null,
            "object_position": null,
            "order": null,
            "overflow": null,
            "overflow_x": null,
            "overflow_y": null,
            "padding": null,
            "right": null,
            "top": null,
            "visibility": null,
            "width": null
          }
        },
        "a2f4dc00ec6b4d2b80aadd3228b65179": {
          "model_module": "@jupyter-widgets/base",
          "model_name": "LayoutModel",
          "model_module_version": "1.2.0",
          "state": {
            "_model_module": "@jupyter-widgets/base",
            "_model_module_version": "1.2.0",
            "_model_name": "LayoutModel",
            "_view_count": null,
            "_view_module": "@jupyter-widgets/base",
            "_view_module_version": "1.2.0",
            "_view_name": "LayoutView",
            "align_content": null,
            "align_items": null,
            "align_self": null,
            "border": null,
            "bottom": null,
            "display": null,
            "flex": null,
            "flex_flow": null,
            "grid_area": null,
            "grid_auto_columns": null,
            "grid_auto_flow": null,
            "grid_auto_rows": null,
            "grid_column": null,
            "grid_gap": null,
            "grid_row": null,
            "grid_template_areas": null,
            "grid_template_columns": null,
            "grid_template_rows": null,
            "height": null,
            "justify_content": null,
            "justify_items": null,
            "left": null,
            "margin": null,
            "max_height": null,
            "max_width": null,
            "min_height": null,
            "min_width": null,
            "object_fit": null,
            "object_position": null,
            "order": null,
            "overflow": null,
            "overflow_x": null,
            "overflow_y": null,
            "padding": null,
            "right": null,
            "top": null,
            "visibility": null,
            "width": null
          }
        },
        "1671dc8eaadd42a8a724d460b069a85c": {
          "model_module": "@jupyter-widgets/controls",
          "model_name": "DescriptionStyleModel",
          "model_module_version": "1.5.0",
          "state": {
            "_model_module": "@jupyter-widgets/controls",
            "_model_module_version": "1.5.0",
            "_model_name": "DescriptionStyleModel",
            "_view_count": null,
            "_view_module": "@jupyter-widgets/base",
            "_view_module_version": "1.2.0",
            "_view_name": "StyleView",
            "description_width": ""
          }
        },
        "5c602830a87740178052075a1469107c": {
          "model_module": "@jupyter-widgets/base",
          "model_name": "LayoutModel",
          "model_module_version": "1.2.0",
          "state": {
            "_model_module": "@jupyter-widgets/base",
            "_model_module_version": "1.2.0",
            "_model_name": "LayoutModel",
            "_view_count": null,
            "_view_module": "@jupyter-widgets/base",
            "_view_module_version": "1.2.0",
            "_view_name": "LayoutView",
            "align_content": null,
            "align_items": null,
            "align_self": null,
            "border": null,
            "bottom": null,
            "display": null,
            "flex": null,
            "flex_flow": null,
            "grid_area": null,
            "grid_auto_columns": null,
            "grid_auto_flow": null,
            "grid_auto_rows": null,
            "grid_column": null,
            "grid_gap": null,
            "grid_row": null,
            "grid_template_areas": null,
            "grid_template_columns": null,
            "grid_template_rows": null,
            "height": null,
            "justify_content": null,
            "justify_items": null,
            "left": null,
            "margin": null,
            "max_height": null,
            "max_width": null,
            "min_height": null,
            "min_width": null,
            "object_fit": null,
            "object_position": null,
            "order": null,
            "overflow": null,
            "overflow_x": null,
            "overflow_y": null,
            "padding": null,
            "right": null,
            "top": null,
            "visibility": null,
            "width": null
          }
        },
        "46047bd4ca1940cabcb3aebdea7d0695": {
          "model_module": "@jupyter-widgets/controls",
          "model_name": "ProgressStyleModel",
          "model_module_version": "1.5.0",
          "state": {
            "_model_module": "@jupyter-widgets/controls",
            "_model_module_version": "1.5.0",
            "_model_name": "ProgressStyleModel",
            "_view_count": null,
            "_view_module": "@jupyter-widgets/base",
            "_view_module_version": "1.2.0",
            "_view_name": "StyleView",
            "bar_color": null,
            "description_width": ""
          }
        },
        "038831bd31fc41bcb1b5a2383cc0f957": {
          "model_module": "@jupyter-widgets/base",
          "model_name": "LayoutModel",
          "model_module_version": "1.2.0",
          "state": {
            "_model_module": "@jupyter-widgets/base",
            "_model_module_version": "1.2.0",
            "_model_name": "LayoutModel",
            "_view_count": null,
            "_view_module": "@jupyter-widgets/base",
            "_view_module_version": "1.2.0",
            "_view_name": "LayoutView",
            "align_content": null,
            "align_items": null,
            "align_self": null,
            "border": null,
            "bottom": null,
            "display": null,
            "flex": null,
            "flex_flow": null,
            "grid_area": null,
            "grid_auto_columns": null,
            "grid_auto_flow": null,
            "grid_auto_rows": null,
            "grid_column": null,
            "grid_gap": null,
            "grid_row": null,
            "grid_template_areas": null,
            "grid_template_columns": null,
            "grid_template_rows": null,
            "height": null,
            "justify_content": null,
            "justify_items": null,
            "left": null,
            "margin": null,
            "max_height": null,
            "max_width": null,
            "min_height": null,
            "min_width": null,
            "object_fit": null,
            "object_position": null,
            "order": null,
            "overflow": null,
            "overflow_x": null,
            "overflow_y": null,
            "padding": null,
            "right": null,
            "top": null,
            "visibility": null,
            "width": null
          }
        },
        "31da61d235cb446ba43e8b742b538a12": {
          "model_module": "@jupyter-widgets/controls",
          "model_name": "DescriptionStyleModel",
          "model_module_version": "1.5.0",
          "state": {
            "_model_module": "@jupyter-widgets/controls",
            "_model_module_version": "1.5.0",
            "_model_name": "DescriptionStyleModel",
            "_view_count": null,
            "_view_module": "@jupyter-widgets/base",
            "_view_module_version": "1.2.0",
            "_view_name": "StyleView",
            "description_width": ""
          }
        },
        "39f17528e61c4e9eb538bede3033af2b": {
          "model_module": "@jupyter-widgets/controls",
          "model_name": "HBoxModel",
          "model_module_version": "1.5.0",
          "state": {
            "_dom_classes": [],
            "_model_module": "@jupyter-widgets/controls",
            "_model_module_version": "1.5.0",
            "_model_name": "HBoxModel",
            "_view_count": null,
            "_view_module": "@jupyter-widgets/controls",
            "_view_module_version": "1.5.0",
            "_view_name": "HBoxView",
            "box_style": "",
            "children": [
              "IPY_MODEL_453152f852e24e36820c0f771ff612cd",
              "IPY_MODEL_48ed351aa0d94c569cbe51169bd7c870",
              "IPY_MODEL_0e64a182fdd64946848c5c05ce4ddef1"
            ],
            "layout": "IPY_MODEL_6bca7b6819684d57bdadd6ca6b1a46bb"
          }
        },
        "453152f852e24e36820c0f771ff612cd": {
          "model_module": "@jupyter-widgets/controls",
          "model_name": "HTMLModel",
          "model_module_version": "1.5.0",
          "state": {
            "_dom_classes": [],
            "_model_module": "@jupyter-widgets/controls",
            "_model_module_version": "1.5.0",
            "_model_name": "HTMLModel",
            "_view_count": null,
            "_view_module": "@jupyter-widgets/controls",
            "_view_module_version": "1.5.0",
            "_view_name": "HTMLView",
            "description": "",
            "description_tooltip": null,
            "layout": "IPY_MODEL_53fb5284a7e04a12a5ea575fa7723fad",
            "placeholder": "​",
            "style": "IPY_MODEL_c7df25af6769497383a63902dfe6947e",
            "value": "Extracting data files: 100%"
          }
        },
        "48ed351aa0d94c569cbe51169bd7c870": {
          "model_module": "@jupyter-widgets/controls",
          "model_name": "FloatProgressModel",
          "model_module_version": "1.5.0",
          "state": {
            "_dom_classes": [],
            "_model_module": "@jupyter-widgets/controls",
            "_model_module_version": "1.5.0",
            "_model_name": "FloatProgressModel",
            "_view_count": null,
            "_view_module": "@jupyter-widgets/controls",
            "_view_module_version": "1.5.0",
            "_view_name": "ProgressView",
            "bar_style": "success",
            "description": "",
            "description_tooltip": null,
            "layout": "IPY_MODEL_1993643fa1334209bcee9135ef9dab96",
            "max": 1,
            "min": 0,
            "orientation": "horizontal",
            "style": "IPY_MODEL_de86cb90a14546b5a72fe5f206e1bf38",
            "value": 1
          }
        },
        "0e64a182fdd64946848c5c05ce4ddef1": {
          "model_module": "@jupyter-widgets/controls",
          "model_name": "HTMLModel",
          "model_module_version": "1.5.0",
          "state": {
            "_dom_classes": [],
            "_model_module": "@jupyter-widgets/controls",
            "_model_module_version": "1.5.0",
            "_model_name": "HTMLModel",
            "_view_count": null,
            "_view_module": "@jupyter-widgets/controls",
            "_view_module_version": "1.5.0",
            "_view_name": "HTMLView",
            "description": "",
            "description_tooltip": null,
            "layout": "IPY_MODEL_f894ca555e8a47ca8a4f6a39b75f559f",
            "placeholder": "​",
            "style": "IPY_MODEL_4c8d05759ba74239b05b7f889f100d0d",
            "value": " 1/1 [00:00&lt;00:00, 19.58it/s]"
          }
        },
        "6bca7b6819684d57bdadd6ca6b1a46bb": {
          "model_module": "@jupyter-widgets/base",
          "model_name": "LayoutModel",
          "model_module_version": "1.2.0",
          "state": {
            "_model_module": "@jupyter-widgets/base",
            "_model_module_version": "1.2.0",
            "_model_name": "LayoutModel",
            "_view_count": null,
            "_view_module": "@jupyter-widgets/base",
            "_view_module_version": "1.2.0",
            "_view_name": "LayoutView",
            "align_content": null,
            "align_items": null,
            "align_self": null,
            "border": null,
            "bottom": null,
            "display": null,
            "flex": null,
            "flex_flow": null,
            "grid_area": null,
            "grid_auto_columns": null,
            "grid_auto_flow": null,
            "grid_auto_rows": null,
            "grid_column": null,
            "grid_gap": null,
            "grid_row": null,
            "grid_template_areas": null,
            "grid_template_columns": null,
            "grid_template_rows": null,
            "height": null,
            "justify_content": null,
            "justify_items": null,
            "left": null,
            "margin": null,
            "max_height": null,
            "max_width": null,
            "min_height": null,
            "min_width": null,
            "object_fit": null,
            "object_position": null,
            "order": null,
            "overflow": null,
            "overflow_x": null,
            "overflow_y": null,
            "padding": null,
            "right": null,
            "top": null,
            "visibility": null,
            "width": null
          }
        },
        "53fb5284a7e04a12a5ea575fa7723fad": {
          "model_module": "@jupyter-widgets/base",
          "model_name": "LayoutModel",
          "model_module_version": "1.2.0",
          "state": {
            "_model_module": "@jupyter-widgets/base",
            "_model_module_version": "1.2.0",
            "_model_name": "LayoutModel",
            "_view_count": null,
            "_view_module": "@jupyter-widgets/base",
            "_view_module_version": "1.2.0",
            "_view_name": "LayoutView",
            "align_content": null,
            "align_items": null,
            "align_self": null,
            "border": null,
            "bottom": null,
            "display": null,
            "flex": null,
            "flex_flow": null,
            "grid_area": null,
            "grid_auto_columns": null,
            "grid_auto_flow": null,
            "grid_auto_rows": null,
            "grid_column": null,
            "grid_gap": null,
            "grid_row": null,
            "grid_template_areas": null,
            "grid_template_columns": null,
            "grid_template_rows": null,
            "height": null,
            "justify_content": null,
            "justify_items": null,
            "left": null,
            "margin": null,
            "max_height": null,
            "max_width": null,
            "min_height": null,
            "min_width": null,
            "object_fit": null,
            "object_position": null,
            "order": null,
            "overflow": null,
            "overflow_x": null,
            "overflow_y": null,
            "padding": null,
            "right": null,
            "top": null,
            "visibility": null,
            "width": null
          }
        },
        "c7df25af6769497383a63902dfe6947e": {
          "model_module": "@jupyter-widgets/controls",
          "model_name": "DescriptionStyleModel",
          "model_module_version": "1.5.0",
          "state": {
            "_model_module": "@jupyter-widgets/controls",
            "_model_module_version": "1.5.0",
            "_model_name": "DescriptionStyleModel",
            "_view_count": null,
            "_view_module": "@jupyter-widgets/base",
            "_view_module_version": "1.2.0",
            "_view_name": "StyleView",
            "description_width": ""
          }
        },
        "1993643fa1334209bcee9135ef9dab96": {
          "model_module": "@jupyter-widgets/base",
          "model_name": "LayoutModel",
          "model_module_version": "1.2.0",
          "state": {
            "_model_module": "@jupyter-widgets/base",
            "_model_module_version": "1.2.0",
            "_model_name": "LayoutModel",
            "_view_count": null,
            "_view_module": "@jupyter-widgets/base",
            "_view_module_version": "1.2.0",
            "_view_name": "LayoutView",
            "align_content": null,
            "align_items": null,
            "align_self": null,
            "border": null,
            "bottom": null,
            "display": null,
            "flex": null,
            "flex_flow": null,
            "grid_area": null,
            "grid_auto_columns": null,
            "grid_auto_flow": null,
            "grid_auto_rows": null,
            "grid_column": null,
            "grid_gap": null,
            "grid_row": null,
            "grid_template_areas": null,
            "grid_template_columns": null,
            "grid_template_rows": null,
            "height": null,
            "justify_content": null,
            "justify_items": null,
            "left": null,
            "margin": null,
            "max_height": null,
            "max_width": null,
            "min_height": null,
            "min_width": null,
            "object_fit": null,
            "object_position": null,
            "order": null,
            "overflow": null,
            "overflow_x": null,
            "overflow_y": null,
            "padding": null,
            "right": null,
            "top": null,
            "visibility": null,
            "width": null
          }
        },
        "de86cb90a14546b5a72fe5f206e1bf38": {
          "model_module": "@jupyter-widgets/controls",
          "model_name": "ProgressStyleModel",
          "model_module_version": "1.5.0",
          "state": {
            "_model_module": "@jupyter-widgets/controls",
            "_model_module_version": "1.5.0",
            "_model_name": "ProgressStyleModel",
            "_view_count": null,
            "_view_module": "@jupyter-widgets/base",
            "_view_module_version": "1.2.0",
            "_view_name": "StyleView",
            "bar_color": null,
            "description_width": ""
          }
        },
        "f894ca555e8a47ca8a4f6a39b75f559f": {
          "model_module": "@jupyter-widgets/base",
          "model_name": "LayoutModel",
          "model_module_version": "1.2.0",
          "state": {
            "_model_module": "@jupyter-widgets/base",
            "_model_module_version": "1.2.0",
            "_model_name": "LayoutModel",
            "_view_count": null,
            "_view_module": "@jupyter-widgets/base",
            "_view_module_version": "1.2.0",
            "_view_name": "LayoutView",
            "align_content": null,
            "align_items": null,
            "align_self": null,
            "border": null,
            "bottom": null,
            "display": null,
            "flex": null,
            "flex_flow": null,
            "grid_area": null,
            "grid_auto_columns": null,
            "grid_auto_flow": null,
            "grid_auto_rows": null,
            "grid_column": null,
            "grid_gap": null,
            "grid_row": null,
            "grid_template_areas": null,
            "grid_template_columns": null,
            "grid_template_rows": null,
            "height": null,
            "justify_content": null,
            "justify_items": null,
            "left": null,
            "margin": null,
            "max_height": null,
            "max_width": null,
            "min_height": null,
            "min_width": null,
            "object_fit": null,
            "object_position": null,
            "order": null,
            "overflow": null,
            "overflow_x": null,
            "overflow_y": null,
            "padding": null,
            "right": null,
            "top": null,
            "visibility": null,
            "width": null
          }
        },
        "4c8d05759ba74239b05b7f889f100d0d": {
          "model_module": "@jupyter-widgets/controls",
          "model_name": "DescriptionStyleModel",
          "model_module_version": "1.5.0",
          "state": {
            "_model_module": "@jupyter-widgets/controls",
            "_model_module_version": "1.5.0",
            "_model_name": "DescriptionStyleModel",
            "_view_count": null,
            "_view_module": "@jupyter-widgets/base",
            "_view_module_version": "1.2.0",
            "_view_name": "StyleView",
            "description_width": ""
          }
        },
        "7b804b0ee050442cb7e02fa7bf6e967b": {
          "model_module": "@jupyter-widgets/controls",
          "model_name": "HBoxModel",
          "model_module_version": "1.5.0",
          "state": {
            "_dom_classes": [],
            "_model_module": "@jupyter-widgets/controls",
            "_model_module_version": "1.5.0",
            "_model_name": "HBoxModel",
            "_view_count": null,
            "_view_module": "@jupyter-widgets/controls",
            "_view_module_version": "1.5.0",
            "_view_name": "HBoxView",
            "box_style": "",
            "children": [
              "IPY_MODEL_651b551178c14b32825afc3315260e72",
              "IPY_MODEL_8db3e209fab54dd6b2777b23eefc8f86",
              "IPY_MODEL_0cdc728bf792468bb921a7ad9f53b7dc"
            ],
            "layout": "IPY_MODEL_f6d80a6672494c37992dd08303129084"
          }
        },
        "651b551178c14b32825afc3315260e72": {
          "model_module": "@jupyter-widgets/controls",
          "model_name": "HTMLModel",
          "model_module_version": "1.5.0",
          "state": {
            "_dom_classes": [],
            "_model_module": "@jupyter-widgets/controls",
            "_model_module_version": "1.5.0",
            "_model_name": "HTMLModel",
            "_view_count": null,
            "_view_module": "@jupyter-widgets/controls",
            "_view_module_version": "1.5.0",
            "_view_name": "HTMLView",
            "description": "",
            "description_tooltip": null,
            "layout": "IPY_MODEL_bd48c79ed36b4c0f97996474d394f782",
            "placeholder": "​",
            "style": "IPY_MODEL_83b2c63929a349928c51f6072e66f8d8",
            "value": "Generating train split:  92%"
          }
        },
        "8db3e209fab54dd6b2777b23eefc8f86": {
          "model_module": "@jupyter-widgets/controls",
          "model_name": "FloatProgressModel",
          "model_module_version": "1.5.0",
          "state": {
            "_dom_classes": [],
            "_model_module": "@jupyter-widgets/controls",
            "_model_module_version": "1.5.0",
            "_model_name": "FloatProgressModel",
            "_view_count": null,
            "_view_module": "@jupyter-widgets/controls",
            "_view_module_version": "1.5.0",
            "_view_name": "ProgressView",
            "bar_style": "",
            "description": "",
            "description_tooltip": null,
            "layout": "IPY_MODEL_6e47e65b3ee149dca667f952f2cca273",
            "max": 605457,
            "min": 0,
            "orientation": "horizontal",
            "style": "IPY_MODEL_cde6131058bd4b4dbb1ed12d4e061198",
            "value": 605457
          }
        },
        "0cdc728bf792468bb921a7ad9f53b7dc": {
          "model_module": "@jupyter-widgets/controls",
          "model_name": "HTMLModel",
          "model_module_version": "1.5.0",
          "state": {
            "_dom_classes": [],
            "_model_module": "@jupyter-widgets/controls",
            "_model_module_version": "1.5.0",
            "_model_name": "HTMLModel",
            "_view_count": null,
            "_view_module": "@jupyter-widgets/controls",
            "_view_module_version": "1.5.0",
            "_view_name": "HTMLView",
            "description": "",
            "description_tooltip": null,
            "layout": "IPY_MODEL_5acf09485889422a8f21269943884b8e",
            "placeholder": "​",
            "style": "IPY_MODEL_95b09941f8554c3ba0dcb4ae3d79f8e1",
            "value": " 560000/605457 [00:01&lt;00:00, 407076.53 examples/s]"
          }
        },
        "f6d80a6672494c37992dd08303129084": {
          "model_module": "@jupyter-widgets/base",
          "model_name": "LayoutModel",
          "model_module_version": "1.2.0",
          "state": {
            "_model_module": "@jupyter-widgets/base",
            "_model_module_version": "1.2.0",
            "_model_name": "LayoutModel",
            "_view_count": null,
            "_view_module": "@jupyter-widgets/base",
            "_view_module_version": "1.2.0",
            "_view_name": "LayoutView",
            "align_content": null,
            "align_items": null,
            "align_self": null,
            "border": null,
            "bottom": null,
            "display": null,
            "flex": null,
            "flex_flow": null,
            "grid_area": null,
            "grid_auto_columns": null,
            "grid_auto_flow": null,
            "grid_auto_rows": null,
            "grid_column": null,
            "grid_gap": null,
            "grid_row": null,
            "grid_template_areas": null,
            "grid_template_columns": null,
            "grid_template_rows": null,
            "height": null,
            "justify_content": null,
            "justify_items": null,
            "left": null,
            "margin": null,
            "max_height": null,
            "max_width": null,
            "min_height": null,
            "min_width": null,
            "object_fit": null,
            "object_position": null,
            "order": null,
            "overflow": null,
            "overflow_x": null,
            "overflow_y": null,
            "padding": null,
            "right": null,
            "top": null,
            "visibility": "hidden",
            "width": null
          }
        },
        "bd48c79ed36b4c0f97996474d394f782": {
          "model_module": "@jupyter-widgets/base",
          "model_name": "LayoutModel",
          "model_module_version": "1.2.0",
          "state": {
            "_model_module": "@jupyter-widgets/base",
            "_model_module_version": "1.2.0",
            "_model_name": "LayoutModel",
            "_view_count": null,
            "_view_module": "@jupyter-widgets/base",
            "_view_module_version": "1.2.0",
            "_view_name": "LayoutView",
            "align_content": null,
            "align_items": null,
            "align_self": null,
            "border": null,
            "bottom": null,
            "display": null,
            "flex": null,
            "flex_flow": null,
            "grid_area": null,
            "grid_auto_columns": null,
            "grid_auto_flow": null,
            "grid_auto_rows": null,
            "grid_column": null,
            "grid_gap": null,
            "grid_row": null,
            "grid_template_areas": null,
            "grid_template_columns": null,
            "grid_template_rows": null,
            "height": null,
            "justify_content": null,
            "justify_items": null,
            "left": null,
            "margin": null,
            "max_height": null,
            "max_width": null,
            "min_height": null,
            "min_width": null,
            "object_fit": null,
            "object_position": null,
            "order": null,
            "overflow": null,
            "overflow_x": null,
            "overflow_y": null,
            "padding": null,
            "right": null,
            "top": null,
            "visibility": null,
            "width": null
          }
        },
        "83b2c63929a349928c51f6072e66f8d8": {
          "model_module": "@jupyter-widgets/controls",
          "model_name": "DescriptionStyleModel",
          "model_module_version": "1.5.0",
          "state": {
            "_model_module": "@jupyter-widgets/controls",
            "_model_module_version": "1.5.0",
            "_model_name": "DescriptionStyleModel",
            "_view_count": null,
            "_view_module": "@jupyter-widgets/base",
            "_view_module_version": "1.2.0",
            "_view_name": "StyleView",
            "description_width": ""
          }
        },
        "6e47e65b3ee149dca667f952f2cca273": {
          "model_module": "@jupyter-widgets/base",
          "model_name": "LayoutModel",
          "model_module_version": "1.2.0",
          "state": {
            "_model_module": "@jupyter-widgets/base",
            "_model_module_version": "1.2.0",
            "_model_name": "LayoutModel",
            "_view_count": null,
            "_view_module": "@jupyter-widgets/base",
            "_view_module_version": "1.2.0",
            "_view_name": "LayoutView",
            "align_content": null,
            "align_items": null,
            "align_self": null,
            "border": null,
            "bottom": null,
            "display": null,
            "flex": null,
            "flex_flow": null,
            "grid_area": null,
            "grid_auto_columns": null,
            "grid_auto_flow": null,
            "grid_auto_rows": null,
            "grid_column": null,
            "grid_gap": null,
            "grid_row": null,
            "grid_template_areas": null,
            "grid_template_columns": null,
            "grid_template_rows": null,
            "height": null,
            "justify_content": null,
            "justify_items": null,
            "left": null,
            "margin": null,
            "max_height": null,
            "max_width": null,
            "min_height": null,
            "min_width": null,
            "object_fit": null,
            "object_position": null,
            "order": null,
            "overflow": null,
            "overflow_x": null,
            "overflow_y": null,
            "padding": null,
            "right": null,
            "top": null,
            "visibility": null,
            "width": null
          }
        },
        "cde6131058bd4b4dbb1ed12d4e061198": {
          "model_module": "@jupyter-widgets/controls",
          "model_name": "ProgressStyleModel",
          "model_module_version": "1.5.0",
          "state": {
            "_model_module": "@jupyter-widgets/controls",
            "_model_module_version": "1.5.0",
            "_model_name": "ProgressStyleModel",
            "_view_count": null,
            "_view_module": "@jupyter-widgets/base",
            "_view_module_version": "1.2.0",
            "_view_name": "StyleView",
            "bar_color": null,
            "description_width": ""
          }
        },
        "5acf09485889422a8f21269943884b8e": {
          "model_module": "@jupyter-widgets/base",
          "model_name": "LayoutModel",
          "model_module_version": "1.2.0",
          "state": {
            "_model_module": "@jupyter-widgets/base",
            "_model_module_version": "1.2.0",
            "_model_name": "LayoutModel",
            "_view_count": null,
            "_view_module": "@jupyter-widgets/base",
            "_view_module_version": "1.2.0",
            "_view_name": "LayoutView",
            "align_content": null,
            "align_items": null,
            "align_self": null,
            "border": null,
            "bottom": null,
            "display": null,
            "flex": null,
            "flex_flow": null,
            "grid_area": null,
            "grid_auto_columns": null,
            "grid_auto_flow": null,
            "grid_auto_rows": null,
            "grid_column": null,
            "grid_gap": null,
            "grid_row": null,
            "grid_template_areas": null,
            "grid_template_columns": null,
            "grid_template_rows": null,
            "height": null,
            "justify_content": null,
            "justify_items": null,
            "left": null,
            "margin": null,
            "max_height": null,
            "max_width": null,
            "min_height": null,
            "min_width": null,
            "object_fit": null,
            "object_position": null,
            "order": null,
            "overflow": null,
            "overflow_x": null,
            "overflow_y": null,
            "padding": null,
            "right": null,
            "top": null,
            "visibility": null,
            "width": null
          }
        },
        "95b09941f8554c3ba0dcb4ae3d79f8e1": {
          "model_module": "@jupyter-widgets/controls",
          "model_name": "DescriptionStyleModel",
          "model_module_version": "1.5.0",
          "state": {
            "_model_module": "@jupyter-widgets/controls",
            "_model_module_version": "1.5.0",
            "_model_name": "DescriptionStyleModel",
            "_view_count": null,
            "_view_module": "@jupyter-widgets/base",
            "_view_module_version": "1.2.0",
            "_view_name": "StyleView",
            "description_width": ""
          }
        },
        "8979d1a3a8944c9081427687e614ec63": {
          "model_module": "@jupyter-widgets/controls",
          "model_name": "HBoxModel",
          "model_module_version": "1.5.0",
          "state": {
            "_dom_classes": [],
            "_model_module": "@jupyter-widgets/controls",
            "_model_module_version": "1.5.0",
            "_model_name": "HBoxModel",
            "_view_count": null,
            "_view_module": "@jupyter-widgets/controls",
            "_view_module_version": "1.5.0",
            "_view_name": "HBoxView",
            "box_style": "",
            "children": [
              "IPY_MODEL_e6a97b2764a04622929796b12dcc3250",
              "IPY_MODEL_2e2e67f8853643fba687db6dabef6ae5",
              "IPY_MODEL_6eee609dcb484d40904c1602b2679bac"
            ],
            "layout": "IPY_MODEL_2a944a5a847f4395924e1fab59bad767"
          }
        },
        "e6a97b2764a04622929796b12dcc3250": {
          "model_module": "@jupyter-widgets/controls",
          "model_name": "HTMLModel",
          "model_module_version": "1.5.0",
          "state": {
            "_dom_classes": [],
            "_model_module": "@jupyter-widgets/controls",
            "_model_module_version": "1.5.0",
            "_model_name": "HTMLModel",
            "_view_count": null,
            "_view_module": "@jupyter-widgets/controls",
            "_view_module_version": "1.5.0",
            "_view_name": "HTMLView",
            "description": "",
            "description_tooltip": null,
            "layout": "IPY_MODEL_c0de61c95a4f4253920794e778ed2f71",
            "placeholder": "​",
            "style": "IPY_MODEL_0ff2c0e977af44009a2502cd7eeb8835",
            "value": "100%"
          }
        },
        "2e2e67f8853643fba687db6dabef6ae5": {
          "model_module": "@jupyter-widgets/controls",
          "model_name": "FloatProgressModel",
          "model_module_version": "1.5.0",
          "state": {
            "_dom_classes": [],
            "_model_module": "@jupyter-widgets/controls",
            "_model_module_version": "1.5.0",
            "_model_name": "FloatProgressModel",
            "_view_count": null,
            "_view_module": "@jupyter-widgets/controls",
            "_view_module_version": "1.5.0",
            "_view_name": "ProgressView",
            "bar_style": "success",
            "description": "",
            "description_tooltip": null,
            "layout": "IPY_MODEL_eff5bfd314d445f2a5bfbdf552437e88",
            "max": 1,
            "min": 0,
            "orientation": "horizontal",
            "style": "IPY_MODEL_095f081b2adc416992f1f44ba0be6f0e",
            "value": 1
          }
        },
        "6eee609dcb484d40904c1602b2679bac": {
          "model_module": "@jupyter-widgets/controls",
          "model_name": "HTMLModel",
          "model_module_version": "1.5.0",
          "state": {
            "_dom_classes": [],
            "_model_module": "@jupyter-widgets/controls",
            "_model_module_version": "1.5.0",
            "_model_name": "HTMLModel",
            "_view_count": null,
            "_view_module": "@jupyter-widgets/controls",
            "_view_module_version": "1.5.0",
            "_view_name": "HTMLView",
            "description": "",
            "description_tooltip": null,
            "layout": "IPY_MODEL_5450c2ce05834240ae92b3a41dbb527a",
            "placeholder": "​",
            "style": "IPY_MODEL_62459608bf4d4061b86908fd384c1400",
            "value": " 1/1 [00:00&lt;00:00,  8.41it/s]"
          }
        },
        "2a944a5a847f4395924e1fab59bad767": {
          "model_module": "@jupyter-widgets/base",
          "model_name": "LayoutModel",
          "model_module_version": "1.2.0",
          "state": {
            "_model_module": "@jupyter-widgets/base",
            "_model_module_version": "1.2.0",
            "_model_name": "LayoutModel",
            "_view_count": null,
            "_view_module": "@jupyter-widgets/base",
            "_view_module_version": "1.2.0",
            "_view_name": "LayoutView",
            "align_content": null,
            "align_items": null,
            "align_self": null,
            "border": null,
            "bottom": null,
            "display": null,
            "flex": null,
            "flex_flow": null,
            "grid_area": null,
            "grid_auto_columns": null,
            "grid_auto_flow": null,
            "grid_auto_rows": null,
            "grid_column": null,
            "grid_gap": null,
            "grid_row": null,
            "grid_template_areas": null,
            "grid_template_columns": null,
            "grid_template_rows": null,
            "height": null,
            "justify_content": null,
            "justify_items": null,
            "left": null,
            "margin": null,
            "max_height": null,
            "max_width": null,
            "min_height": null,
            "min_width": null,
            "object_fit": null,
            "object_position": null,
            "order": null,
            "overflow": null,
            "overflow_x": null,
            "overflow_y": null,
            "padding": null,
            "right": null,
            "top": null,
            "visibility": null,
            "width": null
          }
        },
        "c0de61c95a4f4253920794e778ed2f71": {
          "model_module": "@jupyter-widgets/base",
          "model_name": "LayoutModel",
          "model_module_version": "1.2.0",
          "state": {
            "_model_module": "@jupyter-widgets/base",
            "_model_module_version": "1.2.0",
            "_model_name": "LayoutModel",
            "_view_count": null,
            "_view_module": "@jupyter-widgets/base",
            "_view_module_version": "1.2.0",
            "_view_name": "LayoutView",
            "align_content": null,
            "align_items": null,
            "align_self": null,
            "border": null,
            "bottom": null,
            "display": null,
            "flex": null,
            "flex_flow": null,
            "grid_area": null,
            "grid_auto_columns": null,
            "grid_auto_flow": null,
            "grid_auto_rows": null,
            "grid_column": null,
            "grid_gap": null,
            "grid_row": null,
            "grid_template_areas": null,
            "grid_template_columns": null,
            "grid_template_rows": null,
            "height": null,
            "justify_content": null,
            "justify_items": null,
            "left": null,
            "margin": null,
            "max_height": null,
            "max_width": null,
            "min_height": null,
            "min_width": null,
            "object_fit": null,
            "object_position": null,
            "order": null,
            "overflow": null,
            "overflow_x": null,
            "overflow_y": null,
            "padding": null,
            "right": null,
            "top": null,
            "visibility": null,
            "width": null
          }
        },
        "0ff2c0e977af44009a2502cd7eeb8835": {
          "model_module": "@jupyter-widgets/controls",
          "model_name": "DescriptionStyleModel",
          "model_module_version": "1.5.0",
          "state": {
            "_model_module": "@jupyter-widgets/controls",
            "_model_module_version": "1.5.0",
            "_model_name": "DescriptionStyleModel",
            "_view_count": null,
            "_view_module": "@jupyter-widgets/base",
            "_view_module_version": "1.2.0",
            "_view_name": "StyleView",
            "description_width": ""
          }
        },
        "eff5bfd314d445f2a5bfbdf552437e88": {
          "model_module": "@jupyter-widgets/base",
          "model_name": "LayoutModel",
          "model_module_version": "1.2.0",
          "state": {
            "_model_module": "@jupyter-widgets/base",
            "_model_module_version": "1.2.0",
            "_model_name": "LayoutModel",
            "_view_count": null,
            "_view_module": "@jupyter-widgets/base",
            "_view_module_version": "1.2.0",
            "_view_name": "LayoutView",
            "align_content": null,
            "align_items": null,
            "align_self": null,
            "border": null,
            "bottom": null,
            "display": null,
            "flex": null,
            "flex_flow": null,
            "grid_area": null,
            "grid_auto_columns": null,
            "grid_auto_flow": null,
            "grid_auto_rows": null,
            "grid_column": null,
            "grid_gap": null,
            "grid_row": null,
            "grid_template_areas": null,
            "grid_template_columns": null,
            "grid_template_rows": null,
            "height": null,
            "justify_content": null,
            "justify_items": null,
            "left": null,
            "margin": null,
            "max_height": null,
            "max_width": null,
            "min_height": null,
            "min_width": null,
            "object_fit": null,
            "object_position": null,
            "order": null,
            "overflow": null,
            "overflow_x": null,
            "overflow_y": null,
            "padding": null,
            "right": null,
            "top": null,
            "visibility": null,
            "width": null
          }
        },
        "095f081b2adc416992f1f44ba0be6f0e": {
          "model_module": "@jupyter-widgets/controls",
          "model_name": "ProgressStyleModel",
          "model_module_version": "1.5.0",
          "state": {
            "_model_module": "@jupyter-widgets/controls",
            "_model_module_version": "1.5.0",
            "_model_name": "ProgressStyleModel",
            "_view_count": null,
            "_view_module": "@jupyter-widgets/base",
            "_view_module_version": "1.2.0",
            "_view_name": "StyleView",
            "bar_color": null,
            "description_width": ""
          }
        },
        "5450c2ce05834240ae92b3a41dbb527a": {
          "model_module": "@jupyter-widgets/base",
          "model_name": "LayoutModel",
          "model_module_version": "1.2.0",
          "state": {
            "_model_module": "@jupyter-widgets/base",
            "_model_module_version": "1.2.0",
            "_model_name": "LayoutModel",
            "_view_count": null,
            "_view_module": "@jupyter-widgets/base",
            "_view_module_version": "1.2.0",
            "_view_name": "LayoutView",
            "align_content": null,
            "align_items": null,
            "align_self": null,
            "border": null,
            "bottom": null,
            "display": null,
            "flex": null,
            "flex_flow": null,
            "grid_area": null,
            "grid_auto_columns": null,
            "grid_auto_flow": null,
            "grid_auto_rows": null,
            "grid_column": null,
            "grid_gap": null,
            "grid_row": null,
            "grid_template_areas": null,
            "grid_template_columns": null,
            "grid_template_rows": null,
            "height": null,
            "justify_content": null,
            "justify_items": null,
            "left": null,
            "margin": null,
            "max_height": null,
            "max_width": null,
            "min_height": null,
            "min_width": null,
            "object_fit": null,
            "object_position": null,
            "order": null,
            "overflow": null,
            "overflow_x": null,
            "overflow_y": null,
            "padding": null,
            "right": null,
            "top": null,
            "visibility": null,
            "width": null
          }
        },
        "62459608bf4d4061b86908fd384c1400": {
          "model_module": "@jupyter-widgets/controls",
          "model_name": "DescriptionStyleModel",
          "model_module_version": "1.5.0",
          "state": {
            "_model_module": "@jupyter-widgets/controls",
            "_model_module_version": "1.5.0",
            "_model_name": "DescriptionStyleModel",
            "_view_count": null,
            "_view_module": "@jupyter-widgets/base",
            "_view_module_version": "1.2.0",
            "_view_name": "StyleView",
            "description_width": ""
          }
        }
      }
    }
  },
  "cells": [
    {
      "cell_type": "code",
      "source": [
        "!pip install mediawikiapi\n",
        "!pip install datasets"
      ],
      "metadata": {
        "colab": {
          "base_uri": "https://localhost:8080/"
        },
        "id": "OMPBzZMYyKRb",
        "outputId": "991ab1eb-2887-4732-c985-76e7e2df815c"
      },
      "execution_count": null,
      "outputs": [
        {
          "output_type": "stream",
          "name": "stdout",
          "text": [
            "Looking in indexes: https://pypi.org/simple, https://us-python.pkg.dev/colab-wheels/public/simple/\n",
            "Collecting mediawikiapi\n",
            "  Downloading mediawikiapi-1.1.6-py3-none-any.whl (15 kB)\n",
            "Requirement already satisfied: requests<3.0.0,>=2.0.0 in /usr/local/lib/python3.8/dist-packages (from mediawikiapi) (2.25.1)\n",
            "Collecting beautifulsoup4==4.11.1\n",
            "  Downloading beautifulsoup4-4.11.1-py3-none-any.whl (128 kB)\n",
            "\u001b[2K     \u001b[90m━━━━━━━━━━━━━━━━━━━━━━━━━━━━━━━━━━━━━━━\u001b[0m \u001b[32m128.2/128.2 KB\u001b[0m \u001b[31m3.1 MB/s\u001b[0m eta \u001b[36m0:00:00\u001b[0m\n",
            "\u001b[?25hCollecting soupsieve>1.2\n",
            "  Downloading soupsieve-2.3.2.post1-py3-none-any.whl (37 kB)\n",
            "Requirement already satisfied: chardet<5,>=3.0.2 in /usr/local/lib/python3.8/dist-packages (from requests<3.0.0,>=2.0.0->mediawikiapi) (4.0.0)\n",
            "Requirement already satisfied: certifi>=2017.4.17 in /usr/local/lib/python3.8/dist-packages (from requests<3.0.0,>=2.0.0->mediawikiapi) (2022.12.7)\n",
            "Requirement already satisfied: urllib3<1.27,>=1.21.1 in /usr/local/lib/python3.8/dist-packages (from requests<3.0.0,>=2.0.0->mediawikiapi) (1.24.3)\n",
            "Requirement already satisfied: idna<3,>=2.5 in /usr/local/lib/python3.8/dist-packages (from requests<3.0.0,>=2.0.0->mediawikiapi) (2.10)\n",
            "Installing collected packages: soupsieve, beautifulsoup4, mediawikiapi\n",
            "  Attempting uninstall: beautifulsoup4\n",
            "    Found existing installation: beautifulsoup4 4.6.3\n",
            "    Uninstalling beautifulsoup4-4.6.3:\n",
            "      Successfully uninstalled beautifulsoup4-4.6.3\n",
            "Successfully installed beautifulsoup4-4.11.1 mediawikiapi-1.1.6 soupsieve-2.3.2.post1\n",
            "Looking in indexes: https://pypi.org/simple, https://us-python.pkg.dev/colab-wheels/public/simple/\n",
            "Collecting datasets\n",
            "  Downloading datasets-2.9.0-py3-none-any.whl (462 kB)\n",
            "\u001b[2K     \u001b[90m━━━━━━━━━━━━━━━━━━━━━━━━━━━━━━━━━━━━━━\u001b[0m \u001b[32m462.8/462.8 KB\u001b[0m \u001b[31m11.2 MB/s\u001b[0m eta \u001b[36m0:00:00\u001b[0m\n",
            "\u001b[?25hRequirement already satisfied: aiohttp in /usr/local/lib/python3.8/dist-packages (from datasets) (3.8.3)\n",
            "Collecting huggingface-hub<1.0.0,>=0.2.0\n",
            "  Downloading huggingface_hub-0.12.0-py3-none-any.whl (190 kB)\n",
            "\u001b[2K     \u001b[90m━━━━━━━━━━━━━━━━━━━━━━━━━━━━━━━━━━━━━━\u001b[0m \u001b[32m190.3/190.3 KB\u001b[0m \u001b[31m15.6 MB/s\u001b[0m eta \u001b[36m0:00:00\u001b[0m\n",
            "\u001b[?25hRequirement already satisfied: pyyaml>=5.1 in /usr/local/lib/python3.8/dist-packages (from datasets) (6.0)\n",
            "Requirement already satisfied: pyarrow>=6.0.0 in /usr/local/lib/python3.8/dist-packages (from datasets) (9.0.0)\n",
            "Requirement already satisfied: requests>=2.19.0 in /usr/local/lib/python3.8/dist-packages (from datasets) (2.25.1)\n",
            "Collecting responses<0.19\n",
            "  Downloading responses-0.18.0-py3-none-any.whl (38 kB)\n",
            "Requirement already satisfied: fsspec[http]>=2021.11.1 in /usr/local/lib/python3.8/dist-packages (from datasets) (2023.1.0)\n",
            "Collecting multiprocess\n",
            "  Downloading multiprocess-0.70.14-py38-none-any.whl (132 kB)\n",
            "\u001b[2K     \u001b[90m━━━━━━━━━━━━━━━━━━━━━━━━━━━━━━━━━━━━━━━\u001b[0m \u001b[32m132.0/132.0 KB\u001b[0m \u001b[31m4.9 MB/s\u001b[0m eta \u001b[36m0:00:00\u001b[0m\n",
            "\u001b[?25hCollecting xxhash\n",
            "  Downloading xxhash-3.2.0-cp38-cp38-manylinux_2_17_x86_64.manylinux2014_x86_64.whl (213 kB)\n",
            "\u001b[2K     \u001b[90m━━━━━━━━━━━━━━━━━━━━━━━━━━━━━━━━━━━━━━\u001b[0m \u001b[32m213.0/213.0 KB\u001b[0m \u001b[31m18.4 MB/s\u001b[0m eta \u001b[36m0:00:00\u001b[0m\n",
            "\u001b[?25hRequirement already satisfied: pandas in /usr/local/lib/python3.8/dist-packages (from datasets) (1.3.5)\n",
            "Requirement already satisfied: tqdm>=4.62.1 in /usr/local/lib/python3.8/dist-packages (from datasets) (4.64.1)\n",
            "Requirement already satisfied: packaging in /usr/local/lib/python3.8/dist-packages (from datasets) (23.0)\n",
            "Requirement already satisfied: numpy>=1.17 in /usr/local/lib/python3.8/dist-packages (from datasets) (1.21.6)\n",
            "Requirement already satisfied: dill<0.3.7 in /usr/local/lib/python3.8/dist-packages (from datasets) (0.3.6)\n",
            "Requirement already satisfied: charset-normalizer<3.0,>=2.0 in /usr/local/lib/python3.8/dist-packages (from aiohttp->datasets) (2.1.1)\n",
            "Requirement already satisfied: async-timeout<5.0,>=4.0.0a3 in /usr/local/lib/python3.8/dist-packages (from aiohttp->datasets) (4.0.2)\n",
            "Requirement already satisfied: aiosignal>=1.1.2 in /usr/local/lib/python3.8/dist-packages (from aiohttp->datasets) (1.3.1)\n",
            "Requirement already satisfied: yarl<2.0,>=1.0 in /usr/local/lib/python3.8/dist-packages (from aiohttp->datasets) (1.8.2)\n",
            "Requirement already satisfied: multidict<7.0,>=4.5 in /usr/local/lib/python3.8/dist-packages (from aiohttp->datasets) (6.0.4)\n",
            "Requirement already satisfied: frozenlist>=1.1.1 in /usr/local/lib/python3.8/dist-packages (from aiohttp->datasets) (1.3.3)\n",
            "Requirement already satisfied: attrs>=17.3.0 in /usr/local/lib/python3.8/dist-packages (from aiohttp->datasets) (22.2.0)\n",
            "Requirement already satisfied: typing-extensions>=3.7.4.3 in /usr/local/lib/python3.8/dist-packages (from huggingface-hub<1.0.0,>=0.2.0->datasets) (4.4.0)\n",
            "Requirement already satisfied: filelock in /usr/local/lib/python3.8/dist-packages (from huggingface-hub<1.0.0,>=0.2.0->datasets) (3.9.0)\n",
            "Requirement already satisfied: idna<3,>=2.5 in /usr/local/lib/python3.8/dist-packages (from requests>=2.19.0->datasets) (2.10)\n",
            "Requirement already satisfied: chardet<5,>=3.0.2 in /usr/local/lib/python3.8/dist-packages (from requests>=2.19.0->datasets) (4.0.0)\n",
            "Requirement already satisfied: certifi>=2017.4.17 in /usr/local/lib/python3.8/dist-packages (from requests>=2.19.0->datasets) (2022.12.7)\n",
            "Requirement already satisfied: urllib3<1.27,>=1.21.1 in /usr/local/lib/python3.8/dist-packages (from requests>=2.19.0->datasets) (1.24.3)\n",
            "Collecting urllib3<1.27,>=1.21.1\n",
            "  Downloading urllib3-1.26.14-py2.py3-none-any.whl (140 kB)\n",
            "\u001b[2K     \u001b[90m━━━━━━━━━━━━━━━━━━━━━━━━━━━━━━━━━━━━━━\u001b[0m \u001b[32m140.6/140.6 KB\u001b[0m \u001b[31m14.1 MB/s\u001b[0m eta \u001b[36m0:00:00\u001b[0m\n",
            "\u001b[?25hRequirement already satisfied: python-dateutil>=2.7.3 in /usr/local/lib/python3.8/dist-packages (from pandas->datasets) (2.8.2)\n",
            "Requirement already satisfied: pytz>=2017.3 in /usr/local/lib/python3.8/dist-packages (from pandas->datasets) (2022.7.1)\n",
            "Requirement already satisfied: six>=1.5 in /usr/local/lib/python3.8/dist-packages (from python-dateutil>=2.7.3->pandas->datasets) (1.15.0)\n",
            "Installing collected packages: xxhash, urllib3, multiprocess, responses, huggingface-hub, datasets\n",
            "  Attempting uninstall: urllib3\n",
            "    Found existing installation: urllib3 1.24.3\n",
            "    Uninstalling urllib3-1.24.3:\n",
            "      Successfully uninstalled urllib3-1.24.3\n",
            "Successfully installed datasets-2.9.0 huggingface-hub-0.12.0 multiprocess-0.70.14 responses-0.18.0 urllib3-1.26.14 xxhash-3.2.0\n"
          ]
        }
      ]
    },
    {
      "cell_type": "code",
      "source": [
        "from mediawikiapi import MediaWikiAPI\n",
        "import pandas as pd\n",
        "import tqdm\n",
        "import datetime as dt\n",
        "import asyncio\n",
        "import multiprocessing\n",
        "import os\n",
        "import psutil\n",
        "import threading\n",
        "import time\n",
        "import concurrent.futures\n",
        "from mediawikiapi.exceptions import PageError\n",
        "import random\n",
        "from requests.exceptions import ConnectionError\n",
        "from mediawikiapi.exceptions import MediaWikiAPIException\n",
        "#from requests import JSONDecodeError\n",
        "from json import JSONDecodeError\n",
        "\n",
        "import os\n",
        "import datasets \n",
        "import numpy as np\n",
        "mediawikiapi = MediaWikiAPI()\n",
        "\n",
        "\n",
        "mediawikiapi.config.language = \"no\"\n",
        "dataset_nowiki = datasets.load_dataset(\"jkorsvik/nowiki_abstract_urls_20230120\")"
      ],
      "metadata": {
        "colab": {
          "base_uri": "https://localhost:8080/",
          "height": 249,
          "referenced_widgets": [
            "a8d1de10004146d18fa55565c971f961",
            "1c67229ddb934b4ca912a341e95a5b89",
            "65a521589c314d9180a632c898e3716d",
            "531fca1350644cb8b70b0ba076525955",
            "a2ba463e027142f5825af5db79d7b284",
            "8c1422f9390f4cfbbfde1b635b9d7dc0",
            "d23dfc29a3e54ccb810a543fb4809950",
            "65f5b383c7a4475aaf3e58f989a4b9a2",
            "a8de7c726f624b069c755488a4e66d21",
            "8862fda5d6ba4682bec104024dae4e06",
            "d141dccd470b4a5ca62ac3c2be971316",
            "46234f330d4d4b3884c92a524a0e3167",
            "d00d04938dd44f6c9d4e43fa69cce2d6",
            "cd8aa5a20a7d4a8197bfdd53019bc35b",
            "aec8c96b31c5431f8b59fd972c5a8feb",
            "6439e58aba9a48d391123b435ca2fef2",
            "9d9c1134bfd54b549f457e94b105239a",
            "09ce4c8c8f3245d989fb48927b2f55c3",
            "d4618a1896e049eeb8d8aa27712819a5",
            "fca95a4e7da44da48004276b1480b259",
            "1a35aa9ee6ea45d9be45ba4a76659353",
            "aae90e340a424e96b17e5bb84d677893",
            "0d6b17d73d80406e9792a16c23e468db",
            "f90ad85151464703bebdb2041cbc7319",
            "c9c1b93b276d40f7811d171d9af59217",
            "91f7b2167d88452c929444f6f0fc9333",
            "fd8aeefa28f849c3a1ef9a15a280ac98",
            "a2f4dc00ec6b4d2b80aadd3228b65179",
            "1671dc8eaadd42a8a724d460b069a85c",
            "5c602830a87740178052075a1469107c",
            "46047bd4ca1940cabcb3aebdea7d0695",
            "038831bd31fc41bcb1b5a2383cc0f957",
            "31da61d235cb446ba43e8b742b538a12",
            "39f17528e61c4e9eb538bede3033af2b",
            "453152f852e24e36820c0f771ff612cd",
            "48ed351aa0d94c569cbe51169bd7c870",
            "0e64a182fdd64946848c5c05ce4ddef1",
            "6bca7b6819684d57bdadd6ca6b1a46bb",
            "53fb5284a7e04a12a5ea575fa7723fad",
            "c7df25af6769497383a63902dfe6947e",
            "1993643fa1334209bcee9135ef9dab96",
            "de86cb90a14546b5a72fe5f206e1bf38",
            "f894ca555e8a47ca8a4f6a39b75f559f",
            "4c8d05759ba74239b05b7f889f100d0d",
            "7b804b0ee050442cb7e02fa7bf6e967b",
            "651b551178c14b32825afc3315260e72",
            "8db3e209fab54dd6b2777b23eefc8f86",
            "0cdc728bf792468bb921a7ad9f53b7dc",
            "f6d80a6672494c37992dd08303129084",
            "bd48c79ed36b4c0f97996474d394f782",
            "83b2c63929a349928c51f6072e66f8d8",
            "6e47e65b3ee149dca667f952f2cca273",
            "cde6131058bd4b4dbb1ed12d4e061198",
            "5acf09485889422a8f21269943884b8e",
            "95b09941f8554c3ba0dcb4ae3d79f8e1",
            "8979d1a3a8944c9081427687e614ec63",
            "e6a97b2764a04622929796b12dcc3250",
            "2e2e67f8853643fba687db6dabef6ae5",
            "6eee609dcb484d40904c1602b2679bac",
            "2a944a5a847f4395924e1fab59bad767",
            "c0de61c95a4f4253920794e778ed2f71",
            "0ff2c0e977af44009a2502cd7eeb8835",
            "eff5bfd314d445f2a5bfbdf552437e88",
            "095f081b2adc416992f1f44ba0be6f0e",
            "5450c2ce05834240ae92b3a41dbb527a",
            "62459608bf4d4061b86908fd384c1400"
          ]
        },
        "id": "Myx3aWBRyDcB",
        "outputId": "4eec6a6c-54a7-4a32-aab7-1c1bc9827a48"
      },
      "execution_count": null,
      "outputs": [
        {
          "output_type": "display_data",
          "data": {
            "text/plain": [
              "Downloading readme:   0%|          | 0.00/478 [00:00<?, ?B/s]"
            ],
            "application/vnd.jupyter.widget-view+json": {
              "version_major": 2,
              "version_minor": 0,
              "model_id": "a8d1de10004146d18fa55565c971f961"
            }
          },
          "metadata": {}
        },
        {
          "output_type": "stream",
          "name": "stderr",
          "text": [
            "WARNING:datasets.builder:Using custom data configuration jkorsvik--nowiki_abstract_urls_20230120-1591f4975dea9ad4\n"
          ]
        },
        {
          "output_type": "stream",
          "name": "stdout",
          "text": [
            "Downloading and preparing dataset None/None to /root/.cache/huggingface/datasets/jkorsvik___parquet/jkorsvik--nowiki_abstract_urls_20230120-1591f4975dea9ad4/0.0.0/2a3b91fbd88a2c90d1dbbb32b460cf621d31bd5b05b934492fdef7d8d6f236ec...\n"
          ]
        },
        {
          "output_type": "display_data",
          "data": {
            "text/plain": [
              "Downloading data files:   0%|          | 0/1 [00:00<?, ?it/s]"
            ],
            "application/vnd.jupyter.widget-view+json": {
              "version_major": 2,
              "version_minor": 0,
              "model_id": "46234f330d4d4b3884c92a524a0e3167"
            }
          },
          "metadata": {}
        },
        {
          "output_type": "display_data",
          "data": {
            "text/plain": [
              "Downloading data:   0%|          | 0.00/66.5M [00:00<?, ?B/s]"
            ],
            "application/vnd.jupyter.widget-view+json": {
              "version_major": 2,
              "version_minor": 0,
              "model_id": "0d6b17d73d80406e9792a16c23e468db"
            }
          },
          "metadata": {}
        },
        {
          "output_type": "display_data",
          "data": {
            "text/plain": [
              "Extracting data files:   0%|          | 0/1 [00:00<?, ?it/s]"
            ],
            "application/vnd.jupyter.widget-view+json": {
              "version_major": 2,
              "version_minor": 0,
              "model_id": "39f17528e61c4e9eb538bede3033af2b"
            }
          },
          "metadata": {}
        },
        {
          "output_type": "display_data",
          "data": {
            "text/plain": [
              "Generating train split:   0%|          | 0/605457 [00:00<?, ? examples/s]"
            ],
            "application/vnd.jupyter.widget-view+json": {
              "version_major": 2,
              "version_minor": 0,
              "model_id": "7b804b0ee050442cb7e02fa7bf6e967b"
            }
          },
          "metadata": {}
        },
        {
          "output_type": "stream",
          "name": "stdout",
          "text": [
            "Dataset parquet downloaded and prepared to /root/.cache/huggingface/datasets/jkorsvik___parquet/jkorsvik--nowiki_abstract_urls_20230120-1591f4975dea9ad4/0.0.0/2a3b91fbd88a2c90d1dbbb32b460cf621d31bd5b05b934492fdef7d8d6f236ec. Subsequent calls will reuse this data.\n"
          ]
        },
        {
          "output_type": "display_data",
          "data": {
            "text/plain": [
              "  0%|          | 0/1 [00:00<?, ?it/s]"
            ],
            "application/vnd.jupyter.widget-view+json": {
              "version_major": 2,
              "version_minor": 0,
              "model_id": "8979d1a3a8944c9081427687e614ec63"
            }
          },
          "metadata": {}
        }
      ]
    },
    {
      "cell_type": "code",
      "source": [
        "dataset_nowiki[\"train\"]"
      ],
      "metadata": {
        "colab": {
          "base_uri": "https://localhost:8080/"
        },
        "id": "tF1-93_d0QOV",
        "outputId": "a15884a0-871d-42ef-d1d0-4e1cacb09e91"
      },
      "execution_count": null,
      "outputs": [
        {
          "output_type": "execute_result",
          "data": {
            "text/plain": [
              "Dataset({\n",
              "    features: ['title', 'url', 'abstract', 'id'],\n",
              "    num_rows: 605457\n",
              "})"
            ]
          },
          "metadata": {},
          "execution_count": 3
        }
      ]
    },
    {
      "cell_type": "code",
      "source": [
        "nowiki_df = pd.DataFrame(dataset_nowiki[\"train\"])\n",
        "nowiki_df[\"title\"] = nowiki_df[\"title\"].apply(\n",
        "    lambda x: x.replace(\"Wikipedia: \", \"\"))\n",
        "\n"
      ],
      "metadata": {
        "id": "SkWUMbfgznL_"
      },
      "execution_count": null,
      "outputs": []
    },
    {
      "cell_type": "code",
      "source": [
        "!pip install huggingface_hub\n",
        "!git config --global credential.helper store\n",
        "!huggingface-cli login"
      ],
      "metadata": {
        "colab": {
          "base_uri": "https://localhost:8080/"
        },
        "id": "BYeYMvFnCtBl",
        "outputId": "637abc60-580b-4a71-83c7-d063bc882dd5"
      },
      "execution_count": null,
      "outputs": [
        {
          "output_type": "stream",
          "name": "stdout",
          "text": [
            "Looking in indexes: https://pypi.org/simple, https://us-python.pkg.dev/colab-wheels/public/simple/\n",
            "Requirement already satisfied: huggingface_hub in /usr/local/lib/python3.8/dist-packages (0.12.0)\n",
            "Requirement already satisfied: filelock in /usr/local/lib/python3.8/dist-packages (from huggingface_hub) (3.9.0)\n",
            "Requirement already satisfied: packaging>=20.9 in /usr/local/lib/python3.8/dist-packages (from huggingface_hub) (23.0)\n",
            "Requirement already satisfied: pyyaml>=5.1 in /usr/local/lib/python3.8/dist-packages (from huggingface_hub) (6.0)\n",
            "Requirement already satisfied: tqdm>=4.42.1 in /usr/local/lib/python3.8/dist-packages (from huggingface_hub) (4.64.1)\n",
            "Requirement already satisfied: requests in /usr/local/lib/python3.8/dist-packages (from huggingface_hub) (2.25.1)\n",
            "Requirement already satisfied: typing-extensions>=3.7.4.3 in /usr/local/lib/python3.8/dist-packages (from huggingface_hub) (4.4.0)\n",
            "Requirement already satisfied: urllib3<1.27,>=1.21.1 in /usr/local/lib/python3.8/dist-packages (from requests->huggingface_hub) (1.26.14)\n",
            "Requirement already satisfied: idna<3,>=2.5 in /usr/local/lib/python3.8/dist-packages (from requests->huggingface_hub) (2.10)\n",
            "Requirement already satisfied: chardet<5,>=3.0.2 in /usr/local/lib/python3.8/dist-packages (from requests->huggingface_hub) (4.0.0)\n",
            "Requirement already satisfied: certifi>=2017.4.17 in /usr/local/lib/python3.8/dist-packages (from requests->huggingface_hub) (2022.12.7)\n",
            "\n",
            "    _|    _|  _|    _|    _|_|_|    _|_|_|  _|_|_|  _|      _|    _|_|_|      _|_|_|_|    _|_|      _|_|_|  _|_|_|_|\n",
            "    _|    _|  _|    _|  _|        _|          _|    _|_|    _|  _|            _|        _|    _|  _|        _|\n",
            "    _|_|_|_|  _|    _|  _|  _|_|  _|  _|_|    _|    _|  _|  _|  _|  _|_|      _|_|_|    _|_|_|_|  _|        _|_|_|\n",
            "    _|    _|  _|    _|  _|    _|  _|    _|    _|    _|    _|_|  _|    _|      _|        _|    _|  _|        _|\n",
            "    _|    _|    _|_|      _|_|_|    _|_|_|  _|_|_|  _|      _|    _|_|_|      _|        _|    _|    _|_|_|  _|_|_|_|\n",
            "    \n",
            "    A token is already saved on your machine. Run `huggingface-cli whoami` to get more information or `huggingface-cli logout` if you want to log out.\n",
            "    Setting a new token will erase the existing one.\n",
            "    To login, `huggingface_hub` requires a token generated from https://huggingface.co/settings/tokens .\n",
            "Token: \n",
            "Add token as git credential? (Y/n) y\n",
            "Token is valid.\n",
            "Your token has been saved in your configured git credential helpers (store).\n",
            "Your token has been saved to /root/.cache/huggingface/token\n",
            "Login successful\n"
          ]
        }
      ]
    },
    {
      "cell_type": "code",
      "execution_count": null,
      "metadata": {
        "colab": {
          "base_uri": "https://localhost:8080/"
        },
        "id": "X41_pcx_xTWe",
        "outputId": "d8d2f944-786c-41d7-e03b-8bdaebfb1f5b"
      },
      "outputs": [
        {
          "metadata": {
            "tags": null
          },
          "name": "stderr",
          "output_type": "stream",
          "text": [
            "  0%|          | 13/20182 [00:06<2:41:22,  2.08it/s]"
          ]
        },
        {
          "metadata": {
            "tags": null
          },
          "name": "stdout",
          "output_type": "stream",
          "text": [
            "Got KeyError, skipping\n",
            "Error fetching the article: Departement\n"
          ]
        },
        {
          "metadata": {
            "tags": null
          },
          "name": "stderr",
          "output_type": "stream",
          "text": [
            "  0%|          | 31/20182 [00:15<2:39:11,  2.11it/s]"
          ]
        },
        {
          "metadata": {
            "tags": null
          },
          "name": "stdout",
          "output_type": "stream",
          "text": [
            "Got PageErrors, skipping\n",
            "Error fetching the article: Kopper\n"
          ]
        },
        {
          "metadata": {
            "tags": null
          },
          "name": "stderr",
          "output_type": "stream",
          "text": [
            "  0%|          | 50/20182 [00:24<2:45:52,  2.02it/s]"
          ]
        },
        {
          "metadata": {
            "tags": null
          },
          "name": "stdout",
          "output_type": "stream",
          "text": [
            "Got KeyError, skipping\n",
            "Error fetching the article: PD\n"
          ]
        },
        {
          "metadata": {
            "tags": null
          },
          "name": "stderr",
          "output_type": "stream",
          "text": [
            "  1%|          | 193/20182 [01:32<2:35:55,  2.14it/s]"
          ]
        },
        {
          "metadata": {
            "tags": null
          },
          "name": "stdout",
          "output_type": "stream",
          "text": [
            "Got JSONDecodeError, skipping\n",
            "Error fetching the article: Randaberg\n",
            "Got JSONDecodeError, skipping\n",
            "Error fetching the article: Sandnes\n",
            "Got JSONDecodeError, skipping\n",
            "Error fetching the article: Sauda\n"
          ]
        },
        {
          "metadata": {
            "tags": null
          },
          "name": "stderr",
          "output_type": "stream",
          "text": [
            "\r  1%|          | 194/20182 [01:32<2:32:31,  2.18it/s]"
          ]
        },
        {
          "metadata": {
            "tags": null
          },
          "name": "stdout",
          "output_type": "stream",
          "text": [
            "Got JSONDecodeError, skipping\n",
            "Error fetching the article: Aurland\n",
            "Got JSONDecodeError, skippingGot JSONDecodeError, skipping\n",
            "Error fetching the article: Balestrand\n",
            "\n",
            "Error fetching the article: Askvoll\n"
          ]
        },
        {
          "metadata": {
            "tags": null
          },
          "name": "stderr",
          "output_type": "stream",
          "text": [
            "\r  1%|          | 195/20182 [01:33<2:28:14,  2.25it/s]"
          ]
        },
        {
          "metadata": {
            "tags": null
          },
          "name": "stdout",
          "output_type": "stream",
          "text": [
            "Got JSONDecodeError, skippingGot JSONDecodeError, skipping\n",
            "Error fetching the article: Hyllestad\n",
            "Error fetching the article: Hornindal\n",
            "\n"
          ]
        },
        {
          "metadata": {
            "tags": null
          },
          "name": "stderr",
          "output_type": "stream",
          "text": [
            "  1%|          | 197/20182 [01:33<2:33:52,  2.16it/s]"
          ]
        },
        {
          "metadata": {
            "tags": null
          },
          "name": "stdout",
          "output_type": "stream",
          "text": [
            "Got JSONDecodeError, skipping\n",
            "Error fetching the article: Sogndal\n",
            "Got JSONDecodeError, skipping\n",
            "Error fetching the article: Solund\n"
          ]
        },
        {
          "metadata": {
            "tags": null
          },
          "name": "stderr",
          "output_type": "stream",
          "text": [
            "\r  1%|          | 198/20182 [01:34<2:33:29,  2.17it/s]"
          ]
        },
        {
          "metadata": {
            "tags": null
          },
          "name": "stdout",
          "output_type": "stream",
          "text": [
            "Got JSONDecodeError, skipping\n",
            "Error fetching the article: Agdenes\n",
            "Got JSONDecodeError, skipping\n",
            "Error fetching the article: Klæbu\n",
            "Got JSONDecodeError, skipping\n",
            "Error fetching the article: Roan\n"
          ]
        },
        {
          "metadata": {
            "tags": null
          },
          "name": "stderr",
          "output_type": "stream",
          "text": [
            "  1%|          | 200/20182 [01:35<2:34:02,  2.16it/s]"
          ]
        },
        {
          "metadata": {
            "tags": null
          },
          "name": "stdout",
          "output_type": "stream",
          "text": [
            "Got JSONDecodeError, skipping\n",
            "Error fetching the article: Bjarkøy\n",
            "Got JSONDecodeError, skipping\n",
            "Error fetching the article: Selbu\n",
            "Got JSONDecodeError, skipping\n",
            "Error fetching the article: Ørland\n",
            "Got JSONDecodeError, skipping\n",
            "Error fetching the article: Kåfjord\n",
            "Got JSONDecodeError, skipping\n",
            "Error fetching the article: Lavangen\n",
            "Got JSONDecodeError, skipping\n"
          ]
        },
        {
          "metadata": {
            "tags": null
          },
          "name": "stderr",
          "output_type": "stream",
          "text": [
            "\r  1%|          | 201/20182 [01:35<2:37:22,  2.12it/s]"
          ]
        },
        {
          "metadata": {
            "tags": null
          },
          "name": "stdout",
          "output_type": "stream",
          "text": [
            "Error fetching the article: Lyngen\n"
          ]
        },
        {
          "metadata": {
            "tags": null
          },
          "name": "stderr",
          "output_type": "stream",
          "text": [
            "\r  1%|          | 202/20182 [01:36<2:38:33,  2.10it/s]"
          ]
        },
        {
          "metadata": {
            "tags": null
          },
          "name": "stdout",
          "output_type": "stream",
          "text": [
            "Got JSONDecodeError, skipping\n",
            "Error fetching the article: Songdalen\n",
            "Got JSONDecodeError, skipping\n",
            "Error fetching the article: Lindesnes (kommune 1964–2019)\n",
            "Got JSONDecodeError, skipping\n",
            "Error fetching the article: Flekkefjord\n",
            "Got JSONDecodeError, skipping\n",
            "Error fetching the article: Sirdal\n"
          ]
        },
        {
          "metadata": {
            "tags": null
          },
          "name": "stderr",
          "output_type": "stream",
          "text": [
            "\r  1%|          | 203/20182 [01:36<2:34:41,  2.15it/s]"
          ]
        },
        {
          "metadata": {
            "tags": null
          },
          "name": "stdout",
          "output_type": "stream",
          "text": [
            "Got JSONDecodeError, skippingGot JSONDecodeError, skipping\n",
            "\n",
            "Error fetching the article: Lagrange\n",
            "Got JSONDecodeError, skipping\n",
            "Error fetching the article: 1979\n",
            "Error fetching the article: 1975\n"
          ]
        },
        {
          "metadata": {
            "tags": null
          },
          "name": "stderr",
          "output_type": "stream",
          "text": [
            "  1%|          | 207/20182 [01:38<2:41:46,  2.06it/s]"
          ]
        },
        {
          "metadata": {
            "tags": null
          },
          "name": "stdout",
          "output_type": "stream",
          "text": [
            "Got JSONDecodeError, skipping\n",
            "Error fetching the article: 1942\n"
          ]
        },
        {
          "metadata": {
            "tags": null
          },
          "name": "stderr",
          "output_type": "stream",
          "text": [
            "\r  1%|          | 208/20182 [01:39<2:42:48,  2.04it/s]"
          ]
        },
        {
          "metadata": {
            "tags": null
          },
          "name": "stdout",
          "output_type": "stream",
          "text": [
            "Got JSONDecodeError, skipping\n",
            "Error fetching the article: 1937\n",
            "Got JSONDecodeError, skipping\n",
            "Error fetching the article: 1928\n",
            "Got JSONDecodeError, skipping\n",
            "Error fetching the article: 1926\n",
            "Got JSONDecodeError, skipping\n",
            "Error fetching the article: 1921\n",
            "Got JSONDecodeError, skipping\n",
            "Error fetching the article: 1915\n",
            "Got JSONDecodeError, skipping\n",
            "Error fetching the article: 1916\n"
          ]
        },
        {
          "metadata": {
            "tags": null
          },
          "name": "stderr",
          "output_type": "stream",
          "text": [
            "  1%|          | 210/20182 [01:40<2:40:36,  2.07it/s]"
          ]
        },
        {
          "metadata": {
            "tags": null
          },
          "name": "stdout",
          "output_type": "stream",
          "text": [
            "Got JSONDecodeError, skipping\n",
            "Error fetching the article: Volapük\n",
            "Got JSONDecodeError, skipping\n",
            "Error fetching the article: Kunstig språk\n",
            "Got JSONDecodeError, skipping\n",
            "Error fetching the article: 1898\n"
          ]
        },
        {
          "metadata": {
            "tags": null
          },
          "name": "stderr",
          "output_type": "stream",
          "text": [
            "  1%|          | 212/20182 [01:41<2:34:13,  2.16it/s]"
          ]
        },
        {
          "metadata": {
            "tags": null
          },
          "name": "stdout",
          "output_type": "stream",
          "text": [
            "Got JSONDecodeError, skipping\n",
            "Error fetching the article: 1885\n",
            "Got JSONDecodeError, skipping\n",
            "Error fetching the article: 1877\n",
            "Got JSONDecodeError, skipping\n",
            "Error fetching the article: 1876\n",
            "Got JSONDecodeError, skipping\n",
            "Error fetching the article: 1878\n",
            "Got JSONDecodeError, skipping\n",
            "Error fetching the article: Liste over tidligere norske kommuner\n"
          ]
        },
        {
          "metadata": {
            "tags": null
          },
          "name": "stderr",
          "output_type": "stream",
          "text": [
            "\r  1%|          | 213/20182 [01:41<2:30:48,  2.21it/s]"
          ]
        },
        {
          "metadata": {
            "tags": null
          },
          "name": "stdout",
          "output_type": "stream",
          "text": [
            "Got JSONDecodeError, skippingGot JSONDecodeError, skipping\n",
            "Error fetching the article: 1866\n",
            "\n",
            "Got JSONDecodeError, skipping\n",
            "Error fetching the article: 1869\n",
            "Error fetching the article: 1865\n",
            "Got JSONDecodeError, skipping\n",
            "Error fetching the article: 1863\n"
          ]
        },
        {
          "metadata": {
            "tags": null
          },
          "name": "stderr",
          "output_type": "stream",
          "text": [
            "\r  1%|          | 214/20182 [01:41<2:27:51,  2.25it/s]"
          ]
        },
        {
          "metadata": {
            "tags": null
          },
          "name": "stdout",
          "output_type": "stream",
          "text": [
            "Got JSONDecodeError, skippingGot JSONDecodeError, skipping\n",
            "Error fetching the article: 1855\n",
            "\n",
            "Error fetching the article: 1853\n"
          ]
        },
        {
          "metadata": {
            "tags": null
          },
          "name": "stderr",
          "output_type": "stream",
          "text": [
            "\r  1%|          | 215/20182 [01:42<2:25:59,  2.28it/s]"
          ]
        },
        {
          "metadata": {
            "tags": null
          },
          "name": "stdout",
          "output_type": "stream",
          "text": [
            "Got JSONDecodeError, skipping\n",
            "Error fetching the article: 1846\n",
            "Got JSONDecodeError, skippingGot JSONDecodeError, skipping\n",
            "Error fetching the article: Wisła\n",
            "\n",
            "Error fetching the article: Atlanterhavet\n",
            "Got JSONDecodeError, skipping\n",
            "Error fetching the article: Middelhavet\n"
          ]
        },
        {
          "metadata": {
            "tags": null
          },
          "name": "stderr",
          "output_type": "stream",
          "text": [
            "\r  1%|          | 216/20182 [01:42<2:23:13,  2.32it/s]"
          ]
        },
        {
          "metadata": {
            "tags": null
          },
          "name": "stdout",
          "output_type": "stream",
          "text": [
            "Got JSONDecodeError, skipping\n",
            "Error fetching the article: 1839\n",
            "Got JSONDecodeError, skipping\n",
            "Error fetching the article: 1840\n",
            "Got JSONDecodeError, skipping\n",
            "Error fetching the article: 1838\n"
          ]
        },
        {
          "metadata": {
            "tags": null
          },
          "name": "stderr",
          "output_type": "stream",
          "text": [
            "  1%|          | 218/20182 [01:43<2:26:53,  2.27it/s]"
          ]
        },
        {
          "metadata": {
            "tags": null
          },
          "name": "stdout",
          "output_type": "stream",
          "text": [
            "Got JSONDecodeError, skipping\n",
            "Error fetching the article: 1826\n",
            "Got JSONDecodeError, skippingGot JSONDecodeError, skipping\n",
            "\n",
            "Error fetching the article: 1815Error fetching the article: 1816\n",
            "\n"
          ]
        },
        {
          "metadata": {
            "tags": null
          },
          "name": "stderr",
          "output_type": "stream",
          "text": [
            "\r  1%|          | 219/20182 [01:44<2:25:40,  2.28it/s]"
          ]
        },
        {
          "metadata": {
            "tags": null
          },
          "name": "stdout",
          "output_type": "stream",
          "text": [
            "Got JSONDecodeError, skippingGot JSONDecodeError, skipping\n",
            "Error fetching the article: 1807\n",
            "\n",
            "Error fetching the article: 1810\n",
            "Got JSONDecodeError, skipping\n",
            "Error fetching the article: 1803\n",
            "Got JSONDecodeError, skipping\n",
            "Error fetching the article: 1805\n"
          ]
        },
        {
          "metadata": {
            "tags": null
          },
          "name": "stderr",
          "output_type": "stream",
          "text": [
            "\r  1%|          | 220/20182 [01:44<2:24:27,  2.30it/s]"
          ]
        },
        {
          "metadata": {
            "tags": null
          },
          "name": "stdout",
          "output_type": "stream",
          "text": [
            "Got JSONDecodeError, skipping\n",
            "Error fetching the article: 1792\n",
            "Got JSONDecodeError, skipping\n",
            "Error fetching the article: 1793\n",
            "Got JSONDecodeError, skipping\n",
            "Error fetching the article: 1797\n"
          ]
        },
        {
          "metadata": {
            "tags": null
          },
          "name": "stderr",
          "output_type": "stream",
          "text": [
            "\r  1%|          | 221/20182 [01:44<2:22:40,  2.33it/s]"
          ]
        },
        {
          "metadata": {
            "tags": null
          },
          "name": "stdout",
          "output_type": "stream",
          "text": [
            "Got JSONDecodeError, skippingGot JSONDecodeError, skipping\n",
            "Error fetching the article: 1785\n",
            "\n",
            "Error fetching the article: 1782\n",
            "Got JSONDecodeError, skipping\n",
            "Error fetching the article: 1781\n",
            "Got JSONDecodeError, skipping\n",
            "Error fetching the article: 1784\n",
            "Got JSONDecodeError, skipping\n",
            "Error fetching the article: 1783\n"
          ]
        },
        {
          "metadata": {
            "tags": null
          },
          "name": "stderr",
          "output_type": "stream",
          "text": [
            "\r  1%|          | 222/20182 [01:45<2:21:03,  2.36it/s]"
          ]
        },
        {
          "metadata": {
            "tags": null
          },
          "name": "stdout",
          "output_type": "stream",
          "text": [
            "Got JSONDecodeError, skippingGot JSONDecodeError, skipping\n",
            "Error fetching the article: Faste\n",
            "\n",
            "Error fetching the article: Makroøkonomi\n",
            "Got JSONDecodeError, skipping\n",
            "Error fetching the article: Mount Everest\n"
          ]
        },
        {
          "metadata": {
            "tags": null
          },
          "name": "stderr",
          "output_type": "stream",
          "text": [
            "  1%|          | 224/20182 [01:46<2:21:27,  2.35it/s]"
          ]
        },
        {
          "metadata": {
            "tags": null
          },
          "name": "stdout",
          "output_type": "stream",
          "text": [
            "Got JSONDecodeError, skippingGot JSONDecodeError, skipping\n",
            "Error fetching the article: Neon\n",
            "Got JSONDecodeError, skipping\n",
            "Error fetching the article: Natrium\n",
            "\n",
            "Error fetching the article: Fluor\n",
            "Got JSONDecodeError, skipping\n",
            "Error fetching the article: Karbon\n",
            "Got JSONDecodeError, skipping\n",
            "Got JSONDecodeError, skipping\n",
            "Error fetching the article: 1777\n",
            "Got JSONDecodeError, skipping\n",
            "Error fetching the article: 1778\n",
            "Error fetching the article: Kalsium\n"
          ]
        },
        {
          "metadata": {
            "tags": null
          },
          "name": "stderr",
          "output_type": "stream",
          "text": [
            "  1%|          | 226/20182 [01:47<2:22:01,  2.34it/s]"
          ]
        },
        {
          "metadata": {
            "tags": null
          },
          "name": "stdout",
          "output_type": "stream",
          "text": [
            "Got JSONDecodeError, skipping\n",
            "Error fetching the article: 1771\n",
            "Got JSONDecodeError, skipping\n",
            "Error fetching the article: 1770\n",
            "Got JSONDecodeError, skipping\n",
            "Error fetching the article: 1769\n",
            "Got JSONDecodeError, skipping\n",
            "Error fetching the article: 1766\n"
          ]
        },
        {
          "metadata": {
            "tags": null
          },
          "name": "stderr",
          "output_type": "stream",
          "text": [
            "\r  1%|          | 227/20182 [01:47<2:25:00,  2.29it/s]"
          ]
        },
        {
          "metadata": {
            "tags": null
          },
          "name": "stdout",
          "output_type": "stream",
          "text": [
            "Got JSONDecodeError, skipping\n",
            "Error fetching the article: 1758\n",
            "Got JSONDecodeError, skipping\n",
            "Error fetching the article: 1756\n",
            "Got JSONDecodeError, skipping\n",
            "Error fetching the article: 1763\n",
            "Got JSONDecodeError, skipping\n",
            "Error fetching the article: 1750\n",
            "Got JSONDecodeError, skipping\n",
            "Error fetching the article: 1748\n",
            "Got JSONDecodeError, skipping\n",
            "Error fetching the article: 1747\n"
          ]
        },
        {
          "metadata": {
            "tags": null
          },
          "name": "stderr",
          "output_type": "stream",
          "text": [
            "  1%|          | 229/20182 [01:48<2:29:04,  2.23it/s]"
          ]
        },
        {
          "metadata": {
            "tags": null
          },
          "name": "stdout",
          "output_type": "stream",
          "text": [
            "Got JSONDecodeError, skippingGot JSONDecodeError, skipping\n",
            "Error fetching the article: 1737\n",
            "\n",
            "Error fetching the article: 1736\n",
            "Got JSONDecodeError, skipping\n",
            "Error fetching the article: 1726\n",
            "Got JSONDecodeError, skipping\n",
            "Error fetching the article: 1727\n"
          ]
        },
        {
          "metadata": {
            "tags": null
          },
          "name": "stderr",
          "output_type": "stream",
          "text": [
            "\r  1%|          | 230/20182 [01:48<2:30:49,  2.20it/s]"
          ]
        },
        {
          "metadata": {
            "tags": null
          },
          "name": "stdout",
          "output_type": "stream",
          "text": [
            "Got JSONDecodeError, skipping\n",
            "Error fetching the article: AKP\n",
            "Got JSONDecodeError, skipping\n",
            "Error fetching the article: 1719\n",
            "Got JSONDecodeError, skipping\n",
            "Error fetching the article: 1717\n",
            "Got JSONDecodeError, skipping\n",
            "Error fetching the article: 1718\n"
          ]
        },
        {
          "metadata": {
            "tags": null
          },
          "name": "stderr",
          "output_type": "stream",
          "text": [
            "\r  1%|          | 231/20182 [01:49<2:27:37,  2.25it/s]"
          ]
        },
        {
          "metadata": {
            "tags": null
          },
          "name": "stdout",
          "output_type": "stream",
          "text": [
            "Got JSONDecodeError, skipping\n",
            "Error fetching the article: 1710\n",
            "Got JSONDecodeError, skippingGot JSONDecodeError, skipping\n",
            "Error fetching the article: 1711\n",
            "\n",
            "Error fetching the article: Abraham Lincoln\n"
          ]
        },
        {
          "metadata": {
            "tags": null
          },
          "name": "stderr",
          "output_type": "stream",
          "text": [
            "\r  1%|          | 232/20182 [01:49<2:26:32,  2.27it/s]"
          ]
        },
        {
          "metadata": {
            "tags": null
          },
          "name": "stdout",
          "output_type": "stream",
          "text": [
            "Got JSONDecodeError, skipping\n",
            "Got JSONDecodeError, skipping\n",
            "Error fetching the article: 1703\n",
            "Error fetching the article: 1702\n"
          ]
        },
        {
          "metadata": {
            "tags": null
          },
          "name": "stderr",
          "output_type": "stream",
          "text": [
            "\r  1%|          | 233/20182 [01:50<2:27:13,  2.26it/s]"
          ]
        },
        {
          "metadata": {
            "tags": null
          },
          "name": "stdout",
          "output_type": "stream",
          "text": [
            "Got JSONDecodeError, skipping\n",
            "Error fetching the article: Rom (brennevin)\n",
            "Got JSONDecodeError, skipping\n",
            "Error fetching the article: Libya\n"
          ]
        },
        {
          "metadata": {
            "tags": null
          },
          "name": "stderr",
          "output_type": "stream",
          "text": [
            "\r  1%|          | 234/20182 [01:50<2:26:51,  2.26it/s]"
          ]
        },
        {
          "metadata": {
            "tags": null
          },
          "name": "stdout",
          "output_type": "stream",
          "text": [
            "Got JSONDecodeError, skipping\n",
            "Error fetching the article: 1700\n",
            "Got JSONDecodeError, skippingGot JSONDecodeError, skipping\n",
            "Error fetching the article: Korea\n",
            "Got JSONDecodeError, skipping\n",
            "Error fetching the article: 1 (tall)\n",
            "\n",
            "Error fetching the article: Den dominikanske republikk\n"
          ]
        },
        {
          "metadata": {
            "tags": null
          },
          "name": "stderr",
          "output_type": "stream",
          "text": [
            "  1%|          | 236/20182 [01:51<2:27:24,  2.26it/s]"
          ]
        },
        {
          "metadata": {
            "tags": null
          },
          "name": "stdout",
          "output_type": "stream",
          "text": [
            "Got JSONDecodeError, skippingGot JSONDecodeError, skipping\n",
            "Error fetching the article: 4 (tall)\n",
            "\n",
            "Error fetching the article: 10 (tall)\n",
            "Got JSONDecodeError, skipping\n",
            "Error fetching the article: 9 (tall)\n",
            "Got JSONDecodeError, skipping\n",
            "Error fetching the article: 19 (tall)\n",
            "Got JSONDecodeError, skipping\n",
            "Error fetching the article: 20 (tall)\n",
            "Got JSONDecodeError, skipping\n",
            "Error fetching the article: 13 (tall)\n"
          ]
        },
        {
          "metadata": {
            "tags": null
          },
          "name": "stderr",
          "output_type": "stream",
          "text": [
            "  1%|          | 238/20182 [01:52<2:39:06,  2.09it/s]"
          ]
        },
        {
          "metadata": {
            "tags": null
          },
          "name": "stdout",
          "output_type": "stream",
          "text": [
            "Got JSONDecodeError, skipping\n",
            "Error fetching the article: Primtall\n",
            "Got JSONDecodeError, skippingGot JSONDecodeError, skipping\n",
            "Error fetching the article: Tallsymbolikk\n",
            "Got JSONDecodeError, skipping\n",
            "Error fetching the article: Dwight D. Eisenhower\n",
            "\n",
            "Error fetching the article: Washington\n"
          ]
        },
        {
          "metadata": {
            "tags": null
          },
          "name": "stderr",
          "output_type": "stream",
          "text": [
            "  1%|          | 240/20182 [01:53<2:32:17,  2.18it/s]"
          ]
        },
        {
          "metadata": {
            "tags": null
          },
          "name": "stdout",
          "output_type": "stream",
          "text": [
            "Got JSONDecodeError, skipping\n",
            "Error fetching the article: 1608\n",
            "Got JSONDecodeError, skipping\n",
            "Error fetching the article: 1607\n",
            "Got JSONDecodeError, skipping\n",
            "Error fetching the article: 1605\n",
            "Got JSONDecodeError, skipping\n",
            "Got JSONDecodeError, skipping\n",
            "Got JSONDecodeError, skippingError fetching the article: Concurrent Versions SystemError fetching the article: Bjørnstjerne Bjørnson\n",
            "\n",
            "\n",
            "Error fetching the article: Saltstraumen\n"
          ]
        },
        {
          "metadata": {
            "tags": null
          },
          "name": "stderr",
          "output_type": "stream",
          "text": [
            "\r  1%|          | 241/20182 [01:53<2:27:57,  2.25it/s]"
          ]
        },
        {
          "metadata": {
            "tags": null
          },
          "name": "stdout",
          "output_type": "stream",
          "text": [
            "Got JSONDecodeError, skippingGot JSONDecodeError, skipping\n",
            "Error fetching the article: Per Ulv\n",
            "\n",
            "Error fetching the article: Jim Morrison\n"
          ]
        },
        {
          "metadata": {
            "tags": null
          },
          "name": "stderr",
          "output_type": "stream",
          "text": [
            "\r  1%|          | 242/20182 [01:54<2:25:55,  2.28it/s]"
          ]
        },
        {
          "metadata": {
            "tags": null
          },
          "name": "stdout",
          "output_type": "stream",
          "text": [
            "Got JSONDecodeError, skipping\n",
            "Error fetching the article: 28 (tall)\n",
            "Got JSONDecodeError, skipping\n",
            "Error fetching the article: 27 (tall)\n"
          ]
        },
        {
          "metadata": {
            "tags": null
          },
          "name": "stderr",
          "output_type": "stream",
          "text": [
            "  1%|          | 244/20182 [01:55<2:28:05,  2.24it/s]"
          ]
        },
        {
          "metadata": {
            "tags": null
          },
          "name": "stdout",
          "output_type": "stream",
          "text": [
            "Got JSONDecodeError, skipping\n",
            "Error fetching the article: 42 (tall)\n",
            "Got JSONDecodeError, skipping\n",
            "Error fetching the article: 39 (tall)\n",
            "Got JSONDecodeError, skippingGot JSONDecodeError, skipping\n",
            "Error fetching the article: 37 (tall)\n",
            "Error fetching the article: 35 (tall)\n",
            "\n",
            "Got JSONDecodeError, skipping\n",
            "Error fetching the article: Marius von Mayenburg\n",
            "Got JSONDecodeError, skipping\n",
            "Error fetching the article: Milliard\n",
            "Got JSONDecodeError, skipping\n",
            "Error fetching the article: Million\n"
          ]
        },
        {
          "metadata": {
            "tags": null
          },
          "name": "stderr",
          "output_type": "stream",
          "text": [
            "  1%|          | 247/20182 [01:56<2:38:25,  2.10it/s]"
          ]
        },
        {
          "metadata": {
            "tags": null
          },
          "name": "stdout",
          "output_type": "stream",
          "text": [
            "Got JSONDecodeError, skipping\n",
            "Error fetching the article: 1325\n"
          ]
        },
        {
          "metadata": {
            "tags": null
          },
          "name": "stderr",
          "output_type": "stream",
          "text": [
            "\r  1%|          | 248/20182 [01:57<2:37:56,  2.10it/s]"
          ]
        },
        {
          "metadata": {
            "tags": null
          },
          "name": "stdout",
          "output_type": "stream",
          "text": [
            "Got JSONDecodeError, skipping\n",
            "Error fetching the article: Motto\n",
            "Got JSONDecodeError, skipping\n",
            "Error fetching the article: Fender Stratocaster\n",
            "Got JSONDecodeError, skipping\n",
            "Error fetching the article: Sammensatt tall\n",
            "Got JSONDecodeError, skipping\n",
            "Error fetching the article: Ponni\n",
            "Got JSONDecodeError, skipping\n",
            "Error fetching the article: Studentersamfundet i Trondhjem\n",
            "Got JSONDecodeError, skipping\n",
            "Error fetching the article: Marienlyst stadion\n",
            "Got JSONDecodeError, skipping\n",
            "Error fetching the article: John Lyng\n",
            "Got JSONDecodeError, skipping\n",
            "Error fetching the article: Jostein Flo\n"
          ]
        },
        {
          "metadata": {
            "tags": null
          },
          "name": "stderr",
          "output_type": "stream",
          "text": [
            "  1%|          | 250/20182 [01:58<2:33:46,  2.16it/s]"
          ]
        },
        {
          "metadata": {
            "tags": null
          },
          "name": "stdout",
          "output_type": "stream",
          "text": [
            "Got JSONDecodeError, skipping\n",
            "Error fetching the article: Keira Knightley\n",
            "Got JSONDecodeError, skipping\n",
            "Error fetching the article: Steinar Pettersen\n",
            "Got JSONDecodeError, skipping\n",
            "Error fetching the article: Daft Punk\n",
            "Got JSONDecodeError, skipping\n",
            "Error fetching the article: Bosnia-Hercegovinas økonomi\n",
            "Got JSONDecodeError, skipping\n",
            "Error fetching the article: Bosnisk\n",
            "Got JSONDecodeError, skipping\n",
            "Error fetching the article: Kosmologi\n",
            "Got JSONDecodeError, skipping\n",
            "Error fetching the article: Thurmanns gate (Oslo)\n",
            "Got JSONDecodeError, skipping\n",
            "Error fetching the article: John Kerry\n"
          ]
        },
        {
          "metadata": {
            "tags": null
          },
          "name": "stderr",
          "output_type": "stream",
          "text": [
            "\r  1%|          | 251/20182 [01:58<2:29:29,  2.22it/s]"
          ]
        },
        {
          "metadata": {
            "tags": null
          },
          "name": "stdout",
          "output_type": "stream",
          "text": [
            "Got JSONDecodeError, skipping\n",
            "Error fetching the article: 16. århundre\n",
            "Got JSONDecodeError, skipping\n",
            "Error fetching the article: 15. århundre\n"
          ]
        },
        {
          "metadata": {
            "tags": null
          },
          "name": "stderr",
          "output_type": "stream",
          "text": [
            "  1%|▏         | 253/20182 [01:59<2:37:13,  2.11it/s]"
          ]
        },
        {
          "metadata": {
            "tags": null
          },
          "name": "stdout",
          "output_type": "stream",
          "text": [
            "Got JSONDecodeError, skipping\n",
            "Error fetching the article: Fritz Lang\n",
            "Got JSONDecodeError, skipping\n",
            "Error fetching the article: David Lynch\n",
            "Got JSONDecodeError, skipping\n",
            "Error fetching the article: Spillkonsoll\n"
          ]
        },
        {
          "metadata": {
            "tags": null
          },
          "name": "stderr",
          "output_type": "stream",
          "text": [
            "  1%|▏         | 256/20182 [02:00<2:40:35,  2.07it/s]"
          ]
        },
        {
          "metadata": {
            "tags": null
          },
          "name": "stdout",
          "output_type": "stream",
          "text": [
            "Got JSONDecodeError, skipping\n",
            "Error fetching the article: 1694\n",
            "Got JSONDecodeError, skippingGot JSONDecodeError, skipping\n",
            "\n",
            "Error fetching the article: 1683\n",
            "Error fetching the article: 1684\n"
          ]
        },
        {
          "metadata": {
            "tags": null
          },
          "name": "stderr",
          "output_type": "stream",
          "text": [
            "\r  1%|▏         | 257/20182 [02:01<2:39:58,  2.08it/s]"
          ]
        },
        {
          "metadata": {
            "tags": null
          },
          "name": "stdout",
          "output_type": "stream",
          "text": [
            "Got JSONDecodeError, skipping\n",
            "Error fetching the article: Anders Aukland\n",
            "Got JSONDecodeError, skipping\n",
            "Error fetching the article: 1493\n",
            "Got JSONDecodeError, skipping\n",
            "Got JSONDecodeError, skipping\n",
            "Error fetching the article: 1679\n",
            "Error fetching the article: Vasaloppet\n"
          ]
        },
        {
          "metadata": {
            "tags": null
          },
          "name": "stderr",
          "output_type": "stream",
          "text": [
            "  1%|▏         | 259/20182 [02:02<2:35:47,  2.13it/s]"
          ]
        },
        {
          "metadata": {
            "tags": null
          },
          "name": "stdout",
          "output_type": "stream",
          "text": [
            "Got JSONDecodeError, skipping\n",
            "Error fetching the article: 1674\n",
            "Got JSONDecodeError, skipping\n",
            "Error fetching the article: 1678\n",
            "Got JSONDecodeError, skipping\n",
            "Error fetching the article: 1662\n",
            "Got JSONDecodeError, skipping\n",
            "Error fetching the article: 1663\n",
            "Got JSONDecodeError, skippingGot JSONDecodeError, skipping\n",
            "Error fetching the article: 1667\n",
            "\n",
            "Error fetching the article: 1671\n",
            "Got JSONDecodeError, skipping\n",
            "Error fetching the article: 1661\n"
          ]
        },
        {
          "metadata": {
            "tags": null
          },
          "name": "stderr",
          "output_type": "stream",
          "text": [
            "\r  1%|▏         | 260/20182 [02:02<2:30:29,  2.21it/s]"
          ]
        },
        {
          "metadata": {
            "tags": null
          },
          "name": "stdout",
          "output_type": "stream",
          "text": [
            "Got JSONDecodeError, skippingGot JSONDecodeError, skipping\n",
            "Error fetching the article: Medisin\n",
            "\n",
            "Error fetching the article: Driva\n"
          ]
        },
        {
          "metadata": {
            "tags": null
          },
          "name": "stderr",
          "output_type": "stream",
          "text": [
            "  1%|▏         | 262/20182 [02:03<2:31:34,  2.19it/s]"
          ]
        },
        {
          "metadata": {
            "tags": null
          },
          "name": "stdout",
          "output_type": "stream",
          "text": [
            "Got JSONDecodeError, skipping\n",
            "Error fetching the article: 1656\n",
            "Got JSONDecodeError, skipping\n",
            "Got JSONDecodeError, skipping\n",
            "Error fetching the article: 1657\n",
            "Error fetching the article: 1658\n",
            "Got JSONDecodeError, skippingGot JSONDecodeError, skipping\n",
            "Error fetching the article: 1654\n",
            "\n",
            "Error fetching the article: Historisk materialisme\n",
            "Got JSONDecodeError, skipping\n",
            "Error fetching the article: 1648\n"
          ]
        },
        {
          "metadata": {
            "tags": null
          },
          "name": "stderr",
          "output_type": "stream",
          "text": [
            "\r  1%|▏         | 263/20182 [02:04<2:28:35,  2.23it/s]"
          ]
        },
        {
          "metadata": {
            "tags": null
          },
          "name": "stdout",
          "output_type": "stream",
          "text": [
            "Got JSONDecodeError, skipping\n",
            "Error fetching the article: Gruppevare\n"
          ]
        },
        {
          "metadata": {
            "tags": null
          },
          "name": "stderr",
          "output_type": "stream",
          "text": [
            "\r  1%|▏         | 264/20182 [02:04<2:28:01,  2.24it/s]"
          ]
        },
        {
          "metadata": {
            "tags": null
          },
          "name": "stdout",
          "output_type": "stream",
          "text": [
            "Got JSONDecodeError, skipping\n",
            "Error fetching the article: Mentor\n",
            "Got JSONDecodeError, skipping\n",
            "Error fetching the article: JSP\n",
            "Got JSONDecodeError, skipping\n",
            "Error fetching the article: Arturo Alfandari\n"
          ]
        },
        {
          "metadata": {
            "tags": null
          },
          "name": "stderr",
          "output_type": "stream",
          "text": [
            "\r  1%|▏         | 265/20182 [02:05<2:25:32,  2.28it/s]"
          ]
        },
        {
          "metadata": {
            "tags": null
          },
          "name": "stdout",
          "output_type": "stream",
          "text": [
            "Got JSONDecodeError, skipping\n",
            "Error fetching the article: Ullern Fotball\n",
            "Got JSONDecodeError, skipping\n",
            "Error fetching the article: Seiling\n",
            "Got JSONDecodeError, skipping\n",
            "Error fetching the article: Håndball\n",
            "Got JSONDecodeError, skipping\n",
            "Error fetching the article: Geir Jordet\n"
          ]
        },
        {
          "metadata": {
            "tags": null
          },
          "name": "stderr",
          "output_type": "stream",
          "text": [
            "  1%|▏         | 267/20182 [02:05<2:25:20,  2.28it/s]"
          ]
        },
        {
          "metadata": {
            "tags": null
          },
          "name": "stdout",
          "output_type": "stream",
          "text": [
            "Got JSONDecodeError, skippingGot JSONDecodeError, skipping\n",
            "Error fetching the article: 1641\n",
            "\n",
            "Error fetching the article: 1642\n",
            "Got JSONDecodeError, skipping\n",
            "Error fetching the article: 1640\n",
            "Got JSONDecodeError, skipping\n",
            "Error fetching the article: 1633\n",
            "Got JSONDecodeError, skippingGot JSONDecodeError, skipping\n",
            "Error fetching the article: 1636\n",
            "\n",
            "Error fetching the article: 1634\n"
          ]
        },
        {
          "metadata": {
            "tags": null
          },
          "name": "stderr",
          "output_type": "stream",
          "text": [
            "\r  1%|▏         | 268/20182 [02:06<2:24:05,  2.30it/s]"
          ]
        },
        {
          "metadata": {
            "tags": null
          },
          "name": "stdout",
          "output_type": "stream",
          "text": [
            "Got JSONDecodeError, skipping\n",
            "Error fetching the article: 1631\n",
            "Got JSONDecodeError, skippingGot JSONDecodeError, skipping\n",
            "Error fetching the article: 1622\n",
            "\n",
            "Error fetching the article: 1620\n"
          ]
        },
        {
          "metadata": {
            "tags": null
          },
          "name": "stderr",
          "output_type": "stream",
          "text": [
            "\r  1%|▏         | 269/20182 [02:06<2:23:55,  2.31it/s]"
          ]
        },
        {
          "metadata": {
            "tags": null
          },
          "name": "stdout",
          "output_type": "stream",
          "text": [
            "Got JSONDecodeError, skipping\n",
            "Error fetching the article: Intelligent dance music\n",
            "Got JSONDecodeError, skipping\n",
            "Error fetching the article: Heckler & Koch\n",
            "Got JSONDecodeError, skipping\n",
            "Error fetching the article: Golda Meir\n"
          ]
        },
        {
          "metadata": {
            "tags": null
          },
          "name": "stderr",
          "output_type": "stream",
          "text": [
            "\r  1%|▏         | 270/20182 [02:07<2:23:06,  2.32it/s]"
          ]
        },
        {
          "metadata": {
            "tags": null
          },
          "name": "stdout",
          "output_type": "stream",
          "text": [
            "Got JSONDecodeError, skipping\n",
            "Error fetching the article: 431\n",
            "Got JSONDecodeError, skipping\n",
            "Error fetching the article: 325\n"
          ]
        },
        {
          "metadata": {
            "tags": null
          },
          "name": "stderr",
          "output_type": "stream",
          "text": [
            "\r  1%|▏         | 271/20182 [02:07<2:26:01,  2.27it/s]"
          ]
        },
        {
          "metadata": {
            "tags": null
          },
          "name": "stdout",
          "output_type": "stream",
          "text": [
            "Got JSONDecodeError, skipping\n",
            "Error fetching the article: Britney Spears\n",
            "Got JSONDecodeError, skipping\n",
            "Error fetching the article: Dr. Dre\n",
            "Got JSONDecodeError, skipping\n",
            "Error fetching the article: Manchester United Supporters Club Scandinavia\n",
            "Got JSONDecodeError, skipping\n",
            "Error fetching the article: Abort\n"
          ]
        },
        {
          "metadata": {
            "tags": null
          },
          "name": "stderr",
          "output_type": "stream",
          "text": [
            "  1%|▏         | 274/20182 [02:09<2:37:07,  2.11it/s]"
          ]
        },
        {
          "metadata": {
            "tags": null
          },
          "name": "stdout",
          "output_type": "stream",
          "text": [
            "Got JSONDecodeError, skippingGot JSONDecodeError, skipping\n",
            "Error fetching the article: 1579\n",
            "\n",
            "Error fetching the article: 1580\n",
            "Got JSONDecodeError, skipping\n",
            "Error fetching the article: 1587\n"
          ]
        },
        {
          "metadata": {
            "tags": null
          },
          "name": "stderr",
          "output_type": "stream",
          "text": [
            "\r  1%|▏         | 275/20182 [02:09<2:32:10,  2.18it/s]"
          ]
        },
        {
          "metadata": {
            "tags": null
          },
          "name": "stdout",
          "output_type": "stream",
          "text": [
            "Got JSONDecodeError, skipping\n",
            "Error fetching the article: 1571\n",
            "Got JSONDecodeError, skipping\n",
            "Error fetching the article: 1578\n",
            "Got JSONDecodeError, skipping\n",
            "Error fetching the article: 1569\n",
            "Got JSONDecodeError, skipping\n",
            "Error fetching the article: 1570\n"
          ]
        },
        {
          "metadata": {
            "tags": null
          },
          "name": "stderr",
          "output_type": "stream",
          "text": [
            "\r  1%|▏         | 276/20182 [02:10<2:28:32,  2.23it/s]"
          ]
        },
        {
          "metadata": {
            "tags": null
          },
          "name": "stdout",
          "output_type": "stream",
          "text": [
            "Got JSONDecodeError, skipping\n",
            "Error fetching the article: 1560\n",
            "Got JSONDecodeError, skipping\n",
            "Error fetching the article: 1559\n",
            "Got JSONDecodeError, skipping\n",
            "Error fetching the article: 1561\n"
          ]
        },
        {
          "metadata": {
            "tags": null
          },
          "name": "stderr",
          "output_type": "stream",
          "text": [
            "\r  1%|▏         | 277/20182 [02:10<2:24:47,  2.29it/s]"
          ]
        },
        {
          "metadata": {
            "tags": null
          },
          "name": "stdout",
          "output_type": "stream",
          "text": [
            "Got JSONDecodeError, skipping\n",
            "Error fetching the article: Bagatelle\n",
            "Got JSONDecodeError, skipping\n",
            "Error fetching the article: HundvågGot JSONDecodeError, skipping\n",
            "Error fetching the article: 1550\n",
            "\n"
          ]
        },
        {
          "metadata": {
            "tags": null
          },
          "name": "stderr",
          "output_type": "stream",
          "text": [
            "  1%|▏         | 279/20182 [02:11<2:25:45,  2.28it/s]"
          ]
        },
        {
          "metadata": {
            "tags": null
          },
          "name": "stdout",
          "output_type": "stream",
          "text": [
            "Got JSONDecodeError, skipping\n",
            "Error fetching the article: 1541\n",
            "Got JSONDecodeError, skippingGot JSONDecodeError, skipping\n",
            "Error fetching the article: 1547\n",
            "\n",
            "Error fetching the article: 1543\n",
            "Got JSONDecodeError, skipping\n",
            "Error fetching the article: 1532\n",
            "Got JSONDecodeError, skipping\n",
            "Error fetching the article: 1534\n",
            "Got JSONDecodeError, skipping\n",
            "Error fetching the article: 1533\n"
          ]
        },
        {
          "metadata": {
            "tags": null
          },
          "name": "stderr",
          "output_type": "stream",
          "text": [
            "\r  1%|▏         | 280/20182 [02:11<2:26:19,  2.27it/s]"
          ]
        },
        {
          "metadata": {
            "tags": null
          },
          "name": "stdout",
          "output_type": "stream",
          "text": [
            "Got JSONDecodeError, skipping\n",
            "Error fetching the article: 1522\n",
            "Got JSONDecodeError, skipping\n",
            "Error fetching the article: 1521\n"
          ]
        },
        {
          "metadata": {
            "tags": null
          },
          "name": "stderr",
          "output_type": "stream",
          "text": [
            "  1%|▏         | 282/20182 [02:12<2:30:28,  2.20it/s]"
          ]
        },
        {
          "metadata": {
            "tags": null
          },
          "name": "stdout",
          "output_type": "stream",
          "text": [
            "Got JSONDecodeError, skipping\n",
            "Error fetching the article: 1515\n",
            "Got JSONDecodeError, skippingGot JSONDecodeError, skipping\n",
            "Error fetching the article: 1514\n",
            "\n",
            "Error fetching the article: 1513\n"
          ]
        },
        {
          "metadata": {
            "tags": null
          },
          "name": "stderr",
          "output_type": "stream",
          "text": [
            "  1%|▏         | 284/20182 [02:13<2:34:22,  2.15it/s]"
          ]
        },
        {
          "metadata": {
            "tags": null
          },
          "name": "stdout",
          "output_type": "stream",
          "text": [
            "Got JSONDecodeError, skipping\n",
            "Error fetching the article: Belize\n",
            "Got JSONDecodeError, skipping\n",
            "Error fetching the article: Gozo\n",
            "Got JSONDecodeError, skipping\n",
            "Error fetching the article: 1103\n",
            "Got JSONDecodeError, skipping\n",
            "Error fetching the article: Galleri F 15\n",
            "Got JSONDecodeError, skipping\n",
            "Error fetching the article: Global Positioning System\n",
            "Got JSONDecodeError, skipping\n",
            "Error fetching the article: 880\n"
          ]
        },
        {
          "metadata": {
            "tags": null
          },
          "name": "stderr",
          "output_type": "stream",
          "text": [
            "\r  1%|▏         | 285/20182 [02:14<2:29:20,  2.22it/s]"
          ]
        },
        {
          "metadata": {
            "tags": null
          },
          "name": "stdout",
          "output_type": "stream",
          "text": [
            "Got JSONDecodeError, skipping\n",
            "Error fetching the article: Örebro län\n",
            "Got JSONDecodeError, skipping\n",
            "Got JSONDecodeError, skipping\n",
            "Error fetching the article: Västmanlands län\n",
            "Error fetching the article: Södermanlands län\n"
          ]
        },
        {
          "metadata": {
            "tags": null
          },
          "name": "stderr",
          "output_type": "stream",
          "text": [
            "  1%|▏         | 287/20182 [02:14<2:26:38,  2.26it/s]"
          ]
        },
        {
          "metadata": {
            "tags": null
          },
          "name": "stdout",
          "output_type": "stream",
          "text": [
            "Got JSONDecodeError, skipping\n",
            "Error fetching the article: Jämtlands län\n",
            "Got JSONDecodeError, skipping\n",
            "Error fetching the article: Aass Bryggeri\n",
            "Got JSONDecodeError, skippingGot JSONDecodeError, skipping\n",
            "Error fetching the article: Ryggsvømming\n",
            "Error fetching the article: Øystre Slidre\n",
            "\n",
            "Got JSONDecodeError, skipping\n",
            "Error fetching the article: Tibetansk spaniel\n"
          ]
        },
        {
          "metadata": {
            "tags": null
          },
          "name": "stderr",
          "output_type": "stream",
          "text": [
            "  1%|▏         | 290/20182 [02:16<2:36:38,  2.12it/s]"
          ]
        },
        {
          "metadata": {
            "tags": null
          },
          "name": "stdout",
          "output_type": "stream",
          "text": [
            "Got JSONDecodeError, skipping\n",
            "Error fetching the article: Las Vegas\n",
            "Got JSONDecodeError, skipping\n",
            "Error fetching the article: Celle\n",
            "Got JSONDecodeError, skippingGot JSONDecodeError, skipping\n",
            "Error fetching the article: Norrbottens län\n",
            "\n",
            "Error fetching the article: Kalmar län\n"
          ]
        },
        {
          "metadata": {
            "tags": null
          },
          "name": "stderr",
          "output_type": "stream",
          "text": [
            "  1%|▏         | 292/20182 [02:17<2:38:33,  2.09it/s]"
          ]
        },
        {
          "metadata": {
            "tags": null
          },
          "name": "stdout",
          "output_type": "stream",
          "text": [
            "Got JSONDecodeError, skippingGot JSONDecodeError, skipping\n",
            "Error fetching the article: Kasjubisk\n",
            "\n",
            "Error fetching the article: Den europeiske unions offisielle språk\n",
            "Got JSONDecodeError, skipping\n",
            "Error fetching the article: Pommern\n",
            "Got JSONDecodeError, skipping\n",
            "Error fetching the article: Västra Götalands län\n",
            "Got JSONDecodeError, skipping\n",
            "Error fetching the article: Västra Finlands län\n"
          ]
        },
        {
          "metadata": {
            "tags": null
          },
          "name": "stderr",
          "output_type": "stream",
          "text": [
            "  1%|▏         | 294/20182 [02:18<2:41:55,  2.05it/s]"
          ]
        },
        {
          "metadata": {
            "tags": null
          },
          "name": "stdout",
          "output_type": "stream",
          "text": [
            "Got JSONDecodeError, skipping\n",
            "Error fetching the article: Paraguay\n",
            "Got JSONDecodeError, skipping\n",
            "Error fetching the article: Fjernsyn\n",
            "Got JSONDecodeError, skipping\n",
            "Error fetching the article: UkrainaGot JSONDecodeError, skipping\n",
            "Error fetching the article: Green Day\n",
            "\n"
          ]
        },
        {
          "metadata": {
            "tags": null
          },
          "name": "stderr",
          "output_type": "stream",
          "text": [
            "\r  1%|▏         | 295/20182 [02:18<2:37:30,  2.10it/s]"
          ]
        },
        {
          "metadata": {
            "tags": null
          },
          "name": "stdout",
          "output_type": "stream",
          "text": [
            "Got JSONDecodeError, skipping\n",
            "Error fetching the article: 1499\n",
            "Got JSONDecodeError, skipping\n",
            "Error fetching the article: NASA\n",
            "Got JSONDecodeError, skipping\n",
            "Error fetching the article: Svensk Pommern\n"
          ]
        },
        {
          "metadata": {
            "tags": null
          },
          "name": "stderr",
          "output_type": "stream",
          "text": [
            "\r  1%|▏         | 296/20182 [02:19<2:37:37,  2.10it/s]"
          ]
        },
        {
          "metadata": {
            "tags": null
          },
          "name": "stdout",
          "output_type": "stream",
          "text": [
            "Got JSONDecodeError, skippingGot JSONDecodeError, skipping\n",
            "Error fetching the article: Tårnkran\n",
            "\n",
            "Error fetching the article: IPhoto\n"
          ]
        },
        {
          "metadata": {
            "tags": null
          },
          "name": "stderr",
          "output_type": "stream",
          "text": [
            "\r  1%|▏         | 297/20182 [02:19<2:35:01,  2.14it/s]"
          ]
        },
        {
          "metadata": {
            "tags": null
          },
          "name": "stdout",
          "output_type": "stream",
          "text": [
            "Got JSONDecodeError, skipping\n",
            "Error fetching the article: 1491\n",
            "Got JSONDecodeError, skipping\n",
            "Error fetching the article: 1489\n",
            "Got JSONDecodeError, skipping\n",
            "Error fetching the article: Linus Torvalds\n",
            "Got JSONDecodeError, skipping\n",
            "Error fetching the article: 1490\n"
          ]
        },
        {
          "metadata": {
            "tags": null
          },
          "name": "stderr",
          "output_type": "stream",
          "text": [
            "\r  1%|▏         | 298/20182 [02:20<2:28:33,  2.23it/s]"
          ]
        },
        {
          "metadata": {
            "tags": null
          },
          "name": "stdout",
          "output_type": "stream",
          "text": [
            "Got JSONDecodeError, skipping\n",
            "Error fetching the article: 1479\n",
            "Got JSONDecodeError, skippingGot JSONDecodeError, skipping\n",
            "Error fetching the article: 1480\n",
            "\n",
            "Error fetching the article: 1481\n"
          ]
        },
        {
          "metadata": {
            "tags": null
          },
          "name": "stderr",
          "output_type": "stream",
          "text": [
            "\r  1%|▏         | 299/20182 [02:20<2:25:51,  2.27it/s]"
          ]
        },
        {
          "metadata": {
            "tags": null
          },
          "name": "stdout",
          "output_type": "stream",
          "text": [
            "Got JSONDecodeError, skipping\n",
            "Error fetching the article: 1441\n",
            "Got JSONDecodeError, skipping\n",
            "Error fetching the article: 1398\n",
            "Got JSONDecodeError, skipping\n",
            "Error fetching the article: 1474\n"
          ]
        },
        {
          "metadata": {
            "tags": null
          },
          "name": "stderr",
          "output_type": "stream",
          "text": [
            "\r  1%|▏         | 300/20182 [02:21<2:23:00,  2.32it/s]"
          ]
        },
        {
          "metadata": {
            "tags": null
          },
          "name": "stdout",
          "output_type": "stream",
          "text": [
            "Got JSONDecodeError, skipping\n",
            "Error fetching the article: 1405\n",
            "Got JSONDecodeError, skipping\n",
            "Error fetching the article: 1406\n"
          ]
        },
        {
          "metadata": {
            "tags": null
          },
          "name": "stderr",
          "output_type": "stream",
          "text": [
            "\r  1%|▏         | 301/20182 [02:21<2:23:01,  2.32it/s]"
          ]
        },
        {
          "metadata": {
            "tags": null
          },
          "name": "stdout",
          "output_type": "stream",
          "text": [
            "Got JSONDecodeError, skipping\n",
            "Error fetching the article: 1466\n",
            "Got JSONDecodeError, skipping\n",
            "Error fetching the article: 1443\n",
            "Got JSONDecodeError, skipping\n",
            "Error fetching the article: 1465\n"
          ]
        },
        {
          "metadata": {
            "tags": null
          },
          "name": "stderr",
          "output_type": "stream",
          "text": [
            "\r  1%|▏         | 302/20182 [02:21<2:22:42,  2.32it/s]"
          ]
        },
        {
          "metadata": {
            "tags": null
          },
          "name": "stdout",
          "output_type": "stream",
          "text": [
            "Got JSONDecodeError, skippingGot JSONDecodeError, skipping\n",
            "Error fetching the article: 1451\n",
            "\n",
            "Error fetching the article: 1450\n",
            "Got JSONDecodeError, skipping\n",
            "Error fetching the article: 1445\n",
            "Got JSONDecodeError, skipping\n",
            "Error fetching the article: 1460\n"
          ]
        },
        {
          "metadata": {
            "tags": null
          },
          "name": "stderr",
          "output_type": "stream",
          "text": [
            "\r  2%|▏         | 303/20182 [02:22<2:21:16,  2.35it/s]"
          ]
        },
        {
          "metadata": {
            "tags": null
          },
          "name": "stdout",
          "output_type": "stream",
          "text": [
            "Got JSONDecodeError, skippingGot JSONDecodeError, skipping\n",
            "\n",
            "Error fetching the article: 1448Error fetching the article: 1412\n",
            "\n"
          ]
        },
        {
          "metadata": {
            "tags": null
          },
          "name": "stderr",
          "output_type": "stream",
          "text": [
            "\r  2%|▏         | 304/20182 [02:22<2:21:13,  2.35it/s]"
          ]
        },
        {
          "metadata": {
            "tags": null
          },
          "name": "stdout",
          "output_type": "stream",
          "text": [
            "Got JSONDecodeError, skipping\n",
            "Error fetching the article: 1438\n",
            "Got JSONDecodeError, skipping\n",
            "Error fetching the article: 1413\n",
            "Got JSONDecodeError, skipping\n",
            "Error fetching the article: 1414\n"
          ]
        },
        {
          "metadata": {
            "tags": null
          },
          "name": "stderr",
          "output_type": "stream",
          "text": [
            "\r  2%|▏         | 305/20182 [02:23<2:20:46,  2.35it/s]"
          ]
        },
        {
          "metadata": {
            "tags": null
          },
          "name": "stdout",
          "output_type": "stream",
          "text": [
            "Got JSONDecodeError, skipping\n",
            "Error fetching the article: 1430\n",
            "Got JSONDecodeError, skippingGot JSONDecodeError, skipping\n",
            "Error fetching the article: 1418\n",
            "\n",
            "Error fetching the article: 1419\n",
            "Got JSONDecodeError, skipping\n",
            "Error fetching the article: 1417\n"
          ]
        },
        {
          "metadata": {
            "tags": null
          },
          "name": "stderr",
          "output_type": "stream",
          "text": [
            "\r  2%|▏         | 306/20182 [02:23<2:21:12,  2.35it/s]"
          ]
        },
        {
          "metadata": {
            "tags": null
          },
          "name": "stdout",
          "output_type": "stream",
          "text": [
            "Got JSONDecodeError, skipping\n",
            "Error fetching the article: 1427\n",
            "Got JSONDecodeError, skipping\n",
            "Error fetching the article: 1425\n"
          ]
        },
        {
          "metadata": {
            "tags": null
          },
          "name": "stderr",
          "output_type": "stream",
          "text": [
            "\r  2%|▏         | 307/20182 [02:24<2:27:04,  2.25it/s]"
          ]
        },
        {
          "metadata": {
            "tags": null
          },
          "name": "stdout",
          "output_type": "stream",
          "text": [
            "Got JSONDecodeError, skipping\n",
            "Error fetching the article: 1389\n",
            "Got JSONDecodeError, skipping\n",
            "Error fetching the article: 1391\n",
            "Got JSONDecodeError, skipping\n",
            "Error fetching the article: 1393\n",
            "Got JSONDecodeError, skipping\n",
            "Error fetching the article: 1392\n"
          ]
        },
        {
          "metadata": {
            "tags": null
          },
          "name": "stderr",
          "output_type": "stream",
          "text": [
            "\r  2%|▏         | 308/20182 [02:24<2:26:45,  2.26it/s]"
          ]
        },
        {
          "metadata": {
            "tags": null
          },
          "name": "stdout",
          "output_type": "stream",
          "text": [
            "Got JSONDecodeError, skipping\n",
            "Error fetching the article: 1329\n",
            "Got JSONDecodeError, skipping\n",
            "Got JSONDecodeError, skipping\n",
            "Error fetching the article: 1327\n",
            "Error fetching the article: 1328\n"
          ]
        },
        {
          "metadata": {
            "tags": null
          },
          "name": "stderr",
          "output_type": "stream",
          "text": [
            "\r  2%|▏         | 309/20182 [02:24<2:29:37,  2.21it/s]"
          ]
        },
        {
          "metadata": {
            "tags": null
          },
          "name": "stdout",
          "output_type": "stream",
          "text": [
            "Got JSONDecodeError, skipping\n",
            "Error fetching the article: 1910-årene\n",
            "Got JSONDecodeError, skipping\n",
            "Error fetching the article: 1383\n",
            "Got JSONDecodeError, skipping\n",
            "Error fetching the article: 1381\n"
          ]
        },
        {
          "metadata": {
            "tags": null
          },
          "name": "stderr",
          "output_type": "stream",
          "text": [
            "\r  2%|▏         | 310/20182 [02:25<2:27:49,  2.24it/s]"
          ]
        },
        {
          "metadata": {
            "tags": null
          },
          "name": "stdout",
          "output_type": "stream",
          "text": [
            "Got JSONDecodeError, skipping\n",
            "Error fetching the article: 1740-årene\n",
            "Got JSONDecodeError, skipping\n",
            "Error fetching the article: 1700-årene\n"
          ]
        },
        {
          "metadata": {
            "tags": null
          },
          "name": "stderr",
          "output_type": "stream",
          "text": [
            "  2%|▏         | 312/20182 [02:26<2:25:40,  2.27it/s]"
          ]
        },
        {
          "metadata": {
            "tags": null
          },
          "name": "stdout",
          "output_type": "stream",
          "text": [
            "Got JSONDecodeError, skipping\n",
            "Error fetching the article: 1620-årene\n",
            "Got JSONDecodeError, skippingGot JSONDecodeError, skipping\n",
            "Error fetching the article: 1302\n",
            "\n",
            "Error fetching the article: 1291\n",
            "Got JSONDecodeError, skipping\n",
            "Error fetching the article: 1305\n",
            "Got JSONDecodeError, skippingGot JSONDecodeError, skipping\n",
            "Error fetching the article: 1354\n",
            "\n",
            "Error fetching the article: 1375\n",
            "Got JSONDecodeError, skipping\n",
            "Error fetching the article: 1306\n"
          ]
        },
        {
          "metadata": {
            "tags": null
          },
          "name": "stderr",
          "output_type": "stream",
          "text": [
            "\r  2%|▏         | 313/20182 [02:26<2:23:08,  2.31it/s]"
          ]
        },
        {
          "metadata": {
            "tags": null
          },
          "name": "stdout",
          "output_type": "stream",
          "text": [
            "Got JSONDecodeError, skipping\n",
            "Got JSONDecodeError, skipping\n",
            "Error fetching the article: 1371\n",
            "Error fetching the article: 1372\n",
            "Got JSONDecodeError, skipping\n",
            "Error fetching the article: 1370\n",
            "Got JSONDecodeError, skipping\n",
            "Error fetching the article: 1309\n"
          ]
        },
        {
          "metadata": {
            "tags": null
          },
          "name": "stderr",
          "output_type": "stream",
          "text": [
            "\r  2%|▏         | 314/20182 [02:27<2:20:14,  2.36it/s]"
          ]
        },
        {
          "metadata": {
            "tags": null
          },
          "name": "stdout",
          "output_type": "stream",
          "text": [
            "Got JSONDecodeError, skipping\n",
            "Error fetching the article: 1333\n",
            "Got JSONDecodeError, skipping\n",
            "Error fetching the article: 1312\n",
            "Got JSONDecodeError, skipping\n",
            "Error fetching the article: 1310\n"
          ]
        },
        {
          "metadata": {
            "tags": null
          },
          "name": "stderr",
          "output_type": "stream",
          "text": [
            "\r  2%|▏         | 315/20182 [02:27<2:22:08,  2.33it/s]"
          ]
        },
        {
          "metadata": {
            "tags": null
          },
          "name": "stdout",
          "output_type": "stream",
          "text": [
            "Got JSONDecodeError, skipping\n",
            "Error fetching the article: 1361\n",
            "Got JSONDecodeError, skipping\n",
            "Error fetching the article: 1364\n"
          ]
        },
        {
          "metadata": {
            "tags": null
          },
          "name": "stderr",
          "output_type": "stream",
          "text": [
            "  2%|▏         | 317/20182 [02:28<2:26:21,  2.26it/s]"
          ]
        },
        {
          "metadata": {
            "tags": null
          },
          "name": "stdout",
          "output_type": "stream",
          "text": [
            "Got JSONDecodeError, skipping\n",
            "Error fetching the article: 1355\n",
            "Got JSONDecodeError, skipping\n",
            "Error fetching the article: 1358\n",
            "Got JSONDecodeError, skipping\n",
            "Error fetching the article: 1315\n",
            "Got JSONDecodeError, skipping\n",
            "Error fetching the article: 1319\n",
            "Got JSONDecodeError, skipping\n",
            "Error fetching the article: 1341\n",
            "Got JSONDecodeError, skipping\n",
            "Error fetching the article: 1335\n"
          ]
        },
        {
          "metadata": {
            "tags": null
          },
          "name": "stderr",
          "output_type": "stream",
          "text": [
            "\r  2%|▏         | 318/20182 [02:28<2:24:30,  2.29it/s]"
          ]
        },
        {
          "metadata": {
            "tags": null
          },
          "name": "stdout",
          "output_type": "stream",
          "text": [
            "Got JSONDecodeError, skippingGot JSONDecodeError, skipping\n",
            "\n",
            "Error fetching the article: 1590-årene\n",
            "Got JSONDecodeError, skipping\n",
            "Error fetching the article: 1321\n",
            "Error fetching the article: 1322\n"
          ]
        },
        {
          "metadata": {
            "tags": null
          },
          "name": "stderr",
          "output_type": "stream",
          "text": [
            "\r  2%|▏         | 319/20182 [02:29<2:23:07,  2.31it/s]"
          ]
        },
        {
          "metadata": {
            "tags": null
          },
          "name": "stdout",
          "output_type": "stream",
          "text": [
            "Got JSONDecodeError, skipping\n",
            "Error fetching the article: Friedrich List\n",
            "Got JSONDecodeError, skipping\n",
            "Error fetching the article: James Prescott Joule\n",
            "Got JSONDecodeError, skipping\n",
            "Error fetching the article: Alfred Marshall\n"
          ]
        },
        {
          "metadata": {
            "tags": null
          },
          "name": "stderr",
          "output_type": "stream",
          "text": [
            "  2%|▏         | 321/20182 [02:30<2:26:00,  2.27it/s]"
          ]
        },
        {
          "metadata": {
            "tags": null
          },
          "name": "stdout",
          "output_type": "stream",
          "text": [
            "Got JSONDecodeError, skipping\n",
            "Error fetching the article: FSF India\n",
            "Got JSONDecodeError, skipping\n",
            "Error fetching the article: Stanley Jevons\n",
            "Got JSONDecodeError, skipping\n",
            "Error fetching the article: Hjell\n",
            "Got JSONDecodeError, skipping\n",
            "Error fetching the article: Kasjubere\n",
            "Got JSONDecodeError, skipping\n",
            "Error fetching the article: Opplysningstiden\n",
            "Got JSONDecodeError, skipping\n",
            "Error fetching the article: Charles Montesquieu\n"
          ]
        },
        {
          "metadata": {
            "tags": null
          },
          "name": "stderr",
          "output_type": "stream",
          "text": [
            "\r  2%|▏         | 322/20182 [02:30<2:23:38,  2.30it/s]"
          ]
        },
        {
          "metadata": {
            "tags": null
          },
          "name": "stdout",
          "output_type": "stream",
          "text": [
            "Got JSONDecodeError, skipping\n",
            "Error fetching the article: Sørvik\n",
            "Got JSONDecodeError, skipping\n",
            "Error fetching the article: Sandtorg\n"
          ]
        },
        {
          "metadata": {
            "tags": null
          },
          "name": "stderr",
          "output_type": "stream",
          "text": [
            "\r  2%|▏         | 323/20182 [02:31<2:26:15,  2.26it/s]"
          ]
        },
        {
          "metadata": {
            "tags": null
          },
          "name": "stdout",
          "output_type": "stream",
          "text": [
            "Got JSONDecodeError, skipping\n",
            "Error fetching the article: 1250\n",
            "Got JSONDecodeError, skipping\n",
            "Error fetching the article: Jotvingisk\n",
            "Got JSONDecodeError, skipping\n",
            "Error fetching the article: Haakon Magnus av Norge\n"
          ]
        },
        {
          "metadata": {
            "tags": null
          },
          "name": "stderr",
          "output_type": "stream",
          "text": [
            "\r  2%|▏         | 324/20182 [02:31<2:28:14,  2.23it/s]"
          ]
        },
        {
          "metadata": {
            "tags": null
          },
          "name": "stdout",
          "output_type": "stream",
          "text": [
            "Got JSONDecodeError, skipping\n",
            "Error fetching the article: Liste over landsnumre for telefon\n",
            "Got JSONDecodeError, skipping\n",
            "Error fetching the article: Sannsynlighetsteori\n"
          ]
        },
        {
          "metadata": {
            "tags": null
          },
          "name": "stderr",
          "output_type": "stream",
          "text": [
            "  2%|▏         | 327/20182 [02:33<2:43:38,  2.02it/s]"
          ]
        },
        {
          "metadata": {
            "tags": null
          },
          "name": "stdout",
          "output_type": "stream",
          "text": [
            "Got JSONDecodeError, skipping\n",
            "Error fetching the article: Dekningsbidrag\n",
            "Got JSONDecodeError, skipping\n",
            "Error fetching the article: Viggo Mortensen\n"
          ]
        },
        {
          "metadata": {
            "tags": null
          },
          "name": "stderr",
          "output_type": "stream",
          "text": [
            "\r  2%|▏         | 328/20182 [02:33<2:39:15,  2.08it/s]"
          ]
        },
        {
          "metadata": {
            "tags": null
          },
          "name": "stdout",
          "output_type": "stream",
          "text": [
            "Got JSONDecodeError, skipping\n",
            "Error fetching the article: 1251\n",
            "Got JSONDecodeError, skipping\n",
            "Error fetching the article: 1298\n",
            "Got JSONDecodeError, skipping\n",
            "Error fetching the article: 1255\n",
            "Got JSONDecodeError, skipping\n",
            "Error fetching the article: 1297\n"
          ]
        },
        {
          "metadata": {
            "tags": null
          },
          "name": "stderr",
          "output_type": "stream",
          "text": [
            "\r  2%|▏         | 329/20182 [02:34<2:34:18,  2.14it/s]"
          ]
        },
        {
          "metadata": {
            "tags": null
          },
          "name": "stdout",
          "output_type": "stream",
          "text": [
            "Got JSONDecodeError, skipping\n",
            "Error fetching the article: 1258\n",
            "Got JSONDecodeError, skipping\n",
            "Error fetching the article: 1289\n",
            "Got JSONDecodeError, skipping\n",
            "Error fetching the article: 1257\n"
          ]
        },
        {
          "metadata": {
            "tags": null
          },
          "name": "stderr",
          "output_type": "stream",
          "text": [
            "\r  2%|▏         | 330/20182 [02:34<2:30:25,  2.20it/s]"
          ]
        },
        {
          "metadata": {
            "tags": null
          },
          "name": "stdout",
          "output_type": "stream",
          "text": [
            "Got JSONDecodeError, skipping\n",
            "Error fetching the article: Nord-Korea\n",
            "Got JSONDecodeError, skipping\n",
            "Error fetching the article: Eutanasi\n",
            "Got JSONDecodeError, skipping\n",
            "Error fetching the article: Den hippokratiske ed\n"
          ]
        },
        {
          "metadata": {
            "tags": null
          },
          "name": "stderr",
          "output_type": "stream",
          "text": [
            "  2%|▏         | 332/20182 [02:35<2:33:47,  2.15it/s]"
          ]
        },
        {
          "metadata": {
            "tags": null
          },
          "name": "stdout",
          "output_type": "stream",
          "text": [
            "Got JSONDecodeError, skipping\n",
            "Error fetching the article: Harald Sæverud\n",
            "Got JSONDecodeError, skipping\n",
            "Error fetching the article: Rain Dogs\n",
            "Got JSONDecodeError, skippingGot JSONDecodeError, skipping\n",
            "Error fetching the article: 1281\n",
            "\n",
            "Error fetching the article: 1280\n",
            "Got JSONDecodeError, skipping\n",
            "Error fetching the article: 1480-årene\n"
          ]
        },
        {
          "metadata": {
            "tags": null
          },
          "name": "stderr",
          "output_type": "stream",
          "text": [
            "\r  2%|▏         | 333/20182 [02:35<2:30:49,  2.19it/s]"
          ]
        },
        {
          "metadata": {
            "tags": null
          },
          "name": "stdout",
          "output_type": "stream",
          "text": [
            "Got JSONDecodeError, skipping\n",
            "Error fetching the article: 1680-årene\n"
          ]
        },
        {
          "metadata": {
            "tags": null
          },
          "name": "stderr",
          "output_type": "stream",
          "text": [
            "  2%|▏         | 335/20182 [02:36<2:33:53,  2.15it/s]"
          ]
        },
        {
          "metadata": {
            "tags": null
          },
          "name": "stdout",
          "output_type": "stream",
          "text": [
            "Got JSONDecodeError, skipping\n",
            "Error fetching the article: 1640-årene\n",
            "Got JSONDecodeError, skipping\n",
            "Error fetching the article: 1660-årene\n",
            "Got JSONDecodeError, skipping\n",
            "Error fetching the article: 1510-årene\n"
          ]
        },
        {
          "metadata": {
            "tags": null
          },
          "name": "stderr",
          "output_type": "stream",
          "text": [
            "  2%|▏         | 337/20182 [02:37<2:39:00,  2.08it/s]"
          ]
        },
        {
          "metadata": {
            "tags": null
          },
          "name": "stdout",
          "output_type": "stream",
          "text": [
            "Got JSONDecodeError, skipping\n",
            "Error fetching the article: 1440-årene\n",
            "Got JSONDecodeError, skipping\n",
            "Error fetching the article: 1370-årene\n"
          ]
        },
        {
          "metadata": {
            "tags": null
          },
          "name": "stderr",
          "output_type": "stream",
          "text": [
            "\r  2%|▏         | 338/20182 [02:38<2:35:36,  2.13it/s]"
          ]
        },
        {
          "metadata": {
            "tags": null
          },
          "name": "stdout",
          "output_type": "stream",
          "text": [
            "Got JSONDecodeError, skipping\n",
            "Got JSONDecodeError, skipping\n",
            "Error fetching the article: 1290-årene\n",
            "Got JSONDecodeError, skipping\n",
            "Error fetching the article: 1100-åreneError fetching the article: 1190-årene\n",
            "\n"
          ]
        },
        {
          "metadata": {
            "tags": null
          },
          "name": "stderr",
          "output_type": "stream",
          "text": [
            "  2%|▏         | 340/20182 [02:39<2:28:14,  2.23it/s]"
          ]
        },
        {
          "metadata": {
            "tags": null
          },
          "name": "stdout",
          "output_type": "stream",
          "text": [
            "Got JSONDecodeError, skipping\n",
            "Error fetching the article: 1090-årene\n",
            "Got JSONDecodeError, skipping\n",
            "Error fetching the article: 1267\n",
            "Got JSONDecodeError, skipping\n",
            "Error fetching the article: 1273\n",
            "Got JSONDecodeError, skipping\n",
            "Error fetching the article: 1206Got JSONDecodeError, skipping\n",
            "\n",
            "Error fetching the article: 1207\n"
          ]
        },
        {
          "metadata": {
            "tags": null
          },
          "name": "stderr",
          "output_type": "stream",
          "text": [
            "\r  2%|▏         | 341/20182 [02:39<2:26:32,  2.26it/s]"
          ]
        },
        {
          "metadata": {
            "tags": null
          },
          "name": "stdout",
          "output_type": "stream",
          "text": [
            "Got JSONDecodeError, skipping\n",
            "Error fetching the article: 1260\n",
            "Got JSONDecodeError, skipping\n",
            "Error fetching the article: 1225\n",
            "Got JSONDecodeError, skipping\n",
            "Error fetching the article: 1212\n",
            "Got JSONDecodeError, skipping\n",
            "Error fetching the article: 1246\n"
          ]
        },
        {
          "metadata": {
            "tags": null
          },
          "name": "stderr",
          "output_type": "stream",
          "text": [
            "\r  2%|▏         | 342/20182 [02:39<2:24:43,  2.28it/s]"
          ]
        },
        {
          "metadata": {
            "tags": null
          },
          "name": "stdout",
          "output_type": "stream",
          "text": [
            "Got JSONDecodeError, skipping\n",
            "Error fetching the article: 1227\n",
            "Got JSONDecodeError, skipping\n",
            "Error fetching the article: 1228\n",
            "Got JSONDecodeError, skipping\n",
            "Error fetching the article: 1226\n"
          ]
        },
        {
          "metadata": {
            "tags": null
          },
          "name": "stderr",
          "output_type": "stream",
          "text": [
            "\r  2%|▏         | 343/20182 [02:40<2:24:16,  2.29it/s]"
          ]
        },
        {
          "metadata": {
            "tags": null
          },
          "name": "stdout",
          "output_type": "stream",
          "text": [
            "Got JSONDecodeError, skipping\n",
            "Error fetching the article: 1215Got JSONDecodeError, skipping\n",
            "Error fetching the article: 1239\n",
            "\n",
            "Got JSONDecodeError, skipping\n",
            "Error fetching the article: 1236\n",
            "Got JSONDecodeError, skipping\n",
            "Error fetching the article: 1238\n"
          ]
        },
        {
          "metadata": {
            "tags": null
          },
          "name": "stderr",
          "output_type": "stream",
          "text": [
            "\r  2%|▏         | 344/20182 [02:40<2:22:06,  2.33it/s]"
          ]
        },
        {
          "metadata": {
            "tags": null
          },
          "name": "stdout",
          "output_type": "stream",
          "text": [
            "Got JSONDecodeError, skipping\n",
            "Error fetching the article: 1220\n",
            "Got JSONDecodeError, skipping\n",
            "Error fetching the article: 1221\n",
            "Got JSONDecodeError, skipping\n",
            "Error fetching the article: 1242\n"
          ]
        },
        {
          "metadata": {
            "tags": null
          },
          "name": "stderr",
          "output_type": "stream",
          "text": [
            "\r  2%|▏         | 345/20182 [02:41<2:21:25,  2.34it/s]"
          ]
        },
        {
          "metadata": {
            "tags": null
          },
          "name": "stdout",
          "output_type": "stream",
          "text": [
            "Got JSONDecodeError, skippingGot JSONDecodeError, skipping\n",
            "\n",
            "Error fetching the article: 1196Error fetching the article: 1197\n",
            "\n"
          ]
        },
        {
          "metadata": {
            "tags": null
          },
          "name": "stderr",
          "output_type": "stream",
          "text": [
            "\r  2%|▏         | 346/20182 [02:41<2:22:07,  2.33it/s]"
          ]
        },
        {
          "metadata": {
            "tags": null
          },
          "name": "stdout",
          "output_type": "stream",
          "text": [
            "Got JSONDecodeError, skippingGot JSONDecodeError, skippingGot JSONDecodeError, skipping\n",
            "Error fetching the article: 1186\n",
            "\n",
            "\n",
            "Error fetching the article: 1189\n",
            "Error fetching the article: 1187\n"
          ]
        },
        {
          "metadata": {
            "tags": null
          },
          "name": "stderr",
          "output_type": "stream",
          "text": [
            "\r  2%|▏         | 347/20182 [02:42<2:21:49,  2.33it/s]"
          ]
        },
        {
          "metadata": {
            "tags": null
          },
          "name": "stdout",
          "output_type": "stream",
          "text": [
            "Got JSONDecodeError, skipping\n",
            "Error fetching the article: 1175\n",
            "Got JSONDecodeError, skipping\n",
            "Error fetching the article: 1176\n"
          ]
        },
        {
          "metadata": {
            "tags": null
          },
          "name": "stderr",
          "output_type": "stream",
          "text": [
            "\r  2%|▏         | 348/20182 [02:42<2:23:07,  2.31it/s]"
          ]
        },
        {
          "metadata": {
            "tags": null
          },
          "name": "stdout",
          "output_type": "stream",
          "text": [
            "Got JSONDecodeError, skipping\n",
            "Error fetching the article: 1177\n",
            "Got JSONDecodeError, skipping\n",
            "Error fetching the article: 1168\n",
            "Got JSONDecodeError, skippingGot JSONDecodeError, skipping\n",
            "\n",
            "Error fetching the article: 1165\n",
            "Error fetching the article: 1167\n",
            "Got JSONDecodeError, skipping\n",
            "Error fetching the article: 1169\n"
          ]
        },
        {
          "metadata": {
            "tags": null
          },
          "name": "stderr",
          "output_type": "stream",
          "text": [
            "\r  2%|▏         | 349/20182 [02:42<2:21:12,  2.34it/s]"
          ]
        },
        {
          "metadata": {
            "tags": null
          },
          "name": "stdout",
          "output_type": "stream",
          "text": [
            "Got JSONDecodeError, skipping\n",
            "Error fetching the article: 1162\n",
            "Got JSONDecodeError, skipping\n",
            "Got JSONDecodeError, skipping\n",
            "Error fetching the article: Christofer ColumbusError fetching the article: 1158\n",
            "\n"
          ]
        },
        {
          "metadata": {
            "tags": null
          },
          "name": "stderr",
          "output_type": "stream",
          "text": [
            "  2%|▏         | 351/20182 [02:43<2:20:59,  2.34it/s]"
          ]
        },
        {
          "metadata": {
            "tags": null
          },
          "name": "stdout",
          "output_type": "stream",
          "text": [
            "Got JSONDecodeError, skipping\n",
            "Error fetching the article: 1151\n",
            "Got JSONDecodeError, skipping\n",
            "Error fetching the article: 1147\n",
            "Got JSONDecodeError, skipping\n",
            "Error fetching the article: 1150\n",
            "Got JSONDecodeError, skipping\n",
            "Error fetching the article: Klinisk kjemi\n",
            "Got JSONDecodeError, skipping\n",
            "Error fetching the article: C-reaktivt protein\n"
          ]
        },
        {
          "metadata": {
            "tags": null
          },
          "name": "stderr",
          "output_type": "stream",
          "text": [
            "\r  2%|▏         | 352/20182 [02:44<2:20:40,  2.35it/s]"
          ]
        },
        {
          "metadata": {
            "tags": null
          },
          "name": "stdout",
          "output_type": "stream",
          "text": [
            "Got JSONDecodeError, skipping\n",
            "Error fetching the article: 1130\n",
            "Got JSONDecodeError, skippingGot JSONDecodeError, skipping\n",
            "Error fetching the article: 1131\n",
            "\n",
            "Error fetching the article: 1133\n"
          ]
        },
        {
          "metadata": {
            "tags": null
          },
          "name": "stderr",
          "output_type": "stream",
          "text": [
            "\r  2%|▏         | 353/20182 [02:44<2:19:36,  2.37it/s]"
          ]
        },
        {
          "metadata": {
            "tags": null
          },
          "name": "stdout",
          "output_type": "stream",
          "text": [
            "Got JSONDecodeError, skipping\n",
            "Error fetching the article: 1122\n",
            "Got JSONDecodeError, skipping\n",
            "Error fetching the article: 1120\n",
            "Got JSONDecodeError, skipping\n",
            "Error fetching the article: 1121\n"
          ]
        },
        {
          "metadata": {
            "tags": null
          },
          "name": "stderr",
          "output_type": "stream",
          "text": [
            "\r  2%|▏         | 354/20182 [02:45<2:19:49,  2.36it/s]"
          ]
        },
        {
          "metadata": {
            "tags": null
          },
          "name": "stdout",
          "output_type": "stream",
          "text": [
            "Got JSONDecodeError, skippingGot JSONDecodeError, skipping\n",
            "Error fetching the article: 1112\n",
            "\n",
            "Error fetching the article: 1110\n",
            "Got JSONDecodeError, skipping\n",
            "Error fetching the article: 1115\n",
            "Got JSONDecodeError, skipping\n",
            "Error fetching the article: 1111\n"
          ]
        },
        {
          "metadata": {
            "tags": null
          },
          "name": "stderr",
          "output_type": "stream",
          "text": [
            "\r  2%|▏         | 355/20182 [02:45<2:18:08,  2.39it/s]"
          ]
        },
        {
          "metadata": {
            "tags": null
          },
          "name": "stdout",
          "output_type": "stream",
          "text": [
            "Got JSONDecodeError, skipping\n",
            "Error fetching the article: Vallonsk Brabant\n",
            "Got JSONDecodeError, skipping\n",
            "Error fetching the article: 1101\n",
            "Got JSONDecodeError, skipping\n",
            "Error fetching the article: 1100\n"
          ]
        },
        {
          "metadata": {
            "tags": null
          },
          "name": "stderr",
          "output_type": "stream",
          "text": [
            "  2%|▏         | 358/20182 [02:46<2:30:46,  2.19it/s]"
          ]
        },
        {
          "metadata": {
            "tags": null
          },
          "name": "stdout",
          "output_type": "stream",
          "text": [
            "Got JSONDecodeError, skippingGot JSONDecodeError, skipping\n",
            "\n",
            "Error fetching the article: Super Nintendo Entertainment SystemError fetching the article: Liège (provins)\n",
            "\n",
            "Got JSONDecodeError, skipping\n",
            "Error fetching the article: 1087\n",
            "Got JSONDecodeError, skipping\n",
            "Error fetching the article: 1090\n"
          ]
        },
        {
          "metadata": {
            "tags": null
          },
          "name": "stderr",
          "output_type": "stream",
          "text": [
            "\r  2%|▏         | 359/20182 [02:47<2:28:30,  2.22it/s]"
          ]
        },
        {
          "metadata": {
            "tags": null
          },
          "name": "stdout",
          "output_type": "stream",
          "text": [
            "Got JSONDecodeError, skipping\n",
            "Error fetching the article: 1060-årene\n",
            "Got JSONDecodeError, skipping\n",
            "Error fetching the article: Damme\n",
            "Got JSONDecodeError, skipping\n",
            "Error fetching the article: 1040-årene\n"
          ]
        },
        {
          "metadata": {
            "tags": null
          },
          "name": "stderr",
          "output_type": "stream",
          "text": [
            "  2%|▏         | 361/20182 [02:48<2:31:30,  2.18it/s]"
          ]
        },
        {
          "metadata": {
            "tags": null
          },
          "name": "stdout",
          "output_type": "stream",
          "text": [
            "Got JSONDecodeError, skippingGot JSONDecodeError, skipping\n",
            "Error fetching the article: 1076\n",
            "\n",
            "Error fetching the article: 1080\n",
            "Got JSONDecodeError, skipping\n",
            "Error fetching the article: 1082\n"
          ]
        },
        {
          "metadata": {
            "tags": null
          },
          "name": "stderr",
          "output_type": "stream",
          "text": [
            "\r  2%|▏         | 362/20182 [02:48<2:32:31,  2.17it/s]"
          ]
        },
        {
          "metadata": {
            "tags": null
          },
          "name": "stdout",
          "output_type": "stream",
          "text": [
            "Got JSONDecodeError, skipping\n",
            "Error fetching the article: 1072\n",
            "Got JSONDecodeError, skipping\n",
            "Error fetching the article: 1069\n",
            "Got JSONDecodeError, skipping\n",
            "Error fetching the article: 1065\n",
            "Got JSONDecodeError, skippingGot JSONDecodeError, skipping\n",
            "Error fetching the article: 1055\n",
            "\n",
            "Error fetching the article: 1057\n"
          ]
        },
        {
          "metadata": {
            "tags": null
          },
          "name": "stderr",
          "output_type": "stream",
          "text": [
            "  2%|▏         | 364/20182 [02:49<2:31:43,  2.18it/s]"
          ]
        },
        {
          "metadata": {
            "tags": null
          },
          "name": "stdout",
          "output_type": "stream",
          "text": [
            "Got JSONDecodeError, skipping\n",
            "Error fetching the article: 1049\n",
            "Got JSONDecodeError, skipping\n",
            "Error fetching the article: 1048\n",
            "Got JSONDecodeError, skipping\n",
            "Error fetching the article: 1051\n",
            "Got JSONDecodeError, skipping\n",
            "Error fetching the article: 1043\n",
            "Got JSONDecodeError, skipping\n",
            "Error fetching the article: UNESCO\n",
            "Got JSONDecodeError, skipping\n",
            "Error fetching the article: 1140-årene\n"
          ]
        },
        {
          "metadata": {
            "tags": null
          },
          "name": "stderr",
          "output_type": "stream",
          "text": [
            "\r  2%|▏         | 365/20182 [02:50<2:31:27,  2.18it/s]"
          ]
        },
        {
          "metadata": {
            "tags": null
          },
          "name": "stdout",
          "output_type": "stream",
          "text": [
            "Got JSONDecodeError, skipping\n",
            "Error fetching the article: 1035\n",
            "Got JSONDecodeError, skipping\n",
            "Error fetching the article: 1034\n",
            "Got JSONDecodeError, skipping\n",
            "Error fetching the article: 1033\n",
            "Got JSONDecodeError, skipping\n",
            "Error fetching the article: 1036\n"
          ]
        },
        {
          "metadata": {
            "tags": null
          },
          "name": "stderr",
          "output_type": "stream",
          "text": [
            "\r  2%|▏         | 366/20182 [02:50<2:27:13,  2.24it/s]"
          ]
        },
        {
          "metadata": {
            "tags": null
          },
          "name": "stdout",
          "output_type": "stream",
          "text": [
            "Got JSONDecodeError, skipping\n",
            "Error fetching the article: 1021\n",
            "Got JSONDecodeError, skippingGot JSONDecodeError, skipping\n",
            "Error fetching the article: 1023\n",
            "\n",
            "Error fetching the article: 1022\n"
          ]
        },
        {
          "metadata": {
            "tags": null
          },
          "name": "stderr",
          "output_type": "stream",
          "text": [
            "\r  2%|▏         | 367/20182 [02:50<2:23:24,  2.30it/s]"
          ]
        },
        {
          "metadata": {
            "tags": null
          },
          "name": "stdout",
          "output_type": "stream",
          "text": [
            "Got JSONDecodeError, skipping\n",
            "Error fetching the article: 1011\n",
            "Got JSONDecodeError, skipping\n",
            "Got JSONDecodeError, skippingError fetching the article: 1012\n",
            "\n",
            "Error fetching the article: 1013\n"
          ]
        },
        {
          "metadata": {
            "tags": null
          },
          "name": "stderr",
          "output_type": "stream",
          "text": [
            "\r  2%|▏         | 368/20182 [02:51<2:22:00,  2.33it/s]"
          ]
        },
        {
          "metadata": {
            "tags": null
          },
          "name": "stdout",
          "output_type": "stream",
          "text": [
            "Got JSONDecodeError, skipping\n",
            "Error fetching the article: 1001\n",
            "Got JSONDecodeError, skipping\n",
            "Error fetching the article: 1003\n",
            "Got JSONDecodeError, skipping\n",
            "Error fetching the article: 1002\n"
          ]
        },
        {
          "metadata": {
            "tags": null
          },
          "name": "stderr",
          "output_type": "stream",
          "text": [
            "\r  2%|▏         | 369/20182 [02:51<2:21:25,  2.33it/s]"
          ]
        },
        {
          "metadata": {
            "tags": null
          },
          "name": "stdout",
          "output_type": "stream",
          "text": [
            "Got JSONDecodeError, skippingGot JSONDecodeError, skipping\n",
            "\n",
            "Error fetching the article: 993Error fetching the article: 992\n",
            "\n",
            "Got JSONDecodeError, skippingGot JSONDecodeError, skipping\n",
            "Error fetching the article: 994\n",
            "\n",
            "Error fetching the article: 995\n"
          ]
        },
        {
          "metadata": {
            "tags": null
          },
          "name": "stderr",
          "output_type": "stream",
          "text": [
            "\r  2%|▏         | 370/20182 [02:52<2:20:39,  2.35it/s]"
          ]
        },
        {
          "metadata": {
            "tags": null
          },
          "name": "stdout",
          "output_type": "stream",
          "text": [
            "Got JSONDecodeError, skipping\n",
            "Error fetching the article: Jodoigne\n",
            "Got JSONDecodeError, skipping\n",
            "Error fetching the article: La Hulpe\n",
            "Got JSONDecodeError, skipping\n",
            "Error fetching the article: Ikke-statlig organisasjon\n"
          ]
        },
        {
          "metadata": {
            "tags": null
          },
          "name": "stderr",
          "output_type": "stream",
          "text": [
            "  2%|▏         | 372/20182 [02:53<2:30:43,  2.19it/s]"
          ]
        },
        {
          "metadata": {
            "tags": null
          },
          "name": "stdout",
          "output_type": "stream",
          "text": [
            "Got JSONDecodeError, skipping\n",
            "Error fetching the article: Force Mobile Reserve\n",
            "Got JSONDecodeError, skipping\n",
            "Error fetching the article: NGO\n"
          ]
        },
        {
          "metadata": {
            "tags": null
          },
          "name": "stderr",
          "output_type": "stream",
          "text": [
            "\r  2%|▏         | 373/20182 [02:53<2:33:09,  2.16it/s]"
          ]
        },
        {
          "metadata": {
            "tags": null
          },
          "name": "stdout",
          "output_type": "stream",
          "text": [
            "Got JSONDecodeError, skipping\n",
            "Error fetching the article: FC Schalke 04\n",
            "Got JSONDecodeError, skipping\n",
            "Error fetching the article: Ringenes herre: Ringens brorskap\n",
            "Got JSONDecodeError, skippingGot JSONDecodeError, skipping\n",
            "\n",
            "Error fetching the article: Nettbank\n",
            "Error fetching the article: Halden Studentsamfund\n"
          ]
        },
        {
          "metadata": {
            "tags": null
          },
          "name": "stderr",
          "output_type": "stream",
          "text": [
            "\r  2%|▏         | 374/20182 [02:54<2:29:39,  2.21it/s]"
          ]
        },
        {
          "metadata": {
            "tags": null
          },
          "name": "stdout",
          "output_type": "stream",
          "text": [
            "Got JSONDecodeError, skipping\n",
            "Error fetching the article: Sersjant\n",
            "Got JSONDecodeError, skipping\n",
            "Error fetching the article: John Maynard Keynes\n",
            "Got JSONDecodeError, skipping\n",
            "Error fetching the article: Moldova\n"
          ]
        },
        {
          "metadata": {
            "tags": null
          },
          "name": "stderr",
          "output_type": "stream",
          "text": [
            "\r  2%|▏         | 375/20182 [02:54<2:33:12,  2.15it/s]"
          ]
        },
        {
          "metadata": {
            "tags": null
          },
          "name": "stdout",
          "output_type": "stream",
          "text": [
            "Got JSONDecodeError, skipping\n",
            "Error fetching the article: 1330-årene\n"
          ]
        },
        {
          "metadata": {
            "tags": null
          },
          "name": "stderr",
          "output_type": "stream",
          "text": [
            "\r  2%|▏         | 376/20182 [02:55<2:32:47,  2.16it/s]"
          ]
        },
        {
          "metadata": {
            "tags": null
          },
          "name": "stdout",
          "output_type": "stream",
          "text": [
            "Got JSONDecodeError, skippingGot JSONDecodeError, skipping\n",
            "Error fetching the article: Hamois\n",
            "Error fetching the article: 1350-årene\n",
            "\n"
          ]
        },
        {
          "metadata": {
            "tags": null
          },
          "name": "stderr",
          "output_type": "stream",
          "text": [
            "\r  2%|▏         | 377/20182 [02:55<2:28:47,  2.22it/s]"
          ]
        },
        {
          "metadata": {
            "tags": null
          },
          "name": "stdout",
          "output_type": "stream",
          "text": [
            "Got JSONDecodeError, skipping\n",
            "Error fetching the article: Læstadianerne\n",
            "Got JSONDecodeError, skipping\n",
            "Got JSONDecodeError, skippingError fetching the article: Vallonia\n",
            "\n",
            "Error fetching the article: Havelange\n",
            "Got JSONDecodeError, skipping\n",
            "Error fetching the article: Sykehus\n",
            "Got JSONDecodeError, skipping\n",
            "Error fetching the article: Olofström\n",
            "Got JSONDecodeError, skipping\n",
            "Error fetching the article: Ronneby\n"
          ]
        },
        {
          "metadata": {
            "tags": null
          },
          "name": "stderr",
          "output_type": "stream",
          "text": [
            "\r  2%|▏         | 378/20182 [02:55<2:33:25,  2.15it/s]"
          ]
        },
        {
          "metadata": {
            "tags": null
          },
          "name": "stdout",
          "output_type": "stream",
          "text": [
            "Got JSONDecodeError, skipping\n",
            "Error fetching the article: «Blücher»\n"
          ]
        },
        {
          "metadata": {
            "tags": null
          },
          "name": "stderr",
          "output_type": "stream",
          "text": [
            "\r  2%|▏         | 379/20182 [02:56<2:31:09,  2.18it/s]"
          ]
        },
        {
          "metadata": {
            "tags": null
          },
          "name": "stdout",
          "output_type": "stream",
          "text": [
            "Got JSONDecodeError, skipping\n",
            "Error fetching the article: Mora (Sverige)\n",
            "Got JSONDecodeError, skipping\n",
            "Error fetching the article: Nordanstig kommune\n",
            "Got JSONDecodeError, skipping\n",
            "Error fetching the article: Hudiksvall\n",
            "Got JSONDecodeError, skipping\n",
            "Error fetching the article: Hofors\n"
          ]
        },
        {
          "metadata": {
            "tags": null
          },
          "name": "stderr",
          "output_type": "stream",
          "text": [
            "\r  2%|▏         | 380/20182 [02:56<2:31:43,  2.18it/s]"
          ]
        },
        {
          "metadata": {
            "tags": null
          },
          "name": "stdout",
          "output_type": "stream",
          "text": [
            "Got JSONDecodeError, skipping\n",
            "Error fetching the article: Varberg\n",
            "Got JSONDecodeError, skipping\n",
            "Error fetching the article: Halmstad (andre betydninger)\n",
            "Got JSONDecodeError, skipping\n",
            "Error fetching the article: Kungsbacka\n"
          ]
        },
        {
          "metadata": {
            "tags": null
          },
          "name": "stderr",
          "output_type": "stream",
          "text": [
            "\r  2%|▏         | 381/20182 [02:57<2:27:49,  2.23it/s]"
          ]
        },
        {
          "metadata": {
            "tags": null
          },
          "name": "stdout",
          "output_type": "stream",
          "text": [
            "Got JSONDecodeError, skippingGot JSONDecodeError, skipping\n",
            "Error fetching the article: Östersund\n",
            "\n",
            "Error fetching the article: Åre kommune\n"
          ]
        },
        {
          "metadata": {
            "tags": null
          },
          "name": "stderr",
          "output_type": "stream",
          "text": [
            "\r  2%|▏         | 382/20182 [02:57<2:26:47,  2.25it/s]"
          ]
        },
        {
          "metadata": {
            "tags": null
          },
          "name": "stdout",
          "output_type": "stream",
          "text": [
            "Got JSONDecodeError, skipping\n",
            "Error fetching the article: Eksjö kommune\n",
            "Got JSONDecodeError, skipping\n",
            "Error fetching the article: Mullsjö kommune\n",
            "Got JSONDecodeError, skipping\n",
            "Error fetching the article: Tranås kommune\n"
          ]
        },
        {
          "metadata": {
            "tags": null
          },
          "name": "stderr",
          "output_type": "stream",
          "text": [
            "\r  2%|▏         | 383/20182 [02:58<2:25:10,  2.27it/s]"
          ]
        },
        {
          "metadata": {
            "tags": null
          },
          "name": "stdout",
          "output_type": "stream",
          "text": [
            "Got JSONDecodeError, skippingGot JSONDecodeError, skipping\n",
            "Error fetching the article: Hultsfred kommune\n",
            "Got JSONDecodeError, skipping\n",
            "\n",
            "Error fetching the article: Sävsjö kommune\n",
            "Error fetching the article: Høgnorsk\n"
          ]
        },
        {
          "metadata": {
            "tags": null
          },
          "name": "stderr",
          "output_type": "stream",
          "text": [
            "\r  2%|▏         | 384/20182 [02:58<2:23:33,  2.30it/s]"
          ]
        },
        {
          "metadata": {
            "tags": null
          },
          "name": "stdout",
          "output_type": "stream",
          "text": [
            "Got JSONDecodeError, skipping\n",
            "Error fetching the article: Niederösterreich\n",
            "Got JSONDecodeError, skipping\n",
            "Error fetching the article: Drag\n"
          ]
        },
        {
          "metadata": {
            "tags": null
          },
          "name": "stderr",
          "output_type": "stream",
          "text": [
            "\r  2%|▏         | 385/20182 [02:59<2:26:38,  2.25it/s]"
          ]
        },
        {
          "metadata": {
            "tags": null
          },
          "name": "stdout",
          "output_type": "stream",
          "text": [
            "Got JSONDecodeError, skipping\n",
            "Error fetching the article: Eghezée\n",
            "Got JSONDecodeError, skipping\n",
            "Error fetching the article: Andenne\n",
            "Got JSONDecodeError, skipping\n",
            "Error fetching the article: Somme-Leuze\n",
            "Got JSONDecodeError, skipping\n",
            "Error fetching the article: Assesse\n"
          ]
        },
        {
          "metadata": {
            "tags": null
          },
          "name": "stderr",
          "output_type": "stream",
          "text": [
            "\r  2%|▏         | 386/20182 [02:59<2:24:29,  2.28it/s]"
          ]
        },
        {
          "metadata": {
            "tags": null
          },
          "name": "stdout",
          "output_type": "stream",
          "text": [
            "Got JSONDecodeError, skipping\n",
            "Error fetching the article: Sambreville\n",
            "Got JSONDecodeError, skipping\n",
            "Error fetching the article: La Bruyère\n",
            "Got JSONDecodeError, skipping\n",
            "Error fetching the article: Profondeville\n"
          ]
        },
        {
          "metadata": {
            "tags": null
          },
          "name": "stderr",
          "output_type": "stream",
          "text": [
            "\r  2%|▏         | 387/20182 [02:59<2:25:15,  2.27it/s]"
          ]
        },
        {
          "metadata": {
            "tags": null
          },
          "name": "stdout",
          "output_type": "stream",
          "text": [
            "Got JSONDecodeError, skipping\n",
            "Error fetching the article: Vimmerby kommune\n",
            "Got JSONDecodeError, skipping\n",
            "Error fetching the article: Borgholm kommune\n"
          ]
        },
        {
          "metadata": {
            "tags": null
          },
          "name": "stderr",
          "output_type": "stream",
          "text": [
            "  2%|▏         | 389/20182 [03:00<2:27:20,  2.24it/s]"
          ]
        },
        {
          "metadata": {
            "tags": null
          },
          "name": "stdout",
          "output_type": "stream",
          "text": [
            "Got JSONDecodeError, skipping\n",
            "Error fetching the article: Arjeplog\n",
            "Got JSONDecodeError, skipping\n",
            "Error fetching the article: Tingsryd\n",
            "Got JSONDecodeError, skippingGot JSONDecodeError, skipping\n",
            "Error fetching the article: Växjö\n",
            "\n",
            "Error fetching the article: Älmhult\n",
            "Got JSONDecodeError, skipping\n",
            "Error fetching the article: Orp-Jauche\n",
            "Got JSONDecodeError, skipping\n",
            "Error fetching the article: Mont-Saint-Guibert\n"
          ]
        },
        {
          "metadata": {
            "tags": null
          },
          "name": "stderr",
          "output_type": "stream",
          "text": [
            "\r  2%|▏         | 390/20182 [03:01<2:28:43,  2.22it/s]"
          ]
        },
        {
          "metadata": {
            "tags": null
          },
          "name": "stdout",
          "output_type": "stream",
          "text": [
            "Got JSONDecodeError, skipping\n",
            "Error fetching the article: Ramillies\n",
            "Got JSONDecodeError, skipping\n",
            "Error fetching the article: Aartselaar\n",
            "Got JSONDecodeError, skipping\n",
            "Error fetching the article: Boom\n",
            "Got JSONDecodeError, skippingGot JSONDecodeError, skipping\n",
            "Error fetching the article: Rixensart\n",
            "\n",
            "Error fetching the article: Rebecq\n"
          ]
        },
        {
          "metadata": {
            "tags": null
          },
          "name": "stderr",
          "output_type": "stream",
          "text": [
            "  2%|▏         | 392/20182 [03:02<2:32:08,  2.17it/s]"
          ]
        },
        {
          "metadata": {
            "tags": null
          },
          "name": "stdout",
          "output_type": "stream",
          "text": [
            "Got JSONDecodeError, skipping\n",
            "Error fetching the article: Balen\n",
            "Got JSONDecodeError, skipping\n",
            "Got JSONDecodeError, skipping\n",
            "Error fetching the article: Gällivare\n",
            "Error fetching the article: Kalix\n",
            "Got JSONDecodeError, skipping\n",
            "Error fetching the article: Jokkmokk\n",
            "Got JSONDecodeError, skipping\n",
            "Error fetching the article: Lier (Belgia)\n",
            "Got JSONDecodeError, skipping\n",
            "Error fetching the article: Laakdal\n",
            "Got JSONDecodeError, skipping\n",
            "Error fetching the article: Brasschaat\n"
          ]
        },
        {
          "metadata": {
            "tags": null
          },
          "name": "stderr",
          "output_type": "stream",
          "text": [
            "\r  2%|▏         | 393/20182 [03:02<2:29:39,  2.20it/s]"
          ]
        },
        {
          "metadata": {
            "tags": null
          },
          "name": "stdout",
          "output_type": "stream",
          "text": [
            "Got JSONDecodeError, skipping\n",
            "Error fetching the article: Stetinden (Narvik)\n",
            "Got JSONDecodeError, skipping\n",
            "Error fetching the article: Piteå\n",
            "Got JSONDecodeError, skipping\n",
            "Error fetching the article: Luleå\n"
          ]
        },
        {
          "metadata": {
            "tags": null
          },
          "name": "stderr",
          "output_type": "stream",
          "text": [
            "\r  2%|▏         | 394/20182 [03:03<2:30:56,  2.19it/s]"
          ]
        },
        {
          "metadata": {
            "tags": null
          },
          "name": "stdout",
          "output_type": "stream",
          "text": [
            "Got JSONDecodeError, skippingGot JSONDecodeError, skipping\n",
            "Got JSONDecodeError, skipping\n",
            "Error fetching the article: KalmthoutError fetching the article: Heist-op-den-Berg\n",
            "\n",
            "\n",
            "Error fetching the article: Osveien (Bergen)\n"
          ]
        },
        {
          "metadata": {
            "tags": null
          },
          "name": "stderr",
          "output_type": "stream",
          "text": [
            "\r  2%|▏         | 395/20182 [03:03<2:26:43,  2.25it/s]"
          ]
        },
        {
          "metadata": {
            "tags": null
          },
          "name": "stdout",
          "output_type": "stream",
          "text": [
            "Got JSONDecodeError, skipping\n",
            "Error fetching the article: Mortsel\n",
            "Got JSONDecodeError, skipping\n",
            "Error fetching the article: Niel\n"
          ]
        },
        {
          "metadata": {
            "tags": null
          },
          "name": "stderr",
          "output_type": "stream",
          "text": [
            "\r  2%|▏         | 396/20182 [03:03<2:26:01,  2.26it/s]"
          ]
        },
        {
          "metadata": {
            "tags": null
          },
          "name": "stdout",
          "output_type": "stream",
          "text": [
            "Got JSONDecodeError, skippingGot JSONDecodeError, skipping\n",
            "Error fetching the article: Hulshout\n",
            "\n",
            "Error fetching the article: Herselt\n",
            "Got JSONDecodeError, skipping\n",
            "Error fetching the article: Zoersel\n",
            "Got JSONDecodeError, skipping\n",
            "Error fetching the article: Schilde\n"
          ]
        },
        {
          "metadata": {
            "tags": null
          },
          "name": "stderr",
          "output_type": "stream",
          "text": [
            "\r  2%|▏         | 397/20182 [03:04<2:23:24,  2.30it/s]"
          ]
        },
        {
          "metadata": {
            "tags": null
          },
          "name": "stdout",
          "output_type": "stream",
          "text": [
            "Got JSONDecodeError, skipping\n",
            "Error fetching the article: Wuustwezel\n",
            "Got JSONDecodeError, skipping\n",
            "Error fetching the article: MechelenGot JSONDecodeError, skipping\n",
            "Error fetching the article: Putte\n",
            "\n"
          ]
        },
        {
          "metadata": {
            "tags": null
          },
          "name": "stderr",
          "output_type": "stream",
          "text": [
            "  2%|▏         | 399/20182 [03:05<2:24:24,  2.28it/s]"
          ]
        },
        {
          "metadata": {
            "tags": null
          },
          "name": "stdout",
          "output_type": "stream",
          "text": [
            "Got JSONDecodeError, skipping\n",
            "Error fetching the article: Merksplas\n",
            "Got JSONDecodeError, skipping\n",
            "Error fetching the article: Vosselaar\n",
            "Got JSONDecodeError, skipping\n",
            "Got JSONDecodeError, skipping\n",
            "Error fetching the article: WesterloError fetching the article: Meerhout\n",
            "\n",
            "Got JSONDecodeError, skippingGot JSONDecodeError, skipping\n",
            "\n",
            "Error fetching the article: Bjuv\n",
            "Error fetching the article: As (belgisk kommune)\n",
            "Got JSONDecodeError, skippingGot JSONDecodeError, skipping\n",
            "Error fetching the article: Barne-TV (NRK)\n",
            "\n",
            "Error fetching the article: Retie\n"
          ]
        },
        {
          "metadata": {
            "tags": null
          },
          "name": "stderr",
          "output_type": "stream",
          "text": [
            "\r  2%|▏         | 400/20182 [03:05<2:23:14,  2.30it/s]"
          ]
        },
        {
          "metadata": {
            "tags": null
          },
          "name": "stdout",
          "output_type": "stream",
          "text": [
            "Got JSONDecodeError, skipping\n",
            "Error fetching the article: Ham (belgisk kommune)\n",
            "Got JSONDecodeError, skippingGot JSONDecodeError, skipping\n",
            "Error fetching the article: Halen\n",
            "\n",
            "Error fetching the article: Beringen\n",
            "Got JSONDecodeError, skipping\n",
            "Error fetching the article: Hasselt\n"
          ]
        },
        {
          "metadata": {
            "tags": null
          },
          "name": "stderr",
          "output_type": "stream",
          "text": [
            "\r  2%|▏         | 401/20182 [03:06<2:22:20,  2.32it/s]"
          ]
        },
        {
          "metadata": {
            "tags": null
          },
          "name": "stdout",
          "output_type": "stream",
          "text": [
            "Got JSONDecodeError, skipping\n",
            "Error fetching the article: Johan Vaaler\n",
            "Got JSONDecodeError, skipping\n",
            "Error fetching the article: Grid\n"
          ]
        },
        {
          "metadata": {
            "tags": null
          },
          "name": "stderr",
          "output_type": "stream",
          "text": [
            "  2%|▏         | 405/20182 [03:08<2:38:50,  2.08it/s]"
          ]
        },
        {
          "metadata": {
            "tags": null
          },
          "name": "stdout",
          "output_type": "stream",
          "text": [
            "Got JSONDecodeError, skipping\n",
            "Error fetching the article: Olympiske leker\n",
            "Got JSONDecodeError, skipping\n",
            "Error fetching the article: Thorbjørn Egner\n",
            "Got JSONDecodeError, skipping\n",
            "Error fetching the article: Københavns Universitet\n",
            "Got JSONDecodeError, skipping\n",
            "Error fetching the article: Allemannsretten\n"
          ]
        },
        {
          "metadata": {
            "tags": null
          },
          "name": "stderr",
          "output_type": "stream",
          "text": [
            "\r  2%|▏         | 406/20182 [03:08<2:37:12,  2.10it/s]"
          ]
        },
        {
          "metadata": {
            "tags": null
          },
          "name": "stdout",
          "output_type": "stream",
          "text": [
            "Got JSONDecodeError, skipping\n",
            "Error fetching the article: Aker\n",
            "Got JSONDecodeError, skipping\n",
            "Error fetching the article: Høyesterett\n"
          ]
        },
        {
          "metadata": {
            "tags": null
          },
          "name": "stderr",
          "output_type": "stream",
          "text": [
            "  2%|▏         | 408/20182 [03:09<2:31:13,  2.18it/s]"
          ]
        },
        {
          "metadata": {
            "tags": null
          },
          "name": "stdout",
          "output_type": "stream",
          "text": [
            "Got JSONDecodeError, skipping\n",
            "Error fetching the article: Lockout\n",
            "Got JSONDecodeError, skipping\n",
            "Error fetching the article: FreeBSD\n",
            "Got JSONDecodeError, skipping\n",
            "Error fetching the article: Lulesamer\n",
            "Got JSONDecodeError, skipping\n",
            "Error fetching the article: 987\n",
            "Got JSONDecodeError, skipping\n",
            "Error fetching the article: 984\n",
            "Got JSONDecodeError, skippingGot JSONDecodeError, skipping\n",
            "Error fetching the article: 986\n",
            "\n",
            "Error fetching the article: 983\n"
          ]
        },
        {
          "metadata": {
            "tags": null
          },
          "name": "stderr",
          "output_type": "stream",
          "text": [
            "\r  2%|▏         | 409/20182 [03:09<2:26:55,  2.24it/s]"
          ]
        },
        {
          "metadata": {
            "tags": null
          },
          "name": "stdout",
          "output_type": "stream",
          "text": [
            "Got JSONDecodeError, skipping\n",
            "Got JSONDecodeError, skipping\n",
            "Error fetching the article: 973\n",
            "Error fetching the article: 974\n"
          ]
        },
        {
          "metadata": {
            "tags": null
          },
          "name": "stderr",
          "output_type": "stream",
          "text": [
            "\r  2%|▏         | 410/20182 [03:10<2:24:32,  2.28it/s]"
          ]
        },
        {
          "metadata": {
            "tags": null
          },
          "name": "stdout",
          "output_type": "stream",
          "text": [
            "Got JSONDecodeError, skipping\n",
            "Error fetching the article: 963\n",
            "Got JSONDecodeError, skipping\n",
            "Error fetching the article: 964\n"
          ]
        },
        {
          "metadata": {
            "tags": null
          },
          "name": "stderr",
          "output_type": "stream",
          "text": [
            "  2%|▏         | 412/20182 [03:11<2:23:42,  2.29it/s]"
          ]
        },
        {
          "metadata": {
            "tags": null
          },
          "name": "stdout",
          "output_type": "stream",
          "text": [
            "Got JSONDecodeError, skippingGot JSONDecodeError, skipping\n",
            "\n",
            "Error fetching the article: 954Error fetching the article: 956\n",
            "\n",
            "Got JSONDecodeError, skipping\n",
            "Error fetching the article: 957\n",
            "Got JSONDecodeError, skipping\n",
            "Error fetching the article: 953\n",
            "Got JSONDecodeError, skipping\n",
            "Error fetching the article: 946\n",
            "Got JSONDecodeError, skipping\n",
            "Error fetching the article: 948\n"
          ]
        },
        {
          "metadata": {
            "tags": null
          },
          "name": "stderr",
          "output_type": "stream",
          "text": [
            "\r  2%|▏         | 413/20182 [03:11<2:24:42,  2.28it/s]"
          ]
        },
        {
          "metadata": {
            "tags": null
          },
          "name": "stdout",
          "output_type": "stream",
          "text": [
            "Got JSONDecodeError, skipping\n",
            "Error fetching the article: 933\n",
            "Got JSONDecodeError, skipping\n",
            "Error fetching the article: 935\n",
            "Got JSONDecodeError, skipping\n",
            "Error fetching the article: 940\n"
          ]
        },
        {
          "metadata": {
            "tags": null
          },
          "name": "stderr",
          "output_type": "stream",
          "text": [
            "\r  2%|▏         | 414/20182 [03:12<2:23:08,  2.30it/s]"
          ]
        },
        {
          "metadata": {
            "tags": null
          },
          "name": "stdout",
          "output_type": "stream",
          "text": [
            "Got JSONDecodeError, skipping\n",
            "Error fetching the article: 927Got JSONDecodeError, skipping\n",
            "Got JSONDecodeError, skipping\n",
            "Error fetching the article: 926\n",
            "\n",
            "Error fetching the article: 923\n"
          ]
        },
        {
          "metadata": {
            "tags": null
          },
          "name": "stderr",
          "output_type": "stream",
          "text": [
            "\r  2%|▏         | 415/20182 [03:12<2:20:53,  2.34it/s]"
          ]
        },
        {
          "metadata": {
            "tags": null
          },
          "name": "stdout",
          "output_type": "stream",
          "text": [
            "Got JSONDecodeError, skipping\n",
            "Error fetching the article: 915\n",
            "Got JSONDecodeError, skipping\n",
            "Error fetching the article: 914\n",
            "Got JSONDecodeError, skipping\n",
            "Error fetching the article: 913\n"
          ]
        },
        {
          "metadata": {
            "tags": null
          },
          "name": "stderr",
          "output_type": "stream",
          "text": [
            "  2%|▏         | 417/20182 [03:13<2:27:44,  2.23it/s]"
          ]
        },
        {
          "metadata": {
            "tags": null
          },
          "name": "stdout",
          "output_type": "stream",
          "text": [
            "Got JSONDecodeError, skipping\n",
            "Error fetching the article: 903\n"
          ]
        },
        {
          "metadata": {
            "tags": null
          },
          "name": "stderr",
          "output_type": "stream",
          "text": [
            "\r  2%|▏         | 418/20182 [03:13<2:34:47,  2.13it/s]"
          ]
        },
        {
          "metadata": {
            "tags": null
          },
          "name": "stdout",
          "output_type": "stream",
          "text": [
            "Got JSONDecodeError, skipping\n",
            "Error fetching the article: Sagstua\n",
            "Got JSONDecodeError, skipping\n",
            "Error fetching the article: Saturn\n",
            "Got JSONDecodeError, skipping\n",
            "Error fetching the article: Norsk Regnesentral\n"
          ]
        },
        {
          "metadata": {
            "tags": null
          },
          "name": "stderr",
          "output_type": "stream",
          "text": [
            "  2%|▏         | 421/20182 [03:15<2:40:15,  2.06it/s]"
          ]
        },
        {
          "metadata": {
            "tags": null
          },
          "name": "stdout",
          "output_type": "stream",
          "text": [
            "Got JSONDecodeError, skippingGot JSONDecodeError, skipping\n",
            "Error fetching the article: 882\n",
            "\n",
            "Error fetching the article: 884\n",
            "Got JSONDecodeError, skipping\n",
            "Error fetching the article: 883\n",
            "Got JSONDecodeError, skippingGot JSONDecodeError, skipping\n",
            "Error fetching the article: 873\n",
            "\n",
            "Error fetching the article: 876\n",
            "Got JSONDecodeError, skipping\n",
            "Error fetching the article: 872\n",
            "Got JSONDecodeError, skipping\n",
            "Error fetching the article: 870\n"
          ]
        },
        {
          "metadata": {
            "tags": null
          },
          "name": "stderr",
          "output_type": "stream",
          "text": [
            "\r  2%|▏         | 422/20182 [03:15<2:33:34,  2.14it/s]"
          ]
        },
        {
          "metadata": {
            "tags": null
          },
          "name": "stdout",
          "output_type": "stream",
          "text": [
            "Got JSONDecodeError, skippingGot JSONDecodeError, skipping\n",
            "\n",
            "Error fetching the article: 863\n",
            "Error fetching the article: 860\n",
            "Got JSONDecodeError, skipping\n",
            "Error fetching the article: 862\n",
            "Got JSONDecodeError, skipping\n",
            "Error fetching the article: 861\n"
          ]
        },
        {
          "metadata": {
            "tags": null
          },
          "name": "stderr",
          "output_type": "stream",
          "text": [
            "\r  2%|▏         | 423/20182 [03:16<2:28:52,  2.21it/s]"
          ]
        },
        {
          "metadata": {
            "tags": null
          },
          "name": "stdout",
          "output_type": "stream",
          "text": [
            "Got JSONDecodeError, skipping\n",
            "Error fetching the article: 852\n",
            "Got JSONDecodeError, skipping\n",
            "Error fetching the article: 851\n",
            "Got JSONDecodeError, skipping\n",
            "Error fetching the article: 850\n"
          ]
        },
        {
          "metadata": {
            "tags": null
          },
          "name": "stderr",
          "output_type": "stream",
          "text": [
            "\r  2%|▏         | 424/20182 [03:16<2:24:53,  2.27it/s]"
          ]
        },
        {
          "metadata": {
            "tags": null
          },
          "name": "stdout",
          "output_type": "stream",
          "text": [
            "Got JSONDecodeError, skipping\n",
            "Error fetching the article: 840\n",
            "Got JSONDecodeError, skipping\n",
            "Error fetching the article: 844\n",
            "Got JSONDecodeError, skipping\n",
            "Error fetching the article: 841\n",
            "Got JSONDecodeError, skipping\n",
            "Error fetching the article: 843\n"
          ]
        },
        {
          "metadata": {
            "tags": null
          },
          "name": "stderr",
          "output_type": "stream",
          "text": [
            "\r  2%|▏         | 425/20182 [03:17<2:22:04,  2.32it/s]"
          ]
        },
        {
          "metadata": {
            "tags": null
          },
          "name": "stdout",
          "output_type": "stream",
          "text": [
            "Got JSONDecodeError, skipping\n",
            "Error fetching the article: 832\n",
            "Got JSONDecodeError, skippingGot JSONDecodeError, skipping\n",
            "Error fetching the article: 831\n",
            "\n",
            "Error fetching the article: 830\n"
          ]
        },
        {
          "metadata": {
            "tags": null
          },
          "name": "stderr",
          "output_type": "stream",
          "text": [
            "\r  2%|▏         | 426/20182 [03:17<2:20:49,  2.34it/s]"
          ]
        },
        {
          "metadata": {
            "tags": null
          },
          "name": "stdout",
          "output_type": "stream",
          "text": [
            "Got JSONDecodeError, skipping\n",
            "Error fetching the article: 822\n",
            "Got JSONDecodeError, skipping\n",
            "Error fetching the article: 821\n"
          ]
        },
        {
          "metadata": {
            "tags": null
          },
          "name": "stderr",
          "output_type": "stream",
          "text": [
            "  2%|▏         | 428/20182 [03:18<2:24:47,  2.27it/s]"
          ]
        },
        {
          "metadata": {
            "tags": null
          },
          "name": "stdout",
          "output_type": "stream",
          "text": [
            "Got JSONDecodeError, skipping\n",
            "Error fetching the article: 814\n",
            "Got JSONDecodeError, skipping\n",
            "Error fetching the article: 811\n",
            "Got JSONDecodeError, skipping\n",
            "Error fetching the article: 810\n",
            "Got JSONDecodeError, skipping\n",
            "Error fetching the article: 802\n",
            "Got JSONDecodeError, skipping\n",
            "Error fetching the article: 800\n"
          ]
        },
        {
          "metadata": {
            "tags": null
          },
          "name": "stderr",
          "output_type": "stream",
          "text": [
            "\r  2%|▏         | 429/20182 [03:18<2:23:25,  2.30it/s]"
          ]
        },
        {
          "metadata": {
            "tags": null
          },
          "name": "stdout",
          "output_type": "stream",
          "text": [
            "Got JSONDecodeError, skipping\n",
            "Error fetching the article: 794\n",
            "Got JSONDecodeError, skipping\n",
            "Error fetching the article: 791\n",
            "Got JSONDecodeError, skipping\n",
            "Error fetching the article: 790\n"
          ]
        },
        {
          "metadata": {
            "tags": null
          },
          "name": "stderr",
          "output_type": "stream",
          "text": [
            "\r  2%|▏         | 430/20182 [03:19<2:21:37,  2.32it/s]"
          ]
        },
        {
          "metadata": {
            "tags": null
          },
          "name": "stdout",
          "output_type": "stream",
          "text": [
            "Got JSONDecodeError, skipping\n",
            "Error fetching the article: 780\n",
            "Got JSONDecodeError, skipping\n",
            "Error fetching the article: 782\n",
            "Got JSONDecodeError, skippingGot JSONDecodeError, skipping\n",
            "Error fetching the article: 781\n",
            "\n",
            "Error fetching the article: 784\n"
          ]
        },
        {
          "metadata": {
            "tags": null
          },
          "name": "stderr",
          "output_type": "stream",
          "text": [
            "\r  2%|▏         | 431/20182 [03:19<2:24:00,  2.29it/s]"
          ]
        },
        {
          "metadata": {
            "tags": null
          },
          "name": "stdout",
          "output_type": "stream",
          "text": [
            "Got JSONDecodeError, skipping\n",
            "Error fetching the article: 770\n",
            "Got JSONDecodeError, skipping\n",
            "Error fetching the article: 772\n",
            "Got JSONDecodeError, skipping\n",
            "Error fetching the article: 775\n"
          ]
        },
        {
          "metadata": {
            "tags": null
          },
          "name": "stderr",
          "output_type": "stream",
          "text": [
            "\r  2%|▏         | 432/20182 [03:20<2:21:33,  2.33it/s]"
          ]
        },
        {
          "metadata": {
            "tags": null
          },
          "name": "stdout",
          "output_type": "stream",
          "text": [
            "Got JSONDecodeError, skippingGot JSONDecodeError, skipping\n",
            "\n",
            "Error fetching the article: 760Error fetching the article: 763\n",
            "\n",
            "Got JSONDecodeError, skipping\n",
            "Error fetching the article: 766\n"
          ]
        },
        {
          "metadata": {
            "tags": null
          },
          "name": "stderr",
          "output_type": "stream",
          "text": [
            "\r  2%|▏         | 433/20182 [03:20<2:19:51,  2.35it/s]"
          ]
        },
        {
          "metadata": {
            "tags": null
          },
          "name": "stdout",
          "output_type": "stream",
          "text": [
            "Got JSONDecodeError, skipping\n",
            "Error fetching the article: 753\n",
            "Got JSONDecodeError, skipping\n",
            "Error fetching the article: 752\n",
            "Got JSONDecodeError, skipping\n",
            "Error fetching the article: 751\n"
          ]
        },
        {
          "metadata": {
            "tags": null
          },
          "name": "stderr",
          "output_type": "stream",
          "text": [
            "\r  2%|▏         | 434/20182 [03:21<2:18:53,  2.37it/s]"
          ]
        },
        {
          "metadata": {
            "tags": null
          },
          "name": "stdout",
          "output_type": "stream",
          "text": [
            "Got JSONDecodeError, skipping\n",
            "Error fetching the article: 740\n",
            "Got JSONDecodeError, skipping\n",
            "Error fetching the article: 741\n"
          ]
        },
        {
          "metadata": {
            "tags": null
          },
          "name": "stderr",
          "output_type": "stream",
          "text": [
            "  2%|▏         | 436/20182 [03:21<2:19:40,  2.36it/s]"
          ]
        },
        {
          "metadata": {
            "tags": null
          },
          "name": "stdout",
          "output_type": "stream",
          "text": [
            "Got JSONDecodeError, skipping\n",
            "Error fetching the article: 732\n",
            "Got JSONDecodeError, skipping\n",
            "Error fetching the article: 733\n",
            "Got JSONDecodeError, skipping\n",
            "Error fetching the article: 730\n",
            "Got JSONDecodeError, skippingGot JSONDecodeError, skipping\n",
            "\n",
            "Error fetching the article: 735Error fetching the article: 734\n",
            "\n",
            "Got JSONDecodeError, skipping\n",
            "Error fetching the article: 722\n",
            "Got JSONDecodeError, skipping\n",
            "Error fetching the article: 721\n",
            "Got JSONDecodeError, skipping\n",
            "Error fetching the article: 720\n"
          ]
        },
        {
          "metadata": {
            "tags": null
          },
          "name": "stderr",
          "output_type": "stream",
          "text": [
            "\r  2%|▏         | 437/20182 [03:22<2:19:12,  2.36it/s]"
          ]
        },
        {
          "metadata": {
            "tags": null
          },
          "name": "stdout",
          "output_type": "stream",
          "text": [
            "Got JSONDecodeError, skipping\n",
            "Error fetching the article: 712Got JSONDecodeError, skipping\n",
            "Error fetching the article: 711\n",
            "\n",
            "Got JSONDecodeError, skipping\n",
            "Got JSONDecodeError, skipping\n",
            "Error fetching the article: 713\n",
            "Error fetching the article: 710\n"
          ]
        },
        {
          "metadata": {
            "tags": null
          },
          "name": "stderr",
          "output_type": "stream",
          "text": [
            "\r  2%|▏         | 438/20182 [03:22<2:19:06,  2.37it/s]"
          ]
        },
        {
          "metadata": {
            "tags": null
          },
          "name": "stdout",
          "output_type": "stream",
          "text": [
            "Got JSONDecodeError, skipping\n",
            "Error fetching the article: 700\n",
            "Got JSONDecodeError, skippingGot JSONDecodeError, skipping\n",
            "Error fetching the article: 702\n",
            "\n",
            "Got JSONDecodeError, skipping\n",
            "Error fetching the article: 701\n",
            "Error fetching the article: 704\n"
          ]
        },
        {
          "metadata": {
            "tags": null
          },
          "name": "stderr",
          "output_type": "stream",
          "text": [
            "  2%|▏         | 440/20182 [03:23<2:19:10,  2.36it/s]"
          ]
        },
        {
          "metadata": {
            "tags": null
          },
          "name": "stdout",
          "output_type": "stream",
          "text": [
            "Got JSONDecodeError, skipping\n",
            "Error fetching the article: 695\n",
            "Got JSONDecodeError, skipping\n",
            "Error fetching the article: 692\n",
            "Got JSONDecodeError, skipping\n",
            "Error fetching the article: 690\n",
            "Got JSONDecodeError, skipping\n",
            "Error fetching the article: 684\n",
            "Got JSONDecodeError, skippingGot JSONDecodeError, skipping\n",
            "Error fetching the article: 683\n",
            "\n",
            "Error fetching the article: 686\n",
            "Got JSONDecodeError, skipping\n",
            "Error fetching the article: 687\n"
          ]
        },
        {
          "metadata": {
            "tags": null
          },
          "name": "stderr",
          "output_type": "stream",
          "text": [
            "\r  2%|▏         | 441/20182 [03:24<2:18:26,  2.38it/s]"
          ]
        },
        {
          "metadata": {
            "tags": null
          },
          "name": "stdout",
          "output_type": "stream",
          "text": [
            "Got JSONDecodeError, skippingGot JSONDecodeError, skipping\n",
            "Error fetching the article: 672\n",
            "Got JSONDecodeError, skipping\n",
            "Error fetching the article: 677\n",
            "\n",
            "Error fetching the article: 670\n"
          ]
        },
        {
          "metadata": {
            "tags": null
          },
          "name": "stderr",
          "output_type": "stream",
          "text": [
            "\r  2%|▏         | 442/20182 [03:24<2:17:22,  2.39it/s]"
          ]
        },
        {
          "metadata": {
            "tags": null
          },
          "name": "stdout",
          "output_type": "stream",
          "text": [
            "Got JSONDecodeError, skipping\n",
            "Error fetching the article: 660\n",
            "Got JSONDecodeError, skippingGot JSONDecodeError, skipping\n",
            "Error fetching the article: 662\n",
            "\n",
            "Error fetching the article: 661\n"
          ]
        },
        {
          "metadata": {
            "tags": null
          },
          "name": "stderr",
          "output_type": "stream",
          "text": [
            "  2%|▏         | 444/20182 [03:25<2:23:40,  2.29it/s]"
          ]
        },
        {
          "metadata": {
            "tags": null
          },
          "name": "stdout",
          "output_type": "stream",
          "text": [
            "Got JSONDecodeError, skippingGot JSONDecodeError, skipping\n",
            "Error fetching the article: Yangon\n",
            "\n",
            "Error fetching the article: Trommestikkfingre\n"
          ]
        },
        {
          "metadata": {
            "tags": null
          },
          "name": "stderr",
          "output_type": "stream",
          "text": [
            "\r  2%|▏         | 445/20182 [03:25<2:30:24,  2.19it/s]"
          ]
        },
        {
          "metadata": {
            "tags": null
          },
          "name": "stdout",
          "output_type": "stream",
          "text": [
            "Got JSONDecodeError, skipping\n",
            "Error fetching the article: Plantarrefleks\n",
            "Got JSONDecodeError, skipping\n",
            "Error fetching the article: Det internasjonale pengefondet\n",
            "Got JSONDecodeError, skipping\n",
            "Error fetching the article: K\n",
            "Got KeyError, skipping\n",
            "Error fetching the article: M (andre betydninger)\n"
          ]
        },
        {
          "metadata": {
            "tags": null
          },
          "name": "stderr",
          "output_type": "stream",
          "text": [
            "  2%|▏         | 447/20182 [03:26<2:36:34,  2.10it/s]"
          ]
        },
        {
          "metadata": {
            "tags": null
          },
          "name": "stdout",
          "output_type": "stream",
          "text": [
            "Got JSONDecodeError, skipping\n",
            "Error fetching the article: Museum\n",
            "Got JSONDecodeError, skipping\n",
            "Error fetching the article: Nieuwerkerken\n"
          ]
        },
        {
          "metadata": {
            "tags": null
          },
          "name": "stderr",
          "output_type": "stream",
          "text": [
            "\r  2%|▏         | 448/20182 [03:27<2:35:51,  2.11it/s]"
          ]
        },
        {
          "metadata": {
            "tags": null
          },
          "name": "stdout",
          "output_type": "stream",
          "text": [
            "Got JSONDecodeError, skippingGot JSONDecodeError, skipping\n",
            "Error fetching the article: Opglabbeek\n",
            "Got JSONDecodeError, skipping\n",
            "Error fetching the article: Zonhoven\n",
            "\n",
            "Error fetching the article: Informasjonskløft\n",
            "Got JSONDecodeError, skippingGot JSONDecodeError, skipping\n",
            "Error fetching the article: Bocholt (Belgia)\n",
            "\n",
            "Error fetching the article: Houthalen-Helchteren\n",
            "Got JSONDecodeError, skipping\n",
            "Error fetching the article: Hechtel-Eksel\n"
          ]
        },
        {
          "metadata": {
            "tags": null
          },
          "name": "stderr",
          "output_type": "stream",
          "text": [
            "  2%|▏         | 450/20182 [03:28<2:33:55,  2.14it/s]"
          ]
        },
        {
          "metadata": {
            "tags": null
          },
          "name": "stdout",
          "output_type": "stream",
          "text": [
            "Got JSONDecodeError, skipping\n",
            "Error fetching the article: Meeuwen-Gruitrode\n",
            "Got JSONDecodeError, skippingGot JSONDecodeError, skipping\n",
            "Error fetching the article: Overpelt\n",
            "\n",
            "Error fetching the article: Peer\n",
            "Got JSONDecodeError, skipping\n",
            "Error fetching the article: Alken\n"
          ]
        },
        {
          "metadata": {
            "tags": null
          },
          "name": "stderr",
          "output_type": "stream",
          "text": [
            "\r  2%|▏         | 451/20182 [03:28<2:28:19,  2.22it/s]"
          ]
        },
        {
          "metadata": {
            "tags": null
          },
          "name": "stdout",
          "output_type": "stream",
          "text": [
            "Got JSONDecodeError, skippingGot JSONDecodeError, skipping\n",
            "Error fetching the article: Riemst\n",
            "\n",
            "Got JSONDecodeError, skipping\n",
            "Error fetching the article: TongerenError fetching the article: Maasmechelen\n",
            "\n",
            "Got JSONDecodeError, skippingGot JSONDecodeError, skipping\n",
            "Error fetching the article: Haaltert\n",
            "Error fetching the article: Lede\n",
            "\n",
            "Got JSONDecodeError, skipping\n",
            "Error fetching the article: Herzele\n"
          ]
        },
        {
          "metadata": {
            "tags": null
          },
          "name": "stderr",
          "output_type": "stream",
          "text": [
            "\r  2%|▏         | 452/20182 [03:29<2:25:40,  2.26it/s]"
          ]
        },
        {
          "metadata": {
            "tags": null
          },
          "name": "stdout",
          "output_type": "stream",
          "text": [
            "Got JSONDecodeError, skipping\n",
            "Error fetching the article: Buggenhout\n",
            "Got JSONDecodeError, skipping\n",
            "Error fetching the article: Lebbeke\n",
            "Got JSONDecodeError, skipping\n",
            "Error fetching the article: Waasmunster\n"
          ]
        },
        {
          "metadata": {
            "tags": null
          },
          "name": "stderr",
          "output_type": "stream",
          "text": [
            "\r  2%|▏         | 453/20182 [03:29<2:24:25,  2.28it/s]"
          ]
        },
        {
          "metadata": {
            "tags": null
          },
          "name": "stdout",
          "output_type": "stream",
          "text": [
            "Got JSONDecodeError, skipping\n",
            "Error fetching the article: 658\n",
            "Got JSONDecodeError, skipping\n",
            "Error fetching the article: Eeklo\n",
            "Got JSONDecodeError, skipping\n",
            "Error fetching the article: 659\n"
          ]
        },
        {
          "metadata": {
            "tags": null
          },
          "name": "stderr",
          "output_type": "stream",
          "text": [
            "\r  2%|▏         | 454/20182 [03:29<2:25:25,  2.26it/s]"
          ]
        },
        {
          "metadata": {
            "tags": null
          },
          "name": "stdout",
          "output_type": "stream",
          "text": [
            "Got JSONDecodeError, skipping\n",
            "Error fetching the article: 648\n",
            "Got JSONDecodeError, skipping\n",
            "Error fetching the article: 652\n",
            "Got JSONDecodeError, skipping\n",
            "Error fetching the article: 650\n",
            "Got JSONDecodeError, skipping\n",
            "Error fetching the article: 649\n"
          ]
        },
        {
          "metadata": {
            "tags": null
          },
          "name": "stderr",
          "output_type": "stream",
          "text": [
            "\r  2%|▏         | 455/20182 [03:30<2:21:52,  2.32it/s]"
          ]
        },
        {
          "metadata": {
            "tags": null
          },
          "name": "stdout",
          "output_type": "stream",
          "text": [
            "Got JSONDecodeError, skipping\n",
            "Error fetching the article: Maldegem\n",
            "Got JSONDecodeError, skipping\n",
            "Error fetching the article: Gavere\n",
            "Got JSONDecodeError, skipping\n",
            "Error fetching the article: Sint-Laureins\n"
          ]
        },
        {
          "metadata": {
            "tags": null
          },
          "name": "stderr",
          "output_type": "stream",
          "text": [
            "\r  2%|▏         | 456/20182 [03:30<2:22:33,  2.31it/s]"
          ]
        },
        {
          "metadata": {
            "tags": null
          },
          "name": "stdout",
          "output_type": "stream",
          "text": [
            "Got JSONDecodeError, skipping\n",
            "Error fetching the article: Nevele\n",
            "Got JSONDecodeError, skipping\n",
            "Error fetching the article: Merelbeke\n",
            "Got JSONDecodeError, skipping\n",
            "Error fetching the article: Oosterzele\n"
          ]
        },
        {
          "metadata": {
            "tags": null
          },
          "name": "stderr",
          "output_type": "stream",
          "text": [
            "  2%|▏         | 458/20182 [03:31<2:25:16,  2.26it/s]"
          ]
        },
        {
          "metadata": {
            "tags": null
          },
          "name": "stdout",
          "output_type": "stream",
          "text": [
            "Got JSONDecodeError, skippingGot JSONDecodeError, skipping\n",
            "Error fetching the article: Oudenaarde\n",
            "\n",
            "Error fetching the article: Kluisbergen\n",
            "Got JSONDecodeError, skipping\n",
            "Error fetching the article: Temse\n",
            "Got JSONDecodeError, skipping\n",
            "Error fetching the article: Zingem\n",
            "Got JSONDecodeError, skipping\n",
            "Error fetching the article: Sint-Gillis-Waas\n",
            "Got JSONDecodeError, skipping\n",
            "Error fetching the article: Kruibeke\n"
          ]
        },
        {
          "metadata": {
            "tags": null
          },
          "name": "stderr",
          "output_type": "stream",
          "text": [
            "\r  2%|▏         | 459/20182 [03:32<2:24:39,  2.27it/s]"
          ]
        },
        {
          "metadata": {
            "tags": null
          },
          "name": "stdout",
          "output_type": "stream",
          "text": [
            "Got JSONDecodeError, skipping\n",
            "Error fetching the article: Oberösterreich\n",
            "Got JSONDecodeError, skipping\n",
            "Error fetching the article: 643\n",
            "Got JSONDecodeError, skipping\n",
            "Error fetching the article: 642\n"
          ]
        },
        {
          "metadata": {
            "tags": null
          },
          "name": "stderr",
          "output_type": "stream",
          "text": [
            "\r  2%|▏         | 460/20182 [03:32<2:22:25,  2.31it/s]"
          ]
        },
        {
          "metadata": {
            "tags": null
          },
          "name": "stdout",
          "output_type": "stream",
          "text": [
            "Got JSONDecodeError, skipping\n",
            "Error fetching the article: Edward Jenner\n",
            "Got JSONDecodeError, skipping\n",
            "Error fetching the article: 637\n",
            "Got JSONDecodeError, skipping\n",
            "Error fetching the article: Tirol (Østerrike)\n"
          ]
        },
        {
          "metadata": {
            "tags": null
          },
          "name": "stderr",
          "output_type": "stream",
          "text": [
            "\r  2%|▏         | 461/20182 [03:32<2:21:31,  2.32it/s]"
          ]
        },
        {
          "metadata": {
            "tags": null
          },
          "name": "stdout",
          "output_type": "stream",
          "text": [
            "Got JSONDecodeError, skipping\n",
            "Error fetching the article: 627\n",
            "Got JSONDecodeError, skipping\n",
            "Error fetching the article: 629\n",
            "Got JSONDecodeError, skipping\n",
            "Error fetching the article: 628\n"
          ]
        },
        {
          "metadata": {
            "tags": null
          },
          "name": "stderr",
          "output_type": "stream",
          "text": [
            "\r  2%|▏         | 462/20182 [03:33<2:19:56,  2.35it/s]"
          ]
        },
        {
          "metadata": {
            "tags": null
          },
          "name": "stdout",
          "output_type": "stream",
          "text": [
            "Got JSONDecodeError, skippingGot JSONDecodeError, skipping\n",
            "Error fetching the article: 618\n",
            "\n",
            "Error fetching the article: 617\n",
            "Got JSONDecodeError, skipping\n",
            "Error fetching the article: 624\n"
          ]
        },
        {
          "metadata": {
            "tags": null
          },
          "name": "stderr",
          "output_type": "stream",
          "text": [
            "\r  2%|▏         | 463/20182 [03:33<2:18:15,  2.38it/s]"
          ]
        },
        {
          "metadata": {
            "tags": null
          },
          "name": "stdout",
          "output_type": "stream",
          "text": [
            "Got JSONDecodeError, skipping\n",
            "Error fetching the article: 608\n",
            "Got JSONDecodeError, skipping\n",
            "Error fetching the article: 607\n",
            "Got JSONDecodeError, skipping\n",
            "Error fetching the article: 609\n"
          ]
        },
        {
          "metadata": {
            "tags": null
          },
          "name": "stderr",
          "output_type": "stream",
          "text": [
            "  2%|▏         | 465/20182 [03:34<2:19:21,  2.36it/s]"
          ]
        },
        {
          "metadata": {
            "tags": null
          },
          "name": "stdout",
          "output_type": "stream",
          "text": [
            "Got JSONDecodeError, skippingGot JSONDecodeError, skippingGot JSONDecodeError, skipping\n",
            "\n",
            "Error fetching the article: 603\n",
            "Error fetching the article: Salzburg\n",
            "\n",
            "Error fetching the article: Klippan\n",
            "Got JSONDecodeError, skipping\n",
            "Error fetching the article: Henry Ford\n",
            "Got JSONDecodeError, skipping\n",
            "Error fetching the article: Italiensk\n",
            "Got JSONDecodeError, skipping\n",
            "Error fetching the article: Oben am jungen Rhein\n",
            "Got JSONDecodeError, skipping\n",
            "Error fetching the article: Vorarlberg\n"
          ]
        },
        {
          "metadata": {
            "tags": null
          },
          "name": "stderr",
          "output_type": "stream",
          "text": [
            "\r  2%|▏         | 466/20182 [03:35<2:19:19,  2.36it/s]"
          ]
        },
        {
          "metadata": {
            "tags": null
          },
          "name": "stdout",
          "output_type": "stream",
          "text": [
            "Got JSONDecodeError, skipping\n",
            "Error fetching the article: Puglia\n",
            "Got JSONDecodeError, skipping\n",
            "Error fetching the article: Friuli-Venezia Giulia\n",
            "Got JSONDecodeError, skipping\n",
            "Error fetching the article: Italias regioner\n"
          ]
        },
        {
          "metadata": {
            "tags": null
          },
          "name": "stderr",
          "output_type": "stream",
          "text": [
            "\r  2%|▏         | 467/20182 [03:35<2:19:43,  2.35it/s]"
          ]
        },
        {
          "metadata": {
            "tags": null
          },
          "name": "stdout",
          "output_type": "stream",
          "text": [
            "Got JSONDecodeError, skippingGot JSONDecodeError, skipping\n",
            "Error fetching the article: Måned\n",
            "Error fetching the article: Microsoft Windows\n",
            "Got JSONDecodeError, skipping\n",
            "\n",
            "Error fetching the article: Dag\n"
          ]
        },
        {
          "metadata": {
            "tags": null
          },
          "name": "stderr",
          "output_type": "stream",
          "text": [
            "\r  2%|▏         | 468/20182 [03:35<2:21:30,  2.32it/s]"
          ]
        },
        {
          "metadata": {
            "tags": null
          },
          "name": "stdout",
          "output_type": "stream",
          "text": [
            "Got JSONDecodeError, skippingGot JSONDecodeError, skipping\n",
            "Error fetching the article: Ottawa\n",
            "\n",
            "Error fetching the article: Malmö\n"
          ]
        },
        {
          "metadata": {
            "tags": null
          },
          "name": "stderr",
          "output_type": "stream",
          "text": [
            "\r  2%|▏         | 469/20182 [03:36<2:29:33,  2.20it/s]"
          ]
        },
        {
          "metadata": {
            "tags": null
          },
          "name": "stdout",
          "output_type": "stream",
          "text": [
            "Got JSONDecodeError, skipping\n",
            "Error fetching the article: Gavrilo Princip\n",
            "Got JSONDecodeError, skipping\n",
            "Error fetching the article: Sjöbo\n",
            "Got JSONDecodeError, skipping\n",
            "Got JSONDecodeError, skipping\n",
            "Error fetching the article: Silvio Berlusconi\n",
            "Error fetching the article: Osby\n"
          ]
        },
        {
          "metadata": {
            "tags": null
          },
          "name": "stderr",
          "output_type": "stream",
          "text": [
            "  2%|▏         | 471/20182 [03:37<2:35:18,  2.12it/s]"
          ]
        },
        {
          "metadata": {
            "tags": null
          },
          "name": "stdout",
          "output_type": "stream",
          "text": [
            "Got JSONDecodeError, skipping\n",
            "Got JSONDecodeError, skipping\n",
            "Error fetching the article: LuccaError fetching the article: Verdens syv underverker\n",
            "\n"
          ]
        },
        {
          "metadata": {
            "tags": null
          },
          "name": "stderr",
          "output_type": "stream",
          "text": [
            "\r  2%|▏         | 472/20182 [03:37<2:41:21,  2.04it/s]"
          ]
        },
        {
          "metadata": {
            "tags": null
          },
          "name": "stdout",
          "output_type": "stream",
          "text": [
            "Got JSONDecodeError, skipping\n",
            "Error fetching the article: Franz Liszt\n",
            "Got JSONDecodeError, skipping\n",
            "Error fetching the article: Alkan\n",
            "Got JSONDecodeError, skipping\n",
            "Error fetching the article: Spansk\n"
          ]
        },
        {
          "metadata": {
            "tags": null
          },
          "name": "stderr",
          "output_type": "stream",
          "text": [
            "  2%|▏         | 474/20182 [03:39<2:46:47,  1.97it/s]"
          ]
        },
        {
          "metadata": {
            "tags": null
          },
          "name": "stdout",
          "output_type": "stream",
          "text": [
            "Got JSONDecodeError, skipping\n",
            "Error fetching the article: Afrikas klima\n",
            "Got JSONDecodeError, skipping\n",
            "Error fetching the article: Årsaker til migrasjon\n",
            "Got JSONDecodeError, skipping\n",
            "Error fetching the article: Tvungen migrasjon\n"
          ]
        },
        {
          "metadata": {
            "tags": null
          },
          "name": "stderr",
          "output_type": "stream",
          "text": [
            "  2%|▏         | 476/20182 [03:40<2:42:39,  2.02it/s]"
          ]
        },
        {
          "metadata": {
            "tags": null
          },
          "name": "stdout",
          "output_type": "stream",
          "text": [
            "Got JSONDecodeError, skippingGot JSONDecodeError, skipping\n",
            "Error fetching the article: Staffanstorp\n",
            "\n",
            "Got JSONDecodeError, skipping\n",
            "Error fetching the article: Svalöv\n",
            "Error fetching the article: Svedala\n",
            "Got JSONDecodeError, skippingGot JSONDecodeError, skipping\n",
            "Error fetching the article: Ängelholm\n",
            "\n",
            "Error fetching the article: K2\n",
            "Got JSONDecodeError, skipping\n",
            "Error fetching the article: European Telecommunications Standards Institute\n"
          ]
        },
        {
          "metadata": {
            "tags": null
          },
          "name": "stderr",
          "output_type": "stream",
          "text": [
            "\r  2%|▏         | 477/20182 [03:40<2:35:56,  2.11it/s]"
          ]
        },
        {
          "metadata": {
            "tags": null
          },
          "name": "stdout",
          "output_type": "stream",
          "text": [
            "Got JSONDecodeError, skippingGot JSONDecodeError, skipping\n",
            "Error fetching the article: Anime\n",
            "\n",
            "Error fetching the article: KS «Norge»\n",
            "Got JSONDecodeError, skipping\n",
            "Error fetching the article: Botkyrka kommune\n"
          ]
        },
        {
          "metadata": {
            "tags": null
          },
          "name": "stderr",
          "output_type": "stream",
          "text": [
            "\r  2%|▏         | 478/20182 [03:40<2:31:47,  2.16it/s]"
          ]
        },
        {
          "metadata": {
            "tags": null
          },
          "name": "stdout",
          "output_type": "stream",
          "text": [
            "Got JSONDecodeError, skipping\n",
            "Error fetching the article: Liste over tysk-romerske monarkerGot JSONDecodeError, skipping\n",
            "Error fetching the article: Åpenbaring\n",
            "\n",
            "Got JSONDecodeError, skipping\n",
            "Error fetching the article: Tilbedelsens hus\n",
            "Got JSONDecodeError, skipping\n",
            "Error fetching the article: General Dynamics F-16 Fighting Falcon\n"
          ]
        },
        {
          "metadata": {
            "tags": null
          },
          "name": "stderr",
          "output_type": "stream",
          "text": [
            "  2%|▏         | 480/20182 [03:41<2:34:01,  2.13it/s]"
          ]
        },
        {
          "metadata": {
            "tags": null
          },
          "name": "stdout",
          "output_type": "stream",
          "text": [
            "Got JSONDecodeError, skippingGot JSONDecodeError, skipping\n",
            "Error fetching the article: Benita Ferrero-Waldner\n",
            "\n",
            "Error fetching the article: Fatwa\n",
            "Got JSONDecodeError, skipping\n",
            "Error fetching the article: USB\n",
            "Got JSONDecodeError, skippingGot JSONDecodeError, skipping\n",
            "Error fetching the article: Lineær algebra\n",
            "\n",
            "Error fetching the article: Manfred Rommel\n"
          ]
        },
        {
          "metadata": {
            "tags": null
          },
          "name": "stderr",
          "output_type": "stream",
          "text": [
            "\r  2%|▏         | 481/20182 [03:42<2:33:11,  2.14it/s]"
          ]
        },
        {
          "metadata": {
            "tags": null
          },
          "name": "stdout",
          "output_type": "stream",
          "text": [
            "Got JSONDecodeError, skipping\n",
            "Error fetching the article: Linearitet\n",
            "Got JSONDecodeError, skipping\n",
            "Error fetching the article: Robert F. Kennedy\n"
          ]
        },
        {
          "metadata": {
            "tags": null
          },
          "name": "stderr",
          "output_type": "stream",
          "text": [
            "  2%|▏         | 483/20182 [03:43<2:35:32,  2.11it/s]"
          ]
        },
        {
          "metadata": {
            "tags": null
          },
          "name": "stdout",
          "output_type": "stream",
          "text": [
            "Got JSONDecodeError, skipping\n",
            "Error fetching the article: Den svensk-norske union\n",
            "Got JSONDecodeError, skipping\n",
            "Error fetching the article: Benito Juárez\n",
            "Got JSONDecodeError, skipping\n",
            "Error fetching the article: Medici\n",
            "Got JSONDecodeError, skipping\n",
            "Error fetching the article: Cosimo I de’ Medici\n",
            "Got JSONDecodeError, skipping\n",
            "Error fetching the article: Lübeck\n"
          ]
        },
        {
          "metadata": {
            "tags": null
          },
          "name": "stderr",
          "output_type": "stream",
          "text": [
            "\r  2%|▏         | 484/20182 [03:43<2:30:34,  2.18it/s]"
          ]
        },
        {
          "metadata": {
            "tags": null
          },
          "name": "stdout",
          "output_type": "stream",
          "text": [
            "Got JSONDecodeError, skipping\n",
            "Error fetching the article: Andrew S. Tanenbaum\n",
            "Got JSONDecodeError, skipping\n",
            "Error fetching the article: Janus (mytologi)\n"
          ]
        },
        {
          "metadata": {
            "tags": null
          },
          "name": "stderr",
          "output_type": "stream",
          "text": [
            "\r  2%|▏         | 485/20182 [03:44<2:34:21,  2.13it/s]"
          ]
        },
        {
          "metadata": {
            "tags": null
          },
          "name": "stdout",
          "output_type": "stream",
          "text": [
            "Got PageErrors, skipping\n",
            "Error fetching the article: Kepler (andre betydninger)\n"
          ]
        },
        {
          "metadata": {
            "tags": null
          },
          "name": "stderr",
          "output_type": "stream",
          "text": [
            "\r  2%|▏         | 486/20182 [03:44<2:33:03,  2.14it/s]"
          ]
        },
        {
          "metadata": {
            "tags": null
          },
          "name": "stdout",
          "output_type": "stream",
          "text": [
            "Got JSONDecodeError, skipping\n",
            "Error fetching the article: Dronning Maud Land\n",
            "Got JSONDecodeError, skipping\n",
            "Error fetching the article: Berkeley Software DistributionGot JSONDecodeError, skipping\n",
            "\n",
            "Got JSONDecodeError, skipping\n",
            "Error fetching the article: G8Error fetching the article: My Lai-massakren\n",
            "\n"
          ]
        },
        {
          "metadata": {
            "tags": null
          },
          "name": "stderr",
          "output_type": "stream",
          "text": [
            "  2%|▏         | 490/20182 [03:46<2:42:52,  2.02it/s]"
          ]
        },
        {
          "metadata": {
            "tags": null
          },
          "name": "stdout",
          "output_type": "stream",
          "text": [
            "Got JSONDecodeError, skippingGot JSONDecodeError, skipping\n",
            "Error fetching the article: Christian III av Danmark og Norge\n",
            "Got JSONDecodeError, skipping\n",
            "Error fetching the article: Frederik II av Danmark og Norge\n",
            "Got JSONDecodeError, skippingGot JSONDecodeError, skipping\n",
            "Error fetching the article: Christian II av Danmark, Norge og Sverige\n",
            "\n",
            "\n",
            "Error fetching the article: Frederik I av Danmark og Norge\n",
            "Error fetching the article: Hans av Danmark, Norge og Sverige\n"
          ]
        },
        {
          "metadata": {
            "tags": null
          },
          "name": "stderr",
          "output_type": "stream",
          "text": [
            "\r  2%|▏         | 491/20182 [03:47<2:37:48,  2.08it/s]"
          ]
        },
        {
          "metadata": {
            "tags": null
          },
          "name": "stdout",
          "output_type": "stream",
          "text": [
            "Got JSONDecodeError, skipping\n",
            "Error fetching the article: Huddinge kommuneGot JSONDecodeError, skipping\n",
            "Error fetching the article: Ekerö kommune\n",
            "Got JSONDecodeError, skipping\n",
            "Error fetching the article: Haninge kommune\n",
            "\n",
            "Got JSONDecodeError, skipping\n",
            "Error fetching the article: Sigtuna\n",
            "Got JSONDecodeError, skipping\n",
            "Error fetching the article: Salem kommune\n",
            "Got JSONDecodeError, skipping\n",
            "Error fetching the article: Sollentuna centrum\n",
            "Got JSONDecodeError, skipping\n",
            "Error fetching the article: Nacka\n"
          ]
        },
        {
          "metadata": {
            "tags": null
          },
          "name": "stderr",
          "output_type": "stream",
          "text": [
            "\r  2%|▏         | 492/20182 [03:47<2:32:19,  2.15it/s]"
          ]
        },
        {
          "metadata": {
            "tags": null
          },
          "name": "stdout",
          "output_type": "stream",
          "text": [
            "Got JSONDecodeError, skipping\n",
            "Error fetching the article: Hanns-Martin Schleyer\n",
            "Got JSONDecodeError, skipping\n",
            "Error fetching the article: Peter I Øy\n",
            "Got JSONDecodeError, skipping\n",
            "Error fetching the article: Dronning Mauds Land\n"
          ]
        },
        {
          "metadata": {
            "tags": null
          },
          "name": "stderr",
          "output_type": "stream",
          "text": [
            "  2%|▏         | 494/20182 [03:48<2:31:04,  2.17it/s]"
          ]
        },
        {
          "metadata": {
            "tags": null
          },
          "name": "stdout",
          "output_type": "stream",
          "text": [
            "Got JSONDecodeError, skippingGot JSONDecodeError, skipping\n",
            "Error fetching the article: Erich Honecker\n",
            "\n",
            "Error fetching the article: Sametinget\n",
            "Got JSONDecodeError, skipping\n",
            "Error fetching the article: Hjuksevelta\n",
            "Got JSONDecodeError, skipping\n",
            "Error fetching the article: Oberstløytnant\n",
            "Got JSONDecodeError, skipping\n",
            "Error fetching the article: Lou Reed\n",
            "Got JSONDecodeError, skipping\n",
            "Error fetching the article: Canadian Bacon\n"
          ]
        },
        {
          "metadata": {
            "tags": null
          },
          "name": "stderr",
          "output_type": "stream",
          "text": [
            "\r  2%|▏         | 495/20182 [03:48<2:29:43,  2.19it/s]"
          ]
        },
        {
          "metadata": {
            "tags": null
          },
          "name": "stdout",
          "output_type": "stream",
          "text": [
            "Got JSONDecodeError, skipping\n",
            "Error fetching the article: Upplands Väsby\n",
            "Got JSONDecodeError, skipping\n",
            "Error fetching the article: Upplands-Bro kommune\n",
            "Got JSONDecodeError, skipping\n",
            "Error fetching the article: Vallentuna\n"
          ]
        },
        {
          "metadata": {
            "tags": null
          },
          "name": "stderr",
          "output_type": "stream",
          "text": [
            "\r  2%|▏         | 496/20182 [03:49<2:25:57,  2.25it/s]"
          ]
        },
        {
          "metadata": {
            "tags": null
          },
          "name": "stdout",
          "output_type": "stream",
          "text": [
            "Got JSONDecodeError, skipping\n",
            "Error fetching the article: Nyköping\n",
            "Got JSONDecodeError, skipping\n",
            "Error fetching the article: Strängnäs\n",
            "Got JSONDecodeError, skipping\n",
            "Error fetching the article: Eskilstuna\n",
            "Got JSONDecodeError, skipping\n",
            "Error fetching the article: Oxelösund\n"
          ]
        },
        {
          "metadata": {
            "tags": null
          },
          "name": "stderr",
          "output_type": "stream",
          "text": [
            "  2%|▏         | 498/20182 [03:50<2:25:22,  2.26it/s]"
          ]
        },
        {
          "metadata": {
            "tags": null
          },
          "name": "stdout",
          "output_type": "stream",
          "text": [
            "Got JSONDecodeError, skipping\n",
            "Error fetching the article: Enköping\n",
            "Got JSONDecodeError, skipping\n",
            "Error fetching the article: Arvika\n",
            "Got JSONDecodeError, skipping\n",
            "Error fetching the article: Karlstad\n",
            "Got JSONDecodeError, skipping\n",
            "Error fetching the article: Kil (Värmland)\n",
            "Got JSONDecodeError, skipping\n",
            "Error fetching the article: Munkfors\n"
          ]
        },
        {
          "metadata": {
            "tags": null
          },
          "name": "stderr",
          "output_type": "stream",
          "text": [
            "  2%|▏         | 500/20182 [03:51<2:29:12,  2.20it/s]"
          ]
        },
        {
          "metadata": {
            "tags": null
          },
          "name": "stdout",
          "output_type": "stream",
          "text": [
            "Got JSONDecodeError, skipping\n",
            "Error fetching the article: Skellefteå kommune\n",
            "Got JSONDecodeError, skipping\n",
            "Error fetching the article: Säffle\n",
            "Got JSONDecodeError, skipping\n",
            "Error fetching the article: Bjurholm\n"
          ]
        },
        {
          "metadata": {
            "tags": null
          },
          "name": "stderr",
          "output_type": "stream",
          "text": [
            "\r  2%|▏         | 501/20182 [03:51<2:28:51,  2.20it/s]"
          ]
        },
        {
          "metadata": {
            "tags": null
          },
          "name": "stdout",
          "output_type": "stream",
          "text": [
            "Got JSONDecodeError, skipping\n",
            "Error fetching the article: Vännäs\n",
            "Got JSONDecodeError, skipping\n",
            "Error fetching the article: Kramfors\n",
            "Got JSONDecodeError, skipping\n",
            "Error fetching the article: Sollefteå\n",
            "Got JSONDecodeError, skipping\n",
            "Error fetching the article: Härnösand\n",
            "Got JSONDecodeError, skippingGot JSONDecodeError, skippingGot JSONDecodeError, skippingGot JSONDecodeError, skipping\n",
            "\n",
            "Error fetching the article: Hallstahammar\n",
            "\n",
            "Error fetching the article: Heby\n",
            "\n",
            "Error fetching the article: Kungsör\n",
            "Error fetching the article: Köping\n"
          ]
        },
        {
          "metadata": {
            "tags": null
          },
          "name": "stderr",
          "output_type": "stream",
          "text": [
            "  2%|▏         | 503/20182 [03:52<2:28:27,  2.21it/s]"
          ]
        },
        {
          "metadata": {
            "tags": null
          },
          "name": "stdout",
          "output_type": "stream",
          "text": [
            "Got JSONDecodeError, skipping\n",
            "Error fetching the article: Antigua og Barbuda\n",
            "Got JSONDecodeError, skipping\n",
            "Error fetching the article: Surahammar\n",
            "Got JSONDecodeError, skipping\n",
            "Error fetching the article: Västerås\n",
            "Got JSONDecodeError, skipping\n",
            "Error fetching the article: Hønefoss Ballklubb\n",
            "Got JSONDecodeError, skipping\n",
            "Error fetching the article: Bollebygd\n",
            "Got JSONDecodeError, skipping\n",
            "Error fetching the article: Dals-Ed kommune\n",
            "Got JSONDecodeError, skipping\n",
            "Error fetching the article: Borås\n",
            "Got JSONDecodeError, skipping\n",
            "Error fetching the article: Bengtsfors\n"
          ]
        },
        {
          "metadata": {
            "tags": null
          },
          "name": "stderr",
          "output_type": "stream",
          "text": [
            "\r  2%|▏         | 504/20182 [03:52<2:30:24,  2.18it/s]"
          ]
        },
        {
          "metadata": {
            "tags": null
          },
          "name": "stdout",
          "output_type": "stream",
          "text": [
            "Got JSONDecodeError, skipping\n",
            "Error fetching the article: Härryda kommune\n",
            "Got JSONDecodeError, skipping\n",
            "Error fetching the article: Hjo\n",
            "Got JSONDecodeError, skipping\n",
            "Error fetching the article: Färgelanda kommune\n",
            "Got JSONDecodeError, skipping\n",
            "Error fetching the article: Herrljunga\n"
          ]
        },
        {
          "metadata": {
            "tags": null
          },
          "name": "stderr",
          "output_type": "stream",
          "text": [
            "  3%|▎         | 506/20182 [03:53<2:27:21,  2.23it/s]"
          ]
        },
        {
          "metadata": {
            "tags": null
          },
          "name": "stdout",
          "output_type": "stream",
          "text": [
            "Got JSONDecodeError, skippingGot JSONDecodeError, skipping\n",
            "Error fetching the article: Mark kommune\n",
            "\n",
            "Error fetching the article: Munkedal kommune\n",
            "Got JSONDecodeError, skipping\n",
            "Error fetching the article: Mariestad\n",
            "Got JSONDecodeError, skipping\n",
            "Error fetching the article: Svenljunga kommune\n",
            "Got JSONDecodeError, skippingGot JSONDecodeError, skipping\n",
            "Error fetching the article: Skövde kommune\n",
            "\n",
            "Error fetching the article: Tanum kommune\n"
          ]
        },
        {
          "metadata": {
            "tags": null
          },
          "name": "stderr",
          "output_type": "stream",
          "text": [
            "\r  3%|▎         | 507/20182 [03:54<2:24:21,  2.27it/s]"
          ]
        },
        {
          "metadata": {
            "tags": null
          },
          "name": "stdout",
          "output_type": "stream",
          "text": [
            "Got JSONDecodeError, skipping\n",
            "Error fetching the article: A.I.: kunstig intelligens\n",
            "Got JSONDecodeError, skipping\n",
            "Error fetching the article: Barn\n"
          ]
        },
        {
          "metadata": {
            "tags": null
          },
          "name": "stderr",
          "output_type": "stream",
          "text": [
            "\r  3%|▎         | 508/20182 [03:54<2:22:38,  2.30it/s]"
          ]
        },
        {
          "metadata": {
            "tags": null
          },
          "name": "stdout",
          "output_type": "stream",
          "text": [
            "Got KeyError, skipping\n",
            "Error fetching the article: AI\n",
            "Got JSONDecodeError, skipping\n",
            "Error fetching the article: Uddevalla\n",
            "Got JSONDecodeError, skipping\n",
            "Error fetching the article: Töreboda kommune\n",
            "Got JSONDecodeError, skipping\n",
            "Error fetching the article: Cecil Rhodes\n"
          ]
        },
        {
          "metadata": {
            "tags": null
          },
          "name": "stderr",
          "output_type": "stream",
          "text": [
            "\r  3%|▎         | 509/20182 [03:55<2:23:09,  2.29it/s]"
          ]
        },
        {
          "metadata": {
            "tags": null
          },
          "name": "stdout",
          "output_type": "stream",
          "text": [
            "Got JSONDecodeError, skipping\n",
            "Error fetching the article: Hallsberg\n"
          ]
        },
        {
          "metadata": {
            "tags": null
          },
          "name": "stderr",
          "output_type": "stream",
          "text": [
            "  3%|▎         | 517/20182 [03:59<2:34:42,  2.12it/s]"
          ]
        },
        {
          "metadata": {
            "tags": null
          },
          "name": "stdout",
          "output_type": "stream",
          "text": [
            "Got JSONDecodeError, skipping\n",
            "Error fetching the article: Joseph Haydn\n",
            "Got JSONDecodeError, skipping\n",
            "Error fetching the article: Lendelede\n",
            "Got JSONDecodeError, skipping\n",
            "Error fetching the article: Kuurne\n"
          ]
        },
        {
          "metadata": {
            "tags": null
          },
          "name": "stderr",
          "output_type": "stream",
          "text": [
            "\r  3%|▎         | 518/20182 [03:59<2:39:49,  2.05it/s]"
          ]
        },
        {
          "metadata": {
            "tags": null
          },
          "name": "stdout",
          "output_type": "stream",
          "text": [
            "Got JSONDecodeError, skipping\n",
            "Error fetching the article: Costa Rica\n"
          ]
        },
        {
          "metadata": {
            "tags": null
          },
          "name": "stderr",
          "output_type": "stream",
          "text": [
            "\r  3%|▎         | 519/20182 [04:00<2:32:53,  2.14it/s]"
          ]
        },
        {
          "metadata": {
            "tags": null
          },
          "name": "stdout",
          "output_type": "stream",
          "text": [
            "Got JSONDecodeError, skipping\n",
            "Error fetching the article: Klingon\n",
            "Got JSONDecodeError, skipping\n",
            "Error fetching the article: Lars Saabye Christensen\n",
            "Got JSONDecodeError, skipping\n",
            "Error fetching the article: Dominica\n",
            "Got JSONDecodeError, skipping\n",
            "Error fetching the article: Monopol\n",
            "Got JSONDecodeError, skipping\n",
            "Error fetching the article: Gabon\n",
            "Got JSONDecodeError, skipping\n",
            "Error fetching the article: Ragnarok\n",
            "Got JSONDecodeError, skipping\n",
            "Error fetching the article: Demokrati\n"
          ]
        },
        {
          "metadata": {
            "tags": null
          },
          "name": "stderr",
          "output_type": "stream",
          "text": [
            "\r  3%|▎         | 520/20182 [04:00<2:31:38,  2.16it/s]"
          ]
        },
        {
          "metadata": {
            "tags": null
          },
          "name": "stdout",
          "output_type": "stream",
          "text": [
            "Got JSONDecodeError, skipping\n",
            "Error fetching the article: Erling Wikborg\n",
            "Got JSONDecodeError, skipping\n",
            "Error fetching the article: Einar Gerhardsen\n",
            "Got JSONDecodeError, skipping\n",
            "Error fetching the article: Liste over Norges utenriksministre\n"
          ]
        },
        {
          "metadata": {
            "tags": null
          },
          "name": "stderr",
          "output_type": "stream",
          "text": [
            "\r  3%|▎         | 521/20182 [04:01<2:26:18,  2.24it/s]"
          ]
        },
        {
          "metadata": {
            "tags": null
          },
          "name": "stdout",
          "output_type": "stream",
          "text": [
            "Got JSONDecodeError, skipping\n",
            "Error fetching the article: Epsilon Eridani\n",
            "Got JSONDecodeError, skipping\n",
            "Error fetching the article: Proxima Centauri\n"
          ]
        },
        {
          "metadata": {
            "tags": null
          },
          "name": "stderr",
          "output_type": "stream",
          "text": [
            "  3%|▎         | 525/20182 [04:03<2:38:45,  2.06it/s]"
          ]
        },
        {
          "metadata": {
            "tags": null
          },
          "name": "stdout",
          "output_type": "stream",
          "text": [
            "Got JSONDecodeError, skipping\n",
            "Error fetching the article: Ripsfamilien\n",
            "Got JSONDecodeError, skipping\n",
            "Error fetching the article: Rosefamilien\n",
            "Got JSONDecodeError, skipping\n",
            "Error fetching the article: «Fram»\n",
            "Got JSONDecodeError, skipping\n",
            "Got JSONDecodeError, skippingError fetching the article: Bjørkefamilien\n",
            "\n",
            "Error fetching the article: Sverdliljefamilien\n",
            "Got JSONDecodeError, skipping\n",
            "Error fetching the article: Kattostfamilien\n",
            "Got JSONDecodeError, skipping\n",
            "Error fetching the article: Draketrefamilien\n",
            "Got JSONDecodeError, skipping\n",
            "Error fetching the article: Bergknappfamilien\n"
          ]
        },
        {
          "metadata": {
            "tags": null
          },
          "name": "stderr",
          "output_type": "stream",
          "text": [
            "  3%|▎         | 527/20182 [04:04<2:37:29,  2.08it/s]"
          ]
        },
        {
          "metadata": {
            "tags": null
          },
          "name": "stdout",
          "output_type": "stream",
          "text": [
            "Got JSONDecodeError, skipping\n",
            "Error fetching the article: Liljefamilien\n",
            "Got JSONDecodeError, skipping\n",
            "Error fetching the article: Nils Waltersen Aasen\n",
            "Got JSONDecodeError, skipping\n",
            "Error fetching the article: Carl Philipp Emanuel Bach\n",
            "Got JSONDecodeError, skipping\n",
            "Error fetching the article: Johann Gottfried Bernhard Bach\n"
          ]
        },
        {
          "metadata": {
            "tags": null
          },
          "name": "stderr",
          "output_type": "stream",
          "text": [
            "\r  3%|▎         | 528/20182 [04:04<2:35:01,  2.11it/s]"
          ]
        },
        {
          "metadata": {
            "tags": null
          },
          "name": "stdout",
          "output_type": "stream",
          "text": [
            "Got JSONDecodeError, skipping\n",
            "Error fetching the article: FøydalismeGot JSONDecodeError, skipping\n",
            "Error fetching the article: Mimosoideae\n",
            "\n"
          ]
        },
        {
          "metadata": {
            "tags": null
          },
          "name": "stderr",
          "output_type": "stream",
          "text": [
            "  3%|▎         | 531/20182 [04:06<2:40:26,  2.04it/s]"
          ]
        },
        {
          "metadata": {
            "tags": null
          },
          "name": "stdout",
          "output_type": "stream",
          "text": [
            "Got JSONDecodeError, skipping\n",
            "Error fetching the article: Württemberg\n"
          ]
        },
        {
          "metadata": {
            "tags": null
          },
          "name": "stderr",
          "output_type": "stream",
          "text": [
            "\r  3%|▎         | 532/20182 [04:06<2:37:36,  2.08it/s]"
          ]
        },
        {
          "metadata": {
            "tags": null
          },
          "name": "stdout",
          "output_type": "stream",
          "text": [
            "Got JSONDecodeError, skipping\n",
            "Error fetching the article: Aspargesordenen\n",
            "Got JSONDecodeError, skipping\n",
            "Got JSONDecodeError, skipping\n",
            "Error fetching the article: SkjermplanteordenenGot JSONDecodeError, skipping\n",
            "Error fetching the article: Vassgroordenen\n",
            "\n",
            "Error fetching the article: Guido Westerwelle\n"
          ]
        },
        {
          "metadata": {
            "tags": null
          },
          "name": "stderr",
          "output_type": "stream",
          "text": [
            "\r  3%|▎         | 533/20182 [04:07<2:35:33,  2.11it/s]"
          ]
        },
        {
          "metadata": {
            "tags": null
          },
          "name": "stdout",
          "output_type": "stream",
          "text": [
            "Got JSONDecodeError, skipping\n",
            "Error fetching the article: Lyngordenen\n",
            "Got JSONDecodeError, skipping\n",
            "Error fetching the article: Kardeborreordenen\n"
          ]
        },
        {
          "metadata": {
            "tags": null
          },
          "name": "stderr",
          "output_type": "stream",
          "text": [
            "\r  3%|▎         | 534/20182 [04:07<2:35:05,  2.11it/s]"
          ]
        },
        {
          "metadata": {
            "tags": null
          },
          "name": "stdout",
          "output_type": "stream",
          "text": [
            "Got JSONDecodeError, skipping\n",
            "Error fetching the article: Gjøkesyreordenen\n",
            "Got JSONDecodeError, skippingGot JSONDecodeError, skipping\n",
            "Error fetching the article: VierordenenGot JSONDecodeError, skipping\n",
            "Error fetching the article: Myrteordenen (biologi)\n",
            "\n",
            "\n",
            "Error fetching the article: Storkenebbordenen\n"
          ]
        },
        {
          "metadata": {
            "tags": null
          },
          "name": "stderr",
          "output_type": "stream",
          "text": [
            "\r  3%|▎         | 535/20182 [04:07<2:30:14,  2.18it/s]"
          ]
        },
        {
          "metadata": {
            "tags": null
          },
          "name": "stdout",
          "output_type": "stream",
          "text": [
            "Got JSONDecodeError, skipping\n",
            "Error fetching the article: Roseordenen (biologi)\n",
            "Got JSONDecodeError, skipping\n",
            "Error fetching the article: AloefamilienGot JSONDecodeError, skipping\n",
            "\n",
            "Error fetching the article: Kristtornslekten\n"
          ]
        },
        {
          "metadata": {
            "tags": null
          },
          "name": "stderr",
          "output_type": "stream",
          "text": [
            "  3%|▎         | 537/20182 [04:08<2:37:21,  2.08it/s]"
          ]
        },
        {
          "metadata": {
            "tags": null
          },
          "name": "stdout",
          "output_type": "stream",
          "text": [
            "Got JSONDecodeError, skipping\n",
            "Error fetching the article: Spolebuskfamilien\n"
          ]
        },
        {
          "metadata": {
            "tags": null
          },
          "name": "stderr",
          "output_type": "stream",
          "text": [
            "  3%|▎         | 540/20182 [04:10<2:43:55,  2.00it/s]"
          ]
        },
        {
          "metadata": {
            "tags": null
          },
          "name": "stdout",
          "output_type": "stream",
          "text": [
            "Got JSONDecodeError, skipping\n",
            "Error fetching the article: Dynamikk\n",
            "Got JSONDecodeError, skipping\n",
            "Error fetching the article: Nærings- og handelsdepartementet\n",
            "Got JSONDecodeError, skipping\n",
            "Got JSONDecodeError, skipping\n",
            "Error fetching the article: Justis- og beredskapsdepartementet\n",
            "Error fetching the article: Klima- og miljødepartementet\n"
          ]
        },
        {
          "metadata": {
            "tags": null
          },
          "name": "stderr",
          "output_type": "stream",
          "text": [
            "  3%|▎         | 542/20182 [04:11<2:42:54,  2.01it/s]"
          ]
        },
        {
          "metadata": {
            "tags": null
          },
          "name": "stdout",
          "output_type": "stream",
          "text": [
            "Got JSONDecodeError, skipping\n",
            "Error fetching the article: HandlingsregelenGot JSONDecodeError, skipping\n",
            "Error fetching the article: Skolastikk\n",
            "\n"
          ]
        },
        {
          "metadata": {
            "tags": null
          },
          "name": "stderr",
          "output_type": "stream",
          "text": [
            "\r  3%|▎         | 543/20182 [04:11<2:37:33,  2.08it/s]"
          ]
        },
        {
          "metadata": {
            "tags": null
          },
          "name": "stdout",
          "output_type": "stream",
          "text": [
            "Got JSONDecodeError, skipping\n",
            "Error fetching the article: Blomkarsefamilien\n",
            "Got JSONDecodeError, skipping\n",
            "Got JSONDecodeError, skipping\n",
            "Error fetching the article: Alstroemeriaceae\n",
            "Error fetching the article: Brudelys\n",
            "Got JSONDecodeError, skipping\n",
            "Error fetching the article: Gresskarfamilien\n",
            "Got JSONDecodeError, skipping\n",
            "Error fetching the article: Lilje (figur)\n",
            "Got JSONDecodeError, skipping\n",
            "Error fetching the article: Mirakelblomstfamilien\n"
          ]
        },
        {
          "metadata": {
            "tags": null
          },
          "name": "stderr",
          "output_type": "stream",
          "text": [
            "\r  3%|▎         | 544/20182 [04:12<2:34:16,  2.12it/s]"
          ]
        },
        {
          "metadata": {
            "tags": null
          },
          "name": "stdout",
          "output_type": "stream",
          "text": [
            "Got JSONDecodeError, skipping\n",
            "Error fetching the article: Sykkel\n",
            "Got JSONDecodeError, skipping\n",
            "Error fetching the article: Måne\n",
            "Got JSONDecodeError, skipping\n",
            "Error fetching the article: Muzio Clementi\n"
          ]
        },
        {
          "metadata": {
            "tags": null
          },
          "name": "stderr",
          "output_type": "stream",
          "text": [
            "\r  3%|▎         | 545/20182 [04:12<2:28:50,  2.20it/s]"
          ]
        },
        {
          "metadata": {
            "tags": null
          },
          "name": "stdout",
          "output_type": "stream",
          "text": [
            "Got JSONDecodeError, skipping\n",
            "Error fetching the article: Resedafamilien\n",
            "Got JSONDecodeError, skippingGot JSONDecodeError, skipping\n",
            "\n",
            "Error fetching the article: Portulakkfamilien\n",
            "Error fetching the article: Middagsblomstfamilien\n",
            "Got JSONDecodeError, skipping\n",
            "Error fetching the article: Papayafamilien\n"
          ]
        },
        {
          "metadata": {
            "tags": null
          },
          "name": "stderr",
          "output_type": "stream",
          "text": [
            "\r  3%|▎         | 546/20182 [04:13<2:24:37,  2.26it/s]"
          ]
        },
        {
          "metadata": {
            "tags": null
          },
          "name": "stdout",
          "output_type": "stream",
          "text": [
            "Got JSONDecodeError, skipping\n",
            "Error fetching the article: Bukkebladfamilien\n",
            "Got JSONDecodeError, skipping\n",
            "Error fetching the article: Vassgrofamilien\n",
            "Got JSONDecodeError, skipping\n",
            "Error fetching the article: Blåfjærfamilien\n",
            "Got JSONDecodeError, skipping\n",
            "Error fetching the article: Vasskransslekta\n"
          ]
        },
        {
          "metadata": {
            "tags": null
          },
          "name": "stderr",
          "output_type": "stream",
          "text": [
            "\r  3%|▎         | 547/20182 [04:13<2:21:07,  2.32it/s]"
          ]
        },
        {
          "metadata": {
            "tags": null
          },
          "name": "stdout",
          "output_type": "stream",
          "text": [
            "Got JSONDecodeError, skipping\n",
            "Error fetching the article: Rutefamilien\n",
            "Got JSONDecodeError, skipping\n",
            "Error fetching the article: Laurbærfamilien\n",
            "Got JSONDecodeError, skipping\n",
            "Error fetching the article: Søtvierfamilien\n",
            "Got JSONDecodeError, skipping\n",
            "Error fetching the article: Maurefamilien\n"
          ]
        },
        {
          "metadata": {
            "tags": null
          },
          "name": "stderr",
          "output_type": "stream",
          "text": [
            "\r  3%|▎         | 548/20182 [04:14<2:18:39,  2.36it/s]"
          ]
        },
        {
          "metadata": {
            "tags": null
          },
          "name": "stdout",
          "output_type": "stream",
          "text": [
            "Got JSONDecodeError, skipping\n",
            "Error fetching the article: FAIGot JSONDecodeError, skipping\n",
            "\n",
            "Error fetching the article: Franz Ferdinand av Østerrike-Este\n"
          ]
        },
        {
          "metadata": {
            "tags": null
          },
          "name": "stderr",
          "output_type": "stream",
          "text": [
            "\r  3%|▎         | 549/20182 [04:14<2:19:45,  2.34it/s]"
          ]
        },
        {
          "metadata": {
            "tags": null
          },
          "name": "stdout",
          "output_type": "stream",
          "text": [
            "Got JSONDecodeError, skipping\n",
            "Error fetching the article: Premierløytnant\n",
            "Got JSONDecodeError, skipping\n",
            "Got JSONDecodeError, skipping\n",
            "Error fetching the article: Tordenskiold\n",
            "Error fetching the article: Erich Maria Remarque\n",
            "Got JSONDecodeError, skipping\n",
            "Error fetching the article: Noregs Mållag\n"
          ]
        },
        {
          "metadata": {
            "tags": null
          },
          "name": "stderr",
          "output_type": "stream",
          "text": [
            "\r  3%|▎         | 550/20182 [04:14<2:21:01,  2.32it/s]"
          ]
        },
        {
          "metadata": {
            "tags": null
          },
          "name": "stdout",
          "output_type": "stream",
          "text": [
            "Got JSONDecodeError, skippingGot JSONDecodeError, skipping\n",
            "Error fetching the article: Nobelprisen i kjemi\n",
            "\n",
            "Error fetching the article: Lyon\n",
            "Got JSONDecodeError, skipping\n",
            "Error fetching the article: Gottfried Leibniz\n"
          ]
        },
        {
          "metadata": {
            "tags": null
          },
          "name": "stderr",
          "output_type": "stream",
          "text": [
            "  3%|▎         | 553/20182 [04:16<2:37:17,  2.08it/s]"
          ]
        },
        {
          "metadata": {
            "tags": null
          },
          "name": "stdout",
          "output_type": "stream",
          "text": [
            "Got JSONDecodeError, skippingGot JSONDecodeError, skipping\n",
            "Error fetching the article: Scherzo\n",
            "\n",
            "Error fetching the article: Eugène Delacroix\n",
            "Got JSONDecodeError, skipping\n",
            "Got JSONDecodeError, skippingError fetching the article: Styraksfamilien\n",
            "Error fetching the article: Porsfamilien\n",
            "\n"
          ]
        },
        {
          "metadata": {
            "tags": null
          },
          "name": "stderr",
          "output_type": "stream",
          "text": [
            "\r  3%|▎         | 554/20182 [04:16<2:33:39,  2.13it/s]"
          ]
        },
        {
          "metadata": {
            "tags": null
          },
          "name": "stdout",
          "output_type": "stream",
          "text": [
            "Got JSONDecodeError, skipping\n",
            "Error fetching the article: Sveriges len\n",
            "Got JSONDecodeError, skipping\n",
            "Error fetching the article: VHS\n"
          ]
        },
        {
          "metadata": {
            "tags": null
          },
          "name": "stderr",
          "output_type": "stream",
          "text": [
            "\r  3%|▎         | 555/20182 [04:17<2:30:15,  2.18it/s]"
          ]
        },
        {
          "metadata": {
            "tags": null
          },
          "name": "stdout",
          "output_type": "stream",
          "text": [
            "Got JSONDecodeError, skipping\n",
            "Error fetching the article: Karl VIII av Frankrike\n",
            "Got JSONDecodeError, skipping\n",
            "Error fetching the article: Sigmund Freud\n",
            "Got JSONDecodeError, skippingGot JSONDecodeError, skipping\n",
            "Error fetching the article: Generalmajor\n",
            "\n",
            "Error fetching the article: Guinea\n",
            "Got JSONDecodeError, skipping\n",
            "Error fetching the article: Leonora Christina Ulfeldt\n",
            "Got JSONDecodeError, skipping\n",
            "Error fetching the article: Charlotte Brontë\n"
          ]
        },
        {
          "metadata": {
            "tags": null
          },
          "name": "stderr",
          "output_type": "stream",
          "text": [
            "\r  3%|▎         | 556/20182 [04:17<2:27:32,  2.22it/s]"
          ]
        },
        {
          "metadata": {
            "tags": null
          },
          "name": "stdout",
          "output_type": "stream",
          "text": [
            "Got JSONDecodeError, skipping\n",
            "Error fetching the article: Abitur\n",
            "Got JSONDecodeError, skipping\n",
            "Got JSONDecodeError, skippingError fetching the article: Dag Jostein Fjærvoll\n",
            "Error fetching the article: Matura\n",
            "\n"
          ]
        },
        {
          "metadata": {
            "tags": null
          },
          "name": "stderr",
          "output_type": "stream",
          "text": [
            "  3%|▎         | 558/20182 [04:18<2:25:59,  2.24it/s]"
          ]
        },
        {
          "metadata": {
            "tags": null
          },
          "name": "stdout",
          "output_type": "stream",
          "text": [
            "Got JSONDecodeError, skippingGot JSONDecodeError, skipping\n",
            "Error fetching the article: Roskilde amt\n",
            "\n",
            "Error fetching the article: Morse\n",
            "Got JSONDecodeError, skipping\n",
            "Error fetching the article: Region Hovedstaden\n",
            "Got JSONDecodeError, skipping\n",
            "Got JSONDecodeError, skipping\n",
            "Error fetching the article: Nordjyllands amt\n",
            "Error fetching the article: Københavns amt\n",
            "Got JSONDecodeError, skipping\n",
            "Error fetching the article: Fyns amt\n"
          ]
        },
        {
          "metadata": {
            "tags": null
          },
          "name": "stderr",
          "output_type": "stream",
          "text": [
            "\r  3%|▎         | 559/20182 [04:19<2:23:08,  2.28it/s]"
          ]
        },
        {
          "metadata": {
            "tags": null
          },
          "name": "stdout",
          "output_type": "stream",
          "text": [
            "Got JSONDecodeError, skipping\n",
            "Error fetching the article: Bram Stoker\n",
            "Got JSONDecodeError, skipping\n",
            "Error fetching the article: Carl I. Hagen\n"
          ]
        },
        {
          "metadata": {
            "tags": null
          },
          "name": "stderr",
          "output_type": "stream",
          "text": [
            "  3%|▎         | 561/20182 [04:20<2:25:15,  2.25it/s]"
          ]
        },
        {
          "metadata": {
            "tags": null
          },
          "name": "stdout",
          "output_type": "stream",
          "text": [
            "Got JSONDecodeError, skipping\n",
            "Error fetching the article: Jamaica\n",
            "Got JSONDecodeError, skipping\n",
            "Error fetching the article: Aarhus\n",
            "Got JSONDecodeError, skipping\n",
            "Error fetching the article: Aaby (Aarhus)\n",
            "Got JSONDecodeError, skipping\n",
            "Error fetching the article: Jaguar (andre betydninger)\n",
            "Got JSONDecodeError, skippingGot JSONDecodeError, skipping\n",
            "Error fetching the article: Alte Nationalgalerie\n",
            "Got JSONDecodeError, skipping\n",
            "Error fetching the article: Walter Gropius\n",
            "\n",
            "Error fetching the article: Bodemuseum\n"
          ]
        },
        {
          "metadata": {
            "tags": null
          },
          "name": "stderr",
          "output_type": "stream",
          "text": [
            "  3%|▎         | 563/20182 [04:20<2:29:29,  2.19it/s]"
          ]
        },
        {
          "metadata": {
            "tags": null
          },
          "name": "stdout",
          "output_type": "stream",
          "text": [
            "Got JSONDecodeError, skippingGot JSONDecodeError, skipping\n",
            "Error fetching the article: Altes Museum\n",
            "\n",
            "Got JSONDecodeError, skipping\n",
            "Error fetching the article: Viborg\n",
            "Error fetching the article: Jylland\n",
            "Got JSONDecodeError, skipping\n",
            "Error fetching the article: Håkan Hellström\n",
            "Got JSONDecodeError, skipping\n",
            "Error fetching the article: Nettleser\n"
          ]
        },
        {
          "metadata": {
            "tags": null
          },
          "name": "stderr",
          "output_type": "stream",
          "text": [
            "\r  3%|▎         | 564/20182 [04:21<2:26:58,  2.22it/s]"
          ]
        },
        {
          "metadata": {
            "tags": null
          },
          "name": "stdout",
          "output_type": "stream",
          "text": [
            "Got JSONDecodeError, skipping\n",
            "Error fetching the article: Sjælland\n",
            "Got JSONDecodeError, skipping\n",
            "Error fetching the article: Wilhelm von Humboldt\n",
            "Got JSONDecodeError, skipping\n",
            "Error fetching the article: Oskar Schindler\n",
            "Got JSONDecodeError, skippingGot JSONDecodeError, skipping\n",
            "\n",
            "Error fetching the article: Felix Mendelssohn\n",
            "Error fetching the article: H.G. Wells\n"
          ]
        },
        {
          "metadata": {
            "tags": null
          },
          "name": "stderr",
          "output_type": "stream",
          "text": [
            "\r  3%|▎         | 565/20182 [04:21<2:27:35,  2.22it/s]"
          ]
        },
        {
          "metadata": {
            "tags": null
          },
          "name": "stdout",
          "output_type": "stream",
          "text": [
            "Got JSONDecodeError, skipping\n",
            "Error fetching the article: Wehrmacht\n"
          ]
        },
        {
          "metadata": {
            "tags": null
          },
          "name": "stderr",
          "output_type": "stream",
          "text": [
            "\r  3%|▎         | 566/20182 [04:22<2:38:33,  2.06it/s]"
          ]
        },
        {
          "metadata": {
            "tags": null
          },
          "name": "stdout",
          "output_type": "stream",
          "text": [
            "Got JSONDecodeError, skipping\n",
            "Error fetching the article: Jonathan Swift\n"
          ]
        },
        {
          "metadata": {
            "tags": null
          },
          "name": "stderr",
          "output_type": "stream",
          "text": [
            "\r  3%|▎         | 567/20182 [04:22<2:33:41,  2.13it/s]"
          ]
        },
        {
          "metadata": {
            "tags": null
          },
          "name": "stdout",
          "output_type": "stream",
          "text": [
            "Got JSONDecodeError, skipping\n",
            "Error fetching the article: Joseph Schumpeter\n",
            "Got JSONDecodeError, skipping\n",
            "Error fetching the article: Bartolomé de las Casas\n",
            "Got JSONDecodeError, skipping\n",
            "Error fetching the article: Don Rosa\n",
            "Got JSONDecodeError, skipping\n",
            "Error fetching the article: Azorene\n"
          ]
        },
        {
          "metadata": {
            "tags": null
          },
          "name": "stderr",
          "output_type": "stream",
          "text": [
            "  3%|▎         | 569/20182 [04:23<2:32:48,  2.14it/s]"
          ]
        },
        {
          "metadata": {
            "tags": null
          },
          "name": "stdout",
          "output_type": "stream",
          "text": [
            "Got JSONDecodeError, skipping\n",
            "Error fetching the article: Hohenzollern\n",
            "Got JSONDecodeError, skipping\n",
            "Error fetching the article: Jerntrefamilien\n",
            "Got JSONDecodeError, skipping\n",
            "Error fetching the article: 193\n",
            "Got JSONDecodeError, skipping\n",
            "Error fetching the article: Neslefamilien\n",
            "Got JSONDecodeError, skipping\n",
            "Error fetching the article: Kjersti Ericsson\n"
          ]
        },
        {
          "metadata": {
            "tags": null
          },
          "name": "stderr",
          "output_type": "stream",
          "text": [
            "  3%|▎         | 571/20182 [04:24<2:28:34,  2.20it/s]"
          ]
        },
        {
          "metadata": {
            "tags": null
          },
          "name": "stdout",
          "output_type": "stream",
          "text": [
            "Got JSONDecodeError, skippingGot JSONDecodeError, skippingGot JSONDecodeError, skipping\n",
            "Error fetching the article: Asclepiadoideae\n",
            "\n",
            "\n",
            "Error fetching the article: ThunbergiaceaeError fetching the article: Vindelfamilien\n",
            "\n",
            "Got JSONDecodeError, skipping\n",
            "Error fetching the article: Hesterumpefamilien\n",
            "Got JSONDecodeError, skipping\n",
            "Error fetching the article: Haag\n",
            "Got JSONDecodeError, skipping\n",
            "Error fetching the article: Den europeiske romfartsorganisasjon\n",
            "Got JSONDecodeError, skipping\n",
            "Error fetching the article: Cassini\n"
          ]
        },
        {
          "metadata": {
            "tags": null
          },
          "name": "stderr",
          "output_type": "stream",
          "text": [
            "\r  3%|▎         | 572/20182 [04:25<2:33:23,  2.13it/s]"
          ]
        },
        {
          "metadata": {
            "tags": null
          },
          "name": "stdout",
          "output_type": "stream",
          "text": [
            "Got JSONDecodeError, skipping\n",
            "Error fetching the article: Freden i Roskilde\n",
            "Got JSONDecodeError, skipping\n",
            "Error fetching the article: Marlon Brando\n",
            "Got JSONDecodeError, skippingGot JSONDecodeError, skipping\n",
            "Error fetching the article: Jacques Chirac\n",
            "\n",
            "Error fetching the article: François Mitterrand\n"
          ]
        },
        {
          "metadata": {
            "tags": null
          },
          "name": "stderr",
          "output_type": "stream",
          "text": [
            "  3%|▎         | 574/20182 [04:26<2:32:44,  2.14it/s]"
          ]
        },
        {
          "metadata": {
            "tags": null
          },
          "name": "stdout",
          "output_type": "stream",
          "text": [
            "Got JSONDecodeError, skipping\n",
            "Error fetching the article: Trompettrefamilien\n",
            "Got JSONDecodeError, skipping\n",
            "Error fetching the article: Kokafamilien\n",
            "Got JSONDecodeError, skipping\n",
            "Got JSONDecodeError, skippingError fetching the article: Tidløsfamilien\n",
            "\n",
            "Error fetching the article: Vasshårslekta\n",
            "Got JSONDecodeError, skippingGot JSONDecodeError, skipping\n",
            "Error fetching the article: Sterculioideae\n",
            "\n",
            "Error fetching the article: Malpighiaceae\n",
            "Got JSONDecodeError, skipping\n",
            "Error fetching the article: Muskatnøttfamilien\n"
          ]
        },
        {
          "metadata": {
            "tags": null
          },
          "name": "stderr",
          "output_type": "stream",
          "text": [
            "  3%|▎         | 576/20182 [04:27<2:32:45,  2.14it/s]"
          ]
        },
        {
          "metadata": {
            "tags": null
          },
          "name": "stdout",
          "output_type": "stream",
          "text": [
            "Got JSONDecodeError, skipping\n",
            "Error fetching the article: E.C. Dahls bryggeri\n",
            "Got JSONDecodeError, skippingGot JSONDecodeError, skipping\n",
            "Error fetching the article: Mallard (lokomotiv)\n",
            "\n",
            "Error fetching the article: Gustav Stresemann\n"
          ]
        },
        {
          "metadata": {
            "tags": null
          },
          "name": "stderr",
          "output_type": "stream",
          "text": [
            "\r  3%|▎         | 577/20182 [04:27<2:39:05,  2.05it/s]"
          ]
        },
        {
          "metadata": {
            "tags": null
          },
          "name": "stdout",
          "output_type": "stream",
          "text": [
            "Got JSONDecodeError, skipping\n",
            "Error fetching the article: Egersund\n",
            "Got JSONDecodeError, skipping\n",
            "Error fetching the article: Helmut Kohl\n"
          ]
        },
        {
          "metadata": {
            "tags": null
          },
          "name": "stderr",
          "output_type": "stream",
          "text": [
            "\r  3%|▎         | 578/20182 [04:28<2:38:44,  2.06it/s]"
          ]
        },
        {
          "metadata": {
            "tags": null
          },
          "name": "stdout",
          "output_type": "stream",
          "text": [
            "Got JSONDecodeError, skipping\n",
            "Error fetching the article: Synagoge\n",
            "Got JSONDecodeError, skipping\n",
            "Error fetching the article: Misjná\n"
          ]
        },
        {
          "metadata": {
            "tags": null
          },
          "name": "stderr",
          "output_type": "stream",
          "text": [
            "\r  3%|▎         | 579/20182 [04:28<2:36:28,  2.09it/s]"
          ]
        },
        {
          "metadata": {
            "tags": null
          },
          "name": "stdout",
          "output_type": "stream",
          "text": [
            "Got JSONDecodeError, skipping\n",
            "Error fetching the article: Valmuefamilien\n",
            "Got JSONDecodeError, skipping\n",
            "Error fetching the article: Piggknoppfamilien\n",
            "Got JSONDecodeError, skipping\n",
            "Error fetching the article: Sefarder\n"
          ]
        },
        {
          "metadata": {
            "tags": null
          },
          "name": "stderr",
          "output_type": "stream",
          "text": [
            "\r  3%|▎         | 580/20182 [04:28<2:33:57,  2.12it/s]"
          ]
        },
        {
          "metadata": {
            "tags": null
          },
          "name": "stdout",
          "output_type": "stream",
          "text": [
            "Got JSONDecodeError, skipping\n",
            "Error fetching the article: Sumakfamilien\n",
            "Got JSONDecodeError, skippingGot JSONDecodeError, skipping\n",
            "Error fetching the article: Kannafamilien\n",
            "\n",
            "Error fetching the article: Trollheggfamilien\n",
            "Got JSONDecodeError, skipping\n",
            "Error fetching the article: Lønnefamilien\n"
          ]
        },
        {
          "metadata": {
            "tags": null
          },
          "name": "stderr",
          "output_type": "stream",
          "text": [
            "  3%|▎         | 582/20182 [04:29<2:33:32,  2.13it/s]"
          ]
        },
        {
          "metadata": {
            "tags": null
          },
          "name": "stdout",
          "output_type": "stream",
          "text": [
            "Got JSONDecodeError, skipping\n",
            "Error fetching the article: Borge (Østfold)\n",
            "Got JSONDecodeError, skipping\n",
            "Error fetching the article: Brunlanes (kommune)\n",
            "Got JSONDecodeError, skipping\n",
            "Error fetching the article: Hisøy\n",
            "Got JSONDecodeError, skipping\n",
            "Error fetching the article: Moland\n"
          ]
        },
        {
          "metadata": {
            "tags": null
          },
          "name": "stderr",
          "output_type": "stream",
          "text": [
            "  3%|▎         | 584/20182 [04:30<2:39:40,  2.05it/s]"
          ]
        },
        {
          "metadata": {
            "tags": null
          },
          "name": "stdout",
          "output_type": "stream",
          "text": [
            "Got JSONDecodeError, skipping\n",
            "Error fetching the article: Arabisk (andre betydninger)\n"
          ]
        },
        {
          "metadata": {
            "tags": null
          },
          "name": "stderr",
          "output_type": "stream",
          "text": [
            "\r  3%|▎         | 585/20182 [04:31<2:34:02,  2.12it/s]"
          ]
        },
        {
          "metadata": {
            "tags": null
          },
          "name": "stdout",
          "output_type": "stream",
          "text": [
            "Got JSONDecodeError, skipping\n",
            "Error fetching the article: Norbatts bataljonssjefer\n",
            "Got JSONDecodeError, skipping\n",
            "Error fetching the article: Diablo (videospill)\n",
            "Got JSONDecodeError, skipping\n",
            "Error fetching the article: Ferdinand Magellan\n",
            "Got JSONDecodeError, skippingGot JSONDecodeError, skipping\n",
            "Error fetching the article: Appelsin\n",
            "\n",
            "Error fetching the article: Aprikos\n",
            "Got JSONDecodeError, skipping\n",
            "Error fetching the article: Guava\n"
          ]
        },
        {
          "metadata": {
            "tags": null
          },
          "name": "stderr",
          "output_type": "stream",
          "text": [
            "\r  3%|▎         | 586/20182 [04:31<2:32:30,  2.14it/s]"
          ]
        },
        {
          "metadata": {
            "tags": null
          },
          "name": "stdout",
          "output_type": "stream",
          "text": [
            "Got JSONDecodeError, skipping\n",
            "Error fetching the article: Livland\n",
            "Got JSONDecodeError, skipping\n",
            "Error fetching the article: Donald Rumsfeld\n",
            "Got JSONDecodeError, skipping\n",
            "Error fetching the article: Karl IV av Det tysk-romerske rike\n",
            "Got JSONDecodeError, skipping\n",
            "Error fetching the article: Laila Freivalds\n"
          ]
        },
        {
          "metadata": {
            "tags": null
          },
          "name": "stderr",
          "output_type": "stream",
          "text": [
            "\r  3%|▎         | 587/20182 [04:32<2:31:34,  2.15it/s]"
          ]
        },
        {
          "metadata": {
            "tags": null
          },
          "name": "stdout",
          "output_type": "stream",
          "text": [
            "Got JSONDecodeError, skipping\n",
            "Error fetching the article: Stockholms skjærgård\n",
            "Got JSONDecodeError, skipping\n",
            "Error fetching the article: Holstein\n",
            "Got JSONDecodeError, skipping\n",
            "Error fetching the article: Slesvig\n"
          ]
        },
        {
          "metadata": {
            "tags": null
          },
          "name": "stderr",
          "output_type": "stream",
          "text": [
            "  3%|▎         | 589/20182 [04:33<2:29:20,  2.19it/s]"
          ]
        },
        {
          "metadata": {
            "tags": null
          },
          "name": "stdout",
          "output_type": "stream",
          "text": [
            "Got JSONDecodeError, skipping\n",
            "Error fetching the article: Slaget ved Narva\n",
            "Got JSONDecodeError, skipping\n",
            "Error fetching the article: Tre nøtter til Askepott (1973)\n",
            "Got JSONDecodeError, skipping\n",
            "Error fetching the article: Tisjré\n",
            "Got JSONDecodeError, skippingGot JSONDecodeError, skipping\n",
            "Error fetching the article: Det jødiske året\n",
            "\n",
            "Error fetching the article: Motor\n",
            "Got JSONDecodeError, skipping\n",
            "Error fetching the article: Transport Tycoon\n"
          ]
        },
        {
          "metadata": {
            "tags": null
          },
          "name": "stderr",
          "output_type": "stream",
          "text": [
            "\r  3%|▎         | 590/20182 [04:33<2:24:25,  2.26it/s]"
          ]
        },
        {
          "metadata": {
            "tags": null
          },
          "name": "stdout",
          "output_type": "stream",
          "text": [
            "Got JSONDecodeError, skipping\n",
            "Error fetching the article: Daddelpalme\n",
            "Got JSONDecodeError, skipping\n",
            "Got JSONDecodeError, skipping\n",
            "Error fetching the article: Finder\n",
            "Error fetching the article: Stjernefrukt\n"
          ]
        },
        {
          "metadata": {
            "tags": null
          },
          "name": "stderr",
          "output_type": "stream",
          "text": [
            "  3%|▎         | 593/20182 [04:35<2:34:46,  2.11it/s]"
          ]
        },
        {
          "metadata": {
            "tags": null
          },
          "name": "stdout",
          "output_type": "stream",
          "text": [
            "Got JSONDecodeError, skipping\n",
            "Error fetching the article: Patriotisme\n",
            "Got JSONDecodeError, skipping\n",
            "Error fetching the article: Ringo Starr\n",
            "Got JSONDecodeError, skipping\n",
            "Error fetching the article: Tom Tykwer\n",
            "Got JSONDecodeError, skipping\n",
            "Error fetching the article: Klitoris\n"
          ]
        },
        {
          "metadata": {
            "tags": null
          },
          "name": "stderr",
          "output_type": "stream",
          "text": [
            "  3%|▎         | 595/20182 [04:35<2:29:19,  2.19it/s]"
          ]
        },
        {
          "metadata": {
            "tags": null
          },
          "name": "stdout",
          "output_type": "stream",
          "text": [
            "Got JSONDecodeError, skipping\n",
            "Error fetching the article: Lokøyna\n",
            "Got JSONDecodeError, skippingGot JSONDecodeError, skipping\n",
            "\n",
            "Error fetching the article: Forsvarets logistikkorganisasjonError fetching the article: Tottenham Hotspur FC\n",
            "\n",
            "Got JSONDecodeError, skipping\n",
            "Error fetching the article: Lag\n",
            "Got JSONDecodeError, skippingGot JSONDecodeError, skipping\n",
            "Error fetching the article: Fartøy\n",
            "\n",
            "Error fetching the article: Opium\n"
          ]
        },
        {
          "metadata": {
            "tags": null
          },
          "name": "stderr",
          "output_type": "stream",
          "text": [
            "\r  3%|▎         | 596/20182 [04:36<2:32:06,  2.15it/s]"
          ]
        },
        {
          "metadata": {
            "tags": null
          },
          "name": "stdout",
          "output_type": "stream",
          "text": [
            "Got JSONDecodeError, skipping\n",
            "Error fetching the article: Mail (Mac)\n",
            "Got JSONDecodeError, skipping\n",
            "Error fetching the article: Andeby\n",
            "Got JSONDecodeError, skipping\n",
            "Error fetching the article: Intelligens\n",
            "Got JSONDecodeError, skipping\n",
            "Error fetching the article: Åre\n"
          ]
        },
        {
          "metadata": {
            "tags": null
          },
          "name": "stderr",
          "output_type": "stream",
          "text": [
            "  3%|▎         | 599/20182 [04:38<2:48:21,  1.94it/s]"
          ]
        },
        {
          "metadata": {
            "tags": null
          },
          "name": "stdout",
          "output_type": "stream",
          "text": [
            "Got KeyError, skipping\n",
            "Error fetching the article: Koruna\n"
          ]
        },
        {
          "metadata": {
            "tags": null
          },
          "name": "stderr",
          "output_type": "stream",
          "text": [
            "  3%|▎         | 602/20182 [04:39<2:38:19,  2.06it/s]"
          ]
        },
        {
          "metadata": {
            "tags": null
          },
          "name": "stdout",
          "output_type": "stream",
          "text": [
            "Got JSONDecodeError, skippingGot JSONDecodeError, skipping\n",
            "\n",
            "Error fetching the article: 576Error fetching the article: 569\n",
            "\n",
            "Got JSONDecodeError, skipping\n",
            "Error fetching the article: 560\n",
            "Got JSONDecodeError, skipping\n",
            "Error fetching the article: 564\n",
            "Got JSONDecodeError, skipping\n",
            "Error fetching the article: 568\n",
            "Got JSONDecodeError, skipping\n",
            "Error fetching the article: 565\n"
          ]
        },
        {
          "metadata": {
            "tags": null
          },
          "name": "stderr",
          "output_type": "stream",
          "text": [
            "\r  3%|▎         | 603/20182 [04:40<2:36:22,  2.09it/s]"
          ]
        },
        {
          "metadata": {
            "tags": null
          },
          "name": "stdout",
          "output_type": "stream",
          "text": [
            "Got JSONDecodeError, skipping\n",
            "Error fetching the article: 549\n",
            "Got JSONDecodeError, skipping\n",
            "Error fetching the article: 551\n",
            "Got JSONDecodeError, skipping\n",
            "Error fetching the article: 555"
          ]
        },
        {
          "metadata": {
            "tags": null
          },
          "name": "stderr",
          "output_type": "stream",
          "text": [
            "\r  3%|▎         | 604/20182 [04:40<2:33:20,  2.13it/s]"
          ]
        },
        {
          "metadata": {
            "tags": null
          },
          "name": "stdout",
          "output_type": "stream",
          "text": [
            "\n",
            "Got JSONDecodeError, skipping\n",
            "Error fetching the article: 542\n",
            "Got JSONDecodeError, skipping\n",
            "Error fetching the article: 539\n"
          ]
        },
        {
          "metadata": {
            "tags": null
          },
          "name": "stderr",
          "output_type": "stream",
          "text": [
            "\r  3%|▎         | 605/20182 [04:40<2:32:14,  2.14it/s]"
          ]
        },
        {
          "metadata": {
            "tags": null
          },
          "name": "stdout",
          "output_type": "stream",
          "text": [
            "Got JSONDecodeError, skippingGot JSONDecodeError, skipping\n",
            "Error fetching the article: 528\n",
            "\n",
            "Error fetching the article: 534\n"
          ]
        },
        {
          "metadata": {
            "tags": null
          },
          "name": "stderr",
          "output_type": "stream",
          "text": [
            "\r  3%|▎         | 606/20182 [04:41<2:31:57,  2.15it/s]"
          ]
        },
        {
          "metadata": {
            "tags": null
          },
          "name": "stdout",
          "output_type": "stream",
          "text": [
            "Got JSONDecodeError, skipping\n",
            "Error fetching the article: 520\n",
            "Got JSONDecodeError, skipping\n",
            "Error fetching the article: 518\n",
            "Got JSONDecodeError, skipping\n",
            "Error fetching the article: 519\n"
          ]
        },
        {
          "metadata": {
            "tags": null
          },
          "name": "stderr",
          "output_type": "stream",
          "text": [
            "  3%|▎         | 608/20182 [04:42<2:25:34,  2.24it/s]"
          ]
        },
        {
          "metadata": {
            "tags": null
          },
          "name": "stdout",
          "output_type": "stream",
          "text": [
            "Got JSONDecodeError, skipping\n",
            "Error fetching the article: 510\n",
            "Got JSONDecodeError, skipping\n",
            "Error fetching the article: 508\n",
            "Got JSONDecodeError, skipping\n",
            "Error fetching the article: 498\n",
            "Got JSONDecodeError, skipping\n",
            "Got JSONDecodeError, skipping\n",
            "Error fetching the article: 501\n",
            "Error fetching the article: 499\n"
          ]
        },
        {
          "metadata": {
            "tags": null
          },
          "name": "stderr",
          "output_type": "stream",
          "text": [
            "\r  3%|▎         | 609/20182 [04:42<2:23:33,  2.27it/s]"
          ]
        },
        {
          "metadata": {
            "tags": null
          },
          "name": "stdout",
          "output_type": "stream",
          "text": [
            "Got JSONDecodeError, skipping\n",
            "Error fetching the article: 491\n",
            "Got JSONDecodeError, skipping\n",
            "Error fetching the article: 489Got JSONDecodeError, skipping\n",
            "Error fetching the article: 488\n",
            "\n"
          ]
        },
        {
          "metadata": {
            "tags": null
          },
          "name": "stderr",
          "output_type": "stream",
          "text": [
            "\r  3%|▎         | 610/20182 [04:43<2:20:57,  2.31it/s]"
          ]
        },
        {
          "metadata": {
            "tags": null
          },
          "name": "stdout",
          "output_type": "stream",
          "text": [
            "Got JSONDecodeError, skipping\n",
            "Error fetching the article: 483\n",
            "Got JSONDecodeError, skipping\n",
            "Error fetching the article: 479\n",
            "Got JSONDecodeError, skipping\n",
            "Error fetching the article: 478\n"
          ]
        },
        {
          "metadata": {
            "tags": null
          },
          "name": "stderr",
          "output_type": "stream",
          "text": [
            "\r  3%|▎         | 611/20182 [04:43<2:18:56,  2.35it/s]"
          ]
        },
        {
          "metadata": {
            "tags": null
          },
          "name": "stdout",
          "output_type": "stream",
          "text": [
            "Got JSONDecodeError, skipping\n",
            "Error fetching the article: 470\n",
            "Got JSONDecodeError, skipping\n",
            "Error fetching the article: 468\n",
            "Got JSONDecodeError, skipping\n",
            "Error fetching the article: 471\n"
          ]
        },
        {
          "metadata": {
            "tags": null
          },
          "name": "stderr",
          "output_type": "stream",
          "text": [
            "\r  3%|▎         | 612/20182 [04:43<2:17:26,  2.37it/s]"
          ]
        },
        {
          "metadata": {
            "tags": null
          },
          "name": "stdout",
          "output_type": "stream",
          "text": [
            "Got JSONDecodeError, skipping\n",
            "Error fetching the article: 460\n",
            "Got JSONDecodeError, skipping\n",
            "Error fetching the article: 459\n",
            "Got JSONDecodeError, skipping\n",
            "Error fetching the article: 458\n"
          ]
        },
        {
          "metadata": {
            "tags": null
          },
          "name": "stderr",
          "output_type": "stream",
          "text": [
            "\r  3%|▎         | 613/20182 [04:44<2:19:02,  2.35it/s]"
          ]
        },
        {
          "metadata": {
            "tags": null
          },
          "name": "stdout",
          "output_type": "stream",
          "text": [
            "Got JSONDecodeError, skippingGot JSONDecodeError, skipping\n",
            "\n",
            "Error fetching the article: 448\n",
            "Error fetching the article: 449\n",
            "Got JSONDecodeError, skipping\n",
            "Error fetching the article: 450\n"
          ]
        },
        {
          "metadata": {
            "tags": null
          },
          "name": "stderr",
          "output_type": "stream",
          "text": [
            "\r  3%|▎         | 614/20182 [04:44<2:17:56,  2.36it/s]"
          ]
        },
        {
          "metadata": {
            "tags": null
          },
          "name": "stdout",
          "output_type": "stream",
          "text": [
            "Got JSONDecodeError, skipping\n",
            "Error fetching the article: 443\n",
            "Got JSONDecodeError, skipping\n",
            "Got JSONDecodeError, skipping\n",
            "Error fetching the article: 439\n",
            "Error fetching the article: 438\n"
          ]
        },
        {
          "metadata": {
            "tags": null
          },
          "name": "stderr",
          "output_type": "stream",
          "text": [
            "\r  3%|▎         | 615/20182 [04:45<2:17:55,  2.36it/s]"
          ]
        },
        {
          "metadata": {
            "tags": null
          },
          "name": "stdout",
          "output_type": "stream",
          "text": [
            "Got JSONDecodeError, skipping\n",
            "Error fetching the article: Japansk yen\n",
            "Got JSONDecodeError, skipping\n",
            "Error fetching the article: 432\n",
            "Got JSONDecodeError, skipping\n",
            "Error fetching the article: 434\n"
          ]
        },
        {
          "metadata": {
            "tags": null
          },
          "name": "stderr",
          "output_type": "stream",
          "text": [
            "\r  3%|▎         | 616/20182 [04:45<2:17:16,  2.38it/s]"
          ]
        },
        {
          "metadata": {
            "tags": null
          },
          "name": "stdout",
          "output_type": "stream",
          "text": [
            "Got JSONDecodeError, skipping\n",
            "Error fetching the article: 427\n",
            "Got JSONDecodeError, skipping\n",
            "Error fetching the article: 416\n"
          ]
        },
        {
          "metadata": {
            "tags": null
          },
          "name": "stderr",
          "output_type": "stream",
          "text": [
            "\r  3%|▎         | 617/20182 [04:46<2:18:10,  2.36it/s]"
          ]
        },
        {
          "metadata": {
            "tags": null
          },
          "name": "stdout",
          "output_type": "stream",
          "text": [
            "Got JSONDecodeError, skipping\n",
            "Error fetching the article: 407\n",
            "Got JSONDecodeError, skipping\n",
            "Error fetching the article: 406\n",
            "Got JSONDecodeError, skipping\n",
            "Error fetching the article: 408\n",
            "Got JSONDecodeError, skipping\n",
            "Error fetching the article: 413\n"
          ]
        },
        {
          "metadata": {
            "tags": null
          },
          "name": "stderr",
          "output_type": "stream",
          "text": [
            "\r  3%|▎         | 618/20182 [04:46<2:19:32,  2.34it/s]"
          ]
        },
        {
          "metadata": {
            "tags": null
          },
          "name": "stdout",
          "output_type": "stream",
          "text": [
            "Got JSONDecodeError, skipping\n",
            "Error fetching the article: 397\n",
            "Got JSONDecodeError, skipping\n",
            "Error fetching the article: 396\n",
            "Got JSONDecodeError, skipping\n",
            "Error fetching the article: 399\n",
            "Got JSONDecodeError, skipping\n",
            "Error fetching the article: 400\n"
          ]
        },
        {
          "metadata": {
            "tags": null
          },
          "name": "stderr",
          "output_type": "stream",
          "text": [
            "\r  3%|▎         | 619/20182 [04:46<2:19:04,  2.34it/s]"
          ]
        },
        {
          "metadata": {
            "tags": null
          },
          "name": "stdout",
          "output_type": "stream",
          "text": [
            "Got JSONDecodeError, skipping\n",
            "Got JSONDecodeError, skipping\n",
            "Error fetching the article: 387\n",
            "Error fetching the article: 389Got JSONDecodeError, skipping\n",
            "\n",
            "Error fetching the article: 386\n"
          ]
        },
        {
          "metadata": {
            "tags": null
          },
          "name": "stderr",
          "output_type": "stream",
          "text": [
            "  3%|▎         | 621/20182 [04:47<2:17:14,  2.38it/s]"
          ]
        },
        {
          "metadata": {
            "tags": null
          },
          "name": "stdout",
          "output_type": "stream",
          "text": [
            "Got JSONDecodeError, skippingGot JSONDecodeError, skippingGot JSONDecodeError, skipping\n",
            "Error fetching the article: 382\n",
            "\n",
            "Error fetching the article: 375\n",
            "\n",
            "Error fetching the article: 379\n",
            "Got JSONDecodeError, skipping\n",
            "Error fetching the article: 376\n"
          ]
        },
        {
          "metadata": {
            "tags": null
          },
          "name": "stderr",
          "output_type": "stream",
          "text": [
            "\r  3%|▎         | 622/20182 [04:48<2:19:19,  2.34it/s]"
          ]
        },
        {
          "metadata": {
            "tags": null
          },
          "name": "stdout",
          "output_type": "stream",
          "text": [
            "Got JSONDecodeError, skipping\n",
            "Error fetching the article: 367\n",
            "Got JSONDecodeError, skipping\n",
            "Error fetching the article: 366\n",
            "Got JSONDecodeError, skipping\n",
            "Error fetching the article: 365\n",
            "Got JSONDecodeError, skipping\n",
            "Error fetching the article: 359\n",
            "Got JSONDecodeError, skipping\n",
            "Error fetching the article: 358\n",
            "Got JSONDecodeError, skipping\n",
            "Error fetching the article: 355\n",
            "Got JSONDecodeError, skipping\n",
            "Error fetching the article: 356\n"
          ]
        },
        {
          "metadata": {
            "tags": null
          },
          "name": "stderr",
          "output_type": "stream",
          "text": [
            "\r  3%|▎         | 623/20182 [04:48<2:18:18,  2.36it/s]"
          ]
        },
        {
          "metadata": {
            "tags": null
          },
          "name": "stdout",
          "output_type": "stream",
          "text": [
            "Got JSONDecodeError, skipping\n",
            "Got JSONDecodeError, skipping\n",
            "Error fetching the article: 347\n",
            "Got JSONDecodeError, skipping\n",
            "Error fetching the article: 345\n",
            "Error fetching the article: 344\n"
          ]
        },
        {
          "metadata": {
            "tags": null
          },
          "name": "stderr",
          "output_type": "stream",
          "text": [
            "\r  3%|▎         | 624/20182 [04:49<2:16:40,  2.38it/s]"
          ]
        },
        {
          "metadata": {
            "tags": null
          },
          "name": "stdout",
          "output_type": "stream",
          "text": [
            "Got JSONDecodeError, skippingGot JSONDecodeError, skipping\n",
            "\n",
            "Error fetching the article: 336\n",
            "Error fetching the article: 334\n",
            "Got JSONDecodeError, skipping\n",
            "Error fetching the article: 335\n"
          ]
        },
        {
          "metadata": {
            "tags": null
          },
          "name": "stderr",
          "output_type": "stream",
          "text": [
            "\r  3%|▎         | 625/20182 [04:49<2:16:27,  2.39it/s]"
          ]
        },
        {
          "metadata": {
            "tags": null
          },
          "name": "stdout",
          "output_type": "stream",
          "text": [
            "Got JSONDecodeError, skipping\n",
            "Error fetching the article: 323\n",
            "Got JSONDecodeError, skipping\n",
            "Error fetching the article: 328\n",
            "Got JSONDecodeError, skipping\n",
            "Error fetching the article: 326\n"
          ]
        },
        {
          "metadata": {
            "tags": null
          },
          "name": "stderr",
          "output_type": "stream",
          "text": [
            "\r  3%|▎         | 626/20182 [04:49<2:15:57,  2.40it/s]"
          ]
        },
        {
          "metadata": {
            "tags": null
          },
          "name": "stdout",
          "output_type": "stream",
          "text": [
            "Got JSONDecodeError, skippingGot JSONDecodeError, skipping\n",
            "Error fetching the article: 313\n",
            "\n",
            "Error fetching the article: 314\n",
            "Got JSONDecodeError, skipping\n",
            "Error fetching the article: 315\n"
          ]
        },
        {
          "metadata": {
            "tags": null
          },
          "name": "stderr",
          "output_type": "stream",
          "text": [
            "\r  3%|▎         | 627/20182 [04:50<2:16:01,  2.40it/s]"
          ]
        },
        {
          "metadata": {
            "tags": null
          },
          "name": "stdout",
          "output_type": "stream",
          "text": [
            "Got JSONDecodeError, skipping\n",
            "Error fetching the article: 306Got JSONDecodeError, skipping\n",
            "\n",
            "Error fetching the article: 303Got JSONDecodeError, skipping\n",
            "Error fetching the article: 304\n",
            "\n"
          ]
        },
        {
          "metadata": {
            "tags": null
          },
          "name": "stderr",
          "output_type": "stream",
          "text": [
            "\r  3%|▎         | 628/20182 [04:50<2:15:50,  2.40it/s]"
          ]
        },
        {
          "metadata": {
            "tags": null
          },
          "name": "stdout",
          "output_type": "stream",
          "text": [
            "Got JSONDecodeError, skipping\n",
            "Error fetching the article: 295\n",
            "Got JSONDecodeError, skipping\n",
            "Error fetching the article: 293\n",
            "Got JSONDecodeError, skipping\n",
            "Error fetching the article: 296\n"
          ]
        },
        {
          "metadata": {
            "tags": null
          },
          "name": "stderr",
          "output_type": "stream",
          "text": [
            "\r  3%|▎         | 629/20182 [04:51<2:16:55,  2.38it/s]"
          ]
        },
        {
          "metadata": {
            "tags": null
          },
          "name": "stdout",
          "output_type": "stream",
          "text": [
            "Got JSONDecodeError, skipping\n",
            "Error fetching the article: 284\n",
            "Got JSONDecodeError, skipping\n",
            "Error fetching the article: 286\n",
            "Got JSONDecodeError, skipping\n",
            "Error fetching the article: 283\n"
          ]
        },
        {
          "metadata": {
            "tags": null
          },
          "name": "stderr",
          "output_type": "stream",
          "text": [
            "  3%|▎         | 631/20182 [04:51<2:22:04,  2.29it/s]"
          ]
        },
        {
          "metadata": {
            "tags": null
          },
          "name": "stdout",
          "output_type": "stream",
          "text": [
            "Got JSONDecodeError, skipping\n",
            "Error fetching the article: 275\n"
          ]
        },
        {
          "metadata": {
            "tags": null
          },
          "name": "stderr",
          "output_type": "stream",
          "text": [
            "\r  3%|▎         | 632/20182 [04:52<2:24:37,  2.25it/s]"
          ]
        },
        {
          "metadata": {
            "tags": null
          },
          "name": "stdout",
          "output_type": "stream",
          "text": [
            "Got JSONDecodeError, skipping\n",
            "Error fetching the article: 265\n",
            "Got JSONDecodeError, skipping\n",
            "Error fetching the article: 267\n",
            "Got JSONDecodeError, skipping\n",
            "Error fetching the article: 264\n",
            "Got JSONDecodeError, skipping\n",
            "Error fetching the article: 268\n"
          ]
        },
        {
          "metadata": {
            "tags": null
          },
          "name": "stderr",
          "output_type": "stream",
          "text": [
            "\r  3%|▎         | 633/20182 [04:52<2:27:13,  2.21it/s]"
          ]
        },
        {
          "metadata": {
            "tags": null
          },
          "name": "stdout",
          "output_type": "stream",
          "text": [
            "Got JSONDecodeError, skippingGot JSONDecodeError, skipping\n",
            "Error fetching the article: Franz Vranitzky\n",
            "\n",
            "Error fetching the article: Mynt\n",
            "Got JSONDecodeError, skipping\n",
            "Error fetching the article: Liberia\n",
            "Got JSONDecodeError, skipping\n",
            "Error fetching the article: Emiratarabisk dirham\n",
            "Got JSONDecodeError, skipping\n",
            "Error fetching the article: Algerisk dinar\n"
          ]
        },
        {
          "metadata": {
            "tags": null
          },
          "name": "stderr",
          "output_type": "stream",
          "text": [
            "  3%|▎         | 636/20182 [04:54<2:32:38,  2.13it/s]"
          ]
        },
        {
          "metadata": {
            "tags": null
          },
          "name": "stdout",
          "output_type": "stream",
          "text": [
            "Got JSONDecodeError, skipping\n",
            "Error fetching the article: 252Got JSONDecodeError, skipping\n",
            "Error fetching the article: Alfa og omega\n",
            "\n",
            "Got JSONDecodeError, skipping\n",
            "Error fetching the article: Tjenestenektangrep\n",
            "Got JSONDecodeError, skipping\n",
            "Error fetching the article: United States Natural Law Party\n",
            "Got JSONDecodeError, skipping\n",
            "Error fetching the article: United States Libertarian Party\n"
          ]
        },
        {
          "metadata": {
            "tags": null
          },
          "name": "stderr",
          "output_type": "stream",
          "text": [
            "\r  3%|▎         | 637/20182 [04:54<2:32:55,  2.13it/s]"
          ]
        },
        {
          "metadata": {
            "tags": null
          },
          "name": "stdout",
          "output_type": "stream",
          "text": [
            "Got JSONDecodeError, skipping\n",
            "Error fetching the article: Magnus Carlsen\n",
            "Got JSONDecodeError, skipping\n",
            "Error fetching the article: Norges politiske system\n",
            "Got JSONDecodeError, skipping\n",
            "Error fetching the article: Fetter Anton\n",
            "Got JSONDecodeError, skipping\n",
            "Error fetching the article: Al Taliaferro\n",
            "Got JSONDecodeError, skipping\n",
            "Error fetching the article: BeOS\n"
          ]
        },
        {
          "metadata": {
            "tags": null
          },
          "name": "stderr",
          "output_type": "stream",
          "text": [
            "\r  3%|▎         | 638/20182 [04:55<2:31:53,  2.14it/s]"
          ]
        },
        {
          "metadata": {
            "tags": null
          },
          "name": "stdout",
          "output_type": "stream",
          "text": [
            "Got JSONDecodeError, skipping\n",
            "Error fetching the article: FiatGot JSONDecodeError, skipping\n",
            "Error fetching the article: Daimler Motoren Gesellschaft\n",
            "\n",
            "Got JSONDecodeError, skipping\n",
            "Error fetching the article: Drakme\n"
          ]
        },
        {
          "metadata": {
            "tags": null
          },
          "name": "stderr",
          "output_type": "stream",
          "text": [
            "\r  3%|▎         | 639/20182 [04:55<2:29:21,  2.18it/s]"
          ]
        },
        {
          "metadata": {
            "tags": null
          },
          "name": "stdout",
          "output_type": "stream",
          "text": [
            "Got JSONDecodeError, skipping\n",
            "Error fetching the article: Us3\n",
            "Got JSONDecodeError, skipping\n",
            "Error fetching the article: Norges Fotballforbund\n",
            "Got JSONDecodeError, skipping\n",
            "Error fetching the article: Italiensk lira\n",
            "Got JSONDecodeError, skipping\n",
            "Error fetching the article: Minotti Bøhn\n"
          ]
        },
        {
          "metadata": {
            "tags": null
          },
          "name": "stderr",
          "output_type": "stream",
          "text": [
            "\r  3%|▎         | 640/20182 [04:56<2:29:02,  2.19it/s]"
          ]
        },
        {
          "metadata": {
            "tags": null
          },
          "name": "stdout",
          "output_type": "stream",
          "text": [
            "Got JSONDecodeError, skipping\n",
            "Error fetching the article: Østerriksk schilling\n",
            "Got JSONDecodeError, skippingGot JSONDecodeError, skipping\n",
            "Error fetching the article: Sverre Lie\n",
            "\n",
            "Error fetching the article: Norsk Tjenestemannslag\n"
          ]
        },
        {
          "metadata": {
            "tags": null
          },
          "name": "stderr",
          "output_type": "stream",
          "text": [
            "  3%|▎         | 642/20182 [04:57<2:28:59,  2.19it/s]"
          ]
        },
        {
          "metadata": {
            "tags": null
          },
          "name": "stdout",
          "output_type": "stream",
          "text": [
            "Got JSONDecodeError, skipping\n",
            "Error fetching the article: Oman\n",
            "Got JSONDecodeError, skipping\n",
            "Error fetching the article: Mauritius\n",
            "Got JSONDecodeError, skipping\n",
            "Got JSONDecodeError, skipping\n",
            "Error fetching the article: 243Error fetching the article: 240\n",
            "\n",
            "Got JSONDecodeError, skipping\n",
            "Error fetching the article: 242\n",
            "Got JSONDecodeError, skipping\n",
            "Error fetching the article: 241\n"
          ]
        },
        {
          "metadata": {
            "tags": null
          },
          "name": "stderr",
          "output_type": "stream",
          "text": [
            "\r  3%|▎         | 643/20182 [04:57<2:24:00,  2.26it/s]"
          ]
        },
        {
          "metadata": {
            "tags": null
          },
          "name": "stdout",
          "output_type": "stream",
          "text": [
            "Got JSONDecodeError, skipping\n",
            "Error fetching the article: 230\n",
            "Got JSONDecodeError, skippingGot JSONDecodeError, skipping\n",
            "Error fetching the article: 233\n"
          ]
        },
        {
          "metadata": {
            "tags": null
          },
          "name": "stderr",
          "output_type": "stream",
          "text": [
            "\r  3%|▎         | 644/20182 [04:58<2:26:10,  2.23it/s]"
          ]
        },
        {
          "metadata": {
            "tags": null
          },
          "name": "stdout",
          "output_type": "stream",
          "text": [
            "\n",
            "Error fetching the article: 231\n",
            "Got JSONDecodeError, skipping\n",
            "Error fetching the article: 236\n",
            "Got JSONDecodeError, skippingGot JSONDecodeError, skipping\n",
            "Error fetching the article: 221\n",
            "\n",
            "Error fetching the article: 220\n"
          ]
        },
        {
          "metadata": {
            "tags": null
          },
          "name": "stderr",
          "output_type": "stream",
          "text": [
            "\r  3%|▎         | 645/20182 [04:58<2:24:50,  2.25it/s]"
          ]
        },
        {
          "metadata": {
            "tags": null
          },
          "name": "stdout",
          "output_type": "stream",
          "text": [
            "Got JSONDecodeError, skipping\n",
            "Error fetching the article: 211\n",
            "Got JSONDecodeError, skipping\n",
            "Error fetching the article: 213\n",
            "Got JSONDecodeError, skipping\n",
            "Error fetching the article: 210\n"
          ]
        },
        {
          "metadata": {
            "tags": null
          },
          "name": "stderr",
          "output_type": "stream",
          "text": [
            "\r  3%|▎         | 646/20182 [04:58<2:22:43,  2.28it/s]"
          ]
        },
        {
          "metadata": {
            "tags": null
          },
          "name": "stdout",
          "output_type": "stream",
          "text": [
            "Got JSONDecodeError, skipping\n",
            "Error fetching the article: 200\n",
            "Got JSONDecodeError, skipping\n",
            "Got JSONDecodeError, skippingError fetching the article: 203\n",
            "\n",
            "Error fetching the article: 204\n"
          ]
        },
        {
          "metadata": {
            "tags": null
          },
          "name": "stderr",
          "output_type": "stream",
          "text": [
            "\r  3%|▎         | 647/20182 [04:59<2:21:12,  2.31it/s]"
          ]
        },
        {
          "metadata": {
            "tags": null
          },
          "name": "stdout",
          "output_type": "stream",
          "text": [
            "Got JSONDecodeError, skipping\n",
            "Error fetching the article: 191\n",
            "Got JSONDecodeError, skipping\n",
            "Error fetching the article: 189\n"
          ]
        },
        {
          "metadata": {
            "tags": null
          },
          "name": "stderr",
          "output_type": "stream",
          "text": [
            "\r  3%|▎         | 648/20182 [04:59<2:20:10,  2.32it/s]"
          ]
        },
        {
          "metadata": {
            "tags": null
          },
          "name": "stdout",
          "output_type": "stream",
          "text": [
            "Got JSONDecodeError, skippingGot JSONDecodeError, skipping\n",
            "Error fetching the article: 181\n",
            "Got JSONDecodeError, skipping\n",
            "\n",
            "Error fetching the article: 180Error fetching the article: 179\n",
            "\n",
            "Got JSONDecodeError, skipping\n",
            "Error fetching the article: 182\n"
          ]
        },
        {
          "metadata": {
            "tags": null
          },
          "name": "stderr",
          "output_type": "stream",
          "text": [
            "\r  3%|▎         | 649/20182 [05:00<2:18:40,  2.35it/s]"
          ]
        },
        {
          "metadata": {
            "tags": null
          },
          "name": "stdout",
          "output_type": "stream",
          "text": [
            "Got JSONDecodeError, skipping\n",
            "Error fetching the article: 172\n",
            "Got JSONDecodeError, skippingGot JSONDecodeError, skipping\n",
            "\n",
            "Error fetching the article: 170Error fetching the article: 169\n",
            "\n"
          ]
        },
        {
          "metadata": {
            "tags": null
          },
          "name": "stderr",
          "output_type": "stream",
          "text": [
            "  3%|▎         | 651/20182 [05:01<2:22:57,  2.28it/s]"
          ]
        },
        {
          "metadata": {
            "tags": null
          },
          "name": "stdout",
          "output_type": "stream",
          "text": [
            "Got JSONDecodeError, skipping\n",
            "Error fetching the article: 164\n",
            "Got JSONDecodeError, skipping\n",
            "Error fetching the article: 159\n",
            "Got JSONDecodeError, skipping\n",
            "Error fetching the article: 149\n",
            "Got JSONDecodeError, skipping\n",
            "Error fetching the article: 156\n",
            "Got JSONDecodeError, skipping\n",
            "Error fetching the article: 154\n",
            "Got JSONDecodeError, skipping\n",
            "Error fetching the article: 150\n"
          ]
        },
        {
          "metadata": {
            "tags": null
          },
          "name": "stderr",
          "output_type": "stream",
          "text": [
            "  3%|▎         | 653/20182 [05:01<2:25:18,  2.24it/s]"
          ]
        },
        {
          "metadata": {
            "tags": null
          },
          "name": "stdout",
          "output_type": "stream",
          "text": [
            "Got JSONDecodeError, skippingGot JSONDecodeError, skipping\n",
            "Error fetching the article: 146\n",
            "\n",
            "Error fetching the article: 141\n",
            "Got JSONDecodeError, skipping\n",
            "Error fetching the article: 139\n",
            "Got JSONDecodeError, skipping\n",
            "Error fetching the article: 147\n",
            "Got JSONDecodeError, skipping\n",
            "Error fetching the article: 133\n",
            "Got JSONDecodeError, skipping\n",
            "Error fetching the article: 130\n",
            "Got JSONDecodeError, skipping\n",
            "Error fetching the article: 129\n",
            "Got JSONDecodeError, skipping\n",
            "Error fetching the article: 132\n"
          ]
        },
        {
          "metadata": {
            "tags": null
          },
          "name": "stderr",
          "output_type": "stream",
          "text": [
            "\r  3%|▎         | 654/20182 [05:02<2:26:29,  2.22it/s]"
          ]
        },
        {
          "metadata": {
            "tags": null
          },
          "name": "stdout",
          "output_type": "stream",
          "text": [
            "Got JSONDecodeError, skipping\n",
            "Error fetching the article: 119\n",
            "Got JSONDecodeError, skipping\n",
            "Error fetching the article: 125\n",
            "Got JSONDecodeError, skipping\n",
            "Error fetching the article: 121\n"
          ]
        },
        {
          "metadata": {
            "tags": null
          },
          "name": "stderr",
          "output_type": "stream",
          "text": [
            "  3%|▎         | 656/20182 [05:03<2:27:14,  2.21it/s]"
          ]
        },
        {
          "metadata": {
            "tags": null
          },
          "name": "stdout",
          "output_type": "stream",
          "text": [
            "Got JSONDecodeError, skipping\n",
            "Error fetching the article: 109\n",
            "Got JSONDecodeError, skipping\n",
            "Error fetching the article: 99\n",
            "Got JSONDecodeError, skipping\n",
            "Error fetching the article: 100\n",
            "Got JSONDecodeError, skipping\n",
            "Error fetching the article: 105\n",
            "Got JSONDecodeError, skipping\n",
            "Error fetching the article: 102\n"
          ]
        },
        {
          "metadata": {
            "tags": null
          },
          "name": "stderr",
          "output_type": "stream",
          "text": [
            "  3%|▎         | 658/20182 [05:04<2:28:20,  2.19it/s]"
          ]
        },
        {
          "metadata": {
            "tags": null
          },
          "name": "stdout",
          "output_type": "stream",
          "text": [
            "Got JSONDecodeError, skipping\n",
            "Error fetching the article: 82\n",
            "Got JSONDecodeError, skipping\n",
            "Error fetching the article: 81\n",
            "Got JSONDecodeError, skipping\n",
            "Error fetching the article: 79\n"
          ]
        },
        {
          "metadata": {
            "tags": null
          },
          "name": "stderr",
          "output_type": "stream",
          "text": [
            "\r  3%|▎         | 659/20182 [05:04<2:26:39,  2.22it/s]"
          ]
        },
        {
          "metadata": {
            "tags": null
          },
          "name": "stdout",
          "output_type": "stream",
          "text": [
            "Got JSONDecodeError, skipping\n",
            "Error fetching the article: 80\n"
          ]
        },
        {
          "metadata": {
            "tags": null
          },
          "name": "stderr",
          "output_type": "stream",
          "text": [
            "\r  3%|▎         | 660/20182 [05:05<2:28:21,  2.19it/s]"
          ]
        },
        {
          "metadata": {
            "tags": null
          },
          "name": "stdout",
          "output_type": "stream",
          "text": [
            "Got JSONDecodeError, skipping\n",
            "Error fetching the article: 70\n",
            "Got JSONDecodeError, skipping\n",
            "Error fetching the article: 69\n",
            "Got JSONDecodeError, skipping\n",
            "Error fetching the article: 71\n"
          ]
        },
        {
          "metadata": {
            "tags": null
          },
          "name": "stderr",
          "output_type": "stream",
          "text": [
            "\r  3%|▎         | 661/20182 [05:05<2:30:28,  2.16it/s]"
          ]
        },
        {
          "metadata": {
            "tags": null
          },
          "name": "stdout",
          "output_type": "stream",
          "text": [
            "Got JSONDecodeError, skipping\n",
            "Error fetching the article: 60\n",
            "Got JSONDecodeError, skipping\n",
            "Error fetching the article: 59\n",
            "Got JSONDecodeError, skipping\n",
            "Error fetching the article: 65\n",
            "Got JSONDecodeError, skipping\n",
            "Error fetching the article: 52\n",
            "Got JSONDecodeError, skipping\n",
            "Error fetching the article: 49\n",
            "Got JSONDecodeError, skipping\n",
            "Error fetching the article: 51\n"
          ]
        },
        {
          "metadata": {
            "tags": null
          },
          "name": "stderr",
          "output_type": "stream",
          "text": [
            "\r  3%|▎         | 662/20182 [05:06<2:28:47,  2.19it/s]"
          ]
        },
        {
          "metadata": {
            "tags": null
          },
          "name": "stdout",
          "output_type": "stream",
          "text": [
            "Got JSONDecodeError, skipping\n",
            "Error fetching the article: 40\n",
            "Got JSONDecodeError, skipping\n",
            "Error fetching the article: 41\n"
          ]
        },
        {
          "metadata": {
            "tags": null
          },
          "name": "stderr",
          "output_type": "stream",
          "text": [
            "\r  3%|▎         | 663/20182 [05:06<2:28:14,  2.19it/s]"
          ]
        },
        {
          "metadata": {
            "tags": null
          },
          "name": "stdout",
          "output_type": "stream",
          "text": [
            "Got JSONDecodeError, skipping\n",
            "Error fetching the article: 29\n",
            "Got JSONDecodeError, skipping\n",
            "Error fetching the article: 37\n",
            "Got JSONDecodeError, skipping\n"
          ]
        },
        {
          "metadata": {
            "tags": null
          },
          "name": "stderr",
          "output_type": "stream",
          "text": [
            "\r  3%|▎         | 664/20182 [05:07<2:29:36,  2.17it/s]"
          ]
        },
        {
          "metadata": {
            "tags": null
          },
          "name": "stdout",
          "output_type": "stream",
          "text": [
            "Error fetching the article: 30\n",
            "Got JSONDecodeError, skippingGot JSONDecodeError, skipping\n",
            "\n",
            "Error fetching the article: 18\n",
            "Error fetching the article: 19\n",
            "Got JSONDecodeError, skipping\n",
            "Error fetching the article: 24\n"
          ]
        },
        {
          "metadata": {
            "tags": null
          },
          "name": "stderr",
          "output_type": "stream",
          "text": [
            "\r  3%|▎         | 665/20182 [05:07<2:26:36,  2.22it/s]"
          ]
        },
        {
          "metadata": {
            "tags": null
          },
          "name": "stdout",
          "output_type": "stream",
          "text": [
            "Got JSONDecodeError, skipping\n",
            "Error fetching the article: 10\n",
            "Got JSONDecodeError, skipping\n",
            "Error fetching the article: 8\n"
          ]
        },
        {
          "metadata": {
            "tags": null
          },
          "name": "stderr",
          "output_type": "stream",
          "text": [
            "\r  3%|▎         | 666/20182 [05:07<2:27:39,  2.20it/s]"
          ]
        },
        {
          "metadata": {
            "tags": null
          },
          "name": "stdout",
          "output_type": "stream",
          "text": [
            "Got JSONDecodeError, skipping\n",
            "Error fetching the article: Goethe-Institut\n",
            "Got JSONDecodeError, skipping\n",
            "Error fetching the article: 6\n",
            "Got JSONDecodeError, skipping\n",
            "Error fetching the article: Paul Samuelson\n"
          ]
        },
        {
          "metadata": {
            "tags": null
          },
          "name": "stderr",
          "output_type": "stream",
          "text": [
            "  3%|▎         | 669/20182 [05:09<2:37:38,  2.06it/s]"
          ]
        },
        {
          "metadata": {
            "tags": null
          },
          "name": "stdout",
          "output_type": "stream",
          "text": [
            "Got JSONDecodeError, skipping\n",
            "Error fetching the article: Boris Tadić\n",
            "Got JSONDecodeError, skipping\n",
            "Error fetching the article: Bohêmbud\n",
            "Got JSONDecodeError, skipping\n",
            "Got JSONDecodeError, skipping\n",
            "Error fetching the article: Storfoten\n",
            "Error fetching the article: Lister (Farsunds Avis)\n"
          ]
        },
        {
          "metadata": {
            "tags": null
          },
          "name": "stderr",
          "output_type": "stream",
          "text": [
            "  3%|▎         | 671/20182 [05:10<2:40:41,  2.02it/s]"
          ]
        },
        {
          "metadata": {
            "tags": null
          },
          "name": "stdout",
          "output_type": "stream",
          "text": [
            "Got JSONDecodeError, skipping\n",
            "Error fetching the article: U Thant\n",
            "Got JSONDecodeError, skipping\n",
            "Error fetching the article: Kairo\n"
          ]
        },
        {
          "metadata": {
            "tags": null
          },
          "name": "stderr",
          "output_type": "stream",
          "text": [
            "\r  3%|▎         | 672/20182 [05:10<2:43:54,  1.98it/s]"
          ]
        },
        {
          "metadata": {
            "tags": null
          },
          "name": "stdout",
          "output_type": "stream",
          "text": [
            "Got JSONDecodeError, skipping\n",
            "Error fetching the article: Ejakulasjon\n",
            "Got JSONDecodeError, skipping\n",
            "Error fetching the article: Testikkel\n",
            "Got JSONDecodeError, skipping\n",
            "Error fetching the article: Alexandria\n"
          ]
        },
        {
          "metadata": {
            "tags": null
          },
          "name": "stderr",
          "output_type": "stream",
          "text": [
            "\r  3%|▎         | 673/20182 [05:11<2:42:38,  2.00it/s]"
          ]
        },
        {
          "metadata": {
            "tags": null
          },
          "name": "stdout",
          "output_type": "stream",
          "text": [
            "Got JSONDecodeError, skipping\n",
            "Error fetching the article: NO\n",
            "Got JSONDecodeError, skipping\n",
            "Error fetching the article: FIFA\n"
          ]
        },
        {
          "metadata": {
            "tags": null
          },
          "name": "stderr",
          "output_type": "stream",
          "text": [
            "\r  3%|▎         | 674/20182 [05:12<2:44:20,  1.98it/s]"
          ]
        },
        {
          "metadata": {
            "tags": null
          },
          "name": "stdout",
          "output_type": "stream",
          "text": [
            "Got JSONDecodeError, skipping\n",
            "Error fetching the article: Nicolai Wergeland\n",
            "Got JSONDecodeError, skipping\n",
            "Error fetching the article: Buddhistforbundet\n",
            "Got JSONDecodeError, skipping\n",
            "Error fetching the article: Søvn\n"
          ]
        },
        {
          "metadata": {
            "tags": null
          },
          "name": "stderr",
          "output_type": "stream",
          "text": [
            "  3%|▎         | 676/20182 [05:12<2:37:02,  2.07it/s]"
          ]
        },
        {
          "metadata": {
            "tags": null
          },
          "name": "stdout",
          "output_type": "stream",
          "text": [
            "Got JSONDecodeError, skipping\n",
            "Error fetching the article: 11 f.Kr.\n",
            "Got JSONDecodeError, skipping\n",
            "Error fetching the article: 13 f.Kr.\n",
            "Got JSONDecodeError, skippingGot JSONDecodeError, skipping\n",
            "\n",
            "Error fetching the article: 24 f.Kr.\n",
            "Error fetching the article: 25 f.Kr.\n",
            "Got JSONDecodeError, skipping\n",
            "Error fetching the article: 23 f.Kr.\n",
            "Got JSONDecodeError, skipping\n",
            "Error fetching the article: 21 f.Kr.\n"
          ]
        },
        {
          "metadata": {
            "tags": null
          },
          "name": "stderr",
          "output_type": "stream",
          "text": [
            "  3%|▎         | 678/20182 [05:13<2:26:45,  2.21it/s]"
          ]
        },
        {
          "metadata": {
            "tags": null
          },
          "name": "stdout",
          "output_type": "stream",
          "text": [
            "Got JSONDecodeError, skippingGot JSONDecodeError, skipping\n",
            "Error fetching the article: 35 f.Kr.\n",
            "\n",
            "Error fetching the article: 32 f.Kr.\n",
            "Got JSONDecodeError, skipping\n",
            "Error fetching the article: 31 f.Kr.\n",
            "Got JSONDecodeError, skipping\n",
            "Error fetching the article: 33 f.Kr.\n",
            "Got JSONDecodeError, skipping\n",
            "Error fetching the article: 44 f.Kr.\n",
            "Got JSONDecodeError, skipping\n",
            "Error fetching the article: 43 f.Kr.\n"
          ]
        },
        {
          "metadata": {
            "tags": null
          },
          "name": "stderr",
          "output_type": "stream",
          "text": [
            "\r  3%|▎         | 679/20182 [05:14<2:24:53,  2.24it/s]"
          ]
        },
        {
          "metadata": {
            "tags": null
          },
          "name": "stdout",
          "output_type": "stream",
          "text": [
            "Got JSONDecodeError, skipping\n",
            "Error fetching the article: 45 f.Kr.\n",
            "Got JSONDecodeError, skipping\n",
            "Error fetching the article: 55 f.Kr.\n",
            "Got JSONDecodeError, skippingGot JSONDecodeError, skipping\n",
            "Error fetching the article: 52 f.Kr.\n",
            "\n",
            "Error fetching the article: 54 f.Kr.\n"
          ]
        },
        {
          "metadata": {
            "tags": null
          },
          "name": "stderr",
          "output_type": "stream",
          "text": [
            "\r  3%|▎         | 680/20182 [05:14<2:23:49,  2.26it/s]"
          ]
        },
        {
          "metadata": {
            "tags": null
          },
          "name": "stdout",
          "output_type": "stream",
          "text": [
            "Got JSONDecodeError, skipping\n",
            "Error fetching the article: 65 f.Kr.Got JSONDecodeError, skipping\n",
            "Error fetching the article: 63 f.Kr.\n",
            "\n",
            "Got JSONDecodeError, skipping\n",
            "Error fetching the article: 64 f.Kr.\n",
            "Got JSONDecodeError, skipping\n",
            "Error fetching the article: 61 f.Kr.\n"
          ]
        },
        {
          "metadata": {
            "tags": null
          },
          "name": "stderr",
          "output_type": "stream",
          "text": [
            "\r  3%|▎         | 681/20182 [05:15<2:21:37,  2.29it/s]"
          ]
        },
        {
          "metadata": {
            "tags": null
          },
          "name": "stdout",
          "output_type": "stream",
          "text": [
            "Got JSONDecodeError, skipping\n",
            "Error fetching the article: 72 f.Kr.\n",
            "Got JSONDecodeError, skipping\n",
            "Error fetching the article: 74 f.Kr.\n",
            "Got JSONDecodeError, skipping\n",
            "Error fetching the article: 75 f.Kr.\n"
          ]
        },
        {
          "metadata": {
            "tags": null
          },
          "name": "stderr",
          "output_type": "stream",
          "text": [
            "\r  3%|▎         | 682/20182 [05:15<2:19:55,  2.32it/s]"
          ]
        },
        {
          "metadata": {
            "tags": null
          },
          "name": "stdout",
          "output_type": "stream",
          "text": [
            "Got JSONDecodeError, skipping\n",
            "Error fetching the article: 83 f.Kr.\n",
            "Got JSONDecodeError, skipping\n",
            "Error fetching the article: 84 f.Kr.\n",
            "Got JSONDecodeError, skippingGot JSONDecodeError, skipping\n",
            "Error fetching the article: 82 f.Kr.\n",
            "\n",
            "Error fetching the article: 85 f.Kr.\n"
          ]
        },
        {
          "metadata": {
            "tags": null
          },
          "name": "stderr",
          "output_type": "stream",
          "text": [
            "\r  3%|▎         | 683/20182 [05:15<2:18:16,  2.35it/s]"
          ]
        },
        {
          "metadata": {
            "tags": null
          },
          "name": "stdout",
          "output_type": "stream",
          "text": [
            "Got JSONDecodeError, skippingGot JSONDecodeError, skipping\n",
            "Error fetching the article: 94 f.Kr.\n",
            "\n",
            "Error fetching the article: 93 f.Kr.\n"
          ]
        },
        {
          "metadata": {
            "tags": null
          },
          "name": "stderr",
          "output_type": "stream",
          "text": [
            "  3%|▎         | 685/20182 [05:16<2:22:19,  2.28it/s]"
          ]
        },
        {
          "metadata": {
            "tags": null
          },
          "name": "stdout",
          "output_type": "stream",
          "text": [
            "Got JSONDecodeError, skipping\n",
            "Error fetching the article: 105 f.Kr.\n",
            "Got JSONDecodeError, skipping\n",
            "Error fetching the article: 104 f.Kr.\n",
            "Got JSONDecodeError, skipping\n",
            "Error fetching the article: Jyderup\n",
            "Got JSONDecodeError, skipping\n",
            "Error fetching the article: Fredericia\n"
          ]
        },
        {
          "metadata": {
            "tags": null
          },
          "name": "stderr",
          "output_type": "stream",
          "text": [
            "\r  3%|▎         | 686/20182 [05:17<2:24:21,  2.25it/s]"
          ]
        },
        {
          "metadata": {
            "tags": null
          },
          "name": "stdout",
          "output_type": "stream",
          "text": [
            "Got JSONDecodeError, skipping\n",
            "Error fetching the article: Kolding\n",
            "Got JSONDecodeError, skipping\n",
            "Error fetching the article: Herning\n",
            "Got JSONDecodeError, skipping\n",
            "Error fetching the article: Lolland\n",
            "Got JSONDecodeError, skipping\n",
            "Error fetching the article: Middelfart\n"
          ]
        },
        {
          "metadata": {
            "tags": null
          },
          "name": "stderr",
          "output_type": "stream",
          "text": [
            "  3%|▎         | 688/20182 [05:18<2:31:37,  2.14it/s]"
          ]
        },
        {
          "metadata": {
            "tags": null
          },
          "name": "stdout",
          "output_type": "stream",
          "text": [
            "Got JSONDecodeError, skipping\n",
            "Error fetching the article: Herlufsholm\n",
            "Got JSONDecodeError, skipping\n",
            "Error fetching the article: Vallensbæk\n"
          ]
        },
        {
          "metadata": {
            "tags": null
          },
          "name": "stderr",
          "output_type": "stream",
          "text": [
            "\r  3%|▎         | 689/20182 [05:18<2:29:17,  2.18it/s]"
          ]
        },
        {
          "metadata": {
            "tags": null
          },
          "name": "stdout",
          "output_type": "stream",
          "text": [
            "Got JSONDecodeError, skipping\n",
            "Error fetching the article: Frederiksberg\n",
            "Got JSONDecodeError, skipping\n",
            "Error fetching the article: Assens (by)\n",
            "Got JSONDecodeError, skipping\n",
            "Error fetching the article: Fanø\n",
            "Got JSONDecodeError, skipping\n",
            "Error fetching the article: Thurø\n",
            "Got JSONDecodeError, skipping\n",
            "Error fetching the article: Æbelø\n",
            "Got JSONDecodeError, skipping\n",
            "Error fetching the article: Falster\n"
          ]
        },
        {
          "metadata": {
            "tags": null
          },
          "name": "stderr",
          "output_type": "stream",
          "text": [
            "\r  3%|▎         | 690/20182 [05:19<2:25:52,  2.23it/s]"
          ]
        },
        {
          "metadata": {
            "tags": null
          },
          "name": "stdout",
          "output_type": "stream",
          "text": [
            "Got JSONDecodeError, skipping\n",
            "Error fetching the article: Møn\n",
            "Got JSONDecodeError, skipping\n",
            "Error fetching the article: Georg Simon Ohm\n",
            "Got JSONDecodeError, skipping\n",
            "Error fetching the article: Ohms lov\n"
          ]
        },
        {
          "metadata": {
            "tags": null
          },
          "name": "stderr",
          "output_type": "stream",
          "text": [
            "  3%|▎         | 692/20182 [05:20<2:25:25,  2.23it/s]"
          ]
        },
        {
          "metadata": {
            "tags": null
          },
          "name": "stdout",
          "output_type": "stream",
          "text": [
            "Got JSONDecodeError, skipping\n",
            "Error fetching the article: 2007\n",
            "Got JSONDecodeError, skipping\n",
            "Error fetching the article: Tåsinge\n",
            "Got JSONDecodeError, skipping\n",
            "Error fetching the article: 2006\n",
            "Got JSONDecodeError, skipping\n",
            "Error fetching the article: 2008\n",
            "Got JSONDecodeError, skipping\n",
            "Error fetching the article: Saltholm\n",
            "Got JSONDecodeError, skipping\n",
            "Error fetching the article: Saint Lucia\n",
            "Got JSONDecodeError, skippingGot JSONDecodeError, skipping\n",
            "Error fetching the article: Liter\n",
            "\n",
            "Error fetching the article: Nairobi\n"
          ]
        },
        {
          "metadata": {
            "tags": null
          },
          "name": "stderr",
          "output_type": "stream",
          "text": [
            "\r  3%|▎         | 693/20182 [05:20<2:22:53,  2.27it/s]"
          ]
        },
        {
          "metadata": {
            "tags": null
          },
          "name": "stdout",
          "output_type": "stream",
          "text": [
            "Got KeyError, skipping\n",
            "Error fetching the article: AP (andre betydninger)\n"
          ]
        },
        {
          "metadata": {
            "tags": null
          },
          "name": "stderr",
          "output_type": "stream",
          "text": [
            "\r  3%|▎         | 694/20182 [05:20<2:30:05,  2.16it/s]"
          ]
        },
        {
          "metadata": {
            "tags": null
          },
          "name": "stdout",
          "output_type": "stream",
          "text": [
            "Got JSONDecodeError, skipping\n",
            "Error fetching the article: Kristenrock\n",
            "Got JSONDecodeError, skipping\n",
            "Error fetching the article: Kampsport\n",
            "Got JSONDecodeError, skipping\n",
            "Error fetching the article: Truck driving country\n"
          ]
        },
        {
          "metadata": {
            "tags": null
          },
          "name": "stderr",
          "output_type": "stream",
          "text": [
            "\r  3%|▎         | 695/20182 [05:21<2:26:13,  2.22it/s]"
          ]
        },
        {
          "metadata": {
            "tags": null
          },
          "name": "stdout",
          "output_type": "stream",
          "text": [
            "Got JSONDecodeError, skipping\n",
            "Error fetching the article: Foo Fighters (album)\n",
            "Got JSONDecodeError, skipping\n",
            "Error fetching the article: Tau (tettsted)\n",
            "Got JSONDecodeError, skipping\n",
            "Got JSONDecodeError, skippingError fetching the article: Osvaldo Ardiles\n",
            "\n",
            "Error fetching the article: One by One (album)\n",
            "Got JSONDecodeError, skipping\n",
            "Error fetching the article: Ostrakisme\n",
            "Got JSONDecodeError, skipping\n",
            "Got JSONDecodeError, skipping\n",
            "Error fetching the article: Allehelgensaften\n",
            "Error fetching the article: Mandag\n"
          ]
        },
        {
          "metadata": {
            "tags": null
          },
          "name": "stderr",
          "output_type": "stream",
          "text": [
            "  3%|▎         | 697/20182 [05:22<2:33:32,  2.11it/s]"
          ]
        },
        {
          "metadata": {
            "tags": null
          },
          "name": "stdout",
          "output_type": "stream",
          "text": [
            "Got JSONDecodeError, skippingGot JSONDecodeError, skipping\n",
            "\n",
            "Error fetching the article: Hanja\n",
            "Error fetching the article: Herman Friele\n"
          ]
        },
        {
          "metadata": {
            "tags": null
          },
          "name": "stderr",
          "output_type": "stream",
          "text": [
            "  3%|▎         | 699/20182 [05:23<2:33:05,  2.12it/s]"
          ]
        },
        {
          "metadata": {
            "tags": null
          },
          "name": "stdout",
          "output_type": "stream",
          "text": [
            "Got JSONDecodeError, skippingGot JSONDecodeError, skipping\n",
            "Error fetching the article: Norsk fotball 1940\n",
            "\n",
            "Error fetching the article: Draksten\n",
            "Got JSONDecodeError, skipping\n",
            "Error fetching the article: Kinesiske tegn\n",
            "Got JSONDecodeError, skipping\n",
            "Error fetching the article: Robert Falcon Scott\n",
            "Got JSONDecodeError, skipping\n",
            "Error fetching the article: Alf Prøysen\n",
            "Got JSONDecodeError, skippingGot JSONDecodeError, skipping\n",
            "Error fetching the article: Icewind Dale (videospill)\n",
            "\n",
            "Error fetching the article: Icewind Dale\n"
          ]
        },
        {
          "metadata": {
            "tags": null
          },
          "name": "stderr",
          "output_type": "stream",
          "text": [
            "\r  3%|▎         | 700/20182 [05:23<2:29:10,  2.18it/s]"
          ]
        },
        {
          "metadata": {
            "tags": null
          },
          "name": "stdout",
          "output_type": "stream",
          "text": [
            "Got JSONDecodeError, skipping\n",
            "Error fetching the article: José Manuel Durão Barroso\n",
            "Got JSONDecodeError, skippingGot JSONDecodeError, skipping\n",
            "Error fetching the article: Paul Foot\n",
            "\n",
            "Got JSONDecodeError, skipping\n",
            "Error fetching the article: Oslo universitetssykehus, Aker\n",
            "Error fetching the article: Norsk fotball 1946\n"
          ]
        },
        {
          "metadata": {
            "tags": null
          },
          "name": "stderr",
          "output_type": "stream",
          "text": [
            "  3%|▎         | 704/20182 [05:25<2:31:13,  2.15it/s]"
          ]
        },
        {
          "metadata": {
            "tags": null
          },
          "name": "stdout",
          "output_type": "stream",
          "text": [
            "Got JSONDecodeError, skippingGot JSONDecodeError, skipping\n",
            "Error fetching the article: Hans-Ulrich Rudel\n",
            "\n",
            "Error fetching the article: Hofburg\n",
            "Got JSONDecodeError, skipping\n",
            "Error fetching the article: Erich Kästner\n",
            "Got JSONDecodeError, skipping\n",
            "Error fetching the article: Lokalavisa NordSalten\n",
            "Got JSONDecodeError, skippingGot JSONDecodeError, skipping\n",
            "\n",
            "Error fetching the article: HoniaraError fetching the article: Salvador Allende\n",
            "\n"
          ]
        },
        {
          "metadata": {
            "tags": null
          },
          "name": "stderr",
          "output_type": "stream",
          "text": [
            "\r  3%|▎         | 705/20182 [05:26<2:27:46,  2.20it/s]"
          ]
        },
        {
          "metadata": {
            "tags": null
          },
          "name": "stdout",
          "output_type": "stream",
          "text": [
            "Got JSONDecodeError, skippingGot JSONDecodeError, skipping\n",
            "Error fetching the article: Seoul\n",
            "\n",
            "Error fetching the article: Mumbai\n"
          ]
        },
        {
          "metadata": {
            "tags": null
          },
          "name": "stderr",
          "output_type": "stream",
          "text": [
            "  4%|▎         | 707/20182 [05:27<2:34:35,  2.10it/s]"
          ]
        },
        {
          "metadata": {
            "tags": null
          },
          "name": "stdout",
          "output_type": "stream",
          "text": [
            "Got JSONDecodeError, skipping\n",
            "Error fetching the article: Istanbul\n"
          ]
        },
        {
          "metadata": {
            "tags": null
          },
          "name": "stderr",
          "output_type": "stream",
          "text": [
            "\r  4%|▎         | 708/20182 [05:27<2:36:52,  2.07it/s]"
          ]
        },
        {
          "metadata": {
            "tags": null
          },
          "name": "stdout",
          "output_type": "stream",
          "text": [
            "Got JSONDecodeError, skippingGot JSONDecodeError, skipping\n",
            "Error fetching the article: Alexander von Humboldt\n",
            "\n",
            "Error fetching the article: Vy\n",
            "Got JSONDecodeError, skipping\n",
            "Error fetching the article: Isabel Allende\n",
            "Got JSONDecodeError, skipping\n",
            "Error fetching the article: Gråkallbanen\n",
            "Got JSONDecodeError, skipping\n",
            "Error fetching the article: Skrivebordsmiljø\n",
            "Got JSONDecodeError, skipping\n",
            "Error fetching the article: Ferdinand de Lesseps\n",
            "Got JSONDecodeError, skipping\n",
            "Error fetching the article: Daniel Cohn-Bendit\n"
          ]
        },
        {
          "metadata": {
            "tags": null
          },
          "name": "stderr",
          "output_type": "stream",
          "text": [
            "\r  4%|▎         | 709/20182 [05:28<2:37:26,  2.06it/s]"
          ]
        },
        {
          "metadata": {
            "tags": null
          },
          "name": "stdout",
          "output_type": "stream",
          "text": [
            "Got JSONDecodeError, skipping\n",
            "Error fetching the article: Vy Buss\n",
            "Got JSONDecodeError, skipping\n",
            "Error fetching the article: Jernbaneverket\n",
            "Got JSONDecodeError, skipping\n",
            "Error fetching the article: Andrew Carnegie\n"
          ]
        },
        {
          "metadata": {
            "tags": null
          },
          "name": "stderr",
          "output_type": "stream",
          "text": [
            "\r  4%|▎         | 710/20182 [05:28<2:35:45,  2.08it/s]"
          ]
        },
        {
          "metadata": {
            "tags": null
          },
          "name": "stdout",
          "output_type": "stream",
          "text": [
            "Got JSONDecodeError, skipping\n",
            "Error fetching the article: Paul Martin\n",
            "Got JSONDecodeError, skipping\n",
            "Error fetching the article: Økokrim\n"
          ]
        },
        {
          "metadata": {
            "tags": null
          },
          "name": "stderr",
          "output_type": "stream",
          "text": [
            "  4%|▎         | 712/20182 [05:29<2:36:50,  2.07it/s]"
          ]
        },
        {
          "metadata": {
            "tags": null
          },
          "name": "stdout",
          "output_type": "stream",
          "text": [
            "Got JSONDecodeError, skipping\n",
            "Error fetching the article: Sør\n",
            "Got JSONDecodeError, skipping\n",
            "Error fetching the article: Nord\n",
            "Got JSONDecodeError, skipping\n",
            "Error fetching the article: Øst\n",
            "Got JSONDecodeError, skipping\n",
            "Error fetching the article: Christian de Meza\n",
            "Got JSONDecodeError, skipping\n",
            "Error fetching the article: Gilleleje\n"
          ]
        },
        {
          "metadata": {
            "tags": null
          },
          "name": "stderr",
          "output_type": "stream",
          "text": [
            "  4%|▎         | 715/20182 [05:31<2:38:00,  2.05it/s]"
          ]
        },
        {
          "metadata": {
            "tags": null
          },
          "name": "stdout",
          "output_type": "stream",
          "text": [
            "Got JSONDecodeError, skippingGot JSONDecodeError, skipping\n",
            "Error fetching the article: Biskop\n",
            "\n",
            "Error fetching the article: Liverpool FC\n",
            "Got JSONDecodeError, skipping\n",
            "Error fetching the article: Hanshan (dikter)\n",
            "Got JSONDecodeError, skipping\n",
            "Error fetching the article: Praktketsal\n",
            "Got JSONDecodeError, skipping\n",
            "Error fetching the article: Wikibøker\n",
            "Got JSONDecodeError, skipping\n",
            "Got JSONDecodeError, skipping\n",
            "Error fetching the article: Johan Halvorsen\n",
            "Error fetching the article: Storebælt\n"
          ]
        },
        {
          "metadata": {
            "tags": null
          },
          "name": "stderr",
          "output_type": "stream",
          "text": [
            "\r  4%|▎         | 716/20182 [05:31<2:31:34,  2.14it/s]"
          ]
        },
        {
          "metadata": {
            "tags": null
          },
          "name": "stdout",
          "output_type": "stream",
          "text": [
            "Got JSONDecodeError, skipping\n",
            "Error fetching the article: Ulver (band)\n",
            "Got JSONDecodeError, skipping\n",
            "Error fetching the article: Aleister Crowley\n"
          ]
        },
        {
          "metadata": {
            "tags": null
          },
          "name": "stderr",
          "output_type": "stream",
          "text": [
            "\r  4%|▎         | 717/20182 [05:31<2:36:29,  2.07it/s]"
          ]
        },
        {
          "metadata": {
            "tags": null
          },
          "name": "stdout",
          "output_type": "stream",
          "text": [
            "Got JSONDecodeError, skipping\n",
            "Error fetching the article: Wales\n",
            "Got JSONDecodeError, skipping\n",
            "Error fetching the article: Henri Cartier-Bresson\n",
            "Got JSONDecodeError, skipping\n",
            "Error fetching the article: Adolphe Sax\n",
            "Got JSONDecodeError, skipping\n",
            "Error fetching the article: Korsika\n"
          ]
        },
        {
          "metadata": {
            "tags": null
          },
          "name": "stderr",
          "output_type": "stream",
          "text": [
            "  4%|▎         | 719/20182 [05:32<2:33:12,  2.12it/s]"
          ]
        },
        {
          "metadata": {
            "tags": null
          },
          "name": "stdout",
          "output_type": "stream",
          "text": [
            "Got JSONDecodeError, skipping\n",
            "Error fetching the article: Holurtfamilien\n",
            "Got JSONDecodeError, skipping\n",
            "Error fetching the article: Solrosefamilien\n",
            "Got JSONDecodeError, skipping\n",
            "Error fetching the article: Frankeniafamilien\n",
            "Got JSONDecodeError, skipping\n",
            "Error fetching the article: Nantes\n",
            "Got JSONDecodeError, skipping\n",
            "Error fetching the article: Lydia\n",
            "Got JSONDecodeError, skipping\n",
            "Error fetching the article: Elam\n",
            "Got JSONDecodeError, skipping\n",
            "Error fetching the article: Leeds\n"
          ]
        },
        {
          "metadata": {
            "tags": null
          },
          "name": "stderr",
          "output_type": "stream",
          "text": [
            "\r  4%|▎         | 720/20182 [05:33<2:31:29,  2.14it/s]"
          ]
        },
        {
          "metadata": {
            "tags": null
          },
          "name": "stdout",
          "output_type": "stream",
          "text": [
            "Got PageErrors, skipping\n",
            "Error fetching the article: Sør-Georgia og Sør-Sandwichøyene\n"
          ]
        },
        {
          "metadata": {
            "tags": null
          },
          "name": "stderr",
          "output_type": "stream",
          "text": [
            "\r  4%|▎         | 721/20182 [05:33<2:31:20,  2.14it/s]"
          ]
        },
        {
          "metadata": {
            "tags": null
          },
          "name": "stdout",
          "output_type": "stream",
          "text": [
            "Got JSONDecodeError, skippingGot JSONDecodeError, skipping\n",
            "\n",
            "Error fetching the article: Forsvarets OverkommandoError fetching the article: Mysia\n",
            "\n",
            "Got JSONDecodeError, skipping\n",
            "Error fetching the article: Særskriving\n",
            "Got JSONDecodeError, skipping\n",
            "Error fetching the article: Stavne\n",
            "Got JSONDecodeError, skipping\n",
            "Error fetching the article: Lektor\n"
          ]
        },
        {
          "metadata": {
            "tags": null
          },
          "name": "stderr",
          "output_type": "stream",
          "text": [
            "  4%|▎         | 723/20182 [05:34<2:39:56,  2.03it/s]"
          ]
        },
        {
          "metadata": {
            "tags": null
          },
          "name": "stdout",
          "output_type": "stream",
          "text": [
            "Got JSONDecodeError, skipping\n",
            "Error fetching the article: Sumer\n"
          ]
        },
        {
          "metadata": {
            "tags": null
          },
          "name": "stderr",
          "output_type": "stream",
          "text": [
            "  4%|▎         | 725/20182 [05:35<2:34:31,  2.10it/s]"
          ]
        },
        {
          "metadata": {
            "tags": null
          },
          "name": "stdout",
          "output_type": "stream",
          "text": [
            "Got JSONDecodeError, skipping\n",
            "Error fetching the article: Hanna Kvanmo\n",
            "Got JSONDecodeError, skipping\n",
            "Error fetching the article: Franz von Papen\n",
            "Got JSONDecodeError, skipping\n",
            "Error fetching the article: Ulysses S. Grant\n",
            "Got JSONDecodeError, skipping\n",
            "Error fetching the article: Graben\n",
            "Got JSONDecodeError, skipping\n",
            "Error fetching the article: Beothuk\n",
            "Got JSONDecodeError, skipping\n",
            "Error fetching the article: Halifax (Nova Scotia)\n"
          ]
        },
        {
          "metadata": {
            "tags": null
          },
          "name": "stderr",
          "output_type": "stream",
          "text": [
            "\r  4%|▎         | 726/20182 [05:36<2:29:35,  2.17it/s]"
          ]
        },
        {
          "metadata": {
            "tags": null
          },
          "name": "stdout",
          "output_type": "stream",
          "text": [
            "Got JSONDecodeError, skipping\n",
            "Error fetching the article: CSU (andre betydninger)\n"
          ]
        },
        {
          "metadata": {
            "tags": null
          },
          "name": "stderr",
          "output_type": "stream",
          "text": [
            "\r  4%|▎         | 727/20182 [05:36<2:36:53,  2.07it/s]"
          ]
        },
        {
          "metadata": {
            "tags": null
          },
          "name": "stdout",
          "output_type": "stream",
          "text": [
            "Got JSONDecodeError, skipping\n",
            "Error fetching the article: Helikopter\n"
          ]
        },
        {
          "metadata": {
            "tags": null
          },
          "name": "stderr",
          "output_type": "stream",
          "text": [
            "\r  4%|▎         | 728/20182 [05:37<2:35:03,  2.09it/s]"
          ]
        },
        {
          "metadata": {
            "tags": null
          },
          "name": "stdout",
          "output_type": "stream",
          "text": [
            "Got JSONDecodeError, skipping\n",
            "Got JSONDecodeError, skipping\n",
            "Error fetching the article: Jotunheim\n",
            "Error fetching the article: Frøy\n",
            "Got JSONDecodeError, skippingGot JSONDecodeError, skipping\n",
            "Error fetching the article: H.C. Andersen\n",
            "Error fetching the article: Lego\n",
            "\n",
            "Got JSONDecodeError, skipping\n",
            "Error fetching the article: Den katolske kirke\n"
          ]
        },
        {
          "metadata": {
            "tags": null
          },
          "name": "stderr",
          "output_type": "stream",
          "text": [
            "\r  4%|▎         | 729/20182 [05:37<2:31:03,  2.15it/s]"
          ]
        },
        {
          "metadata": {
            "tags": null
          },
          "name": "stdout",
          "output_type": "stream",
          "text": [
            "Got JSONDecodeError, skippingGot JSONDecodeError, skipping\n",
            "Error fetching the article: Sonja Henie\n",
            "\n",
            "Error fetching the article: Normaintcoy\n",
            "Got JSONDecodeError, skipping\n",
            "Error fetching the article: Liste over paver\n",
            "Got JSONDecodeError, skipping\n",
            "Error fetching the article: Stormposten\n"
          ]
        },
        {
          "metadata": {
            "tags": null
          },
          "name": "stderr",
          "output_type": "stream",
          "text": [
            "\r  4%|▎         | 730/20182 [05:38<2:31:26,  2.14it/s]"
          ]
        },
        {
          "metadata": {
            "tags": null
          },
          "name": "stdout",
          "output_type": "stream",
          "text": [
            "Got JSONDecodeError, skippingGot JSONDecodeError, skipping\n",
            "Error fetching the article: Jippi forlag\n",
            "\n",
            "Error fetching the article: Jason\n",
            "Got JSONDecodeError, skipping\n",
            "Error fetching the article: Bille August\n"
          ]
        },
        {
          "metadata": {
            "tags": null
          },
          "name": "stderr",
          "output_type": "stream",
          "text": [
            "  4%|▎         | 732/20182 [05:39<2:29:28,  2.17it/s]"
          ]
        },
        {
          "metadata": {
            "tags": null
          },
          "name": "stdout",
          "output_type": "stream",
          "text": [
            "Got JSONDecodeError, skipping\n",
            "Error fetching the article: Stod\n",
            "Got JSONDecodeError, skipping\n",
            "Error fetching the article: Snåsavatnet\n",
            "Got JSONDecodeError, skipping\n",
            "Error fetching the article: Illyricum\n",
            "Got JSONDecodeError, skipping\n",
            "Error fetching the article: Gorgonzola\n"
          ]
        },
        {
          "metadata": {
            "tags": null
          },
          "name": "stderr",
          "output_type": "stream",
          "text": [
            "\r  4%|▎         | 733/20182 [05:39<2:28:00,  2.19it/s]"
          ]
        },
        {
          "metadata": {
            "tags": null
          },
          "name": "stdout",
          "output_type": "stream",
          "text": [
            "Got JSONDecodeError, skipping\n",
            "Error fetching the article: Tegneserie\n",
            "Got JSONDecodeError, skipping\n",
            "Error fetching the article: Hugo Chávez\n",
            "Got JSONDecodeError, skipping\n",
            "Error fetching the article: SquireGot JSONDecodeError, skipping\n",
            "Error fetching the article: MITR-3\n",
            "\n",
            "Got JSONDecodeError, skippingGot JSONDecodeError, skipping\n",
            "\n",
            "Error fetching the article: GrenlandError fetching the article: Jan Mayen radio\n",
            "\n",
            "Got JSONDecodeError, skipping\n",
            "Error fetching the article: Den røde plass\n"
          ]
        },
        {
          "metadata": {
            "tags": null
          },
          "name": "stderr",
          "output_type": "stream",
          "text": [
            "\r  4%|▎         | 734/20182 [05:39<2:25:18,  2.23it/s]"
          ]
        },
        {
          "metadata": {
            "tags": null
          },
          "name": "stdout",
          "output_type": "stream",
          "text": [
            "Got JSONDecodeError, skipping\n",
            "Error fetching the article: Vinter-OL 1994\n",
            "Got JSONDecodeError, skipping\n",
            "Error fetching the article: Skipsradiotelegrafistsertifikat\n",
            "Got JSONDecodeError, skipping\n",
            "Error fetching the article: Vinter-OL 1988\n"
          ]
        },
        {
          "metadata": {
            "tags": null
          },
          "name": "stderr",
          "output_type": "stream",
          "text": [
            "\r  4%|▎         | 735/20182 [05:40<2:22:05,  2.28it/s]"
          ]
        },
        {
          "metadata": {
            "tags": null
          },
          "name": "stdout",
          "output_type": "stream",
          "text": [
            "Got JSONDecodeError, skipping\n",
            "Error fetching the article: Turkmenistan\n",
            "Got JSONDecodeError, skipping\n",
            "Error fetching the article: SingaporeGot JSONDecodeError, skipping\n",
            "\n",
            "Error fetching the article: Ian Thorpe\n",
            "Got JSONDecodeError, skipping\n",
            "Error fetching the article: Albumin\n"
          ]
        },
        {
          "metadata": {
            "tags": null
          },
          "name": "stderr",
          "output_type": "stream",
          "text": [
            "  4%|▎         | 737/20182 [05:41<2:30:01,  2.16it/s]"
          ]
        },
        {
          "metadata": {
            "tags": null
          },
          "name": "stdout",
          "output_type": "stream",
          "text": [
            "Got JSONDecodeError, skipping\n",
            "Error fetching the article: Trondheimstegnerne\n",
            "Got JSONDecodeError, skipping\n",
            "Error fetching the article: Folkeavstemninger i Norge\n"
          ]
        },
        {
          "metadata": {
            "tags": null
          },
          "name": "stderr",
          "output_type": "stream",
          "text": [
            "\r  4%|▎         | 738/20182 [05:41<2:33:09,  2.12it/s]"
          ]
        },
        {
          "metadata": {
            "tags": null
          },
          "name": "stdout",
          "output_type": "stream",
          "text": [
            "Got JSONDecodeError, skipping\n",
            "Error fetching the article: Tista\n",
            "Got JSONDecodeError, skipping\n",
            "Error fetching the article: Selvstendig næringsdrivende\n"
          ]
        },
        {
          "metadata": {
            "tags": null
          },
          "name": "stderr",
          "output_type": "stream",
          "text": [
            "  4%|▎         | 741/20182 [05:43<2:39:48,  2.03it/s]"
          ]
        },
        {
          "metadata": {
            "tags": null
          },
          "name": "stdout",
          "output_type": "stream",
          "text": [
            "Got JSONDecodeError, skipping\n",
            "Error fetching the article: Watt\n",
            "Got JSONDecodeError, skipping\n",
            "Error fetching the article: Honningsvåg\n",
            "Got JSONDecodeError, skipping\n",
            "Error fetching the article: Telefoni\n",
            "Got JSONDecodeError, skipping\n",
            "Error fetching the article: Rosemarie Köhn\n",
            "Got JSONDecodeError, skipping\n",
            "Error fetching the article: Leah RabinGot JSONDecodeError, skipping\n",
            "Error fetching the article: Nødmelding\n",
            "\n"
          ]
        },
        {
          "metadata": {
            "tags": null
          },
          "name": "stderr",
          "output_type": "stream",
          "text": [
            "\r  4%|▎         | 742/20182 [05:43<2:32:49,  2.12it/s]"
          ]
        },
        {
          "metadata": {
            "tags": null
          },
          "name": "stdout",
          "output_type": "stream",
          "text": [
            "Got JSONDecodeError, skipping\n",
            "Error fetching the article: Radiostasjon\n",
            "Got JSONDecodeError, skipping\n",
            "Error fetching the article: AK\n",
            "Got JSONDecodeError, skipping\n",
            "Error fetching the article: Privatradio\n"
          ]
        },
        {
          "metadata": {
            "tags": null
          },
          "name": "stderr",
          "output_type": "stream",
          "text": [
            "\r  4%|▎         | 743/20182 [05:44<2:28:34,  2.18it/s]"
          ]
        },
        {
          "metadata": {
            "tags": null
          },
          "name": "stdout",
          "output_type": "stream",
          "text": [
            "Got JSONDecodeError, skippingGot JSONDecodeError, skipping\n",
            "Error fetching the article: Sean Connery\n",
            "\n",
            "Error fetching the article: Tistedalen\n",
            "Got JSONDecodeError, skipping\n",
            "Error fetching the article: Råholt\n"
          ]
        },
        {
          "metadata": {
            "tags": null
          },
          "name": "stderr",
          "output_type": "stream",
          "text": [
            "  4%|▎         | 746/20182 [05:45<2:34:43,  2.09it/s]"
          ]
        },
        {
          "metadata": {
            "tags": null
          },
          "name": "stdout",
          "output_type": "stream",
          "text": [
            "Got JSONDecodeError, skipping\n",
            "Error fetching the article: Offiser\n",
            "Got JSONDecodeError, skippingGot JSONDecodeError, skipping\n",
            "Error fetching the article: Herkules (film)\n",
            "\n",
            "Error fetching the article: Spiere-Helkijn\n",
            "Got JSONDecodeError, skipping\n",
            "Error fetching the article: Zwevegem\n",
            "Got JSONDecodeError, skipping\n",
            "Error fetching the article: Guy Verhofstadt\n",
            "Got JSONDecodeError, skipping\n",
            "Error fetching the article: Den guddommelige komedie\n",
            "Got JSONDecodeError, skipping\n",
            "Error fetching the article: Sex Pistols\n"
          ]
        },
        {
          "metadata": {
            "tags": null
          },
          "name": "stderr",
          "output_type": "stream",
          "text": [
            "  4%|▎         | 749/20182 [05:47<2:44:52,  1.96it/s]"
          ]
        },
        {
          "metadata": {
            "tags": null
          },
          "name": "stdout",
          "output_type": "stream",
          "text": [
            "Got JSONDecodeError, skippingGot JSONDecodeError, skipping\n",
            "Error fetching the article: Raufoss\n",
            "Error fetching the article: Karl IV\n",
            "\n"
          ]
        },
        {
          "metadata": {
            "tags": null
          },
          "name": "stderr",
          "output_type": "stream",
          "text": [
            "\r  4%|▎         | 750/20182 [05:47<2:39:49,  2.03it/s]"
          ]
        },
        {
          "metadata": {
            "tags": null
          },
          "name": "stdout",
          "output_type": "stream",
          "text": [
            "Got JSONDecodeError, skipping\n",
            "Error fetching the article: Husøkonom\n"
          ]
        },
        {
          "metadata": {
            "tags": null
          },
          "name": "stderr",
          "output_type": "stream",
          "text": [
            "\r  4%|▎         | 751/20182 [05:48<2:43:32,  1.98it/s]"
          ]
        },
        {
          "metadata": {
            "tags": null
          },
          "name": "stdout",
          "output_type": "stream",
          "text": [
            "Got JSONDecodeError, skipping\n",
            "Error fetching the article: Lusitania\n"
          ]
        },
        {
          "metadata": {
            "tags": null
          },
          "name": "stderr",
          "output_type": "stream",
          "text": [
            "\r  4%|▎         | 752/20182 [05:48<2:40:17,  2.02it/s]"
          ]
        },
        {
          "metadata": {
            "tags": null
          },
          "name": "stdout",
          "output_type": "stream",
          "text": [
            "Got JSONDecodeError, skipping\n",
            "Error fetching the article: Fiskevollen\n",
            "Got JSONDecodeError, skipping\n",
            "Error fetching the article: Sølen\n"
          ]
        },
        {
          "metadata": {
            "tags": null
          },
          "name": "stderr",
          "output_type": "stream",
          "text": [
            "\r  4%|▎         | 753/20182 [05:49<2:35:40,  2.08it/s]"
          ]
        },
        {
          "metadata": {
            "tags": null
          },
          "name": "stdout",
          "output_type": "stream",
          "text": [
            "Got JSONDecodeError, skipping\n",
            "Error fetching the article: Interjeksjon\n",
            "Got JSONDecodeError, skipping\n",
            "Got JSONDecodeError, skipping\n",
            "Error fetching the article: KontinentError fetching the article: Korrupsjon\n",
            "\n",
            "Got JSONDecodeError, skipping\n",
            "Error fetching the article: Bydel Østensjø\n",
            "Got JSONDecodeError, skipping\n",
            "Error fetching the article: Catalonia\n",
            "Got JSONDecodeError, skippingGot JSONDecodeError, skipping\n",
            "\n",
            "Error fetching the article: Øst-EuropaError fetching the article: Vest-Europa\n",
            "\n"
          ]
        },
        {
          "metadata": {
            "tags": null
          },
          "name": "stderr",
          "output_type": "stream",
          "text": [
            "  4%|▎         | 755/20182 [05:50<2:43:10,  1.98it/s]"
          ]
        },
        {
          "metadata": {
            "tags": null
          },
          "name": "stdout",
          "output_type": "stream",
          "text": [
            "Got JSONDecodeError, skipping\n",
            "Error fetching the article: Varmekraftmaskin\n",
            "Got JSONDecodeError, skipping\n",
            "Error fetching the article: 2012\n"
          ]
        },
        {
          "metadata": {
            "tags": null
          },
          "name": "stderr",
          "output_type": "stream",
          "text": [
            "\r  4%|▎         | 756/20182 [05:50<2:38:21,  2.04it/s]"
          ]
        },
        {
          "metadata": {
            "tags": null
          },
          "name": "stdout",
          "output_type": "stream",
          "text": [
            "Got JSONDecodeError, skipping\n",
            "Error fetching the article: 2021\n",
            "Got JSONDecodeError, skipping\n",
            "Error fetching the article: 2022\n",
            "Got JSONDecodeError, skipping\n",
            "Error fetching the article: Lyttevakt\n",
            "Got JSONDecodeError, skippingGot JSONDecodeError, skipping\n",
            "\n",
            "Error fetching the article: Kongsberg Sølvverk\n",
            "Error fetching the article: Gruppen til familiens selvstendige rett\n"
          ]
        },
        {
          "metadata": {
            "tags": null
          },
          "name": "stderr",
          "output_type": "stream",
          "text": [
            "  4%|▍         | 758/20182 [05:51<2:39:00,  2.04it/s]"
          ]
        },
        {
          "metadata": {
            "tags": null
          },
          "name": "stdout",
          "output_type": "stream",
          "text": [
            "Got JSONDecodeError, skipping\n",
            "Error fetching the article: Radiofrekvens\n",
            "Got JSONDecodeError, skipping\n",
            "Error fetching the article: Augustus (tittel)\n"
          ]
        },
        {
          "metadata": {
            "tags": null
          },
          "name": "stderr",
          "output_type": "stream",
          "text": [
            "  4%|▍         | 762/20182 [05:53<2:44:00,  1.97it/s]"
          ]
        },
        {
          "metadata": {
            "tags": null
          },
          "name": "stdout",
          "output_type": "stream",
          "text": [
            "Got JSONDecodeError, skipping\n",
            "Error fetching the article: Athens historie\n",
            "Got JSONDecodeError, skipping\n",
            "Error fetching the article: Preposisjon\n",
            "Got JSONDecodeError, skipping\n",
            "Error fetching the article: Skirnismål\n"
          ]
        },
        {
          "metadata": {
            "tags": null
          },
          "name": "stderr",
          "output_type": "stream",
          "text": [
            "  4%|▍         | 766/20182 [05:55<2:48:42,  1.92it/s]"
          ]
        },
        {
          "metadata": {
            "tags": null
          },
          "name": "stdout",
          "output_type": "stream",
          "text": [
            "Got JSONDecodeError, skipping\n",
            "Error fetching the article: Japans prefekturer\n",
            "Got JSONDecodeError, skipping\n",
            "Error fetching the article: Spirit\n",
            "Got JSONDecodeError, skipping\n",
            "Error fetching the article: The Spirit\n"
          ]
        },
        {
          "metadata": {
            "tags": null
          },
          "name": "stderr",
          "output_type": "stream",
          "text": [
            "  4%|▍         | 768/20182 [05:56<2:40:33,  2.02it/s]"
          ]
        },
        {
          "metadata": {
            "tags": null
          },
          "name": "stdout",
          "output_type": "stream",
          "text": [
            "Got JSONDecodeError, skipping\n",
            "Error fetching the article: Alexander Graham Bell\n",
            "Got JSONDecodeError, skipping\n",
            "Got JSONDecodeError, skipping\n",
            "Error fetching the article: Westwind forlagError fetching the article: Balder\n",
            "\n",
            "Got JSONDecodeError, skipping\n",
            "Error fetching the article: Skanderbeg\n",
            "Got JSONDecodeError, skipping\n",
            "Error fetching the article: Luftfartsverket (Norge)\n"
          ]
        },
        {
          "metadata": {
            "tags": null
          },
          "name": "stderr",
          "output_type": "stream",
          "text": [
            "\r  4%|▍         | 769/20182 [05:57<2:45:29,  1.96it/s]"
          ]
        },
        {
          "metadata": {
            "tags": null
          },
          "name": "stdout",
          "output_type": "stream",
          "text": [
            "Got JSONDecodeError, skippingGot JSONDecodeError, skipping\n",
            "Error fetching the article: Honoré de Balzac\n",
            "\n",
            "Error fetching the article: Rhodesia\n"
          ]
        },
        {
          "metadata": {
            "tags": null
          },
          "name": "stderr",
          "output_type": "stream",
          "text": [
            "\r  4%|▍         | 770/20182 [05:57<2:37:40,  2.05it/s]"
          ]
        },
        {
          "metadata": {
            "tags": null
          },
          "name": "stdout",
          "output_type": "stream",
          "text": [
            "Got JSONDecodeError, skipping\n",
            "Error fetching the article: Natt\n",
            "Got JSONDecodeError, skipping\n",
            "Error fetching the article: Flygekontrolltjeneste\n",
            "Got JSONDecodeError, skipping\n",
            "Error fetching the article: Flyplass\n",
            "Got JSONDecodeError, skipping\n",
            "Error fetching the article: Den ortodokse kirke\n",
            "Got JSONDecodeError, skipping\n",
            "Error fetching the article: Rock City\n",
            "Got JSONDecodeError, skipping\n",
            "Error fetching the article: M109\n"
          ]
        },
        {
          "metadata": {
            "tags": null
          },
          "name": "stderr",
          "output_type": "stream",
          "text": [
            "\r  4%|▍         | 771/20182 [05:58<2:33:48,  2.10it/s]"
          ]
        },
        {
          "metadata": {
            "tags": null
          },
          "name": "stdout",
          "output_type": "stream",
          "text": [
            "Got JSONDecodeError, skipping\n",
            "Error fetching the article: Rikskommissær\n",
            "Got JSONDecodeError, skipping\n",
            "Error fetching the article: Henryk Sienkiewicz\n"
          ]
        },
        {
          "metadata": {
            "tags": null
          },
          "name": "stderr",
          "output_type": "stream",
          "text": [
            "\r  4%|▍         | 772/20182 [05:58<2:34:37,  2.09it/s]"
          ]
        },
        {
          "metadata": {
            "tags": null
          },
          "name": "stdout",
          "output_type": "stream",
          "text": [
            "Got JSONDecodeError, skipping\n",
            "Error fetching the article: Martin Linge\n",
            "Got JSONDecodeError, skipping\n",
            "Error fetching the article: Andy Capp\n",
            "Got JSONDecodeError, skipping\n",
            "Error fetching the article: «Norge» (panserskip)\n",
            "Got JSONDecodeError, skipping\n",
            "Error fetching the article: Gestapo\n"
          ]
        },
        {
          "metadata": {
            "tags": null
          },
          "name": "stderr",
          "output_type": "stream",
          "text": [
            "\r  4%|▍         | 773/20182 [05:59<2:34:18,  2.10it/s]"
          ]
        },
        {
          "metadata": {
            "tags": null
          },
          "name": "stdout",
          "output_type": "stream",
          "text": [
            "Got JSONDecodeError, skipping\n",
            "Error fetching the article: Baltzar von Platen (1766–1829)\n",
            "Got JSONDecodeError, skipping\n",
            "Error fetching the article: Den ortodokse kirke (andre betydninger)\n"
          ]
        },
        {
          "metadata": {
            "tags": null
          },
          "name": "stderr",
          "output_type": "stream",
          "text": [
            "  4%|▍         | 776/20182 [06:00<2:42:26,  1.99it/s]"
          ]
        },
        {
          "metadata": {
            "tags": null
          },
          "name": "stdout",
          "output_type": "stream",
          "text": [
            "Got JSONDecodeError, skipping\n",
            "Got JSONDecodeError, skipping\n",
            "Error fetching the article: Lancaster\n",
            "Error fetching the article: Sinfest\n",
            "Got JSONDecodeError, skipping\n",
            "Error fetching the article: Monofysittisme\n",
            "Got JSONDecodeError, skipping\n",
            "Error fetching the article: Økumenisk konsil\n",
            "Got JSONDecodeError, skipping\n",
            "Error fetching the article: Stengun\n"
          ]
        },
        {
          "metadata": {
            "tags": null
          },
          "name": "stderr",
          "output_type": "stream",
          "text": [
            "  4%|▍         | 783/20182 [06:04<2:35:58,  2.07it/s]"
          ]
        },
        {
          "metadata": {
            "tags": null
          },
          "name": "stdout",
          "output_type": "stream",
          "text": [
            "Got KeyError, skipping\n",
            "Error fetching the article: Ab\n"
          ]
        },
        {
          "metadata": {
            "tags": null
          },
          "name": "stderr",
          "output_type": "stream",
          "text": [
            "  4%|▍         | 789/20182 [06:08<2:46:19,  1.94it/s]"
          ]
        },
        {
          "metadata": {
            "tags": null
          },
          "name": "stdout",
          "output_type": "stream",
          "text": [
            "Got KeyError, skipping\n",
            "Error fetching the article: EF (andre betydninger)\n"
          ]
        },
        {
          "metadata": {
            "tags": null
          },
          "name": "stderr",
          "output_type": "stream",
          "text": [
            "  4%|▍         | 792/20182 [06:09<2:35:07,  2.08it/s]"
          ]
        },
        {
          "metadata": {
            "tags": null
          },
          "name": "stdout",
          "output_type": "stream",
          "text": [
            "Got JSONDecodeError, skipping\n",
            "Error fetching the article: Ahab av Israel\n",
            "Got JSONDecodeError, skipping\n",
            "Error fetching the article: Mu isamaa, mu õnn ja rõõm\n",
            "Got JSONDecodeError, skippingGot JSONDecodeError, skipping\n",
            "Error fetching the article: Warcraft III: Reign of Chaos\n",
            "\n",
            "Error fetching the article: Låne- og leieloven\n"
          ]
        },
        {
          "metadata": {
            "tags": null
          },
          "name": "stderr",
          "output_type": "stream",
          "text": [
            "  4%|▍         | 794/20182 [06:10<2:36:07,  2.07it/s]"
          ]
        },
        {
          "metadata": {
            "tags": null
          },
          "name": "stdout",
          "output_type": "stream",
          "text": [
            "Got JSONDecodeError, skipping\n",
            "Error fetching the article: Blatt\n",
            "Got JSONDecodeError, skipping\n",
            "Error fetching the article: Heinrich Mann\n",
            "Got JSONDecodeError, skipping\n",
            "Error fetching the article: Klaus Mann\n",
            "Got JSONDecodeError, skipping\n",
            "Error fetching the article: Sande\n",
            "Got JSONDecodeError, skipping\n",
            "Error fetching the article: Europavei\n"
          ]
        },
        {
          "metadata": {
            "tags": null
          },
          "name": "stderr",
          "output_type": "stream",
          "text": [
            "  4%|▍         | 799/20182 [06:12<2:36:23,  2.07it/s]"
          ]
        },
        {
          "metadata": {
            "tags": null
          },
          "name": "stdout",
          "output_type": "stream",
          "text": [
            "Got JSONDecodeError, skipping\n",
            "Error fetching the article: Schleswig-Holstein-Sonderburg-Glücksburg\n",
            "Got JSONDecodeError, skipping\n",
            "Got JSONDecodeError, skipping\n",
            "Error fetching the article: FireWire\n",
            "Error fetching the article: Nasjonalisme\n",
            "Got JSONDecodeError, skipping\n",
            "Error fetching the article: Ski (kommune)\n",
            "Got JSONDecodeError, skipping\n",
            "Error fetching the article: Trygve Hirsch\n",
            "Got JSONDecodeError, skipping\n",
            "Error fetching the article: GIMP\n",
            "Got JSONDecodeError, skipping\n",
            "Error fetching the article: Patriark\n"
          ]
        },
        {
          "metadata": {
            "tags": null
          },
          "name": "stderr",
          "output_type": "stream",
          "text": [
            "  4%|▍         | 801/20182 [06:13<2:37:36,  2.05it/s]"
          ]
        },
        {
          "metadata": {
            "tags": null
          },
          "name": "stdout",
          "output_type": "stream",
          "text": [
            "Got KeyError, skipping\n",
            "Error fetching the article: Nes (andre betydninger)\n",
            "Got JSONDecodeError, skipping\n",
            "Error fetching the article: Dagsavis\n",
            "Got JSONDecodeError, skipping\n",
            "Error fetching the article: Den nikenske trosbekjennelse\n"
          ]
        },
        {
          "metadata": {
            "tags": null
          },
          "name": "stderr",
          "output_type": "stream",
          "text": [
            "  4%|▍         | 803/20182 [06:14<2:32:24,  2.12it/s]"
          ]
        },
        {
          "metadata": {
            "tags": null
          },
          "name": "stdout",
          "output_type": "stream",
          "text": [
            "Got JSONDecodeError, skipping\n",
            "Error fetching the article: Raúl Castro\n",
            "Got JSONDecodeError, skippingGot JSONDecodeError, skipping\n",
            "Error fetching the article: TETRA\n",
            "\n",
            "Error fetching the article: Denver\n",
            "Got JSONDecodeError, skipping\n",
            "Error fetching the article: Siv Jensen\n",
            "Got JSONDecodeError, skipping\n",
            "Error fetching the article: Kulturkampf\n"
          ]
        },
        {
          "metadata": {
            "tags": null
          },
          "name": "stderr",
          "output_type": "stream",
          "text": [
            "  4%|▍         | 805/20182 [06:15<2:30:58,  2.14it/s]"
          ]
        },
        {
          "metadata": {
            "tags": null
          },
          "name": "stdout",
          "output_type": "stream",
          "text": [
            "Got JSONDecodeError, skippingGot JSONDecodeError, skipping\n",
            "\n",
            "Error fetching the article: Henny LieError fetching the article: Katolske klostre i Norge\n",
            "\n",
            "Got JSONDecodeError, skipping\n",
            "Error fetching the article: Sigbjørn Obstfelder\n",
            "Got JSONDecodeError, skipping\n",
            "Error fetching the article: Kurt Nilsen\n",
            "Got JSONDecodeError, skipping\n",
            "Error fetching the article: Antikkens Hellas\n"
          ]
        },
        {
          "metadata": {
            "tags": null
          },
          "name": "stderr",
          "output_type": "stream",
          "text": [
            "  4%|▍         | 807/20182 [06:16<2:28:32,  2.17it/s]"
          ]
        },
        {
          "metadata": {
            "tags": null
          },
          "name": "stdout",
          "output_type": "stream",
          "text": [
            "Got JSONDecodeError, skippingGot JSONDecodeError, skipping\n",
            "Error fetching the article: DDR (band)\n",
            "\n",
            "Error fetching the article: Den palestinske selvstyremyndigheten\n",
            "Got JSONDecodeError, skipping\n",
            "Error fetching the article: Middelalderen\n",
            "Got JSONDecodeError, skipping\n",
            "Error fetching the article: SA\n",
            "Got JSONDecodeError, skipping\n",
            "Error fetching the article: Urban II\n",
            "Got JSONDecodeError, skipping\n",
            "Error fetching the article: Reims\n"
          ]
        },
        {
          "metadata": {
            "tags": null
          },
          "name": "stderr",
          "output_type": "stream",
          "text": [
            "\r  4%|▍         | 808/20182 [06:17<2:25:27,  2.22it/s]"
          ]
        },
        {
          "metadata": {
            "tags": null
          },
          "name": "stdout",
          "output_type": "stream",
          "text": [
            "Got JSONDecodeError, skipping\n",
            "Error fetching the article: Fregatt\n",
            "Got JSONDecodeError, skipping\n",
            "Error fetching the article: Den anglikanske kirke\n",
            "Got JSONDecodeError, skipping\n",
            "Error fetching the article: Ekskommunikasjon\n"
          ]
        },
        {
          "metadata": {
            "tags": null
          },
          "name": "stderr",
          "output_type": "stream",
          "text": [
            "\r  4%|▍         | 809/20182 [06:17<2:26:27,  2.20it/s]"
          ]
        },
        {
          "metadata": {
            "tags": null
          },
          "name": "stdout",
          "output_type": "stream",
          "text": [
            "Got JSONDecodeError, skipping\n",
            "Error fetching the article: IMF (andre betydninger)\n",
            "Got JSONDecodeError, skipping\n",
            "Error fetching the article: Team Antonsen\n",
            "Got JSONDecodeError, skipping\n",
            "Error fetching the article: Einar Gerhardsens første regjering\n",
            "Got JSONDecodeError, skipping\n",
            "Error fetching the article: Badedrakt\n",
            "Got JSONDecodeError, skipping\n",
            "Error fetching the article: Liste over Norges regjeringer"
          ]
        },
        {
          "metadata": {
            "tags": null
          },
          "name": "stderr",
          "output_type": "stream",
          "text": [
            "\r  4%|▍         | 810/20182 [06:18<2:28:11,  2.18it/s]"
          ]
        },
        {
          "metadata": {
            "tags": null
          },
          "name": "stdout",
          "output_type": "stream",
          "text": [
            "\n"
          ]
        },
        {
          "metadata": {
            "tags": null
          },
          "name": "stderr",
          "output_type": "stream",
          "text": [
            "  4%|▍         | 816/20182 [06:21<2:36:12,  2.07it/s]"
          ]
        },
        {
          "metadata": {
            "tags": null
          },
          "name": "stdout",
          "output_type": "stream",
          "text": [
            "Got JSONDecodeError, skipping\n",
            "Error fetching the article: Marion Dönhoff\n",
            "Got JSONDecodeError, skipping\n",
            "Error fetching the article: Alfred Döblin\n",
            "Got JSONDecodeError, skipping\n",
            "Error fetching the article: IndusGot JSONDecodeError, skipping\n",
            "\n",
            "Error fetching the article: Shiva\n",
            "Got JSONDecodeError, skippingGot JSONDecodeError, skipping\n",
            "Error fetching the article: C++\n",
            "\n",
            "Error fetching the article: Regina (Saskatchewan)\n",
            "Got JSONDecodeError, skipping\n",
            "Error fetching the article: Canadian Pacific Railway\n"
          ]
        },
        {
          "metadata": {
            "tags": null
          },
          "name": "stderr",
          "output_type": "stream",
          "text": [
            "\r  4%|▍         | 817/20182 [06:21<2:30:30,  2.14it/s]"
          ]
        },
        {
          "metadata": {
            "tags": null
          },
          "name": "stdout",
          "output_type": "stream",
          "text": [
            "Got JSONDecodeError, skipping\n",
            "Error fetching the article: Udo Voigt\n",
            "Got JSONDecodeError, skipping\n",
            "Error fetching the article: Holger Apfel\n",
            "Got JSONDecodeError, skipping\n",
            "Error fetching the article: Fredrik Bull-Hansen\n"
          ]
        },
        {
          "metadata": {
            "tags": null
          },
          "name": "stderr",
          "output_type": "stream",
          "text": [
            "\r  4%|▍         | 818/20182 [06:21<2:26:04,  2.21it/s]"
          ]
        },
        {
          "metadata": {
            "tags": null
          },
          "name": "stdout",
          "output_type": "stream",
          "text": [
            "Got JSONDecodeError, skipping\n",
            "Error fetching the article: New Orleans\n",
            "Got JSONDecodeError, skipping\n",
            "Error fetching the article: Chemnitz\n",
            "Got JSONDecodeError, skipping\n",
            "Error fetching the article: San Diego\n",
            "Got JSONDecodeError, skipping\n",
            "Error fetching the article: Scott Adams (1957)\n"
          ]
        },
        {
          "metadata": {
            "tags": null
          },
          "name": "stderr",
          "output_type": "stream",
          "text": [
            "  4%|▍         | 820/20182 [06:22<2:30:46,  2.14it/s]"
          ]
        },
        {
          "metadata": {
            "tags": null
          },
          "name": "stdout",
          "output_type": "stream",
          "text": [
            "Got JSONDecodeError, skippingGot JSONDecodeError, skipping\n",
            "Error fetching the article: Snakkeboble\n",
            "\n",
            "Error fetching the article: Harstad/Narvik lufthavn, Evenes\n",
            "Got JSONDecodeError, skipping\n",
            "Error fetching the article: Liste over Danmarks monarker\n",
            "Got JSONDecodeError, skipping\n",
            "Error fetching the article: Ska\n"
          ]
        },
        {
          "metadata": {
            "tags": null
          },
          "name": "stderr",
          "output_type": "stream",
          "text": [
            "\r  4%|▍         | 821/20182 [06:23<2:28:20,  2.18it/s]"
          ]
        },
        {
          "metadata": {
            "tags": null
          },
          "name": "stdout",
          "output_type": "stream",
          "text": [
            "Got JSONDecodeError, skipping\n",
            "Error fetching the article: Alda\n",
            "Got JSONDecodeError, skipping\n",
            "Error fetching the article: Bush\n",
            "Got JSONDecodeError, skipping\n",
            "Error fetching the article: Kontinentaldrift\n",
            "Got JSONDecodeError, skipping\n",
            "Error fetching the article: Johan Daniel Berlin\n"
          ]
        },
        {
          "metadata": {
            "tags": null
          },
          "name": "stderr",
          "output_type": "stream",
          "text": [
            "  4%|▍         | 824/20182 [06:24<2:30:15,  2.15it/s]"
          ]
        },
        {
          "metadata": {
            "tags": null
          },
          "name": "stdout",
          "output_type": "stream",
          "text": [
            "Got JSONDecodeError, skipping\n",
            "Error fetching the article: Charles\n",
            "Got JSONDecodeError, skipping\n",
            "Error fetching the article: Vishnu\n",
            "Got JSONDecodeError, skipping\n",
            "Error fetching the article: Monstertorsdag\n",
            "Got JSONDecodeError, skipping\n",
            "Error fetching the article: Hawaii, Oslo\n",
            "Got JSONDecodeError, skipping\n",
            "Error fetching the article: La elva leve!\n",
            "Got JSONDecodeError, skipping\n",
            "Error fetching the article: Perth (Australia)\n"
          ]
        },
        {
          "metadata": {
            "tags": null
          },
          "name": "stderr",
          "output_type": "stream",
          "text": [
            "\r  4%|▍         | 825/20182 [06:25<2:33:07,  2.11it/s]"
          ]
        },
        {
          "metadata": {
            "tags": null
          },
          "name": "stdout",
          "output_type": "stream",
          "text": [
            "Got JSONDecodeError, skipping\n",
            "Error fetching the article: Pest\n",
            "Got JSONDecodeError, skipping\n",
            "Error fetching the article: Bydannelse i Norden\n",
            "Got JSONDecodeError, skippingGot JSONDecodeError, skipping\n",
            "Error fetching the article: John Tyler\n",
            "\n",
            "Error fetching the article: Enkelt sidebåndmodulering\n"
          ]
        },
        {
          "metadata": {
            "tags": null
          },
          "name": "stderr",
          "output_type": "stream",
          "text": [
            "  4%|▍         | 830/20182 [06:27<2:41:32,  2.00it/s]"
          ]
        },
        {
          "metadata": {
            "tags": null
          },
          "name": "stdout",
          "output_type": "stream",
          "text": [
            "Got JSONDecodeError, skipping\n",
            "Error fetching the article: Bispelue\n",
            "Got JSONDecodeError, skipping\n",
            "Got JSONDecodeError, skippingError fetching the article: Ditanyè\n",
            "\n",
            "Error fetching the article: Osamu Tezuka\n"
          ]
        },
        {
          "metadata": {
            "tags": null
          },
          "name": "stderr",
          "output_type": "stream",
          "text": [
            "\r  4%|▍         | 831/20182 [06:28<2:40:31,  2.01it/s]"
          ]
        },
        {
          "metadata": {
            "tags": null
          },
          "name": "stdout",
          "output_type": "stream",
          "text": [
            "Got JSONDecodeError, skipping\n",
            "Got JSONDecodeError, skippingError fetching the article: Finnmarken (avis)\n",
            "\n",
            "Error fetching the article: Finnmark Dagblad\n"
          ]
        },
        {
          "metadata": {
            "tags": null
          },
          "name": "stderr",
          "output_type": "stream",
          "text": [
            "\r  4%|▍         | 832/20182 [06:28<2:42:33,  1.98it/s]"
          ]
        },
        {
          "metadata": {
            "tags": null
          },
          "name": "stdout",
          "output_type": "stream",
          "text": [
            "Got JSONDecodeError, skipping\n",
            "Error fetching the article: Folkebladet\n"
          ]
        },
        {
          "metadata": {
            "tags": null
          },
          "name": "stderr",
          "output_type": "stream",
          "text": [
            "\r  4%|▍         | 833/20182 [06:29<2:34:08,  2.09it/s]"
          ]
        },
        {
          "metadata": {
            "tags": null
          },
          "name": "stdout",
          "output_type": "stream",
          "text": [
            "Got JSONDecodeError, skippingGot JSONDecodeError, skipping\n",
            "\n",
            "Error fetching the article: Bladet VesterålenError fetching the article: Helgelendingen\n",
            "\n",
            "Got JSONDecodeError, skipping\n",
            "Error fetching the article: Innherreds Folkeblad og Verdalingen\n",
            "Got JSONDecodeError, skipping\n",
            "Error fetching the article: Rana Blad\n",
            "Got JSONDecodeError, skipping\n",
            "Error fetching the article: Inderøyningen\n"
          ]
        },
        {
          "metadata": {
            "tags": null
          },
          "name": "stderr",
          "output_type": "stream",
          "text": [
            "\r  4%|▍         | 834/20182 [06:29<2:28:11,  2.18it/s]"
          ]
        },
        {
          "metadata": {
            "tags": null
          },
          "name": "stdout",
          "output_type": "stream",
          "text": [
            "Got JSONDecodeError, skipping\n",
            "Error fetching the article: Fosna-Folket\n",
            "Got JSONDecodeError, skipping\n",
            "Error fetching the article: Stjørdalens Blad\n",
            "Got JSONDecodeError, skipping\n",
            "Error fetching the article: Arbeidets Rett\n",
            "Got JSONDecodeError, skipping\n",
            "Error fetching the article: Fjell-Ljom\n"
          ]
        },
        {
          "metadata": {
            "tags": null
          },
          "name": "stderr",
          "output_type": "stream",
          "text": [
            "\r  4%|▍         | 835/20182 [06:30<2:25:50,  2.21it/s]"
          ]
        },
        {
          "metadata": {
            "tags": null
          },
          "name": "stdout",
          "output_type": "stream",
          "text": [
            "Got JSONDecodeError, skippingGot JSONDecodeError, skipping\n",
            "Error fetching the article: Trønderbladet\n",
            "\n",
            "Error fetching the article: Sør-Trøndelag (avis)\n"
          ]
        },
        {
          "metadata": {
            "tags": null
          },
          "name": "stderr",
          "output_type": "stream",
          "text": [
            "  4%|▍         | 837/20182 [06:31<2:27:07,  2.19it/s]"
          ]
        },
        {
          "metadata": {
            "tags": null
          },
          "name": "stdout",
          "output_type": "stream",
          "text": [
            "Got JSONDecodeError, skipping\n",
            "Error fetching the article: Telesforus\n",
            "Got JSONDecodeError, skipping\n",
            "Error fetching the article: Hyginus\n",
            "Got KeyError, skipping\n",
            "Got KeyError, skippingError fetching the article: OA\n",
            "\n",
            "Error fetching the article: NA\n"
          ]
        },
        {
          "metadata": {
            "tags": null
          },
          "name": "stderr",
          "output_type": "stream",
          "text": [
            "  4%|▍         | 840/20182 [06:32<2:38:59,  2.03it/s]"
          ]
        },
        {
          "metadata": {
            "tags": null
          },
          "name": "stdout",
          "output_type": "stream",
          "text": [
            "Got JSONDecodeError, skipping\n",
            "Error fetching the article: Lufthansa\n",
            "Got JSONDecodeError, skipping\n",
            "Error fetching the article: Fjordingen\n",
            "Got JSONDecodeError, skipping\n",
            "Error fetching the article: Ytre Sogn Avis\n",
            "Got JSONDecodeError, skipping\n",
            "Error fetching the article: Fjordenes Tidende\n"
          ]
        },
        {
          "metadata": {
            "tags": null
          },
          "name": "stderr",
          "output_type": "stream",
          "text": [
            "\r  4%|▍         | 841/20182 [06:33<2:33:52,  2.09it/s]"
          ]
        },
        {
          "metadata": {
            "tags": null
          },
          "name": "stdout",
          "output_type": "stream",
          "text": [
            "Got JSONDecodeError, skippingGot JSONDecodeError, skipping\n",
            "Error fetching the article: Bydel Stovner\n",
            "\n",
            "Error fetching the article: Bydel Søndre Nordstrand\n",
            "Got JSONDecodeError, skipping\n",
            "Error fetching the article: Bydel Gamle Oslo\n"
          ]
        },
        {
          "metadata": {
            "tags": null
          },
          "name": "stderr",
          "output_type": "stream",
          "text": [
            "  4%|▍         | 843/20182 [06:34<2:30:20,  2.14it/s]"
          ]
        },
        {
          "metadata": {
            "tags": null
          },
          "name": "stdout",
          "output_type": "stream",
          "text": [
            "Got JSONDecodeError, skipping\n",
            "Error fetching the article: Karl Jaspers\n",
            "Got JSONDecodeError, skipping\n",
            "Error fetching the article: Bergens Tidende\n",
            "Got JSONDecodeError, skipping\n",
            "Error fetching the article: Paul Julius von Reuter\n",
            "Got JSONDecodeError, skipping\n",
            "Error fetching the article: UIB\n",
            "Got JSONDecodeError, skipping\n",
            "Error fetching the article: Reinkarnasjon\n",
            "Got JSONDecodeError, skipping\n",
            "Error fetching the article: FLAC\n",
            "Got JSONDecodeError, skipping\n",
            "Error fetching the article: Fanaposten\n"
          ]
        },
        {
          "metadata": {
            "tags": null
          },
          "name": "stderr",
          "output_type": "stream",
          "text": [
            "\r  4%|▍         | 844/20182 [06:34<2:25:48,  2.21it/s]"
          ]
        },
        {
          "metadata": {
            "tags": null
          },
          "name": "stdout",
          "output_type": "stream",
          "text": [
            "Got JSONDecodeError, skipping\n",
            "Error fetching the article: Gulag\n",
            "Got JSONDecodeError, skipping\n",
            "Error fetching the article: Selma Lagerlöf\n",
            "Got JSONDecodeError, skipping\n",
            "Error fetching the article: Wilhelm Canaris\n"
          ]
        },
        {
          "metadata": {
            "tags": null
          },
          "name": "stderr",
          "output_type": "stream",
          "text": [
            "  4%|▍         | 847/20182 [06:35<2:29:06,  2.16it/s]"
          ]
        },
        {
          "metadata": {
            "tags": null
          },
          "name": "stdout",
          "output_type": "stream",
          "text": [
            "Got JSONDecodeError, skippingGot JSONDecodeError, skipping\n",
            "Error fetching the article: Sunnhordland\n",
            "\n",
            "Error fetching the article: Samningen\n",
            "Got JSONDecodeError, skipping\n",
            "Error fetching the article: Ostringen\n",
            "Got JSONDecodeError, skipping\n",
            "Error fetching the article: Nordhordland\n",
            "Got JSONDecodeError, skipping\n",
            "Error fetching the article: Stril\n",
            "Got JSONDecodeError, skipping\n",
            "Error fetching the article: New York Journal\n"
          ]
        },
        {
          "metadata": {
            "tags": null
          },
          "name": "stderr",
          "output_type": "stream",
          "text": [
            "  4%|▍         | 855/20182 [06:40<2:27:34,  2.18it/s]"
          ]
        },
        {
          "metadata": {
            "tags": null
          },
          "name": "stdout",
          "output_type": "stream",
          "text": [
            "Got JSONDecodeError, skipping\n",
            "Error fetching the article: Würzburg\n",
            "Got JSONDecodeError, skipping\n",
            "Error fetching the article: Ludwigshafen\n",
            "Got JSONDecodeError, skipping\n",
            "Error fetching the article: Osnabrück\n",
            "Got JSONDecodeError, skipping\n",
            "Error fetching the article: Kaiserslautern\n"
          ]
        },
        {
          "metadata": {
            "tags": null
          },
          "name": "stderr",
          "output_type": "stream",
          "text": [
            "  4%|▍         | 857/20182 [06:41<2:31:59,  2.12it/s]"
          ]
        },
        {
          "metadata": {
            "tags": null
          },
          "name": "stdout",
          "output_type": "stream",
          "text": [
            "Got JSONDecodeError, skipping\n",
            "Error fetching the article: Jena\n",
            "Got JSONDecodeError, skipping\n",
            "Error fetching the article: Gera\n",
            "Got JSONDecodeError, skipping\n",
            "Error fetching the article: Erding\n",
            "Got JSONDecodeError, skipping\n",
            "Error fetching the article: Deggendorf\n",
            "Got JSONDecodeError, skipping\n",
            "Error fetching the article: Greiz\n",
            "Got JSONDecodeError, skipping\n",
            "Error fetching the article: Eichstätt\n"
          ]
        },
        {
          "metadata": {
            "tags": null
          },
          "name": "stderr",
          "output_type": "stream",
          "text": [
            "\r  4%|▍         | 858/20182 [06:41<2:28:24,  2.17it/s]"
          ]
        },
        {
          "metadata": {
            "tags": null
          },
          "name": "stdout",
          "output_type": "stream",
          "text": [
            "Got JSONDecodeError, skipping\n",
            "Error fetching the article: Kulmbach\n",
            "Got JSONDecodeError, skipping\n",
            "Error fetching the article: Kelheim\n",
            "Got JSONDecodeError, skipping\n",
            "Error fetching the article: Kronach\n"
          ]
        },
        {
          "metadata": {
            "tags": null
          },
          "name": "stderr",
          "output_type": "stream",
          "text": [
            "\r  4%|▍         | 859/20182 [06:41<2:24:29,  2.23it/s]"
          ]
        },
        {
          "metadata": {
            "tags": null
          },
          "name": "stdout",
          "output_type": "stream",
          "text": [
            "Got JSONDecodeError, skipping\n",
            "Error fetching the article: Pfaffenhofen an der Ilm\n",
            "Got JSONDecodeError, skipping\n",
            "Error fetching the article: Neumarkt in der Oberpfalz\n",
            "Got JSONDecodeError, skipping\n",
            "Error fetching the article: Traunstein\n"
          ]
        },
        {
          "metadata": {
            "tags": null
          },
          "name": "stderr",
          "output_type": "stream",
          "text": [
            "\r  4%|▍         | 860/20182 [06:42<2:22:19,  2.26it/s]"
          ]
        },
        {
          "metadata": {
            "tags": null
          },
          "name": "stdout",
          "output_type": "stream",
          "text": [
            "Got JSONDecodeError, skipping\n",
            "Error fetching the article: Freudenstadt\n",
            "Got JSONDecodeError, skipping\n",
            "Error fetching the article: Emmendingen\n"
          ]
        },
        {
          "metadata": {
            "tags": null
          },
          "name": "stderr",
          "output_type": "stream",
          "text": [
            "\r  4%|▍         | 861/20182 [06:42<2:23:41,  2.24it/s]"
          ]
        },
        {
          "metadata": {
            "tags": null
          },
          "name": "stdout",
          "output_type": "stream",
          "text": [
            "Got JSONDecodeError, skipping\n",
            "Error fetching the article: Fiskerlivets farer\n"
          ]
        },
        {
          "metadata": {
            "tags": null
          },
          "name": "stderr",
          "output_type": "stream",
          "text": [
            "\r  4%|▍         | 862/20182 [06:43<2:28:00,  2.18it/s]"
          ]
        },
        {
          "metadata": {
            "tags": null
          },
          "name": "stdout",
          "output_type": "stream",
          "text": [
            "Got JSONDecodeError, skipping\n",
            "Error fetching the article: Setesdølen\n",
            "Got JSONDecodeError, skipping\n",
            "Error fetching the article: Lillesands-Posten\n",
            "Got JSONDecodeError, skipping\n",
            "Error fetching the article: Høvågavisa\n"
          ]
        },
        {
          "metadata": {
            "tags": null
          },
          "name": "stderr",
          "output_type": "stream",
          "text": [
            "\r  4%|▍         | 863/20182 [06:43<2:28:41,  2.17it/s]"
          ]
        },
        {
          "metadata": {
            "tags": null
          },
          "name": "stdout",
          "output_type": "stream",
          "text": [
            "Got JSONDecodeError, skipping\n",
            "Error fetching the article: Jimmy Wales\n",
            "Got JSONDecodeError, skipping\n",
            "Error fetching the article: Lucas Cranach den eldre\n"
          ]
        },
        {
          "metadata": {
            "tags": null
          },
          "name": "stderr",
          "output_type": "stream",
          "text": [
            "  4%|▍         | 866/20182 [06:45<2:43:24,  1.97it/s]"
          ]
        },
        {
          "metadata": {
            "tags": null
          },
          "name": "stdout",
          "output_type": "stream",
          "text": [
            "Got JSONDecodeError, skipping\n",
            "Error fetching the article: Friedrich Heinrich Jacobi\n",
            "Got JSONDecodeError, skipping\n",
            "Error fetching the article: Lynndie England\n"
          ]
        },
        {
          "metadata": {
            "tags": null
          },
          "name": "stderr",
          "output_type": "stream",
          "text": [
            "\r  4%|▍         | 867/20182 [06:45<2:35:23,  2.07it/s]"
          ]
        },
        {
          "metadata": {
            "tags": null
          },
          "name": "stdout",
          "output_type": "stream",
          "text": [
            "Got JSONDecodeError, skipping\n",
            "Error fetching the article: Irgun\n",
            "Got JSONDecodeError, skipping\n",
            "Error fetching the article: Folkefronten for Palestinas frigjøring\n",
            "Got JSONDecodeError, skipping\n",
            "Error fetching the article: Georg Wilhelm Friedrich Hegel\n",
            "Got JSONDecodeError, skipping\n",
            "Error fetching the article: Talassofobi\n",
            "Got JSONDecodeError, skipping\n",
            "Error fetching the article: Stall-Skriket\n",
            "Got JSONDecodeError, skipping\n",
            "Error fetching the article: Fjuken\n",
            "Got JSONDecodeError, skipping\n",
            "Got JSONDecodeError, skipping\n",
            "Error fetching the article: Laagendalsposten\n",
            "Error fetching the article: Kvinnen i mitt liv\n"
          ]
        },
        {
          "metadata": {
            "tags": null
          },
          "name": "stderr",
          "output_type": "stream",
          "text": [
            "\r  4%|▍         | 868/20182 [06:46<2:35:20,  2.07it/s]"
          ]
        },
        {
          "metadata": {
            "tags": null
          },
          "name": "stdout",
          "output_type": "stream",
          "text": [
            "Got JSONDecodeError, skipping\n",
            "Error fetching the article: Lillehammer Tilskuer\n",
            "Got JSONDecodeError, skipping\n",
            "Error fetching the article: Gudbrandsdølen Lillehammer Tilskuer\n",
            "Got JSONDecodeError, skipping\n",
            "Error fetching the article: Dagningen\n"
          ]
        },
        {
          "metadata": {
            "tags": null
          },
          "name": "stderr",
          "output_type": "stream",
          "text": [
            "  4%|▍         | 870/20182 [06:47<2:37:31,  2.04it/s]"
          ]
        },
        {
          "metadata": {
            "tags": null
          },
          "name": "stdout",
          "output_type": "stream",
          "text": [
            "Got JSONDecodeError, skipping\n",
            "Error fetching the article: Østerdølen\n",
            "Got JSONDecodeError, skipping\n",
            "Error fetching the article: Association of Norwegian Students Abroad\n",
            "Got JSONDecodeError, skipping\n",
            "Error fetching the article: Gloster Gladiator\n",
            "Got JSONDecodeError, skipping\n",
            "Error fetching the article: Schengen-avtalen\n",
            "Got JSONDecodeError, skipping\n",
            "Error fetching the article: Puerto Rico\n",
            "Got JSONDecodeError, skipping\n",
            "Error fetching the article: George Harrison\n",
            "Got JSONDecodeError, skipping\n",
            "Error fetching the article: Washington D.C.\n"
          ]
        },
        {
          "metadata": {
            "tags": null
          },
          "name": "stderr",
          "output_type": "stream",
          "text": [
            "  4%|▍         | 872/20182 [06:48<2:31:25,  2.13it/s]"
          ]
        },
        {
          "metadata": {
            "tags": null
          },
          "name": "stdout",
          "output_type": "stream",
          "text": [
            "Got JSONDecodeError, skipping\n",
            "Error fetching the article: Jürgen Möllemann\n",
            "Got JSONDecodeError, skipping\n",
            "Error fetching the article: Slaget ved Mohács (1526)\n",
            "Got JSONDecodeError, skipping\n",
            "Got JSONDecodeError, skipping\n",
            "Error fetching the article: Den hellige liga (1684)\n",
            "Error fetching the article: Demokraten\n"
          ]
        },
        {
          "metadata": {
            "tags": null
          },
          "name": "stderr",
          "output_type": "stream",
          "text": [
            "  4%|▍         | 874/20182 [06:49<2:34:11,  2.09it/s]"
          ]
        },
        {
          "metadata": {
            "tags": null
          },
          "name": "stdout",
          "output_type": "stream",
          "text": [
            "Got JSONDecodeError, skippingGot JSONDecodeError, skipping\n",
            "Error fetching the article: Universität zu Köln\n",
            "\n",
            "Error fetching the article: Gjengangeren\n",
            "Got JSONDecodeError, skipping\n",
            "Error fetching the article: Bud Grace\n",
            "Got JSONDecodeError, skipping\n",
            "Error fetching the article: Aberystwyth\n"
          ]
        },
        {
          "metadata": {
            "tags": null
          },
          "name": "stderr",
          "output_type": "stream",
          "text": [
            "\r  4%|▍         | 875/20182 [06:49<2:28:21,  2.17it/s]"
          ]
        },
        {
          "metadata": {
            "tags": null
          },
          "name": "stdout",
          "output_type": "stream",
          "text": [
            "Got JSONDecodeError, skippingGot JSONDecodeError, skipping\n",
            "Error fetching the article: Groruddalen\n",
            "Got JSONDecodeError, skipping\n",
            "Error fetching the article: Østlands-Posten\n",
            "\n",
            "Error fetching the article: Tønsbergs Blad\n"
          ]
        },
        {
          "metadata": {
            "tags": null
          },
          "name": "stderr",
          "output_type": "stream",
          "text": [
            "\r  4%|▍         | 876/20182 [06:50<2:26:14,  2.20it/s]"
          ]
        },
        {
          "metadata": {
            "tags": null
          },
          "name": "stdout",
          "output_type": "stream",
          "text": [
            "Got JSONDecodeError, skipping\n",
            "Error fetching the article: Flekkefjordbanen\n",
            "Got JSONDecodeError, skipping\n",
            "Error fetching the article: SørlandsbanenGot JSONDecodeError, skipping\n",
            "Error fetching the article: Misje\n",
            "\n"
          ]
        },
        {
          "metadata": {
            "tags": null
          },
          "name": "stderr",
          "output_type": "stream",
          "text": [
            "  4%|▍         | 878/20182 [06:51<2:31:59,  2.12it/s]"
          ]
        },
        {
          "metadata": {
            "tags": null
          },
          "name": "stdout",
          "output_type": "stream",
          "text": [
            "Got JSONDecodeError, skipping\n",
            "Error fetching the article: Hjeltefjorden\n",
            "Got JSONDecodeError, skipping\n",
            "Error fetching the article: Public key infrastructure\n",
            "Got JSONDecodeError, skipping\n",
            "Error fetching the article: Knoll og Tott\n",
            "Got JSONDecodeError, skipping\n",
            "Error fetching the article: Linux User Group\n"
          ]
        },
        {
          "metadata": {
            "tags": null
          },
          "name": "stderr",
          "output_type": "stream",
          "text": [
            "  4%|▍         | 880/20182 [06:52<2:32:29,  2.11it/s]"
          ]
        },
        {
          "metadata": {
            "tags": null
          },
          "name": "stdout",
          "output_type": "stream",
          "text": [
            "Got JSONDecodeError, skippingGot JSONDecodeError, skipping\n",
            "Error fetching the article: Fortidsminneforeningen\n",
            "\n",
            "Error fetching the article: Lofoten\n",
            "Got JSONDecodeError, skipping\n",
            "Error fetching the article: Egil Skallagrimson\n"
          ]
        },
        {
          "metadata": {
            "tags": null
          },
          "name": "stderr",
          "output_type": "stream",
          "text": [
            "\r  4%|▍         | 881/20182 [06:52<2:27:26,  2.18it/s]"
          ]
        },
        {
          "metadata": {
            "tags": null
          },
          "name": "stdout",
          "output_type": "stream",
          "text": [
            "Got JSONDecodeError, skipping\n",
            "Error fetching the article: Nord-Kypros\n",
            "Got JSONDecodeError, skipping\n",
            "Error fetching the article: Norges Luftsportforbund\n",
            "Got JSONDecodeError, skipping\n",
            "Error fetching the article: Tyrkisk\n"
          ]
        },
        {
          "metadata": {
            "tags": null
          },
          "name": "stderr",
          "output_type": "stream",
          "text": [
            "  4%|▍         | 884/20182 [06:54<2:34:28,  2.08it/s]"
          ]
        },
        {
          "metadata": {
            "tags": null
          },
          "name": "stdout",
          "output_type": "stream",
          "text": [
            "Got JSONDecodeError, skipping\n",
            "Error fetching the article: StatsforvalterGot JSONDecodeError, skipping\n",
            "Error fetching the article: KolsåsbanenGot JSONDecodeError, skipping\n",
            "Error fetching the article: Christian Morgenstern\n",
            "\n",
            "\n"
          ]
        },
        {
          "metadata": {
            "tags": null
          },
          "name": "stderr",
          "output_type": "stream",
          "text": [
            "  4%|▍         | 905/20182 [07:05<2:30:32,  2.13it/s]"
          ]
        },
        {
          "metadata": {
            "tags": null
          },
          "name": "stdout",
          "output_type": "stream",
          "text": [
            "Got JSONDecodeError, skippingGot JSONDecodeError, skipping\n",
            "Error fetching the article: TCP\n",
            "Got JSONDecodeError, skipping\n",
            "Error fetching the article: Bogstad Camping\n",
            "\n",
            "Error fetching the article: Mojito\n",
            "Got JSONDecodeError, skippingGot JSONDecodeError, skipping\n",
            "Error fetching the article: Gram\n",
            "\n",
            "Error fetching the article: Bill Shankly\n"
          ]
        },
        {
          "metadata": {
            "tags": null
          },
          "name": "stderr",
          "output_type": "stream",
          "text": [
            "\r  4%|▍         | 906/20182 [07:05<2:30:22,  2.14it/s]"
          ]
        },
        {
          "metadata": {
            "tags": null
          },
          "name": "stdout",
          "output_type": "stream",
          "text": [
            "Got JSONDecodeError, skipping\n",
            "Error fetching the article: KadmiumGot JSONDecodeError, skipping\n",
            "Error fetching the article: Gallium\n",
            "\n"
          ]
        },
        {
          "metadata": {
            "tags": null
          },
          "name": "stderr",
          "output_type": "stream",
          "text": [
            "\r  4%|▍         | 907/20182 [07:06<2:26:15,  2.20it/s]"
          ]
        },
        {
          "metadata": {
            "tags": null
          },
          "name": "stdout",
          "output_type": "stream",
          "text": [
            "Got JSONDecodeError, skipping\n",
            "Error fetching the article: Zirkon\n",
            "Got JSONDecodeError, skippingGot JSONDecodeError, skipping\n",
            "Error fetching the article: Ruthenium\n",
            "\n",
            "Error fetching the article: Antocyanin\n"
          ]
        },
        {
          "metadata": {
            "tags": null
          },
          "name": "stderr",
          "output_type": "stream",
          "text": [
            "  5%|▍         | 909/20182 [07:07<2:29:17,  2.15it/s]"
          ]
        },
        {
          "metadata": {
            "tags": null
          },
          "name": "stdout",
          "output_type": "stream",
          "text": [
            "Got JSONDecodeError, skipping\n",
            "Error fetching the article: Hægebostadtunnelen\n",
            "Got JSONDecodeError, skipping\n",
            "Error fetching the article: Nordstrands Blad\n"
          ]
        },
        {
          "metadata": {
            "tags": null
          },
          "name": "stderr",
          "output_type": "stream",
          "text": [
            "\r  5%|▍         | 910/20182 [07:07<2:32:05,  2.11it/s]"
          ]
        },
        {
          "metadata": {
            "tags": null
          },
          "name": "stdout",
          "output_type": "stream",
          "text": [
            "Got JSONDecodeError, skipping\n",
            "Error fetching the article: Friheten\n",
            "Got JSONDecodeError, skipping\n",
            "Error fetching the article: Oscar Wilde\n",
            "Got JSONDecodeError, skipping\n",
            "Error fetching the article: Rombe\n",
            "Got JSONDecodeError, skipping\n",
            "Error fetching the article: Hovedminne\n",
            "Got JSONDecodeError, skippingGot JSONDecodeError, skipping\n",
            "Error fetching the article: Kvadrat\n",
            "\n",
            "Error fetching the article: Coffey still\n"
          ]
        },
        {
          "metadata": {
            "tags": null
          },
          "name": "stderr",
          "output_type": "stream",
          "text": [
            "\r  5%|▍         | 911/20182 [07:08<2:34:50,  2.07it/s]"
          ]
        },
        {
          "metadata": {
            "tags": null
          },
          "name": "stdout",
          "output_type": "stream",
          "text": [
            "Got JSONDecodeError, skipping\n",
            "Error fetching the article: Minas Gerais\n",
            "Got JSONDecodeError, skipping\n",
            "Error fetching the article: Vitória\n",
            "Got JSONDecodeError, skipping\n",
            "Error fetching the article: Pretoria\n",
            "Got JSONDecodeError, skipping\n",
            "Error fetching the article: Skjervo (Vefsn)\n"
          ]
        },
        {
          "metadata": {
            "tags": null
          },
          "name": "stderr",
          "output_type": "stream",
          "text": [
            "\r  5%|▍         | 912/20182 [07:08<2:30:26,  2.13it/s]"
          ]
        },
        {
          "metadata": {
            "tags": null
          },
          "name": "stdout",
          "output_type": "stream",
          "text": [
            "Got JSONDecodeError, skipping\n",
            "Error fetching the article: Boeing\n",
            "Got JSONDecodeError, skipping\n",
            "Error fetching the article: Pernambuco\n"
          ]
        },
        {
          "metadata": {
            "tags": null
          },
          "name": "stderr",
          "output_type": "stream",
          "text": [
            "\r  5%|▍         | 913/20182 [07:09<2:30:05,  2.14it/s]"
          ]
        },
        {
          "metadata": {
            "tags": null
          },
          "name": "stdout",
          "output_type": "stream",
          "text": [
            "Got JSONDecodeError, skipping\n",
            "Error fetching the article: Sergipe\n",
            "Got JSONDecodeError, skipping\n",
            "Error fetching the article: V.S. Naipaul\n",
            "Got JSONDecodeError, skipping\n",
            "Error fetching the article: Dolstad kirke\n",
            "Got JSONDecodeError, skipping\n",
            "Error fetching the article: Britisk Columbia\n",
            "Got JSONDecodeError, skipping\n",
            "Error fetching the article: Objektorientert programmering\n"
          ]
        },
        {
          "metadata": {
            "tags": null
          },
          "name": "stderr",
          "output_type": "stream",
          "text": [
            "  5%|▍         | 915/20182 [07:10<2:28:46,  2.16it/s]"
          ]
        },
        {
          "metadata": {
            "tags": null
          },
          "name": "stdout",
          "output_type": "stream",
          "text": [
            "Got JSONDecodeError, skipping\n",
            "Error fetching the article: Veldig høy frekvens\n",
            "Got JSONDecodeError, skipping\n",
            "Error fetching the article: Inger-Marie Ytterhorn\n",
            "Got JSONDecodeError, skipping\n",
            "Error fetching the article: Eleuterius\n",
            "Got JSONDecodeError, skipping\n",
            "Error fetching the article: Vidar Kleppe\n",
            "Got JSONDecodeError, skippingGot JSONDecodeError, skipping\n",
            "Error fetching the article: Hafnium\n",
            "Got JSONDecodeError, skipping\n",
            "\n",
            "Error fetching the article: TantalError fetching the article: Osmium\n",
            "\n"
          ]
        },
        {
          "metadata": {
            "tags": null
          },
          "name": "stderr",
          "output_type": "stream",
          "text": [
            "\r  5%|▍         | 916/20182 [07:10<2:24:30,  2.22it/s]"
          ]
        },
        {
          "metadata": {
            "tags": null
          },
          "name": "stdout",
          "output_type": "stream",
          "text": [
            "Got JSONDecodeError, skippingGot JSONDecodeError, skipping\n",
            "Error fetching the article: Simeon av Sachsen-Coburg-Gotha\n",
            "\n",
            "Error fetching the article: Troms Fylkes Dampskibsselskap\n",
            "Got JSONDecodeError, skipping\n",
            "Error fetching the article: Rio Branco\n"
          ]
        },
        {
          "metadata": {
            "tags": null
          },
          "name": "stderr",
          "output_type": "stream",
          "text": [
            "\r  5%|▍         | 917/20182 [07:10<2:28:24,  2.16it/s]"
          ]
        },
        {
          "metadata": {
            "tags": null
          },
          "name": "stdout",
          "output_type": "stream",
          "text": [
            "Got JSONDecodeError, skipping\n",
            "Error fetching the article: Ivar Ballangrud\n",
            "Got JSONDecodeError, skipping\n",
            "Error fetching the article: Aswan\n",
            "Got JSONDecodeError, skipping\n",
            "Error fetching the article: Adelskalenderen (skøyter)\n"
          ]
        },
        {
          "metadata": {
            "tags": null
          },
          "name": "stderr",
          "output_type": "stream",
          "text": [
            "  5%|▍         | 919/20182 [07:11<2:34:19,  2.08it/s]"
          ]
        },
        {
          "metadata": {
            "tags": null
          },
          "name": "stdout",
          "output_type": "stream",
          "text": [
            "Got JSONDecodeError, skippingGot JSONDecodeError, skipping\n",
            "Error fetching the article: Skorgedalen\n",
            "\n",
            "Error fetching the article: Rauma (elv)\n",
            "Got JSONDecodeError, skippingGot JSONDecodeError, skipping\n",
            "\n",
            "Error fetching the article: Raabyggelaget\n",
            "Error fetching the article: Avram Hershko\n"
          ]
        },
        {
          "metadata": {
            "tags": null
          },
          "name": "stderr",
          "output_type": "stream",
          "text": [
            "  5%|▍         | 921/20182 [07:12<2:33:34,  2.09it/s]"
          ]
        },
        {
          "metadata": {
            "tags": null
          },
          "name": "stdout",
          "output_type": "stream",
          "text": [
            "Got JSONDecodeError, skipping\n",
            "Error fetching the article: Aquitaine\n",
            "Got JSONDecodeError, skipping\n",
            "Error fetching the article: Champagne-Ardenne\n",
            "Got JSONDecodeError, skipping\n",
            "Got JSONDecodeError, skipping\n",
            "Got JSONDecodeError, skipping\n",
            "Error fetching the article: Limousin\n",
            "Error fetching the article: Centre-Val de Loire\n",
            "Error fetching the article: Isfjorden (bygd i Rauma)\n"
          ]
        },
        {
          "metadata": {
            "tags": null
          },
          "name": "stderr",
          "output_type": "stream",
          "text": [
            "\r  5%|▍         | 922/20182 [07:13<2:32:16,  2.11it/s]"
          ]
        },
        {
          "metadata": {
            "tags": null
          },
          "name": "stdout",
          "output_type": "stream",
          "text": [
            "Got JSONDecodeError, skippingGot JSONDecodeError, skipping\n",
            "Error fetching the article: Bourg-en-Bresse\n",
            "\n",
            "Error fetching the article: Laon\n"
          ]
        },
        {
          "metadata": {
            "tags": null
          },
          "name": "stderr",
          "output_type": "stream",
          "text": [
            "  5%|▍         | 925/20182 [07:14<2:33:26,  2.09it/s]"
          ]
        },
        {
          "metadata": {
            "tags": null
          },
          "name": "stdout",
          "output_type": "stream",
          "text": [
            "Got JSONDecodeError, skippingGot JSONDecodeError, skipping\n",
            "Error fetching the article: Dijon\n",
            "\n",
            "Error fetching the article: Saint-Brieuc\n",
            "Got JSONDecodeError, skippingGot JSONDecodeError, skipping\n",
            "Error fetching the article: Bourges\n",
            "\n",
            "Error fetching the article: Angoulême\n",
            "Got JSONDecodeError, skipping\n",
            "Got JSONDecodeError, skipping\n",
            "Error fetching the article: Toulouse\n",
            "Error fetching the article: Quimper\n",
            "Got JSONDecodeError, skippingGot JSONDecodeError, skipping\n",
            "Error fetching the article: Valence (Drôme)\n",
            "\n",
            "Error fetching the article: Chartres\n"
          ]
        },
        {
          "metadata": {
            "tags": null
          },
          "name": "stderr",
          "output_type": "stream",
          "text": [
            "\r  5%|▍         | 926/20182 [07:15<2:30:14,  2.14it/s]"
          ]
        },
        {
          "metadata": {
            "tags": null
          },
          "name": "stdout",
          "output_type": "stream",
          "text": [
            "Got JSONDecodeError, skipping\n",
            "Error fetching the article: Turbin\n",
            "Got JSONDecodeError, skipping\n",
            "Error fetching the article: Dampturbin\n",
            "Got JSONDecodeError, skipping\n",
            "Error fetching the article: Tours\n",
            "Got JSONDecodeError, skipping\n",
            "Error fetching the article: Pervez Musharraf\n"
          ]
        },
        {
          "metadata": {
            "tags": null
          },
          "name": "stderr",
          "output_type": "stream",
          "text": [
            "  5%|▍         | 928/20182 [07:16<2:26:40,  2.19it/s]"
          ]
        },
        {
          "metadata": {
            "tags": null
          },
          "name": "stdout",
          "output_type": "stream",
          "text": [
            "Got JSONDecodeError, skipping\n",
            "Error fetching the article: Edward C. Prescott\n",
            "Got JSONDecodeError, skipping\n",
            "Error fetching the article: Turbojet\n",
            "Got JSONDecodeError, skipping\n",
            "Error fetching the article: Tempelridderordenen\n",
            "Got JSONDecodeError, skipping\n",
            "Error fetching the article: Antimon\n",
            "Got JSONDecodeError, skipping\n",
            "Error fetching the article: Arsen\n",
            "Got JSONDecodeError, skipping\n",
            "Error fetching the article: Vismut\n",
            "Got JSONDecodeError, skipping\n",
            "Error fetching the article: Germanium\n"
          ]
        },
        {
          "metadata": {
            "tags": null
          },
          "name": "stderr",
          "output_type": "stream",
          "text": [
            "\r  5%|▍         | 929/20182 [07:16<2:27:58,  2.17it/s]"
          ]
        },
        {
          "metadata": {
            "tags": null
          },
          "name": "stdout",
          "output_type": "stream",
          "text": [
            "Got JSONDecodeError, skipping\n",
            "Error fetching the article: Cesium\n",
            "Got JSONDecodeError, skipping\n",
            "Got JSONDecodeError, skipping\n",
            "Error fetching the article: RubidiumError fetching the article: Astat\n",
            "\n",
            "Got JSONDecodeError, skipping\n",
            "Error fetching the article: Radon\n"
          ]
        },
        {
          "metadata": {
            "tags": null
          },
          "name": "stderr",
          "output_type": "stream",
          "text": [
            "\r  5%|▍         | 930/20182 [07:17<2:25:04,  2.21it/s]"
          ]
        },
        {
          "metadata": {
            "tags": null
          },
          "name": "stdout",
          "output_type": "stream",
          "text": [
            "Got JSONDecodeError, skipping\n",
            "Error fetching the article: H Press\n",
            "Got JSONDecodeError, skipping\n",
            "Error fetching the article: Simen Agdestein\n"
          ]
        },
        {
          "metadata": {
            "tags": null
          },
          "name": "stderr",
          "output_type": "stream",
          "text": [
            "\r  5%|▍         | 931/20182 [07:17<2:22:23,  2.25it/s]"
          ]
        },
        {
          "metadata": {
            "tags": null
          },
          "name": "stdout",
          "output_type": "stream",
          "text": [
            "Got KeyError, skipping\n",
            "Error fetching the article: FM (andre betydninger)\n",
            "Got JSONDecodeError, skipping\n",
            "Error fetching the article: El Niño\n",
            "Got JSONDecodeError, skipping\n",
            "Got JSONDecodeError, skipping\n",
            "Error fetching the article: Oscar Mathisen\n",
            "Error fetching the article: Louis Armstrong\n"
          ]
        },
        {
          "metadata": {
            "tags": null
          },
          "name": "stderr",
          "output_type": "stream",
          "text": [
            "\r  5%|▍         | 932/20182 [07:17<2:20:09,  2.29it/s]"
          ]
        },
        {
          "metadata": {
            "tags": null
          },
          "name": "stdout",
          "output_type": "stream",
          "text": [
            "Got JSONDecodeError, skipping\n",
            "Error fetching the article: Komet\n",
            "Got JSONDecodeError, skippingGot JSONDecodeError, skipping\n",
            "Error fetching the article: Knut Johannesen\n",
            "\n",
            "Error fetching the article: Ferrosilisium\n"
          ]
        },
        {
          "metadata": {
            "tags": null
          },
          "name": "stderr",
          "output_type": "stream",
          "text": [
            "\r  5%|▍         | 933/20182 [07:18<2:19:51,  2.29it/s]"
          ]
        },
        {
          "metadata": {
            "tags": null
          },
          "name": "stdout",
          "output_type": "stream",
          "text": [
            "Got JSONDecodeError, skipping\n",
            "Error fetching the article: Trigonometri\n",
            "Got JSONDecodeError, skipping\n",
            "Error fetching the article: Goa\n",
            "Got JSONDecodeError, skipping\n",
            "Error fetching the article: Bermuda\n",
            "Got JSONDecodeError, skipping\n",
            "Error fetching the article: Glass (materiale)\n"
          ]
        },
        {
          "metadata": {
            "tags": null
          },
          "name": "stderr",
          "output_type": "stream",
          "text": [
            "  5%|▍         | 937/20182 [07:20<2:43:14,  1.96it/s]"
          ]
        },
        {
          "metadata": {
            "tags": null
          },
          "name": "stdout",
          "output_type": "stream",
          "text": [
            "Got JSONDecodeError, skipping\n",
            "Error fetching the article: Sysselmann\n",
            "Got JSONDecodeError, skipping\n",
            "Error fetching the article: Stavanger Avis\n"
          ]
        },
        {
          "metadata": {
            "tags": null
          },
          "name": "stderr",
          "output_type": "stream",
          "text": [
            "\r  5%|▍         | 938/20182 [07:20<2:37:35,  2.04it/s]"
          ]
        },
        {
          "metadata": {
            "tags": null
          },
          "name": "stdout",
          "output_type": "stream",
          "text": [
            "Got JSONDecodeError, skipping\n",
            "Error fetching the article: Biljard\n",
            "Got JSONDecodeError, skipping\n",
            "Error fetching the article: Ytterby gruve\n",
            "Got JSONDecodeError, skipping\n",
            "Error fetching the article: Bronselaget\n",
            "Got JSONDecodeError, skipping\n",
            "Error fetching the article: Statistisk fysikk\n",
            "Got JSONDecodeError, skipping\n",
            "Error fetching the article: Reidar Kvammen\n"
          ]
        },
        {
          "metadata": {
            "tags": null
          },
          "name": "stderr",
          "output_type": "stream",
          "text": [
            "  5%|▍         | 940/20182 [07:22<2:42:16,  1.98it/s]"
          ]
        },
        {
          "metadata": {
            "tags": null
          },
          "name": "stdout",
          "output_type": "stream",
          "text": [
            "Got JSONDecodeError, skipping\n",
            "Error fetching the article: Kleivstua\n",
            "Got JSONDecodeError, skipping\n",
            "Error fetching the article: Sosial- og helsedepartementet\n",
            "Got JSONDecodeError, skipping\n",
            "Error fetching the article: Ogna\n"
          ]
        },
        {
          "metadata": {
            "tags": null
          },
          "name": "stderr",
          "output_type": "stream",
          "text": [
            "  5%|▍         | 942/20182 [07:23<2:41:22,  1.99it/s]"
          ]
        },
        {
          "metadata": {
            "tags": null
          },
          "name": "stdout",
          "output_type": "stream",
          "text": [
            "Got JSONDecodeError, skipping\n",
            "Error fetching the article: Storbritannia (øy)\n",
            "Got JSONDecodeError, skipping\n",
            "Error fetching the article: Ole Gunnar Fidjestøl\n",
            "Got JSONDecodeError, skipping\n",
            "Error fetching the article: Carl Morten Amundsen\n"
          ]
        },
        {
          "metadata": {
            "tags": null
          },
          "name": "stderr",
          "output_type": "stream",
          "text": [
            "  5%|▍         | 944/20182 [07:24<2:38:22,  2.02it/s]"
          ]
        },
        {
          "metadata": {
            "tags": null
          },
          "name": "stdout",
          "output_type": "stream",
          "text": [
            "Got JSONDecodeError, skipping\n",
            "Error fetching the article: Transuran\n",
            "Got JSONDecodeError, skipping\n",
            "Error fetching the article: Norges Grunnlov\n",
            "Got JSONDecodeError, skipping\n",
            "Error fetching the article: Bindingsverk\n",
            "Got JSONDecodeError, skipping\n",
            "Error fetching the article: Representantenes hus (USA)\n",
            "Got JSONDecodeError, skipping\n",
            "Error fetching the article: Informasjons- og kommunikasjonsteknologi\n",
            "Got JSONDecodeError, skipping\n",
            "Error fetching the article: Jørgen Løvland\n"
          ]
        },
        {
          "metadata": {
            "tags": null
          },
          "name": "stderr",
          "output_type": "stream",
          "text": [
            "  5%|▍         | 946/20182 [07:25<2:40:00,  2.00it/s]"
          ]
        },
        {
          "metadata": {
            "tags": null
          },
          "name": "stdout",
          "output_type": "stream",
          "text": [
            "Got JSONDecodeError, skipping\n",
            "Error fetching the article: Jens Bratlie\n",
            "Got JSONDecodeError, skipping\n",
            "Error fetching the article: Magnus Eriksson (andre betydninger)\n",
            "Got JSONDecodeError, skippingGot JSONDecodeError, skipping\n",
            "\n",
            "Error fetching the article: Østlandet\n",
            "Got JSONDecodeError, skippingError fetching the article: Håkon VI Magnusson\n",
            "\n",
            "Error fetching the article: Håkon Magnusson\n"
          ]
        },
        {
          "metadata": {
            "tags": null
          },
          "name": "stderr",
          "output_type": "stream",
          "text": [
            "\r  5%|▍         | 947/20182 [07:25<2:31:12,  2.12it/s]"
          ]
        },
        {
          "metadata": {
            "tags": null
          },
          "name": "stdout",
          "output_type": "stream",
          "text": [
            "Got JSONDecodeError, skipping\n",
            "Error fetching the article: Lantan\n",
            "Got JSONDecodeError, skippingGot JSONDecodeError, skipping\n",
            "Error fetching the article: Actinium\n",
            "\n",
            "Error fetching the article: MF\n"
          ]
        },
        {
          "metadata": {
            "tags": null
          },
          "name": "stderr",
          "output_type": "stream",
          "text": [
            "\r  5%|▍         | 948/20182 [07:25<2:26:32,  2.19it/s]"
          ]
        },
        {
          "metadata": {
            "tags": null
          },
          "name": "stdout",
          "output_type": "stream",
          "text": [
            "Got JSONDecodeError, skipping\n",
            "Error fetching the article: Hærens styrker\n",
            "Got JSONDecodeError, skippingGot JSONDecodeError, skipping\n",
            "Error fetching the article: Forsvarets sanitet\n",
            "\n",
            "Error fetching the article: Bente Skari\n"
          ]
        },
        {
          "metadata": {
            "tags": null
          },
          "name": "stderr",
          "output_type": "stream",
          "text": [
            "  5%|▍         | 950/20182 [07:26<2:24:44,  2.21it/s]"
          ]
        },
        {
          "metadata": {
            "tags": null
          },
          "name": "stdout",
          "output_type": "stream",
          "text": [
            "Got JSONDecodeError, skipping\n",
            "Error fetching the article: Elisabeth Schweigaard Selmer\n",
            "Got JSONDecodeError, skipping\n",
            "Error fetching the article: CSS\n",
            "Got JSONDecodeError, skipping\n",
            "Error fetching the article: Åge Hareide\n",
            "Got JSONDecodeError, skipping\n",
            "Error fetching the article: Rådyr\n",
            "Got JSONDecodeError, skipping\n",
            "Error fetching the article: Marijampolė fylke\n",
            "Got JSONDecodeError, skipping\n",
            "Error fetching the article: Panevėžys fylke\n",
            "Got JSONDecodeError, skipping\n",
            "Error fetching the article: Forfatterforeningen av 1952\n"
          ]
        },
        {
          "metadata": {
            "tags": null
          },
          "name": "stderr",
          "output_type": "stream",
          "text": [
            "\r  5%|▍         | 951/20182 [07:27<2:24:04,  2.22it/s]"
          ]
        },
        {
          "metadata": {
            "tags": null
          },
          "name": "stdout",
          "output_type": "stream",
          "text": [
            "Got JSONDecodeError, skipping\n",
            "Error fetching the article: Active Server Pages\n",
            "Got JSONDecodeError, skipping\n",
            "Error fetching the article: HjortedyrGot JSONDecodeError, skipping\n",
            "Error fetching the article: Grevefeiden\n",
            "\n",
            "Got JSONDecodeError, skipping\n",
            "Error fetching the article: Hegermanns plass (Oslo)\n"
          ]
        },
        {
          "metadata": {
            "tags": null
          },
          "name": "stderr",
          "output_type": "stream",
          "text": [
            "\r  5%|▍         | 952/20182 [07:27<2:27:02,  2.18it/s]"
          ]
        },
        {
          "metadata": {
            "tags": null
          },
          "name": "stdout",
          "output_type": "stream",
          "text": [
            "Got JSONDecodeError, skipping\n",
            "Error fetching the article: Gustav Mahler\n",
            "Got JSONDecodeError, skipping\n",
            "Error fetching the article: Giovanni Tonucci\n",
            "Got JSONDecodeError, skippingGot JSONDecodeError, skipping\n",
            "Error fetching the article: Telšiai fylke\n",
            "\n",
            "Error fetching the article: Utena fylke\n"
          ]
        },
        {
          "metadata": {
            "tags": null
          },
          "name": "stderr",
          "output_type": "stream",
          "text": [
            "  5%|▍         | 954/20182 [07:28<2:26:55,  2.18it/s]"
          ]
        },
        {
          "metadata": {
            "tags": null
          },
          "name": "stdout",
          "output_type": "stream",
          "text": [
            "Got JSONDecodeError, skipping\n",
            "Error fetching the article: Agder og Telemark bispedømmeGot JSONDecodeError, skipping\n",
            "\n",
            "Error fetching the article: Norsk audiovisuell oversetterforening\n",
            "Got JSONDecodeError, skipping\n",
            "Error fetching the article: Syre\n",
            "Got JSONDecodeError, skipping\n",
            "Error fetching the article: Fevik\n",
            "Got JSONDecodeError, skipping\n",
            "Error fetching the article: Nattverd\n",
            "Got JSONDecodeError, skipping\n",
            "Error fetching the article: Kriminallitteratur\n"
          ]
        },
        {
          "metadata": {
            "tags": null
          },
          "name": "stderr",
          "output_type": "stream",
          "text": [
            "\r  5%|▍         | 955/20182 [07:29<2:25:02,  2.21it/s]"
          ]
        },
        {
          "metadata": {
            "tags": null
          },
          "name": "stdout",
          "output_type": "stream",
          "text": [
            "Got JSONDecodeError, skipping\n",
            "Error fetching the article: Tretten\n",
            "Got JSONDecodeError, skipping\n",
            "Error fetching the article: Organisk forbindelse\n",
            "Got JSONDecodeError, skipping\n",
            "Error fetching the article: Tyrkiske språk\n",
            "Got JSONDecodeError, skipping\n",
            "Error fetching the article: Qt Development Frameworks\n"
          ]
        },
        {
          "metadata": {
            "tags": null
          },
          "name": "stderr",
          "output_type": "stream",
          "text": [
            "  5%|▍         | 957/20182 [07:30<2:33:27,  2.09it/s]"
          ]
        },
        {
          "metadata": {
            "tags": null
          },
          "name": "stdout",
          "output_type": "stream",
          "text": [
            "Got JSONDecodeError, skipping\n",
            "Error fetching the article: United Airlines\n",
            "Got JSONDecodeError, skipping\n",
            "Error fetching the article: Narnia\n",
            "Got JSONDecodeError, skipping\n",
            "Error fetching the article: Georg von Hertling\n"
          ]
        },
        {
          "metadata": {
            "tags": null
          },
          "name": "stderr",
          "output_type": "stream",
          "text": [
            "\r  5%|▍         | 958/20182 [07:30<2:27:55,  2.17it/s]"
          ]
        },
        {
          "metadata": {
            "tags": null
          },
          "name": "stdout",
          "output_type": "stream",
          "text": [
            "Got JSONDecodeError, skipping\n",
            "Error fetching the article: Jørgen\n",
            "Got JSONDecodeError, skipping\n",
            "Error fetching the article: Nettsamfunn\n",
            "Got JSONDecodeError, skipping\n",
            "Error fetching the article: Montserrat\n"
          ]
        },
        {
          "metadata": {
            "tags": null
          },
          "name": "stderr",
          "output_type": "stream",
          "text": [
            "  5%|▍         | 960/20182 [07:31<2:34:38,  2.07it/s]"
          ]
        },
        {
          "metadata": {
            "tags": null
          },
          "name": "stdout",
          "output_type": "stream",
          "text": [
            "Got JSONDecodeError, skipping\n",
            "Error fetching the article: Europavei 18 (Norge)\n",
            "Got JSONDecodeError, skipping\n",
            "Error fetching the article: Arne Scheie\n",
            "Got JSONDecodeError, skippingGot JSONDecodeError, skipping\n",
            "\n",
            "Error fetching the article: Ivar Lykke\n",
            "Error fetching the article: Christopher Hornsrud\n"
          ]
        },
        {
          "metadata": {
            "tags": null
          },
          "name": "stderr",
          "output_type": "stream",
          "text": [
            "  5%|▍         | 962/20182 [07:32<2:28:22,  2.16it/s]"
          ]
        },
        {
          "metadata": {
            "tags": null
          },
          "name": "stdout",
          "output_type": "stream",
          "text": [
            "Got JSONDecodeError, skipping\n",
            "Error fetching the article: Stat\n",
            "Got JSONDecodeError, skippingGot JSONDecodeError, skipping\n",
            "Error fetching the article: Aksiom\n",
            "\n",
            "Error fetching the article: Guernsey\n",
            "Got JSONDecodeError, skipping\n",
            "Error fetching the article: Nidelva\n",
            "Got JSONDecodeError, skipping\n",
            "Error fetching the article: Frode Grodås\n"
          ]
        },
        {
          "metadata": {
            "tags": null
          },
          "name": "stderr",
          "output_type": "stream",
          "text": [
            "\r  5%|▍         | 963/20182 [07:32<2:31:48,  2.11it/s]"
          ]
        },
        {
          "metadata": {
            "tags": null
          },
          "name": "stdout",
          "output_type": "stream",
          "text": [
            "Got JSONDecodeError, skipping\n",
            "Error fetching the article: Airedale terrier\n"
          ]
        },
        {
          "metadata": {
            "tags": null
          },
          "name": "stderr",
          "output_type": "stream",
          "text": [
            "\r  5%|▍         | 964/20182 [07:33<2:34:56,  2.07it/s]"
          ]
        },
        {
          "metadata": {
            "tags": null
          },
          "name": "stdout",
          "output_type": "stream",
          "text": [
            "Got JSONDecodeError, skippingGot JSONDecodeError, skipping\n",
            "Error fetching the article: Norsk kaldblodstraver\n",
            "\n",
            "Error fetching the article: RA\n",
            "Got JSONDecodeError, skipping\n",
            "Error fetching the article: Venke Knutson\n",
            "Got JSONDecodeError, skipping\n",
            "Error fetching the article: Troposfæren\n",
            "Got JSONDecodeError, skippingGot JSONDecodeError, skipping\n",
            "\n",
            "Error fetching the article: NisserError fetching the article: Arendalsvassdraget\n",
            "\n"
          ]
        },
        {
          "metadata": {
            "tags": null
          },
          "name": "stderr",
          "output_type": "stream",
          "text": [
            "  5%|▍         | 966/20182 [07:34<2:31:49,  2.11it/s]"
          ]
        },
        {
          "metadata": {
            "tags": null
          },
          "name": "stdout",
          "output_type": "stream",
          "text": [
            "Got JSONDecodeError, skipping\n",
            "Error fetching the article: Christian Andreas Doppler\n",
            "Got JSONDecodeError, skipping\n",
            "Error fetching the article: Valkyrie plass (Oslo)\n",
            "Got JSONDecodeError, skipping\n",
            "Error fetching the article: Spesialhopprenn i Garmisch-Partenkirchen\n",
            "Got JSONDecodeError, skipping\n",
            "Error fetching the article: Ivar Aasen-tunet\n",
            "Got JSONDecodeError, skipping\n",
            "Error fetching the article: Fart\n"
          ]
        },
        {
          "metadata": {
            "tags": null
          },
          "name": "stderr",
          "output_type": "stream",
          "text": [
            "\r  5%|▍         | 967/20182 [07:34<2:27:56,  2.16it/s]"
          ]
        },
        {
          "metadata": {
            "tags": null
          },
          "name": "stdout",
          "output_type": "stream",
          "text": [
            "Got JSONDecodeError, skipping\n",
            "Error fetching the article: Kåseri\n",
            "Got JSONDecodeError, skippingGot JSONDecodeError, skipping\n",
            "Error fetching the article: Volum\n",
            "\n",
            "Error fetching the article: Westminster-modellen\n"
          ]
        },
        {
          "metadata": {
            "tags": null
          },
          "name": "stderr",
          "output_type": "stream",
          "text": [
            "  5%|▍         | 969/20182 [07:35<2:26:59,  2.18it/s]"
          ]
        },
        {
          "metadata": {
            "tags": null
          },
          "name": "stdout",
          "output_type": "stream",
          "text": [
            "Got JSONDecodeError, skippingGot JSONDecodeError, skipping\n",
            "Error fetching the article: Gerhard Schwenzer\n",
            "\n",
            "Error fetching the article: Nitrox\n",
            "Got JSONDecodeError, skipping\n",
            "Error fetching the article: Tørris\n",
            "Got JSONDecodeError, skipping\n",
            "Error fetching the article: Ola By Rise\n",
            "Got JSONDecodeError, skipping\n",
            "Got JSONDecodeError, skipping\n",
            "Error fetching the article: EivindError fetching the article: Storebø\n",
            "\n"
          ]
        },
        {
          "metadata": {
            "tags": null
          },
          "name": "stderr",
          "output_type": "stream",
          "text": [
            "  5%|▍         | 971/20182 [07:36<2:27:17,  2.17it/s]"
          ]
        },
        {
          "metadata": {
            "tags": null
          },
          "name": "stdout",
          "output_type": "stream",
          "text": [
            "Got JSONDecodeError, skipping\n",
            "Error fetching the article: Florence Nightingale\n",
            "Got JSONDecodeError, skipping\n",
            "Error fetching the article: Klassisismen\n",
            "Got JSONDecodeError, skipping\n",
            "Error fetching the article: Tillitsvotum\n",
            "Got JSONDecodeError, skipping\n",
            "Error fetching the article: Bridge\n"
          ]
        },
        {
          "metadata": {
            "tags": null
          },
          "name": "stderr",
          "output_type": "stream",
          "text": [
            "  5%|▍         | 974/20182 [07:38<2:29:53,  2.14it/s]"
          ]
        },
        {
          "metadata": {
            "tags": null
          },
          "name": "stdout",
          "output_type": "stream",
          "text": [
            "Got JSONDecodeError, skippingGot JSONDecodeError, skipping\n",
            "\n",
            "Got JSONDecodeError, skipping\n",
            "Error fetching the article: Arne EkelandError fetching the article: Vinter-OL 1968\n",
            "\n",
            "Error fetching the article: Grenoble\n",
            "Got JSONDecodeError, skippingGot JSONDecodeError, skipping\n",
            "Error fetching the article: Peter Struck\n",
            "\n",
            "Error fetching the article: Vest-Tyskland\n",
            "Got JSONDecodeError, skipping\n",
            "Error fetching the article: Otto Schily\n"
          ]
        },
        {
          "metadata": {
            "tags": null
          },
          "name": "stderr",
          "output_type": "stream",
          "text": [
            "\r  5%|▍         | 975/20182 [07:38<2:28:45,  2.15it/s]"
          ]
        },
        {
          "metadata": {
            "tags": null
          },
          "name": "stdout",
          "output_type": "stream",
          "text": [
            "Got JSONDecodeError, skippingGot JSONDecodeError, skipping\n",
            "\n",
            "Error fetching the article: Moritz Bleibtreu\n",
            "Error fetching the article: Volksbund Deutsche Kriegsgräberfürsorge\n",
            "Got JSONDecodeError, skipping\n",
            "Error fetching the article: Lekmann\n",
            "Got JSONDecodeError, skipping\n",
            "Error fetching the article: Wolfgang Clement\n",
            "Got JSONDecodeError, skipping\n",
            "Error fetching the article: Junge Freiheit\n"
          ]
        },
        {
          "metadata": {
            "tags": null
          },
          "name": "stderr",
          "output_type": "stream",
          "text": [
            "  5%|▍         | 977/20182 [07:39<2:23:31,  2.23it/s]"
          ]
        },
        {
          "metadata": {
            "tags": null
          },
          "name": "stdout",
          "output_type": "stream",
          "text": [
            "Got JSONDecodeError, skipping\n",
            "Error fetching the article: John Carew\n",
            "Got JSONDecodeError, skipping\n",
            "Error fetching the article: Oslo Elvesportsklubb\n",
            "Got JSONDecodeError, skipping\n",
            "Error fetching the article: Regjeringssjef\n",
            "Got JSONDecodeError, skipping\n",
            "Error fetching the article: Hex\n",
            "Got JSONDecodeError, skipping\n",
            "Error fetching the article: Norsk språknemnd\n",
            "Got JSONDecodeError, skipping\n",
            "Error fetching the article: Girolamo Aleandro\n"
          ]
        },
        {
          "metadata": {
            "tags": null
          },
          "name": "stderr",
          "output_type": "stream",
          "text": [
            "\r  5%|▍         | 978/20182 [07:39<2:20:45,  2.27it/s]"
          ]
        },
        {
          "metadata": {
            "tags": null
          },
          "name": "stdout",
          "output_type": "stream",
          "text": [
            "Got JSONDecodeError, skipping\n",
            "Error fetching the article: Måløy\n",
            "Got JSONDecodeError, skipping\n",
            "Error fetching the article: Rush\n"
          ]
        },
        {
          "metadata": {
            "tags": null
          },
          "name": "stderr",
          "output_type": "stream",
          "text": [
            "\r  5%|▍         | 979/20182 [07:40<2:20:10,  2.28it/s]"
          ]
        },
        {
          "metadata": {
            "tags": null
          },
          "name": "stdout",
          "output_type": "stream",
          "text": [
            "Got JSONDecodeError, skipping\n",
            "Error fetching the article: 60-årene\n",
            "Got JSONDecodeError, skippingGot JSONDecodeError, skipping\n",
            "\n",
            "Error fetching the article: Wittenberg\n",
            "Error fetching the article: Albrecht av Brandenburg\n"
          ]
        },
        {
          "metadata": {
            "tags": null
          },
          "name": "stderr",
          "output_type": "stream",
          "text": [
            "  5%|▍         | 981/20182 [07:41<2:22:05,  2.25it/s]"
          ]
        },
        {
          "metadata": {
            "tags": null
          },
          "name": "stdout",
          "output_type": "stream",
          "text": [
            "Got JSONDecodeError, skipping\n",
            "Error fetching the article: Staatsoper\n",
            "Got JSONDecodeError, skipping\n",
            "Error fetching the article: Wiener Staatsoper\n",
            "Got JSONDecodeError, skipping\n",
            "Error fetching the article: Ben Gurion lufthavn\n",
            "Got JSONDecodeError, skipping\n",
            "Error fetching the article: UNEF II\n",
            "Got JSONDecodeError, skipping\n",
            "Error fetching the article: Enklaven\n",
            "Got JSONDecodeError, skipping\n",
            "Error fetching the article: Bruno Simma\n",
            "Got JSONDecodeError, skipping\n",
            "Error fetching the article: Casimir Johannes Prinz zu Sayn-Wittgenstein-Berleburg\n"
          ]
        },
        {
          "metadata": {
            "tags": null
          },
          "name": "stderr",
          "output_type": "stream",
          "text": [
            "\r  5%|▍         | 982/20182 [07:41<2:25:16,  2.20it/s]"
          ]
        },
        {
          "metadata": {
            "tags": null
          },
          "name": "stdout",
          "output_type": "stream",
          "text": [
            "Got JSONDecodeError, skipping\n",
            "Error fetching the article: Gimle\n",
            "Got JSONDecodeError, skipping\n",
            "Error fetching the article: Europarådet\n"
          ]
        },
        {
          "metadata": {
            "tags": null
          },
          "name": "stderr",
          "output_type": "stream",
          "text": [
            "  5%|▍         | 985/20182 [07:43<2:42:15,  1.97it/s]"
          ]
        },
        {
          "metadata": {
            "tags": null
          },
          "name": "stdout",
          "output_type": "stream",
          "text": [
            "Got JSONDecodeError, skippingGot JSONDecodeError, skipping\n",
            "\n",
            "Error fetching the article: Wartburg\n",
            "Error fetching the article: Schindler (firma)\n",
            "Got JSONDecodeError, skipping\n",
            "Error fetching the article: KONE\n"
          ]
        },
        {
          "metadata": {
            "tags": null
          },
          "name": "stderr",
          "output_type": "stream",
          "text": [
            "  5%|▍         | 987/20182 [07:44<2:40:16,  2.00it/s]"
          ]
        },
        {
          "metadata": {
            "tags": null
          },
          "name": "stdout",
          "output_type": "stream",
          "text": [
            "Got JSONDecodeError, skipping\n",
            "Error fetching the article: Dress\n",
            "Got JSONDecodeError, skipping\n",
            "Error fetching the article: United States Navy\n",
            "Got JSONDecodeError, skipping\n",
            "Error fetching the article: Oscar Borg\n"
          ]
        },
        {
          "metadata": {
            "tags": null
          },
          "name": "stderr",
          "output_type": "stream",
          "text": [
            "\r  5%|▍         | 988/20182 [07:44<2:35:45,  2.05it/s]"
          ]
        },
        {
          "metadata": {
            "tags": null
          },
          "name": "stdout",
          "output_type": "stream",
          "text": [
            "Got JSONDecodeError, skippingGot JSONDecodeError, skipping\n",
            "Error fetching the article: Tennessee\n",
            "\n",
            "Error fetching the article: Sergio Leone\n",
            "Got JSONDecodeError, skipping\n",
            "Error fetching the article: Det europeiske fellesskap (EU)\n",
            "Got JSONDecodeError, skipping\n",
            "Error fetching the article: Det europeiske atomenergifellesskap\n"
          ]
        },
        {
          "metadata": {
            "tags": null
          },
          "name": "stderr",
          "output_type": "stream",
          "text": [
            "  5%|▍         | 990/20182 [07:45<2:39:17,  2.01it/s]"
          ]
        },
        {
          "metadata": {
            "tags": null
          },
          "name": "stdout",
          "output_type": "stream",
          "text": [
            "Got JSONDecodeError, skipping\n",
            "Error fetching the article: Kinshasa\n",
            "Got JSONDecodeError, skipping\n",
            "Error fetching the article: Alkalimetall\n",
            "Got JSONDecodeError, skipping\n",
            "Error fetching the article: Schindler\n",
            "Got JSONDecodeError, skipping\n",
            "Error fetching the article: Religionssamtalene i Marburg\n",
            "Got JSONDecodeError, skipping\n",
            "Error fetching the article: Mosel\n"
          ]
        },
        {
          "metadata": {
            "tags": null
          },
          "name": "stderr",
          "output_type": "stream",
          "text": [
            "  5%|▍         | 992/20182 [07:46<2:43:05,  1.96it/s]"
          ]
        },
        {
          "metadata": {
            "tags": null
          },
          "name": "stdout",
          "output_type": "stream",
          "text": [
            "Got JSONDecodeError, skipping\n",
            "Got JSONDecodeError, skipping\n",
            "Error fetching the article: Georg Simmel\n",
            "Error fetching the article: United States Marine Corps\n",
            "Got JSONDecodeError, skipping\n",
            "Error fetching the article: Otra\n"
          ]
        },
        {
          "metadata": {
            "tags": null
          },
          "name": "stderr",
          "output_type": "stream",
          "text": [
            "\r  5%|▍         | 993/20182 [07:47<2:34:06,  2.08it/s]"
          ]
        },
        {
          "metadata": {
            "tags": null
          },
          "name": "stdout",
          "output_type": "stream",
          "text": [
            "Got JSONDecodeError, skipping\n",
            "Error fetching the article: Olaf Rye\n",
            "Got JSONDecodeError, skippingGot JSONDecodeError, skipping\n",
            "Error fetching the article: Ludwig Beck\n",
            "\n",
            "Error fetching the article: Friderich Adolph Schleppegrell\n",
            "Got JSONDecodeError, skipping\n",
            "Error fetching the article: Johann Gottfried Galle\n"
          ]
        },
        {
          "metadata": {
            "tags": null
          },
          "name": "stderr",
          "output_type": "stream",
          "text": [
            "\r  5%|▍         | 994/20182 [07:47<2:26:42,  2.18it/s]"
          ]
        },
        {
          "metadata": {
            "tags": null
          },
          "name": "stdout",
          "output_type": "stream",
          "text": [
            "Got JSONDecodeError, skippingGot JSONDecodeError, skipping\n",
            "Error fetching the article: Janosch\n",
            "\n",
            "Error fetching the article: Martin Bucer\n"
          ]
        },
        {
          "metadata": {
            "tags": null
          },
          "name": "stderr",
          "output_type": "stream",
          "text": [
            "\r  5%|▍         | 995/20182 [07:48<2:24:10,  2.22it/s]"
          ]
        },
        {
          "metadata": {
            "tags": null
          },
          "name": "stdout",
          "output_type": "stream",
          "text": [
            "Got JSONDecodeError, skipping\n",
            "Error fetching the article: Den hellige stol\n",
            "Got JSONDecodeError, skipping\n",
            "Error fetching the article: Egil Storbekken\n"
          ]
        },
        {
          "metadata": {
            "tags": null
          },
          "name": "stderr",
          "output_type": "stream",
          "text": [
            "\r  5%|▍         | 996/20182 [07:48<2:22:46,  2.24it/s]"
          ]
        },
        {
          "metadata": {
            "tags": null
          },
          "name": "stdout",
          "output_type": "stream",
          "text": [
            "Got JSONDecodeError, skipping\n",
            "Error fetching the article: Sørfjorden\n",
            "Got JSONDecodeError, skippingGot JSONDecodeError, skipping\n",
            "Error fetching the article: Fjellsjøkampen\n",
            "\n",
            "Error fetching the article: Ingrid Kristiansen\n",
            "Got JSONDecodeError, skipping\n",
            "Error fetching the article: Kjerkeberget\n"
          ]
        },
        {
          "metadata": {
            "tags": null
          },
          "name": "stderr",
          "output_type": "stream",
          "text": [
            "\r  5%|▍         | 997/20182 [07:48<2:20:32,  2.28it/s]"
          ]
        },
        {
          "metadata": {
            "tags": null
          },
          "name": "stdout",
          "output_type": "stream",
          "text": [
            "Got JSONDecodeError, skipping\n",
            "Got JSONDecodeError, skipping\n",
            "Error fetching the article: FolarskardnutenGot JSONDecodeError, skipping\n",
            "Error fetching the article: Dick Cheney\n",
            "\n",
            "Error fetching the article: Vestlandet\n"
          ]
        },
        {
          "metadata": {
            "tags": null
          },
          "name": "stderr",
          "output_type": "stream",
          "text": [
            "\r  5%|▍         | 998/20182 [07:49<2:20:49,  2.27it/s]"
          ]
        },
        {
          "metadata": {
            "tags": null
          },
          "name": "stdout",
          "output_type": "stream",
          "text": [
            "Got JSONDecodeError, skipping\n",
            "Error fetching the article: Hardanger\n",
            "Got JSONDecodeError, skipping\n",
            "Error fetching the article: Den unge Werthers lidelser\n"
          ]
        },
        {
          "metadata": {
            "tags": null
          },
          "name": "stderr",
          "output_type": "stream",
          "text": [
            "  5%|▍         | 1000/20182 [07:50<2:26:01,  2.19it/s]"
          ]
        },
        {
          "metadata": {
            "tags": null
          },
          "name": "stdout",
          "output_type": "stream",
          "text": [
            "Got JSONDecodeError, skipping\n",
            "Error fetching the article: Otello Corporation\n",
            "Got JSONDecodeError, skipping\n",
            "Error fetching the article: Radio Norge\n",
            "Got JSONDecodeError, skipping\n",
            "Error fetching the article: Johann Gottfried von Herder\n",
            "Got JSONDecodeError, skipping\n",
            "Error fetching the article: Heinrich von Brentano\n",
            "Got JSONDecodeError, skipping\n",
            "Got JSONDecodeError, skipping\n",
            "Error fetching the article: N.F.S. Grundtvig\n",
            "Error fetching the article: Mikronesia\n"
          ]
        },
        {
          "metadata": {
            "tags": null
          },
          "name": "stderr",
          "output_type": "stream",
          "text": [
            "  5%|▍         | 1002/20182 [07:51<2:31:41,  2.11it/s]"
          ]
        },
        {
          "metadata": {
            "tags": null
          },
          "name": "stdout",
          "output_type": "stream",
          "text": [
            "Got JSONDecodeError, skipping\n",
            "Error fetching the article: Fisk\n",
            "Got JSONDecodeError, skipping\n",
            "Error fetching the article: Art\n",
            "Got JSONDecodeError, skipping\n",
            "Error fetching the article: Grensemerke\n",
            "Got JSONDecodeError, skipping\n",
            "Error fetching the article: Jotunheimen\n"
          ]
        },
        {
          "metadata": {
            "tags": null
          },
          "name": "stderr",
          "output_type": "stream",
          "text": [
            "\r  5%|▍         | 1003/20182 [07:51<2:26:45,  2.18it/s]"
          ]
        },
        {
          "metadata": {
            "tags": null
          },
          "name": "stdout",
          "output_type": "stream",
          "text": [
            "Got JSONDecodeError, skipping\n",
            "Got JSONDecodeError, skippingGot JSONDecodeError, skipping\n",
            "Error fetching the article: Åge Storhaug\n",
            "Error fetching the article: Saligkåring\n",
            "\n",
            "Error fetching the article: Numedalsbanen\n"
          ]
        },
        {
          "metadata": {
            "tags": null
          },
          "name": "stderr",
          "output_type": "stream",
          "text": [
            "\r  5%|▍         | 1004/20182 [07:52<2:26:20,  2.18it/s]"
          ]
        },
        {
          "metadata": {
            "tags": null
          },
          "name": "stdout",
          "output_type": "stream",
          "text": [
            "Got JSONDecodeError, skipping\n",
            "Error fetching the article: Konrad Duden\n",
            "Got JSONDecodeError, skipping\n",
            "Error fetching the article: Lypsyl\n",
            "Got JSONDecodeError, skipping\n",
            "Error fetching the article: Cathrine Fabricius Hansen\n"
          ]
        },
        {
          "metadata": {
            "tags": null
          },
          "name": "stderr",
          "output_type": "stream",
          "text": [
            "  5%|▌         | 1012/20182 [07:56<2:33:19,  2.08it/s]"
          ]
        },
        {
          "metadata": {
            "tags": null
          },
          "name": "stdout",
          "output_type": "stream",
          "text": [
            "Got JSONDecodeError, skipping\n",
            "Error fetching the article: Hans Paetsch\n",
            "Got JSONDecodeError, skipping\n",
            "Error fetching the article: Suzanne von Borsody\n",
            "Got JSONDecodeError, skipping\n",
            "Error fetching the article: Franka Potente\n"
          ]
        },
        {
          "metadata": {
            "tags": null
          },
          "name": "stderr",
          "output_type": "stream",
          "text": [
            "\r  5%|▌         | 1013/20182 [07:56<2:28:23,  2.15it/s]"
          ]
        },
        {
          "metadata": {
            "tags": null
          },
          "name": "stdout",
          "output_type": "stream",
          "text": [
            "Got JSONDecodeError, skipping\n",
            "Error fetching the article: Uriel von Gemmingen\n",
            "Got JSONDecodeError, skipping\n",
            "Error fetching the article: Galindisk\n",
            "Got JSONDecodeError, skipping\n",
            "Error fetching the article: Nydalen\n"
          ]
        },
        {
          "metadata": {
            "tags": null
          },
          "name": "stderr",
          "output_type": "stream",
          "text": [
            "\r  5%|▌         | 1014/20182 [07:57<2:26:47,  2.18it/s]"
          ]
        },
        {
          "metadata": {
            "tags": null
          },
          "name": "stdout",
          "output_type": "stream",
          "text": [
            "Got JSONDecodeError, skipping\n",
            "Error fetching the article: Rubel\n",
            "Got JSONDecodeError, skipping\n",
            "Error fetching the article: Sommer-OL 1900\n",
            "Got JSONDecodeError, skipping\n",
            "Error fetching the article: Vare\n"
          ]
        },
        {
          "metadata": {
            "tags": null
          },
          "name": "stderr",
          "output_type": "stream",
          "text": [
            "  5%|▌         | 1022/20182 [08:01<2:34:54,  2.06it/s]"
          ]
        },
        {
          "metadata": {
            "tags": null
          },
          "name": "stdout",
          "output_type": "stream",
          "text": [
            "Got JSONDecodeError, skippingGot JSONDecodeError, skipping\n",
            "Error fetching the article: Gunnar Reiss-Andersen\n",
            "\n",
            "Error fetching the article: Lauritz Bergendahl\n",
            "Got JSONDecodeError, skipping\n",
            "Error fetching the article: Gustav Sjaastad\n",
            "Got JSONDecodeError, skipping\n",
            "Error fetching the article: Franz von Sickingen\n",
            "Got JSONDecodeError, skipping\n",
            "Error fetching the article: Emil Stang d.y.\n",
            "Got JSONDecodeError, skipping\n",
            "Error fetching the article: Rossøya (Svalbard)\n",
            "Got JSONDecodeError, skipping\n",
            "Error fetching the article: Emil Stang\n"
          ]
        },
        {
          "metadata": {
            "tags": null
          },
          "name": "stderr",
          "output_type": "stream",
          "text": [
            "\r  5%|▌         | 1023/20182 [08:01<2:30:16,  2.12it/s]"
          ]
        },
        {
          "metadata": {
            "tags": null
          },
          "name": "stdout",
          "output_type": "stream",
          "text": [
            "Got JSONDecodeError, skipping\n",
            "Error fetching the article: Georg Spalatin\n",
            "Got JSONDecodeError, skipping\n",
            "Error fetching the article: Jacobus Latomus\n",
            "Got JSONDecodeError, skipping\n",
            "Error fetching the article: Puddel\n"
          ]
        },
        {
          "metadata": {
            "tags": null
          },
          "name": "stderr",
          "output_type": "stream",
          "text": [
            "\r  5%|▌         | 1024/20182 [08:02<2:25:12,  2.20it/s]"
          ]
        },
        {
          "metadata": {
            "tags": null
          },
          "name": "stdout",
          "output_type": "stream",
          "text": [
            "Got JSONDecodeError, skipping\n",
            "Error fetching the article: Koreakrigen\n"
          ]
        },
        {
          "metadata": {
            "tags": null
          },
          "name": "stderr",
          "output_type": "stream",
          "text": [
            "\r  5%|▌         | 1025/20182 [08:02<2:24:38,  2.21it/s]"
          ]
        },
        {
          "metadata": {
            "tags": null
          },
          "name": "stdout",
          "output_type": "stream",
          "text": [
            "Got JSONDecodeError, skipping\n",
            "Got JSONDecodeError, skippingError fetching the article: Fyrstikkarbeiderstreiken i Kristiania i 1889\n",
            "\n",
            "Error fetching the article: Sulpiz Boisserée\n",
            "Got JSONDecodeError, skipping\n",
            "Error fetching the article: August Heinrich Hoffmann von Fallersleben\n"
          ]
        },
        {
          "metadata": {
            "tags": null
          },
          "name": "stderr",
          "output_type": "stream",
          "text": [
            "\r  5%|▌         | 1026/20182 [08:03<2:21:47,  2.25it/s]"
          ]
        },
        {
          "metadata": {
            "tags": null
          },
          "name": "stdout",
          "output_type": "stream",
          "text": [
            "Got JSONDecodeError, skipping\n",
            "Error fetching the article: Observasjonspost\n"
          ]
        },
        {
          "metadata": {
            "tags": null
          },
          "name": "stderr",
          "output_type": "stream",
          "text": [
            "\r  5%|▌         | 1027/20182 [08:03<2:31:36,  2.11it/s]"
          ]
        },
        {
          "metadata": {
            "tags": null
          },
          "name": "stdout",
          "output_type": "stream",
          "text": [
            "Got KeyError, skipping\n",
            "Error fetching the article: KO\n"
          ]
        },
        {
          "metadata": {
            "tags": null
          },
          "name": "stderr",
          "output_type": "stream",
          "text": [
            "\r  5%|▌         | 1028/20182 [08:04<2:27:38,  2.16it/s]"
          ]
        },
        {
          "metadata": {
            "tags": null
          },
          "name": "stdout",
          "output_type": "stream",
          "text": [
            "Got JSONDecodeError, skipping\n",
            "Error fetching the article: Ulriken\n",
            "Got JSONDecodeError, skipping\n",
            "Error fetching the article: Engelbert Humperdinck\n",
            "Got JSONDecodeError, skipping\n",
            "Error fetching the article: Tyngdekraft\n"
          ]
        },
        {
          "metadata": {
            "tags": null
          },
          "name": "stderr",
          "output_type": "stream",
          "text": [
            "  5%|▌         | 1032/20182 [08:06<2:33:33,  2.08it/s]"
          ]
        },
        {
          "metadata": {
            "tags": null
          },
          "name": "stdout",
          "output_type": "stream",
          "text": [
            "Got JSONDecodeError, skipping\n",
            "Error fetching the article: Kniksenprisen\n",
            "Got JSONDecodeError, skipping\n",
            "Error fetching the article: Byte\n",
            "Got JSONDecodeError, skipping\n",
            "Error fetching the article: Kredittkort\n",
            "Got JSONDecodeError, skippingGot JSONDecodeError, skippingGot JSONDecodeError, skipping\n",
            "Error fetching the article: Willem Dircksz\n",
            "\n",
            "\n",
            "Error fetching the article: Impresjonisme\n",
            "Error fetching the article: Benjamin Creme\n"
          ]
        },
        {
          "metadata": {
            "tags": null
          },
          "name": "stderr",
          "output_type": "stream",
          "text": [
            "\r  5%|▌         | 1033/20182 [08:06<2:28:16,  2.15it/s]"
          ]
        },
        {
          "metadata": {
            "tags": null
          },
          "name": "stdout",
          "output_type": "stream",
          "text": [
            "Got JSONDecodeError, skipping\n",
            "Error fetching the article: Tetthet\n",
            "Got JSONDecodeError, skipping\n",
            "Error fetching the article: Angelo Poliziano\n"
          ]
        },
        {
          "metadata": {
            "tags": null
          },
          "name": "stderr",
          "output_type": "stream",
          "text": [
            "  5%|▌         | 1035/20182 [08:07<2:24:20,  2.21it/s]"
          ]
        },
        {
          "metadata": {
            "tags": null
          },
          "name": "stdout",
          "output_type": "stream",
          "text": [
            "Got JSONDecodeError, skippingGot JSONDecodeError, skipping\n",
            "Error fetching the article: Klasse\n",
            "\n",
            "Error fetching the article: Prøyssiske dyder\n",
            "Got JSONDecodeError, skippingGot JSONDecodeError, skipping\n",
            "Error fetching the article: Gjermund Eggen\n",
            "\n",
            "Error fetching the article: Orden (biologi)\n",
            "Got JSONDecodeError, skipping\n",
            "Error fetching the article: DomeneGot JSONDecodeError, skipping\n",
            "\n",
            "Error fetching the article: Rike (biologi)\n",
            "Got JSONDecodeError, skipping\n",
            "Error fetching the article: Gloria von Thurn und Taxis\n"
          ]
        },
        {
          "metadata": {
            "tags": null
          },
          "name": "stderr",
          "output_type": "stream",
          "text": [
            "  5%|▌         | 1037/20182 [08:08<2:24:17,  2.21it/s]"
          ]
        },
        {
          "metadata": {
            "tags": null
          },
          "name": "stdout",
          "output_type": "stream",
          "text": [
            "Got JSONDecodeError, skipping\n",
            "Error fetching the article: Norsk Helsenett\n",
            "Got JSONDecodeError, skipping\n",
            "Error fetching the article: Soling\n",
            "Got JSONDecodeError, skipping\n",
            "Error fetching the article: Helvete (Innlandet)\n"
          ]
        },
        {
          "metadata": {
            "tags": null
          },
          "name": "stderr",
          "output_type": "stream",
          "text": [
            "\r  5%|▌         | 1038/20182 [08:08<2:23:20,  2.23it/s]"
          ]
        },
        {
          "metadata": {
            "tags": null
          },
          "name": "stdout",
          "output_type": "stream",
          "text": [
            "Got JSONDecodeError, skipping\n",
            "Error fetching the article: Tvillingprimtall\n",
            "Got JSONDecodeError, skipping\n",
            "Error fetching the article: Abidjan\n",
            "Got JSONDecodeError, skipping\n",
            "Error fetching the article: Degnepoll\n"
          ]
        },
        {
          "metadata": {
            "tags": null
          },
          "name": "stderr",
          "output_type": "stream",
          "text": [
            "\r  5%|▌         | 1039/20182 [08:09<2:22:15,  2.24it/s]"
          ]
        },
        {
          "metadata": {
            "tags": null
          },
          "name": "stdout",
          "output_type": "stream",
          "text": [
            "Got JSONDecodeError, skipping\n",
            "Error fetching the article: Dødehavet\n",
            "Got JSONDecodeError, skipping\n",
            "Error fetching the article: Normisjon\n"
          ]
        },
        {
          "metadata": {
            "tags": null
          },
          "name": "stderr",
          "output_type": "stream",
          "text": [
            "  5%|▌         | 1041/20182 [08:10<2:30:46,  2.12it/s]"
          ]
        },
        {
          "metadata": {
            "tags": null
          },
          "name": "stdout",
          "output_type": "stream",
          "text": [
            "Got JSONDecodeError, skipping\n",
            "Error fetching the article: Krimkrigen\n",
            "Got JSONDecodeError, skipping\n",
            "Error fetching the article: Metanet\n",
            "Got JSONDecodeError, skippingGot JSONDecodeError, skipping\n",
            "Error fetching the article: Trevor Pinnock\n",
            "\n",
            "Error fetching the article: René Jacobs\n"
          ]
        },
        {
          "metadata": {
            "tags": null
          },
          "name": "stderr",
          "output_type": "stream",
          "text": [
            "  5%|▌         | 1043/20182 [08:11<2:30:32,  2.12it/s]"
          ]
        },
        {
          "metadata": {
            "tags": null
          },
          "name": "stdout",
          "output_type": "stream",
          "text": [
            "Got JSONDecodeError, skippingGot JSONDecodeError, skipping\n",
            "Error fetching the article: Sommer-OL 1980\n",
            "\n",
            "Error fetching the article: Sommer-OL 1984\n",
            "Got JSONDecodeError, skipping\n",
            "Error fetching the article: Bataljon\n"
          ]
        },
        {
          "metadata": {
            "tags": null
          },
          "name": "stderr",
          "output_type": "stream",
          "text": [
            "\r  5%|▌         | 1044/20182 [08:11<2:29:26,  2.13it/s]"
          ]
        },
        {
          "metadata": {
            "tags": null
          },
          "name": "stdout",
          "output_type": "stream",
          "text": [
            "Got JSONDecodeError, skipping\n",
            "Error fetching the article: Sommer-OL 2008\n",
            "Got JSONDecodeError, skipping\n",
            "Error fetching the article: Vålerenga\n",
            "Got JSONDecodeError, skipping\n",
            "Error fetching the article: Sommer-OL 1916\n",
            "Got JSONDecodeError, skipping\n",
            "Error fetching the article: Helsevesen\n"
          ]
        },
        {
          "metadata": {
            "tags": null
          },
          "name": "stderr",
          "output_type": "stream",
          "text": [
            "\r  5%|▌         | 1045/20182 [08:12<2:29:00,  2.14it/s]"
          ]
        },
        {
          "metadata": {
            "tags": null
          },
          "name": "stdout",
          "output_type": "stream",
          "text": [
            "Got JSONDecodeError, skipping\n",
            "Error fetching the article: Paul VI\n",
            "Got JSONDecodeError, skipping\n",
            "Error fetching the article: Medi 3\n",
            "Got JSONDecodeError, skipping\n",
            "Error fetching the article: Quintus Caecilius Metellus Pius\n",
            "Got JSONDecodeError, skipping\n",
            "Error fetching the article: Philipp av Hessen\n",
            "Got JSONDecodeError, skipping\n",
            "Error fetching the article: Siffer\n",
            "Got JSONDecodeError, skipping\n",
            "Error fetching the article: Jørn Lier Horst\n"
          ]
        },
        {
          "metadata": {
            "tags": null
          },
          "name": "stderr",
          "output_type": "stream",
          "text": [
            "\r  5%|▌         | 1046/20182 [08:12<2:28:39,  2.15it/s]"
          ]
        },
        {
          "metadata": {
            "tags": null
          },
          "name": "stdout",
          "output_type": "stream",
          "text": [
            "Got JSONDecodeError, skipping\n",
            "Error fetching the article: Hemmestad\n",
            "Got JSONDecodeError, skippingGot JSONDecodeError, skipping\n",
            "\n",
            "Error fetching the article: GullesfjordbotnError fetching the article: Flesnes\n",
            "\n"
          ]
        },
        {
          "metadata": {
            "tags": null
          },
          "name": "stderr",
          "output_type": "stream",
          "text": [
            "\r  5%|▌         | 1047/20182 [08:13<2:28:55,  2.14it/s]"
          ]
        },
        {
          "metadata": {
            "tags": null
          },
          "name": "stdout",
          "output_type": "stream",
          "text": [
            "Got JSONDecodeError, skipping\n",
            "Error fetching the article: Sommer-OL 1906\n",
            "Got JSONDecodeError, skipping\n",
            "Got JSONDecodeError, skippingError fetching the article: Slaget ved Hatfield Chase\n",
            "\n",
            "Error fetching the article: Optimatene\n",
            "Got JSONDecodeError, skipping\n",
            "Error fetching the article: Preikestolen\n"
          ]
        },
        {
          "metadata": {
            "tags": null
          },
          "name": "stderr",
          "output_type": "stream",
          "text": [
            "\r  5%|▌         | 1048/20182 [08:13<2:28:48,  2.14it/s]"
          ]
        },
        {
          "metadata": {
            "tags": null
          },
          "name": "stdout",
          "output_type": "stream",
          "text": [
            "Got JSONDecodeError, skipping\n",
            "Error fetching the article: Antisemittisme\n",
            "Got JSONDecodeError, skipping\n",
            "Error fetching the article: Bergen lufthavn, Flesland\n"
          ]
        },
        {
          "metadata": {
            "tags": null
          },
          "name": "stderr",
          "output_type": "stream",
          "text": [
            "\r  5%|▌         | 1049/20182 [08:13<2:24:41,  2.20it/s]"
          ]
        },
        {
          "metadata": {
            "tags": null
          },
          "name": "stdout",
          "output_type": "stream",
          "text": [
            "Got JSONDecodeError, skipping\n",
            "Error fetching the article: Mariakirken i Bergen\n",
            "Got JSONDecodeError, skipping\n",
            "Error fetching the article: Paavo Nurmi\n",
            "Got JSONDecodeError, skipping\n",
            "Error fetching the article: Deira\n",
            "Got JSONDecodeError, skipping\n",
            "Error fetching the article: Lasse Virén\n"
          ]
        },
        {
          "metadata": {
            "tags": null
          },
          "name": "stderr",
          "output_type": "stream",
          "text": [
            "  5%|▌         | 1051/20182 [08:14<2:33:24,  2.08it/s]"
          ]
        },
        {
          "metadata": {
            "tags": null
          },
          "name": "stdout",
          "output_type": "stream",
          "text": [
            "Got JSONDecodeError, skipping\n",
            "Error fetching the article: Gotthold Ephraim Lessing\n"
          ]
        },
        {
          "metadata": {
            "tags": null
          },
          "name": "stderr",
          "output_type": "stream",
          "text": [
            "  5%|▌         | 1053/20182 [08:15<2:29:15,  2.14it/s]"
          ]
        },
        {
          "metadata": {
            "tags": null
          },
          "name": "stdout",
          "output_type": "stream",
          "text": [
            "Got JSONDecodeError, skipping\n",
            "Error fetching the article: Dronning (sjakk)\n",
            "Got JSONDecodeError, skipping\n",
            "Error fetching the article: New York\n",
            "Got JSONDecodeError, skipping\n",
            "Error fetching the article: Magna Carta\n",
            "Got JSONDecodeError, skipping\n",
            "Error fetching the article: Edvard Bekjenneren\n",
            "Got JSONDecodeError, skipping\n",
            "Error fetching the article: Oslo lufthavn (Gardermoen)\n",
            "Got JSONDecodeError, skipping\n",
            "Error fetching the article: Penda av Mercia\n",
            "Got JSONDecodeError, skipping\n",
            "Error fetching the article: Pybba av Mercia\n",
            "Got JSONDecodeError, skipping\n",
            "Error fetching the article: Oswald av Northumbria\n"
          ]
        },
        {
          "metadata": {
            "tags": null
          },
          "name": "stderr",
          "output_type": "stream",
          "text": [
            "\r  5%|▌         | 1054/20182 [08:16<2:28:51,  2.14it/s]"
          ]
        },
        {
          "metadata": {
            "tags": null
          },
          "name": "stdout",
          "output_type": "stream",
          "text": [
            "Got JSONDecodeError, skipping\n",
            "Error fetching the article: Hans Lufft\n",
            "Got JSONDecodeError, skipping\n",
            "Error fetching the article: Den norske brigaden i Skottland\n",
            "Got JSONDecodeError, skipping\n",
            "Got JSONDecodeError, skipping\n",
            "Error fetching the article: Cadwaladr av Gwynedd\n",
            "Error fetching the article: Domnal Brecc av Dalriada\n"
          ]
        },
        {
          "metadata": {
            "tags": null
          },
          "name": "stderr",
          "output_type": "stream",
          "text": [
            "  5%|▌         | 1056/20182 [08:17<2:26:22,  2.18it/s]"
          ]
        },
        {
          "metadata": {
            "tags": null
          },
          "name": "stdout",
          "output_type": "stream",
          "text": [
            "Got JSONDecodeError, skipping\n",
            "Error fetching the article: Vergil\n",
            "Got JSONDecodeError, skipping\n",
            "Error fetching the article: Sverre Fehn\n",
            "Got JSONDecodeError, skipping\n",
            "Error fetching the article: Googol\n",
            "Got JSONDecodeError, skipping\n",
            "Got JSONDecodeError, skipping\n",
            "Error fetching the article: Aedan av DalriadaGot JSONDecodeError, skipping\n",
            "Error fetching the article: Bangor (Wales)\n",
            "\n",
            "Error fetching the article: Salt Lake City\n"
          ]
        },
        {
          "metadata": {
            "tags": null
          },
          "name": "stderr",
          "output_type": "stream",
          "text": [
            "  5%|▌         | 1058/20182 [08:18<2:20:39,  2.27it/s]"
          ]
        },
        {
          "metadata": {
            "tags": null
          },
          "name": "stdout",
          "output_type": "stream",
          "text": [
            "Got JSONDecodeError, skipping\n",
            "Error fetching the article: Georg von Polentz\n",
            "Got JSONDecodeError, skipping\n",
            "Error fetching the article: Rachel Carson\n",
            "Got JSONDecodeError, skipping\n",
            "Error fetching the article: Emmeline Pankhurst\n",
            "Got JSONDecodeError, skipping\n",
            "Error fetching the article: Conrad Schumann\n",
            "Got JSONDecodeError, skipping\n",
            "Error fetching the article: Albert Viljam Hagelin\n"
          ]
        },
        {
          "metadata": {
            "tags": null
          },
          "name": "stderr",
          "output_type": "stream",
          "text": [
            "  5%|▌         | 1060/20182 [08:19<2:32:46,  2.09it/s]"
          ]
        },
        {
          "metadata": {
            "tags": null
          },
          "name": "stdout",
          "output_type": "stream",
          "text": [
            "Got JSONDecodeError, skipping\n",
            "Error fetching the article: Hans Ulrik Gyldenløve\n",
            "Got JSONDecodeError, skipping\n",
            "Error fetching the article: Nøkkelvitnet\n"
          ]
        },
        {
          "metadata": {
            "tags": null
          },
          "name": "stderr",
          "output_type": "stream",
          "text": [
            "\r  5%|▌         | 1061/20182 [08:19<2:31:17,  2.11it/s]"
          ]
        },
        {
          "metadata": {
            "tags": null
          },
          "name": "stdout",
          "output_type": "stream",
          "text": [
            "Got JSONDecodeError, skippingGot JSONDecodeError, skipping\n",
            "\n",
            "Error fetching the article: Gabhran av Dalriada\n",
            "Error fetching the article: Torghatten\n",
            "Got JSONDecodeError, skipping\n",
            "Error fetching the article: Ragnar Skancke\n",
            "Got JSONDecodeError, skipping\n",
            "Error fetching the article: Domangart I av Dalriada\n",
            "Got JSONDecodeError, skipping\n",
            "Error fetching the article: Liste over innsjøer i Storbritannia\n",
            "Got JSONDecodeError, skipping\n",
            "Error fetching the article: Loch Lomond\n"
          ]
        },
        {
          "metadata": {
            "tags": null
          },
          "name": "stderr",
          "output_type": "stream",
          "text": [
            "  5%|▌         | 1063/20182 [08:20<2:26:25,  2.18it/s]"
          ]
        },
        {
          "metadata": {
            "tags": null
          },
          "name": "stdout",
          "output_type": "stream",
          "text": [
            "Got JSONDecodeError, skipping\n",
            "Error fetching the article: Apotek\n",
            "Got JSONDecodeError, skipping\n",
            "Error fetching the article: Franz Werfel\n",
            "Got JSONDecodeError, skipping\n",
            "Error fetching the article: Ferchar I av Dalriada\n",
            "Got JSONDecodeError, skipping\n",
            "Error fetching the article: Ainfcellach av Dalriada\n",
            "Got JSONDecodeError, skipping\n",
            "Error fetching the article: Eochaid II av Dalriada\n",
            "Got JSONDecodeError, skipping\n",
            "Error fetching the article: Christian Schweigaard\n"
          ]
        },
        {
          "metadata": {
            "tags": null
          },
          "name": "stderr",
          "output_type": "stream",
          "text": [
            "\r  5%|▌         | 1064/20182 [08:20<2:22:20,  2.24it/s]"
          ]
        },
        {
          "metadata": {
            "tags": null
          },
          "name": "stdout",
          "output_type": "stream",
          "text": [
            "Got JSONDecodeError, skipping\n",
            "Error fetching the article: Iona\n",
            "Got JSONDecodeError, skipping\n",
            "Error fetching the article: IrDA\n"
          ]
        },
        {
          "metadata": {
            "tags": null
          },
          "name": "stderr",
          "output_type": "stream",
          "text": [
            "\r  5%|▌         | 1065/20182 [08:21<2:19:41,  2.28it/s]"
          ]
        },
        {
          "metadata": {
            "tags": null
          },
          "name": "stdout",
          "output_type": "stream",
          "text": [
            "Got JSONDecodeError, skipping\n",
            "Error fetching the article: K.M. MyrlandGot JSONDecodeError, skipping\n",
            "\n",
            "Error fetching the article: Wenche Myhre\n"
          ]
        },
        {
          "metadata": {
            "tags": null
          },
          "name": "stderr",
          "output_type": "stream",
          "text": [
            "  5%|▌         | 1068/20182 [08:22<2:38:06,  2.01it/s]"
          ]
        },
        {
          "metadata": {
            "tags": null
          },
          "name": "stdout",
          "output_type": "stream",
          "text": [
            "Got JSONDecodeError, skipping\n",
            "Error fetching the article: Oskar Schlemmer\n",
            "Got JSONDecodeError, skipping\n",
            "Error fetching the article: Harald Hardråde\n"
          ]
        },
        {
          "metadata": {
            "tags": null
          },
          "name": "stderr",
          "output_type": "stream",
          "text": [
            "\r  5%|▌         | 1069/20182 [08:23<2:43:16,  1.95it/s]"
          ]
        },
        {
          "metadata": {
            "tags": null
          },
          "name": "stdout",
          "output_type": "stream",
          "text": [
            "Got JSONDecodeError, skipping\n",
            "Error fetching the article: Harry Potter og fangen fra Azkaban\n",
            "Got JSONDecodeError, skipping\n",
            "Error fetching the article: Rena\n",
            "Got JSONDecodeError, skipping\n",
            "Error fetching the article: Nimbschen\n"
          ]
        },
        {
          "metadata": {
            "tags": null
          },
          "name": "stderr",
          "output_type": "stream",
          "text": [
            "  5%|▌         | 1072/20182 [08:25<2:46:10,  1.92it/s]"
          ]
        },
        {
          "metadata": {
            "tags": null
          },
          "name": "stdout",
          "output_type": "stream",
          "text": [
            "Got JSONDecodeError, skipping\n",
            "Error fetching the article: Thomas Müntzer\n",
            "Got JSONDecodeError, skipping\n",
            "Error fetching the article: Sonja\n",
            "Got JSONDecodeError, skipping\n",
            "Error fetching the article: Rokade\n"
          ]
        },
        {
          "metadata": {
            "tags": null
          },
          "name": "stderr",
          "output_type": "stream",
          "text": [
            "\r  5%|▌         | 1073/20182 [08:25<2:43:47,  1.94it/s]"
          ]
        },
        {
          "metadata": {
            "tags": null
          },
          "name": "stdout",
          "output_type": "stream",
          "text": [
            "Got JSONDecodeError, skipping\n",
            "Error fetching the article: Æthelberht av Wessex\n",
            "Got JSONDecodeError, skipping\n",
            "Error fetching the article: Steven Spielberg\n",
            "Got JSONDecodeError, skipping\n",
            "Error fetching the article: Mikhail BotvinnikGot JSONDecodeError, skipping\n",
            "\n",
            "Got JSONDecodeError, skipping\n",
            "Error fetching the article: Tigran Petrosian\n",
            "Error fetching the article: Bletoppen\n"
          ]
        },
        {
          "metadata": {
            "tags": null
          },
          "name": "stderr",
          "output_type": "stream",
          "text": [
            "  5%|▌         | 1075/20182 [08:26<2:30:26,  2.12it/s]"
          ]
        },
        {
          "metadata": {
            "tags": null
          },
          "name": "stdout",
          "output_type": "stream",
          "text": [
            "Got JSONDecodeError, skipping\n",
            "Error fetching the article: DDT\n",
            "Got JSONDecodeError, skipping\n",
            "Error fetching the article: Ski\n",
            "Got JSONDecodeError, skipping\n",
            "Error fetching the article: City of London Police\n",
            "Got JSONDecodeError, skipping\n",
            "Error fetching the article: Den europeiske jødiske kongressen\n",
            "Got JSONDecodeError, skippingGot JSONDecodeError, skipping\n",
            "Error fetching the article: Den internasjonale romstasjonen\n",
            "\n",
            "Error fetching the article: Nesodden-Bundefjord Dampskipsselskap\n",
            "Got JSONDecodeError, skipping\n",
            "Error fetching the article: Toralv Øksnevad\n"
          ]
        },
        {
          "metadata": {
            "tags": null
          },
          "name": "stderr",
          "output_type": "stream",
          "text": [
            "  5%|▌         | 1077/20182 [08:27<2:29:47,  2.13it/s]"
          ]
        },
        {
          "metadata": {
            "tags": null
          },
          "name": "stdout",
          "output_type": "stream",
          "text": [
            "Got JSONDecodeError, skipping\n",
            "Error fetching the article: Einar Busterud\n",
            "Got JSONDecodeError, skipping\n",
            "Error fetching the article: Berlinmuren\n",
            "Got JSONDecodeError, skipping\n",
            "Error fetching the article: Konfirmasjon\n"
          ]
        },
        {
          "metadata": {
            "tags": null
          },
          "name": "stderr",
          "output_type": "stream",
          "text": [
            "\r  5%|▌         | 1078/20182 [08:27<2:29:52,  2.12it/s]"
          ]
        },
        {
          "metadata": {
            "tags": null
          },
          "name": "stdout",
          "output_type": "stream",
          "text": [
            "Got JSONDecodeError, skipping\n",
            "Error fetching the article: Bangkok\n",
            "Got JSONDecodeError, skipping\n",
            "Error fetching the article: Dystopi\n",
            "Got JSONDecodeError, skipping\n",
            "Error fetching the article: Statistisk sentralbyrå\n",
            "Got JSONDecodeError, skipping\n",
            "Error fetching the article: Galtvort høyere skole for hekseri og trolldom\n",
            "Got JSONDecodeError, skipping\n",
            "Error fetching the article: Woody Allen\n",
            "Got JSONDecodeError, skipping\n",
            "Error fetching the article: Sojourner Truth\n",
            "Got JSONDecodeError, skipping\n",
            "Error fetching the article: Akira Kurosawa\n"
          ]
        },
        {
          "metadata": {
            "tags": null
          },
          "name": "stderr",
          "output_type": "stream",
          "text": [
            "\r  5%|▌         | 1079/20182 [08:28<2:29:33,  2.13it/s]"
          ]
        },
        {
          "metadata": {
            "tags": null
          },
          "name": "stdout",
          "output_type": "stream",
          "text": [
            "Got JSONDecodeError, skipping\n",
            "Error fetching the article: Asa G. Candler\n",
            "Got JSONDecodeError, skipping\n",
            "Error fetching the article: Lapu-Lapu City\n",
            "Got JSONDecodeError, skipping\n",
            "Error fetching the article: Hélder Câmara\n",
            "Got JSONDecodeError, skipping\n",
            "Error fetching the article: Cebu City\n"
          ]
        },
        {
          "metadata": {
            "tags": null
          },
          "name": "stderr",
          "output_type": "stream",
          "text": [
            "\r  5%|▌         | 1080/20182 [08:28<2:28:56,  2.14it/s]"
          ]
        },
        {
          "metadata": {
            "tags": null
          },
          "name": "stdout",
          "output_type": "stream",
          "text": [
            "Got JSONDecodeError, skipping\n",
            "Error fetching the article: Hermetikk\n",
            "Got JSONDecodeError, skipping\n",
            "Error fetching the article: UNICEF\n",
            "Got JSONDecodeError, skipping\n",
            "Error fetching the article: Zahir Shah\n",
            "Got JSONDecodeError, skipping\n",
            "Error fetching the article: Tananger\n"
          ]
        },
        {
          "metadata": {
            "tags": null
          },
          "name": "stderr",
          "output_type": "stream",
          "text": [
            "  5%|▌         | 1082/20182 [08:29<2:25:00,  2.20it/s]"
          ]
        },
        {
          "metadata": {
            "tags": null
          },
          "name": "stdout",
          "output_type": "stream",
          "text": [
            "Got JSONDecodeError, skipping\n",
            "Error fetching the article: Jens Weißflog\n",
            "Got JSONDecodeError, skipping\n",
            "Error fetching the article: Det norske radiumhospital\n",
            "Got JSONDecodeError, skipping\n",
            "Error fetching the article: Sykehuset Østfold\n",
            "Got JSONDecodeError, skipping\n",
            "Error fetching the article: Hillevåg\n",
            "Got JSONDecodeError, skipping\n",
            "Error fetching the article: Leif Johan Sevland\n",
            "Got JSONDecodeError, skipping\n",
            "Error fetching the article: Jåttånuten\n"
          ]
        },
        {
          "metadata": {
            "tags": null
          },
          "name": "stderr",
          "output_type": "stream",
          "text": [
            "\r  5%|▌         | 1083/20182 [08:30<2:22:24,  2.24it/s]"
          ]
        },
        {
          "metadata": {
            "tags": null
          },
          "name": "stdout",
          "output_type": "stream",
          "text": [
            "Got JSONDecodeError, skippingGot JSONDecodeError, skipping\n",
            "Error fetching the article: Moské\n",
            "\n",
            "Error fetching the article: Reinald av Stavanger\n",
            "Got JSONDecodeError, skipping\n",
            "Got JSONDecodeError, skipping\n",
            "Error fetching the article: Barry Goldwater\n",
            "Error fetching the article: Christiansholm festning\n"
          ]
        },
        {
          "metadata": {
            "tags": null
          },
          "name": "stderr",
          "output_type": "stream",
          "text": [
            "\r  5%|▌         | 1084/20182 [08:30<2:25:24,  2.19it/s]"
          ]
        },
        {
          "metadata": {
            "tags": null
          },
          "name": "stdout",
          "output_type": "stream",
          "text": [
            "Got JSONDecodeError, skipping\n",
            "Error fetching the article: Torquay\n",
            "Got JSONDecodeError, skipping\n",
            "Error fetching the article: Teodolitt\n",
            "Got JSONDecodeError, skippingGot JSONDecodeError, skipping\n",
            "Error fetching the article: Rochester (Kent)\n",
            "\n",
            "Error fetching the article: Picometer\n"
          ]
        },
        {
          "metadata": {
            "tags": null
          },
          "name": "stderr",
          "output_type": "stream",
          "text": [
            "  5%|▌         | 1087/20182 [08:32<2:37:18,  2.02it/s]"
          ]
        },
        {
          "metadata": {
            "tags": null
          },
          "name": "stdout",
          "output_type": "stream",
          "text": [
            "Got JSONDecodeError, skipping\n",
            "Error fetching the article: Johann Froben\n",
            "Got JSONDecodeError, skipping\n",
            "Error fetching the article: Trygve Hegnar\n",
            "Got JSONDecodeError, skipping\n",
            "Error fetching the article: Svinesund\n"
          ]
        },
        {
          "metadata": {
            "tags": null
          },
          "name": "stderr",
          "output_type": "stream",
          "text": [
            "\r  5%|▌         | 1088/20182 [08:32<2:34:15,  2.06it/s]"
          ]
        },
        {
          "metadata": {
            "tags": null
          },
          "name": "stdout",
          "output_type": "stream",
          "text": [
            "Got JSONDecodeError, skippingGot JSONDecodeError, skipping\n",
            "Error fetching the article: Zeptometer\n",
            "\n",
            "Error fetching the article: Yoktometer\n",
            "Got JSONDecodeError, skipping\n",
            "Error fetching the article: Operasjon Dagsverk\n",
            "Got JSONDecodeError, skipping\n",
            "Error fetching the article: Paul Allen\n",
            "Got JSONDecodeError, skipping\n",
            "Error fetching the article: Ångstrøm\n"
          ]
        },
        {
          "metadata": {
            "tags": null
          },
          "name": "stderr",
          "output_type": "stream",
          "text": [
            "\r  5%|▌         | 1089/20182 [08:33<2:33:17,  2.08it/s]"
          ]
        },
        {
          "metadata": {
            "tags": null
          },
          "name": "stdout",
          "output_type": "stream",
          "text": [
            "Got JSONDecodeError, skippingGot JSONDecodeError, skippingGot JSONDecodeError, skipping\n",
            "Error fetching the article: Bedfordshire\n",
            "\n",
            "Error fetching the article: Oddernes\n",
            "\n",
            "Error fetching the article: Acura\n",
            "Got JSONDecodeError, skipping\n",
            "Error fetching the article: Sevastopol\n"
          ]
        },
        {
          "metadata": {
            "tags": null
          },
          "name": "stderr",
          "output_type": "stream",
          "text": [
            "  5%|▌         | 1091/20182 [08:33<2:27:49,  2.15it/s]"
          ]
        },
        {
          "metadata": {
            "tags": null
          },
          "name": "stdout",
          "output_type": "stream",
          "text": [
            "Got JSONDecodeError, skipping\n",
            "Error fetching the article: Seremonielt grevskap (England)\n",
            "Got JSONDecodeError, skipping\n",
            "Error fetching the article: Terrorangrepene 11. september 2001\n",
            "Got JSONDecodeError, skipping\n",
            "Error fetching the article: Måløyraidet\n",
            "Got JSONDecodeError, skipping\n",
            "Error fetching the article: Dekameter\n",
            "Got JSONDecodeError, skipping\n",
            "Error fetching the article: Kanton\n",
            "Got JSONDecodeError, skipping\n",
            "Error fetching the article: Hektometer\n",
            "Got JSONDecodeError, skipping\n",
            "Error fetching the article: Romfart\n"
          ]
        },
        {
          "metadata": {
            "tags": null
          },
          "name": "stderr",
          "output_type": "stream",
          "text": [
            "  5%|▌         | 1093/20182 [08:34<2:32:56,  2.08it/s]"
          ]
        },
        {
          "metadata": {
            "tags": null
          },
          "name": "stdout",
          "output_type": "stream",
          "text": [
            "Got JSONDecodeError, skipping\n",
            "Got JSONDecodeError, skipping\n",
            "Error fetching the article: Royal League\n",
            "Error fetching the article: Gigameter\n"
          ]
        },
        {
          "metadata": {
            "tags": null
          },
          "name": "stderr",
          "output_type": "stream",
          "text": [
            "  5%|▌         | 1095/20182 [08:35<2:30:27,  2.11it/s]"
          ]
        },
        {
          "metadata": {
            "tags": null
          },
          "name": "stdout",
          "output_type": "stream",
          "text": [
            "Got JSONDecodeError, skipping\n",
            "Error fetching the article: Islamisme\n",
            "Got JSONDecodeError, skipping\n",
            "Error fetching the article: Jan Tyriberget\n",
            "Got JSONDecodeError, skipping\n",
            "Error fetching the article: Exameter\n",
            "Got JSONDecodeError, skipping\n",
            "Error fetching the article: Yottameter\n",
            "Got JSONDecodeError, skipping\n",
            "Error fetching the article: Jesu Kristi kirke av siste dagers hellige\n",
            "Got JSONDecodeError, skipping\n",
            "Error fetching the article: Ingemar Stenmark\n",
            "Got JSONDecodeError, skipping\n",
            "Error fetching the article: Karbondatering\n"
          ]
        },
        {
          "metadata": {
            "tags": null
          },
          "name": "stderr",
          "output_type": "stream",
          "text": [
            "\r  5%|▌         | 1096/20182 [08:36<2:28:14,  2.15it/s]"
          ]
        },
        {
          "metadata": {
            "tags": null
          },
          "name": "stdout",
          "output_type": "stream",
          "text": [
            "Got JSONDecodeError, skipping\n",
            "Error fetching the article: Ar (måleenhet)\n",
            "Got JSONDecodeError, skippingGot JSONDecodeError, skipping\n",
            "Error fetching the article: Balaklava\n",
            "\n",
            "Error fetching the article: SjøkyrGot JSONDecodeError, skipping\n",
            "Error fetching the article: Dekar\n",
            "\n"
          ]
        },
        {
          "metadata": {
            "tags": null
          },
          "name": "stderr",
          "output_type": "stream",
          "text": [
            "\r  5%|▌         | 1097/20182 [08:36<2:26:03,  2.18it/s]"
          ]
        },
        {
          "metadata": {
            "tags": null
          },
          "name": "stdout",
          "output_type": "stream",
          "text": [
            "Got JSONDecodeError, skipping\n",
            "Error fetching the article: Jekaterinburg\n"
          ]
        },
        {
          "metadata": {
            "tags": null
          },
          "name": "stderr",
          "output_type": "stream",
          "text": [
            "\r  5%|▌         | 1098/20182 [08:37<2:31:33,  2.10it/s]"
          ]
        },
        {
          "metadata": {
            "tags": null
          },
          "name": "stdout",
          "output_type": "stream",
          "text": [
            "Got JSONDecodeError, skipping\n",
            "Error fetching the article: Bærerakett\n",
            "Got JSONDecodeError, skipping\n",
            "Error fetching the article: Chatham (Kent)\n",
            "Got JSONDecodeError, skipping\n",
            "Error fetching the article: Penshurst\n",
            "Got JSONDecodeError, skipping\n",
            "Error fetching the article: Romferge\n"
          ]
        },
        {
          "metadata": {
            "tags": null
          },
          "name": "stderr",
          "output_type": "stream",
          "text": [
            "  5%|▌         | 1100/20182 [08:38<2:28:53,  2.14it/s]"
          ]
        },
        {
          "metadata": {
            "tags": null
          },
          "name": "stdout",
          "output_type": "stream",
          "text": [
            "Got JSONDecodeError, skipping\n",
            "Error fetching the article: Registrert partnerskap\n",
            "Got JSONDecodeError, skipping\n",
            "Error fetching the article: Djembe\n",
            "Got JSONDecodeError, skipping\n",
            "Error fetching the article: 339 Special Operations Aviation Squadron\n",
            "Got JSONDecodeError, skipping\n",
            "Error fetching the article: Hotell i særklasse\n",
            "Got JSONDecodeError, skipping\n",
            "Error fetching the article: Devon\n",
            "Got JSONDecodeError, skipping\n",
            "Error fetching the article: Nintendo\n",
            "Got JSONDecodeError, skipping\n",
            "Error fetching the article: Esekiel\n"
          ]
        },
        {
          "metadata": {
            "tags": null
          },
          "name": "stderr",
          "output_type": "stream",
          "text": [
            "  5%|▌         | 1105/20182 [08:40<2:34:35,  2.06it/s]"
          ]
        },
        {
          "metadata": {
            "tags": null
          },
          "name": "stdout",
          "output_type": "stream",
          "text": [
            "Got JSONDecodeError, skipping\n",
            "Error fetching the article: Fucking Åmål\n",
            "Got JSONDecodeError, skippingGot JSONDecodeError, skipping\n",
            "Error fetching the article: Brookwood gravlund\n",
            "\n",
            "Error fetching the article: Kingston upon Thames\n",
            "Got JSONDecodeError, skipping\n",
            "Error fetching the article: Finlandshette\n",
            "Got JSONDecodeError, skipping\n",
            "Error fetching the article: Simon Slåttvik\n",
            "Got JSONDecodeError, skipping\n",
            "Error fetching the article: Karl V av Det tysk-romerske rike\n",
            "Got JSONDecodeError, skipping\n",
            "Error fetching the article: Negros Oriental\n",
            "Got JSONDecodeError, skipping\n",
            "Error fetching the article: Dalen Hotel\n"
          ]
        },
        {
          "metadata": {
            "tags": null
          },
          "name": "stderr",
          "output_type": "stream",
          "text": [
            "  5%|▌         | 1108/20182 [08:42<2:40:06,  1.99it/s]"
          ]
        },
        {
          "metadata": {
            "tags": null
          },
          "name": "stdout",
          "output_type": "stream",
          "text": [
            "Got JSONDecodeError, skipping\n",
            "Error fetching the article: Jo Nesbø\n",
            "Got JSONDecodeError, skipping\n",
            "Error fetching the article: Posthuset (høyhus)\n"
          ]
        },
        {
          "metadata": {
            "tags": null
          },
          "name": "stderr",
          "output_type": "stream",
          "text": [
            "\r  5%|▌         | 1109/20182 [08:42<2:32:15,  2.09it/s]"
          ]
        },
        {
          "metadata": {
            "tags": null
          },
          "name": "stdout",
          "output_type": "stream",
          "text": [
            "Got JSONDecodeError, skipping\n",
            "Error fetching the article: Jawaharlal Nehru\n",
            "Got JSONDecodeError, skipping\n",
            "Error fetching the article: Ruy López de Villalobos\n",
            "Got JSONDecodeError, skipping\n",
            "Error fetching the article: Claude Monet\n",
            "Got JSONDecodeError, skipping\n",
            "Error fetching the article: Max Havelaar\n",
            "Got JSONDecodeError, skipping\n",
            "Got JSONDecodeError, skipping\n",
            "Error fetching the article: Richard Fox\n",
            "Error fetching the article: Ørken\n",
            "Got JSONDecodeError, skipping\n",
            "Error fetching the article: Ægir\n"
          ]
        },
        {
          "metadata": {
            "tags": null
          },
          "name": "stderr",
          "output_type": "stream",
          "text": [
            "\r  5%|▌         | 1110/20182 [08:43<2:27:17,  2.16it/s]"
          ]
        },
        {
          "metadata": {
            "tags": null
          },
          "name": "stdout",
          "output_type": "stream",
          "text": [
            "Got JSONDecodeError, skipping\n",
            "Error fetching the article: Herman Friele (1838–1921)\n",
            "Got JSONDecodeError, skippingGot JSONDecodeError, skipping\n",
            "Error fetching the article: Stoke City FC\n",
            "\n",
            "Error fetching the article: Augusta av Sachsen-Weimar-Eisenach\n"
          ]
        },
        {
          "metadata": {
            "tags": null
          },
          "name": "stderr",
          "output_type": "stream",
          "text": [
            "  6%|▌         | 1112/20182 [08:44<2:28:23,  2.14it/s]"
          ]
        },
        {
          "metadata": {
            "tags": null
          },
          "name": "stdout",
          "output_type": "stream",
          "text": [
            "Got JSONDecodeError, skipping\n",
            "Error fetching the article: Romanov\n",
            "Got JSONDecodeError, skipping\n",
            "Error fetching the article: KFOR\n"
          ]
        },
        {
          "metadata": {
            "tags": null
          },
          "name": "stderr",
          "output_type": "stream",
          "text": [
            "\r  6%|▌         | 1113/20182 [08:44<2:23:50,  2.21it/s]"
          ]
        },
        {
          "metadata": {
            "tags": null
          },
          "name": "stdout",
          "output_type": "stream",
          "text": [
            "Got JSONDecodeError, skipping\n",
            "Error fetching the article: Johan Sebastian Welhaven\n",
            "Got JSONDecodeError, skipping\n",
            "Error fetching the article: Den europeiske unions historie (tidslinje)\n",
            "Got JSONDecodeError, skipping\n",
            "Error fetching the article: Kjetil André Aamodt\n",
            "Got JSONDecodeError, skipping\n",
            "Error fetching the article: Trollavtalen\n"
          ]
        },
        {
          "metadata": {
            "tags": null
          },
          "name": "stderr",
          "output_type": "stream",
          "text": [
            "  6%|▌         | 1117/20182 [08:46<2:34:23,  2.06it/s]"
          ]
        },
        {
          "metadata": {
            "tags": null
          },
          "name": "stdout",
          "output_type": "stream",
          "text": [
            "Got JSONDecodeError, skipping\n",
            "Error fetching the article: Danmarks plass\n",
            "Got JSONDecodeError, skipping\n",
            "Error fetching the article: Konstantin II av Skottland\n"
          ]
        },
        {
          "metadata": {
            "tags": null
          },
          "name": "stderr",
          "output_type": "stream",
          "text": [
            "  6%|▌         | 1119/20182 [08:47<2:34:42,  2.05it/s]"
          ]
        },
        {
          "metadata": {
            "tags": null
          },
          "name": "stdout",
          "output_type": "stream",
          "text": [
            "Got JSONDecodeError, skipping\n",
            "Error fetching the article: BitTorrent\n",
            "Got JSONDecodeError, skipping\n",
            "Error fetching the article: Pita\n",
            "Got JSONDecodeError, skippingGot JSONDecodeError, skipping\n",
            "\n",
            "Error fetching the article: Kinn (øy)\n",
            "Error fetching the article: Borneo\n",
            "Got JSONDecodeError, skippingGot JSONDecodeError, skipping\n",
            "Error fetching the article: Konstantin I av Skottland\n",
            "\n",
            "Error fetching the article: Gasskompressor\n"
          ]
        },
        {
          "metadata": {
            "tags": null
          },
          "name": "stderr",
          "output_type": "stream",
          "text": [
            "\r  6%|▌         | 1120/20182 [08:47<2:30:15,  2.11it/s]"
          ]
        },
        {
          "metadata": {
            "tags": null
          },
          "name": "stdout",
          "output_type": "stream",
          "text": [
            "Got JSONDecodeError, skipping\n",
            "Error fetching the article: Gresk skulptur\n",
            "Got JSONDecodeError, skipping\n",
            "Error fetching the article: Sognefjorden\n"
          ]
        },
        {
          "metadata": {
            "tags": null
          },
          "name": "stderr",
          "output_type": "stream",
          "text": [
            "\r  6%|▌         | 1121/20182 [08:48<2:34:20,  2.06it/s]"
          ]
        },
        {
          "metadata": {
            "tags": null
          },
          "name": "stdout",
          "output_type": "stream",
          "text": [
            "Got JSONDecodeError, skipping\n",
            "Error fetching the article: Klemens av Alexandria\n"
          ]
        },
        {
          "metadata": {
            "tags": null
          },
          "name": "stderr",
          "output_type": "stream",
          "text": [
            "  6%|▌         | 1123/20182 [08:49<2:32:06,  2.09it/s]"
          ]
        },
        {
          "metadata": {
            "tags": null
          },
          "name": "stdout",
          "output_type": "stream",
          "text": [
            "Got JSONDecodeError, skipping\n",
            "Error fetching the article: VAZGot JSONDecodeError, skipping\n",
            "Error fetching the article: Malmesbury AbbeyGot JSONDecodeError, skipping\n",
            "Error fetching the article: Lada\n",
            "Got JSONDecodeError, skipping\n",
            "Error fetching the article: Hieronymus\n",
            "\n",
            "\n",
            "Got JSONDecodeError, skipping\n",
            "Error fetching the article: Den romerske republikk\n"
          ]
        },
        {
          "metadata": {
            "tags": null
          },
          "name": "stderr",
          "output_type": "stream",
          "text": [
            "  6%|▌         | 1125/20182 [08:50<2:33:34,  2.07it/s]"
          ]
        },
        {
          "metadata": {
            "tags": null
          },
          "name": "stdout",
          "output_type": "stream",
          "text": [
            "Got JSONDecodeError, skippingGot JSONDecodeError, skipping\n",
            "Error fetching the article: Asklepios\n",
            "\n",
            "Error fetching the article: KuldeanleggGot JSONDecodeError, skipping\n",
            "\n",
            "Error fetching the article: Nikolaus von Falkenhorst\n",
            "Got JSONDecodeError, skipping\n",
            "Error fetching the article: Jean-Claude Juncker\n",
            "Got JSONDecodeError, skipping\n",
            "Error fetching the article: O-fag\n",
            "Got JSONDecodeError, skipping\n",
            "Error fetching the article: Maksim Gorkij\n"
          ]
        },
        {
          "metadata": {
            "tags": null
          },
          "name": "stderr",
          "output_type": "stream",
          "text": [
            "\r  6%|▌         | 1126/20182 [08:50<2:30:35,  2.11it/s]"
          ]
        },
        {
          "metadata": {
            "tags": null
          },
          "name": "stdout",
          "output_type": "stream",
          "text": [
            "Got JSONDecodeError, skipping\n",
            "Error fetching the article: Boris Pasternak\n",
            "Got JSONDecodeError, skipping\n",
            "Error fetching the article: Goiás\n",
            "Got JSONDecodeError, skipping\n",
            "Error fetching the article: Espírito Santo\n"
          ]
        },
        {
          "metadata": {
            "tags": null
          },
          "name": "stderr",
          "output_type": "stream",
          "text": [
            "  6%|▌         | 1128/20182 [08:51<2:27:00,  2.16it/s]"
          ]
        },
        {
          "metadata": {
            "tags": null
          },
          "name": "stdout",
          "output_type": "stream",
          "text": [
            "Got JSONDecodeError, skipping\n",
            "Error fetching the article: Amapá\n",
            "Got JSONDecodeError, skipping\n",
            "Error fetching the article: Operafjell-ulykken\n",
            "Got JSONDecodeError, skipping\n",
            "Error fetching the article: Mersey\n",
            "Got JSONDecodeError, skipping\n",
            "Error fetching the article: Amazonas (Brasil)\n",
            "Got JSONDecodeError, skippingGot JSONDecodeError, skipping\n",
            "Error fetching the article: Bø Sommarland\n",
            "\n",
            "Error fetching the article: Trondheimsfjorden\n",
            "Got JSONDecodeError, skipping\n",
            "Error fetching the article: Dimensjonerende utetemperatur\n"
          ]
        },
        {
          "metadata": {
            "tags": null
          },
          "name": "stderr",
          "output_type": "stream",
          "text": [
            "\r  6%|▌         | 1129/20182 [08:52<2:26:56,  2.16it/s]"
          ]
        },
        {
          "metadata": {
            "tags": null
          },
          "name": "stdout",
          "output_type": "stream",
          "text": [
            "Got JSONDecodeError, skipping\n",
            "Error fetching the article: Hadeland Glassverk\n",
            "Got JSONDecodeError, skippingGot JSONDecodeError, skipping\n",
            "Error fetching the article: Varme\n",
            "\n",
            "Error fetching the article: Hurrungane\n",
            "Got JSONDecodeError, skipping\n",
            "Error fetching the article: Filofax\n",
            "Got JSONDecodeError, skipping\n",
            "Error fetching the article: Enhetlig myndighet\n"
          ]
        },
        {
          "metadata": {
            "tags": null
          },
          "name": "stderr",
          "output_type": "stream",
          "text": [
            "\r  6%|▌         | 1130/20182 [08:52<2:26:10,  2.17it/s]"
          ]
        },
        {
          "metadata": {
            "tags": null
          },
          "name": "stdout",
          "output_type": "stream",
          "text": [
            "Got JSONDecodeError, skipping\n",
            "Error fetching the article: Paul Keres\n",
            "Got JSONDecodeError, skipping\n",
            "Error fetching the article: Haakonsvern orlogsstasjon\n",
            "Got JSONDecodeError, skipping\n",
            "Error fetching the article: KNM «Hitra»\n"
          ]
        },
        {
          "metadata": {
            "tags": null
          },
          "name": "stderr",
          "output_type": "stream",
          "text": [
            "\r  6%|▌         | 1131/20182 [08:53<2:24:23,  2.20it/s]"
          ]
        },
        {
          "metadata": {
            "tags": null
          },
          "name": "stdout",
          "output_type": "stream",
          "text": [
            "Got JSONDecodeError, skipping\n",
            "Error fetching the article: Kystvakten\n",
            "Got JSONDecodeError, skippingGot JSONDecodeError, skipping\n",
            "Error fetching the article: Henri av Luxembourg\n",
            "\n",
            "Error fetching the article: Verdensmesterskapet i skiskyting\n"
          ]
        },
        {
          "metadata": {
            "tags": null
          },
          "name": "stderr",
          "output_type": "stream",
          "text": [
            "\r  6%|▌         | 1132/20182 [08:53<2:24:00,  2.20it/s]"
          ]
        },
        {
          "metadata": {
            "tags": null
          },
          "name": "stdout",
          "output_type": "stream",
          "text": [
            "Got JSONDecodeError, skipping\n",
            "Error fetching the article: FrankenGot JSONDecodeError, skipping\n",
            "\n",
            "Error fetching the article: Durham (England)\n"
          ]
        },
        {
          "metadata": {
            "tags": null
          },
          "name": "stderr",
          "output_type": "stream",
          "text": [
            "  6%|▌         | 1134/20182 [08:54<2:25:18,  2.18it/s]"
          ]
        },
        {
          "metadata": {
            "tags": null
          },
          "name": "stdout",
          "output_type": "stream",
          "text": [
            "Got JSONDecodeError, skipping\n",
            "Error fetching the article: Alcoa\n",
            "Got JSONDecodeError, skipping\n",
            "Error fetching the article: NORLOGBAT\n",
            "Got JSONDecodeError, skipping\n",
            "Error fetching the article: Torghatten-ulykken\n",
            "Got JSONDecodeError, skipping\n",
            "Error fetching the article: Aluminiumsverk\n"
          ]
        },
        {
          "metadata": {
            "tags": null
          },
          "name": "stderr",
          "output_type": "stream",
          "text": [
            "\r  6%|▌         | 1135/20182 [08:54<2:28:15,  2.14it/s]"
          ]
        },
        {
          "metadata": {
            "tags": null
          },
          "name": "stdout",
          "output_type": "stream",
          "text": [
            "Got JSONDecodeError, skipping\n",
            "Error fetching the article: Verdenscupen i skiskyting\n",
            "Got JSONDecodeError, skipping\n",
            "Error fetching the article: João Pessoa\n",
            "Got JSONDecodeError, skipping\n",
            "Error fetching the article: Durhamkatedralen\n",
            "Got JSONDecodeError, skipping\n",
            "Error fetching the article: Claude Auchinleck\n",
            "Got JSONDecodeError, skipping\n",
            "Error fetching the article: Navigasjonssatellitt\n",
            "Got JSONDecodeError, skipping\n",
            "Error fetching the article: Kommunikasjonssatellitt\n",
            "Got JSONDecodeError, skippingGot JSONDecodeError, skipping\n",
            "Error fetching the article: Domingo T. Franco\n",
            "\n",
            "Error fetching the article: Værsatellitt\n"
          ]
        },
        {
          "metadata": {
            "tags": null
          },
          "name": "stderr",
          "output_type": "stream",
          "text": [
            "\r  6%|▌         | 1136/20182 [08:55<2:25:31,  2.18it/s]"
          ]
        },
        {
          "metadata": {
            "tags": null
          },
          "name": "stdout",
          "output_type": "stream",
          "text": [
            "Got JSONDecodeError, skipping\n",
            "Error fetching the article: Durham bispedømme\n",
            "Got JSONDecodeError, skipping\n",
            "Error fetching the article: Palmiro Togliatti\n",
            "Got JSONDecodeError, skipping\n",
            "Error fetching the article: Jaltakonferansen\n"
          ]
        },
        {
          "metadata": {
            "tags": null
          },
          "name": "stderr",
          "output_type": "stream",
          "text": [
            "\r  6%|▌         | 1137/20182 [08:55<2:25:31,  2.18it/s]"
          ]
        },
        {
          "metadata": {
            "tags": null
          },
          "name": "stdout",
          "output_type": "stream",
          "text": [
            "Got JSONDecodeError, skipping\n",
            "Got JSONDecodeError, skipping\n",
            "Error fetching the article: Are Kalvø\n",
            "Error fetching the article: Vest-Midlands\n"
          ]
        },
        {
          "metadata": {
            "tags": null
          },
          "name": "stderr",
          "output_type": "stream",
          "text": [
            "  6%|▌         | 1140/20182 [08:57<2:27:53,  2.15it/s]"
          ]
        },
        {
          "metadata": {
            "tags": null
          },
          "name": "stdout",
          "output_type": "stream",
          "text": [
            "Got JSONDecodeError, skipping\n",
            "Error fetching the article: Vardø lufthavn, Svartnes\n",
            "Got JSONDecodeError, skipping\n",
            "Error fetching the article: Vadsø lufthavn\n",
            "Got JSONDecodeError, skipping\n",
            "Error fetching the article: Svolvær lufthavn, Helle\n",
            "Got JSONDecodeError, skipping\n",
            "Error fetching the article: Sørkjosen lufthavn\n",
            "Got JSONDecodeError, skipping\n",
            "Error fetching the article: Narvik lufthavn, Framnes\n",
            "Got JSONDecodeError, skipping\n",
            "Got JSONDecodeError, skippingGot JSONDecodeError, skippingError fetching the article: Røst lufthavn\n",
            "\n",
            "\n",
            "Error fetching the article: Sandane lufthamn, Anda\n",
            "Error fetching the article: Namsos lufthavn\n"
          ]
        },
        {
          "metadata": {
            "tags": null
          },
          "name": "stderr",
          "output_type": "stream",
          "text": [
            "  6%|▌         | 1142/20182 [08:58<2:28:40,  2.13it/s]"
          ]
        },
        {
          "metadata": {
            "tags": null
          },
          "name": "stdout",
          "output_type": "stream",
          "text": [
            "Got JSONDecodeError, skipping\n",
            "Error fetching the article: Bardufoss lufthavn\n",
            "Got JSONDecodeError, skipping\n",
            "Error fetching the article: Haugesund lufthavn, Karmøy\n",
            "Got JSONDecodeError, skipping\n",
            "Error fetching the article: Bodø lufthavn\n",
            "Got JSONDecodeError, skipping\n",
            "Error fetching the article: Hammerfest lufthavn\n",
            "Got JSONDecodeError, skipping\n",
            "Error fetching the article: Svalbard lufthavn, Longyear\n"
          ]
        },
        {
          "metadata": {
            "tags": null
          },
          "name": "stderr",
          "output_type": "stream",
          "text": [
            "\r  6%|▌         | 1143/20182 [08:58<2:27:06,  2.16it/s]"
          ]
        },
        {
          "metadata": {
            "tags": null
          },
          "name": "stdout",
          "output_type": "stream",
          "text": [
            "Got JSONDecodeError, skipping\n",
            "Error fetching the article: Honningsvåg lufthavn, Valan\n",
            "Got JSONDecodeError, skipping\n",
            "Error fetching the article: Ådne Søndrål\n",
            "Got JSONDecodeError, skipping\n"
          ]
        },
        {
          "metadata": {
            "tags": null
          },
          "name": "stderr",
          "output_type": "stream",
          "text": [
            "\r  6%|▌         | 1144/20182 [08:59<2:31:57,  2.09it/s]"
          ]
        },
        {
          "metadata": {
            "tags": null
          },
          "name": "stdout",
          "output_type": "stream",
          "text": [
            "Got JSONDecodeError, skippingError fetching the article: Vincent van Gogh\n",
            "\n",
            "Error fetching the article: Sulitjelma\n",
            "Got JSONDecodeError, skippingGot JSONDecodeError, skipping\n",
            "Error fetching the article: Northrop B-2 Spirit\n",
            "\n",
            "Error fetching the article: Carlos P. Garcia\n"
          ]
        },
        {
          "metadata": {
            "tags": null
          },
          "name": "stderr",
          "output_type": "stream",
          "text": [
            "  6%|▌         | 1147/20182 [09:00<2:42:57,  1.95it/s]"
          ]
        },
        {
          "metadata": {
            "tags": null
          },
          "name": "stdout",
          "output_type": "stream",
          "text": [
            "Got JSONDecodeError, skipping\n",
            "Error fetching the article: Døgn\n",
            "Got JSONDecodeError, skipping\n",
            "Error fetching the article: Vingevirvel\n",
            "Got JSONDecodeError, skipping\n",
            "Error fetching the article: Baneretning\n",
            "Got JSONDecodeError, skipping\n",
            "Error fetching the article: Maximo Inocencio\n"
          ]
        },
        {
          "metadata": {
            "tags": null
          },
          "name": "stderr",
          "output_type": "stream",
          "text": [
            "\r  6%|▌         | 1148/20182 [09:01<2:42:55,  1.95it/s]"
          ]
        },
        {
          "metadata": {
            "tags": null
          },
          "name": "stdout",
          "output_type": "stream",
          "text": [
            "Got JSONDecodeError, skipping\n",
            "Error fetching the article: Anna av Russland\n",
            "Got JSONDecodeError, skipping\n",
            "Error fetching the article: Alytus\n"
          ]
        },
        {
          "metadata": {
            "tags": null
          },
          "name": "stderr",
          "output_type": "stream",
          "text": [
            "  6%|▌         | 1158/20182 [09:06<2:30:17,  2.11it/s]"
          ]
        },
        {
          "metadata": {
            "tags": null
          },
          "name": "stdout",
          "output_type": "stream",
          "text": [
            "Got JSONDecodeError, skipping\n",
            "Error fetching the article: Bjarne Riis\n",
            "Got JSONDecodeError, skipping\n",
            "Error fetching the article: Jens Fink-Jensen\n",
            "Got JSONDecodeError, skipping\n",
            "Error fetching the article: Monica Mæland\n"
          ]
        },
        {
          "metadata": {
            "tags": null
          },
          "name": "stderr",
          "output_type": "stream",
          "text": [
            "  6%|▌         | 1160/20182 [09:07<2:24:30,  2.19it/s]"
          ]
        },
        {
          "metadata": {
            "tags": null
          },
          "name": "stdout",
          "output_type": "stream",
          "text": [
            "Got JSONDecodeError, skipping\n",
            "Error fetching the article: EUs immaterialrettskontor\n",
            "Got JSONDecodeError, skipping\n",
            "Error fetching the article: Thomas Wassberg\n",
            "Got JSONDecodeError, skippingGot JSONDecodeError, skipping\n",
            "\n",
            "Error fetching the article: Skuespiller\n",
            "Error fetching the article: Lance Armstrong\n",
            "Got JSONDecodeError, skipping\n",
            "Error fetching the article: Oscar Wisting\n",
            "Got JSONDecodeError, skipping\n",
            "Error fetching the article: Luftskipet «Norge»\n",
            "Got JSONDecodeError, skipping\n",
            "Error fetching the article: Hub\n"
          ]
        },
        {
          "metadata": {
            "tags": null
          },
          "name": "stderr",
          "output_type": "stream",
          "text": [
            "  6%|▌         | 1162/20182 [09:08<2:21:32,  2.24it/s]"
          ]
        },
        {
          "metadata": {
            "tags": null
          },
          "name": "stdout",
          "output_type": "stream",
          "text": [
            "Got JSONDecodeError, skippingGot JSONDecodeError, skipping\n",
            "Error fetching the article: Jussi Björling\n",
            "\n",
            "Error fetching the article: Gunde Svan\n",
            "Got JSONDecodeError, skipping\n",
            "Error fetching the article: Skriftet til den kristne adel\n",
            "Got JSONDecodeError, skipping\n",
            "Error fetching the article: Vibeke Skofterud\n",
            "Got JSONDecodeError, skipping\n",
            "Error fetching the article: Patt\n",
            "Got JSONDecodeError, skipping\n",
            "Error fetching the article: HK\n"
          ]
        },
        {
          "metadata": {
            "tags": null
          },
          "name": "stderr",
          "output_type": "stream",
          "text": [
            "  6%|▌         | 1164/20182 [09:09<2:26:11,  2.17it/s]"
          ]
        },
        {
          "metadata": {
            "tags": null
          },
          "name": "stdout",
          "output_type": "stream",
          "text": [
            "Got JSONDecodeError, skipping\n",
            "Error fetching the article: Berkshire\n",
            "Got JSONDecodeError, skipping\n",
            "Error fetching the article: Det schmalkaldiske forbund\n",
            "Got JSONDecodeError, skippingGot JSONDecodeError, skipping\n",
            "Error fetching the article: Mariano Gómez\n",
            "\n",
            "Error fetching the article: Heavy metal\n",
            "Got JSONDecodeError, skipping\n",
            "Error fetching the article: Fluxbox\n"
          ]
        },
        {
          "metadata": {
            "tags": null
          },
          "name": "stderr",
          "output_type": "stream",
          "text": [
            "\r  6%|▌         | 1165/20182 [09:10<2:32:33,  2.08it/s]"
          ]
        },
        {
          "metadata": {
            "tags": null
          },
          "name": "stdout",
          "output_type": "stream",
          "text": [
            "Got JSONDecodeError, skipping\n",
            "Error fetching the article: Junkers & Co.\n"
          ]
        },
        {
          "metadata": {
            "tags": null
          },
          "name": "stderr",
          "output_type": "stream",
          "text": [
            "  6%|▌         | 1167/20182 [09:11<2:32:25,  2.08it/s]"
          ]
        },
        {
          "metadata": {
            "tags": null
          },
          "name": "stdout",
          "output_type": "stream",
          "text": [
            "Got JSONDecodeError, skipping\n",
            "Error fetching the article: Senja\n",
            "Got JSONDecodeError, skipping\n",
            "Error fetching the article: Rio de Janeiro (delstat)\n",
            "Got JSONDecodeError, skipping\n",
            "Error fetching the article: Lydmuren\n",
            "Got JSONDecodeError, skipping\n",
            "Error fetching the article: Manuskript\n",
            "Got JSONDecodeError, skipping\n",
            "Error fetching the article: Lockheed F-117 Nighthawk\n",
            "Got JSONDecodeError, skipping\n",
            "Error fetching the article: De schmalkaldiske artikler\n"
          ]
        },
        {
          "metadata": {
            "tags": null
          },
          "name": "stderr",
          "output_type": "stream",
          "text": [
            "\r  6%|▌         | 1168/20182 [09:11<2:26:17,  2.17it/s]"
          ]
        },
        {
          "metadata": {
            "tags": null
          },
          "name": "stdout",
          "output_type": "stream",
          "text": [
            "Got JSONDecodeError, skippingGot JSONDecodeError, skipping\n",
            "Error fetching the article: Oregon\n",
            "\n",
            "Error fetching the article: Mississippi\n",
            "Got JSONDecodeError, skipping\n",
            "Error fetching the article: Minnesota\n",
            "Got JSONDecodeError, skipping\n",
            "Error fetching the article: Marcelo H. del Pilar\n"
          ]
        },
        {
          "metadata": {
            "tags": null
          },
          "name": "stderr",
          "output_type": "stream",
          "text": [
            "  6%|▌         | 1170/20182 [09:12<2:28:08,  2.14it/s]"
          ]
        },
        {
          "metadata": {
            "tags": null
          },
          "name": "stdout",
          "output_type": "stream",
          "text": [
            "Got JSONDecodeError, skipping\n",
            "Error fetching the article: Sør-Dakota\n",
            "Got JSONDecodeError, skipping\n",
            "Error fetching the article: Dampmaskin\n",
            "Got JSONDecodeError, skipping\n",
            "Error fetching the article: Sortlandbrua\n",
            "Got JSONDecodeError, skipping\n",
            "Error fetching the article: Manuel A. Roxas\n"
          ]
        },
        {
          "metadata": {
            "tags": null
          },
          "name": "stderr",
          "output_type": "stream",
          "text": [
            "  6%|▌         | 1172/20182 [09:13<2:32:42,  2.07it/s]"
          ]
        },
        {
          "metadata": {
            "tags": null
          },
          "name": "stdout",
          "output_type": "stream",
          "text": [
            "Got JSONDecodeError, skipping\n",
            "Error fetching the article: Malcolm II av Skottland\n",
            "Got JSONDecodeError, skipping\n",
            "Error fetching the article: Humber\n",
            "Got JSONDecodeError, skipping\n",
            "Error fetching the article: Tweed\n"
          ]
        },
        {
          "metadata": {
            "tags": null
          },
          "name": "stderr",
          "output_type": "stream",
          "text": [
            "\r  6%|▌         | 1173/20182 [09:13<2:41:55,  1.96it/s]"
          ]
        },
        {
          "metadata": {
            "tags": null
          },
          "name": "stdout",
          "output_type": "stream",
          "text": [
            "Got JSONDecodeError, skipping\n",
            "Error fetching the article: Gasskraftverk\n"
          ]
        },
        {
          "metadata": {
            "tags": null
          },
          "name": "stderr",
          "output_type": "stream",
          "text": [
            "  6%|▌         | 1175/20182 [09:15<2:46:15,  1.91it/s]"
          ]
        },
        {
          "metadata": {
            "tags": null
          },
          "name": "stdout",
          "output_type": "stream",
          "text": [
            "Got JSONDecodeError, skippingGot JSONDecodeError, skipping\n",
            "Error fetching the article: AIP Norge\n",
            "\n",
            "Error fetching the article: Natteravnene\n",
            "Got JSONDecodeError, skipping\n",
            "Error fetching the article: Kaunas\n"
          ]
        },
        {
          "metadata": {
            "tags": null
          },
          "name": "stderr",
          "output_type": "stream",
          "text": [
            "\r  6%|▌         | 1176/20182 [09:15<2:42:45,  1.95it/s]"
          ]
        },
        {
          "metadata": {
            "tags": null
          },
          "name": "stdout",
          "output_type": "stream",
          "text": [
            "Got JSONDecodeError, skippingGot JSONDecodeError, skipping\n",
            "Error fetching the article: Friedrich Ebert\n",
            "\n",
            "Error fetching the article: Boeing 727\n"
          ]
        },
        {
          "metadata": {
            "tags": null
          },
          "name": "stderr",
          "output_type": "stream",
          "text": [
            "\r  6%|▌         | 1177/20182 [09:15<2:34:51,  2.05it/s]"
          ]
        },
        {
          "metadata": {
            "tags": null
          },
          "name": "stdout",
          "output_type": "stream",
          "text": [
            "Got JSONDecodeError, skippingGot JSONDecodeError, skipping\n",
            "Error fetching the article: Kristoffer av Bayern\n",
            "\n",
            "Error fetching the article: Helmuth James von Moltke\n",
            "Got JSONDecodeError, skipping\n",
            "Error fetching the article: Bristol\n",
            "Got JSONDecodeError, skipping\n",
            "Error fetching the article: New Brunswick\n",
            "Got JSONDecodeError, skipping\n",
            "Error fetching the article: Newfoundland og Labrador\n",
            "Got JSONDecodeError, skipping\n",
            "Error fetching the article: Skagastølstindane\n"
          ]
        },
        {
          "metadata": {
            "tags": null
          },
          "name": "stderr",
          "output_type": "stream",
          "text": [
            "\r  6%|▌         | 1178/20182 [09:16<2:32:48,  2.07it/s]"
          ]
        },
        {
          "metadata": {
            "tags": null
          },
          "name": "stdout",
          "output_type": "stream",
          "text": [
            "Got JSONDecodeError, skipping\n",
            "Error fetching the article: Ernst Diesen\n"
          ]
        },
        {
          "metadata": {
            "tags": null
          },
          "name": "stderr",
          "output_type": "stream",
          "text": [
            "  6%|▌         | 1180/20182 [09:17<2:33:34,  2.06it/s]"
          ]
        },
        {
          "metadata": {
            "tags": null
          },
          "name": "stdout",
          "output_type": "stream",
          "text": [
            "Got JSONDecodeError, skipping\n",
            "Error fetching the article: Shropshire\n",
            "Got JSONDecodeError, skipping\n",
            "Error fetching the article: Første opiumkrig\n",
            "Got JSONDecodeError, skipping\n",
            "Error fetching the article: Styggedalstindane\n",
            "Got JSONDecodeError, skipping\n",
            "Error fetching the article: Fusjon (finans)\n"
          ]
        },
        {
          "metadata": {
            "tags": null
          },
          "name": "stderr",
          "output_type": "stream",
          "text": [
            "  6%|▌         | 1183/20182 [09:18<2:32:32,  2.08it/s]"
          ]
        },
        {
          "metadata": {
            "tags": null
          },
          "name": "stdout",
          "output_type": "stream",
          "text": [
            "Got JSONDecodeError, skipping\n",
            "Error fetching the article: Sentraltind\n",
            "Got JSONDecodeError, skipping\n",
            "Error fetching the article: Gjertvasstind\n",
            "Got JSONDecodeError, skipping\n",
            "Error fetching the article: Styggedals- og Skagastølsryggen\n",
            "Got JSONDecodeError, skipping\n",
            "Error fetching the article: Verkhovna Rada\n",
            "Got JSONDecodeError, skipping\n",
            "Error fetching the article: Parlament\n",
            "Got JSONDecodeError, skipping\n",
            "Error fetching the article: Skardstinden\n",
            "Got JSONDecodeError, skipping\n",
            "Error fetching the article: Viktor Janukovitsj\n"
          ]
        },
        {
          "metadata": {
            "tags": null
          },
          "name": "stderr",
          "output_type": "stream",
          "text": [
            "  6%|▌         | 1185/20182 [09:19<2:30:13,  2.11it/s]"
          ]
        },
        {
          "metadata": {
            "tags": null
          },
          "name": "stdout",
          "output_type": "stream",
          "text": [
            "Got JSONDecodeError, skipping\n",
            "Error fetching the article: Oslo-klassen\n",
            "Got JSONDecodeError, skipping\n",
            "Error fetching the article: KNM «Sleipner» (1963)\n"
          ]
        },
        {
          "metadata": {
            "tags": null
          },
          "name": "stderr",
          "output_type": "stream",
          "text": [
            "\r  6%|▌         | 1186/20182 [09:20<2:26:03,  2.17it/s]"
          ]
        },
        {
          "metadata": {
            "tags": null
          },
          "name": "stdout",
          "output_type": "stream",
          "text": [
            "Got JSONDecodeError, skipping\n",
            "Error fetching the article: Westermoen Hydrofoil\n",
            "Got JSONDecodeError, skipping\n",
            "Error fetching the article: Toralf Westermoen\n"
          ]
        },
        {
          "metadata": {
            "tags": null
          },
          "name": "stderr",
          "output_type": "stream",
          "text": [
            "  6%|▌         | 1189/20182 [09:21<2:29:25,  2.12it/s]"
          ]
        },
        {
          "metadata": {
            "tags": null
          },
          "name": "stdout",
          "output_type": "stream",
          "text": [
            "Got JSONDecodeError, skipping\n",
            "Error fetching the article: György LukácsGot JSONDecodeError, skipping\n",
            "Error fetching the article: Wigan (distrikt)\n",
            "\n",
            "Got JSONDecodeError, skipping\n",
            "Error fetching the article: Gnav\n",
            "Got JSONDecodeError, skipping\n",
            "Error fetching the article: Victor Hugo\n",
            "Got JSONDecodeError, skipping\n",
            "Error fetching the article: NunavutGot JSONDecodeError, skipping\n",
            "Error fetching the article: Nordvestterritoriene\n",
            "\n"
          ]
        },
        {
          "metadata": {
            "tags": null
          },
          "name": "stderr",
          "output_type": "stream",
          "text": [
            "  6%|▌         | 1191/20182 [09:22<2:30:46,  2.10it/s]"
          ]
        },
        {
          "metadata": {
            "tags": null
          },
          "name": "stdout",
          "output_type": "stream",
          "text": [
            "Got JSONDecodeError, skipping\n",
            "Error fetching the article: Zlatan Ibrahimović\n",
            "Got JSONDecodeError, skipping\n",
            "Error fetching the article: Tyne (England)\n",
            "Got JSONDecodeError, skipping\n",
            "Error fetching the article: New South Wales\n",
            "Got JSONDecodeError, skipping\n",
            "Error fetching the article: Mi Ultimo Adios\n",
            "Got JSONDecodeError, skipping\n",
            "Error fetching the article: Adrienne Clarkson\n",
            "Got JSONDecodeError, skipping\n",
            "Error fetching the article: East Lothian\n"
          ]
        },
        {
          "metadata": {
            "tags": null
          },
          "name": "stderr",
          "output_type": "stream",
          "text": [
            "\r  6%|▌         | 1192/20182 [09:23<2:31:36,  2.09it/s]"
          ]
        },
        {
          "metadata": {
            "tags": null
          },
          "name": "stdout",
          "output_type": "stream",
          "text": [
            "Got JSONDecodeError, skipping\n",
            "Error fetching the article: Bataan\n",
            "Got JSONDecodeError, skipping\n",
            "Error fetching the article: Zambales\n",
            "Got JSONDecodeError, skipping\n",
            "Error fetching the article: Merseyside\n"
          ]
        },
        {
          "metadata": {
            "tags": null
          },
          "name": "stderr",
          "output_type": "stream",
          "text": [
            "\r  6%|▌         | 1193/20182 [09:23<2:26:09,  2.17it/s]"
          ]
        },
        {
          "metadata": {
            "tags": null
          },
          "name": "stdout",
          "output_type": "stream",
          "text": [
            "Got JSONDecodeError, skippingGot JSONDecodeError, skipping\n",
            "Error fetching the article: Aurora (provins)\n",
            "\n",
            "Error fetching the article: Det internasjonale forbundet av Røde Kors- og Røde Halvmåneforeninger\n",
            "Got JSONDecodeError, skipping\n",
            "Error fetching the article: Aurora\n"
          ]
        },
        {
          "metadata": {
            "tags": null
          },
          "name": "stderr",
          "output_type": "stream",
          "text": [
            "  6%|▌         | 1197/20182 [09:25<2:35:06,  2.04it/s]"
          ]
        },
        {
          "metadata": {
            "tags": null
          },
          "name": "stdout",
          "output_type": "stream",
          "text": [
            "Got JSONDecodeError, skipping\n",
            "Error fetching the article: Holocaustbenektelse\n",
            "Got JSONDecodeError, skipping\n",
            "Error fetching the article: Den filippinsk-amerikanske krig\n",
            "Got JSONDecodeError, skipping\n",
            "Error fetching the article: Cambridgeshire\n",
            "Got JSONDecodeError, skipping\n",
            "Error fetching the article: Cornwall\n",
            "Got JSONDecodeError, skipping\n",
            "Error fetching the article: Tamar (England)\n",
            "Got JSONDecodeError, skipping\n",
            "Error fetching the article: José Basco y Vargas\n",
            "Got JSONDecodeError, skipping\n",
            "Error fetching the article: Silja Ekeland Bjørkly\n"
          ]
        },
        {
          "metadata": {
            "tags": null
          },
          "name": "stderr",
          "output_type": "stream",
          "text": [
            "\r  6%|▌         | 1198/20182 [09:26<2:33:57,  2.06it/s]"
          ]
        },
        {
          "metadata": {
            "tags": null
          },
          "name": "stdout",
          "output_type": "stream",
          "text": [
            "Got JSONDecodeError, skipping\n",
            "Error fetching the article: Bokerleydiket\n",
            "Got JSONDecodeError, skipping\n",
            "Error fetching the article: Cecilie Ore\n",
            "Got JSONDecodeError, skipping\n",
            "Error fetching the article: Dorset\n"
          ]
        },
        {
          "metadata": {
            "tags": null
          },
          "name": "stderr",
          "output_type": "stream",
          "text": [
            "  6%|▌         | 1200/20182 [09:27<2:34:55,  2.04it/s]"
          ]
        },
        {
          "metadata": {
            "tags": null
          },
          "name": "stdout",
          "output_type": "stream",
          "text": [
            "Got JSONDecodeError, skipping\n",
            "Error fetching the article: Pint\n",
            "Got JSONDecodeError, skipping\n",
            "Error fetching the article: Iloilo\n",
            "Got JSONDecodeError, skipping\n",
            "Error fetching the article: Krim\n",
            "Got JSONDecodeError, skipping\n",
            "Error fetching the article: Asgeir Dølplads\n",
            "Got JSONDecodeError, skipping\n",
            "Error fetching the article: Tungindustri\n"
          ]
        },
        {
          "metadata": {
            "tags": null
          },
          "name": "stderr",
          "output_type": "stream",
          "text": [
            "\r  6%|▌         | 1201/20182 [09:27<2:29:22,  2.12it/s]"
          ]
        },
        {
          "metadata": {
            "tags": null
          },
          "name": "stdout",
          "output_type": "stream",
          "text": [
            "Got JSONDecodeError, skipping\n",
            "Error fetching the article: Erasmus Montanus\n",
            "Got JSONDecodeError, skipping\n",
            "Error fetching the article: St. Ives (Cornwall)\n",
            "Got JSONDecodeError, skipping\n",
            "Error fetching the article: «Rap» (torpedobåt fra 1873)\n"
          ]
        },
        {
          "metadata": {
            "tags": null
          },
          "name": "stderr",
          "output_type": "stream",
          "text": [
            "  6%|▌         | 1206/20182 [09:30<2:41:02,  1.96it/s]"
          ]
        },
        {
          "metadata": {
            "tags": null
          },
          "name": "stdout",
          "output_type": "stream",
          "text": [
            "Got JSONDecodeError, skipping\n",
            "Error fetching the article: Staffordshire\n",
            "Got JSONDecodeError, skipping\n",
            "Error fetching the article: Høgevard\n",
            "Got JSONDecodeError, skipping\n",
            "Error fetching the article: ONS-kode\n",
            "Got JSONDecodeError, skipping\n",
            "Got JSONDecodeError, skipping\n",
            "Error fetching the article: Midt-NorgeError fetching the article: Vicente Fox\n",
            "\n"
          ]
        },
        {
          "metadata": {
            "tags": null
          },
          "name": "stderr",
          "output_type": "stream",
          "text": [
            "\r  6%|▌         | 1207/20182 [09:30<2:31:55,  2.08it/s]"
          ]
        },
        {
          "metadata": {
            "tags": null
          },
          "name": "stdout",
          "output_type": "stream",
          "text": [
            "Got JSONDecodeError, skipping\n",
            "Error fetching the article: Mariano Ricafort Palacín y Ararca\n",
            "Got JSONDecodeError, skippingGot JSONDecodeError, skipping\n",
            "\n",
            "Error fetching the article: SmirnovError fetching the article: Vladimir Smirnov (langrennsløper)\n",
            "\n"
          ]
        },
        {
          "metadata": {
            "tags": null
          },
          "name": "stderr",
          "output_type": "stream",
          "text": [
            "\r  6%|▌         | 1208/20182 [09:31<2:29:30,  2.12it/s]"
          ]
        },
        {
          "metadata": {
            "tags": null
          },
          "name": "stdout",
          "output_type": "stream",
          "text": [
            "Got JSONDecodeError, skipping\n",
            "Error fetching the article: Evolusjonsteori\n"
          ]
        },
        {
          "metadata": {
            "tags": null
          },
          "name": "stderr",
          "output_type": "stream",
          "text": [
            "  6%|▌         | 1210/20182 [09:32<2:33:57,  2.05it/s]"
          ]
        },
        {
          "metadata": {
            "tags": null
          },
          "name": "stdout",
          "output_type": "stream",
          "text": [
            "Got JSONDecodeError, skipping\n",
            "Error fetching the article: M (tegneserie)\n",
            "Got JSONDecodeError, skipping\n",
            "Error fetching the article: Meråkerklarinett\n",
            "Got JSONDecodeError, skippingGot JSONDecodeError, skipping\n",
            "Error fetching the article: Essex\n",
            "\n",
            "Error fetching the article: Adolf Furtwängler\n"
          ]
        },
        {
          "metadata": {
            "tags": null
          },
          "name": "stderr",
          "output_type": "stream",
          "text": [
            "\r  6%|▌         | 1211/20182 [09:32<2:34:20,  2.05it/s]"
          ]
        },
        {
          "metadata": {
            "tags": null
          },
          "name": "stdout",
          "output_type": "stream",
          "text": [
            "Got JSONDecodeError, skipping\n",
            "Error fetching the article: Ruud\n",
            "Got JSONDecodeError, skipping\n",
            "Error fetching the article: East Riding of Yorkshire\n",
            "Got JSONDecodeError, skipping\n",
            "Got JSONDecodeError, skipping\n",
            "Error fetching the article: Boston (andre betydninger)\n",
            "Error fetching the article: Lincolnshire\n"
          ]
        },
        {
          "metadata": {
            "tags": null
          },
          "name": "stderr",
          "output_type": "stream",
          "text": [
            "\r  6%|▌         | 1212/20182 [09:33<2:40:27,  1.97it/s]"
          ]
        },
        {
          "metadata": {
            "tags": null
          },
          "name": "stdout",
          "output_type": "stream",
          "text": [
            "Got JSONDecodeError, skipping\n",
            "Error fetching the article: Kerrier\n",
            "Got JSONDecodeError, skipping\n",
            "Got JSONDecodeError, skipping\n",
            "Error fetching the article: Rio Grande do Sul\n",
            "Error fetching the article: Bourne Shell\n"
          ]
        },
        {
          "metadata": {
            "tags": null
          },
          "name": "stderr",
          "output_type": "stream",
          "text": [
            "  6%|▌         | 1215/20182 [09:34<2:39:32,  1.98it/s]"
          ]
        },
        {
          "metadata": {
            "tags": null
          },
          "name": "stdout",
          "output_type": "stream",
          "text": [
            "Got JSONDecodeError, skippingGot JSONDecodeError, skipping\n",
            "Error fetching the article: Blodcelle\n",
            "\n",
            "Error fetching the article: Ilocos Sur\n"
          ]
        },
        {
          "metadata": {
            "tags": null
          },
          "name": "stderr",
          "output_type": "stream",
          "text": [
            "\r  6%|▌         | 1216/20182 [09:35<2:35:33,  2.03it/s]"
          ]
        },
        {
          "metadata": {
            "tags": null
          },
          "name": "stdout",
          "output_type": "stream",
          "text": [
            "Got JSONDecodeError, skipping\n",
            "Error fetching the article: Lurere\n",
            "Got JSONDecodeError, skipping\n",
            "Error fetching the article: Catanduanes\n",
            "Got JSONDecodeError, skipping\n",
            "Error fetching the article: Transnistria\n"
          ]
        },
        {
          "metadata": {
            "tags": null
          },
          "name": "stderr",
          "output_type": "stream",
          "text": [
            "\r  6%|▌         | 1217/20182 [09:35<2:33:24,  2.06it/s]"
          ]
        },
        {
          "metadata": {
            "tags": null
          },
          "name": "stdout",
          "output_type": "stream",
          "text": [
            "Got JSONDecodeError, skipping\n",
            "Error fetching the article: Negros Occidental\n",
            "Got JSONDecodeError, skipping\n",
            "Error fetching the article: Avon (Hampshire)\n",
            "Got JSONDecodeError, skipping\n",
            "Error fetching the article: Eastern Samar\n"
          ]
        },
        {
          "metadata": {
            "tags": null
          },
          "name": "stderr",
          "output_type": "stream",
          "text": [
            "  6%|▌         | 1220/20182 [09:37<2:47:51,  1.88it/s]"
          ]
        },
        {
          "metadata": {
            "tags": null
          },
          "name": "stdout",
          "output_type": "stream",
          "text": [
            "Got JSONDecodeError, skipping\n",
            "Error fetching the article: Hampshire (andre betydninger)\n"
          ]
        },
        {
          "metadata": {
            "tags": null
          },
          "name": "stderr",
          "output_type": "stream",
          "text": [
            "  6%|▌         | 1222/20182 [09:38<2:38:44,  1.99it/s]"
          ]
        },
        {
          "metadata": {
            "tags": null
          },
          "name": "stdout",
          "output_type": "stream",
          "text": [
            "Got JSONDecodeError, skipping\n",
            "Error fetching the article: Sebastian Hurtado de Corcuera\n",
            "Got JSONDecodeError, skipping\n",
            "Error fetching the article: RAF Fairford\n",
            "Got JSONDecodeError, skipping\n",
            "Error fetching the article: Severn\n",
            "Got JSONDecodeError, skipping\n",
            "Error fetching the article: Messias\n"
          ]
        },
        {
          "metadata": {
            "tags": null
          },
          "name": "stderr",
          "output_type": "stream",
          "text": [
            "  6%|▌         | 1224/20182 [09:39<2:43:25,  1.93it/s]"
          ]
        },
        {
          "metadata": {
            "tags": null
          },
          "name": "stdout",
          "output_type": "stream",
          "text": [
            "Got JSONDecodeError, skipping\n",
            "Error fetching the article: Ural\n",
            "Got JSONDecodeError, skipping\n",
            "Error fetching the article: Northamptonshire\n",
            "Got JSONDecodeError, skipping\n",
            "Got JSONDecodeError, skipping\n",
            "Error fetching the article: Norfolk\n",
            "Error fetching the article: Romblon\n"
          ]
        },
        {
          "metadata": {
            "tags": null
          },
          "name": "stderr",
          "output_type": "stream",
          "text": [
            "\r  6%|▌         | 1225/20182 [09:39<2:40:18,  1.97it/s]"
          ]
        },
        {
          "metadata": {
            "tags": null
          },
          "name": "stdout",
          "output_type": "stream",
          "text": [
            "Got JSONDecodeError, skipping\n",
            "Error fetching the article: Torfinnstraversen\n",
            "Got JSONDecodeError, skipping\n",
            "Error fetching the article: Hereford (England)\n",
            "Got JSONDecodeError, skipping\n",
            "Error fetching the article: Herefordshire\n",
            "Got JSONDecodeError, skipping\n",
            "Error fetching the article: Valgfusk\n"
          ]
        },
        {
          "metadata": {
            "tags": null
          },
          "name": "stderr",
          "output_type": "stream",
          "text": [
            "  6%|▌         | 1227/20182 [09:40<2:33:44,  2.05it/s]"
          ]
        },
        {
          "metadata": {
            "tags": null
          },
          "name": "stdout",
          "output_type": "stream",
          "text": [
            "Got JSONDecodeError, skippingGot JSONDecodeError, skipping\n",
            "Error fetching the article: Styggedalstraversen\n",
            "\n",
            "Error fetching the article: Mathias Soggemoen\n",
            "Got JSONDecodeError, skipping\n",
            "Error fetching the article: West Yorkshire\n",
            "Got JSONDecodeError, skipping\n",
            "Error fetching the article: North Yorkshire\n",
            "Got JSONDecodeError, skipping\n",
            "Error fetching the article: Saltfjellet\n"
          ]
        },
        {
          "metadata": {
            "tags": null
          },
          "name": "stderr",
          "output_type": "stream",
          "text": [
            "\r  6%|▌         | 1228/20182 [09:41<2:27:41,  2.14it/s]"
          ]
        },
        {
          "metadata": {
            "tags": null
          },
          "name": "stdout",
          "output_type": "stream",
          "text": [
            "Got JSONDecodeError, skipping\n",
            "Error fetching the article: South Yorkshire\n",
            "Got JSONDecodeError, skipping\n",
            "Error fetching the article: Hebridene\n",
            "Got JSONDecodeError, skipping\n",
            "Error fetching the article: Somerset\n",
            "Got JSONDecodeError, skipping\n",
            "Error fetching the article: Warwickshire\n",
            "Got JSONDecodeError, skipping"
          ]
        },
        {
          "metadata": {
            "tags": null
          },
          "name": "stderr",
          "output_type": "stream",
          "text": [
            "  6%|▌         | 1230/20182 [09:42<2:30:23,  2.10it/s]"
          ]
        },
        {
          "metadata": {
            "tags": null
          },
          "name": "stdout",
          "output_type": "stream",
          "text": [
            "\n",
            "Error fetching the article: Vandredue\n",
            "Got JSONDecodeError, skippingGot JSONDecodeError, skipping\n",
            "\n",
            "Error fetching the article: Leif Larsen (andre betydninger)\n",
            "Error fetching the article: Sinus\n",
            "Got JSONDecodeError, skipping\n",
            "Error fetching the article: Jordet skole (Larvik)\n"
          ]
        },
        {
          "metadata": {
            "tags": null
          },
          "name": "stderr",
          "output_type": "stream",
          "text": [
            "\r  6%|▌         | 1231/20182 [09:42<2:26:45,  2.15it/s]"
          ]
        },
        {
          "metadata": {
            "tags": null
          },
          "name": "stdout",
          "output_type": "stream",
          "text": [
            "Got JSONDecodeError, skipping\n",
            "Got JSONDecodeError, skipping\n",
            "Error fetching the article: Polarlys (andre betydninger)\n",
            "Error fetching the article: VerdandeGot JSONDecodeError, skipping\n",
            "\n",
            "Error fetching the article: Ytre Hebridene\n"
          ]
        },
        {
          "metadata": {
            "tags": null
          },
          "name": "stderr",
          "output_type": "stream",
          "text": [
            "  6%|▌         | 1233/20182 [09:43<2:29:09,  2.12it/s]"
          ]
        },
        {
          "metadata": {
            "tags": null
          },
          "name": "stdout",
          "output_type": "stream",
          "text": [
            "Got JSONDecodeError, skipping\n",
            "Error fetching the article: Leopold I av Det tysk-romerske rike\n",
            "Got JSONDecodeError, skipping\n",
            "Error fetching the article: Iris\n",
            "Got JSONDecodeError, skipping\n",
            "Error fetching the article: Karl VI av Det tysk-romerske rike\n",
            "Got JSONDecodeError, skipping\n",
            "Error fetching the article: Iris (navn)\n"
          ]
        },
        {
          "metadata": {
            "tags": null
          },
          "name": "stderr",
          "output_type": "stream",
          "text": [
            "  6%|▌         | 1235/20182 [09:44<2:29:16,  2.12it/s]"
          ]
        },
        {
          "metadata": {
            "tags": null
          },
          "name": "stdout",
          "output_type": "stream",
          "text": [
            "Got JSONDecodeError, skipping\n",
            "Error fetching the article: Kongedømmet Essex\n",
            "Got JSONDecodeError, skipping\n",
            "Error fetching the article: Stortingets ombudsnemnd for Forsvaret\n",
            "Got JSONDecodeError, skipping\n",
            "Error fetching the article: Abra\n",
            "Got JSONDecodeError, skipping\n",
            "Error fetching the article: Apayao\n"
          ]
        },
        {
          "metadata": {
            "tags": null
          },
          "name": "stderr",
          "output_type": "stream",
          "text": [
            "\r  6%|▌         | 1236/20182 [09:44<2:24:49,  2.18it/s]"
          ]
        },
        {
          "metadata": {
            "tags": null
          },
          "name": "stdout",
          "output_type": "stream",
          "text": [
            "Got JSONDecodeError, skipping\n",
            "Error fetching the article: Edington (Wiltshire)\n"
          ]
        },
        {
          "metadata": {
            "tags": null
          },
          "name": "stderr",
          "output_type": "stream",
          "text": [
            "\r  6%|▌         | 1237/20182 [09:45<2:27:08,  2.15it/s]"
          ]
        },
        {
          "metadata": {
            "tags": null
          },
          "name": "stdout",
          "output_type": "stream",
          "text": [
            "Got JSONDecodeError, skipping\n",
            "Error fetching the article: Hjørundfjorden\n",
            "Got JSONDecodeError, skipping\n",
            "Error fetching the article: Eduard Dietl\n"
          ]
        },
        {
          "metadata": {
            "tags": null
          },
          "name": "stderr",
          "output_type": "stream",
          "text": [
            "\r  6%|▌         | 1238/20182 [09:45<2:23:48,  2.20it/s]"
          ]
        },
        {
          "metadata": {
            "tags": null
          },
          "name": "stdout",
          "output_type": "stream",
          "text": [
            "Got JSONDecodeError, skipping\n",
            "Error fetching the article: Dosent\n",
            "Got JSONDecodeError, skipping\n",
            "Error fetching the article: Shepperton\n",
            "Got JSONDecodeError, skipping\n",
            "Error fetching the article: Naomi Campbell\n"
          ]
        },
        {
          "metadata": {
            "tags": null
          },
          "name": "stderr",
          "output_type": "stream",
          "text": [
            "\r  6%|▌         | 1239/20182 [09:46<2:20:44,  2.24it/s]"
          ]
        },
        {
          "metadata": {
            "tags": null
          },
          "name": "stdout",
          "output_type": "stream",
          "text": [
            "Got JSONDecodeError, skipping\n",
            "Error fetching the article: Deutsche Volkspartei\n",
            "Got JSONDecodeError, skipping\n",
            "Error fetching the article: Deutschnationale Volkspartei\n",
            "Got JSONDecodeError, skipping\n",
            "Error fetching the article: Kristina\n",
            "Got JSONDecodeError, skipping\n",
            "Error fetching the article: Stine\n"
          ]
        },
        {
          "metadata": {
            "tags": null
          },
          "name": "stderr",
          "output_type": "stream",
          "text": [
            "  6%|▌         | 1241/20182 [09:47<2:20:53,  2.24it/s]"
          ]
        },
        {
          "metadata": {
            "tags": null
          },
          "name": "stdout",
          "output_type": "stream",
          "text": [
            "Got JSONDecodeError, skipping\n",
            "Error fetching the article: Grossisthandel\n",
            "Got JSONDecodeError, skipping\n",
            "Error fetching the article: Birger Gunvaldsen\n",
            "Got JSONDecodeError, skipping\n",
            "Error fetching the article: Sigurd Friis\n",
            "Got JSONDecodeError, skipping\n",
            "Error fetching the article: Fernando Primo de Rivera y Sobremonte\n",
            "Got JSONDecodeError, skipping\n",
            "Error fetching the article: Agusan del Norte\n",
            "Got JSONDecodeError, skipping\n",
            "Error fetching the article: Ildlendere\n"
          ]
        },
        {
          "metadata": {
            "tags": null
          },
          "name": "stderr",
          "output_type": "stream",
          "text": [
            "\r  6%|▌         | 1242/20182 [09:47<2:23:27,  2.20it/s]"
          ]
        },
        {
          "metadata": {
            "tags": null
          },
          "name": "stdout",
          "output_type": "stream",
          "text": [
            "Got JSONDecodeError, skipping\n",
            "Error fetching the article: Idi Amin\n",
            "Got JSONDecodeError, skipping\n",
            "Error fetching the article: Adur\n",
            "Got JSONDecodeError, skipping\n",
            "Error fetching the article: Geiranger\n"
          ]
        },
        {
          "metadata": {
            "tags": null
          },
          "name": "stderr",
          "output_type": "stream",
          "text": [
            "\r  6%|▌         | 1243/20182 [09:48<2:20:00,  2.25it/s]"
          ]
        },
        {
          "metadata": {
            "tags": null
          },
          "name": "stdout",
          "output_type": "stream",
          "text": [
            "Got JSONDecodeError, skipping\n",
            "Error fetching the article: Yaghan\n",
            "Got JSONDecodeError, skipping\n",
            "Error fetching the article: Davao del Norte\n"
          ]
        },
        {
          "metadata": {
            "tags": null
          },
          "name": "stderr",
          "output_type": "stream",
          "text": [
            "\r  6%|▌         | 1244/20182 [09:48<2:26:31,  2.15it/s]"
          ]
        },
        {
          "metadata": {
            "tags": null
          },
          "name": "stdout",
          "output_type": "stream",
          "text": [
            "Got JSONDecodeError, skipping\n",
            "Error fetching the article: Shoreham-by-Sea\n",
            "Got JSONDecodeError, skipping\n",
            "Error fetching the article: DeltaGot JSONDecodeError, skipping\n",
            "Error fetching the article: Rother (vest)\n",
            "Got JSONDecodeError, skipping\n",
            "\n",
            "Error fetching the article: Hidra\n"
          ]
        },
        {
          "metadata": {
            "tags": null
          },
          "name": "stderr",
          "output_type": "stream",
          "text": [
            "  6%|▌         | 1246/20182 [09:49<2:31:53,  2.08it/s]"
          ]
        },
        {
          "metadata": {
            "tags": null
          },
          "name": "stdout",
          "output_type": "stream",
          "text": [
            "Got JSONDecodeError, skipping\n",
            "Error fetching the article: It (album)\n",
            "Got JSONDecodeError, skipping\n",
            "Error fetching the article: «Rigel»-katastrofen\n",
            "Got JSONDecodeError, skipping\n",
            "Error fetching the article: Råna\n",
            "Got JSONDecodeError, skipping\n",
            "Error fetching the article: Berti Vogts\n"
          ]
        },
        {
          "metadata": {
            "tags": null
          },
          "name": "stderr",
          "output_type": "stream",
          "text": [
            "  6%|▌         | 1249/20182 [09:51<2:33:42,  2.05it/s]"
          ]
        },
        {
          "metadata": {
            "tags": null
          },
          "name": "stdout",
          "output_type": "stream",
          "text": [
            "Got JSONDecodeError, skipping\n",
            "Error fetching the article: Dieselmotor\n",
            "Got JSONDecodeError, skipping\n",
            "Error fetching the article: Zamboanga del Norte\n",
            "Got JSONDecodeError, skipping\n",
            "Error fetching the article: South Cotabato\n",
            "Got JSONDecodeError, skipping\n",
            "Error fetching the article: Sultan Kudarat (provins)\n"
          ]
        },
        {
          "metadata": {
            "tags": null
          },
          "name": "stderr",
          "output_type": "stream",
          "text": [
            "\r  6%|▌         | 1250/20182 [09:51<2:33:59,  2.05it/s]"
          ]
        },
        {
          "metadata": {
            "tags": null
          },
          "name": "stdout",
          "output_type": "stream",
          "text": [
            "Got JSONDecodeError, skipping\n",
            "Error fetching the article: Obligasjonsrett\n",
            "Got JSONDecodeError, skipping\n",
            "Error fetching the article: Augustin av Canterbury\n",
            "Got JSONDecodeError, skipping\n",
            "Error fetching the article: Tingsrett\n",
            "Got JSONDecodeError, skipping\n",
            "Error fetching the article: Tawi-Tawi\n"
          ]
        },
        {
          "metadata": {
            "tags": null
          },
          "name": "stderr",
          "output_type": "stream",
          "text": [
            "  6%|▌         | 1252/20182 [09:52<2:33:34,  2.05it/s]"
          ]
        },
        {
          "metadata": {
            "tags": null
          },
          "name": "stdout",
          "output_type": "stream",
          "text": [
            "Got JSONDecodeError, skipping\n",
            "Error fetching the article: HTTPS\n",
            "Got JSONDecodeError, skippingGot JSONDecodeError, skipping\n",
            "Error fetching the article: Æthelbert av Kent\n",
            "\n",
            "Error fetching the article: Global Trade Item Number\n",
            "Got JSONDecodeError, skipping\n",
            "Error fetching the article: São Paulo (delstat)\n",
            "Got JSONDecodeError, skipping\n",
            "Error fetching the article: Vortigern\n",
            "Got JSONDecodeError, skipping\n",
            "Error fetching the article: Aids\n"
          ]
        },
        {
          "metadata": {
            "tags": null
          },
          "name": "stderr",
          "output_type": "stream",
          "text": [
            "\r  6%|▌         | 1253/20182 [09:53<2:31:48,  2.08it/s]"
          ]
        },
        {
          "metadata": {
            "tags": null
          },
          "name": "stdout",
          "output_type": "stream",
          "text": [
            "Got JSONDecodeError, skipping\n",
            "Error fetching the article: Dildo\n",
            "Got JSONDecodeError, skipping\n",
            "Error fetching the article: Jordskjelv\n",
            "Got JSONDecodeError, skipping\n",
            "Error fetching the article: Lund (Kristiansand)\n"
          ]
        },
        {
          "metadata": {
            "tags": null
          },
          "name": "stderr",
          "output_type": "stream",
          "text": [
            "\r  6%|▌         | 1254/20182 [09:53<2:26:48,  2.15it/s]"
          ]
        },
        {
          "metadata": {
            "tags": null
          },
          "name": "stdout",
          "output_type": "stream",
          "text": [
            "Got JSONDecodeError, skipping\n",
            "Error fetching the article: Jaco Pastorius\n",
            "Got JSONDecodeError, skipping\n",
            "Error fetching the article: Marlene Dietrich\n",
            "Got JSONDecodeError, skipping\n",
            "Error fetching the article: Nytt på nytt\n"
          ]
        },
        {
          "metadata": {
            "tags": null
          },
          "name": "stderr",
          "output_type": "stream",
          "text": [
            "\r  6%|▌         | 1255/20182 [09:53<2:23:24,  2.20it/s]"
          ]
        },
        {
          "metadata": {
            "tags": null
          },
          "name": "stdout",
          "output_type": "stream",
          "text": [
            "Got PageErrors, skipping\n",
            "Error fetching the article: Kvartal\n",
            "Got JSONDecodeError, skipping\n",
            "Error fetching the article: Korrosjon\n",
            "Got JSONDecodeError, skipping\n",
            "Got JSONDecodeError, skippingError fetching the article: Irene Dalby\n",
            "Error fetching the article: Mandal kirke\n",
            "\n"
          ]
        },
        {
          "metadata": {
            "tags": null
          },
          "name": "stderr",
          "output_type": "stream",
          "text": [
            "  6%|▌         | 1257/20182 [09:54<2:18:17,  2.28it/s]"
          ]
        },
        {
          "metadata": {
            "tags": null
          },
          "name": "stdout",
          "output_type": "stream",
          "text": [
            "Got JSONDecodeError, skipping\n",
            "Error fetching the article: Internet Assigned Numbers Authority\n",
            "Got JSONDecodeError, skipping\n",
            "Error fetching the article: Kirkelandet kirkeGot JSONDecodeError, skipping\n",
            "Error fetching the article: Almaty\n",
            "\n",
            "Got JSONDecodeError, skipping\n",
            "Error fetching the article: Musiker\n",
            "Got JSONDecodeError, skipping\n",
            "Error fetching the article: Forollhogna nasjonalpark\n",
            "Got JSONDecodeError, skipping\n",
            "Error fetching the article: Dovre nasjonalpark\n"
          ]
        },
        {
          "metadata": {
            "tags": null
          },
          "name": "stderr",
          "output_type": "stream",
          "text": [
            "\r  6%|▌         | 1258/20182 [09:55<2:23:18,  2.20it/s]"
          ]
        },
        {
          "metadata": {
            "tags": null
          },
          "name": "stdout",
          "output_type": "stream",
          "text": [
            "Got JSONDecodeError, skipping\n",
            "Error fetching the article: Naturreservat\n",
            "Got JSONDecodeError, skipping\n",
            "Error fetching the article: Silicon Fen\n",
            "Got JSONDecodeError, skipping\n",
            "Error fetching the article: Austre Tiplingan landskapsvernområde\n"
          ]
        },
        {
          "metadata": {
            "tags": null
          },
          "name": "stderr",
          "output_type": "stream",
          "text": [
            "\r  6%|▌         | 1259/20182 [09:55<2:24:48,  2.18it/s]"
          ]
        },
        {
          "metadata": {
            "tags": null
          },
          "name": "stdout",
          "output_type": "stream",
          "text": [
            "Got JSONDecodeError, skipping\n",
            "Error fetching the article: Gutulia nasjonalpark\n",
            "Got JSONDecodeError, skipping\n",
            "Error fetching the article: Sébastien Loeb\n",
            "Got JSONDecodeError, skipping\n",
            "Error fetching the article: Vinyl\n"
          ]
        },
        {
          "metadata": {
            "tags": null
          },
          "name": "stderr",
          "output_type": "stream",
          "text": [
            "  6%|▌         | 1261/20182 [09:56<2:26:44,  2.15it/s]"
          ]
        },
        {
          "metadata": {
            "tags": null
          },
          "name": "stdout",
          "output_type": "stream",
          "text": [
            "Got JSONDecodeError, skipping\n",
            "Error fetching the article: Propan\n",
            "Got JSONDecodeError, skipping\n",
            "Error fetching the article: Marshallplanen\n",
            "Got JSONDecodeError, skipping\n",
            "Error fetching the article: Document Type Definition\n"
          ]
        },
        {
          "metadata": {
            "tags": null
          },
          "name": "stderr",
          "output_type": "stream",
          "text": [
            "  6%|▋         | 1263/20182 [09:57<2:31:40,  2.08it/s]"
          ]
        },
        {
          "metadata": {
            "tags": null
          },
          "name": "stdout",
          "output_type": "stream",
          "text": [
            "Got JSONDecodeError, skippingGot JSONDecodeError, skipping\n",
            "Error fetching the article: Rowan Williams\n",
            "\n",
            "Error fetching the article: Frikildeetterretning\n",
            "Got JSONDecodeError, skipping\n",
            "Error fetching the article: Militær etterretning\n",
            "Got JSONDecodeError, skipping\n",
            "Error fetching the article: Surtningssue\n",
            "Got JSONDecodeError, skipping\n",
            "Error fetching the article: Sven-Göran Eriksson\n"
          ]
        },
        {
          "metadata": {
            "tags": null
          },
          "name": "stderr",
          "output_type": "stream",
          "text": [
            "  6%|▋         | 1266/20182 [09:59<3:09:04,  1.67it/s]"
          ]
        },
        {
          "metadata": {
            "tags": null
          },
          "name": "stdout",
          "output_type": "stream",
          "text": [
            "Got PageErrors, skipping\n",
            "Error fetching the article: Utøyeliten Ballklubb\n"
          ]
        },
        {
          "metadata": {
            "tags": null
          },
          "name": "stderr",
          "output_type": "stream",
          "text": [
            "  6%|▋         | 1295/20182 [10:14<2:30:01,  2.10it/s]"
          ]
        },
        {
          "metadata": {
            "tags": null
          },
          "name": "stdout",
          "output_type": "stream",
          "text": [
            "Got JSONDecodeError, skipping\n",
            "Error fetching the article: Gunnar Berge\n",
            "Got JSONDecodeError, skipping\n",
            "Error fetching the article: Ånderdalen nasjonalpark\n",
            "Got JSONDecodeError, skipping\n",
            "Error fetching the article: Milet\n"
          ]
        },
        {
          "metadata": {
            "tags": null
          },
          "name": "stderr",
          "output_type": "stream",
          "text": [
            "  6%|▋         | 1297/20182 [10:15<2:28:55,  2.11it/s]"
          ]
        },
        {
          "metadata": {
            "tags": null
          },
          "name": "stdout",
          "output_type": "stream",
          "text": [
            "Got JSONDecodeError, skipping\n",
            "Error fetching the article: Lollardisme\n",
            "Got JSONDecodeError, skipping\n",
            "Error fetching the article: Erling Folkvord\n",
            "Got JSONDecodeError, skipping\n",
            "Error fetching the article: Breheimen\n",
            "Got JSONDecodeError, skipping\n",
            "Error fetching the article: Riksforstander\n",
            "Got JSONDecodeError, skipping\n",
            "Error fetching the article: Rolf Sagen\n",
            "Got JSONDecodeError, skipping\n",
            "Error fetching the article: Volt\n"
          ]
        },
        {
          "metadata": {
            "tags": null
          },
          "name": "stderr",
          "output_type": "stream",
          "text": [
            "\r  6%|▋         | 1298/20182 [10:16<2:23:53,  2.19it/s]"
          ]
        },
        {
          "metadata": {
            "tags": null
          },
          "name": "stdout",
          "output_type": "stream",
          "text": [
            "Got JSONDecodeError, skipping\n",
            "Got JSONDecodeError, skippingError fetching the article: Freiheitliche Partei Österreichs\n",
            "Got JSONDecodeError, skipping\n",
            "Error fetching the article: Lokris\n",
            "\n",
            "Error fetching the article: Erkebiskop av York\n"
          ]
        },
        {
          "metadata": {
            "tags": null
          },
          "name": "stderr",
          "output_type": "stream",
          "text": [
            "\r  6%|▋         | 1299/20182 [10:16<2:21:25,  2.23it/s]"
          ]
        },
        {
          "metadata": {
            "tags": null
          },
          "name": "stdout",
          "output_type": "stream",
          "text": [
            "Got JSONDecodeError, skippingGot JSONDecodeError, skipping\n",
            "\n",
            "Error fetching the article: SussexError fetching the article: Sussex (andre betydninger)\n",
            "\n",
            "Got JSONDecodeError, skipping\n",
            "Error fetching the article: Hallbergmoos\n"
          ]
        },
        {
          "metadata": {
            "tags": null
          },
          "name": "stderr",
          "output_type": "stream",
          "text": [
            "\r  6%|▋         | 1300/20182 [10:17<2:20:02,  2.25it/s]"
          ]
        },
        {
          "metadata": {
            "tags": null
          },
          "name": "stdout",
          "output_type": "stream",
          "text": [
            "Got JSONDecodeError, skipping\n",
            "Error fetching the article: Rettsregel\n",
            "Got JSONDecodeError, skipping\n",
            "Error fetching the article: Hjorten Revy- og Varietéteater\n",
            "Got JSONDecodeError, skipping\n",
            "Error fetching the article: Achaea\n",
            "Got JSONDecodeError, skipping\n",
            "Error fetching the article: Rosario (Argentina)\n"
          ]
        },
        {
          "metadata": {
            "tags": null
          },
          "name": "stderr",
          "output_type": "stream",
          "text": [
            "  6%|▋         | 1302/20182 [10:18<2:22:24,  2.21it/s]"
          ]
        },
        {
          "metadata": {
            "tags": null
          },
          "name": "stdout",
          "output_type": "stream",
          "text": [
            "Got JSONDecodeError, skipping\n",
            "Error fetching the article: Johan Jørgen Holst\n",
            "Got JSONDecodeError, skipping\n",
            "Error fetching the article: Kaci Kullmann Five\n",
            "Got JSONDecodeError, skipping\n",
            "Error fetching the article: Fylkestidende for sogn og fjordane\n",
            "Got JSONDecodeError, skipping\n",
            "Error fetching the article: Aconcagua\n"
          ]
        },
        {
          "metadata": {
            "tags": null
          },
          "name": "stderr",
          "output_type": "stream",
          "text": [
            "\r  6%|▋         | 1303/20182 [10:18<2:20:39,  2.24it/s]"
          ]
        },
        {
          "metadata": {
            "tags": null
          },
          "name": "stdout",
          "output_type": "stream",
          "text": [
            "Got JSONDecodeError, skipping\n",
            "Error fetching the article: Karl II\n",
            "Got JSONDecodeError, skipping\n",
            "Error fetching the article: Argentinas provinser\n",
            "Got JSONDecodeError, skipping\n",
            "Error fetching the article: Kasein\n"
          ]
        },
        {
          "metadata": {
            "tags": null
          },
          "name": "stderr",
          "output_type": "stream",
          "text": [
            "\r  6%|▋         | 1304/20182 [10:18<2:17:31,  2.29it/s]"
          ]
        },
        {
          "metadata": {
            "tags": null
          },
          "name": "stdout",
          "output_type": "stream",
          "text": [
            "Got JSONDecodeError, skipping\n",
            "Error fetching the article: Brian Mulroney\n",
            "Got JSONDecodeError, skipping\n",
            "Error fetching the article: Agrigento\n",
            "Got JSONDecodeError, skipping\n",
            "Error fetching the article: Richard Chartres\n"
          ]
        },
        {
          "metadata": {
            "tags": null
          },
          "name": "stderr",
          "output_type": "stream",
          "text": [
            "\r  6%|▋         | 1305/20182 [10:19<2:17:44,  2.28it/s]"
          ]
        },
        {
          "metadata": {
            "tags": null
          },
          "name": "stdout",
          "output_type": "stream",
          "text": [
            "Got JSONDecodeError, skipping\n",
            "Error fetching the article: Kirkeskip\n",
            "Got JSONDecodeError, skipping\n",
            "Error fetching the article: Skip\n",
            "Got JSONDecodeError, skipping\n",
            "Got JSONDecodeError, skipping\n",
            "Error fetching the article: Szeged\n",
            "Error fetching the article: St. Albans\n"
          ]
        },
        {
          "metadata": {
            "tags": null
          },
          "name": "stderr",
          "output_type": "stream",
          "text": [
            "\r  6%|▋         | 1306/20182 [10:19<2:16:22,  2.31it/s]"
          ]
        },
        {
          "metadata": {
            "tags": null
          },
          "name": "stdout",
          "output_type": "stream",
          "text": [
            "Got JSONDecodeError, skipping\n",
            "Error fetching the article: Kutter (skrogform)\n",
            "Got JSONDecodeError, skipping\n",
            "Error fetching the article: Air Rarotonga\n",
            "Got JSONDecodeError, skipping\n",
            "Error fetching the article: Ormurin langi\n",
            "Got JSONDecodeError, skipping\n",
            "Error fetching the article: Mangaia\n"
          ]
        },
        {
          "metadata": {
            "tags": null
          },
          "name": "stderr",
          "output_type": "stream",
          "text": [
            "\r  6%|▋         | 1307/20182 [10:20<2:14:25,  2.34it/s]"
          ]
        },
        {
          "metadata": {
            "tags": null
          },
          "name": "stdout",
          "output_type": "stream",
          "text": [
            "Got JSONDecodeError, skipping\n",
            "Error fetching the article: Respirator\n",
            "Got JSONDecodeError, skipping\n",
            "Error fetching the article: Wallenberg\n",
            "Got JSONDecodeError, skipping\n",
            "Error fetching the article: Raudøya landskapsvernområde\n"
          ]
        },
        {
          "metadata": {
            "tags": null
          },
          "name": "stderr",
          "output_type": "stream",
          "text": [
            "\r  6%|▋         | 1308/20182 [10:20<2:12:04,  2.38it/s]"
          ]
        },
        {
          "metadata": {
            "tags": null
          },
          "name": "stdout",
          "output_type": "stream",
          "text": [
            "Got JSONDecodeError, skipping\n",
            "Error fetching the article: Kaizers Orchestra\n",
            "Got JSONDecodeError, skipping\n",
            "Error fetching the article: Buenos Aires (provins)\n",
            "Got JSONDecodeError, skipping\n",
            "Error fetching the article: PampaGot JSONDecodeError, skipping\n",
            "\n",
            "Error fetching the article: Córdoba (provins i Argentina)\n"
          ]
        },
        {
          "metadata": {
            "tags": null
          },
          "name": "stderr",
          "output_type": "stream",
          "text": [
            "\r  6%|▋         | 1309/20182 [10:21<2:12:24,  2.38it/s]"
          ]
        },
        {
          "metadata": {
            "tags": null
          },
          "name": "stdout",
          "output_type": "stream",
          "text": [
            "Got JSONDecodeError, skipping\n",
            "Error fetching the article: Santa Fe (provins)\n",
            "Got JSONDecodeError, skipping\n",
            "Error fetching the article: Skonnert\n"
          ]
        },
        {
          "metadata": {
            "tags": null
          },
          "name": "stderr",
          "output_type": "stream",
          "text": [
            "\r  6%|▋         | 1310/20182 [10:21<2:13:07,  2.36it/s]"
          ]
        },
        {
          "metadata": {
            "tags": null
          },
          "name": "stdout",
          "output_type": "stream",
          "text": [
            "Got JSONDecodeError, skipping\n",
            "Error fetching the article: Lima\n",
            "Got JSONDecodeError, skipping\n",
            "Error fetching the article: Christiaan Barnard\n",
            "Got JSONDecodeError, skipping\n",
            "Error fetching the article: Publius Ostorius Scapula\n",
            "Got JSONDecodeError, skipping\n",
            "Error fetching the article: Pedro II av Brasil\n",
            "Got JSONDecodeError, skipping\n",
            "Error fetching the article: Aulus Plautius\n"
          ]
        },
        {
          "metadata": {
            "tags": null
          },
          "name": "stderr",
          "output_type": "stream",
          "text": [
            "\r  6%|▋         | 1311/20182 [10:21<2:12:35,  2.37it/s]"
          ]
        },
        {
          "metadata": {
            "tags": null
          },
          "name": "stdout",
          "output_type": "stream",
          "text": [
            "Got JSONDecodeError, skippingGot JSONDecodeError, skipping\n",
            "\n",
            "Error fetching the article: Pernilla Wiberg\n",
            "Error fetching the article: Per Gessle\n"
          ]
        },
        {
          "metadata": {
            "tags": null
          },
          "name": "stderr",
          "output_type": "stream",
          "text": [
            "\r  7%|▋         | 1312/20182 [10:22<2:16:03,  2.31it/s]"
          ]
        },
        {
          "metadata": {
            "tags": null
          },
          "name": "stdout",
          "output_type": "stream",
          "text": [
            "Got JSONDecodeError, skipping\n",
            "Error fetching the article: Leopold II av Det tysk-romerske rike\n",
            "Got JSONDecodeError, skipping\n",
            "Got JSONDecodeError, skipping\n",
            "Error fetching the article: Arsène Wenger\n",
            "Error fetching the article: Galei\n",
            "Got JSONDecodeError, skipping\n",
            "Error fetching the article: John Cleese\n"
          ]
        },
        {
          "metadata": {
            "tags": null
          },
          "name": "stderr",
          "output_type": "stream",
          "text": [
            "  7%|▋         | 1314/20182 [10:23<2:23:18,  2.19it/s]"
          ]
        },
        {
          "metadata": {
            "tags": null
          },
          "name": "stdout",
          "output_type": "stream",
          "text": [
            "Got JSONDecodeError, skippingGot JSONDecodeError, skipping\n",
            "Error fetching the article: World Wide Web Consortium\n",
            "\n",
            "Error fetching the article: Crotone\n"
          ]
        },
        {
          "metadata": {
            "tags": null
          },
          "name": "stderr",
          "output_type": "stream",
          "text": [
            "  7%|▋         | 1316/20182 [10:24<2:31:12,  2.08it/s]"
          ]
        },
        {
          "metadata": {
            "tags": null
          },
          "name": "stdout",
          "output_type": "stream",
          "text": [
            "Got JSONDecodeError, skipping\n",
            "Error fetching the article: Utvikling (biologi)\n",
            "Got JSONDecodeError, skippingGot JSONDecodeError, skipping\n",
            "\n",
            "Error fetching the article: Utviklingsbiologi\n",
            "Error fetching the article: Morfologi (biologi)\n"
          ]
        },
        {
          "metadata": {
            "tags": null
          },
          "name": "stderr",
          "output_type": "stream",
          "text": [
            "  7%|▋         | 1318/20182 [10:25<2:33:38,  2.05it/s]"
          ]
        },
        {
          "metadata": {
            "tags": null
          },
          "name": "stdout",
          "output_type": "stream",
          "text": [
            "Got JSONDecodeError, skipping\n",
            "Error fetching the article: Hokkaido\n",
            "Got JSONDecodeError, skipping\n",
            "Error fetching the article: Shikoku\n",
            "Got JSONDecodeError, skipping"
          ]
        },
        {
          "metadata": {
            "tags": null
          },
          "name": "stderr",
          "output_type": "stream",
          "text": [
            "\r  7%|▋         | 1319/20182 [10:25<2:29:22,  2.10it/s]"
          ]
        },
        {
          "metadata": {
            "tags": null
          },
          "name": "stdout",
          "output_type": "stream",
          "text": [
            "\n",
            "Error fetching the article: Kawasaki\n"
          ]
        },
        {
          "metadata": {
            "tags": null
          },
          "name": "stderr",
          "output_type": "stream",
          "text": [
            "\r  7%|▋         | 1320/20182 [10:26<2:29:04,  2.11it/s]"
          ]
        },
        {
          "metadata": {
            "tags": null
          },
          "name": "stdout",
          "output_type": "stream",
          "text": [
            "Got JSONDecodeError, skipping\n",
            "Error fetching the article: Eikesdalsvatnet landskapsvernområde\n",
            "Got JSONDecodeError, skipping\n",
            "Error fetching the article: Venutius\n",
            "Got JSONDecodeError, skipping\n",
            "Error fetching the article: Santa Monica\n",
            "Got JSONDecodeError, skipping\n",
            "Error fetching the article: Danskebåt\n",
            "Got JSONDecodeError, skipping\n",
            "Error fetching the article: Entypebåt\n",
            "Got JSONDecodeError, skipping\n",
            "Error fetching the article: Bergingsbåt\n"
          ]
        },
        {
          "metadata": {
            "tags": null
          },
          "name": "stderr",
          "output_type": "stream",
          "text": [
            "  7%|▋         | 1322/20182 [10:27<2:27:28,  2.13it/s]"
          ]
        },
        {
          "metadata": {
            "tags": null
          },
          "name": "stdout",
          "output_type": "stream",
          "text": [
            "Got JSONDecodeError, skipping\n",
            "Error fetching the article: LittlehamptonGot JSONDecodeError, skipping\n",
            "\n",
            "Error fetching the article: Selsey\n",
            "Got JSONDecodeError, skipping\n",
            "Error fetching the article: Survival of the fittest\n",
            "Got JSONDecodeError, skipping\n",
            "Error fetching the article: Chichester (distrikt)\n",
            "Got JSONDecodeError, skipping\n",
            "Error fetching the article: Frans I Stefan av Det tysk-romerske rike\n",
            "Got JSONDecodeError, skipping\n",
            "Error fetching the article: Josef II av Det tysk-romerske rike\n"
          ]
        },
        {
          "metadata": {
            "tags": null
          },
          "name": "stderr",
          "output_type": "stream",
          "text": [
            "  7%|▋         | 1324/20182 [10:28<2:27:44,  2.13it/s]"
          ]
        },
        {
          "metadata": {
            "tags": null
          },
          "name": "stdout",
          "output_type": "stream",
          "text": [
            "Got JSONDecodeError, skipping\n",
            "Error fetching the article: Fjordbåt\n",
            "Got JSONDecodeError, skipping\n",
            "Error fetching the article: Klazomenai\n",
            "Got JSONDecodeError, skippingGot JSONDecodeError, skipping\n",
            "Error fetching the article: Samothraki\n",
            "\n",
            "Error fetching the article: Fiskebåt\n",
            "Got JSONDecodeError, skipping\n",
            "Error fetching the article: KhalkisGot JSONDecodeError, skipping\n",
            "Error fetching the article: Leontini\n",
            "\n",
            "Got JSONDecodeError, skipping\n",
            "Error fetching the article: Locri\n",
            "Got JSONDecodeError, skipping\n",
            "Error fetching the article: Nafpaktos\n"
          ]
        },
        {
          "metadata": {
            "tags": null
          },
          "name": "stderr",
          "output_type": "stream",
          "text": [
            "\r  7%|▋         | 1325/20182 [10:28<2:24:21,  2.18it/s]"
          ]
        },
        {
          "metadata": {
            "tags": null
          },
          "name": "stdout",
          "output_type": "stream",
          "text": [
            "Got JSONDecodeError, skipping\n",
            "Error fetching the article: Innerdalen landskapsvernområdeGot JSONDecodeError, skipping\n",
            "\n",
            "Error fetching the article: Gummibåt\n",
            "Got JSONDecodeError, skipping\n",
            "Error fetching the article: Varna\n",
            "Got JSONDecodeError, skipping\n",
            "Error fetching the article: Garnbåt\n"
          ]
        },
        {
          "metadata": {
            "tags": null
          },
          "name": "stderr",
          "output_type": "stream",
          "text": [
            "  7%|▋         | 1327/20182 [10:29<2:23:18,  2.19it/s]"
          ]
        },
        {
          "metadata": {
            "tags": null
          },
          "name": "stdout",
          "output_type": "stream",
          "text": [
            "Got JSONDecodeError, skipping\n",
            "Error fetching the article: GruvedriftGot JSONDecodeError, skipping\n",
            "Got JSONDecodeError, skipping\n",
            "Error fetching the article: Locrinus av britene\n",
            "\n",
            "Error fetching the article: Hino Nacional Brasileiro\n",
            "Got JSONDecodeError, skipping\n",
            "Error fetching the article: Nordre Isfjorden nasjonalpark\n",
            "Got JSONDecodeError, skipping\n",
            "Got JSONDecodeError, skipping\n",
            "Error fetching the article: Norgesmesterskapet i fotball for menn\n",
            "Error fetching the article: Geirr Tveitt\n"
          ]
        },
        {
          "metadata": {
            "tags": null
          },
          "name": "stderr",
          "output_type": "stream",
          "text": [
            "\r  7%|▋         | 1328/20182 [10:29<2:24:03,  2.18it/s]"
          ]
        },
        {
          "metadata": {
            "tags": null
          },
          "name": "stdout",
          "output_type": "stream",
          "text": [
            "Got JSONDecodeError, skipping\n",
            "Error fetching the article: Gran Canaria\n",
            "Got JSONDecodeError, skipping\n",
            "Got JSONDecodeError, skipping\n",
            "Error fetching the article: Sassen-Bünsow Land nasjonalpark\n",
            "Error fetching the article: Lanzarote\n"
          ]
        },
        {
          "metadata": {
            "tags": null
          },
          "name": "stderr",
          "output_type": "stream",
          "text": [
            "\r  7%|▋         | 1329/20182 [10:30<2:24:41,  2.17it/s]"
          ]
        },
        {
          "metadata": {
            "tags": null
          },
          "name": "stdout",
          "output_type": "stream",
          "text": [
            "Got JSONDecodeError, skipping\n",
            "Error fetching the article: Mudanjiang (Heilongjiang)\n",
            "Got JSONDecodeError, skipping\n",
            "Error fetching the article: Jixi (Heilongjiang)\n",
            "Got JSONDecodeError, skipping\n",
            "Error fetching the article: Yichun (Heilongjiang)\n",
            "Got JSONDecodeError, skipping\n",
            "Error fetching the article: Daqing\n"
          ]
        },
        {
          "metadata": {
            "tags": null
          },
          "name": "stderr",
          "output_type": "stream",
          "text": [
            "  7%|▋         | 1332/20182 [10:31<2:26:36,  2.14it/s]"
          ]
        },
        {
          "metadata": {
            "tags": null
          },
          "name": "stdout",
          "output_type": "stream",
          "text": [
            "Got JSONDecodeError, skipping\n",
            "Error fetching the article: Legio XX Valeria Victrix\n",
            "Got JSONDecodeError, skipping\n",
            "Error fetching the article: Gallia NarbonensisGot JSONDecodeError, skipping\n",
            "Error fetching the article: Eikesdalsvatnet\n",
            "\n",
            "Got JSONDecodeError, skipping\n",
            "Error fetching the article: Zhangdian\n",
            "Got JSONDecodeError, skipping\n",
            "Error fetching the article: Changzhou\n",
            "Got JSONDecodeError, skipping\n",
            "Error fetching the article: Nanjing\n"
          ]
        },
        {
          "metadata": {
            "tags": null
          },
          "name": "stderr",
          "output_type": "stream",
          "text": [
            "\r  7%|▋         | 1333/20182 [10:32<2:25:10,  2.16it/s]"
          ]
        },
        {
          "metadata": {
            "tags": null
          },
          "name": "stdout",
          "output_type": "stream",
          "text": [
            "Got JSONDecodeError, skipping\n",
            "Error fetching the article: Xingtai\n",
            "Got JSONDecodeError, skipping\n",
            "Error fetching the article: Langfang\n",
            "Got JSONDecodeError, skipping\n",
            "Error fetching the article: Luansheng\n",
            "Got JSONDecodeError, skipping\n",
            "Error fetching the article: Tangshan\n"
          ]
        },
        {
          "metadata": {
            "tags": null
          },
          "name": "stderr",
          "output_type": "stream",
          "text": [
            "\r  7%|▋         | 1334/20182 [10:32<2:21:28,  2.22it/s]"
          ]
        },
        {
          "metadata": {
            "tags": null
          },
          "name": "stdout",
          "output_type": "stream",
          "text": [
            "Got JSONDecodeError, skipping\n",
            "Error fetching the article: Jinzhou (Liaoning)\n",
            "Got JSONDecodeError, skipping\n",
            "Error fetching the article: Yingkou\n",
            "Got JSONDecodeError, skipping\n",
            "Error fetching the article: Liaoyang\n"
          ]
        },
        {
          "metadata": {
            "tags": null
          },
          "name": "stderr",
          "output_type": "stream",
          "text": [
            "\r  7%|▋         | 1335/20182 [10:33<2:18:46,  2.26it/s]"
          ]
        },
        {
          "metadata": {
            "tags": null
          },
          "name": "stdout",
          "output_type": "stream",
          "text": [
            "Got JSONDecodeError, skipping\n",
            "Error fetching the article: Wenzhou\n",
            "Got JSONDecodeError, skipping\n",
            "Error fetching the article: Jiaxing\n",
            "Got JSONDecodeError, skipping\n",
            "Error fetching the article: Rødvingetrost\n"
          ]
        },
        {
          "metadata": {
            "tags": null
          },
          "name": "stderr",
          "output_type": "stream",
          "text": [
            "\r  7%|▋         | 1336/20182 [10:33<2:17:21,  2.29it/s]"
          ]
        },
        {
          "metadata": {
            "tags": null
          },
          "name": "stdout",
          "output_type": "stream",
          "text": [
            "Got JSONDecodeError, skippingGot JSONDecodeError, skipping\n",
            "Error fetching the article: Zhanjiang\n",
            "Error fetching the article: Zhuhai\n",
            "\n",
            "Got JSONDecodeError, skipping\n",
            "Error fetching the article: Heipiplerke\n"
          ]
        },
        {
          "metadata": {
            "tags": null
          },
          "name": "stderr",
          "output_type": "stream",
          "text": [
            "\r  7%|▋         | 1337/20182 [10:33<2:15:46,  2.31it/s]"
          ]
        },
        {
          "metadata": {
            "tags": null
          },
          "name": "stdout",
          "output_type": "stream",
          "text": [
            "Got JSONDecodeError, skipping\n",
            "Error fetching the article: Nanning\n",
            "Got JSONDecodeError, skipping\n",
            "Error fetching the article: Percival Patterson\n",
            "Got JSONDecodeError, skipping\n",
            "Error fetching the article: Zhuzhou\n",
            "Got JSONDecodeError, skipping\n",
            "Error fetching the article: Liuzhou\n"
          ]
        },
        {
          "metadata": {
            "tags": null
          },
          "name": "stderr",
          "output_type": "stream",
          "text": [
            "\r  7%|▋         | 1338/20182 [10:34<2:15:16,  2.32it/s]"
          ]
        },
        {
          "metadata": {
            "tags": null
          },
          "name": "stdout",
          "output_type": "stream",
          "text": [
            "Got JSONDecodeError, skipping\n",
            "Error fetching the article: Xiangfan\n",
            "Got JSONDecodeError, skipping\n",
            "Error fetching the article: Shashi\n",
            "Got JSONDecodeError, skipping\n",
            "Error fetching the article: Changsha\n",
            "Got JSONDecodeError, skipping\n",
            "Error fetching the article: Changde\n"
          ]
        },
        {
          "metadata": {
            "tags": null
          },
          "name": "stderr",
          "output_type": "stream",
          "text": [
            "\r  7%|▋         | 1339/20182 [10:34<2:14:54,  2.33it/s]"
          ]
        },
        {
          "metadata": {
            "tags": null
          },
          "name": "stdout",
          "output_type": "stream",
          "text": [
            "Got JSONDecodeError, skipping\n",
            "Got JSONDecodeError, skipping\n",
            "Error fetching the article: PingdingshanError fetching the article: Puyang (Henan)\n",
            "\n",
            "Got JSONDecodeError, skipping\n",
            "Error fetching the article: Jiaozuo\n"
          ]
        },
        {
          "metadata": {
            "tags": null
          },
          "name": "stderr",
          "output_type": "stream",
          "text": [
            "  7%|▋         | 1341/20182 [10:35<2:17:33,  2.28it/s]"
          ]
        },
        {
          "metadata": {
            "tags": null
          },
          "name": "stdout",
          "output_type": "stream",
          "text": [
            "Got JSONDecodeError, skipping\n",
            "Error fetching the article: Datong (Shanxi)\n",
            "Got JSONDecodeError, skipping\n",
            "Error fetching the article: Hispania Tarraconensis\n",
            "Got JSONDecodeError, skipping\n",
            "Error fetching the article: Taiyuan\n",
            "Got JSONDecodeError, skipping\n",
            "Error fetching the article: Yangquan\n",
            "Got JSONDecodeError, skipping\n",
            "Error fetching the article: Parkinsons sykdom\n",
            "Got JSONDecodeError, skipping\n",
            "Error fetching the article: Hjerteinfarkt\n",
            "Got JSONDecodeError, skipping\n",
            "Error fetching the article: Kingston\n",
            "Got JSONDecodeError, skipping\n",
            "Error fetching the article: Kingston (andre betydninger)\n"
          ]
        },
        {
          "metadata": {
            "tags": null
          },
          "name": "stderr",
          "output_type": "stream",
          "text": [
            "\r  7%|▋         | 1342/20182 [10:36<2:17:05,  2.29it/s]"
          ]
        },
        {
          "metadata": {
            "tags": null
          },
          "name": "stdout",
          "output_type": "stream",
          "text": [
            "Got JSONDecodeError, skipping\n",
            "Error fetching the article: Las Palmas (provins)\n",
            "Got JSONDecodeError, skippingGot JSONDecodeError, skipping\n",
            "Error fetching the article: Agaete\n",
            "\n",
            "Error fetching the article: Vassøy\n"
          ]
        },
        {
          "metadata": {
            "tags": null
          },
          "name": "stderr",
          "output_type": "stream",
          "text": [
            "  7%|▋         | 1344/20182 [10:37<2:22:10,  2.21it/s]"
          ]
        },
        {
          "metadata": {
            "tags": null
          },
          "name": "stdout",
          "output_type": "stream",
          "text": [
            "Got JSONDecodeError, skipping\n",
            "Error fetching the article: Magnetitt\n",
            "Got JSONDecodeError, skipping\n",
            "Error fetching the article: Isskap\n",
            "Got JSONDecodeError, skipping\n",
            "Error fetching the article: Panchiao\n",
            "Got JSONDecodeError, skipping\n",
            "Error fetching the article: Yinchuan\n",
            "Got JSONDecodeError, skipping\n",
            "Error fetching the article: Kaohsiung\n",
            "Got JSONDecodeError, skipping\n",
            "Error fetching the article: Lhasa\n",
            "Got JSONDecodeError, skipping\n",
            "Error fetching the article: Haikou\n"
          ]
        },
        {
          "metadata": {
            "tags": null
          },
          "name": "stderr",
          "output_type": "stream",
          "text": [
            "  7%|▋         | 1346/20182 [10:37<2:19:46,  2.25it/s]"
          ]
        },
        {
          "metadata": {
            "tags": null
          },
          "name": "stdout",
          "output_type": "stream",
          "text": [
            "Got JSONDecodeError, skippingGot JSONDecodeError, skippingGot JSONDecodeError, skipping\n",
            "Error fetching the article: Siping\n",
            "\n",
            "Error fetching the article: Chengdu\n",
            "\n",
            "Error fetching the article: Hegang\n",
            "Got JSONDecodeError, skipping\n",
            "Error fetching the article: Baotou\n",
            "Got JSONDecodeError, skippingGot JSONDecodeError, skipping\n",
            "Error fetching the article: Baoji\n",
            "\n",
            "Error fetching the article: Xi’an\n"
          ]
        },
        {
          "metadata": {
            "tags": null
          },
          "name": "stderr",
          "output_type": "stream",
          "text": [
            "\r  7%|▋         | 1347/20182 [10:38<2:20:29,  2.23it/s]"
          ]
        },
        {
          "metadata": {
            "tags": null
          },
          "name": "stdout",
          "output_type": "stream",
          "text": [
            "Got JSONDecodeError, skipping\n",
            "Error fetching the article: Linyi (Shandong)\n",
            "Got JSONDecodeError, skipping\n",
            "Error fetching the article: Aspmyra stadion\n",
            "Got JSONDecodeError, skipping\n",
            "Error fetching the article: Porsgrunnsposten\n"
          ]
        },
        {
          "metadata": {
            "tags": null
          },
          "name": "stderr",
          "output_type": "stream",
          "text": [
            "  7%|▋         | 1349/20182 [10:39<2:26:27,  2.14it/s]"
          ]
        },
        {
          "metadata": {
            "tags": null
          },
          "name": "stdout",
          "output_type": "stream",
          "text": [
            "Got JSONDecodeError, skipping\n",
            "Error fetching the article: Thorvald Stoltenberg\n",
            "Got JSONDecodeError, skipping\n",
            "Error fetching the article: Großdeutsche Volkspartei\n",
            "Got JSONDecodeError, skipping\n",
            "Error fetching the article: Javier Pérez de Cuéllar\n"
          ]
        },
        {
          "metadata": {
            "tags": null
          },
          "name": "stderr",
          "output_type": "stream",
          "text": [
            "\r  7%|▋         | 1350/20182 [10:39<2:28:54,  2.11it/s]"
          ]
        },
        {
          "metadata": {
            "tags": null
          },
          "name": "stdout",
          "output_type": "stream",
          "text": [
            "Got JSONDecodeError, skipping\n",
            "Error fetching the article: Grad (vinkel)\n",
            "Got JSONDecodeError, skipping\n",
            "Error fetching the article: Meter over havet"
          ]
        },
        {
          "metadata": {
            "tags": null
          },
          "name": "stderr",
          "output_type": "stream",
          "text": [
            "\r  7%|▋         | 1351/20182 [10:40<2:35:00,  2.02it/s]"
          ]
        },
        {
          "metadata": {
            "tags": null
          },
          "name": "stdout",
          "output_type": "stream",
          "text": [
            "\n"
          ]
        },
        {
          "metadata": {
            "tags": null
          },
          "name": "stderr",
          "output_type": "stream",
          "text": [
            "\r  7%|▋         | 1352/20182 [10:40<2:30:08,  2.09it/s]"
          ]
        },
        {
          "metadata": {
            "tags": null
          },
          "name": "stdout",
          "output_type": "stream",
          "text": [
            "Got JSONDecodeError, skipping\n",
            "Error fetching the article: Guantánamobukta\n",
            "Got JSONDecodeError, skipping\n",
            "Error fetching the article: La Palma\n",
            "Got JSONDecodeError, skipping\n",
            "Error fetching the article: Joik\n",
            "Got JSONDecodeError, skipping\n",
            "Error fetching the article: Ion Iliescu\n",
            "Got JSONDecodeError, skipping\n",
            "Error fetching the article: Albert I av Belgia\n",
            "Got JSONDecodeError, skipping\n",
            "Error fetching the article: Vaksine\n"
          ]
        },
        {
          "metadata": {
            "tags": null
          },
          "name": "stderr",
          "output_type": "stream",
          "text": [
            "  7%|▋         | 1355/20182 [10:42<2:39:49,  1.96it/s]"
          ]
        },
        {
          "metadata": {
            "tags": null
          },
          "name": "stdout",
          "output_type": "stream",
          "text": [
            "Got JSONDecodeError, skipping\n",
            "Error fetching the article: Monmouthshire\n",
            "Got JSONDecodeError, skipping\n",
            "Error fetching the article: Usk (elv)\n",
            "Got JSONDecodeError, skipping\n",
            "Error fetching the article: Skjoldkjertel\n"
          ]
        },
        {
          "metadata": {
            "tags": null
          },
          "name": "stderr",
          "output_type": "stream",
          "text": [
            "\r  7%|▋         | 1356/20182 [10:42<2:35:53,  2.01it/s]"
          ]
        },
        {
          "metadata": {
            "tags": null
          },
          "name": "stdout",
          "output_type": "stream",
          "text": [
            "Got JSONDecodeError, skipping\n",
            "Error fetching the article: Blodplasma\n",
            "Got JSONDecodeError, skipping\n",
            "Error fetching the article: Østblokken\n",
            "Got JSONDecodeError, skipping\n",
            "Error fetching the article: Vestblokken\n",
            "Got JSONDecodeError, skipping\n",
            "Error fetching the article: Røntgenstråling\n"
          ]
        },
        {
          "metadata": {
            "tags": null
          },
          "name": "stderr",
          "output_type": "stream",
          "text": [
            "\r  7%|▋         | 1357/20182 [10:43<2:28:56,  2.11it/s]"
          ]
        },
        {
          "metadata": {
            "tags": null
          },
          "name": "stdout",
          "output_type": "stream",
          "text": [
            "Got JSONDecodeError, skippingGot JSONDecodeError, skipping\n",
            "Error fetching the article: Steep Holm\n",
            "\n",
            "Got JSONDecodeError, skipping\n",
            "Error fetching the article: Karl Viktor Hall\n",
            "Error fetching the article: Flat Holm\n"
          ]
        },
        {
          "metadata": {
            "tags": null
          },
          "name": "stderr",
          "output_type": "stream",
          "text": [
            "\r  7%|▋         | 1358/20182 [10:43<2:27:25,  2.13it/s]"
          ]
        },
        {
          "metadata": {
            "tags": null
          },
          "name": "stdout",
          "output_type": "stream",
          "text": [
            "Got JSONDecodeError, skippingGot JSONDecodeError, skipping\n",
            "\n",
            "Error fetching the article: Sofies verdenError fetching the article: Primfaktor\n",
            "\n"
          ]
        },
        {
          "metadata": {
            "tags": null
          },
          "name": "stderr",
          "output_type": "stream",
          "text": [
            "  7%|▋         | 1360/20182 [10:44<2:24:05,  2.18it/s]"
          ]
        },
        {
          "metadata": {
            "tags": null
          },
          "name": "stdout",
          "output_type": "stream",
          "text": [
            "Got JSONDecodeError, skippingGot JSONDecodeError, skipping\n",
            "Error fetching the article: Dave Murray\n",
            "Error fetching the article: Walisisk\n",
            "\n",
            "Got JSONDecodeError, skipping\n",
            "Error fetching the article: Medietilsynet\n",
            "Got JSONDecodeError, skipping\n",
            "Error fetching the article: Araer\n",
            "Got JSONDecodeError, skipping\n",
            "Error fetching the article: Makt\n",
            "Got JSONDecodeError, skipping\n",
            "Error fetching the article: HomonymGot JSONDecodeError, skipping\n",
            "\n",
            "Error fetching the article: Land of the Free\n"
          ]
        },
        {
          "metadata": {
            "tags": null
          },
          "name": "stderr",
          "output_type": "stream",
          "text": [
            "  7%|▋         | 1362/20182 [10:45<2:30:09,  2.09it/s]"
          ]
        },
        {
          "metadata": {
            "tags": null
          },
          "name": "stdout",
          "output_type": "stream",
          "text": [
            "Got JSONDecodeError, skipping\n",
            "Error fetching the article: Yibin\n",
            "Got JSONDecodeError, skipping\n",
            "Error fetching the article: Chifeng\n"
          ]
        },
        {
          "metadata": {
            "tags": null
          },
          "name": "stderr",
          "output_type": "stream",
          "text": [
            "  7%|▋         | 1371/20182 [10:50<2:19:40,  2.24it/s]"
          ]
        },
        {
          "metadata": {
            "tags": null
          },
          "name": "stdout",
          "output_type": "stream",
          "text": [
            "Got JSONDecodeError, skipping\n",
            "Error fetching the article: Juletrelenke\n",
            "Got JSONDecodeError, skipping\n",
            "Error fetching the article: Glanspapir\n",
            "Got JSONDecodeError, skipping\n",
            "Error fetching the article: Kjartan Kristiansen\n",
            "Got JSONDecodeError, skippingGot JSONDecodeError, skippingGot JSONDecodeError, skipping\n",
            "\n",
            "Error fetching the article: Billy (tegneserie)\n",
            "\n",
            "Error fetching the article: Ho Chi Minh-byen\n",
            "Error fetching the article: Rein\n"
          ]
        },
        {
          "metadata": {
            "tags": null
          },
          "name": "stderr",
          "output_type": "stream",
          "text": [
            "  7%|▋         | 1374/20182 [10:51<2:39:30,  1.97it/s]"
          ]
        },
        {
          "metadata": {
            "tags": null
          },
          "name": "stdout",
          "output_type": "stream",
          "text": [
            "Got JSONDecodeError, skipping\n",
            "Error fetching the article: Distrikt (Wales)\n"
          ]
        },
        {
          "metadata": {
            "tags": null
          },
          "name": "stderr",
          "output_type": "stream",
          "text": [
            "\r  7%|▋         | 1375/20182 [10:52<2:39:22,  1.97it/s]"
          ]
        },
        {
          "metadata": {
            "tags": null
          },
          "name": "stdout",
          "output_type": "stream",
          "text": [
            "Got JSONDecodeError, skippingGot JSONDecodeError, skipping\n",
            "Error fetching the article: Hòa Bình\n",
            "\n",
            "Error fetching the article: Hạ Long\n",
            "Got JSONDecodeError, skipping\n",
            "Error fetching the article: Haiphong\n"
          ]
        },
        {
          "metadata": {
            "tags": null
          },
          "name": "stderr",
          "output_type": "stream",
          "text": [
            "  7%|▋         | 1377/20182 [10:53<2:36:03,  2.01it/s]"
          ]
        },
        {
          "metadata": {
            "tags": null
          },
          "name": "stdout",
          "output_type": "stream",
          "text": [
            "Got JSONDecodeError, skipping\n",
            "Error fetching the article: Cà Mau\n",
            "Got JSONDecodeError, skippingGot JSONDecodeError, skipping\n",
            "Error fetching the article: Rach Gia\n",
            "Got JSONDecodeError, skipping\n",
            "\n",
            "Error fetching the article: Sóc TrăngError fetching the article: My Tho\n",
            "\n"
          ]
        },
        {
          "metadata": {
            "tags": null
          },
          "name": "stderr",
          "output_type": "stream",
          "text": [
            "  7%|▋         | 1381/20182 [10:55<2:34:11,  2.03it/s]"
          ]
        },
        {
          "metadata": {
            "tags": null
          },
          "name": "stdout",
          "output_type": "stream",
          "text": [
            "Got JSONDecodeError, skippingGot JSONDecodeError, skipping\n",
            "Error fetching the article: Linfen\n",
            "\n",
            "Error fetching the article: Kirkebåt\n",
            "Got JSONDecodeError, skipping\n",
            "Error fetching the article: Vladimir Bekhterev\n"
          ]
        },
        {
          "metadata": {
            "tags": null
          },
          "name": "stderr",
          "output_type": "stream",
          "text": [
            "  7%|▋         | 1383/20182 [10:56<2:27:09,  2.13it/s]"
          ]
        },
        {
          "metadata": {
            "tags": null
          },
          "name": "stdout",
          "output_type": "stream",
          "text": [
            "Got JSONDecodeError, skipping\n",
            "Error fetching the article: Walter Edward Dandy\n",
            "Got JSONDecodeError, skipping\n",
            "Error fetching the article: Jordskjelvet og tsunamien i Indiahavet 2004\n",
            "Got JSONDecodeError, skipping\n",
            "Error fetching the article: Camillo Golgi\n",
            "Got JSONDecodeError, skippingGot JSONDecodeError, skipping\n",
            "Error fetching the article: Rolf Presthus\n",
            "Got JSONDecodeError, skipping\n",
            "Error fetching the article: Helge Lund\n",
            "\n",
            "Error fetching the article: Losbåt\n"
          ]
        },
        {
          "metadata": {
            "tags": null
          },
          "name": "stderr",
          "output_type": "stream",
          "text": [
            "\r  7%|▋         | 1384/20182 [10:56<2:23:07,  2.19it/s]"
          ]
        },
        {
          "metadata": {
            "tags": null
          },
          "name": "stdout",
          "output_type": "stream",
          "text": [
            "Got JSONDecodeError, skipping\n",
            "Error fetching the article: Holy Island\n",
            "Got JSONDecodeError, skipping\n",
            "Error fetching the article: John Howard (1726–1790)\n"
          ]
        },
        {
          "metadata": {
            "tags": null
          },
          "name": "stderr",
          "output_type": "stream",
          "text": [
            "\r  7%|▋         | 1385/20182 [10:57<2:20:11,  2.23it/s]"
          ]
        },
        {
          "metadata": {
            "tags": null
          },
          "name": "stdout",
          "output_type": "stream",
          "text": [
            "Got JSONDecodeError, skipping\n",
            "Error fetching the article: Ørland flyplass\n",
            "Got JSONDecodeError, skipping\n",
            "Got JSONDecodeError, skipping\n",
            "Error fetching the article: CarlisleError fetching the article: Liste over Tysklands forsvarsministre\n",
            "\n",
            "Got JSONDecodeError, skipping\n",
            "Error fetching the article: Nithsdale\n"
          ]
        },
        {
          "metadata": {
            "tags": null
          },
          "name": "stderr",
          "output_type": "stream",
          "text": [
            "\r  7%|▋         | 1386/20182 [10:57<2:17:32,  2.28it/s]"
          ]
        },
        {
          "metadata": {
            "tags": null
          },
          "name": "stdout",
          "output_type": "stream",
          "text": [
            "Got JSONDecodeError, skipping\n",
            "Error fetching the article: Norddeutscher Rundfunk\n"
          ]
        },
        {
          "metadata": {
            "tags": null
          },
          "name": "stderr",
          "output_type": "stream",
          "text": [
            "\r  7%|▋         | 1387/20182 [10:58<2:20:02,  2.24it/s]"
          ]
        },
        {
          "metadata": {
            "tags": null
          },
          "name": "stdout",
          "output_type": "stream",
          "text": [
            "Got JSONDecodeError, skipping\n",
            "Error fetching the article: Logaritme\n",
            "Got JSONDecodeError, skipping\n",
            "Error fetching the article: Juletre\n",
            "Got JSONDecodeError, skipping\n",
            "Error fetching the article: Mogadishu\n",
            "Got JSONDecodeError, skipping\n",
            "Error fetching the article: Lårben\n",
            "Got JSONDecodeError, skipping\n",
            "Error fetching the article: Andamanene\n"
          ]
        },
        {
          "metadata": {
            "tags": null
          },
          "name": "stderr",
          "output_type": "stream",
          "text": [
            "  7%|▋         | 1389/20182 [10:59<2:29:05,  2.10it/s]"
          ]
        },
        {
          "metadata": {
            "tags": null
          },
          "name": "stdout",
          "output_type": "stream",
          "text": [
            "Got JSONDecodeError, skippingGot JSONDecodeError, skipping\n",
            "Error fetching the article: Puducherry\n",
            "\n",
            "Error fetching the article: Preston (Hertfordshire)\n",
            "Got JSONDecodeError, skipping\n",
            "Error fetching the article: Tamil Nadu\n",
            "Got JSONDecodeError, skippingGot JSONDecodeError, skipping\n",
            "\n",
            "Error fetching the article: Dee (Wales)Error fetching the article: Dee\n",
            "\n",
            "Got JSONDecodeError, skipping\n",
            "Error fetching the article: Organisasjonen for økonomisk samarbeid og utvikling\n"
          ]
        },
        {
          "metadata": {
            "tags": null
          },
          "name": "stderr",
          "output_type": "stream",
          "text": [
            "  7%|▋         | 1391/20182 [11:00<2:25:47,  2.15it/s]"
          ]
        },
        {
          "metadata": {
            "tags": null
          },
          "name": "stdout",
          "output_type": "stream",
          "text": [
            "Got JSONDecodeError, skipping\n",
            "Error fetching the article: Berthold Grünfeld\n",
            "Got JSONDecodeError, skipping\n",
            "Error fetching the article: Leo Eitinger\n",
            "Got JSONDecodeError, skipping\n",
            "Error fetching the article: Wrexham (grevskapsdistrikt)\n",
            "Got JSONDecodeError, skipping\n",
            "Error fetching the article: Chirk\n",
            "Got JSONDecodeError, skipping\n",
            "Error fetching the article: Ellesmere\n",
            "Got JSONDecodeError, skipping\n",
            "Error fetching the article: Sjögrens syndrom\n"
          ]
        },
        {
          "metadata": {
            "tags": null
          },
          "name": "stderr",
          "output_type": "stream",
          "text": [
            "\r  7%|▋         | 1392/20182 [11:00<2:26:31,  2.14it/s]"
          ]
        },
        {
          "metadata": {
            "tags": null
          },
          "name": "stdout",
          "output_type": "stream",
          "text": [
            "Got JSONDecodeError, skippingGot JSONDecodeError, skipping\n",
            "Error fetching the article: Linus PaulingGot JSONDecodeError, skipping\n",
            "Error fetching the article: Sri Jayawardenapura Kotte\n",
            "\n",
            "\n",
            "Error fetching the article: Alfred Adler\n"
          ]
        },
        {
          "metadata": {
            "tags": null
          },
          "name": "stderr",
          "output_type": "stream",
          "text": [
            "  7%|▋         | 1396/20182 [11:02<2:37:53,  1.98it/s]"
          ]
        },
        {
          "metadata": {
            "tags": null
          },
          "name": "stdout",
          "output_type": "stream",
          "text": [
            "Got JSONDecodeError, skipping\n",
            "Error fetching the article: New Forest (distrikt)\n",
            "Got JSONDecodeError, skipping\n",
            "Error fetching the article: Jernbane i Sverige\n",
            "Got JSONDecodeError, skipping\n",
            "Error fetching the article: Lymington\n"
          ]
        },
        {
          "metadata": {
            "tags": null
          },
          "name": "stderr",
          "output_type": "stream",
          "text": [
            "\r  7%|▋         | 1397/20182 [11:03<2:36:46,  2.00it/s]"
          ]
        },
        {
          "metadata": {
            "tags": null
          },
          "name": "stdout",
          "output_type": "stream",
          "text": [
            "Got JSONDecodeError, skipping\n",
            "Error fetching the article: Den arabiske halvøy\n",
            "Got JSONDecodeError, skipping\n",
            "Error fetching the article: Arabia (andre betydninger)\n",
            "Got JSONDecodeError, skipping\n",
            "Error fetching the article: Mullaittivu (distrikt)\n",
            "Got JSONDecodeError, skipping\n",
            "Error fetching the article: Malayahalvøya\n"
          ]
        },
        {
          "metadata": {
            "tags": null
          },
          "name": "stderr",
          "output_type": "stream",
          "text": [
            "  7%|▋         | 1399/20182 [11:04<2:32:38,  2.05it/s]"
          ]
        },
        {
          "metadata": {
            "tags": null
          },
          "name": "stdout",
          "output_type": "stream",
          "text": [
            "Got JSONDecodeError, skipping\n",
            "Error fetching the article: Brun saus\n",
            "Got JSONDecodeError, skipping\n",
            "Error fetching the article: Mumbles\n",
            "Got JSONDecodeError, skippingGot JSONDecodeError, skipping\n",
            "Error fetching the article: Det arabiske alfabetet\n",
            "\n",
            "Error fetching the article: Colargol\n",
            "Got JSONDecodeError, skipping\n",
            "Error fetching the article: Hedsjas\n"
          ]
        },
        {
          "metadata": {
            "tags": null
          },
          "name": "stderr",
          "output_type": "stream",
          "text": [
            "\r  7%|▋         | 1400/20182 [11:04<2:31:24,  2.07it/s]"
          ]
        },
        {
          "metadata": {
            "tags": null
          },
          "name": "stdout",
          "output_type": "stream",
          "text": [
            "Got JSONDecodeError, skipping\n",
            "Error fetching the article: Ingrid Bjerkås\n",
            "Got JSONDecodeError, skippingGot JSONDecodeError, skipping\n",
            "Error fetching the article: Storeggaraset\n",
            "\n",
            "Error fetching the article: Jigorō Kanō\n"
          ]
        },
        {
          "metadata": {
            "tags": null
          },
          "name": "stderr",
          "output_type": "stream",
          "text": [
            "  7%|▋         | 1402/20182 [11:05<2:26:39,  2.13it/s]"
          ]
        },
        {
          "metadata": {
            "tags": null
          },
          "name": "stdout",
          "output_type": "stream",
          "text": [
            "Got JSONDecodeError, skipping\n",
            "Error fetching the article: Blaenau Gwent\n",
            "Got JSONDecodeError, skipping\n",
            "Error fetching the article: REP\n",
            "Got JSONDecodeError, skipping\n",
            "Error fetching the article: Blaenavon\n",
            "Got JSONDecodeError, skipping\n",
            "Error fetching the article: Deutsche Volksunion\n",
            "Got JSONDecodeError, skipping\n",
            "Error fetching the article: Tanintharyi (region)\n",
            "Got JSONDecodeError, skipping\n",
            "Error fetching the article: Carmarthen\n",
            "Got JSONDecodeError, skipping\n",
            "Error fetching the article: Satun (provins)\n"
          ]
        },
        {
          "metadata": {
            "tags": null
          },
          "name": "stderr",
          "output_type": "stream",
          "text": [
            "\r  7%|▋         | 1403/20182 [11:05<2:23:43,  2.18it/s]"
          ]
        },
        {
          "metadata": {
            "tags": null
          },
          "name": "stdout",
          "output_type": "stream",
          "text": [
            "Got JSONDecodeError, skipping\n",
            "Error fetching the article: Messinastredet\n",
            "Got JSONDecodeError, skipping\n",
            "Error fetching the article: Mannefjordtriangelet\n",
            "Got JSONDecodeError, skipping\n",
            "Error fetching the article: Østrogen\n"
          ]
        },
        {
          "metadata": {
            "tags": null
          },
          "name": "stderr",
          "output_type": "stream",
          "text": [
            "\r  7%|▋         | 1404/20182 [11:06<2:23:55,  2.17it/s]"
          ]
        },
        {
          "metadata": {
            "tags": null
          },
          "name": "stdout",
          "output_type": "stream",
          "text": [
            "Got JSONDecodeError, skipping\n",
            "Error fetching the article: Territorium\n"
          ]
        },
        {
          "metadata": {
            "tags": null
          },
          "name": "stderr",
          "output_type": "stream",
          "text": [
            "\r  7%|▋         | 1405/20182 [11:06<2:27:04,  2.13it/s]"
          ]
        },
        {
          "metadata": {
            "tags": null
          },
          "name": "stdout",
          "output_type": "stream",
          "text": [
            "Got JSONDecodeError, skipping\n",
            "Error fetching the article: Helge Ingstad\n",
            "Got JSONDecodeError, skipping\n",
            "Error fetching the article: Vale of Glamorgan\n"
          ]
        },
        {
          "metadata": {
            "tags": null
          },
          "name": "stderr",
          "output_type": "stream",
          "text": [
            "\r  7%|▋         | 1406/20182 [11:07<2:26:46,  2.13it/s]"
          ]
        },
        {
          "metadata": {
            "tags": null
          },
          "name": "stdout",
          "output_type": "stream",
          "text": [
            "Got JSONDecodeError, skipping\n",
            "Error fetching the article: 3. århundre f.Kr.\n",
            "Got JSONDecodeError, skippingGot JSONDecodeError, skipping\n",
            "Error fetching the article: 2. århundre f.Kr.\n",
            "\n",
            "Got JSONDecodeError, skipping\n",
            "Error fetching the article: ColwinstonError fetching the article: Wick (Wales)\n",
            "\n",
            "Got JSONDecodeError, skipping\n",
            "Error fetching the article: 4. årtusen f.Kr.\n",
            "Got JSONDecodeError, skipping\n",
            "Error fetching the article: 5. årtusen f.Kr.\n",
            "Got JSONDecodeError, skipping\n",
            "Error fetching the article: 2. årtusen f.Kr.\n"
          ]
        },
        {
          "metadata": {
            "tags": null
          },
          "name": "stderr",
          "output_type": "stream",
          "text": [
            "\r  7%|▋         | 1407/20182 [11:07<2:23:25,  2.18it/s]"
          ]
        },
        {
          "metadata": {
            "tags": null
          },
          "name": "stdout",
          "output_type": "stream",
          "text": [
            "Got JSONDecodeError, skippingGot JSONDecodeError, skipping\n",
            "Error fetching the article: Trincomalee (distrikt)\n",
            "\n",
            "Error fetching the article: Arkeolog\n",
            "Got JSONDecodeError, skipping\n",
            "Error fetching the article: Maltesisk"
          ]
        },
        {
          "metadata": {
            "tags": null
          },
          "name": "stderr",
          "output_type": "stream",
          "text": [
            "\r  7%|▋         | 1408/20182 [11:08<2:22:00,  2.20it/s]"
          ]
        },
        {
          "metadata": {
            "tags": null
          },
          "name": "stdout",
          "output_type": "stream",
          "text": [
            "\n",
            "Got JSONDecodeError, skipping\n",
            "Error fetching the article: Haakon Lie\n",
            "Got JSONDecodeError, skipping\n",
            "Error fetching the article: Gregor VIII\n",
            "Got JSONDecodeError, skipping\n",
            "Error fetching the article: John Foster Dulles\n"
          ]
        },
        {
          "metadata": {
            "tags": null
          },
          "name": "stderr",
          "output_type": "stream",
          "text": [
            "  7%|▋         | 1410/20182 [11:09<2:19:40,  2.24it/s]"
          ]
        },
        {
          "metadata": {
            "tags": null
          },
          "name": "stdout",
          "output_type": "stream",
          "text": [
            "Got JSONDecodeError, skippingGot JSONDecodeError, skipping\n",
            "Error fetching the article: Midtmaradalen\n",
            "\n",
            "Error fetching the article: Skien lufthavn, Geiteryggen\n",
            "Got JSONDecodeError, skipping\n",
            "Error fetching the article: Arterie\n",
            "Got JSONDecodeError, skipping\n",
            "Error fetching the article: Brettspill\n",
            "Got JSONDecodeError, skipping\n",
            "Error fetching the article: Ampara (distrikt)\n",
            "Got JSONDecodeError, skipping\n",
            "Error fetching the article: Krishna\n",
            "Got JSONDecodeError, skipping\n",
            "Error fetching the article: Trentino-Syd-Tirol\n"
          ]
        },
        {
          "metadata": {
            "tags": null
          },
          "name": "stderr",
          "output_type": "stream",
          "text": [
            "\r  7%|▋         | 1411/20182 [11:09<2:17:47,  2.27it/s]"
          ]
        },
        {
          "metadata": {
            "tags": null
          },
          "name": "stdout",
          "output_type": "stream",
          "text": [
            "Got JSONDecodeError, skipping\n",
            "Error fetching the article: Judogi\n",
            "Got JSONDecodeError, skipping\n",
            "Error fetching the article: Språktypologi\n",
            "Got JSONDecodeError, skipping\n",
            "Error fetching the article: Celestin III\n"
          ]
        },
        {
          "metadata": {
            "tags": null
          },
          "name": "stderr",
          "output_type": "stream",
          "text": [
            "\r  7%|▋         | 1412/20182 [11:09<2:14:57,  2.32it/s]"
          ]
        },
        {
          "metadata": {
            "tags": null
          },
          "name": "stdout",
          "output_type": "stream",
          "text": [
            "Got JSONDecodeError, skipping\n",
            "Error fetching the article: Skøyte (båt)\n",
            "Got JSONDecodeError, skipping\n",
            "Error fetching the article: Dobbeltfirer\n",
            "Got JSONDecodeError, skipping\n",
            "Error fetching the article: Nordlandsbåt\n"
          ]
        },
        {
          "metadata": {
            "tags": null
          },
          "name": "stderr",
          "output_type": "stream",
          "text": [
            "  7%|▋         | 1414/20182 [11:10<2:18:13,  2.26it/s]"
          ]
        },
        {
          "metadata": {
            "tags": null
          },
          "name": "stdout",
          "output_type": "stream",
          "text": [
            "Got JSONDecodeError, skipping\n",
            "Error fetching the article: Pontdolgoch\n",
            "Got JSONDecodeError, skipping\n",
            "Error fetching the article: Llanidloes\n",
            "Got JSONDecodeError, skippingGot JSONDecodeError, skipping\n",
            "Error fetching the article: Llandrindod Wells\n",
            "\n",
            "Error fetching the article: Brecon\n",
            "Got JSONDecodeError, skipping\n",
            "Error fetching the article: Bohem\n",
            "Got JSONDecodeError, skipping\n",
            "Error fetching the article: Stord (øy)\n",
            "Got JSONDecodeError, skipping\n",
            "Error fetching the article: Gunnar Sønsteby\n",
            "Got JSONDecodeError, skipping\n",
            "Error fetching the article: Milorg\n"
          ]
        },
        {
          "metadata": {
            "tags": null
          },
          "name": "stderr",
          "output_type": "stream",
          "text": [
            "\r  7%|▋         | 1415/20182 [11:11<2:17:54,  2.27it/s]"
          ]
        },
        {
          "metadata": {
            "tags": null
          },
          "name": "stdout",
          "output_type": "stream",
          "text": [
            "Got JSONDecodeError, skipping\n",
            "Error fetching the article: Hamar flyplass, Stafsberg\n",
            "Got JSONDecodeError, skipping\n",
            "Error fetching the article: Kalutara (distrikt)\n",
            "Got JSONDecodeError, skipping\n",
            "Error fetching the article: Ludwig I av Bayern\n",
            "Got JSONDecodeError, skipping\n",
            "Error fetching the article: Fritzøe flyplass\n"
          ]
        },
        {
          "metadata": {
            "tags": null
          },
          "name": "stderr",
          "output_type": "stream",
          "text": [
            "\r  7%|▋         | 1416/20182 [11:11<2:16:22,  2.29it/s]"
          ]
        },
        {
          "metadata": {
            "tags": null
          },
          "name": "stdout",
          "output_type": "stream",
          "text": [
            "Got JSONDecodeError, skippingGot JSONDecodeError, skipping\n",
            "\n",
            "Error fetching the article: Tamiler\n",
            "Error fetching the article: Mohns skar\n"
          ]
        },
        {
          "metadata": {
            "tags": null
          },
          "name": "stderr",
          "output_type": "stream",
          "text": [
            "\r  7%|▋         | 1417/20182 [11:12<2:15:44,  2.30it/s]"
          ]
        },
        {
          "metadata": {
            "tags": null
          },
          "name": "stdout",
          "output_type": "stream",
          "text": [
            "Got JSONDecodeError, skipping\n",
            "Error fetching the article: Kilinochchi (distrikt)\n",
            "Got JSONDecodeError, skipping\n",
            "Error fetching the article: Galen\n",
            "Got JSONDecodeError, skipping\n",
            "Error fetching the article: NKF\n",
            "Got JSONDecodeError, skipping\n",
            "Error fetching the article: Norsk Kommuneforbund\n",
            "Got JSONDecodeError, skipping\n",
            "Error fetching the article: Union internationale des associations d’alpinisme\n"
          ]
        },
        {
          "metadata": {
            "tags": null
          },
          "name": "stderr",
          "output_type": "stream",
          "text": [
            "\r  7%|▋         | 1418/20182 [11:12<2:14:54,  2.32it/s]"
          ]
        },
        {
          "metadata": {
            "tags": null
          },
          "name": "stdout",
          "output_type": "stream",
          "text": [
            "Got JSONDecodeError, skipping\n",
            "Error fetching the article: Nias\n",
            "Got JSONDecodeError, skipping\n",
            "Error fetching the article: Jordskjelvet i Tangshan 1976\n",
            "Got JSONDecodeError, skipping\n",
            "Error fetching the article: Padova\n"
          ]
        },
        {
          "metadata": {
            "tags": null
          },
          "name": "stderr",
          "output_type": "stream",
          "text": [
            "\r  7%|▋         | 1419/20182 [11:13<2:15:20,  2.31it/s]"
          ]
        },
        {
          "metadata": {
            "tags": null
          },
          "name": "stdout",
          "output_type": "stream",
          "text": [
            "Got JSONDecodeError, skipping\n",
            "Error fetching the article: Meulaboh\n",
            "Got JSONDecodeError, skippingGot JSONDecodeError, skipping\n",
            "\n",
            "Error fetching the article: Wunderbaum\n",
            "Error fetching the article: Nedertysk\n"
          ]
        },
        {
          "metadata": {
            "tags": null
          },
          "name": "stderr",
          "output_type": "stream",
          "text": [
            "\r  7%|▋         | 1420/20182 [11:13<2:15:14,  2.31it/s]"
          ]
        },
        {
          "metadata": {
            "tags": null
          },
          "name": "stdout",
          "output_type": "stream",
          "text": [
            "Got JSONDecodeError, skipping\n",
            "Error fetching the article: Hammer (andre betydninger)\n",
            "Got JSONDecodeError, skipping\n",
            "Error fetching the article: Morobukten\n"
          ]
        },
        {
          "metadata": {
            "tags": null
          },
          "name": "stderr",
          "output_type": "stream",
          "text": [
            "\r  7%|▋         | 1421/20182 [11:13<2:17:34,  2.27it/s]"
          ]
        },
        {
          "metadata": {
            "tags": null
          },
          "name": "stdout",
          "output_type": "stream",
          "text": [
            "Got JSONDecodeError, skippingGot JSONDecodeError, skipping\n",
            "Error fetching the article: Arktis\n",
            "\n",
            "Error fetching the article: Andersnatten\n"
          ]
        },
        {
          "metadata": {
            "tags": null
          },
          "name": "stderr",
          "output_type": "stream",
          "text": [
            "\r  7%|▋         | 1422/20182 [11:14<2:16:33,  2.29it/s]"
          ]
        },
        {
          "metadata": {
            "tags": null
          },
          "name": "stdout",
          "output_type": "stream",
          "text": [
            "Got JSONDecodeError, skipping\n",
            "Error fetching the article: Høyhus\n",
            "Got JSONDecodeError, skipping\n",
            "Error fetching the article: Odisha\n",
            "Got JSONDecodeError, skipping\n",
            "Error fetching the article: Koromandelkysten\n"
          ]
        },
        {
          "metadata": {
            "tags": null
          },
          "name": "stderr",
          "output_type": "stream",
          "text": [
            "\r  7%|▋         | 1423/20182 [11:14<2:15:34,  2.31it/s]"
          ]
        },
        {
          "metadata": {
            "tags": null
          },
          "name": "stdout",
          "output_type": "stream",
          "text": [
            "Got JSONDecodeError, skipping\n",
            "Error fetching the article: GlamorganGot JSONDecodeError, skipping\n",
            "Error fetching the article: Tonypandyopptøyene\n",
            "\n",
            "Got JSONDecodeError, skipping\n",
            "Error fetching the article: Maesteg\n"
          ]
        },
        {
          "metadata": {
            "tags": null
          },
          "name": "stderr",
          "output_type": "stream",
          "text": [
            "  7%|▋         | 1425/20182 [11:15<2:21:28,  2.21it/s]"
          ]
        },
        {
          "metadata": {
            "tags": null
          },
          "name": "stdout",
          "output_type": "stream",
          "text": [
            "Got JSONDecodeError, skipping\n",
            "Error fetching the article: John Snow\n",
            "Got JSONDecodeError, skipping\n",
            "Error fetching the article: Erik Adolf von Willebrand\n",
            "Got JSONDecodeError, skipping\n",
            "Error fetching the article: Kolkata\n",
            "Got JSONDecodeError, skipping\n",
            "Error fetching the article: Adam Małysz\n"
          ]
        },
        {
          "metadata": {
            "tags": null
          },
          "name": "stderr",
          "output_type": "stream",
          "text": [
            "  7%|▋         | 1427/20182 [11:16<2:26:13,  2.14it/s]"
          ]
        },
        {
          "metadata": {
            "tags": null
          },
          "name": "stdout",
          "output_type": "stream",
          "text": [
            "Got JSONDecodeError, skipping\n",
            "Error fetching the article: Polygami\n",
            "Got JSONDecodeError, skipping\n",
            "Error fetching the article: Sven Kærup Bjørneboe\n",
            "Got JSONDecodeError, skipping\n",
            "Got JSONDecodeError, skipping\n",
            "Error fetching the article: Daganlegg\n",
            "Error fetching the article: Liste over verdens høyeste bygninger\n"
          ]
        },
        {
          "metadata": {
            "tags": null
          },
          "name": "stderr",
          "output_type": "stream",
          "text": [
            "  7%|▋         | 1430/20182 [11:18<2:32:51,  2.04it/s]"
          ]
        },
        {
          "metadata": {
            "tags": null
          },
          "name": "stdout",
          "output_type": "stream",
          "text": [
            "Got JSONDecodeError, skipping\n",
            "Error fetching the article: Märtha av Norge\n",
            "Got JSONDecodeError, skipping\n",
            "Error fetching the article: Astrid, fru Ferner\n",
            "Got JSONDecodeError, skipping\n",
            "Error fetching the article: Livbåt\n",
            "Got JSONDecodeError, skipping\n",
            "Error fetching the article: Mynachlog-ddu\n",
            "Got JSONDecodeError, skipping\n",
            "Error fetching the article: Pembroke (Wales)\n",
            "Got JSONDecodeError, skipping\n",
            "Error fetching the article: Milford Haven\n"
          ]
        },
        {
          "metadata": {
            "tags": null
          },
          "name": "stderr",
          "output_type": "stream",
          "text": [
            "\r  7%|▋         | 1431/20182 [11:18<2:27:05,  2.12it/s]"
          ]
        },
        {
          "metadata": {
            "tags": null
          },
          "name": "stdout",
          "output_type": "stream",
          "text": [
            "Got JSONDecodeError, skipping\n",
            "Error fetching the article: Diego Garcia\n",
            "Got JSONDecodeError, skipping\n",
            "Error fetching the article: Rolandas Paksas\n"
          ]
        },
        {
          "metadata": {
            "tags": null
          },
          "name": "stderr",
          "output_type": "stream",
          "text": [
            "\r  7%|▋         | 1432/20182 [11:19<2:28:15,  2.11it/s]"
          ]
        },
        {
          "metadata": {
            "tags": null
          },
          "name": "stdout",
          "output_type": "stream",
          "text": [
            "Got JSONDecodeError, skipping\n",
            "Error fetching the article: Tyrkisk lira\n",
            "Got JSONDecodeError, skipping\n",
            "Error fetching the article: Devaluering\n",
            "Got JSONDecodeError, skipping\n",
            "Error fetching the article: MacGyver\n"
          ]
        },
        {
          "metadata": {
            "tags": null
          },
          "name": "stderr",
          "output_type": "stream",
          "text": [
            "  7%|▋         | 1439/20182 [11:22<2:33:58,  2.03it/s]"
          ]
        },
        {
          "metadata": {
            "tags": null
          },
          "name": "stdout",
          "output_type": "stream",
          "text": [
            "Got JSONDecodeError, skipping\n",
            "Error fetching the article: Lars Levi Læstadius\n"
          ]
        },
        {
          "metadata": {
            "tags": null
          },
          "name": "stderr",
          "output_type": "stream",
          "text": [
            "  7%|▋         | 1441/20182 [11:23<2:34:57,  2.02it/s]"
          ]
        },
        {
          "metadata": {
            "tags": null
          },
          "name": "stdout",
          "output_type": "stream",
          "text": [
            "Got JSONDecodeError, skipping\n",
            "Error fetching the article: Caerleon\n",
            "Got JSONDecodeError, skipping\n",
            "Got JSONDecodeError, skipping\n",
            "Error fetching the article: John McEnroe\n",
            "Error fetching the article: Romaskin (sjøfart)\n",
            "Got JSONDecodeError, skipping\n",
            "Error fetching the article: Indre London\n"
          ]
        },
        {
          "metadata": {
            "tags": null
          },
          "name": "stderr",
          "output_type": "stream",
          "text": [
            "\r  7%|▋         | 1442/20182 [11:24<2:27:36,  2.12it/s]"
          ]
        },
        {
          "metadata": {
            "tags": null
          },
          "name": "stdout",
          "output_type": "stream",
          "text": [
            "Got JSONDecodeError, skippingGot JSONDecodeError, skipping\n",
            "Error fetching the article: Trippelalliansen (1717)\n",
            "\n",
            "Error fetching the article: Sandra Bullock\n",
            "Got JSONDecodeError, skipping\n",
            "Error fetching the article: Steve Harris\n"
          ]
        },
        {
          "metadata": {
            "tags": null
          },
          "name": "stderr",
          "output_type": "stream",
          "text": [
            "\r  7%|▋         | 1443/20182 [11:24<2:23:26,  2.18it/s]"
          ]
        },
        {
          "metadata": {
            "tags": null
          },
          "name": "stdout",
          "output_type": "stream",
          "text": [
            "Got JSONDecodeError, skipping\n",
            "Error fetching the article: Ausgleich\n",
            "Got JSONDecodeError, skipping\n",
            "Error fetching the article: Helseforetak\n"
          ]
        },
        {
          "metadata": {
            "tags": null
          },
          "name": "stderr",
          "output_type": "stream",
          "text": [
            "\r  7%|▋         | 1444/20182 [11:25<2:24:12,  2.17it/s]"
          ]
        },
        {
          "metadata": {
            "tags": null
          },
          "name": "stdout",
          "output_type": "stream",
          "text": [
            "Got JSONDecodeError, skipping\n",
            "Error fetching the article: Wimbledon (London)\n",
            "Got JSONDecodeError, skipping\n",
            "Error fetching the article: MySQL\n",
            "Got JSONDecodeError, skipping\n",
            "Error fetching the article: Jadranka Kosor\n"
          ]
        },
        {
          "metadata": {
            "tags": null
          },
          "name": "stderr",
          "output_type": "stream",
          "text": [
            "  7%|▋         | 1446/20182 [11:26<2:27:11,  2.12it/s]"
          ]
        },
        {
          "metadata": {
            "tags": null
          },
          "name": "stdout",
          "output_type": "stream",
          "text": [
            "Got JSONDecodeError, skipping\n",
            "Error fetching the article: Haukeland universitetssykehus\n",
            "Got JSONDecodeError, skipping\n",
            "Error fetching the article: Kensington and Chelsea\n",
            "Got JSONDecodeError, skipping\n",
            "Error fetching the article: Galisisk\n",
            "Got JSONDecodeError, skipping\n",
            "Error fetching the article: Bao Dai av Vietnam\n"
          ]
        },
        {
          "metadata": {
            "tags": null
          },
          "name": "stderr",
          "output_type": "stream",
          "text": [
            "\r  7%|▋         | 1447/20182 [11:26<2:23:40,  2.17it/s]"
          ]
        },
        {
          "metadata": {
            "tags": null
          },
          "name": "stdout",
          "output_type": "stream",
          "text": [
            "Got JSONDecodeError, skipping\n",
            "Error fetching the article: David Schwimmer\n",
            "Got JSONDecodeError, skipping\n",
            "Error fetching the article: Ganglion (cyste)\n",
            "Got JSONDecodeError, skipping\n",
            "Error fetching the article: Pete Sampras\n"
          ]
        },
        {
          "metadata": {
            "tags": null
          },
          "name": "stderr",
          "output_type": "stream",
          "text": [
            "  7%|▋         | 1449/20182 [11:27<2:19:14,  2.24it/s]"
          ]
        },
        {
          "metadata": {
            "tags": null
          },
          "name": "stdout",
          "output_type": "stream",
          "text": [
            "Got JSONDecodeError, skipping\n",
            "Error fetching the article: Rowan Atkinson\n",
            "Got JSONDecodeError, skipping\n",
            "Error fetching the article: M1 Karabin\n",
            "Got JSONDecodeError, skipping\n",
            "Error fetching the article: Andre Agassi\n",
            "Got JSONDecodeError, skipping\n",
            "Error fetching the article: Hær\n",
            "Got JSONDecodeError, skippingGot JSONDecodeError, skipping\n",
            "Error fetching the article: Terabyte\n",
            "\n",
            "Error fetching the article: Brødtekst\n"
          ]
        },
        {
          "metadata": {
            "tags": null
          },
          "name": "stderr",
          "output_type": "stream",
          "text": [
            "  7%|▋         | 1451/20182 [11:28<2:26:24,  2.13it/s]"
          ]
        },
        {
          "metadata": {
            "tags": null
          },
          "name": "stdout",
          "output_type": "stream",
          "text": [
            "Got JSONDecodeError, skipping\n",
            "Error fetching the article: Hjemmevern\n",
            "Got JSONDecodeError, skipping\n",
            "Error fetching the article: Ingress\n",
            "Got JSONDecodeError, skipping\n",
            "Error fetching the article: Lisa Kudrow\n",
            "Got JSONDecodeError, skipping\n",
            "Error fetching the article: Korps\n",
            "Got JSONDecodeError, skipping\n",
            "Error fetching the article: Tunbridge Wells (distrikt)\n",
            "Got JSONDecodeError, skipping\n",
            "Error fetching the article: Tunbridge Wells\n",
            "Got JSONDecodeError, skipping\n",
            "Error fetching the article: Sykepleier\n",
            "Got JSONDecodeError, skipping\n",
            "Error fetching the article: Dialyse\n"
          ]
        },
        {
          "metadata": {
            "tags": null
          },
          "name": "stderr",
          "output_type": "stream",
          "text": [
            "\r  7%|▋         | 1452/20182 [11:28<2:24:29,  2.16it/s]"
          ]
        },
        {
          "metadata": {
            "tags": null
          },
          "name": "stdout",
          "output_type": "stream",
          "text": [
            "Got JSONDecodeError, skipping\n",
            "Error fetching the article: MI5\n",
            "Got JSONDecodeError, skipping\n",
            "Error fetching the article: Secret Intelligence Service\n",
            "Got JSONDecodeError, skipping\n",
            "Error fetching the article: Adrian Bergmann-saken\n"
          ]
        },
        {
          "metadata": {
            "tags": null
          },
          "name": "stderr",
          "output_type": "stream",
          "text": [
            "  7%|▋         | 1454/20182 [11:29<2:35:12,  2.01it/s]"
          ]
        },
        {
          "metadata": {
            "tags": null
          },
          "name": "stdout",
          "output_type": "stream",
          "text": [
            "Got JSONDecodeError, skipping\n",
            "Error fetching the article: Aschehoug\n",
            "Got JSONDecodeError, skipping\n",
            "Error fetching the article: Politiet (Norge)\n",
            "Got JSONDecodeError, skipping\n",
            "Error fetching the article: Kapitél (arkitektur)\n",
            "Got JSONDecodeError, skipping\n",
            "Error fetching the article: Maidstone (distrikt)\n"
          ]
        },
        {
          "metadata": {
            "tags": null
          },
          "name": "stderr",
          "output_type": "stream",
          "text": [
            "\r  7%|▋         | 1455/20182 [11:30<2:37:50,  1.98it/s]"
          ]
        },
        {
          "metadata": {
            "tags": null
          },
          "name": "stdout",
          "output_type": "stream",
          "text": [
            "Got JSONDecodeError, skipping\n",
            "Error fetching the article: Anna Seghers\n"
          ]
        },
        {
          "metadata": {
            "tags": null
          },
          "name": "stderr",
          "output_type": "stream",
          "text": [
            "  7%|▋         | 1457/20182 [11:31<2:34:08,  2.02it/s]"
          ]
        },
        {
          "metadata": {
            "tags": null
          },
          "name": "stdout",
          "output_type": "stream",
          "text": [
            "Got JSONDecodeError, skipping\n",
            "Error fetching the article: Dunstable Downs\n",
            "Got JSONDecodeError, skipping\n",
            "Error fetching the article: Headcorn\n",
            "Got JSONDecodeError, skipping\n",
            "Error fetching the article: Morten Gamst Pedersen\n"
          ]
        },
        {
          "metadata": {
            "tags": null
          },
          "name": "stderr",
          "output_type": "stream",
          "text": [
            "\r  7%|▋         | 1458/20182 [11:31<2:27:59,  2.11it/s]"
          ]
        },
        {
          "metadata": {
            "tags": null
          },
          "name": "stdout",
          "output_type": "stream",
          "text": [
            "Got JSONDecodeError, skipping\n",
            "Got JSONDecodeError, skipping\n",
            "Error fetching the article: Sarah Knauss\n",
            "Error fetching the article: Petroleum\n",
            "Got JSONDecodeError, skipping\n",
            "Error fetching the article: Råolje\n"
          ]
        },
        {
          "metadata": {
            "tags": null
          },
          "name": "stderr",
          "output_type": "stream",
          "text": [
            "  7%|▋         | 1460/20182 [11:32<2:33:09,  2.04it/s]"
          ]
        },
        {
          "metadata": {
            "tags": null
          },
          "name": "stdout",
          "output_type": "stream",
          "text": [
            "Got JSONDecodeError, skipping\n",
            "Error fetching the article: Sukker\n",
            "Got JSONDecodeError, skipping\n",
            "Error fetching the article: Romanias politiske system\n"
          ]
        },
        {
          "metadata": {
            "tags": null
          },
          "name": "stderr",
          "output_type": "stream",
          "text": [
            "  7%|▋         | 1462/20182 [11:33<2:33:11,  2.04it/s]"
          ]
        },
        {
          "metadata": {
            "tags": null
          },
          "name": "stdout",
          "output_type": "stream",
          "text": [
            "Got JSONDecodeError, skipping\n",
            "Error fetching the article: Katet\n",
            "Got JSONDecodeError, skippingGot JSONDecodeError, skipping\n",
            "Error fetching the article: Hardanger Musikkfest\n",
            "\n",
            "Error fetching the article: Rondslottet\n"
          ]
        },
        {
          "metadata": {
            "tags": null
          },
          "name": "stderr",
          "output_type": "stream",
          "text": [
            "\r  7%|▋         | 1463/20182 [11:34<2:27:16,  2.12it/s]"
          ]
        },
        {
          "metadata": {
            "tags": null
          },
          "name": "stdout",
          "output_type": "stream",
          "text": [
            "Got JSONDecodeError, skipping\n",
            "Error fetching the article: Zeeland\n",
            "Got JSONDecodeError, skipping\n",
            "Error fetching the article: Jubilee River\n",
            "Got JSONDecodeError, skipping\n",
            "Error fetching the article: Skogshorn\n"
          ]
        },
        {
          "metadata": {
            "tags": null
          },
          "name": "stderr",
          "output_type": "stream",
          "text": [
            "\r  7%|▋         | 1464/20182 [11:34<2:24:41,  2.16it/s]"
          ]
        },
        {
          "metadata": {
            "tags": null
          },
          "name": "stdout",
          "output_type": "stream",
          "text": [
            "Got JSONDecodeError, skipping\n",
            "Error fetching the article: Makgatho Mandela\n",
            "Got JSONDecodeError, skipping\n",
            "Error fetching the article: Ivar Medaas\n"
          ]
        },
        {
          "metadata": {
            "tags": null
          },
          "name": "stderr",
          "output_type": "stream",
          "text": [
            "  7%|▋         | 1467/20182 [11:36<2:32:36,  2.04it/s]"
          ]
        },
        {
          "metadata": {
            "tags": null
          },
          "name": "stdout",
          "output_type": "stream",
          "text": [
            "Got JSONDecodeError, skipping\n",
            "Error fetching the article: Patrisier\n",
            "Got JSONDecodeError, skipping\n",
            "Error fetching the article: Blaby (distrikt)\n",
            "Got JSONDecodeError, skipping\n",
            "Error fetching the article: Blaby\n"
          ]
        },
        {
          "metadata": {
            "tags": null
          },
          "name": "stderr",
          "output_type": "stream",
          "text": [
            "  7%|▋         | 1486/20182 [11:46<2:32:36,  2.04it/s]"
          ]
        },
        {
          "metadata": {
            "tags": null
          },
          "name": "stdout",
          "output_type": "stream",
          "text": [
            "Got JSONDecodeError, skipping\n",
            "Error fetching the article: Orknøyene\n",
            "Got JSONDecodeError, skippingGot JSONDecodeError, skipping\n",
            "\n",
            "Error fetching the article: Maler\n",
            "Error fetching the article: Rikspolitiet\n",
            "Got JSONDecodeError, skipping\n",
            "Error fetching the article: Antibiotika\n"
          ]
        },
        {
          "metadata": {
            "tags": null
          },
          "name": "stderr",
          "output_type": "stream",
          "text": [
            "\r  7%|▋         | 1487/20182 [11:47<2:26:26,  2.13it/s]"
          ]
        },
        {
          "metadata": {
            "tags": null
          },
          "name": "stdout",
          "output_type": "stream",
          "text": [
            "Got JSONDecodeError, skipping\n",
            "Error fetching the article: South Lanarkshire\n",
            "Got JSONDecodeError, skipping\n",
            "Error fetching the article: Isskrue\n",
            "Got JSONDecodeError, skipping\n",
            "Error fetching the article: Bakkefall\n",
            "Got JSONDecodeError, skipping\n",
            "Error fetching the article: Buldring\n"
          ]
        },
        {
          "metadata": {
            "tags": null
          },
          "name": "stderr",
          "output_type": "stream",
          "text": [
            "  7%|▋         | 1489/20182 [11:48<2:27:40,  2.11it/s]"
          ]
        },
        {
          "metadata": {
            "tags": null
          },
          "name": "stdout",
          "output_type": "stream",
          "text": [
            "Got JSONDecodeError, skippingGot JSONDecodeError, skipping\n",
            "Error fetching the article: Renfrewshire\n",
            "Got JSONDecodeError, skipping\n",
            "Error fetching the article: Alviske språk\n",
            "\n",
            "Error fetching the article: Juha Mieto\n",
            "Got JSONDecodeError, skipping\n",
            "Error fetching the article: Herbjørg Wassmo\n",
            "Got JSONDecodeError, skipping\n",
            "Error fetching the article: West Dunbartonshire\n"
          ]
        },
        {
          "metadata": {
            "tags": null
          },
          "name": "stderr",
          "output_type": "stream",
          "text": [
            "  7%|▋         | 1491/20182 [11:49<2:24:57,  2.15it/s]"
          ]
        },
        {
          "metadata": {
            "tags": null
          },
          "name": "stdout",
          "output_type": "stream",
          "text": [
            "Got JSONDecodeError, skipping\n",
            "Error fetching the article: Hud\n",
            "Got JSONDecodeError, skippingGot JSONDecodeError, skipping\n",
            "\n",
            "Error fetching the article: East Dunbartonshire\n",
            "Error fetching the article: Clackmannanshire\n",
            "Got JSONDecodeError, skipping\n",
            "Error fetching the article: Arne Anker-Jensen\n",
            "Got JSONDecodeError, skipping\n",
            "Error fetching the article: Air Florida\n",
            "Got JSONDecodeError, skipping\n",
            "Error fetching the article: Borettslaget\n"
          ]
        },
        {
          "metadata": {
            "tags": null
          },
          "name": "stderr",
          "output_type": "stream",
          "text": [
            "  7%|▋         | 1493/20182 [11:50<2:32:07,  2.05it/s]"
          ]
        },
        {
          "metadata": {
            "tags": null
          },
          "name": "stdout",
          "output_type": "stream",
          "text": [
            "Got JSONDecodeError, skipping\n",
            "Error fetching the article: Sigurd Rushfeldt\n",
            "Got JSONDecodeError, skipping\n",
            "Error fetching the article: Mykologi\n",
            "Got JSONDecodeError, skipping\n",
            "Error fetching the article: Rumpeldunk gjennom tidene\n",
            "Got JSONDecodeError, skipping\n",
            "Error fetching the article: UEFA\n"
          ]
        },
        {
          "metadata": {
            "tags": null
          },
          "name": "stderr",
          "output_type": "stream",
          "text": [
            "\r  7%|▋         | 1494/20182 [11:50<2:30:39,  2.07it/s]"
          ]
        },
        {
          "metadata": {
            "tags": null
          },
          "name": "stdout",
          "output_type": "stream",
          "text": [
            "Got JSONDecodeError, skipping\n",
            "Error fetching the article: Inverclyde\n"
          ]
        },
        {
          "metadata": {
            "tags": null
          },
          "name": "stderr",
          "output_type": "stream",
          "text": [
            "  7%|▋         | 1497/20182 [11:52<2:34:33,  2.01it/s]"
          ]
        },
        {
          "metadata": {
            "tags": null
          },
          "name": "stdout",
          "output_type": "stream",
          "text": [
            "Got JSONDecodeError, skipping\n",
            "Error fetching the article: Marseillaisen\n",
            "Got JSONDecodeError, skippingGot JSONDecodeError, skipping\n",
            "Error fetching the article: Mike Rounds\n",
            "\n",
            "Error fetching the article: RamonesGot JSONDecodeError, skipping\n",
            "Error fetching the article: Cuiabá"
          ]
        },
        {
          "metadata": {
            "tags": null
          },
          "name": "stderr",
          "output_type": "stream",
          "text": [
            "\r  7%|▋         | 1498/20182 [11:52<2:34:10,  2.02it/s]"
          ]
        },
        {
          "metadata": {
            "tags": null
          },
          "name": "stdout",
          "output_type": "stream",
          "text": [
            "\n",
            "\n"
          ]
        },
        {
          "metadata": {
            "tags": null
          },
          "name": "stderr",
          "output_type": "stream",
          "text": [
            "\r  7%|▋         | 1499/20182 [11:53<2:33:44,  2.03it/s]"
          ]
        },
        {
          "metadata": {
            "tags": null
          },
          "name": "stdout",
          "output_type": "stream",
          "text": [
            "Got JSONDecodeError, skipping\n",
            "Error fetching the article: 3G\n",
            "Got JSONDecodeError, skipping\n",
            "Error fetching the article: Irlands grevskap\n"
          ]
        },
        {
          "metadata": {
            "tags": null
          },
          "name": "stderr",
          "output_type": "stream",
          "text": [
            "  7%|▋         | 1504/20182 [11:55<2:36:25,  1.99it/s]"
          ]
        },
        {
          "metadata": {
            "tags": null
          },
          "name": "stdout",
          "output_type": "stream",
          "text": [
            "Got JSONDecodeError, skipping\n",
            "Error fetching the article: Det britiske territoriet i Indiahavet\n",
            "Got JSONDecodeError, skipping\n",
            "Error fetching the article: Tyrone (grevskap)\n",
            "Got JSONDecodeError, skipping\n",
            "Error fetching the article: Fermanagh (grevskap)\n",
            "Got JSONDecodeError, skipping\n",
            "Error fetching the article: Martin Waldseemüller\n"
          ]
        },
        {
          "metadata": {
            "tags": null
          },
          "name": "stderr",
          "output_type": "stream",
          "text": [
            "\r  7%|▋         | 1505/20182 [11:56<2:34:02,  2.02it/s]"
          ]
        },
        {
          "metadata": {
            "tags": null
          },
          "name": "stdout",
          "output_type": "stream",
          "text": [
            "Got JSONDecodeError, skipping\n",
            "Error fetching the article: Donegal (grevskap)\n",
            "Got JSONDecodeError, skipping\n",
            "Got JSONDecodeError, skipping\n",
            "Error fetching the article: Cavan (grevskap)\n",
            "Error fetching the article: Distrikt (Nord-Irland)\n"
          ]
        },
        {
          "metadata": {
            "tags": null
          },
          "name": "stderr",
          "output_type": "stream",
          "text": [
            "\r  7%|▋         | 1506/20182 [11:56<2:27:10,  2.11it/s]"
          ]
        },
        {
          "metadata": {
            "tags": null
          },
          "name": "stdout",
          "output_type": "stream",
          "text": [
            "Got JSONDecodeError, skipping\n",
            "Error fetching the article: Sanksjon\n",
            "Got JSONDecodeError, skipping\n",
            "Error fetching the article: Statsrett\n"
          ]
        },
        {
          "metadata": {
            "tags": null
          },
          "name": "stderr",
          "output_type": "stream",
          "text": [
            "  7%|▋         | 1508/20182 [11:57<2:25:40,  2.14it/s]"
          ]
        },
        {
          "metadata": {
            "tags": null
          },
          "name": "stdout",
          "output_type": "stream",
          "text": [
            "Got JSONDecodeError, skipping\n",
            "Error fetching the article: Galleblære\n",
            "Got JSONDecodeError, skipping\n",
            "Got JSONDecodeError, skippingError fetching the article: Homo floresiensis\n",
            "\n",
            "Error fetching the article: Tabasco (varemerke)\n",
            "Got JSONDecodeError, skipping\n",
            "Error fetching the article: Hundefamilien\n",
            "Got JSONDecodeError, skipping\n",
            "Error fetching the article: Binyre\n",
            "Got JSONDecodeError, skipping\n",
            "Error fetching the article: Kerry (grevskap)\n"
          ]
        },
        {
          "metadata": {
            "tags": null
          },
          "name": "stderr",
          "output_type": "stream",
          "text": [
            "\r  7%|▋         | 1509/20182 [11:58<2:26:41,  2.12it/s]"
          ]
        },
        {
          "metadata": {
            "tags": null
          },
          "name": "stdout",
          "output_type": "stream",
          "text": [
            "Got JSONDecodeError, skipping\n",
            "Error fetching the article: Meath (grevskap)\n",
            "Got JSONDecodeError, skipping\n",
            "Error fetching the article: Luftwaffe\n",
            "Got JSONDecodeError, skipping\n",
            "Error fetching the article: Royal Canadian Mounted Police\n",
            "Got JSONDecodeError, skipping\n",
            "Error fetching the article: Ving\n"
          ]
        },
        {
          "metadata": {
            "tags": null
          },
          "name": "stderr",
          "output_type": "stream",
          "text": [
            "  7%|▋         | 1511/20182 [11:59<2:33:30,  2.03it/s]"
          ]
        },
        {
          "metadata": {
            "tags": null
          },
          "name": "stdout",
          "output_type": "stream",
          "text": [
            "Got JSONDecodeError, skipping\n",
            "Error fetching the article: Dypvåg\n",
            "Got JSONDecodeError, skipping\n",
            "Got JSONDecodeError, skipping\n",
            "Error fetching the article: Campo GrandeError fetching the article: Fjodor III av Russland\n",
            "\n"
          ]
        },
        {
          "metadata": {
            "tags": null
          },
          "name": "stderr",
          "output_type": "stream",
          "text": [
            "\r  7%|▋         | 1512/20182 [11:59<2:28:03,  2.10it/s]"
          ]
        },
        {
          "metadata": {
            "tags": null
          },
          "name": "stdout",
          "output_type": "stream",
          "text": [
            "Got JSONDecodeError, skipping\n",
            "Error fetching the article: Wicklow (grevskap)\n",
            "Got JSONDecodeError, skipping\n",
            "Error fetching the article: Teresina\n",
            "Got JSONDecodeError, skipping\n",
            "Error fetching the article: Flyvåpen\n",
            "Got JSONDecodeError, skipping\n",
            "Error fetching the article: Kildare\n",
            "Got JSONDecodeError, skipping\n",
            "Error fetching the article: Leixlip\n",
            "Got JSONDecodeError, skipping\n",
            "Error fetching the article: Longford\n"
          ]
        },
        {
          "metadata": {
            "tags": null
          },
          "name": "stderr",
          "output_type": "stream",
          "text": [
            "\r  7%|▋         | 1513/20182 [12:00<2:24:29,  2.15it/s]"
          ]
        },
        {
          "metadata": {
            "tags": null
          },
          "name": "stdout",
          "output_type": "stream",
          "text": [
            "Got JSONDecodeError, skipping\n",
            "Error fetching the article: N5 (Irland)\n",
            "Got JSONDecodeError, skipping\n",
            "Got JSONDecodeError, skipping\n",
            "Error fetching the article: Roar Ljøkelsøy\n",
            "Error fetching the article: Trond Sollied\n"
          ]
        },
        {
          "metadata": {
            "tags": null
          },
          "name": "stderr",
          "output_type": "stream",
          "text": [
            "\r  8%|▊         | 1514/20182 [12:00<2:22:33,  2.18it/s]"
          ]
        },
        {
          "metadata": {
            "tags": null
          },
          "name": "stdout",
          "output_type": "stream",
          "text": [
            "Got JSONDecodeError, skipping\n",
            "Error fetching the article: Eystein Fjærli\n",
            "Got JSONDecodeError, skipping"
          ]
        },
        {
          "metadata": {
            "tags": null
          },
          "name": "stderr",
          "output_type": "stream",
          "text": [
            "\r  8%|▊         | 1515/20182 [12:00<2:22:20,  2.19it/s]"
          ]
        },
        {
          "metadata": {
            "tags": null
          },
          "name": "stdout",
          "output_type": "stream",
          "text": [
            "\n",
            "Error fetching the article: Egil Hjorth-Jenssen\n",
            "Got JSONDecodeError, skippingGot JSONDecodeError, skipping\n",
            "Error fetching the article: Konsesjon\n",
            "Got JSONDecodeError, skipping\n",
            "Error fetching the article: Ministerium\n",
            "\n",
            "Error fetching the article: Bevilgning\n",
            "Got JSONDecodeError, skipping\n",
            "Error fetching the article: Fengsel\n"
          ]
        },
        {
          "metadata": {
            "tags": null
          },
          "name": "stderr",
          "output_type": "stream",
          "text": [
            "\r  8%|▊         | 1516/20182 [12:01<2:18:11,  2.25it/s]"
          ]
        },
        {
          "metadata": {
            "tags": null
          },
          "name": "stdout",
          "output_type": "stream",
          "text": [
            "Got JSONDecodeError, skipping\n",
            "Error fetching the article: Finansråd\n",
            "Got JSONDecodeError, skipping\n",
            "Error fetching the article: Støren\n",
            "Got JSONDecodeError, skipping\n",
            "Error fetching the article: Regjeringsråd\n",
            "Got JSONDecodeError, skipping\n",
            "Error fetching the article: Christian Schibsted\n"
          ]
        },
        {
          "metadata": {
            "tags": null
          },
          "name": "stderr",
          "output_type": "stream",
          "text": [
            "  8%|▊         | 1518/20182 [12:02<2:18:00,  2.25it/s]"
          ]
        },
        {
          "metadata": {
            "tags": null
          },
          "name": "stdout",
          "output_type": "stream",
          "text": [
            "Got JSONDecodeError, skipping\n",
            "Error fetching the article: Ciputat\n",
            "Got JSONDecodeError, skipping\n",
            "Error fetching the article: Cilegon\n",
            "Got JSONDecodeError, skipping\n",
            "Error fetching the article: Rangkasbitung\n",
            "Got JSONDecodeError, skipping\n",
            "Error fetching the article: Serang\n",
            "Got JSONDecodeError, skipping\n",
            "Error fetching the article: Tangerang\n",
            "Got JSONDecodeError, skipping\n",
            "Error fetching the article: Sepatan\n"
          ]
        },
        {
          "metadata": {
            "tags": null
          },
          "name": "stderr",
          "output_type": "stream",
          "text": [
            "  8%|▊         | 1520/20182 [12:03<2:19:00,  2.24it/s]"
          ]
        },
        {
          "metadata": {
            "tags": null
          },
          "name": "stdout",
          "output_type": "stream",
          "text": [
            "Got JSONDecodeError, skipping\n",
            "Error fetching the article: Cibitung\n",
            "Got JSONDecodeError, skipping\n",
            "Error fetching the article: Cicalengka\n",
            "Got JSONDecodeError, skipping\n",
            "Error fetching the article: Cibinong\n",
            "Got JSONDecodeError, skipping\n",
            "Error fetching the article: Banjaran\n",
            "Got JSONDecodeError, skipping\n",
            "Error fetching the article: Cirebon\n",
            "Got JSONDecodeError, skipping\n",
            "Error fetching the article: LembangGot JSONDecodeError, skipping\n",
            "Error fetching the article: Leuwiliang\n",
            "\n",
            "Got JSONDecodeError, skipping\n",
            "Error fetching the article: Majalaya\n"
          ]
        },
        {
          "metadata": {
            "tags": null
          },
          "name": "stderr",
          "output_type": "stream",
          "text": [
            "  8%|▊         | 1522/20182 [12:03<2:14:52,  2.31it/s]"
          ]
        },
        {
          "metadata": {
            "tags": null
          },
          "name": "stdout",
          "output_type": "stream",
          "text": [
            "Got JSONDecodeError, skipping\n",
            "Error fetching the article: Sumedang\n",
            "Got JSONDecodeError, skipping\n",
            "Error fetching the article: Parung\n",
            "Got JSONDecodeError, skipping\n",
            "Error fetching the article: Purwakarta\n",
            "Got JSONDecodeError, skipping\n",
            "Error fetching the article: Tambun\n",
            "Got JSONDecodeError, skipping\n",
            "Error fetching the article: Padang Sidempuan\n",
            "Got JSONDecodeError, skipping\n",
            "Error fetching the article: Hamparan Perak\n",
            "Got JSONDecodeError, skipping\n",
            "Error fetching the article: Binjai\n"
          ]
        },
        {
          "metadata": {
            "tags": null
          },
          "name": "stderr",
          "output_type": "stream",
          "text": [
            "\r  8%|▊         | 1523/20182 [12:04<2:21:11,  2.20it/s]"
          ]
        },
        {
          "metadata": {
            "tags": null
          },
          "name": "stdout",
          "output_type": "stream",
          "text": [
            "Got JSONDecodeError, skipping\n",
            "Error fetching the article: Charles Graner\n",
            "Got JSONDecodeError, skippingGot JSONDecodeError, skipping\n",
            "Got JSONDecodeError, skippingError fetching the article: Tanjung Morawa\n",
            "\n",
            "Error fetching the article: Tebingtinggi\n",
            "\n",
            "Error fetching the article: Cianjur\n"
          ]
        },
        {
          "metadata": {
            "tags": null
          },
          "name": "stderr",
          "output_type": "stream",
          "text": [
            "  8%|▊         | 1525/20182 [12:05<2:24:59,  2.14it/s]"
          ]
        },
        {
          "metadata": {
            "tags": null
          },
          "name": "stdout",
          "output_type": "stream",
          "text": [
            "Got JSONDecodeError, skipping\n",
            "Error fetching the article: Norges geologiske undersøkelse\n",
            "Got JSONDecodeError, skipping\n",
            "Error fetching the article: Lillestrøm (by)\n",
            "Got JSONDecodeError, skipping\n",
            "Error fetching the article: WYSIWYM\n",
            "Got JSONDecodeError, skipping\n",
            "Error fetching the article: Verdalsøra\n",
            "Got JSONDecodeError, skipping\n",
            "Error fetching the article: Fermanagh (distrikt)\n",
            "Got JSONDecodeError, skipping\n",
            "Error fetching the article: Jambi (by)\n"
          ]
        },
        {
          "metadata": {
            "tags": null
          },
          "name": "stderr",
          "output_type": "stream",
          "text": [
            "  8%|▊         | 1527/20182 [12:06<2:30:50,  2.06it/s]"
          ]
        },
        {
          "metadata": {
            "tags": null
          },
          "name": "stdout",
          "output_type": "stream",
          "text": [
            "Got JSONDecodeError, skippingGot JSONDecodeError, skipping\n",
            "\n",
            "Error fetching the article: Depok (Yogyakarta)\n",
            "Error fetching the article: Yogyakarta\n",
            "Got JSONDecodeError, skipping\n",
            "Error fetching the article: Metro (Sumatra)\n",
            "Got JSONDecodeError, skipping\n",
            "Error fetching the article: Pappabåt\n"
          ]
        },
        {
          "metadata": {
            "tags": null
          },
          "name": "stderr",
          "output_type": "stream",
          "text": [
            "\r  8%|▊         | 1528/20182 [12:06<2:25:10,  2.14it/s]"
          ]
        },
        {
          "metadata": {
            "tags": null
          },
          "name": "stdout",
          "output_type": "stream",
          "text": [
            "Got JSONDecodeError, skipping\n",
            "Error fetching the article: Cilacap\n",
            "Got JSONDecodeError, skipping\n",
            "Error fetching the article: Kebumen\n",
            "Got JSONDecodeError, skipping\n",
            "Error fetching the article: Klaten\n"
          ]
        },
        {
          "metadata": {
            "tags": null
          },
          "name": "stderr",
          "output_type": "stream",
          "text": [
            "\r  8%|▊         | 1529/20182 [12:07<2:20:57,  2.21it/s]"
          ]
        },
        {
          "metadata": {
            "tags": null
          },
          "name": "stdout",
          "output_type": "stream",
          "text": [
            "Got JSONDecodeError, skippingGot JSONDecodeError, skipping\n",
            "Error fetching the article: Semarang\n",
            "\n",
            "Error fetching the article: Salatiga\n",
            "Got JSONDecodeError, skipping\n",
            "Error fetching the article: Purworejo\n"
          ]
        },
        {
          "metadata": {
            "tags": null
          },
          "name": "stderr",
          "output_type": "stream",
          "text": [
            "\r  8%|▊         | 1530/20182 [12:07<2:18:09,  2.25it/s]"
          ]
        },
        {
          "metadata": {
            "tags": null
          },
          "name": "stdout",
          "output_type": "stream",
          "text": [
            "Got JSONDecodeError, skipping\n",
            "Error fetching the article: Jombang\n",
            "Got JSONDecodeError, skipping\n",
            "Error fetching the article: Kediri\n"
          ]
        },
        {
          "metadata": {
            "tags": null
          },
          "name": "stderr",
          "output_type": "stream",
          "text": [
            "\r  8%|▊         | 1531/20182 [12:08<2:16:34,  2.28it/s]"
          ]
        },
        {
          "metadata": {
            "tags": null
          },
          "name": "stdout",
          "output_type": "stream",
          "text": [
            "Got JSONDecodeError, skipping\n",
            "Error fetching the article: Sidoarjo\n",
            "Got JSONDecodeError, skipping\n",
            "Error fetching the article: Surabaya\n",
            "Got JSONDecodeError, skipping\n",
            "Error fetching the article: Taman\n"
          ]
        },
        {
          "metadata": {
            "tags": null
          },
          "name": "stderr",
          "output_type": "stream",
          "text": [
            "\r  8%|▊         | 1532/20182 [12:08<2:14:50,  2.31it/s]"
          ]
        },
        {
          "metadata": {
            "tags": null
          },
          "name": "stdout",
          "output_type": "stream",
          "text": [
            "Got JSONDecodeError, skipping\n",
            "Error fetching the article: Ternate (Indonesia)\n",
            "Got JSONDecodeError, skipping\n",
            "Error fetching the article: Ambon (by)\n",
            "Got JSONDecodeError, skipping\n",
            "Error fetching the article: Jaya Pura\n"
          ]
        },
        {
          "metadata": {
            "tags": null
          },
          "name": "stderr",
          "output_type": "stream",
          "text": [
            "  8%|▊         | 1534/20182 [12:09<2:17:25,  2.26it/s]"
          ]
        },
        {
          "metadata": {
            "tags": null
          },
          "name": "stdout",
          "output_type": "stream",
          "text": [
            "Got JSONDecodeError, skipping\n",
            "Error fetching the article: Vorderösterreich\n",
            "Got JSONDecodeError, skipping\n",
            "Error fetching the article: Freden i Pressburg\n",
            "Got JSONDecodeError, skipping\n",
            "Error fetching the article: Banjarmasin\n",
            "Got JSONDecodeError, skipping\n",
            "Error fetching the article: Palu\n",
            "Got JSONDecodeError, skipping\n",
            "Error fetching the article: Tanete\n",
            "Got JSONDecodeError, skipping\n",
            "Error fetching the article: Pare Pare\n",
            "Got JSONDecodeError, skipping\n",
            "Error fetching the article: Makassar\n"
          ]
        },
        {
          "metadata": {
            "tags": null
          },
          "name": "stderr",
          "output_type": "stream",
          "text": [
            "\r  8%|▊         | 1535/20182 [12:09<2:15:48,  2.29it/s]"
          ]
        },
        {
          "metadata": {
            "tags": null
          },
          "name": "stdout",
          "output_type": "stream",
          "text": [
            "Got JSONDecodeError, skipping\n",
            "Error fetching the article: Langebrød\n",
            "Got JSONDecodeError, skipping\n",
            "Error fetching the article: Aston Villa FC\n",
            "Got JSONDecodeError, skipping\n",
            "Error fetching the article: Mads Wiel Nygaards legat\n",
            "Got JSONDecodeError, skipping\n",
            "Error fetching the article: Skillingsbolle\n"
          ]
        },
        {
          "metadata": {
            "tags": null
          },
          "name": "stderr",
          "output_type": "stream",
          "text": [
            "  8%|▊         | 1537/20182 [12:10<2:16:58,  2.27it/s]"
          ]
        },
        {
          "metadata": {
            "tags": null
          },
          "name": "stdout",
          "output_type": "stream",
          "text": [
            "Got JSONDecodeError, skippingGot JSONDecodeError, skipping\n",
            "Error fetching the article: Alberto Tomba\n",
            "\n",
            "Error fetching the article: HyperlenkeGot JSONDecodeError, skipping\n",
            "Error fetching the article: Bevisst drømming\n",
            "\n",
            "Got JSONDecodeError, skipping\n",
            "Error fetching the article: Forsvarets medalje for sårede i strid\n",
            "Got JSONDecodeError, skipping\n",
            "Error fetching the article: Ballymena (distrikt)\n",
            "Got JSONDecodeError, skipping\n",
            "Error fetching the article: Norske Fjellhus\n"
          ]
        },
        {
          "metadata": {
            "tags": null
          },
          "name": "stderr",
          "output_type": "stream",
          "text": [
            "\r  8%|▊         | 1538/20182 [12:11<2:17:38,  2.26it/s]"
          ]
        },
        {
          "metadata": {
            "tags": null
          },
          "name": "stdout",
          "output_type": "stream",
          "text": [
            "Got JSONDecodeError, skipping\n",
            "Error fetching the article: Rødvin\n",
            "Got JSONDecodeError, skipping\n",
            "Error fetching the article: Donaghadee\n",
            "Got JSONDecodeError, skipping\n",
            "Error fetching the article: Jens-Halvard Bratz\n",
            "Got JSONDecodeError, skipping\n",
            "Error fetching the article: Copelandøyene\n"
          ]
        },
        {
          "metadata": {
            "tags": null
          },
          "name": "stderr",
          "output_type": "stream",
          "text": [
            "  8%|▊         | 1542/20182 [12:13<2:24:08,  2.16it/s]"
          ]
        },
        {
          "metadata": {
            "tags": null
          },
          "name": "stdout",
          "output_type": "stream",
          "text": [
            "Got JSONDecodeError, skipping\n",
            "Error fetching the article: Max von Sydow\n",
            "Got JSONDecodeError, skipping\n",
            "Error fetching the article: Hertugdømmet Cornwall\n",
            "Got JSONDecodeError, skipping\n",
            "Error fetching the article: Guinness rekordbok\n",
            "Got JSONDecodeError, skipping\n",
            "Error fetching the article: Chris Evert\n",
            "Got JSONDecodeError, skipping\n",
            "Error fetching the article: Gendarmeri\n",
            "Got JSONDecodeError, skipping\n",
            "Error fetching the article: Krav maga\n"
          ]
        },
        {
          "metadata": {
            "tags": null
          },
          "name": "stderr",
          "output_type": "stream",
          "text": [
            "\r  8%|▊         | 1543/20182 [12:13<2:23:26,  2.17it/s]"
          ]
        },
        {
          "metadata": {
            "tags": null
          },
          "name": "stdout",
          "output_type": "stream",
          "text": [
            "Got JSONDecodeError, skipping\n",
            "Error fetching the article: Ingolf Elster Christensen\n",
            "Got JSONDecodeError, skipping\n",
            "Error fetching the article: Amtmann\n",
            "Got JSONDecodeError, skipping\n",
            "Error fetching the article: Michael Tetzschner\n"
          ]
        },
        {
          "metadata": {
            "tags": null
          },
          "name": "stderr",
          "output_type": "stream",
          "text": [
            "\r  8%|▊         | 1544/20182 [12:14<2:20:25,  2.21it/s]"
          ]
        },
        {
          "metadata": {
            "tags": null
          },
          "name": "stdout",
          "output_type": "stream",
          "text": [
            "Got JSONDecodeError, skipping\n",
            "Error fetching the article: Lahinch\n",
            "Got JSONDecodeError, skipping\n",
            "Error fetching the article: Tromsø Internasjonale Filmfestival\n"
          ]
        },
        {
          "metadata": {
            "tags": null
          },
          "name": "stderr",
          "output_type": "stream",
          "text": [
            "  8%|▊         | 1557/20182 [12:21<2:26:28,  2.12it/s]"
          ]
        },
        {
          "metadata": {
            "tags": null
          },
          "name": "stdout",
          "output_type": "stream",
          "text": [
            "Got JSONDecodeError, skipping\n",
            "Error fetching the article: Beringstredet\n",
            "Got JSONDecodeError, skipping\n",
            "Error fetching the article: Vilnius landkommune\n"
          ]
        },
        {
          "metadata": {
            "tags": null
          },
          "name": "stderr",
          "output_type": "stream",
          "text": [
            "  8%|▊         | 1566/20182 [12:25<2:22:55,  2.17it/s]"
          ]
        },
        {
          "metadata": {
            "tags": null
          },
          "name": "stdout",
          "output_type": "stream",
          "text": [
            "Got JSONDecodeError, skipping\n",
            "Error fetching the article: Coleraine (grevskap)\n",
            "Got JSONDecodeError, skipping\n",
            "Error fetching the article: Coleraine\n",
            "Got JSONDecodeError, skipping\n",
            "Error fetching the article: Menneskebasert innhenting\n",
            "Got JSONDecodeError, skipping\n",
            "Error fetching the article: Canario\n",
            "Got JSONDecodeError, skipping\n",
            "Error fetching the article: VM i fotball 1990\n",
            "Got JSONDecodeError, skipping\n",
            "Error fetching the article: Limavady\n",
            "Got JSONDecodeError, skipping\n",
            "Error fetching the article: Dungiven\n"
          ]
        },
        {
          "metadata": {
            "tags": null
          },
          "name": "stderr",
          "output_type": "stream",
          "text": [
            "  8%|▊         | 1568/20182 [12:26<2:29:10,  2.08it/s]"
          ]
        },
        {
          "metadata": {
            "tags": null
          },
          "name": "stdout",
          "output_type": "stream",
          "text": [
            "Got JSONDecodeError, skipping\n",
            "Error fetching the article: Chamonix\n",
            "Got JSONDecodeError, skipping\n",
            "Error fetching the article: Caracas\n",
            "Got JSONDecodeError, skipping\n",
            "Error fetching the article: Afghansk mynde\n"
          ]
        },
        {
          "metadata": {
            "tags": null
          },
          "name": "stderr",
          "output_type": "stream",
          "text": [
            "\r  8%|▊         | 1569/20182 [12:27<2:25:07,  2.14it/s]"
          ]
        },
        {
          "metadata": {
            "tags": null
          },
          "name": "stdout",
          "output_type": "stream",
          "text": [
            "Got JSONDecodeError, skipping\n",
            "Error fetching the article: VM i fotball 1986\n",
            "Got JSONDecodeError, skipping\n",
            "Error fetching the article: Hydro Extruded SolutionsGot JSONDecodeError, skipping\n",
            "Error fetching the article: Armagh\n",
            "\n",
            "Got JSONDecodeError, skipping\n",
            "Error fetching the article: Mastergrad\n"
          ]
        },
        {
          "metadata": {
            "tags": null
          },
          "name": "stderr",
          "output_type": "stream",
          "text": [
            "\r  8%|▊         | 1570/20182 [12:27<2:20:58,  2.20it/s]"
          ]
        },
        {
          "metadata": {
            "tags": null
          },
          "name": "stdout",
          "output_type": "stream",
          "text": [
            "Got JSONDecodeError, skipping\n",
            "Error fetching the article: Underart\n",
            "Got JSONDecodeError, skipping\n",
            "Error fetching the article: Liste over Brasils presidenter\n",
            "Got JSONDecodeError, skipping\n",
            "Error fetching the article: Bjarne Håkon Hanssen\n"
          ]
        },
        {
          "metadata": {
            "tags": null
          },
          "name": "stderr",
          "output_type": "stream",
          "text": [
            "\r  8%|▊         | 1571/20182 [12:28<2:18:29,  2.24it/s]"
          ]
        },
        {
          "metadata": {
            "tags": null
          },
          "name": "stdout",
          "output_type": "stream",
          "text": [
            "Got JSONDecodeError, skippingGot JSONDecodeError, skipping\n",
            "Error fetching the article: Sørumsand\n",
            "\n",
            "Error fetching the article: Golden Raspberry Awards\n",
            "Got JSONDecodeError, skipping\n",
            "Error fetching the article: Rosmarin\n"
          ]
        },
        {
          "metadata": {
            "tags": null
          },
          "name": "stderr",
          "output_type": "stream",
          "text": [
            "  8%|▊         | 1582/20182 [12:34<2:33:38,  2.02it/s]"
          ]
        },
        {
          "metadata": {
            "tags": null
          },
          "name": "stdout",
          "output_type": "stream",
          "text": [
            "Got JSONDecodeError, skipping\n",
            "Got JSONDecodeError, skipping\n",
            "Error fetching the article: VM i fotball 1954\n",
            "Error fetching the article: Krydderurt\n",
            "Got JSONDecodeError, skipping\n",
            "Error fetching the article: Psykoanalyse\n",
            "Got KeyError, skipping\n",
            "Error fetching the article: Pm³\n"
          ]
        },
        {
          "metadata": {
            "tags": null
          },
          "name": "stderr",
          "output_type": "stream",
          "text": [
            "\r  8%|▊         | 1583/20182 [12:34<2:29:04,  2.08it/s]"
          ]
        },
        {
          "metadata": {
            "tags": null
          },
          "name": "stdout",
          "output_type": "stream",
          "text": [
            "Got KeyError, skipping\n",
            "Error fetching the article: DB\n",
            "Got JSONDecodeError, skipping\n",
            "Error fetching the article: Djengis Khan\n",
            "Got JSONDecodeError, skipping\n",
            "Error fetching the article: Clwyd\n"
          ]
        },
        {
          "metadata": {
            "tags": null
          },
          "name": "stderr",
          "output_type": "stream",
          "text": [
            "\r  8%|▊         | 1584/20182 [12:35<2:25:47,  2.13it/s]"
          ]
        },
        {
          "metadata": {
            "tags": null
          },
          "name": "stdout",
          "output_type": "stream",
          "text": [
            "Got JSONDecodeError, skipping\n",
            "Error fetching the article: GM\n",
            "Got JSONDecodeError, skipping\n",
            "Error fetching the article: Per Haukeli\n",
            "Got KeyError, skipping\n",
            "Error fetching the article: TM\n"
          ]
        },
        {
          "metadata": {
            "tags": null
          },
          "name": "stderr",
          "output_type": "stream",
          "text": [
            "  8%|▊         | 1586/20182 [12:35<2:24:37,  2.14it/s]"
          ]
        },
        {
          "metadata": {
            "tags": null
          },
          "name": "stdout",
          "output_type": "stream",
          "text": [
            "Got JSONDecodeError, skippingGot JSONDecodeError, skipping\n",
            "Error fetching the article: Pattani\n",
            "Got JSONDecodeError, skipping\n",
            "Error fetching the article: Thailandbukta\n",
            "Got JSONDecodeError, skipping\n",
            "Error fetching the article: Kanchanaburi\n",
            "\n",
            "Error fetching the article: Sungai Kolok\n",
            "Got JSONDecodeError, skipping\n",
            "Error fetching the article: Chumphon\n",
            "Got KeyError, skipping\n",
            "Error fetching the article: PM\n"
          ]
        },
        {
          "metadata": {
            "tags": null
          },
          "name": "stderr",
          "output_type": "stream",
          "text": [
            "\r  8%|▊         | 1587/20182 [12:36<2:21:30,  2.19it/s]"
          ]
        },
        {
          "metadata": {
            "tags": null
          },
          "name": "stdout",
          "output_type": "stream",
          "text": [
            "Got JSONDecodeError, skipping\n",
            "Error fetching the article: Ayutthaya\n",
            "Got JSONDecodeError, skipping\n",
            "Error fetching the article: Mukdahan\n",
            "Got JSONDecodeError, skipping\n",
            "Error fetching the article: Ang Thong\n"
          ]
        },
        {
          "metadata": {
            "tags": null
          },
          "name": "stderr",
          "output_type": "stream",
          "text": [
            "\r  8%|▊         | 1588/20182 [12:36<2:18:10,  2.24it/s]"
          ]
        },
        {
          "metadata": {
            "tags": null
          },
          "name": "stdout",
          "output_type": "stream",
          "text": [
            "Got JSONDecodeError, skipping\n",
            "Error fetching the article: S-båndet\n",
            "Got JSONDecodeError, skipping\n",
            "Error fetching the article: Nm\n",
            "Got KeyError, skipping\n",
            "Error fetching the article: HM\n"
          ]
        },
        {
          "metadata": {
            "tags": null
          },
          "name": "stderr",
          "output_type": "stream",
          "text": [
            "\r  8%|▊         | 1589/20182 [12:37<2:17:11,  2.26it/s]"
          ]
        },
        {
          "metadata": {
            "tags": null
          },
          "name": "stdout",
          "output_type": "stream",
          "text": [
            "Got KeyError, skipping\n",
            "Error fetching the article: DM\n",
            "Got KeyError, skipping\n",
            "Error fetching the article: AM\n"
          ]
        },
        {
          "metadata": {
            "tags": null
          },
          "name": "stderr",
          "output_type": "stream",
          "text": [
            "  8%|▊         | 1591/20182 [12:38<2:24:54,  2.14it/s]"
          ]
        },
        {
          "metadata": {
            "tags": null
          },
          "name": "stdout",
          "output_type": "stream",
          "text": [
            "Got KeyError, skipping\n",
            "Got KeyError, skipping\n",
            "Error fetching the article: EL\n",
            "Error fetching the article: NL\n",
            "Got KeyError, skipping\n",
            "Error fetching the article: Hl\n"
          ]
        },
        {
          "metadata": {
            "tags": null
          },
          "name": "stderr",
          "output_type": "stream",
          "text": [
            "\r  8%|▊         | 1592/20182 [12:38<2:32:25,  2.03it/s]"
          ]
        },
        {
          "metadata": {
            "tags": null
          },
          "name": "stdout",
          "output_type": "stream",
          "text": [
            "Got JSONDecodeError, skipping\n",
            "Error fetching the article: Phichit\n"
          ]
        },
        {
          "metadata": {
            "tags": null
          },
          "name": "stderr",
          "output_type": "stream",
          "text": [
            "  8%|▊         | 1594/20182 [12:39<2:27:07,  2.11it/s]"
          ]
        },
        {
          "metadata": {
            "tags": null
          },
          "name": "stdout",
          "output_type": "stream",
          "text": [
            "Got JSONDecodeError, skipping\n",
            "Error fetching the article: Phrae\n",
            "Got JSONDecodeError, skippingGot JSONDecodeError, skipping\n",
            "\n",
            "Error fetching the article: Mae Hong Son\n",
            "Error fetching the article: Kamphaeng Phet\n",
            "Got JSONDecodeError, skipping\n",
            "Error fetching the article: Roi Et\n",
            "Got JSONDecodeError, skipping\n",
            "Error fetching the article: Chonburi\n",
            "Got JSONDecodeError, skipping\n",
            "Error fetching the article: Surin\n"
          ]
        },
        {
          "metadata": {
            "tags": null
          },
          "name": "stderr",
          "output_type": "stream",
          "text": [
            "  8%|▊         | 1596/20182 [12:40<2:21:53,  2.18it/s]"
          ]
        },
        {
          "metadata": {
            "tags": null
          },
          "name": "stdout",
          "output_type": "stream",
          "text": [
            "Got JSONDecodeError, skipping\n",
            "Got JSONDecodeError, skippingError fetching the article: Saraburi\n",
            "Error fetching the article: Phayao\n",
            "\n",
            "Got JSONDecodeError, skipping\n",
            "Error fetching the article: Sukhothai\n",
            "Got JSONDecodeError, skipping\n",
            "Error fetching the article: Nongbua Lamphu\n",
            "Got JSONDecodeError, skipping\n",
            "Error fetching the article: Amnat Charoen\n",
            "Got JSONDecodeError, skippingGot JSONDecodeError, skipping\n",
            "Error fetching the article: Yasothon\n",
            "\n",
            "Error fetching the article: Loei\n"
          ]
        },
        {
          "metadata": {
            "tags": null
          },
          "name": "stderr",
          "output_type": "stream",
          "text": [
            "  8%|▊         | 1598/20182 [12:41<2:19:23,  2.22it/s]"
          ]
        },
        {
          "metadata": {
            "tags": null
          },
          "name": "stdout",
          "output_type": "stream",
          "text": [
            "Got JSONDecodeError, skipping\n",
            "Error fetching the article: Lam Luk Ka\n",
            "Got JSONDecodeError, skipping\n",
            "Error fetching the article: Pak Chong\n",
            "Got JSONDecodeError, skipping\n",
            "Error fetching the article: Mae Chan\n",
            "Got JSONDecodeError, skipping\n",
            "Error fetching the article: Phetchabun\n"
          ]
        },
        {
          "metadata": {
            "tags": null
          },
          "name": "stderr",
          "output_type": "stream",
          "text": [
            "  8%|▊         | 1600/20182 [12:42<2:36:23,  1.98it/s]"
          ]
        },
        {
          "metadata": {
            "tags": null
          },
          "name": "stdout",
          "output_type": "stream",
          "text": [
            "Got JSONDecodeError, skipping\n",
            "Error fetching the article: Sperregrense\n"
          ]
        },
        {
          "metadata": {
            "tags": null
          },
          "name": "stderr",
          "output_type": "stream",
          "text": [
            "  8%|▊         | 1603/20182 [12:44<2:28:00,  2.09it/s]"
          ]
        },
        {
          "metadata": {
            "tags": null
          },
          "name": "stdout",
          "output_type": "stream",
          "text": [
            "Got JSONDecodeError, skipping\n",
            "Error fetching the article: Guildford (distrikt)\n",
            "Got JSONDecodeError, skippingGot JSONDecodeError, skipping\n",
            "Error fetching the article: Cubansk peso\n",
            "\n",
            "Error fetching the article: Tømmer\n",
            "Got JSONDecodeError, skippingGot JSONDecodeError, skipping\n",
            "\n",
            "Error fetching the article: Chachoengsao (provins)Error fetching the article: VM i fotball 1966\n",
            "\n"
          ]
        },
        {
          "metadata": {
            "tags": null
          },
          "name": "stderr",
          "output_type": "stream",
          "text": [
            "\r  8%|▊         | 1604/20182 [12:44<2:22:36,  2.17it/s]"
          ]
        },
        {
          "metadata": {
            "tags": null
          },
          "name": "stdout",
          "output_type": "stream",
          "text": [
            "Got JSONDecodeError, skipping\n",
            "Error fetching the article: Desigram\n",
            "Got JSONDecodeError, skippingGot JSONDecodeError, skipping\n",
            "\n",
            "Error fetching the article: AccraError fetching the article: Cape Coast\n",
            "\n"
          ]
        },
        {
          "metadata": {
            "tags": null
          },
          "name": "stderr",
          "output_type": "stream",
          "text": [
            "\r  8%|▊         | 1605/20182 [12:44<2:21:27,  2.19it/s]"
          ]
        },
        {
          "metadata": {
            "tags": null
          },
          "name": "stdout",
          "output_type": "stream",
          "text": [
            "Got JSONDecodeError, skippingGot JSONDecodeError, skipping\n",
            "Error fetching the article: Hektogram\n",
            "\n",
            "Error fetching the article: Wilhelmshaven\n",
            "Got KeyError, skipping\n",
            "Error fetching the article: HGGot KeyError, skipping\n",
            "Error fetching the article: NG\n",
            "\n"
          ]
        },
        {
          "metadata": {
            "tags": null
          },
          "name": "stderr",
          "output_type": "stream",
          "text": [
            "\r  8%|▊         | 1606/20182 [12:45<2:21:19,  2.19it/s]"
          ]
        },
        {
          "metadata": {
            "tags": null
          },
          "name": "stdout",
          "output_type": "stream",
          "text": [
            "Got JSONDecodeError, skipping\n",
            "Error fetching the article: Norsk lundehund\n",
            "Got JSONDecodeError, skippingGot JSONDecodeError, skipping\n",
            "Error fetching the article: Norsk buhund\n",
            "\n",
            "Error fetching the article: Khon Kaen (provins)\n"
          ]
        },
        {
          "metadata": {
            "tags": null
          },
          "name": "stderr",
          "output_type": "stream",
          "text": [
            "  8%|▊         | 1608/20182 [12:46<2:26:10,  2.12it/s]"
          ]
        },
        {
          "metadata": {
            "tags": null
          },
          "name": "stdout",
          "output_type": "stream",
          "text": [
            "Got JSONDecodeError, skipping\n",
            "Error fetching the article: Roi Et (provins)\n",
            "Got JSONDecodeError, skipping\n",
            "Error fetching the article: Romfarer\n",
            "Got JSONDecodeError, skipping\n",
            "Error fetching the article: Ankobra\n",
            "Got JSONDecodeError, skippingGot JSONDecodeError, skipping\n",
            "Error fetching the article: Kubikkzettameter\n",
            "\n",
            "Error fetching the article: Kubikkexameter\n"
          ]
        },
        {
          "metadata": {
            "tags": null
          },
          "name": "stderr",
          "output_type": "stream",
          "text": [
            "\r  8%|▊         | 1609/20182 [12:46<2:23:39,  2.15it/s]"
          ]
        },
        {
          "metadata": {
            "tags": null
          },
          "name": "stdout",
          "output_type": "stream",
          "text": [
            "Got JSONDecodeError, skipping\n",
            "Error fetching the article: Bolgatanga\n",
            "Got JSONDecodeError, skipping\n",
            "Error fetching the article: Kirgisisk mynde\n",
            "Got JSONDecodeError, skipping\n",
            "Error fetching the article: Torstein Knarresmed\n",
            "Got JSONDecodeError, skipping\n",
            "Error fetching the article: Slackware\n"
          ]
        },
        {
          "metadata": {
            "tags": null
          },
          "name": "stderr",
          "output_type": "stream",
          "text": [
            "\r  8%|▊         | 1610/20182 [12:47<2:24:27,  2.14it/s]"
          ]
        },
        {
          "metadata": {
            "tags": null
          },
          "name": "stdout",
          "output_type": "stream",
          "text": [
            "Got JSONDecodeError, skipping\n",
            "Error fetching the article: Maha Sarakham (provins)\n",
            "Got JSONDecodeError, skipping\n",
            "Error fetching the article: VM i fotball 1970\n",
            "Got JSONDecodeError, skipping\n",
            "Error fetching the article: Nakhon Nayok (provins)\n"
          ]
        },
        {
          "metadata": {
            "tags": null
          },
          "name": "stderr",
          "output_type": "stream",
          "text": [
            "\r  8%|▊         | 1611/20182 [12:47<2:26:22,  2.11it/s]"
          ]
        },
        {
          "metadata": {
            "tags": null
          },
          "name": "stdout",
          "output_type": "stream",
          "text": [
            "Got JSONDecodeError, skipping\n",
            "Error fetching the article: VM i fotball 2006\n",
            "Got JSONDecodeError, skipping\n",
            "Error fetching the article: VM i fotball 2002\n",
            "Got JSONDecodeError, skipping\n",
            "Error fetching the article: Dekaliter\n",
            "Got JSONDecodeError, skipping\n",
            "Error fetching the article: VM i fotball for kvinner 1991\n"
          ]
        },
        {
          "metadata": {
            "tags": null
          },
          "name": "stderr",
          "output_type": "stream",
          "text": [
            "  8%|▊         | 1618/20182 [12:51<2:27:29,  2.10it/s]"
          ]
        },
        {
          "metadata": {
            "tags": null
          },
          "name": "stdout",
          "output_type": "stream",
          "text": [
            "Got JSONDecodeError, skipping\n",
            "Error fetching the article: Joel og Ethan Coen\n",
            "Got JSONDecodeError, skipping\n",
            "Error fetching the article: Eivind Groven\n",
            "Got JSONDecodeError, skipping\n",
            "Error fetching the article: Mink\n",
            "Got JSONDecodeError, skipping\n",
            "Error fetching the article: Ilder\n"
          ]
        },
        {
          "metadata": {
            "tags": null
          },
          "name": "stderr",
          "output_type": "stream",
          "text": [
            "  8%|▊         | 1620/20182 [12:52<2:32:01,  2.03it/s]"
          ]
        },
        {
          "metadata": {
            "tags": null
          },
          "name": "stdout",
          "output_type": "stream",
          "text": [
            "Got JSONDecodeError, skipping\n",
            "Error fetching the article: World Wind\n",
            "Got JSONDecodeError, skipping\n",
            "Error fetching the article: Fylogenetikk\n",
            "Got JSONDecodeError, skipping\n",
            "Error fetching the article: Tribus\n"
          ]
        },
        {
          "metadata": {
            "tags": null
          },
          "name": "stderr",
          "output_type": "stream",
          "text": [
            "\r  8%|▊         | 1621/20182 [12:52<2:32:05,  2.03it/s]"
          ]
        },
        {
          "metadata": {
            "tags": null
          },
          "name": "stdout",
          "output_type": "stream",
          "text": [
            "Got JSONDecodeError, skipping\n",
            "Error fetching the article: Friulisk\n",
            "Got JSONDecodeError, skippingGot JSONDecodeError, skipping\n",
            "Error fetching the article: Retoromanske språk\n",
            "\n",
            "Error fetching the article: Koaksialkabel\n",
            "Got JSONDecodeError, skipping\n",
            "Error fetching the article: Johan Galtung\n",
            "Got JSONDecodeError, skipping\n",
            "Error fetching the article: Sindh (mynde)\n",
            "Got JSONDecodeError, skipping\n",
            "Error fetching the article: Whippet\n",
            "Got JSONDecodeError, skipping\n",
            "Error fetching the article: Enevald Flåten\n",
            "Got JSONDecodeError, skipping\n",
            "Error fetching the article: Skotsk hjortehund\n",
            "Got JSONDecodeError, skipping\n",
            "Error fetching the article: Vagharihund\n"
          ]
        },
        {
          "metadata": {
            "tags": null
          },
          "name": "stderr",
          "output_type": "stream",
          "text": [
            "  8%|▊         | 1662/20182 [13:28<5:25:55,  1.06s/it]"
          ]
        },
        {
          "metadata": {
            "tags": null
          },
          "name": "stdout",
          "output_type": "stream",
          "text": [
            "Got KeyError, skipping\n",
            "Error fetching the article: MB\n"
          ]
        },
        {
          "metadata": {
            "tags": null
          },
          "name": "stderr",
          "output_type": "stream",
          "text": [
            "  8%|▊         | 1698/20182 [13:59<3:44:40,  1.37it/s]"
          ]
        },
        {
          "metadata": {
            "tags": null
          },
          "name": "stdout",
          "output_type": "stream",
          "text": [
            "Got KeyError, skipping\n",
            "Error fetching the article: DX\n"
          ]
        },
        {
          "metadata": {
            "tags": null
          },
          "name": "stderr",
          "output_type": "stream",
          "text": [
            "  9%|▊         | 1725/20182 [14:20<3:42:23,  1.38it/s]"
          ]
        },
        {
          "metadata": {
            "tags": null
          },
          "name": "stdout",
          "output_type": "stream",
          "text": [
            "Got PageErrors, skipping\n",
            "Error fetching the article: St. James’s Park undergrunnsstasjon\n"
          ]
        },
        {
          "metadata": {
            "tags": null
          },
          "name": "stderr",
          "output_type": "stream",
          "text": [
            "  9%|▉         | 1879/20182 [16:33<4:11:34,  1.21it/s]"
          ]
        },
        {
          "metadata": {
            "tags": null
          },
          "name": "stdout",
          "output_type": "stream",
          "text": [
            "Got KeyError, skipping\n",
            "Error fetching the article: Mord (andre betydninger)\n"
          ]
        },
        {
          "metadata": {
            "tags": null
          },
          "name": "stderr",
          "output_type": "stream",
          "text": [
            "  9%|▉         | 1881/20182 [16:35<4:01:23,  1.26it/s]"
          ]
        },
        {
          "metadata": {
            "tags": null
          },
          "name": "stdout",
          "output_type": "stream",
          "text": [
            "Got PageErrors, skipping\n",
            "Error fetching the article: Håndball-EM 2002 for menn\n",
            "Got PageErrors, skipping\n",
            "Error fetching the article: Håndball-EM 2004 for menn\n",
            "Got PageErrors, skipping\n",
            "Error fetching the article: Håndball-EM 1998 for menn\n",
            "Got PageErrors, skipping\n",
            "Error fetching the article: Håndball-EM 1996 for menn\n"
          ]
        },
        {
          "metadata": {
            "tags": null
          },
          "name": "stderr",
          "output_type": "stream",
          "text": [
            "  9%|▉         | 1883/20182 [16:36<3:43:25,  1.36it/s]"
          ]
        },
        {
          "metadata": {
            "tags": null
          },
          "name": "stdout",
          "output_type": "stream",
          "text": [
            "Got PageErrors, skipping\n",
            "Error fetching the article: Håndball-EM 1998 for kvinner\n"
          ]
        },
        {
          "metadata": {
            "tags": null
          },
          "name": "stderr",
          "output_type": "stream",
          "text": [
            " 10%|█         | 2094/20182 [19:36<4:48:04,  1.05it/s]"
          ]
        },
        {
          "metadata": {
            "tags": null
          },
          "name": "stdout",
          "output_type": "stream",
          "text": [
            "Got PageErrors, skipping\n",
            "Error fetching the article: Diana, prinsesse av Wales\n"
          ]
        },
        {
          "metadata": {
            "tags": null
          },
          "name": "stderr",
          "output_type": "stream",
          "text": [
            " 10%|█         | 2112/20182 [19:56<4:43:16,  1.06it/s]"
          ]
        },
        {
          "metadata": {
            "tags": null
          },
          "name": "stdout",
          "output_type": "stream",
          "text": [
            "Got PageErrors, skipping\n",
            "Error fetching the article: NORAD (andre betydninger)\n"
          ]
        },
        {
          "metadata": {
            "tags": null
          },
          "name": "stderr",
          "output_type": "stream",
          "text": [
            " 11%|█         | 2181/20182 [20:56<4:41:12,  1.07it/s]"
          ]
        },
        {
          "metadata": {
            "tags": null
          },
          "name": "stdout",
          "output_type": "stream",
          "text": [
            "Got KeyError, skipping\n",
            "Error fetching the article: NN\n"
          ]
        },
        {
          "metadata": {
            "tags": null
          },
          "name": "stderr",
          "output_type": "stream",
          "text": [
            " 11%|█         | 2184/20182 [20:59<4:49:01,  1.04it/s]"
          ]
        },
        {
          "metadata": {
            "tags": null
          },
          "name": "stdout",
          "output_type": "stream",
          "text": [
            "Got PageErrors, skipping\n",
            "Error fetching the article: Sand (andre betydninger)\n"
          ]
        },
        {
          "metadata": {
            "tags": null
          },
          "name": "stderr",
          "output_type": "stream",
          "text": [
            " 11%|█         | 2237/20182 [21:48<3:21:18,  1.49it/s]"
          ]
        },
        {
          "metadata": {
            "tags": null
          },
          "name": "stdout",
          "output_type": "stream",
          "text": [
            "Got KeyError, skipping\n",
            "Error fetching the article: Jan Johansen (idrettsutøver)\n"
          ]
        },
        {
          "metadata": {
            "tags": null
          },
          "name": "stderr",
          "output_type": "stream",
          "text": [
            " 12%|█▏        | 2450/20182 [25:09<4:52:33,  1.01it/s]"
          ]
        },
        {
          "metadata": {
            "tags": null
          },
          "name": "stdout",
          "output_type": "stream",
          "text": [
            "Got PageErrors, skipping\n",
            "Error fetching the article: Artium (andre betydninger)\n"
          ]
        },
        {
          "metadata": {
            "tags": null
          },
          "name": "stderr",
          "output_type": "stream",
          "text": [
            " 13%|█▎        | 2550/20182 [26:34<3:33:47,  1.37it/s]"
          ]
        },
        {
          "metadata": {
            "tags": null
          },
          "name": "stdout",
          "output_type": "stream",
          "text": [
            "Got KeyError, skipping\n",
            "Error fetching the article: Chips\n"
          ]
        },
        {
          "metadata": {
            "tags": null
          },
          "name": "stderr",
          "output_type": "stream",
          "text": [
            " 13%|█▎        | 2601/20182 [27:20<4:23:22,  1.11it/s]"
          ]
        },
        {
          "metadata": {
            "tags": null
          },
          "name": "stdout",
          "output_type": "stream",
          "text": [
            "Got KeyError, skipping\n",
            "Error fetching the article: ND\n"
          ]
        },
        {
          "metadata": {
            "tags": null
          },
          "name": "stderr",
          "output_type": "stream",
          "text": [
            " 13%|█▎        | 2640/20182 [27:55<3:58:42,  1.22it/s]"
          ]
        },
        {
          "metadata": {
            "tags": null
          },
          "name": "stdout",
          "output_type": "stream",
          "text": [
            "Got KeyError, skipping\n",
            "Error fetching the article: UP\n"
          ]
        },
        {
          "metadata": {
            "tags": null
          },
          "name": "stderr",
          "output_type": "stream",
          "text": [
            " 13%|█▎        | 2719/20182 [29:09<4:36:31,  1.05it/s]"
          ]
        },
        {
          "metadata": {
            "tags": null
          },
          "name": "stdout",
          "output_type": "stream",
          "text": [
            "Got KeyError, skipping\n",
            "Error fetching the article: SD\n"
          ]
        },
        {
          "metadata": {
            "tags": null
          },
          "name": "stderr",
          "output_type": "stream",
          "text": [
            " 13%|█▎        | 2721/20182 [29:10<3:59:36,  1.21it/s]"
          ]
        },
        {
          "metadata": {
            "tags": null
          },
          "name": "stdout",
          "output_type": "stream",
          "text": [
            "Got KeyError, skipping\n",
            "Error fetching the article: MP\n"
          ]
        },
        {
          "metadata": {
            "tags": null
          },
          "name": "stderr",
          "output_type": "stream",
          "text": [
            " 14%|█▍        | 2838/20182 [31:04<3:26:56,  1.40it/s]"
          ]
        },
        {
          "metadata": {
            "tags": null
          },
          "name": "stdout",
          "output_type": "stream",
          "text": [
            "Got KeyError, skipping\n",
            "Error fetching the article: DJ (andre betydninger)\n"
          ]
        },
        {
          "metadata": {
            "tags": null
          },
          "name": "stderr",
          "output_type": "stream",
          "text": [
            " 14%|█▍        | 2859/20182 [31:25<4:01:27,  1.20it/s]"
          ]
        },
        {
          "metadata": {
            "tags": null
          },
          "name": "stdout",
          "output_type": "stream",
          "text": [
            "Got PageErrors, skipping\n",
            "Error fetching the article: Kano (andre betydninger)\n"
          ]
        },
        {
          "metadata": {
            "tags": null
          },
          "name": "stderr",
          "output_type": "stream",
          "text": [
            " 15%|█▍        | 2996/20182 [33:27<5:33:24,  1.16s/it]"
          ]
        },
        {
          "metadata": {
            "tags": null
          },
          "name": "stdout",
          "output_type": "stream",
          "text": [
            "Got KeyError, skipping\n",
            "Error fetching the article: TF\n"
          ]
        },
        {
          "metadata": {
            "tags": null
          },
          "name": "stderr",
          "output_type": "stream",
          "text": [
            " 15%|█▍        | 3024/20182 [33:50<3:17:17,  1.45it/s]"
          ]
        },
        {
          "metadata": {
            "tags": null
          },
          "name": "stdout",
          "output_type": "stream",
          "text": [
            "Got PageErrors, skipping\n",
            "Error fetching the article: Sankt Olav domkirke (Oslo)\n"
          ]
        },
        {
          "metadata": {
            "tags": null
          },
          "name": "stderr",
          "output_type": "stream",
          "text": [
            " 15%|█▌        | 3081/20182 [34:40<3:41:31,  1.29it/s]"
          ]
        },
        {
          "metadata": {
            "tags": null
          },
          "name": "stdout",
          "output_type": "stream",
          "text": [
            "Got KeyError, skipping\n",
            "Error fetching the article: .au\n",
            "Got KeyError, skipping\n",
            "Error fetching the article: .ao\n"
          ]
        },
        {
          "metadata": {
            "tags": null
          },
          "name": "stderr",
          "output_type": "stream",
          "text": [
            " 15%|█▌        | 3110/20182 [35:03<3:37:54,  1.31it/s]"
          ]
        },
        {
          "metadata": {
            "tags": null
          },
          "name": "stdout",
          "output_type": "stream",
          "text": [
            "Got KeyError, skipping\n",
            "Error fetching the article: BA (andre betydninger)\n"
          ]
        },
        {
          "metadata": {
            "tags": null
          },
          "name": "stderr",
          "output_type": "stream",
          "text": [
            " 16%|█▌        | 3171/20182 [35:53<3:43:54,  1.27it/s]"
          ]
        },
        {
          "metadata": {
            "tags": null
          },
          "name": "stdout",
          "output_type": "stream",
          "text": [
            "Got KeyError, skipping\n",
            "Error fetching the article: NB\n"
          ]
        },
        {
          "metadata": {
            "tags": null
          },
          "name": "stderr",
          "output_type": "stream",
          "text": [
            " 16%|█▌        | 3215/20182 [36:31<4:00:10,  1.18it/s]"
          ]
        },
        {
          "metadata": {
            "tags": null
          },
          "name": "stdout",
          "output_type": "stream",
          "text": [
            "Got PageErrors, skipping\n",
            "Error fetching the article: Otta (andre betydninger)\n",
            "Got KeyError, skipping\n",
            "Error fetching the article: PS\n"
          ]
        },
        {
          "metadata": {
            "tags": null
          },
          "name": "stderr",
          "output_type": "stream",
          "text": [
            " 16%|█▌        | 3226/20182 [36:40<3:53:26,  1.21it/s]"
          ]
        },
        {
          "metadata": {
            "tags": null
          },
          "name": "stdout",
          "output_type": "stream",
          "text": [
            "Got KeyError, skipping\n",
            "Error fetching the article: BH\n"
          ]
        },
        {
          "metadata": {
            "tags": null
          },
          "name": "stderr",
          "output_type": "stream",
          "text": [
            " 16%|█▌        | 3238/20182 [36:50<3:27:57,  1.36it/s]"
          ]
        },
        {
          "metadata": {
            "tags": null
          },
          "name": "stdout",
          "output_type": "stream",
          "text": [
            "Got PageErrors, skipping\n",
            "Error fetching the article: Mesterligaen 2005/2006\n"
          ]
        },
        {
          "metadata": {
            "tags": null
          },
          "name": "stderr",
          "output_type": "stream",
          "text": [
            " 16%|█▌        | 3279/20182 [37:25<3:56:49,  1.19it/s]"
          ]
        },
        {
          "metadata": {
            "tags": null
          },
          "name": "stdout",
          "output_type": "stream",
          "text": [
            "Got PageErrors, skipping\n",
            "Error fetching the article: Mesterligaen 2003/2004\n"
          ]
        },
        {
          "metadata": {
            "tags": null
          },
          "name": "stderr",
          "output_type": "stream",
          "text": [
            " 16%|█▋        | 3294/20182 [37:40<4:06:04,  1.14it/s]"
          ]
        },
        {
          "metadata": {
            "tags": null
          },
          "name": "stdout",
          "output_type": "stream",
          "text": [
            "Got KeyError, skipping\n",
            "Error fetching the article: Jan Johansen\n"
          ]
        },
        {
          "metadata": {
            "tags": null
          },
          "name": "stderr",
          "output_type": "stream",
          "text": [
            " 16%|█▋        | 3320/20182 [38:02<3:26:09,  1.36it/s]"
          ]
        },
        {
          "metadata": {
            "tags": null
          },
          "name": "stdout",
          "output_type": "stream",
          "text": [
            "Got KeyError, skipping\n",
            "Error fetching the article: BT\n"
          ]
        },
        {
          "metadata": {
            "tags": null
          },
          "name": "stderr",
          "output_type": "stream",
          "text": [
            " 17%|█▋        | 3444/20182 [39:46<3:05:14,  1.51it/s]"
          ]
        },
        {
          "metadata": {
            "tags": null
          },
          "name": "stdout",
          "output_type": "stream",
          "text": [
            "Got KeyError, skipping\n",
            "Error fetching the article: Jomfru\n"
          ]
        },
        {
          "metadata": {
            "tags": null
          },
          "name": "stderr",
          "output_type": "stream",
          "text": [
            " 17%|█▋        | 3448/20182 [39:50<4:10:59,  1.11it/s]"
          ]
        },
        {
          "metadata": {
            "tags": null
          },
          "name": "stdout",
          "output_type": "stream",
          "text": [
            "Got KeyError, skipping\n",
            "Error fetching the article: Dobbeltdekker\n"
          ]
        },
        {
          "metadata": {
            "tags": null
          },
          "name": "stderr",
          "output_type": "stream",
          "text": [
            " 17%|█▋        | 3465/20182 [40:04<4:39:45,  1.00s/it]"
          ]
        },
        {
          "metadata": {
            "tags": null
          },
          "name": "stdout",
          "output_type": "stream",
          "text": [
            "Got KeyError, skipping\n",
            "Error fetching the article: KP\n"
          ]
        },
        {
          "metadata": {
            "tags": null
          },
          "name": "stderr",
          "output_type": "stream",
          "text": [
            " 17%|█▋        | 3467/20182 [40:06<3:47:51,  1.22it/s]"
          ]
        },
        {
          "metadata": {
            "tags": null
          },
          "name": "stdout",
          "output_type": "stream",
          "text": [
            "Got KeyError, skipping\n",
            "Error fetching the article: Post (andre betydninger)\n"
          ]
        },
        {
          "metadata": {
            "tags": null
          },
          "name": "stderr",
          "output_type": "stream",
          "text": [
            " 18%|█▊        | 3563/20182 [41:24<3:06:58,  1.48it/s]"
          ]
        },
        {
          "metadata": {
            "tags": null
          },
          "name": "stdout",
          "output_type": "stream",
          "text": [
            "Got KeyError, skipping\n",
            "Error fetching the article: GC\n"
          ]
        },
        {
          "metadata": {
            "tags": null
          },
          "name": "stderr",
          "output_type": "stream",
          "text": [
            " 18%|█▊        | 3584/20182 [41:40<3:40:46,  1.25it/s]"
          ]
        },
        {
          "metadata": {
            "tags": null
          },
          "name": "stdout",
          "output_type": "stream",
          "text": [
            "Got PageErrors, skipping\n",
            "Error fetching the article: Internasjonal lufthavn\n"
          ]
        },
        {
          "metadata": {
            "tags": null
          },
          "name": "stderr",
          "output_type": "stream",
          "text": [
            " 18%|█▊        | 3593/20182 [41:47<3:36:23,  1.28it/s]"
          ]
        },
        {
          "metadata": {
            "tags": null
          },
          "name": "stdout",
          "output_type": "stream",
          "text": [
            "Got KeyError, skipping\n",
            "Error fetching the article: Øyvind Hansen (illustratør)\n"
          ]
        },
        {
          "metadata": {
            "tags": null
          },
          "name": "stderr",
          "output_type": "stream",
          "text": [
            " 18%|█▊        | 3612/20182 [42:07<5:21:28,  1.16s/it]"
          ]
        },
        {
          "metadata": {
            "tags": null
          },
          "name": "stdout",
          "output_type": "stream",
          "text": [
            "Got KeyError, skipping\n",
            "Error fetching the article: .cl\n"
          ]
        },
        {
          "metadata": {
            "tags": null
          },
          "name": "stderr",
          "output_type": "stream",
          "text": [
            " 18%|█▊        | 3635/20182 [42:27<3:41:47,  1.24it/s]"
          ]
        },
        {
          "metadata": {
            "tags": null
          },
          "name": "stdout",
          "output_type": "stream",
          "text": [
            "Got PageErrors, skipping\n",
            "Error fetching the article: John de la Pole, jarl av Lincoln\n"
          ]
        },
        {
          "metadata": {
            "tags": null
          },
          "name": "stderr",
          "output_type": "stream",
          "text": [
            " 18%|█▊        | 3659/20182 [42:45<3:02:24,  1.51it/s]"
          ]
        },
        {
          "metadata": {
            "tags": null
          },
          "name": "stdout",
          "output_type": "stream",
          "text": [
            "Got KeyError, skipping\n",
            "Error fetching the article: SM\n"
          ]
        },
        {
          "metadata": {
            "tags": null
          },
          "name": "stderr",
          "output_type": "stream",
          "text": [
            " 18%|█▊        | 3666/20182 [42:50<3:25:56,  1.34it/s]"
          ]
        },
        {
          "metadata": {
            "tags": null
          },
          "name": "stdout",
          "output_type": "stream",
          "text": [
            "Got KeyError, skipping\n",
            "Error fetching the article: Tredekker\n"
          ]
        },
        {
          "metadata": {
            "tags": null
          },
          "name": "stderr",
          "output_type": "stream",
          "text": [
            " 18%|█▊        | 3686/20182 [43:06<3:55:45,  1.17it/s]"
          ]
        },
        {
          "metadata": {
            "tags": null
          },
          "name": "stdout",
          "output_type": "stream",
          "text": [
            "Got PageErrors, skipping\n",
            "Error fetching the article: Songa\n"
          ]
        },
        {
          "metadata": {
            "tags": null
          },
          "name": "stderr",
          "output_type": "stream",
          "text": [
            " 18%|█▊        | 3705/20182 [43:23<4:14:14,  1.08it/s]"
          ]
        },
        {
          "metadata": {
            "tags": null
          },
          "name": "stdout",
          "output_type": "stream",
          "text": [
            "Got PageErrors, skipping\n",
            "Error fetching the article: St. Andrew’s (Birmingham)\n"
          ]
        },
        {
          "metadata": {
            "tags": null
          },
          "name": "stderr",
          "output_type": "stream",
          "text": [
            " 18%|█▊        | 3708/20182 [43:25<3:17:16,  1.39it/s]"
          ]
        },
        {
          "metadata": {
            "tags": null
          },
          "name": "stdout",
          "output_type": "stream",
          "text": [
            "Got KeyError, skipping\n",
            "Error fetching the article: SK\n"
          ]
        },
        {
          "metadata": {
            "tags": null
          },
          "name": "stderr",
          "output_type": "stream",
          "text": [
            " 18%|█▊        | 3710/20182 [43:26<3:20:50,  1.37it/s]"
          ]
        },
        {
          "metadata": {
            "tags": null
          },
          "name": "stdout",
          "output_type": "stream",
          "text": [
            "Got KeyError, skipping\n",
            "Error fetching the article: PA\n"
          ]
        },
        {
          "metadata": {
            "tags": null
          },
          "name": "stderr",
          "output_type": "stream",
          "text": [
            " 19%|█▊        | 3743/20182 [43:55<6:14:25,  1.37s/it]"
          ]
        },
        {
          "metadata": {
            "tags": null
          },
          "name": "stdout",
          "output_type": "stream",
          "text": [
            "Got PageErrors, skipping\n",
            "Error fetching the article: Fjording (andre betydninger)\n"
          ]
        },
        {
          "metadata": {
            "tags": null
          },
          "name": "stderr",
          "output_type": "stream",
          "text": [
            " 19%|█▉        | 3818/20182 [44:55<4:16:12,  1.06it/s]"
          ]
        },
        {
          "metadata": {
            "tags": null
          },
          "name": "stdout",
          "output_type": "stream",
          "text": [
            "Got KeyError, skipping\n",
            "Error fetching the article: JD\n"
          ]
        },
        {
          "metadata": {
            "tags": null
          },
          "name": "stderr",
          "output_type": "stream",
          "text": [
            " 19%|█▉        | 3854/20182 [45:25<3:13:06,  1.41it/s]"
          ]
        },
        {
          "metadata": {
            "tags": null
          },
          "name": "stdout",
          "output_type": "stream",
          "text": [
            "Got PageErrors, skipping\n",
            "Error fetching the article: Nissen (andre betydninger)\n"
          ]
        },
        {
          "metadata": {
            "tags": null
          },
          "name": "stderr",
          "output_type": "stream",
          "text": [
            " 19%|█▉        | 3896/20182 [46:00<3:19:12,  1.36it/s]"
          ]
        },
        {
          "metadata": {
            "tags": null
          },
          "name": "stdout",
          "output_type": "stream",
          "text": [
            "Got KeyError, skipping\n",
            "Error fetching the article: Den grå dame\n"
          ]
        },
        {
          "metadata": {
            "tags": null
          },
          "name": "stderr",
          "output_type": "stream",
          "text": [
            " 19%|█▉        | 3907/20182 [46:08<3:18:57,  1.36it/s]"
          ]
        },
        {
          "metadata": {
            "tags": null
          },
          "name": "stdout",
          "output_type": "stream",
          "text": [
            "Got KeyError, skipping\n",
            "Error fetching the article: King Kong\n"
          ]
        },
        {
          "metadata": {
            "tags": null
          },
          "name": "stderr",
          "output_type": "stream",
          "text": [
            " 19%|█▉        | 3918/20182 [46:19<3:30:25,  1.29it/s]"
          ]
        },
        {
          "metadata": {
            "tags": null
          },
          "name": "stdout",
          "output_type": "stream",
          "text": [
            "Got KeyError, skipping\n",
            "Error fetching the article: VA\n"
          ]
        },
        {
          "metadata": {
            "tags": null
          },
          "name": "stderr",
          "output_type": "stream",
          "text": [
            " 20%|█▉        | 3971/20182 [47:00<4:20:42,  1.04it/s]"
          ]
        },
        {
          "metadata": {
            "tags": null
          },
          "name": "stdout",
          "output_type": "stream",
          "text": [
            "Got KeyError, skipping\n",
            "Error fetching the article: IM\n"
          ]
        },
        {
          "metadata": {
            "tags": null
          },
          "name": "stderr",
          "output_type": "stream",
          "text": [
            " 20%|█▉        | 4011/20182 [47:35<4:09:30,  1.08it/s]"
          ]
        },
        {
          "metadata": {
            "tags": null
          },
          "name": "stdout",
          "output_type": "stream",
          "text": [
            "Got KeyError, skipping\n",
            "Error fetching the article: Var (departement)\n"
          ]
        },
        {
          "metadata": {
            "tags": null
          },
          "name": "stderr",
          "output_type": "stream",
          "text": [
            " 20%|██        | 4063/20182 [48:18<3:33:41,  1.26it/s]"
          ]
        },
        {
          "metadata": {
            "tags": null
          },
          "name": "stdout",
          "output_type": "stream",
          "text": [
            "Got KeyError, skipping\n",
            "Error fetching the article: Mo i Telemark\n"
          ]
        },
        {
          "metadata": {
            "tags": null
          },
          "name": "stderr",
          "output_type": "stream",
          "text": [
            " 20%|██        | 4094/20182 [48:41<3:38:09,  1.23it/s]"
          ]
        },
        {
          "metadata": {
            "tags": null
          },
          "name": "stdout",
          "output_type": "stream",
          "text": [
            "Got KeyError, skipping\n",
            "Error fetching the article: Feedback\n"
          ]
        },
        {
          "metadata": {
            "tags": null
          },
          "name": "stderr",
          "output_type": "stream",
          "text": [
            " 21%|██        | 4165/20182 [49:41<3:07:05,  1.43it/s]"
          ]
        },
        {
          "metadata": {
            "tags": null
          },
          "name": "stdout",
          "output_type": "stream",
          "text": [
            "Got KeyError, skipping\n",
            "Error fetching the article: TG\n"
          ]
        },
        {
          "metadata": {
            "tags": null
          },
          "name": "stderr",
          "output_type": "stream",
          "text": [
            " 21%|██        | 4245/20182 [50:48<2:57:11,  1.50it/s]"
          ]
        },
        {
          "metadata": {
            "tags": null
          },
          "name": "stdout",
          "output_type": "stream",
          "text": [
            "Got KeyError, skipping\n",
            "Error fetching the article: Ericsson (andre betydninger)\n"
          ]
        },
        {
          "metadata": {
            "tags": null
          },
          "name": "stderr",
          "output_type": "stream",
          "text": [
            " 21%|██        | 4252/20182 [50:53<3:08:24,  1.41it/s]"
          ]
        },
        {
          "metadata": {
            "tags": null
          },
          "name": "stdout",
          "output_type": "stream",
          "text": [
            "Got KeyError, skipping\n",
            "Error fetching the article: NF\n"
          ]
        },
        {
          "metadata": {
            "tags": null
          },
          "name": "stderr",
          "output_type": "stream",
          "text": [
            " 21%|██        | 4268/20182 [51:07<4:36:19,  1.04s/it]"
          ]
        },
        {
          "metadata": {
            "tags": null
          },
          "name": "stdout",
          "output_type": "stream",
          "text": [
            "Got KeyError, skipping\n",
            "Error fetching the article: ØB\n"
          ]
        },
        {
          "metadata": {
            "tags": null
          },
          "name": "stderr",
          "output_type": "stream",
          "text": [
            " 21%|██▏       | 4311/20182 [51:42<3:30:19,  1.26it/s]"
          ]
        },
        {
          "metadata": {
            "tags": null
          },
          "name": "stdout",
          "output_type": "stream",
          "text": [
            "Got KeyError, skipping\n",
            "Error fetching the article: RT\n"
          ]
        },
        {
          "metadata": {
            "tags": null
          },
          "name": "stderr",
          "output_type": "stream",
          "text": [
            " 22%|██▏       | 4354/20182 [52:19<4:43:13,  1.07s/it]"
          ]
        },
        {
          "metadata": {
            "tags": null
          },
          "name": "stdout",
          "output_type": "stream",
          "text": [
            "Got PageErrors, skipping\n",
            "Error fetching the article: W*A*L*T*E*R\n"
          ]
        },
        {
          "metadata": {
            "tags": null
          },
          "name": "stderr",
          "output_type": "stream",
          "text": [
            " 22%|██▏       | 4391/20182 [52:51<3:19:11,  1.32it/s]"
          ]
        },
        {
          "metadata": {
            "tags": null
          },
          "name": "stdout",
          "output_type": "stream",
          "text": [
            "Got KeyError, skipping\n",
            "Error fetching the article: Trailer\n"
          ]
        },
        {
          "metadata": {
            "tags": null
          },
          "name": "stderr",
          "output_type": "stream",
          "text": [
            " 22%|██▏       | 4467/20182 [53:53<3:31:52,  1.24it/s]"
          ]
        },
        {
          "metadata": {
            "tags": null
          },
          "name": "stdout",
          "output_type": "stream",
          "text": [
            "Got PageErrors, skipping\n",
            "Error fetching the article: Juristforeningen (Universitetet i Oslo)\n"
          ]
        },
        {
          "metadata": {
            "tags": null
          },
          "name": "stderr",
          "output_type": "stream",
          "text": [
            " 23%|██▎       | 4564/20182 [55:11<3:25:16,  1.27it/s]"
          ]
        },
        {
          "metadata": {
            "tags": null
          },
          "name": "stdout",
          "output_type": "stream",
          "text": [
            "Got KeyError, skipping\n",
            "Error fetching the article: .ad\n"
          ]
        },
        {
          "metadata": {
            "tags": null
          },
          "name": "stderr",
          "output_type": "stream",
          "text": [
            " 23%|██▎       | 4590/20182 [55:32<3:33:44,  1.22it/s]"
          ]
        },
        {
          "metadata": {
            "tags": null
          },
          "name": "stdout",
          "output_type": "stream",
          "text": [
            "Got KeyError, skipping\n",
            "Error fetching the article: CA\n"
          ]
        },
        {
          "metadata": {
            "tags": null
          },
          "name": "stderr",
          "output_type": "stream",
          "text": [
            " 23%|██▎       | 4607/20182 [55:47<4:25:18,  1.02s/it]"
          ]
        },
        {
          "metadata": {
            "tags": null
          },
          "name": "stdout",
          "output_type": "stream",
          "text": [
            "Got KeyError, skipping\n",
            "Error fetching the article: Inferno\n"
          ]
        },
        {
          "metadata": {
            "tags": null
          },
          "name": "stderr",
          "output_type": "stream",
          "text": [
            " 23%|██▎       | 4734/20182 [57:30<2:53:42,  1.48it/s]"
          ]
        },
        {
          "metadata": {
            "tags": null
          },
          "name": "stdout",
          "output_type": "stream",
          "text": [
            "Got KeyError, skipping\n",
            "Error fetching the article: Trailer (film)\n"
          ]
        },
        {
          "metadata": {
            "tags": null
          },
          "name": "stderr",
          "output_type": "stream",
          "text": [
            " 24%|██▎       | 4746/20182 [57:40<3:30:44,  1.22it/s]"
          ]
        },
        {
          "metadata": {
            "tags": null
          },
          "name": "stdout",
          "output_type": "stream",
          "text": [
            "Got KeyError, skipping\n",
            "Error fetching the article: .fr\n"
          ]
        },
        {
          "metadata": {
            "tags": null
          },
          "name": "stderr",
          "output_type": "stream",
          "text": [
            " 24%|██▎       | 4786/20182 [58:12<4:19:27,  1.01s/it]"
          ]
        },
        {
          "metadata": {
            "tags": null
          },
          "name": "stdout",
          "output_type": "stream",
          "text": [
            "Got KeyError, skipping\n",
            "Error fetching the article: YG\n",
            "Got KeyError, skipping\n",
            "Error fetching the article: PG\n",
            "Got KeyError, skipping\n",
            "Error fetching the article: ZG\n"
          ]
        },
        {
          "metadata": {
            "tags": null
          },
          "name": "stderr",
          "output_type": "stream",
          "text": [
            " 24%|██▍       | 4851/20182 [59:05<3:38:43,  1.17it/s]"
          ]
        },
        {
          "metadata": {
            "tags": null
          },
          "name": "stdout",
          "output_type": "stream",
          "text": [
            "Got KeyError, skipping\n",
            "Error fetching the article: AU\n",
            "Got KeyError, skipping\n",
            "Error fetching the article: AA\n",
            "Got KeyError, skipping\n",
            "Error fetching the article: ALGot KeyError, skipping\n",
            "Error fetching the article: AS\n",
            "\n"
          ]
        },
        {
          "metadata": {
            "tags": null
          },
          "name": "stderr",
          "output_type": "stream",
          "text": [
            " 24%|██▍       | 4866/20182 [59:20<3:45:07,  1.13it/s]"
          ]
        },
        {
          "metadata": {
            "tags": null
          },
          "name": "stdout",
          "output_type": "stream",
          "text": [
            "Got KeyError, skipping\n",
            "Error fetching the article: AD\n"
          ]
        },
        {
          "metadata": {
            "tags": null
          },
          "name": "stderr",
          "output_type": "stream",
          "text": [
            " 24%|██▍       | 4868/20182 [59:22<3:32:11,  1.20it/s]"
          ]
        },
        {
          "metadata": {
            "tags": null
          },
          "name": "stdout",
          "output_type": "stream",
          "text": [
            "Got KeyError, skipping\n",
            "Error fetching the article: AE\n",
            "Got KeyError, skipping\n",
            "Error fetching the article: AH\n"
          ]
        },
        {
          "metadata": {
            "tags": null
          },
          "name": "stderr",
          "output_type": "stream",
          "text": [
            "\r 24%|██▍       | 4869/20182 [59:23<3:14:26,  1.31it/s]"
          ]
        },
        {
          "metadata": {
            "tags": null
          },
          "name": "stdout",
          "output_type": "stream",
          "text": [
            "Got KeyError, skipping\n",
            "Error fetching the article: AJ\n",
            "Got KeyError, skipping\n",
            "Error fetching the article: AO\n"
          ]
        },
        {
          "metadata": {
            "tags": null
          },
          "name": "stderr",
          "output_type": "stream",
          "text": [
            " 24%|██▍       | 4871/20182 [59:24<3:05:41,  1.37it/s]"
          ]
        },
        {
          "metadata": {
            "tags": null
          },
          "name": "stdout",
          "output_type": "stream",
          "text": [
            "Got KeyError, skipping\n",
            "Error fetching the article: AQ\n",
            "Got KeyError, skipping\n",
            "Error fetching the article: AX\n",
            "Got KeyError, skipping\n",
            "Got KeyError, skipping\n",
            "Error fetching the article: AY\n",
            "Error fetching the article: AW\n",
            "Got KeyError, skipping\n",
            "Error fetching the article: AT\n"
          ]
        },
        {
          "metadata": {
            "tags": null
          },
          "name": "stderr",
          "output_type": "stream",
          "text": [
            "\r 24%|██▍       | 4872/20182 [59:25<2:58:22,  1.43it/s]"
          ]
        },
        {
          "metadata": {
            "tags": null
          },
          "name": "stdout",
          "output_type": "stream",
          "text": [
            "Got KeyError, skipping\n",
            "Error fetching the article: AB\n"
          ]
        },
        {
          "metadata": {
            "tags": null
          },
          "name": "stderr",
          "output_type": "stream",
          "text": [
            " 24%|██▍       | 4879/20182 [59:30<3:15:21,  1.31it/s]"
          ]
        },
        {
          "metadata": {
            "tags": null
          },
          "name": "stdout",
          "output_type": "stream",
          "text": [
            "Got KeyError, skipping\n",
            "Error fetching the article: BB\n"
          ]
        },
        {
          "metadata": {
            "tags": null
          },
          "name": "stderr",
          "output_type": "stream",
          "text": [
            "\r 24%|██▍       | 4880/20182 [59:31<3:04:29,  1.38it/s]"
          ]
        },
        {
          "metadata": {
            "tags": null
          },
          "name": "stdout",
          "output_type": "stream",
          "text": [
            "Got KeyError, skipping\n",
            "Error fetching the article: BC\n",
            "Got KeyError, skipping\n",
            "Error fetching the article: BG\n",
            "Got KeyError, skipping\n",
            "Error fetching the article: BE\n",
            "Got KeyError, skipping\n",
            "Error fetching the article: BD\n",
            "Got KeyError, skipping\n",
            "Error fetching the article: BL\n",
            "Got KeyError, skipping\n",
            "Error fetching the article: BJ\n"
          ]
        },
        {
          "metadata": {
            "tags": null
          },
          "name": "stderr",
          "output_type": "stream",
          "text": [
            "\r 24%|██▍       | 4881/20182 [59:31<3:00:12,  1.42it/s]"
          ]
        },
        {
          "metadata": {
            "tags": null
          },
          "name": "stdout",
          "output_type": "stream",
          "text": [
            "Got KeyError, skipping\n",
            "Error fetching the article: BN\n"
          ]
        },
        {
          "metadata": {
            "tags": null
          },
          "name": "stderr",
          "output_type": "stream",
          "text": [
            " 24%|██▍       | 4886/20182 [59:36<3:21:13,  1.27it/s]"
          ]
        },
        {
          "metadata": {
            "tags": null
          },
          "name": "stdout",
          "output_type": "stream",
          "text": [
            "Got KeyError, skippingGot KeyError, skipping\n",
            "Error fetching the article: BW\n",
            "Got KeyError, skipping\n",
            "Error fetching the article: BR\n",
            "\n",
            "Got KeyError, skipping\n",
            "Error fetching the article: BO\n",
            "Error fetching the article: BS\n",
            "Got KeyError, skipping\n",
            "Error fetching the article: BX\n",
            "Got KeyError, skipping\n",
            "Error fetching the article: BQ\n"
          ]
        },
        {
          "metadata": {
            "tags": null
          },
          "name": "stderr",
          "output_type": "stream",
          "text": [
            "\r 24%|██▍       | 4887/20182 [59:36<3:18:40,  1.28it/s]"
          ]
        },
        {
          "metadata": {
            "tags": null
          },
          "name": "stdout",
          "output_type": "stream",
          "text": [
            "Got KeyError, skippingGot KeyError, skipping\n",
            "Error fetching the article: CB\n",
            "\n",
            "Got KeyError, skippingError fetching the article: BZ\n",
            "\n",
            "Error fetching the article: CE\n",
            "Got KeyError, skipping\n",
            "Error fetching the article: CG\n"
          ]
        },
        {
          "metadata": {
            "tags": null
          },
          "name": "stderr",
          "output_type": "stream",
          "text": [
            " 24%|██▍       | 4898/20182 [59:46<3:27:10,  1.23it/s]"
          ]
        },
        {
          "metadata": {
            "tags": null
          },
          "name": "stdout",
          "output_type": "stream",
          "text": [
            "Got KeyError, skipping\n",
            "Error fetching the article: CI\n",
            "Got KeyError, skipping\n",
            "Error fetching the article: CJ\n"
          ]
        },
        {
          "metadata": {
            "tags": null
          },
          "name": "stderr",
          "output_type": "stream",
          "text": [
            " 24%|██▍       | 4900/20182 [59:47<3:23:16,  1.25it/s]"
          ]
        },
        {
          "metadata": {
            "tags": null
          },
          "name": "stdout",
          "output_type": "stream",
          "text": [
            "Got KeyError, skippingGot KeyError, skipping\n",
            "Error fetching the article: CQ\n",
            "Got KeyError, skipping\n",
            "Error fetching the article: CW\n",
            "Got KeyError, skipping\n",
            "Error fetching the article: CU\n",
            "\n",
            "Error fetching the article: CK\n",
            "Got KeyError, skipping\n",
            "Error fetching the article: CN\n",
            "Got KeyError, skipping\n",
            "Error fetching the article: CR\n"
          ]
        },
        {
          "metadata": {
            "tags": null
          },
          "name": "stderr",
          "output_type": "stream",
          "text": [
            "\r 24%|██▍       | 4901/20182 [59:48<3:09:53,  1.34it/s]"
          ]
        },
        {
          "metadata": {
            "tags": null
          },
          "name": "stdout",
          "output_type": "stream",
          "text": [
            "Got KeyError, skippingGot KeyError, skipping\n",
            "\n",
            "Error fetching the article: CY\n",
            "Error fetching the article: CX\n"
          ]
        },
        {
          "metadata": {
            "tags": null
          },
          "name": "stderr",
          "output_type": "stream",
          "text": [
            " 25%|██▍       | 4956/20182 [1:00:37<2:55:33,  1.45it/s]"
          ]
        },
        {
          "metadata": {
            "tags": null
          },
          "name": "stdout",
          "output_type": "stream",
          "text": [
            "Got KeyError, skipping\n",
            "Error fetching the article: DD\n"
          ]
        },
        {
          "metadata": {
            "tags": null
          },
          "name": "stderr",
          "output_type": "stream",
          "text": [
            " 25%|██▍       | 4980/20182 [1:00:57<3:54:48,  1.08it/s]"
          ]
        },
        {
          "metadata": {
            "tags": null
          },
          "name": "stdout",
          "output_type": "stream",
          "text": [
            "Got KeyError, skipping\n",
            "Error fetching the article: Vøringen\n"
          ]
        },
        {
          "metadata": {
            "tags": null
          },
          "name": "stderr",
          "output_type": "stream",
          "text": [
            " 25%|██▍       | 5044/20182 [1:01:49<3:03:51,  1.37it/s]"
          ]
        },
        {
          "metadata": {
            "tags": null
          },
          "name": "stdout",
          "output_type": "stream",
          "text": [
            "Got KeyError, skipping\n",
            "Error fetching the article: DS «Vøringen» (1891)\n"
          ]
        },
        {
          "metadata": {
            "tags": null
          },
          "name": "stderr",
          "output_type": "stream",
          "text": [
            " 25%|██▌       | 5051/20182 [1:01:57<4:10:07,  1.01it/s]"
          ]
        },
        {
          "metadata": {
            "tags": null
          },
          "name": "stdout",
          "output_type": "stream",
          "text": [
            "Got KeyError, skipping\n",
            "Error fetching the article: MS «Vøringen» (1983)\n"
          ]
        },
        {
          "metadata": {
            "tags": null
          },
          "name": "stderr",
          "output_type": "stream",
          "text": [
            " 25%|██▌       | 5065/20182 [1:02:09<3:34:26,  1.17it/s]"
          ]
        },
        {
          "metadata": {
            "tags": null
          },
          "name": "stdout",
          "output_type": "stream",
          "text": [
            "Got KeyError, skipping\n",
            "Error fetching the article: Spir\n"
          ]
        },
        {
          "metadata": {
            "tags": null
          },
          "name": "stderr",
          "output_type": "stream",
          "text": [
            " 25%|██▌       | 5073/20182 [1:02:18<4:08:00,  1.02it/s]"
          ]
        },
        {
          "metadata": {
            "tags": null
          },
          "name": "stdout",
          "output_type": "stream",
          "text": [
            "Got KeyError, skipping\n",
            "Error fetching the article: DL\n",
            "Got KeyError, skipping\n",
            "Error fetching the article: DH\n"
          ]
        },
        {
          "metadata": {
            "tags": null
          },
          "name": "stderr",
          "output_type": "stream",
          "text": [
            " 25%|██▌       | 5076/20182 [1:02:21<3:36:27,  1.16it/s]"
          ]
        },
        {
          "metadata": {
            "tags": null
          },
          "name": "stdout",
          "output_type": "stream",
          "text": [
            "Got KeyError, skipping\n",
            "Error fetching the article: DP\n",
            "Got KeyError, skipping\n",
            "Error fetching the article: DQ\n",
            "Got KeyError, skipping\n",
            "Error fetching the article: DV\n",
            "Got KeyError, skipping\n",
            "Error fetching the article: DT\n",
            "Got KeyError, skipping\n",
            "Error fetching the article: DU\n"
          ]
        },
        {
          "metadata": {
            "tags": null
          },
          "name": "stderr",
          "output_type": "stream",
          "text": [
            "\r 25%|██▌       | 5077/20182 [1:02:21<3:17:48,  1.27it/s]"
          ]
        },
        {
          "metadata": {
            "tags": null
          },
          "name": "stdout",
          "output_type": "stream",
          "text": [
            "Got KeyError, skipping\n",
            "Error fetching the article: DW\n",
            "Got KeyError, skipping\n",
            "Error fetching the article: DZ\n",
            "Got KeyError, skipping\n",
            "Error fetching the article: DY\n"
          ]
        },
        {
          "metadata": {
            "tags": null
          },
          "name": "stderr",
          "output_type": "stream",
          "text": [
            " 25%|██▌       | 5103/20182 [1:02:43<3:08:42,  1.33it/s]"
          ]
        },
        {
          "metadata": {
            "tags": null
          },
          "name": "stdout",
          "output_type": "stream",
          "text": [
            "Got KeyError, skipping\n",
            "Error fetching the article: EE\n",
            "Got KeyError, skipping\n",
            "Error fetching the article: EB\n",
            "Got KeyError, skipping\n",
            "Got KeyError, skipping\n",
            "Error fetching the article: EC\n",
            "Got KeyError, skippingGot KeyError, skipping\n",
            "Error fetching the article: EI\n",
            "\n",
            "Error fetching the article: EH\n",
            "Error fetching the article: EJ\n",
            "Got KeyError, skipping\n",
            "Error fetching the article: EO\n",
            "Got KeyError, skipping\n",
            "Error fetching the article: EQ\n",
            "Got KeyError, skipping\n",
            "Error fetching the article: ER\n",
            "Got KeyError, skipping\n",
            "Error fetching the article: EN\n"
          ]
        },
        {
          "metadata": {
            "tags": null
          },
          "name": "stderr",
          "output_type": "stream",
          "text": [
            " 25%|██▌       | 5115/20182 [1:02:52<3:12:58,  1.30it/s]"
          ]
        },
        {
          "metadata": {
            "tags": null
          },
          "name": "stdout",
          "output_type": "stream",
          "text": [
            "Got KeyError, skipping\n",
            "Error fetching the article: VL\n"
          ]
        },
        {
          "metadata": {
            "tags": null
          },
          "name": "stderr",
          "output_type": "stream",
          "text": [
            " 25%|██▌       | 5140/20182 [1:03:14<4:32:39,  1.09s/it]"
          ]
        },
        {
          "metadata": {
            "tags": null
          },
          "name": "stdout",
          "output_type": "stream",
          "text": [
            "Got KeyError, skipping\n",
            "Error fetching the article: Terje Johansen (politiker)\n"
          ]
        },
        {
          "metadata": {
            "tags": null
          },
          "name": "stderr",
          "output_type": "stream",
          "text": [
            " 26%|██▌       | 5176/20182 [1:03:41<3:07:00,  1.34it/s]"
          ]
        },
        {
          "metadata": {
            "tags": null
          },
          "name": "stdout",
          "output_type": "stream",
          "text": [
            "Got KeyError, skipping\n",
            "Error fetching the article: HA\n"
          ]
        },
        {
          "metadata": {
            "tags": null
          },
          "name": "stderr",
          "output_type": "stream",
          "text": [
            " 26%|██▌       | 5262/20182 [1:04:51<3:35:45,  1.15it/s]"
          ]
        },
        {
          "metadata": {
            "tags": null
          },
          "name": "stdout",
          "output_type": "stream",
          "text": [
            "Got KeyError, skipping\n",
            "Error fetching the article: EV\n"
          ]
        },
        {
          "metadata": {
            "tags": null
          },
          "name": "stderr",
          "output_type": "stream",
          "text": [
            " 26%|██▋       | 5307/20182 [1:05:26<3:04:09,  1.35it/s]"
          ]
        },
        {
          "metadata": {
            "tags": null
          },
          "name": "stdout",
          "output_type": "stream",
          "text": [
            "Got KeyError, skipping\n",
            "Error fetching the article: Plastikk\n"
          ]
        },
        {
          "metadata": {
            "tags": null
          },
          "name": "stderr",
          "output_type": "stream",
          "text": [
            " 27%|██▋       | 5466/20182 [1:07:44<5:16:08,  1.29s/it]"
          ]
        },
        {
          "metadata": {
            "tags": null
          },
          "name": "stdout",
          "output_type": "stream",
          "text": [
            "Got KeyError, skipping\n",
            "Error fetching the article: TB\n"
          ]
        },
        {
          "metadata": {
            "tags": null
          },
          "name": "stderr",
          "output_type": "stream",
          "text": [
            " 28%|██▊       | 5560/20182 [1:09:03<4:00:09,  1.01it/s]"
          ]
        },
        {
          "metadata": {
            "tags": null
          },
          "name": "stdout",
          "output_type": "stream",
          "text": [
            "Got KeyError, skipping\n",
            "Error fetching the article: GD\n",
            "Got KeyError, skipping\n",
            "Error fetching the article: GA\n",
            "Got KeyError, skipping\n",
            "Error fetching the article: FR\n"
          ]
        },
        {
          "metadata": {
            "tags": null
          },
          "name": "stderr",
          "output_type": "stream",
          "text": [
            "\r 28%|██▊       | 5561/20182 [1:09:04<4:10:55,  1.03s/it]"
          ]
        },
        {
          "metadata": {
            "tags": null
          },
          "name": "stdout",
          "output_type": "stream",
          "text": [
            "Got KeyError, skipping\n",
            "Error fetching the article: GE (andre betydninger)\n"
          ]
        },
        {
          "metadata": {
            "tags": null
          },
          "name": "stderr",
          "output_type": "stream",
          "text": [
            " 28%|██▊       | 5611/20182 [1:09:49<3:51:36,  1.05it/s]"
          ]
        },
        {
          "metadata": {
            "tags": null
          },
          "name": "stdout",
          "output_type": "stream",
          "text": [
            "Got KeyError, skippingGot KeyError, skipping\n",
            "Error fetching the article: HE\n",
            "\n",
            "Got KeyError, skipping\n",
            "Error fetching the article: IR\n",
            "Error fetching the article: HS\n",
            "Got KeyError, skipping\n",
            "Error fetching the article: HO\n"
          ]
        },
        {
          "metadata": {
            "tags": null
          },
          "name": "stderr",
          "output_type": "stream",
          "text": [
            " 28%|██▊       | 5693/20182 [1:11:03<3:44:35,  1.08it/s]"
          ]
        },
        {
          "metadata": {
            "tags": null
          },
          "name": "stdout",
          "output_type": "stream",
          "text": [
            "Got KeyError, skipping\n",
            "Error fetching the article: FE\n"
          ]
        },
        {
          "metadata": {
            "tags": null
          },
          "name": "stderr",
          "output_type": "stream",
          "text": [
            "\r 28%|██▊       | 5694/20182 [1:11:04<3:33:33,  1.13it/s]"
          ]
        },
        {
          "metadata": {
            "tags": null
          },
          "name": "stdout",
          "output_type": "stream",
          "text": [
            "Got KeyError, skipping\n",
            "Error fetching the article: MD\n"
          ]
        },
        {
          "metadata": {
            "tags": null
          },
          "name": "stderr",
          "output_type": "stream",
          "text": [
            " 28%|██▊       | 5715/20182 [1:11:21<3:19:50,  1.21it/s]"
          ]
        },
        {
          "metadata": {
            "tags": null
          },
          "name": "stdout",
          "output_type": "stream",
          "text": [
            "Got KeyError, skipping\n",
            "Error fetching the article: Verdensmesterskapet i ishockey\n"
          ]
        },
        {
          "metadata": {
            "tags": null
          },
          "name": "stderr",
          "output_type": "stream",
          "text": [
            " 28%|██▊       | 5722/20182 [1:11:28<4:13:55,  1.05s/it]"
          ]
        },
        {
          "metadata": {
            "tags": null
          },
          "name": "stdout",
          "output_type": "stream",
          "text": [
            "Got PageErrors, skipping\n",
            "Error fetching the article: Ishockey-VM 1954 for menn\n",
            "Got PageErrors, skipping\n",
            "Error fetching the article: Ishockey-VM 1955 for menn\n"
          ]
        },
        {
          "metadata": {
            "tags": null
          },
          "name": "stderr",
          "output_type": "stream",
          "text": [
            "\r 28%|██▊       | 5723/20182 [1:11:29<3:46:05,  1.07it/s]"
          ]
        },
        {
          "metadata": {
            "tags": null
          },
          "name": "stdout",
          "output_type": "stream",
          "text": [
            "Got PageErrors, skipping\n",
            "Error fetching the article: Ishockey-VM 1957 for menn\n"
          ]
        },
        {
          "metadata": {
            "tags": null
          },
          "name": "stderr",
          "output_type": "stream",
          "text": [
            "\r 28%|██▊       | 5724/20182 [1:11:30<3:57:38,  1.01it/s]"
          ]
        },
        {
          "metadata": {
            "tags": null
          },
          "name": "stdout",
          "output_type": "stream",
          "text": [
            "Got PageErrors, skipping\n",
            "Error fetching the article: Ishockey-VM 1961 for menn\n",
            "Got PageErrors, skipping\n",
            "Error fetching the article: Ishockey-VM 1963 for menn\n"
          ]
        },
        {
          "metadata": {
            "tags": null
          },
          "name": "stderr",
          "output_type": "stream",
          "text": [
            "\r 28%|██▊       | 5725/20182 [1:11:31<3:42:45,  1.08it/s]"
          ]
        },
        {
          "metadata": {
            "tags": null
          },
          "name": "stdout",
          "output_type": "stream",
          "text": [
            "Got PageErrors, skipping\n",
            "Error fetching the article: Ishockey-VM 1965 for menn\n"
          ]
        },
        {
          "metadata": {
            "tags": null
          },
          "name": "stderr",
          "output_type": "stream",
          "text": [
            "\r 28%|██▊       | 5726/20182 [1:11:32<3:28:31,  1.16it/s]"
          ]
        },
        {
          "metadata": {
            "tags": null
          },
          "name": "stdout",
          "output_type": "stream",
          "text": [
            "Got PageErrors, skipping\n",
            "Error fetching the article: Ishockey-VM 1949 for menn\n"
          ]
        },
        {
          "metadata": {
            "tags": null
          },
          "name": "stderr",
          "output_type": "stream",
          "text": [
            " 29%|██▊       | 5761/20182 [1:12:02<3:35:42,  1.11it/s]"
          ]
        },
        {
          "metadata": {
            "tags": null
          },
          "name": "stdout",
          "output_type": "stream",
          "text": [
            "Got PageErrors, skipping\n",
            "Error fetching the article: Ishockey-VM 1950 for menn\n"
          ]
        },
        {
          "metadata": {
            "tags": null
          },
          "name": "stderr",
          "output_type": "stream",
          "text": [
            " 29%|██▊       | 5779/20182 [1:12:20<3:25:27,  1.17it/s]"
          ]
        },
        {
          "metadata": {
            "tags": null
          },
          "name": "stdout",
          "output_type": "stream",
          "text": [
            "Got KeyError, skipping\n",
            "Error fetching the article: Olav Hagen\n"
          ]
        },
        {
          "metadata": {
            "tags": null
          },
          "name": "stderr",
          "output_type": "stream",
          "text": [
            " 29%|██▊       | 5784/20182 [1:12:26<4:28:23,  1.12s/it]"
          ]
        },
        {
          "metadata": {
            "tags": null
          },
          "name": "stdout",
          "output_type": "stream",
          "text": [
            "Got PageErrors, skipping\n",
            "Error fetching the article: Toppdivisjonen i ishockey-VM 2006 for menn\n"
          ]
        },
        {
          "metadata": {
            "tags": null
          },
          "name": "stderr",
          "output_type": "stream",
          "text": [
            " 29%|██▉       | 5828/20182 [1:13:08<3:09:06,  1.27it/s]"
          ]
        },
        {
          "metadata": {
            "tags": null
          },
          "name": "stdout",
          "output_type": "stream",
          "text": [
            "Got PageErrors, skipping\n",
            "Error fetching the article: Football League Championship 2004–2005\n",
            "Got PageErrors, skipping\n",
            "Error fetching the article: Football League One 2004–2005\n"
          ]
        },
        {
          "metadata": {
            "tags": null
          },
          "name": "stderr",
          "output_type": "stream",
          "text": [
            " 29%|██▉       | 5859/20182 [1:13:37<3:40:46,  1.08it/s]"
          ]
        },
        {
          "metadata": {
            "tags": null
          },
          "name": "stdout",
          "output_type": "stream",
          "text": [
            "Got PageErrors, skipping\n",
            "Error fetching the article: Ishockey-VM 2005 for menn\n"
          ]
        },
        {
          "metadata": {
            "tags": null
          },
          "name": "stderr",
          "output_type": "stream",
          "text": [
            " 29%|██▉       | 5888/20182 [1:14:06<4:17:50,  1.08s/it]"
          ]
        },
        {
          "metadata": {
            "tags": null
          },
          "name": "stdout",
          "output_type": "stream",
          "text": [
            "Got PageErrors, skipping\n",
            "Error fetching the article: Ishockey-VM 2004 for menn\n"
          ]
        },
        {
          "metadata": {
            "tags": null
          },
          "name": "stderr",
          "output_type": "stream",
          "text": [
            " 29%|██▉       | 5899/20182 [1:14:17<3:31:01,  1.13it/s]"
          ]
        },
        {
          "metadata": {
            "tags": null
          },
          "name": "stdout",
          "output_type": "stream",
          "text": [
            "Got PageErrors, skipping\n",
            "Error fetching the article: Ishockey-VM 2001 for menn\n"
          ]
        },
        {
          "metadata": {
            "tags": null
          },
          "name": "stderr",
          "output_type": "stream",
          "text": [
            " 30%|██▉       | 5956/20182 [1:15:11<3:55:39,  1.01it/s]"
          ]
        },
        {
          "metadata": {
            "tags": null
          },
          "name": "stdout",
          "output_type": "stream",
          "text": [
            "Got KeyError, skipping\n",
            "Error fetching the article: DG\n"
          ]
        },
        {
          "metadata": {
            "tags": null
          },
          "name": "stderr",
          "output_type": "stream",
          "text": [
            " 30%|██▉       | 5995/20182 [1:15:48<3:14:35,  1.22it/s]"
          ]
        },
        {
          "metadata": {
            "tags": null
          },
          "name": "stdout",
          "output_type": "stream",
          "text": [
            "Got PageErrors, skipping\n",
            "Error fetching the article: «Fancy»\n"
          ]
        },
        {
          "metadata": {
            "tags": null
          },
          "name": "stderr",
          "output_type": "stream",
          "text": [
            " 30%|███       | 6098/20182 [1:17:19<3:43:07,  1.05it/s]"
          ]
        },
        {
          "metadata": {
            "tags": null
          },
          "name": "stdout",
          "output_type": "stream",
          "text": [
            "Got PageErrors, skipping\n",
            "Error fetching the article: Opus (andre betydninger)\n"
          ]
        },
        {
          "metadata": {
            "tags": null
          },
          "name": "stderr",
          "output_type": "stream",
          "text": [
            " 31%|███       | 6191/20182 [1:18:45<4:14:07,  1.09s/it]"
          ]
        },
        {
          "metadata": {
            "tags": null
          },
          "name": "stdout",
          "output_type": "stream",
          "text": [
            "Got KeyError, skipping\n",
            "Error fetching the article: GN\n"
          ]
        },
        {
          "metadata": {
            "tags": null
          },
          "name": "stderr",
          "output_type": "stream",
          "text": [
            " 31%|███       | 6305/20182 [1:20:41<3:44:51,  1.03it/s]"
          ]
        },
        {
          "metadata": {
            "tags": null
          },
          "name": "stdout",
          "output_type": "stream",
          "text": [
            "Got KeyError, skipping\n",
            "Error fetching the article: N1\n"
          ]
        },
        {
          "metadata": {
            "tags": null
          },
          "name": "stderr",
          "output_type": "stream",
          "text": [
            " 32%|███▏      | 6422/20182 [1:22:42<3:49:40,  1.00s/it]"
          ]
        },
        {
          "metadata": {
            "tags": null
          },
          "name": "stdout",
          "output_type": "stream",
          "text": [
            "Got KeyError, skipping\n",
            "Error fetching the article: Bug\n"
          ]
        },
        {
          "metadata": {
            "tags": null
          },
          "name": "stderr",
          "output_type": "stream",
          "text": [
            " 33%|███▎      | 6751/20182 [1:27:54<4:05:18,  1.10s/it]"
          ]
        },
        {
          "metadata": {
            "tags": null
          },
          "name": "stdout",
          "output_type": "stream",
          "text": [
            "Got KeyError, skipping\n",
            "Error fetching the article: Stig Johansen (ishockeyspiller)\n"
          ]
        },
        {
          "metadata": {
            "tags": null
          },
          "name": "stderr",
          "output_type": "stream",
          "text": [
            " 34%|███▍      | 6896/20182 [1:30:08<3:35:30,  1.03it/s]"
          ]
        },
        {
          "metadata": {
            "tags": null
          },
          "name": "stdout",
          "output_type": "stream",
          "text": [
            "Got PageErrors, skipping\n",
            "Error fetching the article: Kendall County (Illinois)\n"
          ]
        },
        {
          "metadata": {
            "tags": null
          },
          "name": "stderr",
          "output_type": "stream",
          "text": [
            " 34%|███▍      | 6920/20182 [1:30:30<3:12:59,  1.15it/s]"
          ]
        },
        {
          "metadata": {
            "tags": null
          },
          "name": "stdout",
          "output_type": "stream",
          "text": [
            "Got PageErrors, skipping\n",
            "Error fetching the article: Bark (andre betydninger)\n"
          ]
        },
        {
          "metadata": {
            "tags": null
          },
          "name": "stderr",
          "output_type": "stream",
          "text": [
            " 35%|███▍      | 7029/20182 [1:32:29<4:47:22,  1.31s/it]"
          ]
        },
        {
          "metadata": {
            "tags": null
          },
          "name": "stdout",
          "output_type": "stream",
          "text": [
            "Got PageErrors, skipping\n",
            "Error fetching the article: Northern Rock All*Star Cup\n"
          ]
        },
        {
          "metadata": {
            "tags": null
          },
          "name": "stderr",
          "output_type": "stream",
          "text": [
            " 35%|███▍      | 7041/20182 [1:32:42<3:56:33,  1.08s/it]"
          ]
        },
        {
          "metadata": {
            "tags": null
          },
          "name": "stdout",
          "output_type": "stream",
          "text": [
            "Got KeyError, skipping\n",
            "Error fetching the article: Kvinneuniversitetet\n"
          ]
        },
        {
          "metadata": {
            "tags": null
          },
          "name": "stderr",
          "output_type": "stream",
          "text": [
            " 35%|███▌      | 7141/20182 [1:34:22<2:50:44,  1.27it/s]"
          ]
        },
        {
          "metadata": {
            "tags": null
          },
          "name": "stdout",
          "output_type": "stream",
          "text": [
            "Got KeyError, skipping\n",
            "Error fetching the article: VDS\n"
          ]
        },
        {
          "metadata": {
            "tags": null
          },
          "name": "stderr",
          "output_type": "stream",
          "text": [
            " 36%|███▋      | 7361/20182 [1:37:54<3:48:28,  1.07s/it]"
          ]
        },
        {
          "metadata": {
            "tags": null
          },
          "name": "stdout",
          "output_type": "stream",
          "text": [
            "Got KeyError, skipping\n",
            "Error fetching the article: Pantograf (andre betydninger)\n"
          ]
        },
        {
          "metadata": {
            "tags": null
          },
          "name": "stderr",
          "output_type": "stream",
          "text": [
            " 38%|███▊      | 7690/20182 [1:43:06<3:28:08,  1.00it/s]"
          ]
        },
        {
          "metadata": {
            "tags": null
          },
          "name": "stdout",
          "output_type": "stream",
          "text": [
            "Got PageErrors, skipping\n",
            "Error fetching the article: Kill Bill: Volume 1\n"
          ]
        },
        {
          "metadata": {
            "tags": null
          },
          "name": "stderr",
          "output_type": "stream",
          "text": [
            " 38%|███▊      | 7760/20182 [1:44:15<3:32:29,  1.03s/it]"
          ]
        },
        {
          "metadata": {
            "tags": null
          },
          "name": "stdout",
          "output_type": "stream",
          "text": [
            "Got PageErrors, skipping\n",
            "Error fetching the article: Saratoga (New York)\n"
          ]
        },
        {
          "metadata": {
            "tags": null
          },
          "name": "stderr",
          "output_type": "stream",
          "text": [
            " 39%|███▉      | 7853/20182 [1:45:43<2:42:32,  1.26it/s]"
          ]
        },
        {
          "metadata": {
            "tags": null
          },
          "name": "stdout",
          "output_type": "stream",
          "text": [
            "Got KeyError, skipping\n",
            "Error fetching the article: CL\n"
          ]
        },
        {
          "metadata": {
            "tags": null
          },
          "name": "stderr",
          "output_type": "stream",
          "text": [
            " 39%|███▉      | 7895/20182 [1:46:24<3:17:27,  1.04it/s]"
          ]
        },
        {
          "metadata": {
            "tags": null
          },
          "name": "stdout",
          "output_type": "stream",
          "text": [
            "Got KeyError, skipping\n",
            "Error fetching the article: .sd\n"
          ]
        },
        {
          "metadata": {
            "tags": null
          },
          "name": "stderr",
          "output_type": "stream",
          "text": [
            "\r 39%|███▉      | 7896/20182 [1:46:24<3:03:19,  1.12it/s]"
          ]
        },
        {
          "metadata": {
            "tags": null
          },
          "name": "stdout",
          "output_type": "stream",
          "text": [
            "Got KeyError, skipping\n",
            "Error fetching the article: .im\n"
          ]
        },
        {
          "metadata": {
            "tags": null
          },
          "name": "stderr",
          "output_type": "stream",
          "text": [
            "\r 39%|███▉      | 7897/20182 [1:46:25<2:49:31,  1.21it/s]"
          ]
        },
        {
          "metadata": {
            "tags": null
          },
          "name": "stdout",
          "output_type": "stream",
          "text": [
            "Got KeyError, skipping\n",
            "Error fetching the article: .cg\n"
          ]
        },
        {
          "output_type": "stream",
          "name": "stderr",
          "text": [
            " 40%|███▉      | 7993/20182 [1:48:10<4:24:23,  1.30s/it]"
          ]
        }
      ],
      "source": [
        "SPLIT = 1\n",
        "# nowiki_articles = nowiki_df[\"title\"]  # .values[:100]\n",
        "df_split = np.array_split(nowiki_df, 3)\n",
        "no_wiki_split = df_split[SPLIT-1]\n",
        "urls = []\n",
        "headlines = []\n",
        "articles = []\n",
        "ingresses = []\n",
        "categories = []\n",
        "abstracts = []\n",
        "\n",
        "# Split the list of URLs into batches\n",
        "\n",
        "batch_size = 10  # os.cpu_count() - 2\n",
        "num_cores = os.cpu_count() - 2\n",
        "\n",
        "\n",
        "def collect_article_data(name, depth=0):\n",
        "    try:\n",
        "        page = mediawikiapi.page(name)\n",
        "        title = page.title\n",
        "        url = page.url\n",
        "        content = page.content\n",
        "\n",
        "        categories = page.categories\n",
        "        summary = page.summary\n",
        "        # Some if-test to check if the page is a redirected page\n",
        "        # and if there is a valid hit\n",
        "        return title, url, content, summary, categories\n",
        "    except JSONDecodeError as e:\n",
        "        print(\"Got JSONDecodeError, skipping\")\n",
        "        print(f\"Error fetching the article: {name}\")\n",
        "        return name, None, None, None, None\n",
        "\n",
        "        time.sleep(random.random()*10)\n",
        "        if depth < 5:\n",
        "            return collect_article_data(name, depth=depth+1)\n",
        "        else:\n",
        "            print(\"Got JSONDecodeError, skipping\")\n",
        "            print(f\"Error fetching the article: {name}\")\n",
        "            return name, None, None, None, None\n",
        "\n",
        "    except KeyError as e:\n",
        "        print(\"Got KeyError, skipping\")\n",
        "\n",
        "        print(f\"Error fetching the article: {name}\")\n",
        "        return name, None, None, None, None\n",
        "\n",
        "    except PageError as e:\n",
        "        print(\"Got PageErrors, skipping\")\n",
        "\n",
        "        print(f\"Error fetching the article: {name}\")\n",
        "        return name, None, None, None, None\n",
        "\n",
        "    except ConnectionError as e:\n",
        "        print(\"Got PageErrors, skipping\")\n",
        "\n",
        "        print(f\"Error fetching the article: {name}\")\n",
        "        return name, None, None, None, None\n",
        "    except MediaWikiAPIException as e:\n",
        "        print(\"Got PageErrors, skipping\")\n",
        "\n",
        "        print(f\"Error fetching the article: {name}\")\n",
        "        return name, None, None, None, None\n",
        "\n",
        "\n",
        "def main():\n",
        "    # Split the list of URLs into batches\n",
        "    wiki_name_batches = [no_wiki_split.iloc[i:i + batch_size][[\"title\", \"url\", \"abstract\"]]\n",
        "                         for i in range(0, len(no_wiki_split), batch_size)]\n",
        "    # print(wiki_name_batches)\n",
        "\n",
        "    for url_batch in tqdm.tqdm(wiki_name_batches):\n",
        "\n",
        "        with concurrent.futures.ThreadPoolExecutor(max_workers=batch_size) as executor:\n",
        "            res = executor.map(collect_article_data,\n",
        "                               url_batch[\"title\"].values)\n",
        "            i = 0\n",
        "            for result in res:\n",
        "                \n",
        "                title, url, content, summary, category = result\n",
        "                urls.append(url)\n",
        "                articles.append(content)\n",
        "                ingresses.append(summary)\n",
        "                categories.append(category)\n",
        "                headlines.append(title)\n",
        "                abstracts.append(url_batch.iloc[i].abstract)\n",
        "                i += 1\n",
        "                \n",
        "        \"\"\"urls.append(url)\n",
        "        articles.append(content)\n",
        "        ingresses.append(summary)\n",
        "        categories.append(category)\n",
        "        headlines.append(title)\n",
        "        abstracts.append(url_batch.abstract.values)\n",
        "        \"\"\"\n",
        "\n",
        "        \n",
        "\n",
        "    date = dt.datetime.now().strftime(\"%Y-%m-%d\")\n",
        "\n",
        "    dates = [date for _ in range(len(urls))]\n",
        "    print(len(abstracts), print(len(urls)))\n",
        "\n",
        "    nowiki_collected_df = pd.DataFrame({\"url\": urls, \"date_scraped\": dates, \"headline\": headlines,\n",
        "                                        \"category\": categories, \"ingress\": ingresses, \"article\": articles, \"abstract\": abstracts})\n",
        "\n",
        "    print(nowiki_collected_df.shape)\n",
        "    nowiki_collected_df.to_csv(\n",
        "        \"nowiki_collection_abstracts.csv\", index_label=\"id\")\n",
        "    \n",
        "\n",
        "if __name__ == \"__main__\":\n",
        "    main()\n"
      ]
    },
    {
      "cell_type": "markdown",
      "source": [
        "# Ny del"
      ],
      "metadata": {
        "id": "ntXiMIvw6sA0"
      }
    },
    {
      "cell_type": "code",
      "source": [
        "df = pd.read_csv(\"nowiki_collection_abstracts.csv\", index_col=0)\n",
        "dataset = datasets.Dataset.from_pandas(df)\n",
        "dataset.push_to_hub(f\"jkorsvik/nowiki_abstract_second_scrape_split{SPLIT}\")"
      ],
      "metadata": {
        "id": "xc4wcocuzKBt"
      },
      "execution_count": null,
      "outputs": []
    },
    {
      "cell_type": "code",
      "source": [],
      "metadata": {
        "id": "hB8F7_cI468y"
      },
      "execution_count": null,
      "outputs": []
    }
  ]
}