{
 "cells": [
  {
   "cell_type": "code",
   "execution_count": 1,
   "metadata": {},
   "outputs": [],
   "source": [
    "import pandas as pd\n"
   ]
  },
  {
   "cell_type": "code",
   "execution_count": 11,
   "metadata": {},
   "outputs": [],
   "source": [
    "df = pd.read_csv(\"snl.csv\")"
   ]
  },
  {
   "cell_type": "code",
   "execution_count": 16,
   "metadata": {},
   "outputs": [
    {
     "data": {
      "text/plain": [
       "(9870, 7)"
      ]
     },
     "execution_count": 16,
     "metadata": {},
     "output_type": "execute_result"
    }
   ],
   "source": [
    "df.shape"
   ]
  },
  {
   "cell_type": "code",
   "execution_count": 15,
   "metadata": {},
   "outputs": [
    {
     "data": {
      "text/plain": [
       "'Utdanning og karriere Sverre Diesen har militær bakgrunn fra Kavaleriet, der han startet sin militære utdanning ved Befalsskolen for kavaleriet på Trandum (1969–1970). Han tok Krigsskolen (1976–1979) og Hærens stabsskole (1988); deretter britiske Staff College Camberley (1990). Han er også utdannet sivilingeniør fra Norges tekniske høgskole (NTH, 1979).Diesen tjenestegjorde først i Oppklaringseskadronen i Brigaden i Nord-Norge (1970–1971), deretter i HM Kongens Garde (1979–1980), og så i 1. bataljon i Worcestershire and Sherwood Foresters – i British Army of the Rhine (BAOR) i Tyskland (1980–1981). Tilbake i Brigaden i Nord-Norge tjenestegjorde Diesen i 2. bataljon; som jegertroppssjef (1982), dernest som geværkompanisjef (1982–1984), hvoretter han var beordret som instruktør ved Skyte- og vinterskolen for Infanteriet (1984–1986).I 1987 var Diesen som major prosjektoffiser ved Forsvarets forskningsinstitutt (FFI), dit han vendte tilbake i 1991–1992. Mellom de to oppholdene ved FFI tjenestegjorde han (1988–1989) som planoffiser i Hærstaben og Forsvarets overkommando (FO). I 1992–1993 var Diesen stabsoffiser ved Forsvarskommando Nord-Norge (FKN), før han i 1993–1994 var hovedlærer i taktikk ved Krigsskolen. I perioden 1994–1996 var Diesen beordret som sjef for HM Kongens Garde, deretter (1996–1998) som stabssjef i 6. divisjon.Forfremmet til brigader i 1998 ble Diesen beordret til tjeneste i Sentralstaben i FO, blant annet med ansvar for utarbeidelse av Forsvarsstudie 2000. I 2001 ble han beordret som sjef for Distriktskommando Nord-Norge (DKN), til han i 2002, forfremmet til generalmajor, tok over som landkommandør ved Fellesoperativt hovedkvarter (FOHK) på Jåttå. Som generalløytnant tiltrådte han i 2003 den nye funksjonen som militær assisterende departementsråd i Forsvarsdepartementet (FD).Fra 1. april 2005 til 1. oktober 2009 var Sverre Diesen Norges forsvarssjef. Han etterfulgte Sigurd Frisvold, og ble etterfulgt av Harald Sunde. Militærfaglig innflytelse Som etatsjef for Forsvaret og regjeringens fremste fagmilitære rådgiver la Sverre Diesen i 2007 fram Forsvarsstudie 2007 (FS 07), med sine vurderinger og anbefalinger, som en del av den ordinære langtidsplanprosessen i forsvarssektoren. I FS 07 la Diesen vekt på å vise de etter hans vurdering sterke begrensninger på utviklingen av Forsvarets operative evne som følge av den begrensede politiske vilje til å øke forsvarsbudsjettet, med ytterligere nedskjæringer i Forsvarets struktur som følge. Diesen gjorde det til en av sine hovedsaker å synliggjøre at det innen forsvarssektoren er en særskilt høy kostnadsvekst knyttet til anskaffelse av materiell som ikke er hensyntatt, og dermed ikke kompensert for, i forsvarsbudsjetteringen.Diesen anses for å ha hatt betydelig innflytelse på norsk militær tenking og planlegging, både som stabsoffiser og forsvarssjef, og som forsker tilknyttet FFI etter at han gikk av som forsvarssjef, så vel som en profilert samfunnsdebattant. Han har bidratt til og skrevet flere fagbøker, herunder Militær strategi (2000), Fornyelse eller forvitring (2011) og Strategi (redaktør, 2012). Les mer i Store norske leksikon Norsk forsvarshistorie Hæren'"
      ]
     },
     "execution_count": 15,
     "metadata": {},
     "output_type": "execute_result"
    }
   ],
   "source": [
    "df.iloc[0][\"article\"]"
   ]
  },
  {
   "cell_type": "code",
   "execution_count": 17,
   "metadata": {},
   "outputs": [
    {
     "data": {
      "text/plain": [
       "117"
      ]
     },
     "execution_count": 17,
     "metadata": {},
     "output_type": "execute_result"
    }
   ],
   "source": [
    "len(\"Internering er frihetsberøvelse som foretas av myndighetene overfor en person; ikke som straff, men i kontrolløyemed.\")"
   ]
  },
  {
   "cell_type": "code",
   "execution_count": 18,
   "metadata": {},
   "outputs": [],
   "source": [
    "from datasets import load_dataset"
   ]
  },
  {
   "cell_type": "code",
   "execution_count": 21,
   "metadata": {},
   "outputs": [],
   "source": [
    "ds = load_dataset(\"wikipedia\", language=\"no\", beam_runner='DirectRunner')"
   ]
  },
  {
   "cell_type": "code",
   "execution_count": null,
   "metadata": {},
   "outputs": [],
   "source": []
  }
 ],
 "metadata": {
  "kernelspec": {
   "display_name": "base",
   "language": "python",
   "name": "python3"
  },
  "language_info": {
   "codemirror_mode": {
    "name": "ipython",
    "version": 3
   },
   "file_extension": ".py",
   "mimetype": "text/x-python",
   "name": "python",
   "nbconvert_exporter": "python",
   "pygments_lexer": "ipython3",
   "version": "3.8.13"
  },
  "orig_nbformat": 4,
  "vscode": {
   "interpreter": {
    "hash": "64c454191da68aae78a1958feb08cae1f714f347888099e6a2df204eeb298eaa"
   }
  }
 },
 "nbformat": 4,
 "nbformat_minor": 2
}
