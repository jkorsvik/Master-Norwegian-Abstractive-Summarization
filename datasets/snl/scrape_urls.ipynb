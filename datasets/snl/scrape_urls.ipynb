{
 "cells": [
  {
   "cell_type": "code",
   "execution_count": 42,
   "metadata": {},
   "outputs": [],
   "source": [
    "import bs4\n",
    "import pandas as pd \n",
    "import requests\n",
    "\n",
    "import re"
   ]
  },
  {
   "cell_type": "code",
   "execution_count": 7,
   "metadata": {},
   "outputs": [],
   "source": [
    "urls_df = pd.read_csv(\"snl_valid_urls.csv\", index_col=0)"
   ]
  },
  {
   "cell_type": "code",
   "execution_count": 8,
   "metadata": {},
   "outputs": [
    {
     "data": {
      "text/html": [
       "<div>\n",
       "<style scoped>\n",
       "    .dataframe tbody tr th:only-of-type {\n",
       "        vertical-align: middle;\n",
       "    }\n",
       "\n",
       "    .dataframe tbody tr th {\n",
       "        vertical-align: top;\n",
       "    }\n",
       "\n",
       "    .dataframe thead th {\n",
       "        text-align: right;\n",
       "    }\n",
       "</style>\n",
       "<table border=\"1\" class=\"dataframe\">\n",
       "  <thead>\n",
       "    <tr style=\"text-align: right;\">\n",
       "      <th></th>\n",
       "      <th>url</th>\n",
       "    </tr>\n",
       "  </thead>\n",
       "  <tbody>\n",
       "    <tr>\n",
       "      <th>0</th>\n",
       "      <td>https://snl.no/ab-</td>\n",
       "    </tr>\n",
       "    <tr>\n",
       "      <th>1</th>\n",
       "      <td>https://snl.no/aberrasjon</td>\n",
       "    </tr>\n",
       "    <tr>\n",
       "      <th>2</th>\n",
       "      <td>https://snl.no/absolutt_risiko</td>\n",
       "    </tr>\n",
       "    <tr>\n",
       "      <th>3</th>\n",
       "      <td>https://snl.no/abstrakt_tenkning</td>\n",
       "    </tr>\n",
       "    <tr>\n",
       "      <th>4</th>\n",
       "      <td>https://snl.no/advarsel_-_arbeidsrett</td>\n",
       "    </tr>\n",
       "    <tr>\n",
       "      <th>...</th>\n",
       "      <td>...</td>\n",
       "    </tr>\n",
       "    <tr>\n",
       "      <th>168680</th>\n",
       "      <td>https://snl.no/ervervsmessig_utukt</td>\n",
       "    </tr>\n",
       "    <tr>\n",
       "      <th>168681</th>\n",
       "      <td>https://snl.no/Eskil_Ervik</td>\n",
       "    </tr>\n",
       "    <tr>\n",
       "      <th>168682</th>\n",
       "      <td>https://snl.no/Aarne_Adrian_Ervi</td>\n",
       "    </tr>\n",
       "    <tr>\n",
       "      <th>168683</th>\n",
       "      <td>https://snl.no/Erwin_fra_Steinbach</td>\n",
       "    </tr>\n",
       "    <tr>\n",
       "      <th>168684</th>\n",
       "      <td>https://snl.no/Erwinia</td>\n",
       "    </tr>\n",
       "  </tbody>\n",
       "</table>\n",
       "<p>168685 rows × 1 columns</p>\n",
       "</div>"
      ],
      "text/plain": [
       "                                          url\n",
       "0                          https://snl.no/ab-\n",
       "1                   https://snl.no/aberrasjon\n",
       "2              https://snl.no/absolutt_risiko\n",
       "3            https://snl.no/abstrakt_tenkning\n",
       "4       https://snl.no/advarsel_-_arbeidsrett\n",
       "...                                       ...\n",
       "168680     https://snl.no/ervervsmessig_utukt\n",
       "168681             https://snl.no/Eskil_Ervik\n",
       "168682       https://snl.no/Aarne_Adrian_Ervi\n",
       "168683     https://snl.no/Erwin_fra_Steinbach\n",
       "168684                 https://snl.no/Erwinia\n",
       "\n",
       "[168685 rows x 1 columns]"
      ]
     },
     "execution_count": 8,
     "metadata": {},
     "output_type": "execute_result"
    }
   ],
   "source": [
    "urls_df"
   ]
  },
  {
   "cell_type": "code",
   "execution_count": 11,
   "metadata": {},
   "outputs": [],
   "source": [
    "test_url = \"https://snl.no/algoritme\""
   ]
  },
  {
   "cell_type": "code",
   "execution_count": 20,
   "metadata": {},
   "outputs": [],
   "source": [
    "r = requests.get(test_url)\n",
    "\n",
    "if r.status_code != 200:\n",
    "    print(f\"{test_url} failed with status code {r.status_code}\")\n",
    "else:\n",
    "    site = bs4.BeautifulSoup(r.text)"
   ]
  },
  {
   "cell_type": "code",
   "execution_count": 126,
   "metadata": {},
   "outputs": [],
   "source": [
    "def get_headline(site):\n",
    "    return site.find(\"h1\", \"page-title__heading\").text.strip()\n",
    "\n",
    "def get_article_contents(site):\n",
    "    elements = site.find_all([\"div\", \"h2\"], class_=lambda c: c in [\"article-text article-text--snl\", \"l-article__subheading\"])\n",
    "\n",
    "    article = [element.text.strip().replace(\"\\n\", \" \") for element in elements]\n",
    "    return article\n",
    "\n",
    "def get_categories(site) -> str:\n",
    "    return \",\".join([category.text.strip() for category in site.findAll(\"li\", \"breadcrumbs__item\")])\n",
    "    "
   ]
  },
  {
   "cell_type": "code",
   "execution_count": 127,
   "metadata": {},
   "outputs": [
    {
     "data": {
      "text/plain": [
       "'Store norske leksikon,Teknologi og industri,IT,Algoritmer'"
      ]
     },
     "execution_count": 127,
     "metadata": {},
     "output_type": "execute_result"
    }
   ],
   "source": [
    "get_categories(site)"
   ]
  },
  {
   "cell_type": "code",
   "execution_count": null,
   "metadata": {},
   "outputs": [],
   "source": []
  }
 ],
 "metadata": {
  "kernelspec": {
   "display_name": "base",
   "language": "python",
   "name": "python3"
  },
  "language_info": {
   "codemirror_mode": {
    "name": "ipython",
    "version": 3
   },
   "file_extension": ".py",
   "mimetype": "text/x-python",
   "name": "python",
   "nbconvert_exporter": "python",
   "pygments_lexer": "ipython3",
   "version": "3.9.7"
  },
  "orig_nbformat": 4,
  "vscode": {
   "interpreter": {
    "hash": "a04d774ec6dd66fa00400d73094bbe48b7e9c0ab4d3570f000f89057270d3b4f"
   }
  }
 },
 "nbformat": 4,
 "nbformat_minor": 2
}
