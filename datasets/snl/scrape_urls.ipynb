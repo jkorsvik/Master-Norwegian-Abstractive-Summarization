{
 "cells": [
  {
   "cell_type": "code",
   "execution_count": null,
   "metadata": {},
   "outputs": [],
   "source": [
    "urls_df = pd.read_csv(r\"C:\\Users\\navjo\\Documents\\summarization_master\\datasets\\snl\\snl_valid_urls.csv\", index_col=0)\n",
    "\n",
    "urls = urls_df[\"url\"][:10].values"
   ]
  },
  {
   "cell_type": "code",
   "execution_count": 1,
   "metadata": {},
   "outputs": [
    {
     "name": "stderr",
     "output_type": "stream",
     "text": [
      "c:\\Users\\navjo\\miniconda3\\lib\\site-packages\\grequests.py:22: MonkeyPatchWarning: Monkey-patching ssl after ssl has already been imported may lead to errors, including RecursionError on Python 3.6. It may also silently lead to incorrect behaviour on Python 3.7. Please monkey-patch earlier. See https://github.com/gevent/gevent/issues/1016. Modules that had direct imports (NOT patched): ['urllib3.util (c:\\\\Users\\\\navjo\\\\miniconda3\\\\lib\\\\site-packages\\\\urllib3\\\\util\\\\__init__.py)', 'urllib3.util.ssl_ (c:\\\\Users\\\\navjo\\\\miniconda3\\\\lib\\\\site-packages\\\\urllib3\\\\util\\\\ssl_.py)']. \n",
      "  curious_george.patch_all(thread=False, select=False)\n",
      "c:\\Users\\navjo\\miniconda3\\lib\\site-packages\\gevent\\hub.py:161: UserWarning: libuv only supports millisecond timer resolution; all times less will be set to 1 ms\n",
      "  with loop.timer(seconds, ref=ref) as t:\n"
     ]
    }
   ],
   "source": [
    "import bs4\n",
    "import pandas as pd \n",
    "import requests\n",
    "\n",
    "import re\n",
    "import tqdm\n",
    "import datetime as dt\n",
    "\n",
    "import grequests"
   ]
  },
  {
   "cell_type": "code",
   "execution_count": 3,
   "metadata": {},
   "outputs": [
    {
     "name": "stderr",
     "output_type": "stream",
     "text": [
      "c:\\Users\\navjo\\miniconda3\\lib\\site-packages\\gevent\\hub.py:161: UserWarning: libuv only supports millisecond timer resolution; all times less will be set to 1 ms\n",
      "  with loop.timer(seconds, ref=ref) as t:\n"
     ]
    }
   ],
   "source": [
    "urls_df = pd.read_csv(\"snl_valid_urls.csv\", index_col=0)"
   ]
  },
  {
   "cell_type": "code",
   "execution_count": 4,
   "metadata": {},
   "outputs": [],
   "source": [
    "test_url = \"https://snl.no/algoritme\""
   ]
  },
  {
   "cell_type": "code",
   "execution_count": 5,
   "metadata": {},
   "outputs": [
    {
     "ename": "",
     "evalue": "",
     "output_type": "error",
     "traceback": [
      "\u001b[1;31mCanceled future for execute_request message before replies were done"
     ]
    },
    {
     "ename": "",
     "evalue": "",
     "output_type": "error",
     "traceback": [
      "\u001b[1;31mThe Kernel crashed while executing code in the the current cell or a previous cell. Please review the code in the cell(s) to identify a possible cause of the failure. Click <a href='https://aka.ms/vscodeJupyterKernelCrash'>here</a> for more info. View Jupyter <a href='command:jupyter.viewOutput'>log</a> for further details."
     ]
    }
   ],
   "source": [
    "r = requests.get(test_url)\n",
    "\n",
    "if r.status_code != 200:\n",
    "    print(f\"{test_url} failed with status code {r.status_code}\")\n",
    "else:\n",
    "    site = bs4.BeautifulSoup(r.text)"
   ]
  },
  {
   "cell_type": "code",
   "execution_count": 1,
   "metadata": {},
   "outputs": [],
   "source": [
    "def get_headline(site):\n",
    "    return site.find(\"h1\", \"page-title__heading\").text.strip()\n",
    "\n",
    "def get_article_contents(site):\n",
    "    elements = site.find_all([\"div\", \"h2\"], class_=lambda c: c in [\"article-text article-text--snl\", \"l-article__subheading\"])\n",
    "\n",
    "    article = [element.text.strip().replace(\"\\n\", \" \") for element in elements]\n",
    "    return article\n",
    "\n",
    "def get_categories(site) -> str:\n",
    "    return \",\".join([category.text.strip() for category in site.findAll(\"li\", \"breadcrumbs__item\")])\n",
    "\n",
    "    "
   ]
  },
  {
   "cell_type": "code",
   "execution_count": 4,
   "metadata": {},
   "outputs": [],
   "source": [
    "urls = urls_df[\"url\"][:100].values"
   ]
  },
  {
   "cell_type": "code",
   "execution_count": 5,
   "metadata": {},
   "outputs": [
    {
     "name": "stderr",
     "output_type": "stream",
     "text": [
      "  0%|          | 0/63 [00:00<?, ?it/s]"
     ]
    },
    {
     "ename": "",
     "evalue": "",
     "output_type": "error",
     "traceback": [
      "\u001b[1;31mCanceled future for execute_request message before replies were done"
     ]
    },
    {
     "ename": "",
     "evalue": "",
     "output_type": "error",
     "traceback": [
      "\u001b[1;31mThe Kernel crashed while executing code in the the current cell or a previous cell. Please review the code in the cell(s) to identify a possible cause of the failure. Click <a href='https://aka.ms/vscodeJupyterKernelCrash'>here</a> for more info. View Jupyter <a href='command:jupyter.viewOutput'>log</a> for further details."
     ]
    }
   ],
   "source": [
    "# Define the batch size\n",
    "batch_size = 16\n",
    "\n",
    "# Split the list of URLs into batches\n",
    "url_batches = [urls[i:i + batch_size] for i in range(0, len(urls), batch_size)]\n",
    "\n",
    "# Scraped websites list\n",
    "scraped_websites = []\n",
    "\n",
    "# Iterate over the batches of URLs\n",
    "for url_batch in tqdm.tqdm(url_batches):\n",
    "    # Make non-blocking requests using grequests\n",
    "    rs = (grequests.get(u) for u in url_batch)\n",
    "    responses = grequests.map(rs)\n",
    "\n",
    "    # Process the responses in chunks\n",
    "    for r in responses:\n",
    "        pass\n",
    "        #if r.status_code == 200:\n",
    "        #    scraped_websites.append(r.text)\n"
   ]
  },
  {
   "cell_type": "code",
   "execution_count": 213,
   "metadata": {},
   "outputs": [
    {
     "data": {
      "text/plain": [
       "'https://snl.no/ab-'"
      ]
     },
     "execution_count": 213,
     "metadata": {},
     "output_type": "execute_result"
    }
   ],
   "source": [
    "urls[0]"
   ]
  },
  {
   "cell_type": "code",
   "execution_count": null,
   "metadata": {},
   "outputs": [],
   "source": []
  },
  {
   "cell_type": "code",
   "execution_count": null,
   "metadata": {},
   "outputs": [],
   "source": []
  },
  {
   "cell_type": "code",
   "execution_count": 187,
   "metadata": {},
   "outputs": [
    {
     "name": "stderr",
     "output_type": "stream",
     "text": [
      "100%|██████████| 100/100 [00:32<00:00,  3.09it/s]\n"
     ]
    }
   ],
   "source": [
    "urls = []\n",
    "headlines = []\n",
    "articles = []\n",
    "ingresses = []\n",
    "categories = []\n",
    "\n",
    "for url in tqdm.tqdm(urls_df[\"url\"].values[-100:]):\n",
    "\n",
    "    r = requests.get(url)\n",
    "\n",
    "    if r.status_code != 200:\n",
    "        print(f\"{url} failed with status code {r.status_code}\")\n",
    "        continue\n",
    "    else:\n",
    "        site = bs4.BeautifulSoup(r.text)\n",
    "\n",
    "    content = get_article_contents(site)\n",
    "\n",
    "\n",
    "    try:\n",
    "        ingress, article = content[0], \" \".join(content[1:])\n",
    "    except Exception as e:\n",
    "        print(e)\n",
    "        print(f\"Ingress, article split failed for {url}\")\n",
    "\n",
    "    # Filter out short articles\n",
    "    #...\n",
    "\n",
    "    if len(ingress) < 150 or len(article) < 400:\n",
    "        continue\n",
    "\n",
    "    category = get_categories(site)\n",
    "    headline = get_headline(site)\n",
    "\n",
    "    urls.append(url)\n",
    "    articles.append(article)\n",
    "    ingresses.append(ingress)\n",
    "    categories.append(category)\n",
    "    headlines.append(headline)\n",
    "\n",
    "    \n",
    "\n",
    "date = dt.datetime.now().strftime(\"%Y-%m-%d\")\n",
    "\n",
    "dates = [date for _ in range(len(urls))]\n",
    "\n",
    "snl_df = pd.DataFrame({\"url\": urls, \"date_scraped\": dates, \"headline\": headlines, \"category\": categories, \"ingress\": ingresses, \"article\": articles})"
   ]
  },
  {
   "cell_type": "code",
   "execution_count": 188,
   "metadata": {},
   "outputs": [
    {
     "name": "stdout",
     "output_type": "stream",
     "text": [
      "185\n"
     ]
    }
   ],
   "source": [
    "print(len(\"Erwinia er en slekt av bakterier som er årsak til økonomisk viktige plantesykdommer. Mest kjent er Erwinia amylovora, pærebrann, og Erwinia carotovora, stengelråte og bløtråte på potet.\"))"
   ]
  },
  {
   "cell_type": "code",
   "execution_count": 189,
   "metadata": {},
   "outputs": [
    {
     "data": {
      "text/html": [
       "<div>\n",
       "<style scoped>\n",
       "    .dataframe tbody tr th:only-of-type {\n",
       "        vertical-align: middle;\n",
       "    }\n",
       "\n",
       "    .dataframe tbody tr th {\n",
       "        vertical-align: top;\n",
       "    }\n",
       "\n",
       "    .dataframe thead th {\n",
       "        text-align: right;\n",
       "    }\n",
       "</style>\n",
       "<table border=\"1\" class=\"dataframe\">\n",
       "  <thead>\n",
       "    <tr style=\"text-align: right;\">\n",
       "      <th></th>\n",
       "      <th>url</th>\n",
       "      <th>date_scraped</th>\n",
       "      <th>headline</th>\n",
       "      <th>category</th>\n",
       "      <th>ingress</th>\n",
       "      <th>article</th>\n",
       "    </tr>\n",
       "  </thead>\n",
       "  <tbody>\n",
       "    <tr>\n",
       "      <th>0</th>\n",
       "      <td>https://snl.no/erminer</td>\n",
       "      <td>2023-01-31</td>\n",
       "      <td>erminer</td>\n",
       "      <td>Store norske leksikon,Historie,Verdens histori...</td>\n",
       "      <td>Erminer var en en oldtysk stammegruppe. Ermine...</td>\n",
       "      <td>Erminernes symbolske figur Ermin sees i sagn f...</td>\n",
       "    </tr>\n",
       "    <tr>\n",
       "      <th>1</th>\n",
       "      <td>https://snl.no/Erna</td>\n",
       "      <td>2023-01-31</td>\n",
       "      <td>Erna</td>\n",
       "      <td>Store norske leksikon,Språk og litteratur,Språ...</td>\n",
       "      <td>Erna er eit kvinnenamn som er kortform av Erne...</td>\n",
       "      <td>Namnedag er 2. mars. Ernst har også namnedag d...</td>\n",
       "    </tr>\n",
       "    <tr>\n",
       "      <th>2</th>\n",
       "      <td>https://snl.no/Annie_Ernaux</td>\n",
       "      <td>2023-01-31</td>\n",
       "      <td>Annie Ernaux</td>\n",
       "      <td>Store norske leksikon,Språk og litteratur,Litt...</td>\n",
       "      <td>Annie Ernaux er en fransk forfatter som regnes...</td>\n",
       "      <td>Forfatterskap Ernaux' forfatterskap er preget ...</td>\n",
       "    </tr>\n",
       "    <tr>\n",
       "      <th>3</th>\n",
       "      <td>https://snl.no/Ernst_&amp;_Young</td>\n",
       "      <td>2023-01-31</td>\n",
       "      <td>Ernst &amp; Young</td>\n",
       "      <td>Store norske leksikon,Økonomi og næringsliv,Næ...</td>\n",
       "      <td>Ernst &amp; Young Global Limited, eller EY, er et ...</td>\n",
       "      <td>I 2020 hadde EY en omsetning på omtrent 37,2 m...</td>\n",
       "    </tr>\n",
       "    <tr>\n",
       "      <th>4</th>\n",
       "      <td>https://snl.no/Ernst_August_-_konge_av_Hannove...</td>\n",
       "      <td>2023-01-31</td>\n",
       "      <td>Ernst August\\n        \\n         (konge av Han...</td>\n",
       "      <td>Store norske leksikon,Historie,Verdens histori...</td>\n",
       "      <td>Ernst August var konge av Hannover fra 1837 ti...</td>\n",
       "      <td>Kurfyrstedømmet og kongedømmet Hannover var i ...</td>\n",
       "    </tr>\n",
       "    <tr>\n",
       "      <th>5</th>\n",
       "      <td>https://snl.no/Christian_Hansen_Ernst</td>\n",
       "      <td>2023-01-31</td>\n",
       "      <td>Christian Hansen Ernst</td>\n",
       "      <td>Store norske leksikon,Historie,Norsk og nordis...</td>\n",
       "      <td>Christian Hansen Ernst var en norsk postmester...</td>\n",
       "      <td>Ernst kom som barn i tjeneste hos Norges statt...</td>\n",
       "    </tr>\n",
       "    <tr>\n",
       "      <th>6</th>\n",
       "      <td>https://snl.no/Max_Ernst</td>\n",
       "      <td>2023-01-31</td>\n",
       "      <td>Max Ernst</td>\n",
       "      <td>Store norske leksikon,Kunst og estetikk,Bilden...</td>\n",
       "      <td>Max Ernst var en tysk-fransk maler, grafiker o...</td>\n",
       "      <td>Ernst bosatte seg i Paris i 1921, og deltok ve...</td>\n",
       "    </tr>\n",
       "    <tr>\n",
       "      <th>7</th>\n",
       "      <td>https://snl.no/Mensen_Ernst</td>\n",
       "      <td>2023-01-31</td>\n",
       "      <td>Mensen Ernst</td>\n",
       "      <td>Store norske leksikon,Sport og spill,Friidrett...</td>\n",
       "      <td>Mensen Ernst var en norsk distanseløper, oppri...</td>\n",
       "      <td>Under et forsøk på å krysse Afrika fra nord ti...</td>\n",
       "    </tr>\n",
       "    <tr>\n",
       "      <th>8</th>\n",
       "      <td>https://snl.no/Eros</td>\n",
       "      <td>2023-01-31</td>\n",
       "      <td>Eros</td>\n",
       "      <td>Store norske leksikon,Religion og filosofi,His...</td>\n",
       "      <td>Eros, kjærlighetens gud. I romersk mytologi er...</td>\n",
       "      <td>Eros kan fremstå som en selvstendig person med...</td>\n",
       "    </tr>\n",
       "    <tr>\n",
       "      <th>9</th>\n",
       "      <td>https://snl.no/Enterprise_resource_planning</td>\n",
       "      <td>2023-01-31</td>\n",
       "      <td>Enterprise resource planning</td>\n",
       "      <td>Store norske leksikon,Økonomi og næringsliv,Be...</td>\n",
       "      <td>Enterprise resource planning (ERP) er et begre...</td>\n",
       "      <td>Det er likevel slik at økonomiområdet normalt ...</td>\n",
       "    </tr>\n",
       "    <tr>\n",
       "      <th>10</th>\n",
       "      <td>https://snl.no/ERS_-_satellitter</td>\n",
       "      <td>2023-01-31</td>\n",
       "      <td>ERS\\n        \\n         (satellitter)</td>\n",
       "      <td>Store norske leksikon,Teknologi og industri,Ro...</td>\n",
       "      <td>ERS er to jordobservasjonssatellitter bygd og ...</td>\n",
       "      <td>ERS-1 ble skutt opp 17. juli 1991 og ERS-2 ble...</td>\n",
       "    </tr>\n",
       "    <tr>\n",
       "      <th>11</th>\n",
       "      <td>https://snl.no/Ersfjorden</td>\n",
       "      <td>2023-01-31</td>\n",
       "      <td>Ersfjorden</td>\n",
       "      <td>Store norske leksikon,Geografi,Norges geografi...</td>\n",
       "      <td>Ersfjorden er en fjord i Tromsø kommune i Trom...</td>\n",
       "      <td>Fjordsidene langs Ersfjorden er ubebodde; all ...</td>\n",
       "    </tr>\n",
       "    <tr>\n",
       "      <th>12</th>\n",
       "      <td>https://snl.no/Peter_Erskine</td>\n",
       "      <td>2023-01-31</td>\n",
       "      <td>Peter Erskine</td>\n",
       "      <td>Store norske leksikon,Kunst og estetikk,Musikk...</td>\n",
       "      <td>Peter Erskine, amerikansk jazzmusiker, trommes...</td>\n",
       "      <td>Erskine er en teknisk briljant og meget kreati...</td>\n",
       "    </tr>\n",
       "    <tr>\n",
       "      <th>13</th>\n",
       "      <td>https://snl.no/Ralph_Erskine</td>\n",
       "      <td>2023-01-31</td>\n",
       "      <td>Ralph Erskine</td>\n",
       "      <td>Store norske leksikon,Kunst og estetikk,Arkite...</td>\n",
       "      <td>Erskine var en britisk-svensk arkitekt, født i...</td>\n",
       "      <td>Under krigen tegnet og bygget han tradisjonell...</td>\n",
       "    </tr>\n",
       "    <tr>\n",
       "      <th>14</th>\n",
       "      <td>https://snl.no/Kristian_Sofus_August_Erslev</td>\n",
       "      <td>2023-01-31</td>\n",
       "      <td>Kristian Sofus August Erslev</td>\n",
       "      <td>Store norske leksikon,Historie,Historievitensk...</td>\n",
       "      <td>Kristian Sofus August Erslev var en dansk hist...</td>\n",
       "      <td>Erslev er en av de mest fremtredende danske hi...</td>\n",
       "    </tr>\n",
       "    <tr>\n",
       "      <th>15</th>\n",
       "      <td>https://snl.no/erstatning</td>\n",
       "      <td>2023-01-31</td>\n",
       "      <td>erstatning</td>\n",
       "      <td>Store norske leksikon,Jus,Formuerett,Erstatnin...</td>\n",
       "      <td>Erstatning er godtgjørelse (kompensasjon) i pe...</td>\n",
       "      <td>Det er gitt regler om betingelsene som må være...</td>\n",
       "    </tr>\n",
       "    <tr>\n",
       "      <th>16</th>\n",
       "      <td>https://snl.no/Erstatningsdirektoratet</td>\n",
       "      <td>2023-01-31</td>\n",
       "      <td>Erstatningsdirektoratet</td>\n",
       "      <td>Store norske leksikon,Historie,Norsk og nordis...</td>\n",
       "      <td>Erstatningsdirektoratet var et midlertidig dir...</td>\n",
       "      <td>Direktoratet hadde til oppgave å oppspore og s...</td>\n",
       "    </tr>\n",
       "    <tr>\n",
       "      <th>17</th>\n",
       "      <td>https://snl.no/ert</td>\n",
       "      <td>2023-01-31</td>\n",
       "      <td>ert</td>\n",
       "      <td>Store norske leksikon,Biologi,Planteriket,Dekk...</td>\n",
       "      <td>Ert er ei planteslekt i erteblomfamilien. Det ...</td>\n",
       "      <td>Hageerter har spelt ei sentral rolle i korleis...</td>\n",
       "    </tr>\n",
       "    <tr>\n",
       "      <th>18</th>\n",
       "      <td>https://snl.no/erteblomstfamilien</td>\n",
       "      <td>2023-01-31</td>\n",
       "      <td>erteblomstfamilien</td>\n",
       "      <td>Store norske leksikon,Biologi,Planteriket,Dekk...</td>\n",
       "      <td>Erteblomstfamilien er en av de største plantef...</td>\n",
       "      <td>Til erteblomstfamilien hører en lang rekke nyt...</td>\n",
       "    </tr>\n",
       "    <tr>\n",
       "      <th>19</th>\n",
       "      <td>https://snl.no/Erteb%C3%B8llekulturen</td>\n",
       "      <td>2023-01-31</td>\n",
       "      <td>Ertebøllekulturen</td>\n",
       "      <td>Store norske leksikon,Historie,Arkeologi,Europ...</td>\n",
       "      <td>Ertebøllekulturen er en arkeologisk kultur som...</td>\n",
       "      <td>Kulturen er kjent gjennom tallrike boplassfunn...</td>\n",
       "    </tr>\n",
       "    <tr>\n",
       "      <th>20</th>\n",
       "      <td>https://snl.no/ertevikke</td>\n",
       "      <td>2023-01-31</td>\n",
       "      <td>ertevikke</td>\n",
       "      <td>Store norske leksikon,Biologi,Planteriket,Dekk...</td>\n",
       "      <td>Ertevikke er en flerårig urt i vikkeslekta i e...</td>\n",
       "      <td>Beskrivelse Ertevikke er en mellom 1–2 m høy u...</td>\n",
       "    </tr>\n",
       "    <tr>\n",
       "      <th>21</th>\n",
       "      <td>https://snl.no/Gerhard_Ertl</td>\n",
       "      <td>2023-01-31</td>\n",
       "      <td>Gerhard Ertl</td>\n",
       "      <td>Store norske leksikon,Realfag,Kjemi,Kjemi,Kjem...</td>\n",
       "      <td>Gerhard Ertl er en tysk kjemiker. Han er særli...</td>\n",
       "      <td>Ertl tok doktorgrad i fysikalsk kjemi i ved de...</td>\n",
       "    </tr>\n",
       "    <tr>\n",
       "      <th>22</th>\n",
       "      <td>https://snl.no/Ertv%C3%A5gs%C3%B8ya</td>\n",
       "      <td>2023-01-31</td>\n",
       "      <td>Ertvågsøya</td>\n",
       "      <td>Store norske leksikon,Geografi,Norges geografi...</td>\n",
       "      <td>Ertvågsøya er den største av øyene i Aure komm...</td>\n",
       "      <td>Fra Gjerdevika, en arm av Edøyfjorden i nord, ...</td>\n",
       "    </tr>\n",
       "  </tbody>\n",
       "</table>\n",
       "</div>"
      ],
      "text/plain": [
       "                                                  url date_scraped  \\\n",
       "0                              https://snl.no/erminer   2023-01-31   \n",
       "1                                 https://snl.no/Erna   2023-01-31   \n",
       "2                         https://snl.no/Annie_Ernaux   2023-01-31   \n",
       "3                        https://snl.no/Ernst_&_Young   2023-01-31   \n",
       "4   https://snl.no/Ernst_August_-_konge_av_Hannove...   2023-01-31   \n",
       "5               https://snl.no/Christian_Hansen_Ernst   2023-01-31   \n",
       "6                            https://snl.no/Max_Ernst   2023-01-31   \n",
       "7                         https://snl.no/Mensen_Ernst   2023-01-31   \n",
       "8                                 https://snl.no/Eros   2023-01-31   \n",
       "9         https://snl.no/Enterprise_resource_planning   2023-01-31   \n",
       "10                   https://snl.no/ERS_-_satellitter   2023-01-31   \n",
       "11                          https://snl.no/Ersfjorden   2023-01-31   \n",
       "12                       https://snl.no/Peter_Erskine   2023-01-31   \n",
       "13                       https://snl.no/Ralph_Erskine   2023-01-31   \n",
       "14        https://snl.no/Kristian_Sofus_August_Erslev   2023-01-31   \n",
       "15                          https://snl.no/erstatning   2023-01-31   \n",
       "16             https://snl.no/Erstatningsdirektoratet   2023-01-31   \n",
       "17                                 https://snl.no/ert   2023-01-31   \n",
       "18                  https://snl.no/erteblomstfamilien   2023-01-31   \n",
       "19              https://snl.no/Erteb%C3%B8llekulturen   2023-01-31   \n",
       "20                           https://snl.no/ertevikke   2023-01-31   \n",
       "21                        https://snl.no/Gerhard_Ertl   2023-01-31   \n",
       "22                https://snl.no/Ertv%C3%A5gs%C3%B8ya   2023-01-31   \n",
       "\n",
       "                                             headline  \\\n",
       "0                                             erminer   \n",
       "1                                                Erna   \n",
       "2                                        Annie Ernaux   \n",
       "3                                       Ernst & Young   \n",
       "4   Ernst August\\n        \\n         (konge av Han...   \n",
       "5                              Christian Hansen Ernst   \n",
       "6                                           Max Ernst   \n",
       "7                                        Mensen Ernst   \n",
       "8                                                Eros   \n",
       "9                        Enterprise resource planning   \n",
       "10              ERS\\n        \\n         (satellitter)   \n",
       "11                                         Ersfjorden   \n",
       "12                                      Peter Erskine   \n",
       "13                                      Ralph Erskine   \n",
       "14                       Kristian Sofus August Erslev   \n",
       "15                                         erstatning   \n",
       "16                            Erstatningsdirektoratet   \n",
       "17                                                ert   \n",
       "18                                 erteblomstfamilien   \n",
       "19                                  Ertebøllekulturen   \n",
       "20                                          ertevikke   \n",
       "21                                       Gerhard Ertl   \n",
       "22                                         Ertvågsøya   \n",
       "\n",
       "                                             category  \\\n",
       "0   Store norske leksikon,Historie,Verdens histori...   \n",
       "1   Store norske leksikon,Språk og litteratur,Språ...   \n",
       "2   Store norske leksikon,Språk og litteratur,Litt...   \n",
       "3   Store norske leksikon,Økonomi og næringsliv,Næ...   \n",
       "4   Store norske leksikon,Historie,Verdens histori...   \n",
       "5   Store norske leksikon,Historie,Norsk og nordis...   \n",
       "6   Store norske leksikon,Kunst og estetikk,Bilden...   \n",
       "7   Store norske leksikon,Sport og spill,Friidrett...   \n",
       "8   Store norske leksikon,Religion og filosofi,His...   \n",
       "9   Store norske leksikon,Økonomi og næringsliv,Be...   \n",
       "10  Store norske leksikon,Teknologi og industri,Ro...   \n",
       "11  Store norske leksikon,Geografi,Norges geografi...   \n",
       "12  Store norske leksikon,Kunst og estetikk,Musikk...   \n",
       "13  Store norske leksikon,Kunst og estetikk,Arkite...   \n",
       "14  Store norske leksikon,Historie,Historievitensk...   \n",
       "15  Store norske leksikon,Jus,Formuerett,Erstatnin...   \n",
       "16  Store norske leksikon,Historie,Norsk og nordis...   \n",
       "17  Store norske leksikon,Biologi,Planteriket,Dekk...   \n",
       "18  Store norske leksikon,Biologi,Planteriket,Dekk...   \n",
       "19  Store norske leksikon,Historie,Arkeologi,Europ...   \n",
       "20  Store norske leksikon,Biologi,Planteriket,Dekk...   \n",
       "21  Store norske leksikon,Realfag,Kjemi,Kjemi,Kjem...   \n",
       "22  Store norske leksikon,Geografi,Norges geografi...   \n",
       "\n",
       "                                              ingress  \\\n",
       "0   Erminer var en en oldtysk stammegruppe. Ermine...   \n",
       "1   Erna er eit kvinnenamn som er kortform av Erne...   \n",
       "2   Annie Ernaux er en fransk forfatter som regnes...   \n",
       "3   Ernst & Young Global Limited, eller EY, er et ...   \n",
       "4   Ernst August var konge av Hannover fra 1837 ti...   \n",
       "5   Christian Hansen Ernst var en norsk postmester...   \n",
       "6   Max Ernst var en tysk-fransk maler, grafiker o...   \n",
       "7   Mensen Ernst var en norsk distanseløper, oppri...   \n",
       "8   Eros, kjærlighetens gud. I romersk mytologi er...   \n",
       "9   Enterprise resource planning (ERP) er et begre...   \n",
       "10  ERS er to jordobservasjonssatellitter bygd og ...   \n",
       "11  Ersfjorden er en fjord i Tromsø kommune i Trom...   \n",
       "12  Peter Erskine, amerikansk jazzmusiker, trommes...   \n",
       "13  Erskine var en britisk-svensk arkitekt, født i...   \n",
       "14  Kristian Sofus August Erslev var en dansk hist...   \n",
       "15  Erstatning er godtgjørelse (kompensasjon) i pe...   \n",
       "16  Erstatningsdirektoratet var et midlertidig dir...   \n",
       "17  Ert er ei planteslekt i erteblomfamilien. Det ...   \n",
       "18  Erteblomstfamilien er en av de største plantef...   \n",
       "19  Ertebøllekulturen er en arkeologisk kultur som...   \n",
       "20  Ertevikke er en flerårig urt i vikkeslekta i e...   \n",
       "21  Gerhard Ertl er en tysk kjemiker. Han er særli...   \n",
       "22  Ertvågsøya er den største av øyene i Aure komm...   \n",
       "\n",
       "                                              article  \n",
       "0   Erminernes symbolske figur Ermin sees i sagn f...  \n",
       "1   Namnedag er 2. mars. Ernst har også namnedag d...  \n",
       "2   Forfatterskap Ernaux' forfatterskap er preget ...  \n",
       "3   I 2020 hadde EY en omsetning på omtrent 37,2 m...  \n",
       "4   Kurfyrstedømmet og kongedømmet Hannover var i ...  \n",
       "5   Ernst kom som barn i tjeneste hos Norges statt...  \n",
       "6   Ernst bosatte seg i Paris i 1921, og deltok ve...  \n",
       "7   Under et forsøk på å krysse Afrika fra nord ti...  \n",
       "8   Eros kan fremstå som en selvstendig person med...  \n",
       "9   Det er likevel slik at økonomiområdet normalt ...  \n",
       "10  ERS-1 ble skutt opp 17. juli 1991 og ERS-2 ble...  \n",
       "11  Fjordsidene langs Ersfjorden er ubebodde; all ...  \n",
       "12  Erskine er en teknisk briljant og meget kreati...  \n",
       "13  Under krigen tegnet og bygget han tradisjonell...  \n",
       "14  Erslev er en av de mest fremtredende danske hi...  \n",
       "15  Det er gitt regler om betingelsene som må være...  \n",
       "16  Direktoratet hadde til oppgave å oppspore og s...  \n",
       "17  Hageerter har spelt ei sentral rolle i korleis...  \n",
       "18  Til erteblomstfamilien hører en lang rekke nyt...  \n",
       "19  Kulturen er kjent gjennom tallrike boplassfunn...  \n",
       "20  Beskrivelse Ertevikke er en mellom 1–2 m høy u...  \n",
       "21  Ertl tok doktorgrad i fysikalsk kjemi i ved de...  \n",
       "22  Fra Gjerdevika, en arm av Edøyfjorden i nord, ...  "
      ]
     },
     "execution_count": 189,
     "metadata": {},
     "output_type": "execute_result"
    }
   ],
   "source": [
    "snl_df"
   ]
  },
  {
   "cell_type": "code",
   "execution_count": 174,
   "metadata": {},
   "outputs": [
    {
     "data": {
      "text/plain": [
       "['2023-01-31']"
      ]
     },
     "execution_count": 174,
     "metadata": {},
     "output_type": "execute_result"
    }
   ],
   "source": [
    "dates"
   ]
  },
  {
   "cell_type": "code",
   "execution_count": 168,
   "metadata": {},
   "outputs": [
    {
     "data": {
      "text/plain": [
       "'2023-01-31'"
      ]
     },
     "execution_count": 168,
     "metadata": {},
     "output_type": "execute_result"
    }
   ],
   "source": []
  },
  {
   "cell_type": "code",
   "execution_count": null,
   "metadata": {},
   "outputs": [],
   "source": []
  }
 ],
 "metadata": {
  "kernelspec": {
   "display_name": "base",
   "language": "python",
   "name": "python3"
  },
  "language_info": {
   "codemirror_mode": {
    "name": "ipython",
    "version": 3
   },
   "file_extension": ".py",
   "mimetype": "text/x-python",
   "name": "python",
   "nbconvert_exporter": "python",
   "pygments_lexer": "ipython3",
   "version": "3.9.7"
  },
  "orig_nbformat": 4,
  "vscode": {
   "interpreter": {
    "hash": "a04d774ec6dd66fa00400d73094bbe48b7e9c0ab4d3570f000f89057270d3b4f"
   }
  }
 },
 "nbformat": 4,
 "nbformat_minor": 2
}
